{
 "cells": [
  {
   "cell_type": "markdown",
   "metadata": {},
   "source": [
    "# Calculating coordinates for hangers \n",
    "\n",
    "The goal of this notebook is to provide a method for calculating the coordinates of hanger placement, for automatic drilling.  \n",
    "\n",
    "We will base the example script on an IFC file of a ventilation system modelled in Magicad For Revit 2014.4, and parameters as given by a company using the drilling robot. \n",
    "\n",
    "We will be using the following file:\n",
    "\n",
    "> Ventilation file: 12A-AmbS-RIV-141223-1328-Ambulanse ventilasjon3.ifc\n",
    "\n",
    "Further we could extend the script by checking the corresponding Prefab file that holds the Hollow Core slabs that the hangers will be mounted in. There are rules in where one could drill a hole in a hollow core slab. This is an optional challenge. This is the file to be used for that:\n",
    "\n",
    "> Prefabrication file: 12A-Ambs-RIBprf-150508-1550.ifc\n",
    "\n",
    "The models are presented in the image below. \n",
    "![Image presenting the models](../../../images/models.png \"Visualization of models\")"
   ]
  },
  {
   "cell_type": "code",
   "execution_count": 1,
   "metadata": {},
   "outputs": [],
   "source": [
    "# Start by importing libraries \n",
    "import ifcopenshell\n",
    "# Open the file and store it in f_vent\n",
    "f_vent = ifcopenshell.open(\"models/12A-AmbS-RIV-141223-1328-Ambulanse ventilasjon3.ifc\")\n",
    "\n",
    "# We'll also be using numpy\n",
    "import numpy as np"
   ]
  },
  {
   "cell_type": "markdown",
   "metadata": {},
   "source": [
    "## Parameters provided by nLink\n",
    "\n",
    "Explanation of parameters are set to guide the calculation\n"
   ]
  },
  {
   "cell_type": "code",
   "execution_count": 2,
   "metadata": {},
   "outputs": [],
   "source": [
    "# Parameters\n",
    "\n",
    "# Category of elements to filter \n",
    "elem_type_to_filter = \"IfcFlowSegment\"\n",
    "# Minimum length (mm) without hanger \n",
    "min_len_without = 600 \n",
    "# Offset start and end of segment in mm \n",
    "offset = 100; \n",
    "# Minimum length (mm) with 1 hanger in center\n",
    "min_len_hanger_center = 500 \n",
    "# Max length (mm) with 1 hanger in center\n",
    "max_len_hanger_center = 1400\n",
    "# max length (mm) between hangers \n",
    "max_len_between = 2000\n",
    "\n",
    "# Min diametre (mm) for double hangers\n",
    "min_diam = 400;\n",
    "\n",
    "## Only horizontal elements are given hangers. "
   ]
  },
  {
   "cell_type": "code",
   "execution_count": 3,
   "metadata": {},
   "outputs": [
    {
     "name": "stdout",
     "output_type": "stream",
     "text": [
      "49\n"
     ]
    }
   ],
   "source": [
    "# Start by exploring the number of elements to filter out we have in the model (hint: elem_type_to_filter)\n",
    "# store it in the elems variable \n",
    "elems = f_vent.by_type(elem_type_to_filter)\n",
    "# print out the number of elements \n",
    "print(len(elems))"
   ]
  },
  {
   "cell_type": "markdown",
   "metadata": {},
   "source": [
    "### This script will depend on the representation of elemens\n",
    "\n",
    "The IfcFlowSegment is a IfcProduct, and thus it has both *ObjectPlacement* and *Representation* attributes. \n",
    "\n",
    "*ObjectPlacement* as described in 9.1.2 Concept of object placement of [IFC Implementers guide](https://standards.buildingsmart.org/documents/Implementation/IFC2x_Model_Implementation_Guide_V2-0b.pdf) is by default relative. This means that a IfcFlowSegment is relative to its IfcBuildingStorey. ObjectPlacement gives the \"object coordinate system\" from which its shape *Representation* is described. \n",
    "\n",
    "There are several ways of describing a shape of the products within IFC, as chapter 9 in the IFC Implementers guide describes. As seen below the IfcShapeRepresentation is of type \"MappedRepresentation\": \n",
    "\n",
    ">representation based on mapped item(s), referring to a representation map. Note: it can be seen as an inserted block reference. The shape representation of the mapped item has a representation type declaring the type of its representation items.\n",
    "\n",
    "In order to build robustness into this script for handeling all posible cases, you would need to check and verify that ObjectPlacement is relative and that the ShapeRepresentation is of MappedRepresentation. Further it would be needed to provide different logic depending on the checks. Eg. Different ShapeRepresentations would need different ways of deriving the neccessary information for calculating the coordinates for hangers. "
   ]
  },
  {
   "cell_type": "code",
   "execution_count": 4,
   "metadata": {},
   "outputs": [
    {
     "data": {
      "text/plain": [
       "#14162=IfcShapeRepresentation(#73351,'Body','MappedRepresentation',(#14160))"
      ]
     },
     "execution_count": 4,
     "metadata": {},
     "output_type": "execute_result"
    }
   ],
   "source": [
    "# The representation is of a MappedRepresentation type\n",
    "shape_rep=elems[2].Representation.Representations[0]\n",
    "shape_rep"
   ]
  },
  {
   "cell_type": "markdown",
   "metadata": {},
   "source": [
    "The shape representation that is mapped to all the elements is of type \"SweptSolid\":\n",
    "> \tswept area solids, by extrusion and revolution\n",
    "\n",
    "This shape repersentation holds a reference to representation items of type [IfcExtrudedAreaSolid](http://www.buildingsmart-tech.org/ifc/IFC2x3/TC1/html/ifcgeometricmodelresource/lexical/ifcextrudedareasolid.htm)\n",
    "\n",
    ">The extruded area solid (IfcExtrudedAreaSolid) is defined by sweeping a bounded planar surface. The direction of the extrusion is given by the ExtrudedDirection attribute and the length of the extrusion is given by the Depth attribute. If the planar area has inner boundaries, i.e. holes defined, then those holes shall be swept into holes of the solid.\n",
    "\n",
    "![Illustration](../../../images/illustration_ifcextrudedareasolid.png \"IfcExtrudedAreaSolid\")\n",
    "\n",
    "The following inheritance graph: \n",
    "\n",
    "![Illustration](../../../images/inheritance_graph.png \"Inheritance graph\")"
   ]
  },
  {
   "cell_type": "code",
   "execution_count": 6,
   "metadata": {},
   "outputs": [],
   "source": [
    "\"\"\" The following are helper functions that are created to help with some math and tests. If you test with another model, \n",
    "having other geometry or something it might need modification.\n",
    "\n",
    "Most of the code is matrix calulation to handle the relative coorination systems. \n",
    "Use the IFC documentation to help the understanding\"\"\"\n",
    "\n",
    "# Get position data on a a IfcAxis2Placement3D element \n",
    "# Code from Thomas Krijnen\n",
    "def a2p(o,z,x):\n",
    "    y = np.cross(z, x)\n",
    "    r = np.eye(4)\n",
    "    r[:-1,:-1] = x,y,z\n",
    "    r[-1,:-1] = o\n",
    "    return r.T\n",
    "# Code from Thomas Krijnen\n",
    "def axis2placement(plc):\n",
    "    z = np.array(plc.Axis.DirectionRatios if plc.Axis else (0,0,1))\n",
    "    x = np.array(plc.RefDirection.DirectionRatios if plc.RefDirection else (1,0,0))\n",
    "    o = plc.Location.Coordinates\n",
    "    return a2p(o,z,x)\n",
    "\n",
    "# Helper functions\n",
    "# Travers relative position till absolute, and return list of IfcAxis2Placement3D for respective elements\n",
    "def get_rel_structure(elem):\n",
    "    place = elem.ObjectPlacement\n",
    "    list_of_rel = []\n",
    "    while True:\n",
    "        if place.PlacementRelTo is None:\n",
    "            # if this location is absolutely placed in world coordinate system of geometric representation context\n",
    "            list_of_rel.append(place.RelativePlacement)\n",
    "            # prints out the object type that is being placed by current \"place\" variable\n",
    "            #print(place.PlacesObject[0].is_a())\n",
    "            break\n",
    "        else:\n",
    "            # if this location is stil relative to another location store, and continue traversal\n",
    "            list_of_rel.append(place.RelativePlacement)\n",
    "            # add the relative place to place for a new iteration. \n",
    "            place = place.PlacementRelTo\n",
    "    # returns a list of all the axis2placements hiearchically\n",
    "    return list_of_rel\n",
    "\n",
    "# Get the axis2placement3D from Representation for SwepSolid type ExtrudedAreaSolid item\n",
    "#Helper function to get the representation of an element that has a mapped representation\n",
    "def get_mapped_representation_of(elem):\n",
    "    shape_rep = [shape_rep for shape_rep in elem.Representation.Representations\n",
    "                 if shape_rep.RepresentationType==\"MappedRepresentation\"]\n",
    "    if shape_rep:\n",
    "        return shape_rep[0].Items[0].MappingSource.MappedRepresentation\n",
    "    else:\n",
    "        return None\n",
    "\n",
    "# Get Extruded area solid for a Mapped (or not Mapped) SweptSolid type of representation. \n",
    "def get_rep_a2p(elem):\n",
    "    mapped_rep = get_mapped_representation_of(elem)\n",
    "    if mapped_rep:\n",
    "        ss_rep =  mapped_rep if mapped_rep.RepresentationType=='SweptSolid'else None\n",
    "        rep_item = [repr_item for repr_item in ss_rep.Items if repr_item.is_a(\"IfcExtrudedAreaSolid\")][0]\n",
    "        return rep_item\n",
    "    else:\n",
    "        ss_rep = [representation for representation \n",
    "                           in elem.Representation.Representations \n",
    "                           if representation.RepresentationType=='SweptSolid'][0]\n",
    "        rep_item = [repr_item for repr_item in ss_rep.Items if repr_item.is_a(\"IfcExtrudedAreaSolid\")][0]\n",
    "        return rep_item\n",
    "        \n",
    "# Get a point expressed in a length from the representation coordinate system\n",
    "def get_point_along_extr(rep_item,length):\n",
    "    extr_dir = np.asarray(rep_item.ExtrudedDirection.DirectionRatios)\n",
    "    depth = rep_item.Depth\n",
    "    if float(length) <= depth:\n",
    "        return extr_dir*float(length)\n",
    "    else:\n",
    "        print (\"length out of range, element length is: \",depth)\n",
    "\n",
    "# Get absolute coordinates of a point on a given length from incertion point along the extrusion length of a element        \n",
    "def get_abs_coordinates_of_point_on_elem_by_len(elem,length):\n",
    "    rep_item = get_rep_a2p(elem)\n",
    "    pos=rep_item.Position\n",
    "    point = get_point_along_extr(rep_item,length)\n",
    "    structure = get_rel_structure(elem)\n",
    "    for i in range(len(structure)):\n",
    "        point = transform_to_parent_base(pos,point)\n",
    "        pos = structure[i]\n",
    "    return(point)\n",
    "\n",
    "# Transform a point in a coordinate system expressed in coordinate system it's relative to\n",
    "def transform_to_parent_base(a2p,point):\n",
    "    a2p = axis2placement(a2p)\n",
    "    M = a2p[:-1,:-1]\n",
    "    o = a2p[:-1,-1]\n",
    "    \n",
    "    return o + np.dot(M,point)\n",
    "\n",
    "# helper function to check if element is circular\n",
    "def is_circular(elem):\n",
    "    profile = get_rep_a2p(elem).SweptArea\n",
    "    if profile.is_a(\"IfcCircleHollowProfileDef\"):\n",
    "        return True\n",
    "    else:\n",
    "        return False\n",
    "    \n",
    "# Helper function to check if element is horizontal\n",
    "# Assumes rotation of element is handled between the relative rotation between ObjectPlacement and its parent\n",
    "# Assumes ref direction for horizontal tube have ortagonality with parent Z axis\n",
    "def is_horizontal(elem):\n",
    "    obj_a2p = axis2placement(elem.ObjectPlacement.RelativePlacement)[:-1,1]\n",
    "\n",
    "    parent_a2p = axis2placement(elem.ObjectPlacement.PlacementRelTo.RelativePlacement)[:-1,-2]\n",
    "\n",
    "    if np.dot(obj_a2p,parent_a2p) == 0:\n",
    "        return True\n",
    "    else:\n",
    "        return False\n",
    "\n",
    "# helper function to get radius of an element with a circular profil def\n",
    "def get_radius(elem):\n",
    "    if is_circular(elem):\n",
    "        return get_rep_a2p(elem).SweptArea.Radius\n",
    "    else:\n",
    "        return None\n",
    "\n",
    "# Get element length\n",
    "def get_length(elem):\n",
    "    return get_rep_a2p(elem).Depth\n",
    "def get_relating_storey(elem):\n",
    "    relatingStructure = elem.ContainedInStructure[0].RelatingStructure\n",
    "    if relatingStructure.is_a(\"IfcBuildingStorey\"):\n",
    "        return relatingStructure\n",
    "    else:\n",
    "        return \"Not directly confined in a storey\""
   ]
  },
  {
   "cell_type": "code",
   "execution_count": null,
   "metadata": {},
   "outputs": [],
   "source": [
    "## Feel free to use these cells to test out some of the functions "
   ]
  },
  {
   "cell_type": "code",
   "execution_count": null,
   "metadata": {},
   "outputs": [],
   "source": [
    "## Feel free to use these cells to test out some of the functions "
   ]
  },
  {
   "cell_type": "markdown",
   "metadata": {},
   "source": [
    "# Main Exercise\n",
    "Complete the exersice below. "
   ]
  },
  {
   "cell_type": "code",
   "execution_count": 7,
   "metadata": {},
   "outputs": [
    {
     "name": "stdout",
     "output_type": "stream",
     "text": [
      "Number of elemens: 38\n"
     ]
    }
   ],
   "source": [
    "# Filter away all non-horizontal elements, and chose only get circular ones, and store it in h_elems \n",
    "h_elems = [elem for elem in elems if is_horizontal(elem) and is_circular(elem)]\n",
    "# Do not change below - should read 38\n",
    "print(\"Number of elemens:\",len(h_elems))"
   ]
  },
  {
   "cell_type": "code",
   "execution_count": 8,
   "metadata": {},
   "outputs": [
    {
     "name": "stdout",
     "output_type": "stream",
     "text": [
      "Number of elemens: 14\n"
     ]
    }
   ],
   "source": [
    "# Filter away tubes less than min length, and store the rest in h_elems again\n",
    "h_elems = [elem for elem in h_elems if get_length(elem)>min_len_without]\n",
    "# Do not change below - should read 14\n",
    "print(\"Number of elemens:\",len(h_elems))"
   ]
  },
  {
   "cell_type": "code",
   "execution_count": 9,
   "metadata": {},
   "outputs": [
    {
     "name": "stdout",
     "output_type": "stream",
     "text": [
      "Number of elemens: 6\n"
     ]
    }
   ],
   "source": [
    "# Filter elements with hanger in center, and store them in ch_elems\n",
    "ch_elems = [elem for elem in h_elems if (get_length(elem)>=min_len_hanger_center and get_length(elem)<max_len_hanger_center)]\n",
    "\n",
    "# Do not change below: Should read 6\n",
    "print(\"Number of elemens:\",len(ch_elems))"
   ]
  },
  {
   "cell_type": "code",
   "execution_count": 11,
   "metadata": {},
   "outputs": [
    {
     "name": "stdout",
     "output_type": "stream",
     "text": [
      "827.0\n",
      "633.0\n",
      "1113.0\n",
      "675.0\n",
      "796.0\n",
      "773.0\n"
     ]
    }
   ],
   "source": [
    "# Loop through all ch_elems and print each elements length - should be 827.0, 633.0, 1113.0, 675.0, 796.0, 773.0\n",
    "for elem in ch_elems:\n",
    "    print(get_length(elem))"
   ]
  },
  {
   "cell_type": "code",
   "execution_count": 13,
   "metadata": {},
   "outputs": [
    {
     "name": "stdout",
     "output_type": "stream",
     "text": [
      "Number of elemens: 8\n"
     ]
    }
   ],
   "source": [
    "# Filter elemens of h_elems that needs hangers placed according to ofset and max hanger distance and store them in other_elems\n",
    "other_elems = [elem for elem in h_elems if get_length(elem)>= max_len_hanger_center]\n",
    "\n",
    "# Do not change below, should read 8 \n",
    "print(\"Number of elemens:\",len(other_elems))"
   ]
  },
  {
   "cell_type": "code",
   "execution_count": 15,
   "metadata": {},
   "outputs": [
    {
     "name": "stdout",
     "output_type": "stream",
     "text": [
      "1887.0\n",
      "2535.0\n",
      "6025.0\n",
      "1720.0\n",
      "2785.0\n",
      "4184.0\n",
      "2156.0\n",
      "4412.0\n"
     ]
    }
   ],
   "source": [
    "# Loop through all other_elems and print each elements length - should read 1887.0, 2535.0, 6025.0, 1720.0, 2785.0, \n",
    "# 4184.0, 2156.0, 4412.0\n",
    "\n",
    "for elem in other_elems:\n",
    "    print(get_length(elem))"
   ]
  },
  {
   "cell_type": "code",
   "execution_count": 17,
   "metadata": {},
   "outputs": [],
   "source": [
    "# routine for getting hanger data for a length measure along the element\n",
    "def get_data_row(elem,length):\n",
    "    row = []\n",
    "    row.append(get_relating_storey(elem).Name)\n",
    "    row.append(elem.GlobalId)\n",
    "    coords=get_abs_coordinates_of_point_on_elem_by_len(elem,length)\n",
    "    row.append(coords[0])\n",
    "    row.append(coords[1])\n",
    "    row.append(coords[2])\n",
    "    return row"
   ]
  },
  {
   "cell_type": "code",
   "execution_count": 19,
   "metadata": {},
   "outputs": [],
   "source": [
    "# get coordinates for elemens with hanger in center \n",
    "data = []\n",
    "for elem in ch_elems:\n",
    "    center = get_length(elem)/2\n",
    "    data.append(get_data_row(elem,center))\n",
    "# Set points according to max length between hangers.\n",
    "for elem in other_elems:\n",
    "    length = get_length(elem)\n",
    "    len_to_hang = offset\n",
    "    #first hanger point\n",
    "    data.append(get_data_row(elem,len_to_hang))\n",
    "    while (length-len_to_hang-offset) > max_len_between:\n",
    "        len_to_hang = len_to_hang + max_len_between\n",
    "        data.append(get_data_row(elem,len_to_hang))\n",
    "    \n",
    "    data.append(get_data_row(elem,length-offset))"
   ]
  },
  {
   "cell_type": "markdown",
   "metadata": {},
   "source": [
    "### Plot coordinates on xy plane "
   ]
  },
  {
   "cell_type": "markdown",
   "metadata": {
    "collapsed": true
   },
   "source": [
    "## Top view of RIV file\n",
    "![Image presenting the top view of riv](../../../images/top_view_riv.png \"Top View of RIV model\")\n"
   ]
  },
  {
   "cell_type": "code",
   "execution_count": 24,
   "metadata": {},
   "outputs": [
    {
     "data": {
      "image/png": "[encoded data removed]",
      "text/plain": [
       "<Figure size 432x288 with 1 Axes>"
      ]
     },
     "metadata": {},
     "output_type": "display_data"
    }
   ],
   "source": [
    "# Store data in pandas dataframe and plot in X Y plane\n",
    "# Don't change the below code. \n",
    "\n",
    "## Note; the fillowing line does some command line magic in notebook, to install the pandas module on the system. \n",
    "## Feel free to comment it out after you have run it ones. \n",
    "!pip install pandas\n",
    "import pandas as pd\n",
    "df = pd.DataFrame(data,columns = [\"Storey\",\"GUID\",\"X\",\"Y\",\"Z\"])\n",
    "import matplotlib.pyplot as plt\n",
    "plt.scatter(df[\"X\"],df[\"Y\"], marker='x')\n",
    "plt.show()"
   ]
  },
  {
   "cell_type": "code",
   "execution_count": 22,
   "metadata": {},
   "outputs": [
    {
     "data": {
      "text/html": [
       "<div>\n",
       "<style scoped>\n",
       "    .dataframe tbody tr th:only-of-type {\n",
       "        vertical-align: middle;\n",
       "    }\n",
       "\n",
       "    .dataframe tbody tr th {\n",
       "        vertical-align: top;\n",
       "    }\n",
       "\n",
       "    .dataframe thead th {\n",
       "        text-align: right;\n",
       "    }\n",
       "</style>\n",
       "<table border=\"1\" class=\"dataframe\">\n",
       "  <thead>\n",
       "    <tr style=\"text-align: right;\">\n",
       "      <th></th>\n",
       "      <th>Storey</th>\n",
       "      <th>GUID</th>\n",
       "      <th>X</th>\n",
       "      <th>Y</th>\n",
       "      <th>Z</th>\n",
       "    </tr>\n",
       "  </thead>\n",
       "  <tbody>\n",
       "    <tr>\n",
       "      <th>0</th>\n",
       "      <td>1. etasje</td>\n",
       "      <td>3sCDLgQfXDPwrpyDWCLpeV</td>\n",
       "      <td>17482.19060</td>\n",
       "      <td>18428.032050</td>\n",
       "      <td>3335.000000</td>\n",
       "    </tr>\n",
       "    <tr>\n",
       "      <th>1</th>\n",
       "      <td>1. etasje</td>\n",
       "      <td>25xF2VUGb41AoUT9DWpblJ</td>\n",
       "      <td>17560.50267</td>\n",
       "      <td>24810.343250</td>\n",
       "      <td>2500.000000</td>\n",
       "    </tr>\n",
       "    <tr>\n",
       "      <th>2</th>\n",
       "      <td>1. etasje</td>\n",
       "      <td>25xF2VUGb41AoUT9DWpcO_</td>\n",
       "      <td>17560.50267</td>\n",
       "      <td>23987.201114</td>\n",
       "      <td>2940.367966</td>\n",
       "    </tr>\n",
       "    <tr>\n",
       "      <th>3</th>\n",
       "      <td>1. etasje</td>\n",
       "      <td>25xF2VUGb41AoUT9DWpcP8</td>\n",
       "      <td>17338.69060</td>\n",
       "      <td>23700.207330</td>\n",
       "      <td>2837.500000</td>\n",
       "    </tr>\n",
       "    <tr>\n",
       "      <th>4</th>\n",
       "      <td>1. etasje</td>\n",
       "      <td>25xF2VUGb41AoUT9DWpd2e</td>\n",
       "      <td>16668.69060</td>\n",
       "      <td>23232.017060</td>\n",
       "      <td>3335.000000</td>\n",
       "    </tr>\n",
       "  </tbody>\n",
       "</table>\n",
       "</div>"
      ],
      "text/plain": [
       "      Storey                    GUID            X             Y            Z\n",
       "0  1. etasje  3sCDLgQfXDPwrpyDWCLpeV  17482.19060  18428.032050  3335.000000\n",
       "1  1. etasje  25xF2VUGb41AoUT9DWpblJ  17560.50267  24810.343250  2500.000000\n",
       "2  1. etasje  25xF2VUGb41AoUT9DWpcO_  17560.50267  23987.201114  2940.367966\n",
       "3  1. etasje  25xF2VUGb41AoUT9DWpcP8  17338.69060  23700.207330  2837.500000\n",
       "4  1. etasje  25xF2VUGb41AoUT9DWpd2e  16668.69060  23232.017060  3335.000000"
      ]
     },
     "execution_count": 22,
     "metadata": {},
     "output_type": "execute_result"
    }
   ],
   "source": [
    "# Run this cell to look at the first 5 rows of the data frame. \n",
    "df.head()"
   ]
  },
  {
   "cell_type": "code",
   "execution_count": 23,
   "metadata": {},
   "outputs": [],
   "source": [
    "# Google pandas to csv and use what you find to store the data as a csv file\n",
    "\n",
    "df.to_csv(\"hanger_coordinates.csv\")"
   ]
  },
  {
   "cell_type": "markdown",
   "metadata": {},
   "source": [
    "# Get allowed area for drilling in hollow core slab\n",
    "\n",
    "the optional section starts here ;-) "
   ]
  },
  {
   "cell_type": "code",
   "execution_count": null,
   "metadata": {
    "collapsed": true
   },
   "outputs": [],
   "source": [
    "### Start by asking me for a file, or use your own ;-) "
   ]
  },
  {
   "cell_type": "code",
   "execution_count": null,
   "metadata": {
    "collapsed": true
   },
   "outputs": [],
   "source": []
  },
  {
   "cell_type": "code",
   "execution_count": null,
   "metadata": {
    "collapsed": true
   },
   "outputs": [],
   "source": []
  }
 ],
 "metadata": {
  "kernelspec": {
   "display_name": "Python 3",
   "language": "python",
   "name": "python3"
  },
  "language_info": {
   "codemirror_mode": {
    "name": "ipython",
    "version": 3
   },
   "file_extension": ".py",
   "mimetype": "text/x-python",
   "name": "python",
   "nbconvert_exporter": "python",
   "pygments_lexer": "ipython3",
   "version": "3.6.9"
  }
 },
 "nbformat": 4,
 "nbformat_minor": 2
}

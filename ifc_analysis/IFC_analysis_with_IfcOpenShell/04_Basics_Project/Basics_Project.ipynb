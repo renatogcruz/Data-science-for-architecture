{
 "cells": [
  {
   "cell_type": "markdown",
   "metadata": {},
   "source": [
    "# This is a project for using the basic functionality of ifcopenshell\n",
    "\n",
    "Main Challenge: \n",
    "**Filter out all load bearing walls and visualize them**\n",
    "\n",
    "Optional:\n",
    "**Pull other properties and dump it to a csv file.**\n",
    "\n",
    "Main Challenge help: \n",
    "* A prerequisit for this challenge is the **01 Basic Introduction to Python for use with BIM notebook**\n",
    "* The **02 Basics with ifcopenshell notebook** might also be of use. \n",
    "\n",
    "And like always in programming there is **google** and especially for opensource community work, like with ifcopenshell, you could ask the community on github. \n",
    "\n",
    "Note: In all cells below. Add code after the comments. "
   ]
  },
  {
   "cell_type": "code",
   "execution_count": 5,
   "metadata": {},
   "outputs": [],
   "source": [
    "# Importing relevant modules\n",
    "\n"
   ]
  },
  {
   "cell_type": "markdown",
   "metadata": {},
   "source": [
    "## Main Challenge\n",
    "\n",
    "### Create a function to get loarbaring walls and use it to get a list of loadbaring walls"
   ]
  },
  {
   "cell_type": "code",
   "execution_count": 4,
   "metadata": {},
   "outputs": [],
   "source": [
    "# Create a function that takes in a tuple of IfcWall objects and returns the ones that are loadbaring in a list\n",
    "# Use the \".\" operator to travers and get its property sets. It is useful to check the buildingSMART documentation on IfcWall\n",
    "# Note: if you have a property in a variable p, then p.NominalValue.wrappedValue will give you the value.\n",
    "\n",
    "\n",
    "\n",
    "\n"
   ]
  },
  {
   "cell_type": "code",
   "execution_count": 1,
   "metadata": {},
   "outputs": [
    {
     "data": {
      "text/plain": [
       "' Fill in '"
      ]
     },
     "execution_count": 1,
     "metadata": {},
     "output_type": "execute_result"
    }
   ],
   "source": [
    "# Start with importing your chosen model. Store it in a variable. \n",
    "\n",
    "\n",
    "# Get a list of all walls and store it in a variable. \n",
    "\n",
    "\n",
    "# Use the function you have created, giving it the variable having the walls and store the result in another variable. \n",
    "\n"
   ]
  },
  {
   "cell_type": "markdown",
   "metadata": {},
   "source": [
    "### Visualize \n",
    "\n",
    "Use some additional modules, like ```ifc_viewer``` to visualize the loadbaring walls below. "
   ]
  },
  {
   "cell_type": "code",
   "execution_count": 6,
   "metadata": {},
   "outputs": [],
   "source": [
    "## Set the proper geometry settings \n",
    "\n",
    "\n",
    "## Create a viewer object\n",
    "\n",
    "\n",
    "## Run trhough the loarbaring walls and create shapes and add that to the viewer object using the DisplayShape function. \n",
    "    \n",
    "\n",
    "## Have the viewer display inline using the Display() function.\n",
    "\n"
   ]
  },
  {
   "cell_type": "code",
   "execution_count": null,
   "metadata": {},
   "outputs": [],
   "source": []
  }
 ],
 "metadata": {
  "kernelspec": {
   "display_name": "Python 3",
   "language": "python",
   "name": "python3"
  },
  "language_info": {
   "codemirror_mode": {
    "name": "ipython",
    "version": 3
   },
   "file_extension": ".py",
   "mimetype": "text/x-python",
   "name": "python",
   "nbconvert_exporter": "python",
   "pygments_lexer": "ipython3",
   "version": "3.6.2"
  }
 },
 "nbformat": 4,
 "nbformat_minor": 2
}

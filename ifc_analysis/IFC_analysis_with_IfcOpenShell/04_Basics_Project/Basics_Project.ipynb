{
 "cells": [
  {
   "cell_type": "markdown",
   "metadata": {},
   "source": [
    "# Este é um projeto para usar a funcionalidade básica do ifcopenshell\n",
    "\n",
    "Desafio Principal:\n",
    "\n",
    "**Filtre todas as paredes de suporte de carga e visualize-as**\n",
    "\n",
    "Opcional:\n",
    "**Extraia outras propriedades e despeje em um arquivo csv.**\n",
    "\n",
    "Ajuda do desafio principal:\n",
    "\n",
    "* Um pré-requisito para este desafio é a **01 Introdução básica ao Python para uso com notebook BIM**\n",
    "* O **02 Basics with ifcopenshell notebook** também pode ser útil.\n",
    "\n",
    "E como sempre na programação existe o **google** e especialmente para o trabalho da comunidade de código aberto, como com ifcopenshell, você pode perguntar à comunidade no github.\n"
   ]
  },
  {
   "cell_type": "code",
   "execution_count": 1,
   "metadata": {},
   "outputs": [],
   "source": [
    "# importando bibliotecas/modulos importantes\n",
    "\n",
    "import ifcopenshell\n",
    "import ifcopenshell.geom\n",
    "from ifc_viewer import ifc_viewer"
   ]
  },
  {
   "cell_type": "markdown",
   "metadata": {},
   "source": [
    "## Desafio Principal\n",
    "\n",
    "### Crie uma função para obter paredes de suspensão e use-a para obter uma lista de loadbaring walls"
   ]
  },
  {
   "cell_type": "code",
   "execution_count": 2,
   "metadata": {},
   "outputs": [],
   "source": [
    "# Cria uma função que recebe uma tupla de objetos IfcWall e retorna aqueles que estão carregando em uma lista\n",
    "# Use o \".\" operador para atravessar e obter seus conjuntos de propriedades. É útil verificar a documentação buildingSMART em IfcWall\n",
    "# Observação: se você tiver uma propriedade em uma variável p, então p.NominalValue.wrappedValue fornecerá o valor.\n",
    "\n",
    "def get_load_bearing(walls):\n",
    "    def is_load_bearing(pset_wall_common):\n",
    "        props = pset_wall_common.HasProperties\n",
    "        for p in props:\n",
    "            if p.Name ==\"LoadBearing\":\n",
    "                return p.NominalValue.wrappedValue\n",
    "    \n",
    "    # Dica profissional de Thomas Krijens: em vez de anexar a uma lista, você pode considerar o uso de uma \n",
    "    # declaração de rendimento\n",
    "    lb_walls = []\n",
    "    for wall in walls:\n",
    "        psets = [rel.RelatingPropertyDefinition for rel in wall.IsDefinedBy if rel.is_a(\"IfcRelDefinesByProperties\")]\n",
    "        pset_wall_commons = [pset for pset in psets if pset.Name == \"Pset_WallCommon\"]\n",
    "        if len(pset_wall_commons) != 0:\n",
    "            if is_load_bearing(pset_wall_commons[0]):\n",
    "                lb_walls.append(wall)\n",
    "        else:\n",
    "            print(f\"O Wall {wall.Name} NÃO TEM Pset_WallCommon!!\")\n",
    "            \n",
    "    return lb_walls"
   ]
  },
  {
   "cell_type": "code",
   "execution_count": 3,
   "metadata": {},
   "outputs": [],
   "source": [
    "# Comece importando o modelo escolhido. Armazene-o em uma variável.\n",
    "\n",
    "file = ifcopenshell.open(\"Grethes-hus-bok-2.ifc\")"
   ]
  },
  {
   "cell_type": "code",
   "execution_count": 4,
   "metadata": {},
   "outputs": [],
   "source": [
    "# Obtenha uma lista de todas as paredes e armazene-a em uma variável. \n",
    "\n",
    "walls = file.by_type(\"IfcWall\")\n",
    "#print(walls) "
   ]
  },
  {
   "cell_type": "code",
   "execution_count": 7,
   "metadata": {},
   "outputs": [
    {
     "data": {
      "text/plain": [
       "24"
      ]
     },
     "execution_count": 7,
     "metadata": {},
     "output_type": "execute_result"
    }
   ],
   "source": [
    "# Observando quantos elementos Walls há no modelo IFC\n",
    "\n",
    "len(walls)"
   ]
  },
  {
   "cell_type": "code",
   "execution_count": 5,
   "metadata": {},
   "outputs": [],
   "source": [
    "# Use a função que você criou, dando-lhe a variável que tem as paredes e armazene o resultado em outra variável.\n",
    "\n",
    "load_bearing_walls = get_load_bearing(walls)"
   ]
  },
  {
   "cell_type": "code",
   "execution_count": 11,
   "metadata": {},
   "outputs": [
    {
     "name": "stdout",
     "output_type": "stream",
     "text": [
      "Há 16 elementos na <class 'list'> load_bearing_walls\n"
     ]
    }
   ],
   "source": [
    "# Verificando o tipode de dados\n",
    "tipo = type(load_bearing_walls)\n",
    "tamanho = len(load_bearing_walls)\n",
    "\n",
    "print(f\"Há {tamanho} elementos na {tipo} load_bearing_walls\")"
   ]
  },
  {
   "cell_type": "markdown",
   "metadata": {},
   "source": [
    "### Visualizar\n",
    "\n",
    "Use alguns módulos adicionais, como ```ifc_viewer``` para visualizar as paredes de barra de carregamento abaixo."
   ]
  },
  {
   "cell_type": "code",
   "execution_count": 12,
   "metadata": {},
   "outputs": [
    {
     "data": {
      "application/vnd.jupyter.widget-view+json": {
       "model_id": "88cd9986b096444eab1489be798cdf5d",
       "version_major": 2,
       "version_minor": 0
      },
      "text/plain": [
       "HBox(children=(VBox(children=(HBox(children=(Checkbox(value=True, description='Axes', layout=Layout(height='au…"
      ]
     },
     "metadata": {},
     "output_type": "display_data"
    }
   ],
   "source": [
    "## Defina as configurações de geometria adequadas\n",
    "s = ifcopenshell.geom.settings()\n",
    "s.set(s.USE_PYTHON_OPENCASCADE, True)\n",
    "\n",
    "## Crie um objeto visualizador\n",
    "viewer = ifc_viewer()\n",
    "\n",
    "## Corra pelas paredes da barbearia e crie formas e adicione-as ao objeto visualizador usando a função DisplayShape. \n",
    "for wall in load_bearing_walls:\n",
    "    shape = ifcopenshell.geom.create_shape(s, wall)\n",
    "    viewer.DisplayShape(wall, shape.geometry, shape.styles)    \n",
    "\n",
    "## Faça com que o visualizador exiba em linha usando a função Display ().\n",
    "viewer.Display()\n"
   ]
  },
  {
   "cell_type": "markdown",
   "metadata": {},
   "source": [
    "## Opcional: Puxe as propriedades e despeje-as em um arquivo csv."
   ]
  },
  {
   "cell_type": "code",
   "execution_count": 14,
   "metadata": {},
   "outputs": [
    {
     "name": "stdout",
     "output_type": "stream",
     "text": [
      "Há 24 walls neste modelo\n"
     ]
    }
   ],
   "source": [
    "# obter referência a todos os objetos no arquivo que são do tipo \"IfcWall\"\n",
    "\n",
    "walls = file.by_type(\"IfcWall\")\n",
    "\n",
    "print(f\"Há {len(walls)} walls neste modelo\")"
   ]
  },
  {
   "cell_type": "code",
   "execution_count": 15,
   "metadata": {},
   "outputs": [
    {
     "name": "stdout",
     "output_type": "stream",
     "text": [
      "\n",
      "    Name:\t\t Basic Wall:Generic - 200mm:345653\n",
      "    Description: None\t\t\n",
      "    GUID: 1xzRHg5wPCVvg4uLjqox1I\n",
      "\n",
      "    Name:\t\t Basic Wall:Generic - 225mm Masonry:347110\n",
      "    Description: None\t\t\n",
      "    GUID: 1Yzg4cwif7gQ2Hvbubk5cs\n",
      "\n",
      "    Name:\t\t Basic Wall:Generic - 225mm Masonry:347115\n",
      "    Description: None\t\t\n",
      "    GUID: 1Yzg4cwif7gQ2Hvbubk5cx\n",
      "\n",
      "    Name:\t\t Basic Wall:Generic - 225mm Masonry:347120\n",
      "    Description: None\t\t\n",
      "    GUID: 1Yzg4cwif7gQ2Hvbubk5cW\n",
      "\n",
      "    Name:\t\t Basic Wall:Generic - 225mm Masonry:347132\n",
      "    Description: None\t\t\n",
      "    GUID: 1Yzg4cwif7gQ2Hvbubk5ci\n",
      "\n",
      "    Name:\t\t Basic Wall:Generic - 225mm Masonry:347296\n",
      "    Description: None\t\t\n",
      "    GUID: 1Yzg4cwif7gQ2Hvbubk5xm\n",
      "\n",
      "    Name:\t\t Basic Wall:Generic - 225mm Masonry:347303\n",
      "    Description: None\t\t\n",
      "    GUID: 1Yzg4cwif7gQ2Hvbubk5xt\n",
      "\n",
      "    Name:\t\t Basic Wall:Generic - 225mm Masonry:347308\n",
      "    Description: None\t\t\n",
      "    GUID: 1Yzg4cwif7gQ2Hvbubk5xy\n",
      "\n",
      "    Name:\t\t Basic Wall:_Bindeingsverk 316mm:348322\n",
      "    Description: None\t\t\n",
      "    GUID: 3Q87Kkn4X0hh69O_upt9P1\n",
      "\n",
      "    Name:\t\t Basic Wall:_Bindeingsverk 316mm:348323\n",
      "    Description: None\t\t\n",
      "    GUID: 3Q87Kkn4X0hh69O_upt9P0\n",
      "\n",
      "    Name:\t\t Basic Wall:_Bindeingsverk 316mm:348324\n",
      "    Description: None\t\t\n",
      "    GUID: 3Q87Kkn4X0hh69O_upt9P7\n",
      "\n",
      "    Name:\t\t Basic Wall:_Bindeingsverk 316mm:348325\n",
      "    Description: None\t\t\n",
      "    GUID: 3Q87Kkn4X0hh69O_upt9P6\n",
      "\n",
      "    Name:\t\t Basic Wall:_Bindeingsverk 99mm:372647\n",
      "    Description: None\t\t\n",
      "    GUID: 0AcubLcjbDbQQeAgLg2Y0r\n",
      "\n",
      "    Name:\t\t Basic Wall:_Bindeingsverk 99mm:374186\n",
      "    Description: None\t\t\n",
      "    GUID: 0AcubLcjbDbQQeAgLg2Zeu\n",
      "\n",
      "    Name:\t\t Basic Wall:_Bindeingsverk 99mm:374301\n",
      "    Description: None\t\t\n",
      "    GUID: 0AcubLcjbDbQQeAgLg2ZcF\n",
      "\n",
      "    Name:\t\t Basic Wall:_Bindeingsverk 99mm:374634\n",
      "    Description: None\t\t\n",
      "    GUID: 0AcubLcjbDbQQeAgLg2ZZu\n",
      "\n",
      "    Name:\t\t Basic Wall:Generic - 225mm Masonry:384440\n",
      "    Description: None\t\t\n",
      "    GUID: 3cDMTWgdr3igPBCsBF2w7i\n",
      "\n",
      "    Name:\t\t Basic Wall:_Bindeingsverk 99mm:384442\n",
      "    Description: None\t\t\n",
      "    GUID: 3cDMTWgdr3igPBCsBF2w7k\n",
      "\n",
      "    Name:\t\t Basic Wall:_Bindeingsverk 99mm:384443\n",
      "    Description: None\t\t\n",
      "    GUID: 3cDMTWgdr3igPBCsBF2w7l\n",
      "\n",
      "    Name:\t\t Basic Wall:_Bindeingsverk 99mm:384444\n",
      "    Description: None\t\t\n",
      "    GUID: 3cDMTWgdr3igPBCsBF2w7e\n",
      "\n",
      "    Name:\t\t Basic Wall:_Bindeingsverk 316mm:384988\n",
      "    Description: None\t\t\n",
      "    GUID: 1x1Hp_6Db1KwZy5IwzDax9\n",
      "\n",
      "    Name:\t\t Basic Wall:_Bindeingsverk 316mm:385918\n",
      "    Description: None\t\t\n",
      "    GUID: 1x1Hp_6Db1KwZy5IwzDd9h\n",
      "\n",
      "    Name:\t\t Basic Wall:_Dekkeforkant 255mm:386330\n",
      "    Description: None\t\t\n",
      "    GUID: 1x1Hp_6Db1KwZy5IwzDdGF\n",
      "\n",
      "    Name:\t\t Basic Wall:_Dekkeforkant 255mm:386558\n",
      "    Description: None\t\t\n",
      "    GUID: 1x1Hp_6Db1KwZy5IwzDdJh\n"
     ]
    }
   ],
   "source": [
    "## Percorra as paredes e imprima o valor de seus atributos\n",
    "\n",
    "for wall in walls:                                        \n",
    "    print(f\"\"\"\n",
    "    Name:\\t\\t {wall.Name}\n",
    "    Description: {wall.Description}\\t\\t\n",
    "    GUID: {wall.GlobalId}\"\"\")"
   ]
  },
  {
   "cell_type": "code",
   "execution_count": 16,
   "metadata": {},
   "outputs": [],
   "source": [
    "# Escreva o GUID e o NOME das paredes em um arquivo csv\n",
    "\n",
    "import csv\n",
    "\n",
    "with open('walls.csv', 'w') as csvfile:\n",
    "    fieldnames = ['GUID', 'Name']\n",
    "    writer = csv.DictWriter(csvfile, fieldnames=fieldnames)\n",
    "\n",
    "    writer.writeheader()\n",
    "    for wall in walls:\n",
    "        writer.writerow({'GUID': wall.GlobalId, 'Name': wall.Name})"
   ]
  },
  {
   "cell_type": "code",
   "execution_count": null,
   "metadata": {},
   "outputs": [],
   "source": []
  }
 ],
 "metadata": {
  "kernelspec": {
   "display_name": "Python 3",
   "language": "python",
   "name": "python3"
  },
  "language_info": {
   "codemirror_mode": {
    "name": "ipython",
    "version": 3
   },
   "file_extension": ".py",
   "mimetype": "text/x-python",
   "name": "python",
   "nbconvert_exporter": "python",
   "pygments_lexer": "ipython3",
   "version": "3.8.5"
  }
 },
 "nbformat": 4,
 "nbformat_minor": 2
}

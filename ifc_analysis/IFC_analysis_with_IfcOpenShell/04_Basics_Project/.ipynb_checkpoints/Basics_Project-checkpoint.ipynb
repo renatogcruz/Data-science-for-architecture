{
 "cells": [
  {
   "cell_type": "markdown",
   "metadata": {},
   "source": [
    "# This is a project for using the basic functionality of ifcopenshell\n",
    "\n",
    "Main Challenge: \n",
    "**Filter out all load bearing walls and visualize them**\n",
    "\n",
    "Optional:\n",
    "**Pull other properties and dump it to a csv file.**\n",
    "\n",
    "Main Challenge help: \n",
    "* A prerequisit for this challenge is the **01 Basic Introduction to Python for use with BIM notebook**\n",
    "* The **02 Basics with ifcopenshell notebook** might also be of use. \n",
    "\n",
    "And like always in programming there is **google** and especially for opensource community work, like with ifcopenshell, you could ask the community on github. \n",
    "\n",
    "Note: In all cells below. Add code after the comments. "
   ]
  },
  {
   "cell_type": "code",
   "execution_count": 1,
   "metadata": {},
   "outputs": [],
   "source": [
    "# Importing relevant modules\n",
    "\n",
    "import ifcopenshell\n",
    "import ifcopenshell.geom\n",
    "from ifc_viewer import ifc_viewer"
   ]
  },
  {
   "cell_type": "markdown",
   "metadata": {},
   "source": [
    "## Main Challenge\n",
    "\n",
    "### Create a function to get loarbaring walls and use it to get a list of loadbaring walls"
   ]
  },
  {
   "cell_type": "code",
   "execution_count": 3,
   "metadata": {},
   "outputs": [],
   "source": [
    "# Create a function that takes in a tuple of IfcWall objects and returns the ones that are loadbaring in a list\n",
    "# Use the \".\" operator to travers and get its property sets. It is useful to check the buildingSMART documentation on IfcWall\n",
    "# Note: if you have a property in a variable p, then p.NominalValue.wrappedValue will give you the value.\n",
    "\n",
    "def get_load_bearing(walls):\n",
    "    def is_load_bearing(pset_wall_common):\n",
    "        props = pset_wall_common.HasProperties\n",
    "        for p in props:\n",
    "            if p.Name ==\"LoadBearing\":\n",
    "                return p.NominalValue.wrappedValue\n",
    "    # Thomas Krijens pro-tip: instead of appending to a list you could consider using a yield statement\n",
    "    lb_walls = []\n",
    "    for wall in walls:\n",
    "        psets = [rel.RelatingPropertyDefinition for rel in wall.IsDefinedBy if rel.is_a(\"IfcRelDefinesByProperties\")]\n",
    "        pset_wall_commons = [pset for pset in psets if pset.Name == \"Pset_WallCommon\"]\n",
    "        if len(pset_wall_commons) != 0:\n",
    "            if is_load_bearing(pset_wall_commons[0]):\n",
    "                lb_walls.append(wall)\n",
    "        else:\n",
    "            print(\"Wall %s has no Pset_WallCommon!!\"%(wall.Name))\n",
    "            \n",
    "    return lb_walls"
   ]
  },
  {
   "cell_type": "code",
   "execution_count": 4,
   "metadata": {},
   "outputs": [],
   "source": [
    "# Start with importing your chosen model. Store it in a variable. \n",
    "file = ifcopenshell.open(\"Grethes-hus-bok-2.ifc\")\n",
    "\n",
    "# Get a list of all walls and store it in a variable. \n",
    "walls = file.by_type(\"IfcWall\")\n",
    "#print(walls) \n",
    "\n",
    "# Use the function you have created, giving it the variable having the walls and store the result in another variable. \n",
    "load_bearing_walls = get_load_bearing(walls)"
   ]
  },
  {
   "cell_type": "markdown",
   "metadata": {},
   "source": [
    "### Visualize \n",
    "\n",
    "Use some additional modules, like ```ifc_viewer``` to visualize the loadbaring walls below. "
   ]
  },
  {
   "cell_type": "code",
   "execution_count": 6,
   "metadata": {},
   "outputs": [
    {
     "data": {
      "application/vnd.jupyter.widget-view+json": {
       "model_id": "142f29bf4a0749e8bda344cac01af01e",
       "version_major": 2,
       "version_minor": 0
      },
      "text/plain": [
       "HBox(children=(VBox(children=(HBox(children=(Checkbox(value=True, description='Axes', layout=Layout(height='au…"
      ]
     },
     "metadata": {},
     "output_type": "display_data"
    }
   ],
   "source": [
    "## Set the proper geometry settings \n",
    "s = ifcopenshell.geom.settings()\n",
    "s.set(s.USE_PYTHON_OPENCASCADE, True)\n",
    "\n",
    "## Create a viewer object\n",
    "viewer = ifc_viewer()\n",
    "\n",
    "## Run trhough the loarbaring walls and create shapes and add that to the viewer object using the DisplayShape function. \n",
    "for wall in load_bearing_walls:\n",
    "    shape = ifcopenshell.geom.create_shape(s, wall)\n",
    "    viewer.DisplayShape(wall, shape.geometry, shape.styles)    \n",
    "\n",
    "## Have the viewer display inline using the Display() function.\n",
    "viewer.Display()\n"
   ]
  },
  {
   "cell_type": "markdown",
   "metadata": {},
   "source": [
    "## Optional: Pull properties and dump it to a csv file."
   ]
  },
  {
   "cell_type": "code",
   "execution_count": 7,
   "metadata": {},
   "outputs": [
    {
     "name": "stdout",
     "output_type": "stream",
     "text": [
      "There are 24 rooms in this model\n"
     ]
    }
   ],
   "source": [
    "# getting reference to all objects in the file that are of type \"IfcWall\"\n",
    "\n",
    "walls = file.by_type(\"IfcWall\")\n",
    "\n",
    "print(f\"There are {len(walls)} rooms in this model\")"
   ]
  },
  {
   "cell_type": "code",
   "execution_count": 15,
   "metadata": {},
   "outputs": [
    {
     "name": "stdout",
     "output_type": "stream",
     "text": [
      "\n",
      "    Name:\t\t Basic Wall:Generic - 200mm:345653\n",
      "    Description: None\t\t\n",
      "    GUID: 1xzRHg5wPCVvg4uLjqox1I\n",
      "\n",
      "    Name:\t\t Basic Wall:Generic - 225mm Masonry:347110\n",
      "    Description: None\t\t\n",
      "    GUID: 1Yzg4cwif7gQ2Hvbubk5cs\n",
      "\n",
      "    Name:\t\t Basic Wall:Generic - 225mm Masonry:347115\n",
      "    Description: None\t\t\n",
      "    GUID: 1Yzg4cwif7gQ2Hvbubk5cx\n",
      "\n",
      "    Name:\t\t Basic Wall:Generic - 225mm Masonry:347120\n",
      "    Description: None\t\t\n",
      "    GUID: 1Yzg4cwif7gQ2Hvbubk5cW\n",
      "\n",
      "    Name:\t\t Basic Wall:Generic - 225mm Masonry:347132\n",
      "    Description: None\t\t\n",
      "    GUID: 1Yzg4cwif7gQ2Hvbubk5ci\n",
      "\n",
      "    Name:\t\t Basic Wall:Generic - 225mm Masonry:347296\n",
      "    Description: None\t\t\n",
      "    GUID: 1Yzg4cwif7gQ2Hvbubk5xm\n",
      "\n",
      "    Name:\t\t Basic Wall:Generic - 225mm Masonry:347303\n",
      "    Description: None\t\t\n",
      "    GUID: 1Yzg4cwif7gQ2Hvbubk5xt\n",
      "\n",
      "    Name:\t\t Basic Wall:Generic - 225mm Masonry:347308\n",
      "    Description: None\t\t\n",
      "    GUID: 1Yzg4cwif7gQ2Hvbubk5xy\n",
      "\n",
      "    Name:\t\t Basic Wall:_Bindeingsverk 316mm:348322\n",
      "    Description: None\t\t\n",
      "    GUID: 3Q87Kkn4X0hh69O_upt9P1\n",
      "\n",
      "    Name:\t\t Basic Wall:_Bindeingsverk 316mm:348323\n",
      "    Description: None\t\t\n",
      "    GUID: 3Q87Kkn4X0hh69O_upt9P0\n",
      "\n",
      "    Name:\t\t Basic Wall:_Bindeingsverk 316mm:348324\n",
      "    Description: None\t\t\n",
      "    GUID: 3Q87Kkn4X0hh69O_upt9P7\n",
      "\n",
      "    Name:\t\t Basic Wall:_Bindeingsverk 316mm:348325\n",
      "    Description: None\t\t\n",
      "    GUID: 3Q87Kkn4X0hh69O_upt9P6\n",
      "\n",
      "    Name:\t\t Basic Wall:_Bindeingsverk 99mm:372647\n",
      "    Description: None\t\t\n",
      "    GUID: 0AcubLcjbDbQQeAgLg2Y0r\n",
      "\n",
      "    Name:\t\t Basic Wall:_Bindeingsverk 99mm:374186\n",
      "    Description: None\t\t\n",
      "    GUID: 0AcubLcjbDbQQeAgLg2Zeu\n",
      "\n",
      "    Name:\t\t Basic Wall:_Bindeingsverk 99mm:374301\n",
      "    Description: None\t\t\n",
      "    GUID: 0AcubLcjbDbQQeAgLg2ZcF\n",
      "\n",
      "    Name:\t\t Basic Wall:_Bindeingsverk 99mm:374634\n",
      "    Description: None\t\t\n",
      "    GUID: 0AcubLcjbDbQQeAgLg2ZZu\n",
      "\n",
      "    Name:\t\t Basic Wall:Generic - 225mm Masonry:384440\n",
      "    Description: None\t\t\n",
      "    GUID: 3cDMTWgdr3igPBCsBF2w7i\n",
      "\n",
      "    Name:\t\t Basic Wall:_Bindeingsverk 99mm:384442\n",
      "    Description: None\t\t\n",
      "    GUID: 3cDMTWgdr3igPBCsBF2w7k\n",
      "\n",
      "    Name:\t\t Basic Wall:_Bindeingsverk 99mm:384443\n",
      "    Description: None\t\t\n",
      "    GUID: 3cDMTWgdr3igPBCsBF2w7l\n",
      "\n",
      "    Name:\t\t Basic Wall:_Bindeingsverk 99mm:384444\n",
      "    Description: None\t\t\n",
      "    GUID: 3cDMTWgdr3igPBCsBF2w7e\n",
      "\n",
      "    Name:\t\t Basic Wall:_Bindeingsverk 316mm:384988\n",
      "    Description: None\t\t\n",
      "    GUID: 1x1Hp_6Db1KwZy5IwzDax9\n",
      "\n",
      "    Name:\t\t Basic Wall:_Bindeingsverk 316mm:385918\n",
      "    Description: None\t\t\n",
      "    GUID: 1x1Hp_6Db1KwZy5IwzDd9h\n",
      "\n",
      "    Name:\t\t Basic Wall:_Dekkeforkant 255mm:386330\n",
      "    Description: None\t\t\n",
      "    GUID: 1x1Hp_6Db1KwZy5IwzDdGF\n",
      "\n",
      "    Name:\t\t Basic Wall:_Dekkeforkant 255mm:386558\n",
      "    Description: None\t\t\n",
      "    GUID: 1x1Hp_6Db1KwZy5IwzDdJh\n"
     ]
    }
   ],
   "source": [
    "##Scroll through the walls and printing the value of your attributes\n",
    "\n",
    "for wall in walls:                                        \n",
    "    print(f\"\"\"\n",
    "    Name:\\t\\t {wall.Name}\n",
    "    Description: {wall.Description}\\t\\t\n",
    "    GUID: {wall.GlobalId}\"\"\")"
   ]
  },
  {
   "cell_type": "code",
   "execution_count": 19,
   "metadata": {},
   "outputs": [],
   "source": [
    "# Write the GUID and the NAME of the walls in a csv file\n",
    "\n",
    "import csv\n",
    "\n",
    "with open('walls.csv', 'w') as csvfile:\n",
    "    fieldnames = ['GUID', 'Name']\n",
    "    writer = csv.DictWriter(csvfile, fieldnames=fieldnames)\n",
    "\n",
    "    writer.writeheader()\n",
    "    for wall in walls:\n",
    "        writer.writerow({'GUID': wall.GlobalId, 'Name': wall.Name})"
   ]
  },
  {
   "cell_type": "code",
   "execution_count": null,
   "metadata": {},
   "outputs": [],
   "source": []
  }
 ],
 "metadata": {
  "kernelspec": {
   "display_name": "Python 3",
   "language": "python",
   "name": "python3"
  },
  "language_info": {
   "codemirror_mode": {
    "name": "ipython",
    "version": 3
   },
   "file_extension": ".py",
   "mimetype": "text/x-python",
   "name": "python",
   "nbconvert_exporter": "python",
   "pygments_lexer": "ipython3",
   "version": "3.8.5"
  }
 },
 "nbformat": 4,
 "nbformat_minor": 2
}

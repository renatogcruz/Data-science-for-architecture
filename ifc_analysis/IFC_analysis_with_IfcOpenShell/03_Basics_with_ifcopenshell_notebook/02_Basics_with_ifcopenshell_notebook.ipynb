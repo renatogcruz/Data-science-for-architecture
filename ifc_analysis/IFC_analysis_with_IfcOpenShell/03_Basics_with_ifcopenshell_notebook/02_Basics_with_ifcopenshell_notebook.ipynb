{
 "cells": [
  {
   "cell_type": "markdown",
   "metadata": {},
   "source": [
    "# Intro to some key functions in ifcopenshell and IFC documentation\n",
    "\n",
    "Ifcopenshell is a library that you could use to parse and handle IFC model data. It works in both C++ and python. And for both Ifc2x3 and IFC4. For a collection of information on IFC please refer to the [buildingSMART IFC pages](http://www.buildingsmart-tech.org/ifc/). \n",
    "\n",
    "It might also be usefull to read up on the [Ifc2x3 Implementation Guide here](http://www.buildingsmart-tech.org/downloads/accompanying-documents/guidelines/IFC2x%20Model%20Implementation%20Guide%20V2-0b.pdf)\n",
    "\n",
    "The [ifcopenshell academy](http://academy.ifcopenshell.org/) and [pythonocc tutorials](http://www.pythonocc.org/) are good resources as well. \n",
    "\n",
    "One particular supportive tutorial for this notebook is the [Using The Parsing Functionality of Ifcopenshell Interactively Tutorial](http://academy.ifcopenshell.org/using-the-parsing-functionality-of-ifcopenshell-interactively/).\n",
    "\n",
    "The topics for this notebook is: \n",
    "\n",
    "1. [Opening an ifc file and create a file object](#Opening-an-ifc-file-and-create-a-file-object)\n",
    "2. [The file.by_type() function in ifcopenshell](#The-file.by_type-function-in-ifcopenshell)\n",
    "3. [The is_a() function in ifcopenshell](#The-is_a-function-in-ifcopenshell)\n",
    "4. [The \".\" operator function in python and ifcopenshell](#The-\".\"-operator-in-Python-with-ifcopenshell)\n",
    "5. [Combining by_type, is_a and the \".\" operator to extract property set information](#Combining-by_type,-is_a-and-the-\".\"-operator-to-extract-property-set-information)\n",
    "\n",
    "After this you could try walking through the 02_analyze and 01_visualize notebooks. \n"
   ]
  },
  {
   "cell_type": "code",
   "execution_count": 1,
   "metadata": {},
   "outputs": [],
   "source": [
    "import ifcopenshell"
   ]
  },
  {
   "cell_type": "markdown",
   "metadata": {},
   "source": [
    "## Opening an ifc file and create a file object\n",
    "\n",
    "With ifcopenshell you could start interacting with a file through the \"open()\" function. The only argument to this function is a path to the ifc file like showed below. \n",
    "\n",
    "If you want to interact with your own file you could upload that file in eg. the models folder and change the input to this function to \"models/name_of_your_file.ifc\". "
   ]
  },
  {
   "cell_type": "code",
   "execution_count": 2,
   "metadata": {},
   "outputs": [],
   "source": [
    "f = ifcopenshell.open(\"models/Grethes_hus_bok_2.ifc\")"
   ]
  },
  {
   "cell_type": "markdown",
   "metadata": {},
   "source": [
    "## The file.by_type function in ifcopenshell\n",
    "\n",
    "In ifcopenshell the function by_type(\"\") could be performed on the file object. The argument to this function is an Ifc type. Like, eg. [IfcWall](http://www.buildingsmart-tech.org/ifc/IFC2x3/TC1/html/ifcsharedbldgelements/lexical/ifcwall.htm]) or other ifc types in the schema. If the entity is in the file, the function will return a tuple listing up all the entities of that type in the file. If it is not in the file, the function returns an empty tuple. \n",
    "\n",
    "Since we have loaded an architectural model, entities such as [IfcWall](http://www.buildingsmart-tech.org/ifc/IFC2x3/TC1/html/ifcsharedbldgelements/lexical/ifcwall.htm]), [IfcWindow](http://www.buildingsmart-tech.org/ifc/IFC2x3/TC1/html/ifcsharedbldgelements/lexical/ifcwindow.htm), or [IfcDoor](http://www.buildingsmart-tech.org/ifc/IFC2x3/TC1/html/ifcsharedbldgelements/lexical/ifcdoor.htm) is probable to be in the model, however [IfcFlowSegment](http://www.buildingsmart-tech.org/ifc/IFC2x3/TC1/html/ifcsharedbldgserviceelements/lexical/ifcflowsegment.htm) is likely to not be in the model. "
   ]
  },
  {
   "cell_type": "code",
   "execution_count": 3,
   "metadata": {},
   "outputs": [
    {
     "name": "stdout",
     "output_type": "stream",
     "text": [
      "There is 24 walls, 26 windows, 6 doors and 0 flow segments in the file\n"
     ]
    }
   ],
   "source": [
    "## Here we use the by_type() function to test on the entities above\n",
    "\n",
    "no_walls = len(f.by_type(\"IfcWall\"))\n",
    "no_windows = len(f.by_type(\"IfcWindow\"))\n",
    "no_doors = len(f.by_type(\"IfcDoor\"))\n",
    "no_flo_segments = len(f.by_type(\"IfcFlowSegment\"))\n",
    "\n",
    "print(\"There is {} walls, {} windows, {} doors and {} flow segments in the file\".format(no_walls,no_windows,no_doors,no_flo_segments))"
   ]
  },
  {
   "cell_type": "markdown",
   "metadata": {},
   "source": [
    "## The is_a function in ifcopenshell\n",
    "\n",
    "Another usefull function in ifcopenshell is the ifc_object.is_a() that returns the IFC type of the ifc_object. It could also be used as ifc_object.is_a(\"particular ifc type\") to check if the ifc_object you have a reference to is of a particular ifc type. If it is of the particular type, it returns True and False if its not. "
   ]
  },
  {
   "cell_type": "code",
   "execution_count": 4,
   "metadata": {},
   "outputs": [
    {
     "name": "stdout",
     "output_type": "stream",
     "text": [
      "a_wall is of type IfcWallStandardCase\n",
      "\n",
      "It is True that a_wall is of type IfcWall\n"
     ]
    }
   ],
   "source": [
    "# get the list of all object in file \"f\" of type IfcWall\n",
    "ifc_wall_objects = f.by_type(\"IfcWall\")\n",
    "# get the first wall object in the list. \n",
    "a_wall = ifc_wall_objects[0]\n",
    "# print the ifc type of a_wall\n",
    "print(\"a_wall is of type %s\"%(a_wall.is_a()))\n",
    "# Check if a_wall is of type IfcWall\n",
    "print(\"\\nIt is %s that a_wall is of type IfcWall\"%(a_wall.is_a(\"IfcWall\")))"
   ]
  },
  {
   "cell_type": "markdown",
   "metadata": {},
   "source": [
    "## The \".\" operator in Python with ifcopenshell\n",
    "\n",
    "When you have a reference to a ifc object in you can use the \".\" operator to access its attributes like so: ```\n",
    "ifc_object.Attribute```. Name is a common Attribute of objects as well as Description.  \n"
   ]
  },
  {
   "cell_type": "code",
   "execution_count": 5,
   "metadata": {},
   "outputs": [
    {
     "name": "stdout",
     "output_type": "stream",
     "text": [
      "The Name of a_wall is Basic Wall:Generic - 200mm:345653\n",
      "The Description of a_wall is None\n"
     ]
    }
   ],
   "source": [
    "# print a_walls Name attribute\n",
    "print(\"The Name of a_wall is %s\"%(a_wall.Name))\n",
    "# print a_walls Description attribute\n",
    "print(\"The Description of a_wall is %s\"%(a_wall.Description))"
   ]
  },
  {
   "cell_type": "markdown",
   "metadata": {},
   "source": [
    "## Ifcopenshell and buildingSMARTs IFC documentation\n",
    "\n",
    "### The by_type function buildingSMARTs IFC documentation\n",
    "\n",
    "You might wonder what happens if you pass an entity to by_type() that is not defined in IFC schema. Then the **function returns an error**\n",
    "\n",
    "This is because the ifcopenshell knows the ifc schema. Hence, when working with ifcopenshell the documentation on the ifc schema defining the model you are working with is very usefull. \n",
    "\n",
    "### The is_a() function and buildingSMARTs IFC documentation\n",
    "\n",
    "It is quite obvious that ```wall_in_list_of_walls.is_a(\"IfcWall\")``` would return ```True``` and ``` wall_in_list_of_walls.is_a(\"IfcWindow\")``` would return ```python False```. However, did you notice that the type was IfcWallStandardCase but also of tupe IfcWall? What of you try:\n",
    "\n",
    "```wall_in_list_of_walls.is_a(\"IfcBuildingElement\")```? \n",
    "\n",
    "Check the documentation of [IfcWall here](http://www.buildingsmart-tech.org/ifc/IFC2x3/TC1/html/ifcsharedbldgelements/lexical/ifcwall.htm) and evaluate its inherritance graph before you try.  "
   ]
  },
  {
   "cell_type": "code",
   "execution_count": 6,
   "metadata": {},
   "outputs": [
    {
     "data": {
      "text/plain": [
       "True"
      ]
     },
     "execution_count": 6,
     "metadata": {},
     "output_type": "execute_result"
    }
   ],
   "source": [
    "# Try with \"IfcBuildingElement\", \"IfcElement\", \"IfcProduct\" and \"IfcRoot\":\n",
    "a_wall.is_a(\"IfcBuildingElement\")"
   ]
  },
  {
   "cell_type": "markdown",
   "metadata": {},
   "source": [
    "### The \".\" operator using ifcopenshell and buildingSMARTs IFC documentation\n",
    "\n",
    "When you have a reference to a ifc type that is in your file using the f.by_type() function, you could refer to the documentation again to see what you could do with it. \n",
    "\n",
    "ifcopenshell supports the schema, and enables you to access the objects attributes through the \".\" operator.\n",
    "\n",
    "So looking into the documentation of [IfcWall here](http://www.buildingsmart-tech.org/ifc/IFC2x3/TC1/html/ifcsharedbldgelements/lexical/ifcwall.htm) again, we see that IfcWall is inherriting from IfcRoot, which gives the following attributes: \n",
    "\n",
    "* GlobalId\t \n",
    "* OwnerHistory\t \n",
    "* Name\t  \t\n",
    "* Description\t "
   ]
  },
  {
   "cell_type": "code",
   "execution_count": 7,
   "metadata": {},
   "outputs": [
    {
     "name": "stdout",
     "output_type": "stream",
     "text": [
      "GlobalId: 1xzRHg5wPCVvg4uLjqox1I,\n",
      "OwnerHistory: #48=IfcOwnerHistory(#45,#5,$,.NOCHANGE.,$,$,$,1556267234),\n",
      "Name: Basic Wall:Generic - 200mm:345653,\n",
      "Description: None\n"
     ]
    }
   ],
   "source": [
    "# If our wall is inheriting from IfcRoot, it should have the following attributes:\n",
    "\n",
    "guid = a_wall.GlobalId\n",
    "owner_history = a_wall.OwnerHistory\n",
    "name = a_wall.Name\n",
    "description = a_wall.Description \n",
    "\n",
    "print(\"GlobalId: {},\\nOwnerHistory: {},\\nName: {},\\nDescription: {}\".format(guid,owner_history,name,description))\n"
   ]
  },
  {
   "cell_type": "markdown",
   "metadata": {},
   "source": [
    "As showed above the \".\" operator works directly on the schema attrubutes names. It could also be used on objects that is returned, such as [IfcOwnerHistory](http://www.buildingsmart-tech.org/ifc/IFC2x3/TC1/html/ifcutilityresource/lexical/ifcownerhistory.htm). As described by the inherritance graph of the IfcOwnerHistory objects, OwningUser and OwningApplication is attributes on this object. \n",
    "\n",
    "These again refer to [IfcPersonAndOrganization](http://www.buildingsmart-tech.org/ifc/IFC2x3/TC1/html/ifcactorresource/lexical/ifcpersonandorganization.htm) and [IfcApplication](http://www.buildingsmart-tech.org/ifc/IFC2x3/TC1/html/ifcutilityresource/lexical/ifcapplication.htm) respectively. "
   ]
  },
  {
   "cell_type": "code",
   "execution_count": 8,
   "metadata": {},
   "outputs": [
    {
     "name": "stdout",
     "output_type": "stream",
     "text": [
      "Person: #39=IfcPerson($,'Eikerol','Hans',('Martin'),$,$,$,(#35)), \n",
      "Organization: #44=IfcOrganization($,'','',$,$), \n",
      "Roles: None\n",
      "\n",
      "Developer: #1=IfcOrganization($,'Autodesk Revit 2019 (ENU)',$,$,$),\n",
      "Version: 2019,\n",
      "App Name: Autodesk Revit 2019 (ENU), \n",
      "App id: Revit\n"
     ]
    }
   ],
   "source": [
    "## OwningUser:\n",
    "owning_user = owner_history.OwningUser\n",
    "# attributes ref docs\n",
    "the_person = owning_user.ThePerson\n",
    "the_org = owning_user.TheOrganization\n",
    "roles = owning_user.Roles \n",
    "print(\"Person: {}, \\nOrganization: {}, \\nRoles: {}\\n\".format(the_person,the_org,roles))\n",
    "\n",
    "## OwningApplication: \n",
    "owning_app = owner_history.OwningApplication\n",
    "# attributes ref docs \n",
    "app_dev = owning_app.ApplicationDeveloper\n",
    "version = owning_app.Version\n",
    "app_f_name = owning_app.ApplicationFullName\n",
    "app_id = owning_app.ApplicationIdentifier\n",
    "\n",
    "print(\"Developer: {},\\nVersion: {},\\nApp Name: {}, \\nApp id: {}\".format(app_dev,version,app_f_name,app_id))"
   ]
  },
  {
   "cell_type": "markdown",
   "metadata": {},
   "source": [
    "**Cleaning up by accessing objects.**"
   ]
  },
  {
   "cell_type": "code",
   "execution_count": 9,
   "metadata": {},
   "outputs": [
    {
     "name": "stdout",
     "output_type": "stream",
     "text": [
      "Persons Given Name:\t Hans,\n",
      "App developer:\t\t Autodesk Revit 2019 (ENU),\n",
      "App:\t\t\t Revit,\n",
      "Version:\t\t 2019\n"
     ]
    }
   ],
   "source": [
    "## The person object only contain the third attribute. That is the GivenName\n",
    "p_given_name = the_person.GivenName\n",
    "## The IfcOrganization object only returns empty strings for parameter 2 and 3. Thus, its not needed.\n",
    "## roles is also returning none value, so not needed. \n",
    "\n",
    "## organization that developed this was Autodesk, as showed by attribute 2 of the IfcOrganization obj. \n",
    "org_name = app_dev.Name\n",
    "## Version and app id is returning a valid string value. \n",
    "# adding som line shift (\\n) and tabulations (\\t)\n",
    "print(\"Persons Given Name:\\t {},\\nApp developer:\\t\\t {},\\nApp:\\t\\t\\t {},\\nVersion:\\t\\t {}\".format(p_given_name,org_name,app_id,version))"
   ]
  },
  {
   "cell_type": "markdown",
   "metadata": {},
   "source": [
    "## Combining by_type, is_a and the \".\" operator to extract property set information \n",
    "\n",
    "So, with these ifcopenshell capabilities and some python and ifc knowledge we can do interesting things. For exsample we could create a function to get all quanity set information of IfcElements we pass in. \n",
    "\n",
    "In Ifc propertysets are related to elements through the IsDefinedBy attribute, that returns a [IfcRelDefinesByProperties](http://www.buildingsmart-tech.org/ifc/IFC2x3/TC1/html/ifckernel/lexical/ifcreldefinesbyproperties.htm) that is an objectified relationship that defines the relationships between property set definitions and objects. "
   ]
  },
  {
   "cell_type": "code",
   "execution_count": 10,
   "metadata": {},
   "outputs": [
    {
     "data": {
      "text/plain": [
       "(#661=IfcRelDefinesByProperties('24Qrd55HL9WfKkEtlVL8LF',#48,$,$,(#636),#659),\n",
       " #64724=IfcRelDefinesByType('2aIqCAM_rAEOQ4oelab0tD',#48,$,$,(#636),#654))"
      ]
     },
     "execution_count": 10,
     "metadata": {},
     "output_type": "execute_result"
    }
   ],
   "source": [
    "a_wall.IsDefinedBy"
   ]
  },
  {
   "cell_type": "markdown",
   "metadata": {},
   "source": [
    "The most important attributes of this objectified relationship entity is RelatedObjects and RelatingPropertyDefinition, which is respectively the list of all objects that has this related property set definition and the property set definition itself. \n",
    "\n",
    "One use case of this would be to see all objects that have the same property set definition. "
   ]
  },
  {
   "cell_type": "code",
   "execution_count": 12,
   "metadata": {},
   "outputs": [
    {
     "data": {
      "text/plain": [
       "(#636=IfcWallStandardCase('1xzRHg5wPCVvg4uLjqox1I',#48,'Basic Wall:Generic - 200mm:345653',$,'Basic Wall:Generic - 200mm:398',#609,#634,'345653'),)"
      ]
     },
     "execution_count": 12,
     "metadata": {},
     "output_type": "execute_result"
    }
   ],
   "source": [
    "# Which objects has the Property Set Definition wit the 2mdDGS1KjAKguN3yt8a52r guid? \n",
    "# Which objects has the Property Set Definition wit the 0CpuJJ7wTFA8vmntAxzlqi guid? \n",
    "\n",
    "# alternative: note that you can also use ifc_file.by_guid(guid) or even ifc_file[guid]. \n",
    "\n",
    "guid = \"24Qrd55HL9WfKkEtlVL8LF\"\n",
    "pSet_w_guid = [pset for pset in a_wall.IsDefinedBy if pset.GlobalId ==guid][0]\n",
    "objects_w_pset = pSet_w_guid.RelatedObjects\n",
    "objects_w_pset\n",
    "# As seen from the previous output the list shows in the step formatting. \n",
    "# for 2mdDGS1KjAKguN3yt8a52r (#91)\n",
    "# and for 0CpuJJ7wTFA8vmntAxzlqi (#216,#135,#134,#131,#220,#130,#92,#155,#144,#132,#91,#160,#143,#154,#157,#158,#257,#261)"
   ]
  },
  {
   "cell_type": "markdown",
   "metadata": {},
   "source": [
    "Another usecase is obviously to access the properties that is defined in these sets. \n",
    "\n",
    "In order to do this we need to access the [IfcPropertySet](http://www.buildingsmart-tech.org/ifc/IFC2x3/TC1/html/ifckernel/lexical/ifcpropertyset.htm) through its RelatingPropertyDefinition attribute. \n",
    "\n",
    "Like for example for your pset above:"
   ]
  },
  {
   "cell_type": "code",
   "execution_count": 13,
   "metadata": {},
   "outputs": [
    {
     "data": {
      "text/plain": [
       "#659=IfcPropertySet('1xzRHg5wPCVvg4wgPqox1I',#48,'Pset_WallCommon',$,(#593,#656,#657,#658))"
      ]
     },
     "execution_count": 13,
     "metadata": {},
     "output_type": "execute_result"
    }
   ],
   "source": [
    "pSet=pSet_w_guid.RelatingPropertyDefinition\n",
    "pSet"
   ]
  },
  {
   "cell_type": "markdown",
   "metadata": {},
   "source": [
    "This could also return [IfcElementQuantity](http://www.buildingsmart-tech.org/ifc/IFC2x3/TC1/html/ifcproductextension/lexical/ifcelementquantity.htm). pSets hasProperties and qSets has Quantities, so, you'd want to check that it is of type IfcPropertySet in order to securely access its HasProperties attribute. \n",
    "\n",
    "Remeber a nice ifcopenshell function that does that?"
   ]
  },
  {
   "cell_type": "code",
   "execution_count": 14,
   "metadata": {},
   "outputs": [
    {
     "name": "stdout",
     "output_type": "stream",
     "text": [
      "(#593=IfcPropertySingleValue('LoadBearing',$,IfcBoolean(.T.),$), #656=IfcPropertySingleValue('Reference',$,IfcIdentifier('Generic - 200mm'),$), #657=IfcPropertySingleValue('ExtendToStructure',$,IfcBoolean(.F.),$), #658=IfcPropertySingleValue('IsExternal',$,IfcBoolean(.T.),$))\n"
     ]
    }
   ],
   "source": [
    "pSet=pSet_w_guid.RelatingPropertyDefinition\n",
    "if pSet.is_a(\"IfcPropertySet\"):\n",
    "    print(pSet.HasProperties)"
   ]
  },
  {
   "cell_type": "markdown",
   "metadata": {},
   "source": [
    "### Pulling it all together\n",
    "\n",
    "As this outputs a rather unformated list of different properties, where we need to \"dot alot\" Thomas has provided some python magic below using the [map](http://book.pythontips.com/en/latest/map_filter.html) function. "
   ]
  },
  {
   "cell_type": "code",
   "execution_count": 15,
   "metadata": {},
   "outputs": [
    {
     "data": {
      "text/plain": [
       "(('LoadBearing', True),\n",
       " ('Reference', 'Generic - 200mm'),\n",
       " ('ExtendToStructure', False),\n",
       " ('IsExternal', True))"
      ]
     },
     "execution_count": 15,
     "metadata": {},
     "output_type": "execute_result"
    }
   ],
   "source": [
    "# Takes in an a pset of type IfcPropertySet or IfcElementQuanitites and returns a tuple of its key-value tuples of respectively\n",
    "# properties (name, value) or quantities (name, value)\n",
    "def get_key_values(pset):\n",
    "    def to_tuple(prop):\n",
    "        if prop.is_a(\"IfcPropertySingleValue\"):\n",
    "            return prop.Name, prop.NominalValue.wrappedValue\n",
    "        elif prop.is_a(\"IfcPhysicalQuantity\"):\n",
    "            if prop.is_a(\"IfcQuantityArea\"):\n",
    "                return prop.Name, prop.AreaValue\n",
    "        \n",
    "    if pset.is_a(\"IfcPropertySet\"):\n",
    "        return tuple(map(to_tuple, pset.HasProperties))\n",
    "    elif pset.is_a(\"IfcElementQuantity\"):\n",
    "        return tuple(map(to_tuple, pset.Quantities))\n",
    "    else: return ()\n",
    "\n",
    "# testing it on our pSet from above:\n",
    "\n",
    "get_key_values(pSet_w_guid.RelatingPropertyDefinition)"
   ]
  },
  {
   "cell_type": "code",
   "execution_count": 18,
   "metadata": {},
   "outputs": [
    {
     "name": "stdout",
     "output_type": "stream",
     "text": [
      "No IfcElementQuantity in model\n"
     ]
    }
   ],
   "source": [
    "# test with IfcElementQuantity \n",
    "test_el_Quantity = f.by_type(\"IfcElementQuantity\")\n",
    "if test_el_Quantity:\n",
    "    get_key_values(test_el_Quantity[0])\n",
    "else:\n",
    "    print(\"No IfcElementQuantity in model\")"
   ]
  },
  {
   "cell_type": "code",
   "execution_count": null,
   "metadata": {},
   "outputs": [],
   "source": []
  },
  {
   "cell_type": "code",
   "execution_count": null,
   "metadata": {},
   "outputs": [],
   "source": []
  }
 ],
 "metadata": {
  "kernelspec": {
   "display_name": "Python 3",
   "language": "python",
   "name": "python3"
  },
  "language_info": {
   "codemirror_mode": {
    "name": "ipython",
    "version": 3
   },
   "file_extension": ".py",
   "mimetype": "text/x-python",
   "name": "python",
   "nbconvert_exporter": "python",
   "pygments_lexer": "ipython3",
   "version": "3.6.2"
  }
 },
 "nbformat": 4,
 "nbformat_minor": 2
}

{
 "cells": [
  {
   "cell_type": "markdown",
   "metadata": {},
   "source": [
    "# Introdução a algumas funções-chave na documentação ifcopenshell e IFC\n",
    "\n",
    "Ifcopenshell é uma biblioteca para análise e manipulação de dados de modelo IFC. Funciona tanto em C++ quanto em Python. E para Ifc2x3 e IFC4. Para obter uma coleção de informações sobre o IFC, consulte as [páginas buildingSMART IFC](http://www.buildingsmart-tech.org/ifc/).\n",
    "\n",
    "Também pode ser útil ler o [Guia de implementação Ifc2x3](http://www.buildingsmart-tech.org/downloads/accompanying-documents/guidelines/IFC2x%20Model%20Implementation%20Guide%20V2-0b.pdf )\n",
    "\n",
    "O [ifcopenshell academy](http://academy.ifcopenshell.org/) e os [tutoriais pythonocc](http://www.pythonocc.org/) também são bons recursos.\n",
    "\n",
    "Um tutorial de suporte específico para este caderno é o [Using The Parsing Functionality of Ifcopenshell Interactively Tutorial](http://academy.ifcopenshell.org/using-the-parsing-functionality-of-ifcopenshell-interactively/).\n",
    "\n",
    "Tópicos deste caderno:\n",
    "\n",
    "- Abrir um arquivo ifc e criar um objeto de arquivo\n",
    "- Função file.by_type () em ifcopenshell\n",
    "- Função is_a () em ifcopenshell\n",
    "- A função \".\" do operador em Python e ifcopenshell\n",
    "- Combinando by_type, is_a e o operador \".\"  para extrair informações do conjunto de propriedades\n",
    "\n",
    "Depois disso, você pode tentar percorrer os cadernos 02_analyze e 01_visualize.\n",
    "\n",
    "\n",
    "Organizado por [BIMFag](https://bimfag.no/)."
   ]
  },
  {
   "cell_type": "code",
   "execution_count": 1,
   "metadata": {},
   "outputs": [],
   "source": [
    "import ifcopenshell"
   ]
  },
  {
   "cell_type": "markdown",
   "metadata": {},
   "source": [
    "## Abrindo um arquivo ifc e criando um objeto de arquivo\n",
    "\n",
    "Com ifcopenshell você pode começar a interagir com um arquivo através da função **open()**. O único argumento para esta função é um caminho para o arquivo ifc como mostrado abaixo."
   ]
  },
  {
   "cell_type": "code",
   "execution_count": 2,
   "metadata": {},
   "outputs": [],
   "source": [
    "f = ifcopenshell.open(\"Grethes-hus-bok-2.ifc\")"
   ]
  },
  {
   "cell_type": "markdown",
   "metadata": {},
   "source": [
    "## A função file.by_type em ifcopenshell\n",
    "\n",
    "Em ifcopenshell, a função by_type (\"\") pode ser executada no objeto de arquivo. O argumento para esta função é um **tipo Ifc**. Como, por exemplo [IfcWall](http://www.buildingsmart-tech.org/ifc/IFC2x3/TC1/html/ifcsharedbldgelements/lexical/ifcwall.htm) ou outros tipos ifc no esquema. Se a entidade estiver no arquivo, a função retornará uma tupla listando todas as entidades desse tipo no arquivo. Se não estiver no arquivo, a função retorna uma tupla vazia.\n",
    "\n",
    "Como carregamos um modelo de arquitetura, entidades como [IfcWall](https://standards.buildingsmart.org/IFC/RELEASE/IFC2x3/FINAL/HTML/ifcsharedbldgelements/lexical/ifcwall.htm), [IfcWindow](https://standards.buildingsmart.org/IFC/RELEASE/IFC2x3/FINAL/HTML/ifcsharedbldgelements/lexical/ifcwindow.htm) ou [IfcDoor](https://standards.buildingsmart.org/IFC/RELEASE/IFC2x3/FINAL/HTML/ifcsharedbldgelements/lexical/ifcdoor.htm) provavelmente está no modelo, entretanto [IfcFlowSegment](https://standards.buildingsmart.org/IFC/RELEASE/IFC2x3/FINAL/HTML/ifcsharedbldgserviceelements/lexical/ifcflowsegment.htm) provavelmente não estará no modelo. "
   ]
  },
  {
   "cell_type": "code",
   "execution_count": 3,
   "metadata": {},
   "outputs": [
    {
     "name": "stdout",
     "output_type": "stream",
     "text": [
      "Há 24 walls, 26 windows, 6 doors e 0 flow segments no arquivo\n"
     ]
    }
   ],
   "source": [
    "## Aqui usamos a função by_type () para testar as entidades acima\n",
    "\n",
    "no_walls = len(f.by_type(\"IfcWall\"))\n",
    "no_windows = len(f.by_type(\"IfcWindow\"))\n",
    "no_doors = len(f.by_type(\"IfcDoor\"))\n",
    "no_flo_segments = len(f.by_type(\"IfcFlowSegment\"))\n",
    "\n",
    "print(f\"Há {no_walls} walls, {no_windows} windows, {no_doors} doors e {no_flo_segments} flow segments no arquivo\")"
   ]
  },
  {
   "cell_type": "markdown",
   "metadata": {},
   "source": [
    "## A função is_a em ifcopenshell\n",
    "\n",
    "Outra função útil no ifcopenshell é o **ifc_object.is_a()** que retorna o tipo IFC do ifc_object. Também pode ser usado como **ifc_object.is_a(\"tipo ifc específico\")** para verificar se o ifc_object ao qual você tem uma referência é de um tipo ifc específico. Se for de um tipo específico, retornará True e False se não for. "
   ]
  },
  {
   "cell_type": "code",
   "execution_count": 5,
   "metadata": {},
   "outputs": [
    {
     "name": "stdout",
     "output_type": "stream",
     "text": [
      "a_wall é do tipo IfcWallStandardCase\n",
      "\n",
      "É True que a_wall é do tipo IfcWall\n"
     ]
    }
   ],
   "source": [
    "ifc_type = \"IfcWall\"\n",
    "\n",
    "# obter a lista de todos os objetos no arquivo \"f\" do tipo IfcWall\n",
    "ifc_wall_objects = f.by_type(ifc_type)\n",
    "\n",
    "# pegue o primeiro objeto de parede da lista.\n",
    "a_wall = ifc_wall_objects[0]\n",
    "\n",
    "# imprimir o tipo ifc de a_wall\n",
    "print(f\"a_wall é do tipo {a_wall.is_a()}\")\n",
    "\n",
    "# Verifique se a_wall é do tipo IfcWall\n",
    "print(f\"\\nÉ {a_wall.is_a(ifc_type)} que a_wall é do tipo IfcWall\")"
   ]
  },
  {
   "cell_type": "markdown",
   "metadata": {},
   "source": [
    "## O operador \".\" em Python com ifcopenshell\n",
    "\n",
    "Quando você tem uma referência a um objeto ifc, pode usar o **\".\"** operador para acessar seus atributos como: ```\n",
    "ifc_object.Attribute```. \n",
    "\n",
    "O nome é um atributo comum de objetos, bem como a descrição. \n"
   ]
  },
  {
   "cell_type": "code",
   "execution_count": 6,
   "metadata": {},
   "outputs": [
    {
     "name": "stdout",
     "output_type": "stream",
     "text": [
      "O nome de a_wall é Basic Wall:Generic - 200mm:345653\n",
      "A descrição de a_wall é None\n"
     ]
    }
   ],
   "source": [
    "# imprimir a_walls Atributo de nome\n",
    "print(f\"O nome de a_wall é {a_wall.Name}\")\n",
    "\n",
    "# print a_walls Descrição do atributo\n",
    "print(f\"A descrição de a_wall é {a_wall.Description}\")"
   ]
  },
  {
   "cell_type": "markdown",
   "metadata": {},
   "source": [
    "## Documentação Ifcopenshell e buildingSMARTs IFC\n",
    "\n",
    "### A função by_type que constrói a documentação IFC do SMART\n",
    "\n",
    "Você pode se perguntar o que acontece se você passar uma entidade para **by_type()** que não está definida no esquema IFC. Em seguida, a função **retorna um erro**\n",
    "\n",
    "Isso ocorre porque o ifcopenshell conhece o esquema ifc. Portanto, ao trabalhar com ifcopenshell, a documentação sobre o esquema ifc que define o modelo com o qual você está trabalhando é muito útil.\n",
    "\n",
    "### A função is_a () e a documentação IFC do buildingSMARTs\n",
    "\n",
    "É bastante óbvio que ```wall_in_list_of_walls.is_a (\" IfcWall \")``` retornaria ```True``` e ```wall_in_list_of_walls.is_a (\"IfcWindow\")``` retornaria ``` False ```. \n",
    "\n",
    "No entanto, você percebeu que o tipo era IfcWallStandardCase, mas também de tupe IfcWall? O que você tenta:\n",
    "\n",
    "```wall_in_list_of_walls.is_a (\" IfcBuildingElement \")```?\n",
    "\n",
    "Verifique a documentação de [IfcWall](http://docs.buildingsmartalliance.org/MVD_WSIE/schema/ifcsharedbldgelements/lexical/ifcwall.htm) e avalie seu gráfico de herança antes de tentar.  "
   ]
  },
  {
   "cell_type": "code",
   "execution_count": 7,
   "metadata": {},
   "outputs": [
    {
     "data": {
      "text/plain": [
       "True"
      ]
     },
     "execution_count": 7,
     "metadata": {},
     "output_type": "execute_result"
    }
   ],
   "source": [
    "# Tente com \"IfcBuildingElement\", \"IfcElement\", \"IfcProduct\" e \"IfcRoot\":\n",
    "\n",
    "a_wall.is_a(\"IfcBuildingElement\")"
   ]
  },
  {
   "cell_type": "markdown",
   "metadata": {},
   "source": [
    "### O operador \".\" usando ifcopenshell e buildingSMARTs documentação IFC\n",
    "\n",
    "Quando você tem uma referência a um tipo ifc que está em seu arquivo usando a função **f.by_type()**, você pode consultar a documentação novamente para ver o que pode fazer com ele.\n",
    "\n",
    "ifcopenshell suporta o esquema e permite que você acesse os atributos dos objetos por meio do operador **\".\"**.\n",
    "\n",
    "Então, olhando para a documentação de [IfcWall](https://standards.buildingsmart.org/IFC/DEV/IFC4_2/FINAL/HTML/schema/ifcsharedbldgelements/lexical/ifcwall.htm) novamente, vemos que IfcWall é herdado de IfcRoot, que fornece os seguintes atributos:\n",
    "\n",
    "* GlobalId\n",
    "* OwnerHistory\n",
    "* Nome\n",
    "* Descrição "
   ]
  },
  {
   "cell_type": "code",
   "execution_count": 8,
   "metadata": {},
   "outputs": [
    {
     "name": "stdout",
     "output_type": "stream",
     "text": [
      "GlobalId: 1xzRHg5wPCVvg4uLjqox1I,\n",
      "OwnerHistory: #48=IfcOwnerHistory(#45,#5,$,.NOCHANGE.,$,$,$,1556267234),\n",
      "Name: Basic Wall:Generic - 200mm:345653,\n",
      "Description: None\n"
     ]
    }
   ],
   "source": [
    "# Se nossa parede é herdada de IfcRoot, ela deve ter os seguintes atributos:\n",
    "\n",
    "guid = a_wall.GlobalId\n",
    "owner_history = a_wall.OwnerHistory\n",
    "name = a_wall.Name\n",
    "description = a_wall.Description \n",
    "\n",
    "print(f\"GlobalId: {guid},\\nOwnerHistory: {owner_history},\\nName: {name},\\nDescription: {description}\")\n"
   ]
  },
  {
   "cell_type": "markdown",
   "metadata": {},
   "source": [
    "Conforme mostrado acima, o operador **\".\"** trabalha diretamente nos nomes dos atributos do esquema. \n",
    "\n",
    "Também pode ser usado em objetos retornados, como [IfcOwnerHistory](https://standards.buildingsmart.org/IFC/RELEASE/IFC2x3/TC1/HTML/ifcutilityresource/lexical/ifcownerhistory.htm). \n",
    "\n",
    "Conforme descrito pelo gráfico de herança dos objetos **IfcOwnerHistory**, **OwningUser** e **OwningApplication** são atributos deste objeto.\n",
    "\n",
    "Novamente, eles se referem a [IfcPersonAndOrganization](https://standards.buildingsmart.org/IFC/RELEASE/IFC2x3/TC1/HTML/ifcactorresource/lexical/ifcpersonandorganization.htm) e [IfcApplication](https://standards.buildingsmart.org/IFC/RELEASE/IFC2x3/TC1/HTML/ifcutilityresource/lexical/ifcapplication.htm) respectivamente. "
   ]
  },
  {
   "cell_type": "code",
   "execution_count": 9,
   "metadata": {},
   "outputs": [
    {
     "name": "stdout",
     "output_type": "stream",
     "text": [
      "Pessoa: #39=IfcPerson($,'Eikerol','Hans',('Martin'),$,$,$,(#35)), \n",
      "Organização: #44=IfcOrganization($,'','',$,$), \n",
      "Funções: None\n",
      "\n",
      "Desenvolvedorr: #1=IfcOrganization($,'Autodesk Revit 2019 (ENU)',$,$,$),\n",
      "Versão: 2019,\n",
      "Nome do App: Autodesk Revit 2019 (ENU), \n",
      "ID do App: Revit\n"
     ]
    }
   ],
   "source": [
    "## OwningUser:\n",
    "owning_user = owner_history.OwningUser\n",
    "\n",
    "# atributos ref docs\n",
    "\n",
    "the_person = owning_user.ThePerson\n",
    "the_org = owning_user.TheOrganization\n",
    "roles = owning_user.Roles \n",
    "print(f\"Pessoa: {the_person}, \\nOrganização: {the_org}, \\nFunções: {roles}\\n\")\n",
    "\n",
    "## OwningApplication: \n",
    "\n",
    "owning_app = owner_history.OwningApplication\n",
    "\n",
    "# atributos ref docs \n",
    "\n",
    "app_dev = owning_app.ApplicationDeveloper\n",
    "version = owning_app.Version\n",
    "app_f_name = owning_app.ApplicationFullName\n",
    "app_id = owning_app.ApplicationIdentifier\n",
    "\n",
    "print(f\"Desenvolvedorr: {app_dev},\\nVersão: {version},\\nNome do App: {app_f_name}, \\nID do App: {app_id}\")"
   ]
  },
  {
   "cell_type": "markdown",
   "metadata": {},
   "source": [
    "**Limpeza acessando objetos**"
   ]
  },
  {
   "cell_type": "code",
   "execution_count": 10,
   "metadata": {},
   "outputs": [
    {
     "name": "stdout",
     "output_type": "stream",
     "text": [
      "Pesoas que receberam o nome:\t Hans,\n",
      "Desenvolvedores do APP:\t\t Autodesk Revit 2019 (ENU),\n",
      "App:\t\t\t Revit,\n",
      "Versão:\t\t 2019\n"
     ]
    }
   ],
   "source": [
    "## O objeto pessoa contém apenas o terceiro atributo. Esse é o givenName\n",
    "\n",
    "p_given_name = the_person.GivenName\n",
    "\n",
    "## O objeto IfcOrganization retorna apenas strings vazias para os parâmetros 2 e 3. Portanto, não é necessário.\n",
    "## roles também não está retornando nenhum valor, portanto, não é necessário.\n",
    "\n",
    "## a organização que desenvolveu isso foi a Autodesk, conforme mostrado pelo atributo 2 do objeto IfcOrganization.\n",
    "\n",
    "org_name = app_dev.Name\n",
    "\n",
    "#### A versão e o id do aplicativo estão retornando um valor de string válido.\n",
    "# adicionando algum deslocamento de linha (\\n) e tabulações (\\t)\n",
    "\n",
    "print(f\"Pesoas que receberam o nome:\\t {p_given_name},\\nDesenvolvedores do APP:\\t\\t {org_name},\\nApp:\\t\\t\\t {app_id},\\nVersão:\\t\\t {version}\")"
   ]
  },
  {
   "cell_type": "markdown",
   "metadata": {},
   "source": [
    "## Combinando by_type, is_a e o operador \".\" para extrair informações do conjunto de propriedades\n",
    "\n",
    "Então, com esses recursos ifcopenshell e algum conhecimento de python e ifc, podemos fazer coisas interessantes. \n",
    "\n",
    "Por exemplo, poderíamos criar uma função para obter todas as informações do conjunto de quantidade de **IfcElements** que passamos.\n",
    "\n",
    "Em Ifc, os conjuntos de propriedades estão relacionados a elementos por meio do atributo **IsDefinedBy**, que retorna um [IfcRelDefinesByProperties](https://standards.buildingsmart.org/IFC/RELEASE/IFC2x3/TC1/HTML/ifckernel/lexical/ifcreldefinesbyproperties.htm) que é um relacionamento objetificado que define os relacionamentos entre as definições do conjunto de propriedades e os objetos."
   ]
  },
  {
   "cell_type": "code",
   "execution_count": 11,
   "metadata": {},
   "outputs": [
    {
     "data": {
      "text/plain": [
       "(#661=IfcRelDefinesByProperties('24Qrd55HL9WfKkEtlVL8LF',#48,$,$,(#636),#659),\n",
       " #64724=IfcRelDefinesByType('2aIqCAM_rAEOQ4oelab0tD',#48,$,$,(#636),#654))"
      ]
     },
     "execution_count": 11,
     "metadata": {},
     "output_type": "execute_result"
    }
   ],
   "source": [
    "a_wall.IsDefinedBy"
   ]
  },
  {
   "cell_type": "markdown",
   "metadata": {},
   "source": [
    "Os atributos mais importantes dessa entidade de relacionamento objetivada são **RelatedObjects** e **RelatingPropertyDefinition**, que é respectivamente a lista de todos os objetos que têm essa definição de conjunto de propriedades relacionadas e a própria definição de conjunto de propriedades.\n",
    "\n",
    "Um caso de uso disso seria ver todos os objetos que têm a mesma definição de conjunto de propriedades."
   ]
  },
  {
   "cell_type": "code",
   "execution_count": 12,
   "metadata": {},
   "outputs": [
    {
     "data": {
      "text/plain": [
       "(#636=IfcWallStandardCase('1xzRHg5wPCVvg4uLjqox1I',#48,'Basic Wall:Generic - 200mm:345653',$,'Basic Wall:Generic - 200mm:398',#609,#634,'345653'),)"
      ]
     },
     "execution_count": 12,
     "metadata": {},
     "output_type": "execute_result"
    }
   ],
   "source": [
    "# Quais objetos têm a definição de conjunto de propriedades com o guid 2mdDGS1KjAKguN3yt8a52r?\n",
    "# Quais objetos têm a definição de conjunto de propriedades com o guid 0CpuJJ7wTFA8vmntA lqi?\n",
    "\n",
    "# alternative: note that you can also use ifc_file.by_guid(guid) or even ifc_file[guid]. \n",
    "\n",
    "guid = \"24Qrd55HL9WfKkEtlVL8LF\"\n",
    "pSet_w_guid = [pset for pset in a_wall.IsDefinedBy if pset.GlobalId ==guid][0]\n",
    "objects_w_pset = pSet_w_guid.RelatedObjects\n",
    "objects_w_pset\n",
    "\n",
    "# Como visto na saída anterior, a lista é exibida na formatação da etapa.\n",
    "# para 2mdDGS1KjAKguN3yt8a52r (#91)\n",
    "# e para 0CpuJJ7wTFA8vmntAxzlqi (#216, #135, #134, #131, #220, #130, #92, #155, #144, #132, #91, #160, #143, #154, #157, #158, #257, #261)"
   ]
  },
  {
   "cell_type": "markdown",
   "metadata": {},
   "source": [
    "Outro caso de uso é obviamente para acessar as propriedades que são definidas nesses conjuntos.\n",
    "\n",
    "Para fazer isso, precisamos acessar o [IfcPropertySet](https://standards.buildingsmart.org/IFC/DEV/IFC4_2/FINAL/HTML/schema/ifckernel/lexical/ifcpropertyset.htm) por meio de seu atributo RelatingPropertyDefinition.\n",
    "\n",
    "Como, por exemplo, para o **pSet** acima:"
   ]
  },
  {
   "cell_type": "code",
   "execution_count": 13,
   "metadata": {},
   "outputs": [
    {
     "data": {
      "text/plain": [
       "#659=IfcPropertySet('1xzRHg5wPCVvg4wgPqox1I',#48,'Pset_WallCommon',$,(#593,#656,#657,#658))"
      ]
     },
     "execution_count": 13,
     "metadata": {},
     "output_type": "execute_result"
    }
   ],
   "source": [
    "pSet=pSet_w_guid.RelatingPropertyDefinition\n",
    "pSet"
   ]
  },
  {
   "cell_type": "markdown",
   "metadata": {},
   "source": [
    "Isso também pode retornar [IfcElementQuantity](https://standards.buildingsmart.org/IFC/RELEASE/IFC2x3/TC1/HTML/ifcproductextension/lexical/ifcelementquantity.htm). \n",
    "\n",
    "**pSets**, **hasProperties** e **qSets** tem Quantities, portanto, você deve verificar se é do tipo **IfcPropertySet** para acessar com segurança seu atributo **HasProperties**.\n",
    "\n",
    "Lembra-se de uma boa função ifcopenshell que faz isso?"
   ]
  },
  {
   "cell_type": "code",
   "execution_count": 14,
   "metadata": {},
   "outputs": [
    {
     "name": "stdout",
     "output_type": "stream",
     "text": [
      "(#593=IfcPropertySingleValue('LoadBearing',$,IfcBoolean(.T.),$), #656=IfcPropertySingleValue('Reference',$,IfcIdentifier('Generic - 200mm'),$), #657=IfcPropertySingleValue('ExtendToStructure',$,IfcBoolean(.F.),$), #658=IfcPropertySingleValue('IsExternal',$,IfcBoolean(.T.),$))\n"
     ]
    }
   ],
   "source": [
    "pSet = pSet_w_guid.RelatingPropertyDefinition\n",
    "if pSet.is_a(\"IfcPropertySet\"):\n",
    "    print(pSet.HasProperties)"
   ]
  },
  {
   "cell_type": "markdown",
   "metadata": {},
   "source": [
    "### Juntando tudo\n",
    "\n",
    "Como isso resulta em uma lista um pouco não formatada de propriedades diferentes, onde precisamos **pontilhar muito**, Thomas forneceu alguma mágica do Python abaixo usando a função [map](http://book.pythontips.com/en/latest/map_filter.html)."
   ]
  },
  {
   "cell_type": "code",
   "execution_count": 15,
   "metadata": {},
   "outputs": [
    {
     "data": {
      "text/plain": [
       "(('LoadBearing', True),\n",
       " ('Reference', 'Generic - 200mm'),\n",
       " ('ExtendToStructure', False),\n",
       " ('IsExternal', True))"
      ]
     },
     "execution_count": 15,
     "metadata": {},
     "output_type": "execute_result"
    }
   ],
   "source": [
    "# Recebe um pset do tipo IfcPropertySet ou IfcElementQuanitites e retorna uma tupla de suas tuplas de valor-chave respectivamente\n",
    "# propriedades (nome, valor) ou quantidades (nome, valor)\n",
    "\n",
    "def get_key_values(pset):\n",
    "    def to_tuple(prop):\n",
    "        if prop.is_a(\"IfcPropertySingleValue\"):\n",
    "            return prop.Name, prop.NominalValue.wrappedValue\n",
    "        elif prop.is_a(\"IfcPhysicalQuantity\"):\n",
    "            if prop.is_a(\"IfcQuantityArea\"):\n",
    "                return prop.Name, prop.AreaValue\n",
    "        \n",
    "    if pset.is_a(\"IfcPropertySet\"):\n",
    "        return tuple(map(to_tuple, pset.HasProperties))\n",
    "    elif pset.is_a(\"IfcElementQuantity\"):\n",
    "        return tuple(map(to_tuple, pset.Quantities))\n",
    "    else: return ()\n",
    "\n",
    "# testá-lo em nosso pSet acima:\n",
    "\n",
    "get_key_values(pSet_w_guid.RelatingPropertyDefinition)"
   ]
  },
  {
   "cell_type": "code",
   "execution_count": 17,
   "metadata": {},
   "outputs": [
    {
     "name": "stdout",
     "output_type": "stream",
     "text": [
      "Sem IfcElementQuantity no modelo\n"
     ]
    }
   ],
   "source": [
    "# Teste com IfcElementQuantity \n",
    "\n",
    "test_el_Quantity = f.by_type(\"IfcElementQuantity\")\n",
    "if test_el_Quantity:\n",
    "    get_key_values(test_el_Quantity[0])\n",
    "else:\n",
    "    print(\"Sem IfcElementQuantity no modelo\")"
   ]
  },
  {
   "cell_type": "code",
   "execution_count": null,
   "metadata": {},
   "outputs": [],
   "source": []
  },
  {
   "cell_type": "code",
   "execution_count": null,
   "metadata": {},
   "outputs": [],
   "source": []
  }
 ],
 "metadata": {
  "kernelspec": {
   "display_name": "Python 3",
   "language": "python",
   "name": "python3"
  },
  "language_info": {
   "codemirror_mode": {
    "name": "ipython",
    "version": 3
   },
   "file_extension": ".py",
   "mimetype": "text/x-python",
   "name": "python",
   "nbconvert_exporter": "python",
   "pygments_lexer": "ipython3",
   "version": "3.8.5"
  }
 },
 "nbformat": 4,
 "nbformat_minor": 2
}

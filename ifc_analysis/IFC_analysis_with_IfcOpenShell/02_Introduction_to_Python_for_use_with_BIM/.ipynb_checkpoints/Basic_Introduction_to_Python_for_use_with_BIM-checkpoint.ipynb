{
 "cells": [
  {
   "cell_type": "markdown",
   "metadata": {},
   "source": [
    "# Introduction to Python 3 in jupyternotebook\n",
    "\n",
    "At the end of this notebook you will learn how to visualize objects in a BIM model. Like the windows of Grethes hus\n",
    "\n",
    "*Arranged by [BIMFag](https://bimfag.no/).*"
   ]
  },
  {
   "cell_type": "markdown",
   "metadata": {},
   "source": [
    "## Exercise 4 - how many IfcWall elements are in Grethes Hus model? \n",
    "In the excercise below we want you to use what you have learned above to find how many elements of type IfcWall are in the Grethes Hus Modell. \n",
    "\n",
    "We have provided some code to get the file and to query out all elements of type IfcWall and stored it in a variable called *walls*. \n",
    "\n",
    "Print out to the screen the number of walls there are in the variable **walls**. "
   ]
  },
  {
   "cell_type": "code",
   "execution_count": 1,
   "metadata": {},
   "outputs": [
    {
     "name": "stdout",
     "output_type": "stream",
     "text": [
      "0\n"
     ]
    }
   ],
   "source": [
    "# We import ifcopenshell and open the Grethes Hus Model and store it in a variable called file. \n",
    "import ifcopenshell \n",
    "file = ifcopenshell.open(\"models/Grethes-hus-bok-2.ifc\")\n",
    "\n",
    "#We query the file for its number of IfcWall type elements\n",
    "walls = file.by_type(\"IfcWall\")\n",
    "\n",
    "\"\"\"ToDo: Change the zero below to list out the number of walls in the file.\"\"\"\n",
    "numberOfWalls = 0 # store the number of IfcWall types in this variable. \n",
    "print(numberOfWalls)"
   ]
  },
  {
   "cell_type": "markdown",
   "metadata": {},
   "source": [
    "# Conditions and If statements \n",
    "\n",
    "> Python supports the usual logical conditions from mathematics:\n",
    "\n",
    "> * Equals: a == b\n",
    "> * Not Equals: a != b\n",
    "> * Less than: a < b\n",
    "> * Less than or equal to: a <= b\n",
    "> * Greater than: a > b\n",
    "> * Greater than or equal to: a >= b\n",
    ">\n",
    "> These conditions can be used in several ways, most commonly in \"if statements\" and loops. (ref. [w3schools](https://www.w3schools.com/python/python_conditions.asp))\n",
    "\n",
    "We'll walk through use of if statements and the most common loops here and use it to explore some elements from the Grethes Hus Model. \n",
    "\n",
    "The syntax for a If statement that checks if a variable **a** Equals a variable **b** is as follows:\n",
    "\n",
    "```Python\n",
    "    a = 0\n",
    "    b = 2\n",
    "    if a == b:\n",
    "        print(\"they are eaqual\")\n",
    "```\n",
    "Notice the **indentation**. Python relies on indentation, using whitespace, to define scope in the code. Other programming languages often use curly-brackets for this purpose. Here the print is within the if statement. \n",
    "\n",
    "Lets use an if statement to check if there are more than zero walls in the Grethes Hus Model. "
   ]
  },
  {
   "cell_type": "code",
   "execution_count": 47,
   "metadata": {},
   "outputs": [],
   "source": [
    "## Here we refer back to the variable \"numberOfWalls\" as defined above, and check if its greated than 0. \n",
    "if numberOfWalls > 0:\n",
    "    print(\"You probably did something right above.\")"
   ]
  },
  {
   "cell_type": "markdown",
   "metadata": {},
   "source": [
    "## elif and else\n",
    "We could also add to the If statement, by using an **Elif** statement. This will allow you to add another condition to check. At the end, we could also do an **Else** statement. This will be executed if no of the previous conditions where met. The syntax for this is: \n",
    "\n",
    "```Python\n",
    "    if <condition1>:\n",
    "        # do something based on condition1\n",
    "    elif <condition2>:\n",
    "        # Do something based on condition2\n",
    "    else:\n",
    "        # Do something if non of the previouse contitions where met. \n",
    "```\n",
    "You are free to at as many elif statements as you wish, but you could only have one else statement. "
   ]
  },
  {
   "cell_type": "code",
   "execution_count": 48,
   "metadata": {},
   "outputs": [
    {
     "name": "stdout",
     "output_type": "stream",
     "text": [
      "You did probably do something wrong above\n"
     ]
    }
   ],
   "source": [
    "if numberOfWalls > 0:\n",
    "    print(\"You probably did something right above.\")\n",
    "elif numberOfWalls == 0:\n",
    "    print(\"You did probably do something wrong above\")\n",
    "else:\n",
    "    print(\"How could this happen...?\")"
   ]
  },
  {
   "cell_type": "markdown",
   "metadata": {},
   "source": [
    "## Check if an element exist in a list or tuple\n",
    "Often times one would like to check if a particular value is in a list or a tuple. This is easy with python. "
   ]
  },
  {
   "cell_type": "code",
   "execution_count": 33,
   "metadata": {},
   "outputs": [
    {
     "name": "stdout",
     "output_type": "stream",
     "text": [
      "I found BIMFag in myList!\n",
      "I found BIMFag in myTuple!\n"
     ]
    }
   ],
   "source": [
    "# Check if a value is in a list \n",
    "myList = [\"BIMFag\", \"banana\", \"BIM\"]\n",
    "if \"BIMFag\" in myList:\n",
    "    print(\"I found BIMFag in myList!\")\n",
    "myTuple = [\"BIMFag\", \"banana\", \"BIM\"]\n",
    "if \"BIMFag\" in myTuple:\n",
    "    print(\"I found BIMFag in myTuple!\")"
   ]
  },
  {
   "cell_type": "markdown",
   "metadata": {},
   "source": [
    "# While Loops\n",
    "Conditions and if statements are usefull also in while loops. While loops are executing as long as a condition is met. The syntax for while loops are: \n",
    "\n",
    "```Python\n",
    "   x = 1\n",
    "   while x<10: # Checks if x is less than 10\n",
    "       # do something eg.\n",
    "       print(x) # since x is bigger than zero this will print for as long as x is less than 10\n",
    "       x = x + 1 ## this statement is adding 1 to x for each iteration of the loop. \n",
    "```\n",
    "Keep in mind that if the condition on which the while loop is checking on is never met, it will execute indefinately. so whitout the ```Python x= x+1``` statement above, this would have just printed out 1 indefinately. \n",
    "\n",
    "Notice the **indentation**. As mentioned above Python relies on indentation, using whitespace, to define what is within the while loop. Here the ```print(x)``` and ```x=x+1```statement is indented, so to show that it is inside the while loop. "
   ]
  },
  {
   "cell_type": "code",
   "execution_count": 54,
   "metadata": {},
   "outputs": [
    {
     "name": "stdout",
     "output_type": "stream",
     "text": [
      "x is: 1 and numberOfWalls is: 0\n"
     ]
    }
   ],
   "source": [
    "# Lets see it in action. Print out x as long as its less than the number of walls\n",
    "x = 1\n",
    "while x < numberOfWalls:\n",
    "    print(x)\n",
    "    x = x +1\n",
    "else:\n",
    "    print(\"x is: %s and numberOfWalls is: %s\"%(x,numberOfWalls))"
   ]
  },
  {
   "cell_type": "markdown",
   "metadata": {},
   "source": [
    "## Loops, break and else\n",
    "Notice that the loop exits when the condition is no longer met. Notice also that loops could also have an else statement, similar to if statements. If the loop condition are no longer met, then the else part is executed. \n",
    "\n",
    "If we want to exit the while loop early one could use the special **break** statement. The while loop could have a condition that always will be true, like ```True```but then have a check further in, and use ```break```to exit the loop based on a condition in the condition of the respective check. "
   ]
  },
  {
   "cell_type": "code",
   "execution_count": 50,
   "metadata": {},
   "outputs": [
    {
     "name": "stdout",
     "output_type": "stream",
     "text": [
      "1\n",
      "2\n",
      "3\n",
      "4\n",
      "5\n",
      "6\n",
      "7\n",
      "8\n",
      "9\n",
      "10\n"
     ]
    }
   ],
   "source": [
    "x = 1\n",
    "## Loop while True --> True is always True... \n",
    "while True: \n",
    "    print(x)\n",
    "    # check if x is bigger or eaqual to 10\n",
    "    if x >= 10:\n",
    "        break # if condition met, break out of the while loop. \n",
    "    x = x+1 # if the condition of the if statement was false, this get executed in the while loop. \n"
   ]
  },
  {
   "cell_type": "markdown",
   "metadata": {},
   "source": [
    "# For Loops\n",
    "A *for* loop is used for iterating over a sequence (that is either a list, a tuple, a dictionary, a set, or a string).\n",
    "\n",
    "The syntax for for loops in python is: \n",
    "\n",
    "```Python\n",
    "for element in listOfElements:\n",
    "    # Do something with each element eg. print it out.\n",
    "    print(element)\n",
    "```\n",
    "\n",
    "Notice the **indentation** here as well. It define what is within the for loop. Here the print statement is indented, so that will be done every iteration of the elements in the list.  "
   ]
  },
  {
   "cell_type": "code",
   "execution_count": 15,
   "metadata": {},
   "outputs": [
    {
     "name": "stdout",
     "output_type": "stream",
     "text": [
      "1\n",
      "2\n",
      "3\n",
      "4\n",
      "5\n",
      "6\n"
     ]
    }
   ],
   "source": [
    "myTuple = (1,2,3,4,5,6)\n",
    "\n",
    "for element in myTuple:\n",
    "    print(element)"
   ]
  },
  {
   "cell_type": "code",
   "execution_count": 18,
   "metadata": {},
   "outputs": [
    {
     "name": "stdout",
     "output_type": "stream",
     "text": [
      "1\n",
      "2\n",
      "3\n",
      "4\n",
      "5\n",
      "6\n"
     ]
    }
   ],
   "source": [
    "for i in range(6):\n",
    "    print(myTuple[i])"
   ]
  },
  {
   "cell_type": "markdown",
   "metadata": {},
   "source": [
    "## Iterating over a number of IfcWindow objects and access attributes\n",
    "Below we'll use a for loop to loop through all IfcWindow elements and print out some of it's direct attributes. See the IFC data dictinary for IFC 2.3 [here](https://standards.buildingsmart.org/IFC/RELEASE/IFC2x3/FINAL/HTML/). The main access page for the different IFC schema definitions can be found [here](https://technical.buildingsmart.org/standards/ifc/ifc-schema-specifications/)\n",
    "\n",
    "We'll be getting its **Name** attribute. Since the IfcWindow elements are objects in Python we could access these using the \".\" operator. \n",
    "\n",
    "Feel free to experiment with other attributes. You could eg. try with **OverallHeight and OverallWidth**. "
   ]
  },
  {
   "cell_type": "code",
   "execution_count": 19,
   "metadata": {},
   "outputs": [
    {
     "name": "stdout",
     "output_type": "stream",
     "text": [
      "The window elements name is: M_Fixed:_1400x2200mm:348960\n",
      "The window elements name is: M_Fixed:_1400x2200mm:350239\n",
      "The window elements name is: M_Fixed:_1400x2200mm:350479\n",
      "The window elements name is: M_Fixed:_1400x2200mm:350484\n",
      "The window elements name is: M_Fixed:_1400x2200mm:350489\n",
      "The window elements name is: M_Fixed:_1400x2200mm:350494\n",
      "The window elements name is: M_Fixed:_1400x2200mm:350499\n",
      "The window elements name is: M_Fixed:_1400x2200mm:350504\n",
      "The window elements name is: M_Fixed:_1400x2200mm:350509\n",
      "The window elements name is: M_Fixed:_1400x2200mm:350514\n",
      "The window elements name is: M_Fixed:_1400x2200mm:350519\n",
      "The window elements name is: M_Fixed:_1400x2200mm:350524\n",
      "The window elements name is: M_Fixed:_800x750mm:351890\n",
      "The window elements name is: M_Fixed:_1100x700mm:353017\n",
      "The window elements name is: M_Fixed:_800x700mm:354254\n",
      "The window elements name is: M_Fixed:_800x750mm:355941\n",
      "The window elements name is: M_Fixed:_1100x700mm:355942\n",
      "The window elements name is: M_Fixed:_800x700mm:355943\n",
      "The window elements name is: M_Fixed:_800x1000mm:356683\n",
      "The window elements name is: M_Fixed:_800x1000mm:357125\n",
      "The window elements name is: M_Fixed:_1400x1000mm:357137\n",
      "The window elements name is: M_Fixed:_800x2000mm:357354\n",
      "The window elements name is: M_Window-Casement-Double:_1400x1000mm:385488\n",
      "The window elements name is: M_Window-Casement-Double:_1400x1000mm:385889\n",
      "The window elements name is: M_Window-Casement-Double:_1400x1000mm:385919\n",
      "The window elements name is: M_Window-Casement-Double:_1400x1000mm:385922\n"
     ]
    }
   ],
   "source": [
    "# We import ifcopenshell and open the Grethes Hus Model and store it in a variable called file. \n",
    "import ifcopenshell \n",
    "file = ifcopenshell.open(\"models/Grethes-hus-bok-2.ifc\")\n",
    "\n",
    "#We query the file for its number of IfcWindow type elements\n",
    "windows = file.by_type(\"IfcWindow\")\n",
    "\n",
    "\"\"\"By uncommenting (removing the '#') the line below you see the contents of the windows variable\"\"\"\n",
    "#print(windows)\n",
    "\n",
    "# Here is the for loop and its syntax. Notice the indentation. \n",
    "for window in windows: \n",
    "    print(\"The window elements name is: \"+window.Name)"
   ]
  },
  {
   "cell_type": "markdown",
   "metadata": {},
   "source": [
    "# Functions \n",
    "\n",
    "Functions are a useful way to divide your code into blocks of code, that only runs when they are called. It is also a good way to share a small snippet of code with others. \n",
    "\n",
    "A function is defined by the special ```def```statement. Like the example below.\n",
    "\n",
    "## Defining a function"
   ]
  },
  {
   "cell_type": "code",
   "execution_count": 61,
   "metadata": {},
   "outputs": [],
   "source": [
    "def myDefinedFunction():\n",
    "    print(\"This is a print statement within my function\")"
   ]
  },
  {
   "cell_type": "markdown",
   "metadata": {},
   "source": [
    "Notice that the function uses the same indendation style as for If statements and loops as walked through above. A function could contain all the concepts we have walked through above as well. \n",
    "\n",
    "Notice however that noting happended above. That is why we havent called the function. It is however stored, so that we can call it below. \n",
    "## Calling / Using a function"
   ]
  },
  {
   "cell_type": "code",
   "execution_count": 62,
   "metadata": {},
   "outputs": [
    {
     "name": "stdout",
     "output_type": "stream",
     "text": [
      "This is a print statement within my function\n"
     ]
    }
   ],
   "source": [
    "myDefinedFunction()"
   ]
  },
  {
   "cell_type": "markdown",
   "metadata": {},
   "source": [
    "## Input variables to functions\n",
    "\n",
    "We could also build functions that takes in input variables that could be used in the function. Lets define a function that takes in a string variable and prints it out. "
   ]
  },
  {
   "cell_type": "code",
   "execution_count": 3,
   "metadata": {},
   "outputs": [
    {
     "name": "stdout",
     "output_type": "stream",
     "text": [
      "My variable is Hello again!\n"
     ]
    }
   ],
   "source": [
    "# A function definition that takes in a parameter called \"string\"\n",
    "def myDefinedFunction2(string):\n",
    "    print(\"My variable is %s\"%string)\n",
    "\n",
    "# A call to myDefinedFunction2 with the string variable \"Hello again!\"\n",
    "myDefinedFunction2(\"Hello again!\")"
   ]
  },
  {
   "cell_type": "code",
   "execution_count": 4,
   "metadata": {},
   "outputs": [
    {
     "name": "stdout",
     "output_type": "stream",
     "text": [
      "My variable is and again and again\n"
     ]
    }
   ],
   "source": [
    "# A new call to myDefinedFunction2 with the string \"and again and again\"\n",
    "myDefinedFunction2(\"and again and again\")"
   ]
  },
  {
   "cell_type": "markdown",
   "metadata": {},
   "source": [
    "## Input variables and assumed type\n",
    "What would happen if we call myDefinedFunction2 with a number, instead of a string? Try it below. "
   ]
  },
  {
   "cell_type": "code",
   "execution_count": null,
   "metadata": {},
   "outputs": [],
   "source": [
    "string = 10\n",
    "\"\"\"Try calling myDefinedFunction2 with the variable define above\"\"\"\n",
    "\n"
   ]
  },
  {
   "cell_type": "markdown",
   "metadata": {},
   "source": [
    "## Exercise 5 - ensure that a function works as intended\n",
    "You can pass as many variables to a function as you'd like, just separate them with a comma like we do with var1 and var 2 below. They could be whatever object you'd like. \n",
    "\n",
    "Below we want to create a function that takes in two variables, var1 and var2. If they are both strings we want to just concatenate them together and print them out. If they are not strings we only want to add them to a list and print \n",
    "\n",
    "**A couple of hints**\n",
    "\n",
    "* you could check if a variable ```a``` is a string by using ```isinstance(a,str)```\n",
    "* If you want two conditions to both be True in order to pass, you could use the ```and```operator\n",
    "\n",
    "**The correct output:**\n",
    "```\n",
    "Hello, World!\n",
    "['hello', 4]\n",
    "```"
   ]
  },
  {
   "cell_type": "code",
   "execution_count": 69,
   "metadata": {},
   "outputs": [
    {
     "name": "stdout",
     "output_type": "stream",
     "text": [
      "Hello, World!\n",
      "['hello', 4]\n"
     ]
    }
   ],
   "source": [
    "def myFunc3(var1,var2):\n",
    "    \"\"\"Fill in code to comlete the challenge\"\"\"\n",
    "\n",
    "\"\"\"Don't change the code below\"\"\"    \n",
    "myFunc3(\"Hello, \",\"World!\")\n",
    "myFunc3(\"hello\",4)"
   ]
  },
  {
   "cell_type": "markdown",
   "metadata": {},
   "source": [
    "## Lists and tuples as input variables\n",
    "We could also add lists and tuples as input variables to functions. "
   ]
  },
  {
   "cell_type": "code",
   "execution_count": 6,
   "metadata": {},
   "outputs": [],
   "source": [
    "def myFunc4(myList):\n",
    "    for elem in myList:\n",
    "        print(elem)"
   ]
  },
  {
   "cell_type": "code",
   "execution_count": 72,
   "metadata": {},
   "outputs": [
    {
     "name": "stdout",
     "output_type": "stream",
     "text": [
      "1\n",
      "2\n",
      "3\n",
      "4\n",
      "5\n",
      "6\n"
     ]
    }
   ],
   "source": [
    "# Define a list \n",
    "aList = [1,2,3]\n",
    "# Send it as input variable to myFunc4\n",
    "myFunc4(aList)\n",
    "# Define a tuple \n",
    "aTuple = (4,5,6)\n",
    "# Send it as input variable to myFunc4\n",
    "myFunc4(aTuple)"
   ]
  },
  {
   "cell_type": "markdown",
   "metadata": {},
   "source": [
    "### What will happend if you pass a string instead of a list?\n",
    "Try below to call the function above passing in a string value like eg. ```myFunc4(\"your name\")```\n",
    "\n",
    "What do you think will happen? "
   ]
  },
  {
   "cell_type": "code",
   "execution_count": 9,
   "metadata": {},
   "outputs": [],
   "source": [
    "### Do the test here ###\n",
    "\n"
   ]
  },
  {
   "cell_type": "markdown",
   "metadata": {},
   "source": [
    "## Have functions return values\n",
    "\n",
    "A good way to use functions is to have them perform som logic on input variables and have them return the result. For this you use the ```return``` statement. "
   ]
  },
  {
   "cell_type": "code",
   "execution_count": 15,
   "metadata": {},
   "outputs": [
    {
     "name": "stdout",
     "output_type": "stream",
     "text": [
      "54\n"
     ]
    }
   ],
   "source": [
    "# defines a function that takes in a list of items as parameter, \n",
    "# loops through it and adds all integers together, and then returns the resulting value\n",
    "def myFunc5(myList):\n",
    "    tmp = 0 # Defined outside the for loop to be able to return it outside the scope of the loop\n",
    "    for elem in myList:\n",
    "        if isinstance(elem,int):\n",
    "            tmp = tmp +elem\n",
    "    return tmp\n",
    "aList = [\"string\",10,10,30,4, \"stuff\"]\n",
    "print(myFunc5(aList))"
   ]
  },
  {
   "cell_type": "markdown",
   "metadata": {},
   "source": [
    "## Exercise 6 - Names and Descriptions of Window objects. \n",
    "\n",
    "Many times one would get an ifc model where one want to change or restructure information in the file. That is tediouse work on big models, so one may want to script it. In addition it would be a good code block to have, regardless of object type. \n",
    "\n",
    "In IFC the name and description is something all objects *inherrit* from IfcRoot, and cosequently they all have the following attributes ([ref. Ifc documentation](https://standards.buildingsmart.org/IFC/RELEASE/IFC2x3/FINAL/HTML/)): \n",
    "\n",
    ">* GlobalId\t : \tAssignment of a globally unique identifier within the entire software world.\n",
    ">* OwnerHistory\t : \tAssignment of the information about the current ownership of that object, including owning actor, >application, local identification and information captured about the recent changes of the object, NOTE: only the >last modification in stored.\n",
    ">* Name\t : \tOptional name for use by the participating software systems or users. For some subtypes of IfcRoot the >insertion of the Name attribute may be required. This would be enforced by a where rule.\n",
    ">* Description\t : \tOptional description, provided for exchanging informative comments.\n",
    "\n",
    "So, it might be a good idea to package code into functions. That way we could share it and reuse the code regardless of which element we want to change the name and description on. \n",
    "\n",
    "The first challenge is to create a function that takes in a IfcWindow (or another Ifc object), get the Name and store that in the Description property of the object. Then, add an input variable that *if set* will be given as a Name to the window or it will store a blank string as the Name. \n",
    "\n",
    "The second challenge is to write code to print out the names and descriptions (before and after) to confirm your result. \n",
    "\n",
    "\n",
    "** Some hints:** \n",
    "* Python functions could have input variables that have default variables eg. def func (var1,var2 =\"\"):.\n",
    "* Look above to find code that enables you to import the ifcopenshell code library, that have code that enables you to work with teh IFC file.\n",
    "* Look above, or eg. in [academy.ifcopenshell.org](http://academy.ifcopenshell.org), to find code in the ifcopenshell library that could store a reference to an IFC model in a variable and another function that lets you query that file for all IfcWindow objects you might want to find in that model. \n",
    "* You can set the ```Name```variable of a window object that is store in a variable called \"window\" by ```window.Name = \"the name you want to set\"````\n",
    "\n"
   ]
  },
  {
   "cell_type": "code",
   "execution_count": 17,
   "metadata": {},
   "outputs": [],
   "source": [
    "### Add your code here ### \n",
    "\n",
    "\n",
    "\n"
   ]
  },
  {
   "cell_type": "markdown",
   "metadata": {},
   "source": [
    "# Classes and Objects\n",
    "\n",
    "We have already worked alot with objects, some window objects, some string objects, and even some list objects. So, what is objects and where do they come from? Objects are an encapsulation of variables and functions into a single entity. Objects get their variables and functions from classes. Classes are essentially a template to create your objects. \n",
    "\n",
    "When functions are code blocks that could be shared and reused, classes and objects are even bigger blocks of reusable code. For the IfcWindow example above, it has a class that defines what the variables and functions the window objects of that class has. The documentation of what capabilities the IfcWindow class should have is defined by the Ifc documentation for IfcWindow. You could also have documentation of how that class is defined/implemented in the particular programming language. \n",
    "\n",
    "A very basic class would look something like this:\n",
    "\n",
    "```Python\n",
    "class MyWindowClass:\n",
    "    nameVariable = \"Window\"\n",
    "\n",
    "    def namePrint(self):\n",
    "        print(\"My Name is \"+self.nameVariable)\n",
    "```\n",
    "## Defining a Class\n",
    "Lets define a Window Class"
   ]
  },
  {
   "cell_type": "code",
   "execution_count": 29,
   "metadata": {},
   "outputs": [],
   "source": [
    "## Defines a Window Class\n",
    "class MyWindowClass:\n",
    "    nameVariable = \"Window\"\n",
    "\n",
    "    def namePrint(self):\n",
    "        print(\"My Name is \"+self.nameVariable)"
   ]
  },
  {
   "cell_type": "markdown",
   "metadata": {},
   "source": [
    "## Creating objects from class definitions\n",
    "When you have defined a class, you could create several objects based on it. "
   ]
  },
  {
   "cell_type": "code",
   "execution_count": 30,
   "metadata": {},
   "outputs": [],
   "source": [
    "## Defines two different objects based on the MyWindowClass \n",
    "window1 = MyWindowClass()\n",
    "window2 = MyWindowClass()"
   ]
  },
  {
   "cell_type": "markdown",
   "metadata": {},
   "source": [
    "## Accessing Object variables and functions\n",
    "Now the window1 and window2 objects have both a nameVariable and namePrint function each. As we have seen above, we access its variables (attributes) by the \".\" operator. "
   ]
  },
  {
   "cell_type": "code",
   "execution_count": 32,
   "metadata": {},
   "outputs": [
    {
     "data": {
      "text/plain": [
       "'Window'"
      ]
     },
     "execution_count": 32,
     "metadata": {},
     "output_type": "execute_result"
    }
   ],
   "source": [
    "# Get the nameVariable of window1\n",
    "window1.nameVariable"
   ]
  },
  {
   "cell_type": "markdown",
   "metadata": {},
   "source": [
    "### MiniExercise: Do the same for window2 below"
   ]
  },
  {
   "cell_type": "code",
   "execution_count": null,
   "metadata": {},
   "outputs": [],
   "source": [
    "### Get the the name variable of window2\n",
    "\n",
    "\n"
   ]
  },
  {
   "cell_type": "markdown",
   "metadata": {},
   "source": [
    "## Exercise 7 - Setting object variables\n",
    "Both windows have the same name. Use what you know from above to set the name of window1 and window2 to something proper. "
   ]
  },
  {
   "cell_type": "code",
   "execution_count": null,
   "metadata": {},
   "outputs": [],
   "source": [
    "### Solve Exercise 7 here:\n",
    "\n",
    "\n",
    "\n"
   ]
  },
  {
   "cell_type": "markdown",
   "metadata": {},
   "source": [
    "## Exercise 8 - Accessing object functions\n",
    "In the MyWindowClass definition we have a function to print out the name. Show below how this function can be accessed on both window1 and window2."
   ]
  },
  {
   "cell_type": "code",
   "execution_count": null,
   "metadata": {},
   "outputs": [],
   "source": [
    "### Solve Exercise 8 here: \n",
    "\n",
    "\n",
    "\n"
   ]
  },
  {
   "cell_type": "markdown",
   "metadata": {},
   "source": [
    "# Modules and Packages\n",
    "In programming, a module is a piece of software that has a specific functionality. For example, when building a ping pong game, one module could be responsible for the game logic, and another module could be responsible for drawing the game on the screen. Each module is a different file, which can be edited separately.\n",
    "\n",
    "Modules in Python are simply Python files with a .py extension. The name of the module will be the name of the file. A Python module can have a set of functions, classes or variables defined and implemented.\n",
    "\n",
    "You might have seen the ```ifc_viewer.py``` file in the folders? That is a module, and particularly a module that enables viewing of models in jupyter notebooks. So, how do one use that? "
   ]
  },
  {
   "cell_type": "markdown",
   "metadata": {},
   "source": [
    "## Using Modules in other programs\n",
    "Modules could be used in other programs by using the special ```import```statement. Eg. to import all of it use ```import ifc_viewer```would do the trick. \n",
    "\n",
    "However, the module may define several classes, variables and functions. What if we only wanted to import the ```ifc_viewer``` class in the ```ifc_viewer```module? Then we do like bewlow. "
   ]
  },
  {
   "cell_type": "code",
   "execution_count": 36,
   "metadata": {},
   "outputs": [],
   "source": [
    "# Import the ifc_viewer class of ifc_viewer module\n"
   ]
  },
  {
   "cell_type": "markdown",
   "metadata": {},
   "source": [
    "## Using Packages and Modules in another program\n",
    "Another package we already have used is the **ifcopenshell**. Packages are namespaces which contain multiple packages and modules themselves. They are simply directories, but with a twist.\n",
    "\n",
    "Each package in Python is a directory which MUST contain a special file called __init__.py. This file can be empty, and it indicates that the directory it contains is a Python package, so it can be imported the same way a module can be imported ([ref. learnpython.org](https://www.learnpython.org/en/Modules_and_Packages)).\n",
    "\n",
    "We have already imported ifcopenshell. But we could also import specific parts of it. Lets combine it to visualize the windows of the Grethes Hus model. "
   ]
  },
  {
   "cell_type": "code",
   "execution_count": 35,
   "metadata": {},
   "outputs": [
    {
     "data": {
      "application/vnd.jupyter.widget-view+json": {
       "model_id": "f3a521fddaa74168a2a16b13eb12ef2e",
       "version_major": 2,
       "version_minor": 0
      },
      "text/plain": [
       "Renderer(background='white', camera=PerspectiveCamera(children=(DirectionalLight(intensity=0.5, position=(50.0…"
      ]
     },
     "metadata": {},
     "output_type": "display_data"
    },
    {
     "data": {
      "application/vnd.jupyter.widget-view+json": {
       "model_id": "f4b8c2fe00cb43d19e0353c6bcfb4c1e",
       "version_major": 2,
       "version_minor": 0
      },
      "text/plain": [
       "HTML(value='No element selected')"
      ]
     },
     "metadata": {},
     "output_type": "display_data"
    }
   ],
   "source": [
    "import ifcopenshell \n",
    "import ifcopenshell.geom\n",
    "from ifc_viewer import ifc_viewer\n",
    "# Storing the model in a file variable, and giving the path to the file as input. \n",
    "file = ifcopenshell.open(\"../models/Grethes_hus_bok_2.ifc\")\n",
    "\n",
    "# Storing all windows of the file by ising the by_type function of the file class \n",
    "windows = file.by_type(\"IfcWindow\")\n",
    "\n",
    "# Setting the geometry settings. \n",
    "s = ifcopenshell.geom.settings()\n",
    "s.set(s.USE_PYTHON_OPENCASCADE, True)\n",
    "\n",
    "# Instansiationg a viewer object from the ifc_viewer class\n",
    "viewer = ifc_viewer()\n",
    "\n",
    "# Running through all window elements and create a shape and add it to the viewer for displaying. \n",
    "for window in windows:\n",
    "    shape = ifcopenshell.geom.create_shape(s, window)\n",
    "    viewer.DisplayShape(window, shape.geometry, shape.styles)\n",
    "\n",
    "viewer.Display()"
   ]
  }
 ],
 "metadata": {
  "kernelspec": {
   "display_name": "Python 3",
   "language": "python",
   "name": "python3"
  },
  "language_info": {
   "codemirror_mode": {
    "name": "ipython",
    "version": 3
   },
   "file_extension": ".py",
   "mimetype": "text/x-python",
   "name": "python",
   "nbconvert_exporter": "python",
   "pygments_lexer": "ipython3",
   "version": "3.8.5"
  }
 },
 "nbformat": 4,
 "nbformat_minor": 2
}

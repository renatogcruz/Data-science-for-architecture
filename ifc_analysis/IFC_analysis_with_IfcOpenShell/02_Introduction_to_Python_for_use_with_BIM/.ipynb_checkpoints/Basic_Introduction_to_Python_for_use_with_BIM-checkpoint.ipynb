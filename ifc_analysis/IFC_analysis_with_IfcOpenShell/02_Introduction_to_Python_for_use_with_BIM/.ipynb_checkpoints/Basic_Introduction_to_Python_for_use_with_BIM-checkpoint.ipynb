{
 "cells": [
  {
   "cell_type": "markdown",
   "metadata": {},
   "source": [
    "# Introdução básica ao Python para uso com BIM\n",
    "\n",
    "\n",
    "### Introdução ao Python 3 no notebook jupyter\n",
    "\n",
    "Esta é uma introdução à linguagem de programação Python focado em **openBIM**.\n",
    "\n",
    "\n",
    "Organizado por [BIMFag](https://bimfag.no/). Material original [aqui](https://github.com/bimfag/intro-python-bim)."
   ]
  },
  {
   "cell_type": "markdown",
   "metadata": {},
   "source": [
    "# Hello Jupyter\n",
    "\n",
    "O [jupyter notebook](https://jupyter.org/) nos permite definir e editar células de texto e células de marcação (texto). Isso é usado aqui para introduzir os conceitos ao longo do caminho e também fornecer células de código onde os comandos podem ser testados e executados.\n",
    "\n",
    "Fazemos isso em células, por exemplo. você sempre pode criar uma nova célula, editar ou alterar.\n",
    "\n",
    "### Crie uma nova célula e escreva o que você pensa sobre o jupyter\n",
    "\n",
    "Use o botão \"+\" acima para criar uma nova célula sob esta."
   ]
  },
  {
   "cell_type": "code",
   "execution_count": 1,
   "metadata": {},
   "outputs": [],
   "source": [
    "### Mude esta célula de uma célula de Código para uma célula de Markdown, usando o menu suspenso acima."
   ]
  },
  {
   "cell_type": "markdown",
   "metadata": {},
   "source": [
    "### Imprimendo Hello Jupyter\n",
    "\n",
    "A instrução **print()** é uma diretiva poderosa em Python e permite que um programa imprima um resultado, por exemplo: \"Olá Mundo\". "
   ]
  },
  {
   "cell_type": "code",
   "execution_count": 4,
   "metadata": {},
   "outputs": [
    {
     "name": "stdout",
     "output_type": "stream",
     "text": [
      "Olá, Renato\n"
     ]
    }
   ],
   "source": [
    "# Aqui imprimimos a string \"Olá, mundo!\"\n",
    "\n",
    "print('Olá, Renato')"
   ]
  },
  {
   "cell_type": "markdown",
   "metadata": {},
   "source": [
    "Usaremos a instrução **print()** e a **formatação de string** várias vezes ao longo desse curso. Uma maneira típica de formatar uma string é anexar outra string a ela, como \"Hello,\" + \"world\"."
   ]
  },
  {
   "cell_type": "code",
   "execution_count": 5,
   "metadata": {},
   "outputs": [
    {
     "name": "stdout",
     "output_type": "stream",
     "text": [
      "Olá, Renato Cruz!\n"
     ]
    }
   ],
   "source": [
    "# Aqui, acrescentamos as duas strings \"Hello\" e \"world!\"\n",
    "\n",
    "print('Olá, Renato' + ' ' + 'Cruz!')"
   ]
  },
  {
   "cell_type": "markdown",
   "metadata": {},
   "source": [
    "Note que o resultado acima é a concatenação de 'Olá, Renato' mais ' ' (espaço em branco) mais 'Cruz!'."
   ]
  },
  {
   "cell_type": "markdown",
   "metadata": {},
   "source": [
    "### Deixe o programa pedir a entrada de um usuário e mostrar o resultado.\n",
    "\n",
    "Já que queremos dizer olá para você também, você pode usar a função **input()** para obter a entrada do usuário e armazená-la em uma variável e imprimir na tela."
   ]
  },
  {
   "cell_type": "code",
   "execution_count": 6,
   "metadata": {},
   "outputs": [
    {
     "name": "stdout",
     "output_type": "stream",
     "text": [
      "Escreva seu nome aqui: Renato Cruz\n",
      "Olá, Renato Cruz!\n"
     ]
    }
   ],
   "source": [
    "# Aqui, obtemos o nome do usuário e o armazenamos em uma variável chamada nome, \n",
    "# acrescentando-a a outra variável conforme imprimimos.\n",
    "\n",
    "nome = input(\"Escreva seu nome aqui: \")\n",
    "cumprimento = \"Olá, \"\n",
    "print(f\"{cumprimento}{nome}!\")"
   ]
  },
  {
   "cell_type": "markdown",
   "metadata": {},
   "source": [
    "# Variáveis e tipos\n",
    "\n",
    "Python é uma linguagem de programação orientado a objetos, e não \"estaticamente tipado\". Em outras linguagens de programação, que são tipadas estaticamente, você precisa declarar a variável e que tipo de dados ela contém, antes de usá-la. \n",
    "\n",
    "Exemplo de declaração de variável em c#:\n",
    "\n",
    "```c#\n",
    "string name;\n",
    "\n",
    "name = 'Renato Cruz';\n",
    "\n",
    "```\n",
    "\n",
    "\n",
    "Em Python, você não precisa declarar variáveis antes de usá-las, ou declarar seu tipo.\n",
    "\n",
    "Exemplo de declaração de variável em Python:\n",
    "\n",
    "```python\n",
    "name = 'Renato Cruz'\n",
    "```\n",
    "\n",
    "Isso é visto acima, onde apenas armazenamos a entrada em **nome** e **cumprimento** que armazena a string \"Olá\", sem primeiro declarar que armazenam dados do tipo string primeiro. \n",
    "\n",
    "\n",
    "Cada variável em Python é um **objeto** e veremos alguns dos tipos aqui."
   ]
  },
  {
   "cell_type": "markdown",
   "metadata": {},
   "source": [
    "### Números\n",
    "\n",
    "Para este curso, dois tipos de número diferentes são relevantes, números inteiros (**int**) e flutuante (**float**).\n",
    "\n",
    " "
   ]
  },
  {
   "cell_type": "code",
   "execution_count": 7,
   "metadata": {},
   "outputs": [
    {
     "name": "stdout",
     "output_type": "stream",
     "text": [
      "9\n"
     ]
    }
   ],
   "source": [
    "# É assim que você define um inteiro\n",
    "\n",
    "\n",
    "myInt = 9\n",
    "print(myInt)"
   ]
  },
  {
   "cell_type": "code",
   "execution_count": 8,
   "metadata": {},
   "outputs": [
    {
     "name": "stdout",
     "output_type": "stream",
     "text": [
      "9.0\n",
      "9.0\n",
      "9.0\n"
     ]
    }
   ],
   "source": [
    "# Para definir um número flutuante, você pode usar uma das seguintes abordagens\n",
    "\n",
    "myFloat1 = 9.0\n",
    "print(myFloat1)\n",
    "\n",
    "myFloat2 = float(9)\n",
    "print(myFloat2)\n",
    "\n",
    "myFloat3 = 9.\n",
    "print(myFloat3)"
   ]
  },
  {
   "cell_type": "markdown",
   "metadata": {},
   "source": [
    "Pode-se também *converter* um **inteiro** em um **float**, como fazemos em myFloat2 = float (9).\n",
    "\n",
    "* Um inteiro x pode ser convertido em float usando float (x)\n",
    "* Um float y pode ser convertido em um inteiro usando int (y)\n",
    "* Um inteiro xe um float y podem ser convertidos em uma string por str (x) e str (y), respectivamente."
   ]
  },
  {
   "cell_type": "code",
   "execution_count": 11,
   "metadata": {},
   "outputs": [
    {
     "name": "stdout",
     "output_type": "stream",
     "text": [
      "Meu inteiro: 9 \n",
      "Meu flutuante: 9.0\n"
     ]
    }
   ],
   "source": [
    "# Aqui, primeiro definimos um inteiro e o convertemos em um flutuante\n",
    "\n",
    "myInt = 9 \n",
    "myFloat = float(myInt)\n",
    "print(f\"Meu inteiro: {myInt} \\nMeu flutuante: {myFloat}\")"
   ]
  },
  {
   "cell_type": "code",
   "execution_count": 12,
   "metadata": {},
   "outputs": [
    {
     "name": "stdout",
     "output_type": "stream",
     "text": [
      "Meu inteiro 9 é do tipo <class 'str'>\n",
      "Meu float 9.0 é do tipo <class 'str'>\n"
     ]
    }
   ],
   "source": [
    "# Aqui, lançamos myInt e myFloat (de cima) em strings\n",
    "\n",
    "myIntegerString = str(myInt)\n",
    "print(f\"Meu inteiro {myIntegerString} é do tipo {type(myIntegerString)}\") \n",
    "\n",
    "myFloatString= str(myFloat)\n",
    "print(f\"Meu float {myFloatString} é do tipo {type(myFloatString)}\")"
   ]
  },
  {
   "cell_type": "markdown",
   "metadata": {},
   "source": [
    "## Strings \n",
    "\n",
    "As **strings** podem ser definidas usando-se aspas simples (') ou duplas (\"). \n",
    "\n",
    "*A diferença entre as duas é que o uso de aspas duplas facilita a inclusão de apóstrofos (ao passo que eles encerrariam a string se usar aspas simples)*"
   ]
  },
  {
   "cell_type": "code",
   "execution_count": 13,
   "metadata": {},
   "outputs": [
    {
     "name": "stdout",
     "output_type": "stream",
     "text": [
      "Don't worry about apostrophes\n"
     ]
    }
   ],
   "source": [
    "myString = \"Don't worry about apostrophes\"\n",
    "\n",
    "print(myString)"
   ]
  },
  {
   "cell_type": "code",
   "execution_count": 14,
   "metadata": {},
   "outputs": [
    {
     "name": "stdout",
     "output_type": "stream",
     "text": [
      "Don't worry about apostrophes\n"
     ]
    }
   ],
   "source": [
    "escapedString = 'Don\\'t worry about apostrophes'\n",
    "print(escapedString)"
   ]
  },
  {
   "cell_type": "code",
   "execution_count": 15,
   "metadata": {},
   "outputs": [
    {
     "name": "stdout",
     "output_type": "stream",
     "text": [
      "abcdefgh\n",
      "c\n",
      "h\n"
     ]
    }
   ],
   "source": [
    "#Strings são apenas uma matriz de caracteres\n",
    "\n",
    "myString = \"abcdefgh\"\n",
    "print(myString)\n",
    "\n",
    "# extraindo o terceiro caracter do myString\n",
    "third = myString[2]\n",
    "print(third)\n",
    "\n",
    "# extraindo o último caracter do myString\n",
    "last = myString[-1]\n",
    "print(last)"
   ]
  },
  {
   "cell_type": "markdown",
   "metadata": {},
   "source": [
    "### Exercício:\n",
    "\n",
    "Pegue os caracteres iguais a 'o' da string abaixo e imprima na tela"
   ]
  },
  {
   "cell_type": "code",
   "execution_count": 17,
   "metadata": {},
   "outputs": [
    {
     "name": "stdout",
     "output_type": "stream",
     "text": [
      "o\n",
      "o\n",
      "o\n",
      "o\n"
     ]
    }
   ],
   "source": [
    "# Write your code here\n",
    "\n",
    "string = 'tetrabrometacresolsulfonoftaleína'   # Termo específico da área de química\n",
    "\n",
    "for character in string:\n",
    "    if character == \"o\":\n",
    "        print(character)"
   ]
  },
  {
   "cell_type": "markdown",
   "metadata": {},
   "source": [
    "## Exercício 1\n",
    "\n",
    "O objetivo deste exercício é criar uma string, um inteiro e um número flutuante. \n",
    "\n",
    "* A string deve ser nomeada mystring e deve conter a palavra \"hello\"; \n",
    "* O número de ponto flutuante deve ser denominado myfloat e deve conter o número 10.0; \n",
    "* O inteiro deve ser nomeado myint e deve conter o número 20."
   ]
  },
  {
   "cell_type": "code",
   "execution_count": 18,
   "metadata": {},
   "outputs": [
    {
     "name": "stdout",
     "output_type": "stream",
     "text": [
      "String: hello\n",
      "Float: 10.000000\n",
      "Integer: 20\n"
     ]
    }
   ],
   "source": [
    "# mude este código\n",
    "\n",
    "mystring = \"hello\"\n",
    "myfloat = 10.0\n",
    "myint = 20\n",
    "\n",
    "# código de teste\n",
    "\n",
    "if mystring == \"hello\":\n",
    "    print(\"String: %s\" % mystring)\n",
    "    \n",
    "if isinstance(myfloat, float) and myfloat == 10.0:\n",
    "    print(\"Float: %f\" % myfloat)\n",
    "    \n",
    "if isinstance(myint, int) and myint == 20:\n",
    "    print(\"Integer: %d\" % myint)"
   ]
  },
  {
   "cell_type": "markdown",
   "metadata": {},
   "source": [
    "## Exercício 2\n",
    "\n",
    "\n",
    "Execute o código abaixo primeiro sem alterar nada, fornecendo um número a ele.\n",
    "\n",
    "Em seguida, use um elenco para corrigi-lo de forma que ele produza matemática correta em números."
   ]
  },
  {
   "cell_type": "code",
   "execution_count": 22,
   "metadata": {},
   "outputs": [
    {
     "name": "stdout",
     "output_type": "stream",
     "text": [
      "Forneça um número: 5.1\n",
      "O flutuante 25.5 arredondado é igual a 26\n"
     ]
    }
   ],
   "source": [
    "# Aqui pegamos e inserimos um número, e então o multiplicamos 5 vezes e então imprimimos o resultado\n",
    "\n",
    "inputVariable = float(input(\"Forneça um número: \"))\n",
    "resultado = inputVariable * 5\n",
    "\n",
    "# convertendo para int\n",
    "arredondado = round(resultado)\n",
    "\n",
    "print(f'O flutuante {resultado} arredondado é igual a {arredondado}')"
   ]
  },
  {
   "cell_type": "markdown",
   "metadata": {},
   "source": [
    "## Convenções de nomenclatura:\n",
    "\n",
    "Diferentes linguagens de programação têm diferentes  **melhores práticas** para nomes, nomenclatura de variáveis, funções e classes. \n",
    "\n",
    "Em python, as convenções de nomenclatura são descritas em [PEP8](https://www.python.org/dev/peps/pep-0008/#naming-conventions)."
   ]
  },
  {
   "cell_type": "markdown",
   "metadata": {},
   "source": [
    "# Curiosidade: o *Python Zen*\n",
    "\n",
    "Há muito tempo, o Pythoneer Tim Peters canaliza sucintamente os princípios orientadores do BDFL para o design do Python em 20 aforismos, apenas [19 dos quais foram escritos](https://www.python.org/dev/peps/pep-0020/)."
   ]
  },
  {
   "cell_type": "code",
   "execution_count": 23,
   "metadata": {},
   "outputs": [
    {
     "name": "stdout",
     "output_type": "stream",
     "text": [
      "The Zen of Python, by Tim Peters\n",
      "\n",
      "Beautiful is better than ugly.\n",
      "Explicit is better than implicit.\n",
      "Simple is better than complex.\n",
      "Complex is better than complicated.\n",
      "Flat is better than nested.\n",
      "Sparse is better than dense.\n",
      "Readability counts.\n",
      "Special cases aren't special enough to break the rules.\n",
      "Although practicality beats purity.\n",
      "Errors should never pass silently.\n",
      "Unless explicitly silenced.\n",
      "In the face of ambiguity, refuse the temptation to guess.\n",
      "There should be one-- and preferably only one --obvious way to do it.\n",
      "Although that way may not be obvious at first unless you're Dutch.\n",
      "Now is better than never.\n",
      "Although never is often better than *right* now.\n",
      "If the implementation is hard to explain, it's a bad idea.\n",
      "If the implementation is easy to explain, it may be a good idea.\n",
      "Namespaces are one honking great idea -- let's do more of those!\n"
     ]
    }
   ],
   "source": [
    "# importando aforismos Python Zen\n",
    "\n",
    "import this"
   ]
  },
  {
   "cell_type": "markdown",
   "metadata": {},
   "source": [
    "# Exemplos de convenções de nomenclatura\n",
    "\n",
    "```Python\n",
    "CONSTANTS_ARE_ALL_UPPERCASE = \"my constant string\"\n",
    "variables_should_be_all_lowercase_separated_with_underscores = 1\n",
    "\n",
    "def functions_should_do_the_same():\n",
    "    var1 = 4\n",
    "    retrun var1\n",
    "```"
   ]
  },
  {
   "cell_type": "markdown",
   "metadata": {},
   "source": [
    "# Formatação de string básica\n",
    "\n",
    "Conforme visto no código de teste:\n",
    "\n",
    "```Python\n",
    "# testing code\n",
    "if mystring == \"hello\":\n",
    "    print(\"String: %s\" % mystring)\n",
    "if isinstance(myfloat, float) and myfloat == 10.0:\n",
    "    print(\"Float: %f\" % myfloat)\n",
    "if isinstance(myint, int) and myint == 20:\n",
    "    print(\"Integer: %d\" % myint)\n",
    "```\n",
    "Usamos alguma formatação de string nas instruções de impressão. Também usamos as declarações e condições If que abordamos a seguir.\n",
    "\n",
    "Aqui, usamos um operador de formatação de string especial, **%**, que nos permite formatar a string de acordo com o formato especificado. % s especifica que estamos inserindo uma variável do tipo string na frase. % f especifica um espaço reservado para um número de ponto flutuante e% d para um inteiro decimal. Mais sobre formatação de strings em: [w3schools about formatting](https://www.w3schools.com/python/ref_string_format.asp)\n",
    "\n",
    "No exemplo acima, estamos adicionando um valor à string, mas também podemos adicionar vários em uma string usando a sintaxe abaixo:\n",
    "\n",
    "```Python\n",
    "\"string %s, number %d and floatingpoint %f\"%(\"hello\",10,10.0)\n",
    "```\n",
    "Sinta-se à vontade para experimentar abaixo.\n",
    "\n",
    "Existe outras formas de refinar a formatação de saída. Para maiores informações, clique neste [link](https://docs.python.org/pt-br/3/tutorial/inputoutput.html#:~:text=Existem%20v%C3%A1rias%20maneiras%20de%20formatar,a%20vari%C3%A1veis%2C%20ou%20valores%20literais.)"
   ]
  },
  {
   "cell_type": "code",
   "execution_count": 25,
   "metadata": {},
   "outputs": [
    {
     "name": "stdout",
     "output_type": "stream",
     "text": [
      "String: Olá \n",
      "Number: 10 \n",
      "Float: 10.000000\n"
     ]
    }
   ],
   "source": [
    "# Execute isso para verificar várias variáveis inseridas em uma string\n",
    "\n",
    "print('String: %s \\nNumber: %d \\nFloat: %f' % ('Olá', 10, 10.0))\n"
   ]
  },
  {
   "cell_type": "code",
   "execution_count": 28,
   "metadata": {},
   "outputs": [
    {
     "name": "stdout",
     "output_type": "stream",
     "text": [
      "String: Olá \n",
      "Number: 10 \n",
      "Float: 10.0\n"
     ]
    }
   ],
   "source": [
    "# Estes cadernos usará a formatação de string da seguinte maneira\n",
    "\n",
    "string = 'Olá'\n",
    "\n",
    "print(f'String: {string} \\nNumber: {10} \\nFloat: {10.0}')"
   ]
  },
  {
   "cell_type": "markdown",
   "metadata": {},
   "source": [
    "### Exercício:\n",
    "\n",
    "Tente fazer a impressão flutuante com apenas duas casas decimais"
   ]
  },
  {
   "cell_type": "code",
   "execution_count": 34,
   "metadata": {},
   "outputs": [
    {
     "name": "stdout",
     "output_type": "stream",
     "text": [
      "Imprima o flutuante 10.0\n",
      "Imprima o flutuante 10.00\n"
     ]
    }
   ],
   "source": [
    "# Execute isso para verificar várias variáveis inseridas em uma string\n",
    "\n",
    "num = 10.0\n",
    "\n",
    "print(f\"Imprima o flutuante {num}\")\n",
    "print(\"Imprima o flutuante %.2f\" % num)"
   ]
  },
  {
   "cell_type": "markdown",
   "metadata": {},
   "source": [
    "## Funções de string\n",
    "\n",
    "Além disso, existem várias outras opções de formatação de string que você pode fazer. \n",
    "\n",
    "Strings são objetos que possuem várias funções predefinidas. \n",
    "\n",
    "Sinta-se à vontade para adicionar algumas células de código abaixo aqui com alguns dos exemplos de trechos de código de [w3schools on strings] (https://www.w3schools.com/python/python_strings.asp)"
   ]
  },
  {
   "cell_type": "code",
   "execution_count": 36,
   "metadata": {},
   "outputs": [
    {
     "name": "stdout",
     "output_type": "stream",
     "text": [
      "olá!\n",
      "OLÁ!\n"
     ]
    }
   ],
   "source": [
    "# Exemplo 1 - por exemplo. converter uma string em letras minúsculas\n",
    "\n",
    "a = \"OLá!\"\n",
    "\n",
    "print(a.lower())\n",
    "\n",
    "# converter para letras maiúsculas\n",
    "\n",
    "print(a.upper())"
   ]
  },
  {
   "cell_type": "code",
   "execution_count": 37,
   "metadata": {},
   "outputs": [
    {
     "name": "stdout",
     "output_type": "stream",
     "text": [
      "['Olá', ' jupyter notebook']\n",
      "['jupyter', 'notebook']\n"
     ]
    }
   ],
   "source": [
    "# Exemplo 2 - por exemplo. divida uma corda em duas.\n",
    "\n",
    "a = \"Olá, jupyter notebook\"\n",
    "\n",
    "# dividir em um personagem específico\n",
    "\n",
    "var = a.split(\",\") \n",
    "print(var)\n",
    "\n",
    "# divida o espaço em branco no início ou no final\n",
    "\n",
    "print(var[1].split())"
   ]
  },
  {
   "cell_type": "markdown",
   "metadata": {},
   "source": [
    "## Exercício 3\n",
    "\n",
    "Crie um script na célula abaixo:\n",
    "\n",
    "* Pega em uma string que você inserir\n",
    "\n",
    "* Certifique-se de que é uma corda\n",
    "\n",
    "* Armazene em uma variável\n",
    "\n",
    "* Imprima a variável\n",
    "\n",
    "* Em seguida, pegue apenas o primeiro e o último caracteres do nome\n",
    "\n",
    "* Armazene em uma nova variável\n",
    "\n",
    "* Imprima a nova variável\n",
    "\n",
    "veja [w3schools on strings](https://www.w3schools.com/python/python_strings.asp) for help. "
   ]
  },
  {
   "cell_type": "code",
   "execution_count": 39,
   "metadata": {},
   "outputs": [
    {
     "name": "stdout",
     "output_type": "stream",
     "text": [
      "myString é uma string \n",
      "Introdução ao Python 3 no jupyter notebook\n",
      "I\n",
      "k\n"
     ]
    }
   ],
   "source": [
    "### Exercise 3 answer here:\n",
    "\n",
    "myString = \"Introdução ao Python 3 no jupyter notebook\"\n",
    "\n",
    "if type(myString) == str:\n",
    "    print(\"myString é uma string \")\n",
    "\n",
    "variable = myString\n",
    "print(variable)\n",
    "\n",
    "first_character = variable[0]\n",
    "print(first_character)\n",
    "\n",
    "last_character = variable[-1]\n",
    "print(last_character)\n"
   ]
  },
  {
   "cell_type": "markdown",
   "metadata": {},
   "source": [
    "# Tipos de coleção (matrizes)\n",
    "\n",
    "Existem quatro tipos de dados de coleção na linguagem de programação Python:\n",
    "\n",
    "* Lista é uma coleção ordenada e mutável. Permite membros duplicados.\n",
    "* Tupla é uma coleção ordenada e imutável. Permite membros duplicados.\n",
    "* Set é uma coleção não ordenada e não indexada. Nenhum membro duplicado.\n",
    "* Dicionário é uma coleção não ordenada, mutável e indexada. Nenhum membro duplicado.\n",
    "\n",
    "Ao escolher um tipo de coleção, é útil entender as propriedades desse tipo. \n",
    "\n",
    "Escolher o tipo certo para um determinado conjunto de dados pode significar retenção de significado e, pode significar um aumento na eficiência ou segurança ([ref w3schools](https://www.w3schools.com/python/python_lists.asp))\n",
    "\n",
    "Abaixo, iremos percorrer as listas e tuplas. Encontre mais informações sobre conjuntos e dicionários, por exemplo. w3scools acima."
   ]
  },
  {
   "cell_type": "markdown",
   "metadata": {},
   "source": [
    "## Lista\n",
    "\n",
    "Uma lista é uma coleção ordenada e mutável. \n",
    "\n",
    "Elas podem conter qualquer tipo de variável e podem conter quantas variáveis você desejar. \n",
    "\n",
    "Em Python, as listas são escritas com colchetes."
   ]
  },
  {
   "cell_type": "code",
   "execution_count": 41,
   "metadata": {},
   "outputs": [
    {
     "name": "stdout",
     "output_type": "stream",
     "text": [
      "['apple', 1, 'cherry', 10]\n"
     ]
    }
   ],
   "source": [
    "# exemplo de uma lista\n",
    "\n",
    "myList = [\"apple\", 1, \"cherry\", 10]\n",
    "\n",
    "\n",
    "print(myList)"
   ]
  },
  {
   "cell_type": "markdown",
   "metadata": {},
   "source": [
    "Você acessa os itens da lista referindo-se ao número do índice. Lembre-se de que o índice começa em 0."
   ]
  },
  {
   "cell_type": "code",
   "execution_count": 42,
   "metadata": {},
   "outputs": [
    {
     "name": "stdout",
     "output_type": "stream",
     "text": [
      "2\n"
     ]
    }
   ],
   "source": [
    "# Acessando índices de uma lista\n",
    "\n",
    "myList = [1, 2, 3, 4, 5]\n",
    "\n",
    "print(myList[1])"
   ]
  },
  {
   "cell_type": "markdown",
   "metadata": {},
   "source": [
    "### Listas são mutáveis\n",
    "\n",
    "As listas podem ser alteradas, então você pode, por exemplo. adicione ou remova algo dela."
   ]
  },
  {
   "cell_type": "code",
   "execution_count": 43,
   "metadata": {},
   "outputs": [
    {
     "name": "stdout",
     "output_type": "stream",
     "text": [
      "Minha lista inicial: [1, 2, 3]\n",
      "Minha nova lista: [1, 2, 3, 3]\n",
      "Minha lista atualizada: [1, 3, 3]\n",
      "Minha lista atualizada novamente: [1, 3]\n",
      "Minha lista final: [3]\n"
     ]
    }
   ],
   "source": [
    "# Adicionando a uma lista meu append()\n",
    "\n",
    "myList = [1,2,3]\n",
    "\n",
    "print(f'Minha lista inicial: {myList}')\n",
    "\n",
    "myList.append (3) # adiciona o valor 3 à lista\n",
    "\n",
    "print(f'Minha nova lista: {myList}')\n",
    "\n",
    "# Removendo de uma lista por remove()\n",
    "\n",
    "myList.remove (2) # remove o valor 2 da lista\n",
    "\n",
    "print(f'Minha lista atualizada: {myList}')\n",
    "\n",
    "\n",
    "# Removendo de uma lista por pop()\n",
    "\n",
    "myList.pop () # remove o último item da lista\n",
    "\n",
    "print(f'Minha lista atualizada novamente: {myList}')\n",
    "\n",
    "myList.pop (0) # remove o primeiro item da lista\n",
    "\n",
    "print(f'Minha lista final: {myList}')"
   ]
  },
  {
   "cell_type": "markdown",
   "metadata": {},
   "source": [
    "## Tuple\n",
    "A tuple is a collection which is ordered and **unchangeable**. In Python tuples are written with parenthesis. When working with IFC and the ifcopenshell, we often work with tuples."
   ]
  },
  {
   "cell_type": "code",
   "execution_count": 63,
   "metadata": {},
   "outputs": [
    {
     "name": "stdout",
     "output_type": "stream",
     "text": [
      "('apple', 1, 'cherry', 10)\n"
     ]
    }
   ],
   "source": [
    "myTuple = (\"apple\", 1, \"cherry\", 10)\n",
    "print(myTuple)"
   ]
  },
  {
   "cell_type": "markdown",
   "metadata": {},
   "source": [
    "You access the tuple items, similar as for lists, by referring to the index number. Remember that the index starts at 0."
   ]
  },
  {
   "cell_type": "code",
   "execution_count": 64,
   "metadata": {},
   "outputs": [
    {
     "name": "stdout",
     "output_type": "stream",
     "text": [
      "2\n"
     ]
    }
   ],
   "source": [
    "myTuple = (1, 2, 3, 4, 5)\n",
    "print(myTuple[1])"
   ]
  },
  {
   "cell_type": "markdown",
   "metadata": {},
   "source": [
    "### Tuples are unchangable\n",
    "Tuples are unchangable, but you could cast it into a list and work with it as a list. "
   ]
  },
  {
   "cell_type": "code",
   "execution_count": 65,
   "metadata": {},
   "outputs": [
    {
     "name": "stdout",
     "output_type": "stream",
     "text": [
      "(1, 2, 4, 5)\n"
     ]
    }
   ],
   "source": [
    "myTuple = (1, 2, 3, 4, 5)\n",
    "myList = list(myTuple) # Cast tuple into a list\n",
    "myList.pop(2)\n",
    "myTuple = tuple(myList) # Cast list into a tuple\n",
    "print(myTuple)"
   ]
  },
  {
   "cell_type": "markdown",
   "metadata": {},
   "source": [
    "## Check the number of elements in list or tuple\n",
    "It is often needed to check how many elements that are in a list or a tuple."
   ]
  },
  {
   "cell_type": "code",
   "execution_count": 66,
   "metadata": {},
   "outputs": [
    {
     "name": "stdout",
     "output_type": "stream",
     "text": [
      "4\n",
      "4\n"
     ]
    }
   ],
   "source": [
    "# Check how many elements there are in myList (defined above)\n",
    "print(len(myList))\n",
    "\n",
    "# Check how many elements there are in myTuple (defined above)\n",
    "print(len(myTuple))"
   ]
  },
  {
   "cell_type": "markdown",
   "metadata": {},
   "source": [
    "## Exercise 4 - how many IfcWall elements are in Grethes Hus model? \n",
    "In the excercise below we want you to use what you have learned above to find how many elements of type IfcWall are in the Grethes Hus Modell. \n",
    "\n",
    "We have provided some code to get the file and to query out all elements of type IfcWall and stored it in a variable called *walls*. \n",
    "\n",
    "Print out to the screen the number of walls there are in the variable **walls**. "
   ]
  },
  {
   "cell_type": "code",
   "execution_count": 3,
   "metadata": {},
   "outputs": [
    {
     "name": "stdout",
     "output_type": "stream",
     "text": [
      "#636=IfcWallStandardCase('1xzRHg5wPCVvg4uLjqox1I',#48,'Basic Wall:Generic - 200mm:345653',$,'Basic Wall:Generic - 200mm:398',#609,#634,'345653')\n",
      "#744=IfcWallStandardCase('1Yzg4cwif7gQ2Hvbubk5cs',#48,'Basic Wall:Generic - 225mm Masonry:347110',$,'Basic Wall:Generic - 225mm Masonry:399',#717,#742,'347110')\n",
      "#796=IfcWallStandardCase('1Yzg4cwif7gQ2Hvbubk5cx',#48,'Basic Wall:Generic - 225mm Masonry:347115',$,'Basic Wall:Generic - 225mm Masonry:399',#776,#794,'347115')\n",
      "#832=IfcWallStandardCase('1Yzg4cwif7gQ2Hvbubk5cW',#48,'Basic Wall:Generic - 225mm Masonry:347120',$,'Basic Wall:Generic - 225mm Masonry:399',#812,#830,'347120')\n",
      "#868=IfcWallStandardCase('1Yzg4cwif7gQ2Hvbubk5ci',#48,'Basic Wall:Generic - 225mm Masonry:347132',$,'Basic Wall:Generic - 225mm Masonry:399',#848,#866,'347132')\n",
      "#904=IfcWallStandardCase('1Yzg4cwif7gQ2Hvbubk5xm',#48,'Basic Wall:Generic - 225mm Masonry:347296',$,'Basic Wall:Generic - 225mm Masonry:399',#884,#902,'347296')\n",
      "#940=IfcWallStandardCase('1Yzg4cwif7gQ2Hvbubk5xt',#48,'Basic Wall:Generic - 225mm Masonry:347303',$,'Basic Wall:Generic - 225mm Masonry:399',#920,#938,'347303')\n",
      "#976=IfcWallStandardCase('1Yzg4cwif7gQ2Hvbubk5xy',#48,'Basic Wall:Generic - 225mm Masonry:347308',$,'Basic Wall:Generic - 225mm Masonry:399',#956,#974,'347308')\n",
      "#1041=IfcWallStandardCase('3Q87Kkn4X0hh69O_upt9P1',#48,'Basic Wall:_Bindeingsverk 316mm:348322',$,'Basic Wall:_Bindeingsverk 316mm:347474',#992,#1039,'348322')\n",
      "#1151=IfcWallStandardCase('3Q87Kkn4X0hh69O_upt9P0',#48,'Basic Wall:_Bindeingsverk 316mm:348323',$,'Basic Wall:_Bindeingsverk 316mm:347474',#1112,#1149,'348323')\n",
      "#1233=IfcWallStandardCase('3Q87Kkn4X0hh69O_upt9P7',#48,'Basic Wall:_Bindeingsverk 316mm:348324',$,'Basic Wall:_Bindeingsverk 316mm:347474',#1190,#1231,'348324')\n",
      "#1288=IfcWallStandardCase('3Q87Kkn4X0hh69O_upt9P6',#48,'Basic Wall:_Bindeingsverk 316mm:348325',$,'Basic Wall:_Bindeingsverk 316mm:347474',#1249,#1286,'348325')\n",
      "#20210=IfcWallStandardCase('0AcubLcjbDbQQeAgLg2Y0r',#48,'Basic Wall:_Bindeingsverk 99mm:372647',$,'Basic Wall:_Bindeingsverk 99mm:372309',#20171,#20208,'372647')\n",
      "#20404=IfcWall('0AcubLcjbDbQQeAgLg2Zeu',#48,'Basic Wall:_Bindeingsverk 99mm:374186',$,'Basic Wall:_Bindeingsverk 99mm:372309',#20257,#20402,'374186')\n",
      "#20457=IfcWallStandardCase('0AcubLcjbDbQQeAgLg2ZcF',#48,'Basic Wall:_Bindeingsverk 99mm:374301',$,'Basic Wall:_Bindeingsverk 99mm:372309',#20420,#20455,'374301')\n",
      "#20510=IfcWallStandardCase('0AcubLcjbDbQQeAgLg2ZZu',#48,'Basic Wall:_Bindeingsverk 99mm:374634',$,'Basic Wall:_Bindeingsverk 99mm:372309',#20473,#20508,'374634')\n",
      "#58089=IfcWallStandardCase('3cDMTWgdr3igPBCsBF2w7i',#48,'Basic Wall:Generic - 225mm Masonry:384440',$,'Basic Wall:Generic - 225mm Masonry:399',#58069,#58087,'384440')\n",
      "#58252=IfcWall('3cDMTWgdr3igPBCsBF2w7k',#48,'Basic Wall:_Bindeingsverk 99mm:384442',$,'Basic Wall:_Bindeingsverk 99mm:372309',#58105,#58250,'384442')\n",
      "#58304=IfcWallStandardCase('3cDMTWgdr3igPBCsBF2w7l',#48,'Basic Wall:_Bindeingsverk 99mm:384443',$,'Basic Wall:_Bindeingsverk 99mm:372309',#58267,#58302,'384443')\n",
      "#58357=IfcWallStandardCase('3cDMTWgdr3igPBCsBF2w7e',#48,'Basic Wall:_Bindeingsverk 99mm:384444',$,'Basic Wall:_Bindeingsverk 99mm:372309',#58320,#58355,'384444')\n",
      "#58831=IfcWallStandardCase('1x1Hp_6Db1KwZy5IwzDax9',#48,'Basic Wall:_Bindeingsverk 316mm:384988',$,'Basic Wall:_Bindeingsverk 316mm:347474',#58795,#58829,'384988')\n",
      "#60761=IfcWallStandardCase('1x1Hp_6Db1KwZy5IwzDd9h',#48,'Basic Wall:_Bindeingsverk 316mm:385918',$,'Basic Wall:_Bindeingsverk 316mm:347474',#60725,#60759,'385918')\n",
      "#60988=IfcWall('1x1Hp_6Db1KwZy5IwzDdGF',#48,'Basic Wall:_Dekkeforkant 255mm:386330',$,'Basic Wall:_Dekkeforkant 255mm:385969',#60919,#60986,'386330')\n",
      "#61086=IfcWall('1x1Hp_6Db1KwZy5IwzDdJh',#48,'Basic Wall:_Dekkeforkant 255mm:386558',$,'Basic Wall:_Dekkeforkant 255mm:385969',#61017,#61084,'386558')\n",
      "5\n"
     ]
    }
   ],
   "source": [
    "# We import ifcopenshell and open the Grethes Hus Model and store it in a variable called file.\n",
    "\n",
    "import ifcopenshell \n",
    "file = ifcopenshell.open(\"Grethes-hus-bok-2.ifc\")\n",
    "\n",
    "#We query the file for its number of IfcWall type elements\n",
    "walls = file.by_type(\"IfcWall\")\n",
    "\n",
    "for wall in walls:\n",
    "    print(wall)"
   ]
  },
  {
   "cell_type": "code",
   "execution_count": 6,
   "metadata": {},
   "outputs": [
    {
     "name": "stdout",
     "output_type": "stream",
     "text": [
      "There are 24 walls.\n"
     ]
    }
   ],
   "source": [
    "# How many wall elements are there in this file?\n",
    "\n",
    "print(f\"There are {len(walls)} walls.\")"
   ]
  },
  {
   "cell_type": "markdown",
   "metadata": {},
   "source": [
    "## ToDo: Change the zero below to list out the number of walls in the file."
   ]
  },
  {
   "cell_type": "code",
   "execution_count": 8,
   "metadata": {},
   "outputs": [
    {
     "name": "stdout",
     "output_type": "stream",
     "text": [
      "24\n"
     ]
    }
   ],
   "source": [
    "numberOfWalls = 0 # store the number of IfcWall types in this variable. \n",
    "\n",
    "for wall in walls:\n",
    "    numberOfWalls += 1\n",
    "\n",
    "print(numberOfWalls)"
   ]
  },
  {
   "cell_type": "markdown",
   "metadata": {},
   "source": [
    "# Conditions and If statements \n",
    "\n",
    "> Python supports the usual logical conditions from mathematics:\n",
    "\n",
    "> * Equals: a == b\n",
    "> * Not Equals: a != b\n",
    "> * Less than: a < b\n",
    "> * Less than or equal to: a <= b\n",
    "> * Greater than: a > b\n",
    "> * Greater than or equal to: a >= b\n",
    ">\n",
    "> These conditions can be used in several ways, most commonly in \"if statements\" and loops. (ref. [w3schools](https://www.w3schools.com/python/python_conditions.asp))\n",
    "\n",
    "We'll walk through use of if statements and the most common loops here and use it to explore some elements from the Grethes Hus Model. \n",
    "\n",
    "The syntax for a If statement that checks if a variable **a** Equals a variable **b** is as follows:\n",
    "\n",
    "```Python\n",
    "    a = 0\n",
    "    b = 2\n",
    "    if a == b:\n",
    "        print(\"they are eaqual\")\n",
    "```\n",
    "Notice the **indentation**. Python relies on indentation, using whitespace, to define scope in the code. Other programming languages often use curly-brackets for this purpose. Here the print is within the if statement. \n",
    "\n",
    "Lets use an if statement to check if there are more than zero walls in the Grethes Hus Model. "
   ]
  },
  {
   "cell_type": "code",
   "execution_count": 11,
   "metadata": {},
   "outputs": [
    {
     "name": "stdout",
     "output_type": "stream",
     "text": [
      "You probably did something right above.\n"
     ]
    }
   ],
   "source": [
    "## Here we refer back to the variable \"numberOfWalls\" as defined above, and check if its greated than 0. \n",
    "if numberOfWalls > 0:\n",
    "    print(\"You probably did something right above.\")"
   ]
  },
  {
   "cell_type": "markdown",
   "metadata": {},
   "source": [
    "## elif and else\n",
    "We could also add to the If statement, by using an **Elif** statement. This will allow you to add another condition to check. At the end, we could also do an **Else** statement. This will be executed if no of the previous conditions where met. The syntax for this is: \n",
    "\n",
    "```Python\n",
    "    if <condition1>:\n",
    "        # do something based on condition1\n",
    "    elif <condition2>:\n",
    "        # Do something based on condition2\n",
    "    else:\n",
    "        # Do something if non of the previouse contitions where met. \n",
    "```\n",
    "You are free to at as many elif statements as you wish, but you could only have one else statement. "
   ]
  },
  {
   "cell_type": "code",
   "execution_count": 12,
   "metadata": {},
   "outputs": [
    {
     "name": "stdout",
     "output_type": "stream",
     "text": [
      "You probably did something right above.\n"
     ]
    }
   ],
   "source": [
    "if numberOfWalls > 0:\n",
    "    print(\"You probably did something right above.\")\n",
    "elif numberOfWalls == 0:\n",
    "    print(\"You did probably do something wrong above\")\n",
    "else:\n",
    "    print(\"How could this happen...?\")"
   ]
  },
  {
   "cell_type": "markdown",
   "metadata": {},
   "source": [
    "## Check if an element exist in a list or tuple\n",
    "Often times one would like to check if a particular value is in a list or a tuple. This is easy with python. "
   ]
  },
  {
   "cell_type": "code",
   "execution_count": 13,
   "metadata": {},
   "outputs": [
    {
     "name": "stdout",
     "output_type": "stream",
     "text": [
      "I found BIMFag in myList!\n",
      "I found BIMFag in myTuple!\n"
     ]
    }
   ],
   "source": [
    "# Check if a value is in a list \n",
    "myList = [\"BIMFag\", \"banana\", \"BIM\"]\n",
    "\n",
    "if \"BIMFag\" in myList:\n",
    "    print(\"I found BIMFag in myList!\")\n",
    "    \n",
    "myTuple = [\"BIMFag\", \"banana\", \"BIM\"]\n",
    "\n",
    "if \"BIMFag\" in myTuple:\n",
    "    print(\"I found BIMFag in myTuple!\")"
   ]
  },
  {
   "cell_type": "markdown",
   "metadata": {},
   "source": [
    "# While Loops\n",
    "Conditions and if statements are usefull also in while loops. While loops are executing as long as a condition is met. The syntax for while loops are: \n",
    "\n",
    "```Python\n",
    "   x = 1\n",
    "   while x<10: # Checks if x is less than 10\n",
    "       # do something eg.\n",
    "       print(x) # since x is bigger than zero this will print for as long as x is less than 10\n",
    "       x = x + 1 ## this statement is adding 1 to x for each iteration of the loop. \n",
    "```\n",
    "Keep in mind that if the condition on which the while loop is checking on is never met, it will execute indefinately. so whitout the ```Python x= x+1``` statement above, this would have just printed out 1 indefinately. \n",
    "\n",
    "Notice the **indentation**. As mentioned above Python relies on indentation, using whitespace, to define what is within the while loop. Here the ```print(x)``` and ```x=x+1```statement is indented, so to show that it is inside the while loop. "
   ]
  },
  {
   "cell_type": "code",
   "execution_count": 15,
   "metadata": {},
   "outputs": [
    {
     "name": "stdout",
     "output_type": "stream",
     "text": [
      "1\n",
      "2\n",
      "3\n",
      "4\n",
      "5\n",
      "6\n",
      "7\n",
      "8\n",
      "9\n",
      "10\n",
      "11\n",
      "12\n",
      "13\n",
      "14\n",
      "15\n",
      "16\n",
      "17\n",
      "18\n",
      "19\n",
      "20\n",
      "21\n",
      "22\n",
      "23\n",
      "x is: 24 and numberOfWalls is: 24\n"
     ]
    }
   ],
   "source": [
    "# Lets see it in action. Print out x as long as its less than the number of walls\n",
    "x = 1\n",
    "while x < numberOfWalls:\n",
    "    print(x)\n",
    "    x = x +1\n",
    "else:\n",
    "    print(f\"x is: {x} and numberOfWalls is: {numberOfWalls}\")"
   ]
  },
  {
   "cell_type": "markdown",
   "metadata": {},
   "source": [
    "## Loops, break and else\n",
    "Notice that the loop exits when the condition is no longer met. Notice also that loops could also have an else statement, similar to if statements. If the loop condition are no longer met, then the else part is executed. \n",
    "\n",
    "If we want to exit the while loop early one could use the special **break** statement. The while loop could have a condition that always will be true, like ```True```but then have a check further in, and use ```break```to exit the loop based on a condition in the condition of the respective check. "
   ]
  },
  {
   "cell_type": "code",
   "execution_count": 16,
   "metadata": {},
   "outputs": [
    {
     "name": "stdout",
     "output_type": "stream",
     "text": [
      "1\n",
      "2\n",
      "3\n",
      "4\n",
      "5\n",
      "6\n",
      "7\n",
      "8\n",
      "9\n",
      "10\n"
     ]
    }
   ],
   "source": [
    "x = 1\n",
    "## Loop while True --> True is always True... \n",
    "while True: \n",
    "    print(x)\n",
    "    # check if x is bigger or eaqual to 10\n",
    "    if x >= 10:\n",
    "        break # if condition met, break out of the while loop. \n",
    "    x = x+1 # if the condition of the if statement was false, this get executed in the while loop. \n"
   ]
  },
  {
   "cell_type": "markdown",
   "metadata": {},
   "source": [
    "# For Loops\n",
    "A *for* loop is used for iterating over a sequence (that is either a list, a tuple, a dictionary, a set, or a string).\n",
    "\n",
    "The syntax for for loops in python is: \n",
    "\n",
    "```Python\n",
    "for element in listOfElements:\n",
    "    # Do something with each element eg. print it out.\n",
    "    print(element)\n",
    "```\n",
    "\n",
    "Notice the **indentation** here as well. It define what is within the for loop. Here the print statement is indented, so that will be done every iteration of the elements in the list.  "
   ]
  },
  {
   "cell_type": "code",
   "execution_count": 17,
   "metadata": {},
   "outputs": [
    {
     "name": "stdout",
     "output_type": "stream",
     "text": [
      "1\n",
      "2\n",
      "3\n",
      "4\n",
      "5\n",
      "6\n"
     ]
    }
   ],
   "source": [
    "myTuple = (1, 2, 3, 4, 5, 6)\n",
    "\n",
    "for element in myTuple:\n",
    "    print(element)"
   ]
  },
  {
   "cell_type": "code",
   "execution_count": 18,
   "metadata": {},
   "outputs": [
    {
     "name": "stdout",
     "output_type": "stream",
     "text": [
      "1\n",
      "2\n",
      "3\n",
      "4\n",
      "5\n",
      "6\n"
     ]
    }
   ],
   "source": [
    "for i in range(6):\n",
    "    print(myTuple[i])"
   ]
  },
  {
   "cell_type": "markdown",
   "metadata": {},
   "source": [
    "## Iterating over a number of IfcWindow objects and access attributes\n",
    "Below we'll use a for loop to loop through all IfcWindow elements and print out some of it's direct attributes. See the IFC data dictinary for IFC 2.3 [here](https://standards.buildingsmart.org/IFC/RELEASE/IFC2x3/FINAL/HTML/). The main access page for the different IFC schema definitions can be found [here](https://technical.buildingsmart.org/standards/ifc/ifc-schema-specifications/)\n",
    "\n",
    "We'll be getting its **Name** attribute. Since the IfcWindow elements are objects in Python we could access these using the \".\" operator. \n",
    "\n",
    "Feel free to experiment with other attributes. You could eg. try with **OverallHeight and OverallWidth**. "
   ]
  },
  {
   "cell_type": "code",
   "execution_count": 19,
   "metadata": {},
   "outputs": [],
   "source": [
    "# We import ifcopenshell and open the Grethes Hus Model and store it in a variable called file. \n",
    "import ifcopenshell \n",
    "file = ifcopenshell.open(\"Grethes-hus-bok-2.ifc\")\n",
    "\n",
    "#We query the file for its number of IfcWindow type elements\n",
    "windows = file.by_type(\"IfcWindow\")"
   ]
  },
  {
   "cell_type": "code",
   "execution_count": 20,
   "metadata": {},
   "outputs": [
    {
     "name": "stdout",
     "output_type": "stream",
     "text": [
      "[#1475=IfcWindow('3Q87Kkn4X0hh69O_upt9N3',#48,'M_Fixed:_1400x2200mm:348960',$,'_1400x2200mm',#65302,#1467,'348960',2200.,1400.), #1500=IfcWindow('3Q87Kkn4X0hh69O_upt9xy',#48,'M_Fixed:_1400x2200mm:350239',$,'_1400x2200mm',#65328,#1492,'350239',2200.,1400.), #1523=IfcWindow('3Q87Kkn4X0hh69O_upt9$i',#48,'M_Fixed:_1400x2200mm:350479',$,'_1400x2200mm',#65588,#1515,'350479',2200.,1400.), #1546=IfcWindow('3Q87Kkn4X0hh69O_upt9$t',#48,'M_Fixed:_1400x2200mm:350484',$,'_1400x2200mm',#65562,#1538,'350484',2200.,1400.), #1569=IfcWindow('3Q87Kkn4X0hh69O_upt9$w',#48,'M_Fixed:_1400x2200mm:350489',$,'_1400x2200mm',#65536,#1561,'350489',2200.,1400.), #1592=IfcWindow('3Q87Kkn4X0hh69O_upt9$z',#48,'M_Fixed:_1400x2200mm:350494',$,'_1400x2200mm',#65510,#1584,'350494',2200.,1400.), #1615=IfcWindow('3Q87Kkn4X0hh69O_upt9$0',#48,'M_Fixed:_1400x2200mm:350499',$,'_1400x2200mm',#65484,#1607,'350499',2200.,1400.), #1638=IfcWindow('3Q87Kkn4X0hh69O_upt9$B',#48,'M_Fixed:_1400x2200mm:350504',$,'_1400x2200mm',#65458,#1630,'350504',2200.,1400.), #1661=IfcWindow('3Q87Kkn4X0hh69O_upt9$E',#48,'M_Fixed:_1400x2200mm:350509',$,'_1400x2200mm',#65432,#1653,'350509',2200.,1400.), #1684=IfcWindow('3Q87Kkn4X0hh69O_upt9$H',#48,'M_Fixed:_1400x2200mm:350514',$,'_1400x2200mm',#65406,#1676,'350514',2200.,1400.), #1707=IfcWindow('3Q87Kkn4X0hh69O_upt9$K',#48,'M_Fixed:_1400x2200mm:350519',$,'_1400x2200mm',#65380,#1699,'350519',2200.,1400.), #1730=IfcWindow('3Q87Kkn4X0hh69O_upt9$V',#48,'M_Fixed:_1400x2200mm:350524',$,'_1400x2200mm',#65354,#1722,'350524',2200.,1400.), #1997=IfcWindow('3Q87Kkn4X0hh69O_upt9Xn',#48,'M_Fixed:_800x750mm:351890',$,'_800x750mm',#65138,#1989,'351890',749.999999999999,800.000000000001), #2132=IfcWindow('3Q87Kkn4X0hh69O_uptAGQ',#48,'M_Fixed:_1100x700mm:353017',$,'_1100x700mm',#65112,#2124,'353017',699.999999999998,1100.), #2267=IfcWindow('3Q87Kkn4X0hh69O_uptA4j',#48,'M_Fixed:_800x700mm:354254',$,'_800x700mm',#65164,#2259,'354254',699.999999999998,800.000000000001), #2503=IfcWindow('3Q87Kkn4X0hh69O_uptAY6',#48,'M_Fixed:_800x750mm:355941',$,'_800x750mm',#65192,#2495,'355941',749.999999999999,800.000000000001), #2637=IfcWindow('3Q87Kkn4X0hh69O_uptAY5',#48,'M_Fixed:_1100x700mm:355942',$,'_1100x700mm',#65220,#2629,'355942',699.999999999998,1100.), #2771=IfcWindow('3Q87Kkn4X0hh69O_uptAY4',#48,'M_Fixed:_800x700mm:355943',$,'_800x700mm',#65248,#2763,'355943',699.999999999998,800.000000000001), #2905=IfcWindow('3Q87Kkn4X0hh69O_uptBUe',#48,'M_Fixed:_800x1000mm:356683',$,'_800x1000mm',#65614,#2897,'356683',999.999999999997,800.000000000001), #2930=IfcWindow('3Q87Kkn4X0hh69O_uptBNc',#48,'M_Fixed:_800x1000mm:357125',$,'_800x1000mm',#65640,#2922,'357125',999.999999999997,800.000000000001), #3063=IfcWindow('3Q87Kkn4X0hh69O_uptBNo',#48,'M_Fixed:_1400x1000mm:357137',$,'_1400x1000mm',#65666,#3055,'357137',999.999999999997,1400.), #3198=IfcWindow('3Q87Kkn4X0hh69O_uptBK9',#48,'M_Fixed:_800x2000mm:357354',$,'_800x2000mm',#65274,#3190,'357354',2000.,800.), #59611=IfcWindow('1x1Hp_6Db1KwZy5IwzDd35',#48,'M_Window-Casement-Double:_1400x1000mm:385488',$,'_1400x1000mm',#65802,#59603,'385488',1000.,1400.), #60551=IfcWindow('1x1Hp_6Db1KwZy5IwzDd9q',#48,'M_Window-Casement-Double:_1400x1000mm:385889',$,'_1400x1000mm',#65828,#60543,'385889',1000.,1400.), #60783=IfcWindow('1x1Hp_6Db1KwZy5IwzDd9g',#48,'M_Window-Casement-Double:_1400x1000mm:385919',$,'_1400x1000mm',#65856,#60775,'385919',1000.,1400.), #60854=IfcWindow('1x1Hp_6Db1KwZy5IwzDdAN',#48,'M_Window-Casement-Double:_1400x1000mm:385922',$,'_1400x1000mm',#65882,#60846,'385922',1000.,1400.)]\n"
     ]
    }
   ],
   "source": [
    "# By uncommenting (removing the '#') the line below you see the contents of the windows variable\n",
    "\n",
    "print(windows)"
   ]
  },
  {
   "cell_type": "code",
   "execution_count": 21,
   "metadata": {},
   "outputs": [
    {
     "name": "stdout",
     "output_type": "stream",
     "text": [
      "The window elements name is: M_Fixed:_1400x2200mm:348960\n",
      "The window elements name is: M_Fixed:_1400x2200mm:350239\n",
      "The window elements name is: M_Fixed:_1400x2200mm:350479\n",
      "The window elements name is: M_Fixed:_1400x2200mm:350484\n",
      "The window elements name is: M_Fixed:_1400x2200mm:350489\n",
      "The window elements name is: M_Fixed:_1400x2200mm:350494\n",
      "The window elements name is: M_Fixed:_1400x2200mm:350499\n",
      "The window elements name is: M_Fixed:_1400x2200mm:350504\n",
      "The window elements name is: M_Fixed:_1400x2200mm:350509\n",
      "The window elements name is: M_Fixed:_1400x2200mm:350514\n",
      "The window elements name is: M_Fixed:_1400x2200mm:350519\n",
      "The window elements name is: M_Fixed:_1400x2200mm:350524\n",
      "The window elements name is: M_Fixed:_800x750mm:351890\n",
      "The window elements name is: M_Fixed:_1100x700mm:353017\n",
      "The window elements name is: M_Fixed:_800x700mm:354254\n",
      "The window elements name is: M_Fixed:_800x750mm:355941\n",
      "The window elements name is: M_Fixed:_1100x700mm:355942\n",
      "The window elements name is: M_Fixed:_800x700mm:355943\n",
      "The window elements name is: M_Fixed:_800x1000mm:356683\n",
      "The window elements name is: M_Fixed:_800x1000mm:357125\n",
      "The window elements name is: M_Fixed:_1400x1000mm:357137\n",
      "The window elements name is: M_Fixed:_800x2000mm:357354\n",
      "The window elements name is: M_Window-Casement-Double:_1400x1000mm:385488\n",
      "The window elements name is: M_Window-Casement-Double:_1400x1000mm:385889\n",
      "The window elements name is: M_Window-Casement-Double:_1400x1000mm:385919\n",
      "The window elements name is: M_Window-Casement-Double:_1400x1000mm:385922\n"
     ]
    }
   ],
   "source": [
    "# Here is the for loop and its syntax. Notice the indentation. \n",
    "for window in windows: \n",
    "    print(\"The window elements name is: \"+window.Name)"
   ]
  },
  {
   "cell_type": "markdown",
   "metadata": {},
   "source": [
    "# Functions \n",
    "\n",
    "Functions are a useful way to divide your code into blocks of code, that only runs when they are called. It is also a good way to share a small snippet of code with others. \n",
    "\n",
    "A function is defined by the special ```def```statement. Like the example below.\n",
    "\n",
    "## Defining a function"
   ]
  },
  {
   "cell_type": "code",
   "execution_count": 22,
   "metadata": {},
   "outputs": [],
   "source": [
    "def myDefinedFunction():\n",
    "    print(\"This is a print statement within my function\")"
   ]
  },
  {
   "cell_type": "markdown",
   "metadata": {},
   "source": [
    "Notice that the function uses the same indendation style as for If statements and loops as walked through above. A function could contain all the concepts we have walked through above as well. \n",
    "\n",
    "Notice however that noting happended above. That is why we havent called the function. It is however stored, so that we can call it below. \n",
    "## Calling / Using a function"
   ]
  },
  {
   "cell_type": "code",
   "execution_count": 23,
   "metadata": {},
   "outputs": [
    {
     "name": "stdout",
     "output_type": "stream",
     "text": [
      "This is a print statement within my function\n"
     ]
    }
   ],
   "source": [
    "myDefinedFunction()"
   ]
  },
  {
   "cell_type": "markdown",
   "metadata": {},
   "source": [
    "## Input variables to functions\n",
    "\n",
    "We could also build functions that takes in input variables that could be used in the function. Lets define a function that takes in a string variable and prints it out. "
   ]
  },
  {
   "cell_type": "code",
   "execution_count": 24,
   "metadata": {},
   "outputs": [],
   "source": [
    "# A function definition that takes in a parameter called \"string\"\n",
    "def myDefinedFunction2(string):\n",
    "    print(f\"My variable is {string}\")"
   ]
  },
  {
   "cell_type": "code",
   "execution_count": 26,
   "metadata": {},
   "outputs": [
    {
     "name": "stdout",
     "output_type": "stream",
     "text": [
      "My variable is ifcopenshell is cool!\n"
     ]
    }
   ],
   "source": [
    "# A call to myDefinedFunction2 with the string variable \"Hello again!\"\n",
    "myDefinedFunction2(\"ifcopenshell is cool!\")"
   ]
  },
  {
   "cell_type": "code",
   "execution_count": 27,
   "metadata": {},
   "outputs": [
    {
     "name": "stdout",
     "output_type": "stream",
     "text": [
      "My variable is ifcopenshell is cool and powerful.\n"
     ]
    }
   ],
   "source": [
    "# A new call to myDefinedFunction2 with the string \"and again and again\"\n",
    "myDefinedFunction2(\"ifcopenshell is cool and powerful.\")"
   ]
  },
  {
   "cell_type": "markdown",
   "metadata": {},
   "source": [
    "## Input variables and assumed type\n",
    "What would happen if we call myDefinedFunction2 with a number, instead of a string? Try it below. "
   ]
  },
  {
   "cell_type": "code",
   "execution_count": 31,
   "metadata": {},
   "outputs": [
    {
     "name": "stdout",
     "output_type": "stream",
     "text": [
      "My variable is 10\n"
     ]
    }
   ],
   "source": [
    "string = 10\n",
    "\n",
    "myDefinedFunction2(string)"
   ]
  },
  {
   "cell_type": "markdown",
   "metadata": {},
   "source": [
    ":)\n",
    "\n",
    "Python is also cool and powerful!"
   ]
  },
  {
   "cell_type": "markdown",
   "metadata": {},
   "source": [
    "## Exercise 5 - ensure that a function works as intended\n",
    "You can pass as many variables to a function as you'd like, just separate them with a comma like we do with var1 and var 2 below. They could be whatever object you'd like. \n",
    "\n",
    "Below we want to create a function that takes in two variables, var1 and var2. If they are both strings we want to just concatenate them together and print them out. If they are not strings we only want to add them to a list and print \n",
    "\n",
    "**A couple of hints**\n",
    "\n",
    "* you could check if a variable ```a``` is a string by using ```isinstance(a,str)```\n",
    "* If you want two conditions to both be True in order to pass, you could use the ```and```operator\n",
    "\n",
    "**The correct output:**\n",
    "```\n",
    "Hello, World!\n",
    "['hello', 4]\n",
    "```"
   ]
  },
  {
   "cell_type": "code",
   "execution_count": 45,
   "metadata": {},
   "outputs": [
    {
     "name": "stdout",
     "output_type": "stream",
     "text": [
      "Hello, World!\n",
      "['hello', 4]\n"
     ]
    }
   ],
   "source": [
    "def myFunc3(var1,var2):\n",
    "    #Fill in code to comlete the challenge\n",
    "    if isinstance(var1, str) and isinstance(var2, str):\n",
    "    #if type(var1) == str and type(var2) == str:           # it can be written that way too\n",
    "        print(var1 + var2)\n",
    "    else:\n",
    "        list = []\n",
    "        list.append(var1)\n",
    "        list.append(var2)\n",
    "        print(list)\n",
    "\n",
    "#Don't change the code below    \n",
    "myFunc3(\"Hello, \",\"World!\")\n",
    "myFunc3(\"hello\",4)"
   ]
  },
  {
   "cell_type": "markdown",
   "metadata": {},
   "source": [
    "## Lists and tuples as input variables\n",
    "We could also add lists and tuples as input variables to functions. "
   ]
  },
  {
   "cell_type": "code",
   "execution_count": 38,
   "metadata": {},
   "outputs": [],
   "source": [
    "def myFunc4(myList):\n",
    "    for elem in myList:\n",
    "        print(elem)"
   ]
  },
  {
   "cell_type": "code",
   "execution_count": 41,
   "metadata": {},
   "outputs": [
    {
     "name": "stdout",
     "output_type": "stream",
     "text": [
      "1\n",
      "2\n",
      "3\n"
     ]
    }
   ],
   "source": [
    "# Define a list \n",
    "aList = [1, 2, 3]\n",
    "\n",
    "# Send it as input variable to myFunc4\n",
    "myFunc4(aList)"
   ]
  },
  {
   "cell_type": "code",
   "execution_count": 42,
   "metadata": {},
   "outputs": [
    {
     "name": "stdout",
     "output_type": "stream",
     "text": [
      "4\n",
      "5\n",
      "6\n"
     ]
    }
   ],
   "source": [
    "# Define a tuple \n",
    "aTuple = (4, 5, 6)\n",
    "\n",
    "# Send it as input variable to myFunc4\n",
    "myFunc4(aTuple)"
   ]
  },
  {
   "cell_type": "markdown",
   "metadata": {},
   "source": [
    "### What will happend if you pass a string instead of a list?\n",
    "Try below to call the function above passing in a string value like eg. ```myFunc4(\"your name\")```\n",
    "\n",
    "What do you think will happen? "
   ]
  },
  {
   "cell_type": "code",
   "execution_count": 43,
   "metadata": {},
   "outputs": [
    {
     "name": "stdout",
     "output_type": "stream",
     "text": [
      "R\n",
      "e\n",
      "n\n",
      "a\n",
      "t\n",
      "o\n",
      " \n",
      "C\n",
      "r\n",
      "u\n",
      "z\n"
     ]
    }
   ],
   "source": [
    "### Do the test here ###\n",
    "\n",
    "myFunc4(\"Renato Cruz\")"
   ]
  },
  {
   "cell_type": "markdown",
   "metadata": {},
   "source": [
    "## Have functions return values\n",
    "\n",
    "A good way to use functions is to have them perform som logic on input variables and have them return the result. For this you use the ```return``` statement. "
   ]
  },
  {
   "cell_type": "code",
   "execution_count": 44,
   "metadata": {},
   "outputs": [
    {
     "name": "stdout",
     "output_type": "stream",
     "text": [
      "54\n"
     ]
    }
   ],
   "source": [
    "# defines a function that takes in a list of items as parameter, \n",
    "# loops through it and adds all integers together, and then returns the resulting value\n",
    "def myFunc5(myList):\n",
    "    tmp = 0                      # Defined outside the for loop to be able to return it outside the scope of the loop\n",
    "    for elem in myList:\n",
    "        if isinstance(elem, int):\n",
    "            tmp = tmp + elem\n",
    "    return tmp\n",
    "\n",
    "aList = [\"string\", 10, 10, 30, 4, \"stuff\"]\n",
    "print(myFunc5(aList))"
   ]
  },
  {
   "cell_type": "markdown",
   "metadata": {},
   "source": [
    "## Exercise 6 - Names and Descriptions of Window objects. \n",
    "\n",
    "Many times one would get an ifc model where one want to change or restructure information in the file. That is tediouse work on big models, so one may want to script it. In addition it would be a good code block to have, regardless of object type. \n",
    "\n",
    "In IFC the name and description is something all objects *inherrit* from IfcRoot, and cosequently they all have the following attributes ([ref. Ifc documentation](https://standards.buildingsmart.org/IFC/RELEASE/IFC2x3/FINAL/HTML/)): \n",
    "\n",
    ">* GlobalId\t : \tAssignment of a globally unique identifier within the entire software world.\n",
    ">* OwnerHistory\t : \tAssignment of the information about the current ownership of that object, including owning actor, >application, local identification and information captured about the recent changes of the object, NOTE: only the >last modification in stored.\n",
    ">* Name\t : \tOptional name for use by the participating software systems or users. For some subtypes of IfcRoot the >insertion of the Name attribute may be required. This would be enforced by a where rule.\n",
    ">* Description\t : \tOptional description, provided for exchanging informative comments.\n",
    "\n",
    "So, it might be a good idea to package code into functions. That way we could share it and reuse the code regardless of which element we want to change the name and description on. \n",
    "\n",
    "The first challenge is to create a function that takes in a IfcWindow (or another Ifc object), get the Name and store that in the Description property of the object. Then, add an input variable that *if set* will be given as a Name to the window or it will store a blank string as the Name. \n",
    "\n",
    "The second challenge is to write code to print out the names and descriptions (before and after) to confirm your result. \n",
    "\n",
    "\n",
    "** Some hints:** \n",
    "* Python functions could have input variables that have default variables eg. def func (var1,var2 =\"\"):.\n",
    "* Look above to find code that enables you to import the ifcopenshell code library, that have code that enables you to work with teh IFC file.\n",
    "* Look above, or eg. in [academy.ifcopenshell.org](http://academy.ifcopenshell.org), to find code in the ifcopenshell library that could store a reference to an IFC model in a variable and another function that lets you query that file for all IfcWindow objects you might want to find in that model. \n",
    "* You can set the ```Name```variable of a window object that is store in a variable called \"window\" by ```window.Name = \"the name you want to set\"````\n",
    "\n"
   ]
  },
  {
   "cell_type": "code",
   "execution_count": 1,
   "metadata": {},
   "outputs": [],
   "source": [
    "### Add your code here ### \n",
    "\n",
    "# Importing package and accessing IFC file\n",
    "\n",
    "import ifcopenshell \n",
    "file = ifcopenshell.open(\"Grethes-hus-bok-2.ifc\")"
   ]
  },
  {
   "cell_type": "code",
   "execution_count": 3,
   "metadata": {},
   "outputs": [
    {
     "name": "stdout",
     "output_type": "stream",
     "text": [
      "26\n"
     ]
    }
   ],
   "source": [
    "# We query the file for its number of IfcWindow type elements\n",
    "\n",
    "windows = file.by_type(\"IfcWindow\")\n",
    "\n",
    "print(len(windows))"
   ]
  },
  {
   "cell_type": "code",
   "execution_count": 4,
   "metadata": {},
   "outputs": [
    {
     "name": "stdout",
     "output_type": "stream",
     "text": [
      "#1475=IfcWindow('3Q87Kkn4X0hh69O_upt9N3',#48,'M_Fixed:_1400x2200mm:348960',$,'_1400x2200mm',#65302,#1467,'348960',2200.,1400.)\n",
      "#1500=IfcWindow('3Q87Kkn4X0hh69O_upt9xy',#48,'M_Fixed:_1400x2200mm:350239',$,'_1400x2200mm',#65328,#1492,'350239',2200.,1400.)\n",
      "#1523=IfcWindow('3Q87Kkn4X0hh69O_upt9$i',#48,'M_Fixed:_1400x2200mm:350479',$,'_1400x2200mm',#65588,#1515,'350479',2200.,1400.)\n",
      "#1546=IfcWindow('3Q87Kkn4X0hh69O_upt9$t',#48,'M_Fixed:_1400x2200mm:350484',$,'_1400x2200mm',#65562,#1538,'350484',2200.,1400.)\n",
      "#1569=IfcWindow('3Q87Kkn4X0hh69O_upt9$w',#48,'M_Fixed:_1400x2200mm:350489',$,'_1400x2200mm',#65536,#1561,'350489',2200.,1400.)\n",
      "#1592=IfcWindow('3Q87Kkn4X0hh69O_upt9$z',#48,'M_Fixed:_1400x2200mm:350494',$,'_1400x2200mm',#65510,#1584,'350494',2200.,1400.)\n",
      "#1615=IfcWindow('3Q87Kkn4X0hh69O_upt9$0',#48,'M_Fixed:_1400x2200mm:350499',$,'_1400x2200mm',#65484,#1607,'350499',2200.,1400.)\n",
      "#1638=IfcWindow('3Q87Kkn4X0hh69O_upt9$B',#48,'M_Fixed:_1400x2200mm:350504',$,'_1400x2200mm',#65458,#1630,'350504',2200.,1400.)\n",
      "#1661=IfcWindow('3Q87Kkn4X0hh69O_upt9$E',#48,'M_Fixed:_1400x2200mm:350509',$,'_1400x2200mm',#65432,#1653,'350509',2200.,1400.)\n",
      "#1684=IfcWindow('3Q87Kkn4X0hh69O_upt9$H',#48,'M_Fixed:_1400x2200mm:350514',$,'_1400x2200mm',#65406,#1676,'350514',2200.,1400.)\n",
      "#1707=IfcWindow('3Q87Kkn4X0hh69O_upt9$K',#48,'M_Fixed:_1400x2200mm:350519',$,'_1400x2200mm',#65380,#1699,'350519',2200.,1400.)\n",
      "#1730=IfcWindow('3Q87Kkn4X0hh69O_upt9$V',#48,'M_Fixed:_1400x2200mm:350524',$,'_1400x2200mm',#65354,#1722,'350524',2200.,1400.)\n",
      "#1997=IfcWindow('3Q87Kkn4X0hh69O_upt9Xn',#48,'M_Fixed:_800x750mm:351890',$,'_800x750mm',#65138,#1989,'351890',749.999999999999,800.000000000001)\n",
      "#2132=IfcWindow('3Q87Kkn4X0hh69O_uptAGQ',#48,'M_Fixed:_1100x700mm:353017',$,'_1100x700mm',#65112,#2124,'353017',699.999999999998,1100.)\n",
      "#2267=IfcWindow('3Q87Kkn4X0hh69O_uptA4j',#48,'M_Fixed:_800x700mm:354254',$,'_800x700mm',#65164,#2259,'354254',699.999999999998,800.000000000001)\n",
      "#2503=IfcWindow('3Q87Kkn4X0hh69O_uptAY6',#48,'M_Fixed:_800x750mm:355941',$,'_800x750mm',#65192,#2495,'355941',749.999999999999,800.000000000001)\n",
      "#2637=IfcWindow('3Q87Kkn4X0hh69O_uptAY5',#48,'M_Fixed:_1100x700mm:355942',$,'_1100x700mm',#65220,#2629,'355942',699.999999999998,1100.)\n",
      "#2771=IfcWindow('3Q87Kkn4X0hh69O_uptAY4',#48,'M_Fixed:_800x700mm:355943',$,'_800x700mm',#65248,#2763,'355943',699.999999999998,800.000000000001)\n",
      "#2905=IfcWindow('3Q87Kkn4X0hh69O_uptBUe',#48,'M_Fixed:_800x1000mm:356683',$,'_800x1000mm',#65614,#2897,'356683',999.999999999997,800.000000000001)\n",
      "#2930=IfcWindow('3Q87Kkn4X0hh69O_uptBNc',#48,'M_Fixed:_800x1000mm:357125',$,'_800x1000mm',#65640,#2922,'357125',999.999999999997,800.000000000001)\n",
      "#3063=IfcWindow('3Q87Kkn4X0hh69O_uptBNo',#48,'M_Fixed:_1400x1000mm:357137',$,'_1400x1000mm',#65666,#3055,'357137',999.999999999997,1400.)\n",
      "#3198=IfcWindow('3Q87Kkn4X0hh69O_uptBK9',#48,'M_Fixed:_800x2000mm:357354',$,'_800x2000mm',#65274,#3190,'357354',2000.,800.)\n",
      "#59611=IfcWindow('1x1Hp_6Db1KwZy5IwzDd35',#48,'M_Window-Casement-Double:_1400x1000mm:385488',$,'_1400x1000mm',#65802,#59603,'385488',1000.,1400.)\n",
      "#60551=IfcWindow('1x1Hp_6Db1KwZy5IwzDd9q',#48,'M_Window-Casement-Double:_1400x1000mm:385889',$,'_1400x1000mm',#65828,#60543,'385889',1000.,1400.)\n",
      "#60783=IfcWindow('1x1Hp_6Db1KwZy5IwzDd9g',#48,'M_Window-Casement-Double:_1400x1000mm:385919',$,'_1400x1000mm',#65856,#60775,'385919',1000.,1400.)\n",
      "#60854=IfcWindow('1x1Hp_6Db1KwZy5IwzDdAN',#48,'M_Window-Casement-Double:_1400x1000mm:385922',$,'_1400x1000mm',#65882,#60846,'385922',1000.,1400.)\n"
     ]
    }
   ],
   "source": [
    "# Printing windows\n",
    "\n",
    "for window in windows:\n",
    "    print(window)"
   ]
  },
  {
   "cell_type": "code",
   "execution_count": 5,
   "metadata": {},
   "outputs": [],
   "source": [
    "# Function to update the name of the windows\n",
    "\n",
    "def UpdateWindowName(window, newName = \"\"):\n",
    "    print(\"####################\")\n",
    "    print(\"Before:\")\n",
    "    print(f\"Name: {window.Name}\")\n",
    "    print(\"Description: {window.Description}\")\n",
    "    window.Description = window.Name\n",
    "    window.Name = newName\n",
    "    print(\"- - - - - - - -\")\n",
    "    print(\"After:\")\n",
    "    print(\"Name: {window.Name}\")\n",
    "    print(\"Description: {window.Description}\")"
   ]
  },
  {
   "cell_type": "code",
   "execution_count": 6,
   "metadata": {},
   "outputs": [
    {
     "name": "stdout",
     "output_type": "stream",
     "text": [
      "####################\n",
      "Before:\n",
      "Name: M_Fixed:_1400x2200mm:348960\n",
      "Description: {window.Description}\n",
      "- - - - - - - -\n",
      "After:\n",
      "Name: {window.Name}\n",
      "Description: {window.Description}\n",
      "####################\n",
      "Before:\n",
      "Name: M_Fixed:_1400x2200mm:350239\n",
      "Description: {window.Description}\n",
      "- - - - - - - -\n",
      "After:\n",
      "Name: {window.Name}\n",
      "Description: {window.Description}\n"
     ]
    }
   ],
   "source": [
    "# Calling the function to perform the name change operation\n",
    "\n",
    "UpdateWindowName(windows[0])\n",
    "UpdateWindowName(windows[1], \"UpdatedName window\")"
   ]
  },
  {
   "cell_type": "markdown",
   "metadata": {},
   "source": [
    "# Classes and Objects\n",
    "\n",
    "We have already worked alot with objects, some window objects, some string objects, and even some list objects. So, what is objects and where do they come from? Objects are an encapsulation of variables and functions into a single entity. Objects get their variables and functions from classes. Classes are essentially a template to create your objects. \n",
    "\n",
    "When functions are code blocks that could be shared and reused, classes and objects are even bigger blocks of reusable code. For the IfcWindow example above, it has a class that defines what the variables and functions the window objects of that class has. The documentation of what capabilities the IfcWindow class should have is defined by the Ifc documentation for IfcWindow. You could also have documentation of how that class is defined/implemented in the particular programming language. \n",
    "\n",
    "A very basic class would look something like this:\n",
    "\n",
    "```Python\n",
    "class MyWindowClass:\n",
    "    nameVariable = \"Window\"\n",
    "\n",
    "    def namePrint(self):\n",
    "        print(\"My Name is \"+self.nameVariable)\n",
    "```\n",
    "## Defining a Class\n",
    "Lets define a Window Class"
   ]
  },
  {
   "cell_type": "code",
   "execution_count": 7,
   "metadata": {},
   "outputs": [],
   "source": [
    "## Defines a Window Class\n",
    "class MyWindowClass:\n",
    "    nameVariable = \"Window\"\n",
    "\n",
    "    def namePrint(self):\n",
    "        print(\"My Name is \"+self.nameVariable)"
   ]
  },
  {
   "cell_type": "markdown",
   "metadata": {},
   "source": [
    "## Creating objects from class definitions\n",
    "When you have defined a class, you could create several objects based on it. "
   ]
  },
  {
   "cell_type": "code",
   "execution_count": 21,
   "metadata": {},
   "outputs": [],
   "source": [
    "## Defines two different objects based on the MyWindowClass \n",
    "window1 = MyWindowClass()\n",
    "window2 = MyWindowClass()"
   ]
  },
  {
   "cell_type": "markdown",
   "metadata": {},
   "source": [
    "## Accessing Object variables and functions\n",
    "Now the window1 and window2 objects have both a nameVariable and namePrint function each. As we have seen above, we access its variables (attributes) by the \".\" operator. "
   ]
  },
  {
   "cell_type": "code",
   "execution_count": 22,
   "metadata": {},
   "outputs": [
    {
     "data": {
      "text/plain": [
       "'Window'"
      ]
     },
     "execution_count": 22,
     "metadata": {},
     "output_type": "execute_result"
    }
   ],
   "source": [
    "# Get the nameVariable of window1\n",
    "\n",
    "window1.nameVariable"
   ]
  },
  {
   "cell_type": "markdown",
   "metadata": {},
   "source": [
    "### MiniExercise: Do the same for window2 below"
   ]
  },
  {
   "cell_type": "code",
   "execution_count": 23,
   "metadata": {},
   "outputs": [
    {
     "data": {
      "text/plain": [
       "'Window'"
      ]
     },
     "execution_count": 23,
     "metadata": {},
     "output_type": "execute_result"
    }
   ],
   "source": [
    "### Get the the name variable of window2\n",
    "\n",
    "window2.nameVariable"
   ]
  },
  {
   "cell_type": "markdown",
   "metadata": {},
   "source": [
    "## Exercise 7 - Setting object variables\n",
    "Both windows have the same name. Use what you know from above to set the name of window1 and window2 to something proper. "
   ]
  },
  {
   "cell_type": "code",
   "execution_count": 24,
   "metadata": {},
   "outputs": [],
   "source": [
    "### Solve Exercise 7 here:\n",
    "\n",
    "window1.nameVariable = \"Window 1\"\n",
    "window2.nameVariable = \"Window 2\""
   ]
  },
  {
   "cell_type": "markdown",
   "metadata": {},
   "source": [
    "## Exercise 8 - Accessing object functions\n",
    "In the MyWindowClass definition we have a function to print out the name. Show below how this function can be accessed on both window1 and window2."
   ]
  },
  {
   "cell_type": "code",
   "execution_count": 25,
   "metadata": {},
   "outputs": [
    {
     "name": "stdout",
     "output_type": "stream",
     "text": [
      "My Name is Window 1\n",
      "My Name is Window 2\n"
     ]
    }
   ],
   "source": [
    "### Solve Exercise 8 here: \n",
    "\n",
    "window1.namePrint()\n",
    "window2.namePrint()"
   ]
  },
  {
   "cell_type": "markdown",
   "metadata": {},
   "source": [
    "# Modules and Packages\n",
    "In programming, a module is a piece of software that has a specific functionality. For example, when building a ping pong game, one module could be responsible for the game logic, and another module could be responsible for drawing the game on the screen. Each module is a different file, which can be edited separately.\n",
    "\n",
    "Modules in Python are simply Python files with a .py extension. The name of the module will be the name of the file. A Python module can have a set of functions, classes or variables defined and implemented.\n",
    "\n",
    "You might have seen the ```ifc_viewer.py``` file in the folders? That is a module, and particularly a module that enables viewing of models in jupyter notebooks. So, how do one use that? "
   ]
  },
  {
   "cell_type": "markdown",
   "metadata": {},
   "source": [
    "## Using Modules in other programs\n",
    "Modules could be used in other programs by using the special ```import```statement. Eg. to import all of it use ```import ifc_viewer```would do the trick. \n",
    "\n",
    "However, the module may define several classes, variables and functions. What if we only wanted to import the ```ifc_viewer``` class in the ```ifc_viewer```module? Then we do like bewlow. "
   ]
  },
  {
   "cell_type": "code",
   "execution_count": 28,
   "metadata": {},
   "outputs": [],
   "source": [
    "# Import the ifc_viewer class of ifc_viewer module\n",
    "\n",
    "from ifc_viewer import ifc_viewer"
   ]
  },
  {
   "cell_type": "markdown",
   "metadata": {},
   "source": [
    "## Using Packages and Modules in another program\n",
    "\n",
    "Another package we already have used is the **ifcopenshell**. Packages are namespaces which contain multiple packages and modules themselves. They are simply directories, but with a twist.\n",
    "\n",
    "Each package in Python is a directory which MUST contain a special file called __init__.py. This file can be empty, and it indicates that the directory it contains is a Python package, so it can be imported the same way a module can be imported ([ref. learnpython.org](https://www.learnpython.org/en/Modules_and_Packages)).\n",
    "\n",
    "We have already imported ifcopenshell. But we could also import specific parts of it. Lets combine it to visualize the windows of the Grethes Hus model. "
   ]
  },
  {
   "cell_type": "code",
   "execution_count": 1,
   "metadata": {},
   "outputs": [],
   "source": [
    "import ifcopenshell \n",
    "import ifcopenshell.geom\n",
    "from ifc_viewer import ifc_viewer"
   ]
  },
  {
   "cell_type": "code",
   "execution_count": 2,
   "metadata": {},
   "outputs": [],
   "source": [
    "# Storing the model in a file variable, and giving the path to the file as input.\n",
    "\n",
    "file = ifcopenshell.open(f\"Grethes-hus-bok-2.ifc\")"
   ]
  },
  {
   "cell_type": "code",
   "execution_count": 3,
   "metadata": {},
   "outputs": [],
   "source": [
    "# Storing all windows of the file by ising the by_type function of the file class \n",
    "\n",
    "windows = file.by_type(\"IfcWindow\")"
   ]
  },
  {
   "cell_type": "code",
   "execution_count": 4,
   "metadata": {},
   "outputs": [],
   "source": [
    "# Setting the geometry settings. \n",
    "\n",
    "s = ifcopenshell.geom.settings()\n",
    "s.set(s.USE_PYTHON_OPENCASCADE, True)"
   ]
  },
  {
   "cell_type": "code",
   "execution_count": 5,
   "metadata": {},
   "outputs": [],
   "source": [
    "# Instansiationg a viewer object from the ifc_viewer class\n",
    "\n",
    "viewer = ifc_viewer()"
   ]
  },
  {
   "cell_type": "code",
   "execution_count": 6,
   "metadata": {},
   "outputs": [
    {
     "data": {
      "application/vnd.jupyter.widget-view+json": {
       "model_id": "ba9ccc3edd8042669589657e2cf5ac3b",
       "version_major": 2,
       "version_minor": 0
      },
      "text/plain": [
       "HBox(children=(VBox(children=(HBox(children=(Checkbox(value=True, description='Axes', layout=Layout(height='au…"
      ]
     },
     "metadata": {},
     "output_type": "display_data"
    }
   ],
   "source": [
    "# Running through all window elements and create a shape and add it to the viewer for displaying.\n",
    "\n",
    "for window in windows:\n",
    "    shape = ifcopenshell.geom.create_shape(s, window)\n",
    "    viewer.DisplayShape(window, shape.geometry, shape.styles)\n",
    "\n",
    "viewer.Display()"
   ]
  },
  {
   "cell_type": "code",
   "execution_count": 8,
   "metadata": {},
   "outputs": [],
   "source": [
    "# Storing all wall of the file by ising the by_type function of the file class \n",
    "\n",
    "walls = file.by_type(\"IfcWall\")"
   ]
  },
  {
   "cell_type": "code",
   "execution_count": 9,
   "metadata": {},
   "outputs": [
    {
     "data": {
      "application/vnd.jupyter.widget-view+json": {
       "model_id": "f20c3a55772b49688a7f915565fa3a40",
       "version_major": 2,
       "version_minor": 0
      },
      "text/plain": [
       "HBox(children=(VBox(children=(HBox(children=(Checkbox(value=True, description='Axes', layout=Layout(height='au…"
      ]
     },
     "metadata": {},
     "output_type": "display_data"
    }
   ],
   "source": [
    "# Running through all window elements and create a shape and add it to the viewer for displaying.\n",
    "\n",
    "for wall in walls:\n",
    "    shape = ifcopenshell.geom.create_shape(s, wall)\n",
    "    viewer.DisplayShape(wall, shape.geometry, shape.styles)\n",
    "\n",
    "viewer.Display()"
   ]
  },
  {
   "cell_type": "code",
   "execution_count": null,
   "metadata": {},
   "outputs": [],
   "source": []
  }
 ],
 "metadata": {
  "kernelspec": {
   "display_name": "Python 3",
   "language": "python",
   "name": "python3"
  },
  "language_info": {
   "codemirror_mode": {
    "name": "ipython",
    "version": 3
   },
   "file_extension": ".py",
   "mimetype": "text/x-python",
   "name": "python",
   "nbconvert_exporter": "python",
   "pygments_lexer": "ipython3",
   "version": "3.8.5"
  }
 },
 "nbformat": 4,
 "nbformat_minor": 2
}

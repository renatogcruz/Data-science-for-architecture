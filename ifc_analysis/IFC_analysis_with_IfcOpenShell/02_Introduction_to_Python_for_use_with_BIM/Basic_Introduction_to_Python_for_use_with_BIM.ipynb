{
 "cells": [
  {
   "cell_type": "markdown",
   "metadata": {},
   "source": [
    "# Introduction to Python 3 in jupyternotebook\n",
    "\n",
    "This is an introduction to the Python programming language for participants on the Programming with openBIM course as arranged by [BIMFag](https://bimfag.no/). It is based on [learnpythons basic course](https://www.learnpython.org/). \n",
    "\n",
    "It is not a complete Python course, so for deeper walkthrough of python and the different aspects of the language see more on [learnpython](https://www.learnpython.org/) or one can get free courses on eg. [Udacity](https://www.udacity.com/course/programming-foundations-with-python--ud036), [EdX](https://learn.edx.org/topic-python/) or [CodeAcademy](https://www.codecademy.com/learn/learn-python-3). \n",
    "\n",
    "This tutorial will walk through these chapters: \n",
    "\n",
    "* [2 Hello jupyter, world and you](#Hello-jupyter,-world-and-you)\n",
    "* [3 Variables and types](#Variables-and-types)\n",
    "* [4 Basic String formatting](#Basic-String-formatting)\n",
    "* [5 Collection types (Arrays)](#Collection-types-(Arrays))\n",
    "* [6 Conditions and If statements](#Conditions-and-If-statements) \n",
    "* [7 While Loops](#While-Loops)\n",
    "* [8 For Loops](#For-Loops)\n",
    "* [9 Functions](#Functions)\n",
    "* [10 Classes and Objects](#Classes-and-Objects)\n",
    "* [11 Modules and Packages](#Modules-and-Packages)\n",
    "\n",
    "\n",
    "in addition since this is a openBIM programming course, we will use BIM models as part of the introduction. \n",
    "\n",
    "**At the end of this notebook you will learn how to visualize objects in a BIM model. Like the windows of Grethes hus**"
   ]
  },
  {
   "cell_type": "markdown",
   "metadata": {},
   "source": [
    "# Hello jupyter, world and you\n",
    "\n",
    "The [jupyter notebook](https://jupyter.org/) lets us define and edit both text cells and markdown (text) cells. This is used here to introduce the concepts along the way, and also provide code cells where commands could be tested and executed. \n",
    "\n",
    "We do it in cells, so eg. you could always create a new cell, edit or change. \n",
    "\n",
    "## Create a new cell, and write what you think about jupyter.\n",
    "Use the \"+\" button above to create a new cell under this one. "
   ]
  },
  {
   "cell_type": "code",
   "execution_count": 25,
   "metadata": {},
   "outputs": [],
   "source": [
    "### Change this cell from a Code cell to a Markdown cell, by using the roll down menu above. "
   ]
  },
  {
   "cell_type": "markdown",
   "metadata": {},
   "source": [
    "## Let the program tell something to a user\n",
    "\n",
    "The print statement is a powerfull directive in python and it enables a program to print out a result, eg. \"Hello, world\". Which prints a data type called a string to the screen. "
   ]
  },
  {
   "cell_type": "code",
   "execution_count": 20,
   "metadata": {},
   "outputs": [
    {
     "name": "stdout",
     "output_type": "stream",
     "text": [
      "Hello, world!\n"
     ]
    }
   ],
   "source": [
    "# Here we print the string \"Hello, world!\" to the screen. \n",
    "print(\"Hello, world!\")"
   ]
  },
  {
   "cell_type": "markdown",
   "metadata": {},
   "source": [
    "We will use the print statement several times in this course together with \"string formatting\". A typpical way of formatting a string is by appending another string to it, like \"Hello, \"+\"world\". "
   ]
  },
  {
   "cell_type": "code",
   "execution_count": 21,
   "metadata": {},
   "outputs": [
    {
     "name": "stdout",
     "output_type": "stream",
     "text": [
      "Hello,world!\n"
     ]
    }
   ],
   "source": [
    "# Here we append the two strings \"Hello, \" and \"world!\" to the screen.\n",
    "print(\"Hello,\"+\"world!\")"
   ]
  },
  {
   "cell_type": "markdown",
   "metadata": {},
   "source": [
    "As seen above now we didn't get a space between the two strings. A space could either be part of e.g. the first string, or be a separate string in itself like \" \". Lets append that too. "
   ]
  },
  {
   "cell_type": "code",
   "execution_count": 22,
   "metadata": {},
   "outputs": [
    {
     "name": "stdout",
     "output_type": "stream",
     "text": [
      "Hello, world!\n"
     ]
    }
   ],
   "source": [
    "# Here we append the three strings \"Hello,\", \" \" and \"world!\"\n",
    "print(\"Hello,\"+\" \"+\"world!\")"
   ]
  },
  {
   "cell_type": "markdown",
   "metadata": {},
   "source": [
    "## Let the program ask a user for input and show the result\n",
    "Since we want to say hello to you too, you could use the \"input()\" function to get user intput and store that in a variable, and print to screen."
   ]
  },
  {
   "cell_type": "code",
   "execution_count": 24,
   "metadata": {},
   "outputs": [
    {
     "name": "stdout",
     "output_type": "stream",
     "text": [
      "Write your name here: Ingvild\n",
      "Hello, Ingvild!\n"
     ]
    }
   ],
   "source": [
    "# Here we get the name from the user and store it in a variable called name, append that to another vairable as we print. \n",
    "x = input(\"Write your name here: \")\n",
    "y = \"Hello, \"\n",
    "print(y+x+\"!\")"
   ]
  },
  {
   "cell_type": "markdown",
   "metadata": {},
   "source": [
    "# Variables and types \n",
    "\n",
    "Python is completely object oriented, and not \"statically typed\". In other programming languages, that is statically typed, you need to declare the variable and what type of data it holds, before using it. In Python you do not need to declare variables before using them, or declare their type. \n",
    "\n",
    "This is seen above where we just store the input into x and y that stores the string \"Hello, \" without first declaring them to hold data of string type first. Every variable in Python is an object, and we will go through some of the types here. "
   ]
  },
  {
   "cell_type": "markdown",
   "metadata": {},
   "source": [
    "## Numbers \n",
    "For this course two different number types are relevant, integer and floating point numbers. "
   ]
  },
  {
   "cell_type": "code",
   "execution_count": 11,
   "metadata": {},
   "outputs": [
    {
     "name": "stdout",
     "output_type": "stream",
     "text": [
      "9\n"
     ]
    }
   ],
   "source": [
    "# This is how you define an integer\n",
    "myInt = 9\n",
    "print(myInt)"
   ]
  },
  {
   "cell_type": "code",
   "execution_count": 1,
   "metadata": {},
   "outputs": [
    {
     "name": "stdout",
     "output_type": "stream",
     "text": [
      "9.0\n",
      "9.0\n",
      "9.0\n"
     ]
    }
   ],
   "source": [
    "# To define a floating point number you could use one of the following approaches\n",
    "myFloat1 = 9.0\n",
    "print(myFloat1)\n",
    "myFloat2 = float(9)\n",
    "print(myFloat2)\n",
    "myFloat3 = 9.\n",
    "print(myFloat3)"
   ]
  },
  {
   "cell_type": "markdown",
   "metadata": {},
   "source": [
    "One could aslo \"cast\" an integer into a float, like we do in the myFloat2=float(9). \n",
    "\n",
    "* An integer x can be cast into float by using float(x)\n",
    "* A float y can be cast into an integer by using int(y)\n",
    "* An integer x and a float y can both be cast into a string by respectively str(x) and str(y). "
   ]
  },
  {
   "cell_type": "code",
   "execution_count": 3,
   "metadata": {},
   "outputs": [
    {
     "name": "stdout",
     "output_type": "stream",
     "text": [
      "My Integer: 9, and my Float: 9.0\n"
     ]
    }
   ],
   "source": [
    "# Here we first define an integer, and cast it into a float\n",
    "myInt = 9 \n",
    "myFloat = float(myInt)\n",
    "print(\"My Integer: %s, and my Float: %s\" % (myInt,myFloat))"
   ]
  },
  {
   "cell_type": "code",
   "execution_count": 4,
   "metadata": {},
   "outputs": [
    {
     "name": "stdout",
     "output_type": "stream",
     "text": [
      "9\n",
      "9.0\n"
     ]
    }
   ],
   "source": [
    "# Here we cast myInt and myFloat (from above) into strings\n",
    "myIntegerString = str(myInt)\n",
    "print(myIntegerString)\n",
    "myFloatString= str(myFloat)\n",
    "print(myFloatString)"
   ]
  },
  {
   "cell_type": "markdown",
   "metadata": {},
   "source": [
    "## Strings \n",
    "Strings can be define by using single (') or double quoates(\"). The difference between the two is that using double quotes makes it easy to include apostrophes (whereas these would terminate the string if using single quotes)"
   ]
  },
  {
   "cell_type": "code",
   "execution_count": 13,
   "metadata": {},
   "outputs": [
    {
     "name": "stdout",
     "output_type": "stream",
     "text": [
      "Don't worry about apostrophes\n"
     ]
    }
   ],
   "source": [
    "myString = \"Don't worry about apostrophes\"\n",
    "print(myString)"
   ]
  },
  {
   "cell_type": "code",
   "execution_count": 12,
   "metadata": {},
   "outputs": [
    {
     "name": "stdout",
     "output_type": "stream",
     "text": [
      "Don't worry about apostrophes\n"
     ]
    }
   ],
   "source": [
    "escapedString = 'Don\\'t worry about apostrophes'\n",
    "print(escapedString)"
   ]
  },
  {
   "cell_type": "code",
   "execution_count": 9,
   "metadata": {},
   "outputs": [
    {
     "name": "stdout",
     "output_type": "stream",
     "text": [
      "abcdefgh\n",
      "c\n",
      "h\n"
     ]
    }
   ],
   "source": [
    "#Strings are just an array of characters\n",
    "myString = \"abcdefgh\"\n",
    "print(myString)\n",
    "third = myString[2]\n",
    "print(third)\n",
    "last = myString[-1]\n",
    "print(last)"
   ]
  },
  {
   "cell_type": "markdown",
   "metadata": {},
   "source": [
    "### MiniExcercise:\n",
    "Fetch the character \"d\" from myString and print it to screen"
   ]
  },
  {
   "cell_type": "code",
   "execution_count": null,
   "metadata": {},
   "outputs": [],
   "source": [
    "# Write your code here\n",
    "\n",
    "\n"
   ]
  },
  {
   "cell_type": "markdown",
   "metadata": {},
   "source": [
    "## Exercise 1 \n",
    "The target of this exercise is to create a string, an integer, and a floating point number. The string should be named mystring and should contain the word \"hello\". The floating point number should be named myfloat and should contain the number 10.0, and the integer should be named myint and should contain the number 20."
   ]
  },
  {
   "cell_type": "code",
   "execution_count": 10,
   "metadata": {},
   "outputs": [],
   "source": [
    "# change this code\n",
    "mystring = \"change this\"\n",
    "myfloat = \"change this\"\n",
    "myint = \"change this\"\n",
    "\n",
    "# testing code\n",
    "if mystring == \"hello\":\n",
    "    print(\"String: %s\" % mystring)\n",
    "if isinstance(myfloat, float) and myfloat == 10.0:\n",
    "    print(\"Float: %f\" % myfloat)\n",
    "if isinstance(myint, int) and myint == 20:\n",
    "    print(\"Integer: %d\" % myint)"
   ]
  },
  {
   "cell_type": "markdown",
   "metadata": {},
   "source": [
    "## Exercise 2\n",
    "Run the code below first without changing anything, supplying a number to it. \n",
    "\n",
    "Then, use a cast to correct it so that it outputs correct math on numbers. "
   ]
  },
  {
   "cell_type": "code",
   "execution_count": 12,
   "metadata": {},
   "outputs": [
    {
     "name": "stdout",
     "output_type": "stream",
     "text": [
      "Provide a number: 6\n",
      "66666\n"
     ]
    }
   ],
   "source": [
    "# Here we take and input of a number, and then multiply it 5 times and then prints the result.\n",
    "inputVariable = input(\"Provide a number: \")\n",
    "x = inputVariable * 5\n",
    "print(x)"
   ]
  },
  {
   "cell_type": "markdown",
   "metadata": {},
   "source": [
    "## Naming conventions:\n",
    "Different programming languages have different \"best practice\" naming for their naming of variables, funtions and classes. In python, the naming conventions are described at: [PEP8](https://www.python.org/dev/peps/pep-0008/#naming-conventions)"
   ]
  },
  {
   "cell_type": "code",
   "execution_count": null,
   "metadata": {},
   "outputs": [],
   "source": [
    "# Examples of naming conventions\n",
    "CONSTANTS_ARE_ALL_UPPERCASE = \"my constant string\"\n",
    "variables_should_be_all_lowercase_separated_with_underscores = 1\n",
    "def functions_should_do_the_same():\n",
    "    var1 = 4\n",
    "    retrun var1"
   ]
  },
  {
   "cell_type": "markdown",
   "metadata": {},
   "source": [
    "# Basic String formatting\n",
    "\n",
    "As seen in the testing code: \n",
    "\n",
    "```Python\n",
    "# testing code\n",
    "if mystring == \"hello\":\n",
    "    print(\"String: %s\" % mystring)\n",
    "if isinstance(myfloat, float) and myfloat == 10.0:\n",
    "    print(\"Float: %f\" % myfloat)\n",
    "if isinstance(myint, int) and myint == 20:\n",
    "    print(\"Integer: %d\" % myint)\n",
    "```\n",
    "We use some string formatting in the print statements. We also use If statements and conditions which we are covering below. \n",
    "\n",
    "Here we have used a special string formatting operator, **%**, that enables us to format the string according to the specified format. %s specifies that we are inputting a variable of type string into the sentence. %f specifies a placeholder for a floating point number and %d for a decimal integer. More on string formatting at: [w3schools about formatting](https://www.w3schools.com/python/ref_string_format.asp)\n",
    "\n",
    "In the above example we are adding one value to the string, but we could also add several in one string using the syntax below:\n",
    "\n",
    "```Python\n",
    "\"string %s, number %d and floatingpoint %f\"%(\"hello\",10,10.0)\n",
    "```\n",
    "Feel free to try it out below. "
   ]
  },
  {
   "cell_type": "code",
   "execution_count": 8,
   "metadata": {},
   "outputs": [
    {
     "name": "stdout",
     "output_type": "stream",
     "text": [
      "string hello, number 10 and floatingpoint 10.000000 without formatting, or formatted 10.00000\n"
     ]
    }
   ],
   "source": [
    "# Execute this to check multiple variables inserted into a string\n",
    "print(\"string %s, number %d and floatingpoint %f without formatting, or formatted %0.5f\" % (\"hello\",10,10.0, 10.0))"
   ]
  },
  {
   "cell_type": "markdown",
   "metadata": {},
   "source": [
    "### MiniExercise 2B:\n",
    "Try doing float printing with only two decimals"
   ]
  },
  {
   "cell_type": "code",
   "execution_count": null,
   "metadata": {},
   "outputs": [],
   "source": [
    "# Execute this to check multiple variables inserted into a string\n",
    "print(\"Print the float %f\" % (10.0))"
   ]
  },
  {
   "cell_type": "markdown",
   "metadata": {},
   "source": [
    "## String functions\n",
    "In addition to this there are several other string formatting options that you could do. Strings are objects that have several predefined functions. Feel free to add some code cells below here with some of the example code snippets from [w3schools on strings](https://www.w3schools.com/python/python_strings.asp)"
   ]
  },
  {
   "cell_type": "code",
   "execution_count": 58,
   "metadata": {},
   "outputs": [
    {
     "name": "stdout",
     "output_type": "stream",
     "text": [
      "hello!\n",
      "HELLO!\n"
     ]
    }
   ],
   "source": [
    "# Example 1 -- eg. convert a string to lower letters\n",
    "a = \"HElLo!\"\n",
    "print(a.lower())\n",
    "# covert to captial letters\n",
    "print(a.upper())"
   ]
  },
  {
   "cell_type": "code",
   "execution_count": 59,
   "metadata": {},
   "outputs": [
    {
     "name": "stdout",
     "output_type": "stream",
     "text": [
      "['Hello', ' world!']\n",
      "['world!']\n"
     ]
    }
   ],
   "source": [
    "# Example 2 -- eg. split a string into two. \n",
    "a = \"Hello, world!\"\n",
    "#split at a specific character\n",
    "var = a.split(\",\") \n",
    "print(var)\n",
    "#split whitespace at beginning or end \n",
    "print(var[1].split())"
   ]
  },
  {
   "cell_type": "markdown",
   "metadata": {},
   "source": [
    "## Exercise 3\n",
    "\n",
    "Build a script in the cell below that: \n",
    "\n",
    "1) Takes in a string that you input\n",
    "2) Make sure it is a string\n",
    "3) Store it in a variable \n",
    "4) Print out the variable\n",
    "5) Then grab only the first and last characters in the name\n",
    "6) Store it in a new variable\n",
    "7) Print out the new variable\n",
    "\n",
    "see [w3schools on strings](https://www.w3schools.com/python/python_strings.asp) for help. "
   ]
  },
  {
   "cell_type": "code",
   "execution_count": null,
   "metadata": {},
   "outputs": [],
   "source": [
    "### Exercise 3 answer here:\n",
    "\n",
    "\n",
    "\n"
   ]
  },
  {
   "cell_type": "markdown",
   "metadata": {},
   "source": [
    "# Collection types (Arrays)\n",
    "There are four collection data types in the Python programming language:\n",
    "\n",
    "* List is a collection which is ordered and changeable. Allows duplicate members.\n",
    "* Tuple is a collection which is ordered and unchangeable. Allows duplicate members.\n",
    "* Set is a collection which is unordered and unindexed. No duplicate members.\n",
    "* Dictionary is a collection which is unordered, changeable and indexed. No duplicate members.\n",
    "\n",
    "When choosing a collection type, it is useful to understand the properties of that type. Choosing the right type for a particular data set could mean retention of meaning, and, it could mean an increase in efficiency or security ([ref w3schools](https://www.w3schools.com/python/python_lists.asp))\n",
    "\n",
    "Below we will walk through Lists and Tuples. Find more info on sets and dictionaries on eg. w3scools above."
   ]
  },
  {
   "cell_type": "markdown",
   "metadata": {},
   "source": [
    "## List\n",
    "A list is a collection which is ordered and changeable. They can contain any type of variable, and they can contain as many variables as you wish. In Python lists are written with square brackets."
   ]
  },
  {
   "cell_type": "code",
   "execution_count": 13,
   "metadata": {},
   "outputs": [
    {
     "name": "stdout",
     "output_type": "stream",
     "text": [
      "['apple', 1, 'cherry', 10]\n"
     ]
    }
   ],
   "source": [
    "myList = [\"apple\", 1, \"cherry\", 10]\n",
    "print(myList)"
   ]
  },
  {
   "cell_type": "markdown",
   "metadata": {},
   "source": [
    "You access the list items by referring to the index number. Remember that the index starts at 0. "
   ]
  },
  {
   "cell_type": "code",
   "execution_count": 14,
   "metadata": {},
   "outputs": [
    {
     "name": "stdout",
     "output_type": "stream",
     "text": [
      "2\n"
     ]
    }
   ],
   "source": [
    "myList = [1,2,3,4,5]\n",
    "print(myList[1])"
   ]
  },
  {
   "cell_type": "markdown",
   "metadata": {},
   "source": [
    "### Lists are changable\n",
    "Lists are changable, so you could eg. add or remove from it. "
   ]
  },
  {
   "cell_type": "code",
   "execution_count": 27,
   "metadata": {},
   "outputs": [
    {
     "name": "stdout",
     "output_type": "stream",
     "text": [
      "[1, 2, 3, 3]\n",
      "[1, 3, 3]\n",
      "[1, 3]\n",
      "[3]\n"
     ]
    }
   ],
   "source": [
    "# Adding to a list my append()\n",
    "myList = [1,2,3]\n",
    "myList.append(3) # adds the value 3 to the list\n",
    "print(myList)\n",
    "\n",
    "# Removing from a list by remove()\n",
    "myList.remove(2) # removes the value 2 from the list\n",
    "print(myList)\n",
    "\n",
    "# Removing from a list by pop()\n",
    "myList.pop() # removes the last item in the list\n",
    "print(myList)\n",
    "myList.pop(0) # removes the first item in the list\n",
    "print(myList)"
   ]
  },
  {
   "cell_type": "markdown",
   "metadata": {},
   "source": [
    "## Tuple\n",
    "A tuple is a collection which is ordered and **unchangeable**. In Python tuples are written with parenthesis. When working with IFC and the ifcopenshell, we often work with tuples."
   ]
  },
  {
   "cell_type": "code",
   "execution_count": 28,
   "metadata": {},
   "outputs": [
    {
     "name": "stdout",
     "output_type": "stream",
     "text": [
      "('apple', 1, 'cherry', 10)\n"
     ]
    }
   ],
   "source": [
    "myTuple = (\"apple\", 1, \"cherry\", 10)\n",
    "print(myTuple)"
   ]
  },
  {
   "cell_type": "markdown",
   "metadata": {},
   "source": [
    "You access the tuple items, similar as for lists, by referring to the index number. Remember that the index starts at 0."
   ]
  },
  {
   "cell_type": "code",
   "execution_count": 29,
   "metadata": {},
   "outputs": [
    {
     "name": "stdout",
     "output_type": "stream",
     "text": [
      "2\n"
     ]
    }
   ],
   "source": [
    "myTuple = (1,2,3,4,5)\n",
    "print(myTuple[1])"
   ]
  },
  {
   "cell_type": "markdown",
   "metadata": {},
   "source": [
    "### Tuples are unchangable\n",
    "Tuples are unchangable, but you could cast it into a list and work with it as a list. "
   ]
  },
  {
   "cell_type": "code",
   "execution_count": 31,
   "metadata": {},
   "outputs": [
    {
     "name": "stdout",
     "output_type": "stream",
     "text": [
      "(1, 2, 4, 5)\n"
     ]
    }
   ],
   "source": [
    "myTuple = (1,2,3,4,5)\n",
    "myList = list(myTuple) # Cast tuple into a list\n",
    "myList.pop(2)\n",
    "myTuple = tuple(myList) # Cast list into a tuple\n",
    "print(myTuple)"
   ]
  },
  {
   "cell_type": "markdown",
   "metadata": {},
   "source": [
    "## Check the number of elements in list or tuple\n",
    "It is often needed to check how many elements that are in a list or a tuple."
   ]
  },
  {
   "cell_type": "code",
   "execution_count": 34,
   "metadata": {},
   "outputs": [
    {
     "name": "stdout",
     "output_type": "stream",
     "text": [
      "3\n",
      "3\n"
     ]
    }
   ],
   "source": [
    "# Check how many elements there are in myList (defined above)\n",
    "print(len(myList))\n",
    "\n",
    "# Check how many elements there are in myTuple (defined above)\n",
    "print(len(myTuple))"
   ]
  },
  {
   "cell_type": "markdown",
   "metadata": {},
   "source": [
    "## Exercise 4 - how many IfcWall elements are in Grethes Hus model? \n",
    "In the excercise below we want you to use what you have learned above to find how many elements of type IfcWall are in the Grethes Hus Modell. \n",
    "\n",
    "We have provided some code to get the file and to query out all elements of type IfcWall and stored it in a variable called *walls*. \n",
    "\n",
    "Print out to the screen the number of walls there are in the variable **walls**. "
   ]
  },
  {
   "cell_type": "code",
   "execution_count": 1,
   "metadata": {},
   "outputs": [
    {
     "name": "stdout",
     "output_type": "stream",
     "text": [
      "0\n"
     ]
    }
   ],
   "source": [
    "# We import ifcopenshell and open the Grethes Hus Model and store it in a variable called file. \n",
    "import ifcopenshell \n",
    "file = ifcopenshell.open(\"models/Grethes-hus-bok-2.ifc\")\n",
    "\n",
    "#We query the file for its number of IfcWall type elements\n",
    "walls = file.by_type(\"IfcWall\")\n",
    "\n",
    "\"\"\"ToDo: Change the zero below to list out the number of walls in the file.\"\"\"\n",
    "numberOfWalls = 0 # store the number of IfcWall types in this variable. \n",
    "print(numberOfWalls)"
   ]
  },
  {
   "cell_type": "markdown",
   "metadata": {},
   "source": [
    "# Conditions and If statements \n",
    "\n",
    "> Python supports the usual logical conditions from mathematics:\n",
    "\n",
    "> * Equals: a == b\n",
    "> * Not Equals: a != b\n",
    "> * Less than: a < b\n",
    "> * Less than or equal to: a <= b\n",
    "> * Greater than: a > b\n",
    "> * Greater than or equal to: a >= b\n",
    ">\n",
    "> These conditions can be used in several ways, most commonly in \"if statements\" and loops. (ref. [w3schools](https://www.w3schools.com/python/python_conditions.asp))\n",
    "\n",
    "We'll walk through use of if statements and the most common loops here and use it to explore some elements from the Grethes Hus Model. \n",
    "\n",
    "The syntax for a If statement that checks if a variable **a** Equals a variable **b** is as follows:\n",
    "\n",
    "```Python\n",
    "    a = 0\n",
    "    b = 2\n",
    "    if a == b:\n",
    "        print(\"they are eaqual\")\n",
    "```\n",
    "Notice the **indentation**. Python relies on indentation, using whitespace, to define scope in the code. Other programming languages often use curly-brackets for this purpose. Here the print is within the if statement. \n",
    "\n",
    "Lets use an if statement to check if there are more than zero walls in the Grethes Hus Model. "
   ]
  },
  {
   "cell_type": "code",
   "execution_count": 47,
   "metadata": {},
   "outputs": [],
   "source": [
    "## Here we refer back to the variable \"numberOfWalls\" as defined above, and check if its greated than 0. \n",
    "if numberOfWalls > 0:\n",
    "    print(\"You probably did something right above.\")"
   ]
  },
  {
   "cell_type": "markdown",
   "metadata": {},
   "source": [
    "## elif and else\n",
    "We could also add to the If statement, by using an **Elif** statement. This will allow you to add another condition to check. At the end, we could also do an **Else** statement. This will be executed if no of the previous conditions where met. The syntax for this is: \n",
    "\n",
    "```Python\n",
    "    if <condition1>:\n",
    "        # do something based on condition1\n",
    "    elif <condition2>:\n",
    "        # Do something based on condition2\n",
    "    else:\n",
    "        # Do something if non of the previouse contitions where met. \n",
    "```\n",
    "You are free to at as many elif statements as you wish, but you could only have one else statement. "
   ]
  },
  {
   "cell_type": "code",
   "execution_count": 48,
   "metadata": {},
   "outputs": [
    {
     "name": "stdout",
     "output_type": "stream",
     "text": [
      "You did probably do something wrong above\n"
     ]
    }
   ],
   "source": [
    "if numberOfWalls > 0:\n",
    "    print(\"You probably did something right above.\")\n",
    "elif numberOfWalls == 0:\n",
    "    print(\"You did probably do something wrong above\")\n",
    "else:\n",
    "    print(\"How could this happen...?\")"
   ]
  },
  {
   "cell_type": "markdown",
   "metadata": {},
   "source": [
    "## Check if an element exist in a list or tuple\n",
    "Often times one would like to check if a particular value is in a list or a tuple. This is easy with python. "
   ]
  },
  {
   "cell_type": "code",
   "execution_count": 33,
   "metadata": {},
   "outputs": [
    {
     "name": "stdout",
     "output_type": "stream",
     "text": [
      "I found BIMFag in myList!\n",
      "I found BIMFag in myTuple!\n"
     ]
    }
   ],
   "source": [
    "# Check if a value is in a list \n",
    "myList = [\"BIMFag\", \"banana\", \"BIM\"]\n",
    "if \"BIMFag\" in myList:\n",
    "    print(\"I found BIMFag in myList!\")\n",
    "myTuple = [\"BIMFag\", \"banana\", \"BIM\"]\n",
    "if \"BIMFag\" in myTuple:\n",
    "    print(\"I found BIMFag in myTuple!\")"
   ]
  },
  {
   "cell_type": "markdown",
   "metadata": {},
   "source": [
    "# While Loops\n",
    "Conditions and if statements are usefull also in while loops. While loops are executing as long as a condition is met. The syntax for while loops are: \n",
    "\n",
    "```Python\n",
    "   x = 1\n",
    "   while x<10: # Checks if x is less than 10\n",
    "       # do something eg.\n",
    "       print(x) # since x is bigger than zero this will print for as long as x is less than 10\n",
    "       x = x + 1 ## this statement is adding 1 to x for each iteration of the loop. \n",
    "```\n",
    "Keep in mind that if the condition on which the while loop is checking on is never met, it will execute indefinately. so whitout the ```Python x= x+1``` statement above, this would have just printed out 1 indefinately. \n",
    "\n",
    "Notice the **indentation**. As mentioned above Python relies on indentation, using whitespace, to define what is within the while loop. Here the ```print(x)``` and ```x=x+1```statement is indented, so to show that it is inside the while loop. "
   ]
  },
  {
   "cell_type": "code",
   "execution_count": 54,
   "metadata": {},
   "outputs": [
    {
     "name": "stdout",
     "output_type": "stream",
     "text": [
      "x is: 1 and numberOfWalls is: 0\n"
     ]
    }
   ],
   "source": [
    "# Lets see it in action. Print out x as long as its less than the number of walls\n",
    "x = 1\n",
    "while x < numberOfWalls:\n",
    "    print(x)\n",
    "    x = x +1\n",
    "else:\n",
    "    print(\"x is: %s and numberOfWalls is: %s\"%(x,numberOfWalls))"
   ]
  },
  {
   "cell_type": "markdown",
   "metadata": {},
   "source": [
    "## Loops, break and else\n",
    "Notice that the loop exits when the condition is no longer met. Notice also that loops could also have an else statement, similar to if statements. If the loop condition are no longer met, then the else part is executed. \n",
    "\n",
    "If we want to exit the while loop early one could use the special **break** statement. The while loop could have a condition that always will be true, like ```True```but then have a check further in, and use ```break```to exit the loop based on a condition in the condition of the respective check. "
   ]
  },
  {
   "cell_type": "code",
   "execution_count": 50,
   "metadata": {},
   "outputs": [
    {
     "name": "stdout",
     "output_type": "stream",
     "text": [
      "1\n",
      "2\n",
      "3\n",
      "4\n",
      "5\n",
      "6\n",
      "7\n",
      "8\n",
      "9\n",
      "10\n"
     ]
    }
   ],
   "source": [
    "x = 1\n",
    "## Loop while True --> True is always True... \n",
    "while True: \n",
    "    print(x)\n",
    "    # check if x is bigger or eaqual to 10\n",
    "    if x >= 10:\n",
    "        break # if condition met, break out of the while loop. \n",
    "    x = x+1 # if the condition of the if statement was false, this get executed in the while loop. \n"
   ]
  },
  {
   "cell_type": "markdown",
   "metadata": {},
   "source": [
    "# For Loops\n",
    "A *for* loop is used for iterating over a sequence (that is either a list, a tuple, a dictionary, a set, or a string).\n",
    "\n",
    "The syntax for for loops in python is: \n",
    "\n",
    "```Python\n",
    "for element in listOfElements:\n",
    "    # Do something with each element eg. print it out.\n",
    "    print(element)\n",
    "```\n",
    "\n",
    "Notice the **indentation** here as well. It define what is within the for loop. Here the print statement is indented, so that will be done every iteration of the elements in the list.  "
   ]
  },
  {
   "cell_type": "code",
   "execution_count": 15,
   "metadata": {},
   "outputs": [
    {
     "name": "stdout",
     "output_type": "stream",
     "text": [
      "1\n",
      "2\n",
      "3\n",
      "4\n",
      "5\n",
      "6\n"
     ]
    }
   ],
   "source": [
    "myTuple = (1,2,3,4,5,6)\n",
    "\n",
    "for element in myTuple:\n",
    "    print(element)"
   ]
  },
  {
   "cell_type": "code",
   "execution_count": 18,
   "metadata": {},
   "outputs": [
    {
     "name": "stdout",
     "output_type": "stream",
     "text": [
      "1\n",
      "2\n",
      "3\n",
      "4\n",
      "5\n",
      "6\n"
     ]
    }
   ],
   "source": [
    "for i in range(6):\n",
    "    print(myTuple[i])"
   ]
  },
  {
   "cell_type": "markdown",
   "metadata": {},
   "source": [
    "## Iterating over a number of IfcWindow objects and access attributes\n",
    "Below we'll use a for loop to loop through all IfcWindow elements and print out some of it's direct attributes. See the IFC data dictinary for IFC 2.3 [here](https://standards.buildingsmart.org/IFC/RELEASE/IFC2x3/FINAL/HTML/). The main access page for the different IFC schema definitions can be found [here](https://technical.buildingsmart.org/standards/ifc/ifc-schema-specifications/)\n",
    "\n",
    "We'll be getting its **Name** attribute. Since the IfcWindow elements are objects in Python we could access these using the \".\" operator. \n",
    "\n",
    "Feel free to experiment with other attributes. You could eg. try with **OverallHeight and OverallWidth**. "
   ]
  },
  {
   "cell_type": "code",
   "execution_count": 19,
   "metadata": {},
   "outputs": [
    {
     "name": "stdout",
     "output_type": "stream",
     "text": [
      "The window elements name is: M_Fixed:_1400x2200mm:348960\n",
      "The window elements name is: M_Fixed:_1400x2200mm:350239\n",
      "The window elements name is: M_Fixed:_1400x2200mm:350479\n",
      "The window elements name is: M_Fixed:_1400x2200mm:350484\n",
      "The window elements name is: M_Fixed:_1400x2200mm:350489\n",
      "The window elements name is: M_Fixed:_1400x2200mm:350494\n",
      "The window elements name is: M_Fixed:_1400x2200mm:350499\n",
      "The window elements name is: M_Fixed:_1400x2200mm:350504\n",
      "The window elements name is: M_Fixed:_1400x2200mm:350509\n",
      "The window elements name is: M_Fixed:_1400x2200mm:350514\n",
      "The window elements name is: M_Fixed:_1400x2200mm:350519\n",
      "The window elements name is: M_Fixed:_1400x2200mm:350524\n",
      "The window elements name is: M_Fixed:_800x750mm:351890\n",
      "The window elements name is: M_Fixed:_1100x700mm:353017\n",
      "The window elements name is: M_Fixed:_800x700mm:354254\n",
      "The window elements name is: M_Fixed:_800x750mm:355941\n",
      "The window elements name is: M_Fixed:_1100x700mm:355942\n",
      "The window elements name is: M_Fixed:_800x700mm:355943\n",
      "The window elements name is: M_Fixed:_800x1000mm:356683\n",
      "The window elements name is: M_Fixed:_800x1000mm:357125\n",
      "The window elements name is: M_Fixed:_1400x1000mm:357137\n",
      "The window elements name is: M_Fixed:_800x2000mm:357354\n",
      "The window elements name is: M_Window-Casement-Double:_1400x1000mm:385488\n",
      "The window elements name is: M_Window-Casement-Double:_1400x1000mm:385889\n",
      "The window elements name is: M_Window-Casement-Double:_1400x1000mm:385919\n",
      "The window elements name is: M_Window-Casement-Double:_1400x1000mm:385922\n"
     ]
    }
   ],
   "source": [
    "# We import ifcopenshell and open the Grethes Hus Model and store it in a variable called file. \n",
    "import ifcopenshell \n",
    "file = ifcopenshell.open(\"models/Grethes-hus-bok-2.ifc\")\n",
    "\n",
    "#We query the file for its number of IfcWindow type elements\n",
    "windows = file.by_type(\"IfcWindow\")\n",
    "\n",
    "\"\"\"By uncommenting (removing the '#') the line below you see the contents of the windows variable\"\"\"\n",
    "#print(windows)\n",
    "\n",
    "# Here is the for loop and its syntax. Notice the indentation. \n",
    "for window in windows: \n",
    "    print(\"The window elements name is: \"+window.Name)"
   ]
  },
  {
   "cell_type": "markdown",
   "metadata": {},
   "source": [
    "# Functions \n",
    "\n",
    "Functions are a useful way to divide your code into blocks of code, that only runs when they are called. It is also a good way to share a small snippet of code with others. \n",
    "\n",
    "A function is defined by the special ```def```statement. Like the example below.\n",
    "\n",
    "## Defining a function"
   ]
  },
  {
   "cell_type": "code",
   "execution_count": 61,
   "metadata": {},
   "outputs": [],
   "source": [
    "def myDefinedFunction():\n",
    "    print(\"This is a print statement within my function\")"
   ]
  },
  {
   "cell_type": "markdown",
   "metadata": {},
   "source": [
    "Notice that the function uses the same indendation style as for If statements and loops as walked through above. A function could contain all the concepts we have walked through above as well. \n",
    "\n",
    "Notice however that noting happended above. That is why we havent called the function. It is however stored, so that we can call it below. \n",
    "## Calling / Using a function"
   ]
  },
  {
   "cell_type": "code",
   "execution_count": 62,
   "metadata": {},
   "outputs": [
    {
     "name": "stdout",
     "output_type": "stream",
     "text": [
      "This is a print statement within my function\n"
     ]
    }
   ],
   "source": [
    "myDefinedFunction()"
   ]
  },
  {
   "cell_type": "markdown",
   "metadata": {},
   "source": [
    "## Input variables to functions\n",
    "\n",
    "We could also build functions that takes in input variables that could be used in the function. Lets define a function that takes in a string variable and prints it out. "
   ]
  },
  {
   "cell_type": "code",
   "execution_count": 3,
   "metadata": {},
   "outputs": [
    {
     "name": "stdout",
     "output_type": "stream",
     "text": [
      "My variable is Hello again!\n"
     ]
    }
   ],
   "source": [
    "# A function definition that takes in a parameter called \"string\"\n",
    "def myDefinedFunction2(string):\n",
    "    print(\"My variable is %s\"%string)\n",
    "\n",
    "# A call to myDefinedFunction2 with the string variable \"Hello again!\"\n",
    "myDefinedFunction2(\"Hello again!\")"
   ]
  },
  {
   "cell_type": "code",
   "execution_count": 4,
   "metadata": {},
   "outputs": [
    {
     "name": "stdout",
     "output_type": "stream",
     "text": [
      "My variable is and again and again\n"
     ]
    }
   ],
   "source": [
    "# A new call to myDefinedFunction2 with the string \"and again and again\"\n",
    "myDefinedFunction2(\"and again and again\")"
   ]
  },
  {
   "cell_type": "markdown",
   "metadata": {},
   "source": [
    "## Input variables and assumed type\n",
    "What would happen if we call myDefinedFunction2 with a number, instead of a string? Try it below. "
   ]
  },
  {
   "cell_type": "code",
   "execution_count": null,
   "metadata": {},
   "outputs": [],
   "source": [
    "string = 10\n",
    "\"\"\"Try calling myDefinedFunction2 with the variable define above\"\"\"\n",
    "\n"
   ]
  },
  {
   "cell_type": "markdown",
   "metadata": {},
   "source": [
    "## Exercise 5 - ensure that a function works as intended\n",
    "You can pass as many variables to a function as you'd like, just separate them with a comma like we do with var1 and var 2 below. They could be whatever object you'd like. \n",
    "\n",
    "Below we want to create a function that takes in two variables, var1 and var2. If they are both strings we want to just concatenate them together and print them out. If they are not strings we only want to add them to a list and print \n",
    "\n",
    "**A couple of hints**\n",
    "\n",
    "* you could check if a variable ```a``` is a string by using ```isinstance(a,str)```\n",
    "* If you want two conditions to both be True in order to pass, you could use the ```and```operator\n",
    "\n",
    "**The correct output:**\n",
    "```\n",
    "Hello, World!\n",
    "['hello', 4]\n",
    "```"
   ]
  },
  {
   "cell_type": "code",
   "execution_count": 69,
   "metadata": {},
   "outputs": [
    {
     "name": "stdout",
     "output_type": "stream",
     "text": [
      "Hello, World!\n",
      "['hello', 4]\n"
     ]
    }
   ],
   "source": [
    "def myFunc3(var1,var2):\n",
    "    \"\"\"Fill in code to comlete the challenge\"\"\"\n",
    "\n",
    "\"\"\"Don't change the code below\"\"\"    \n",
    "myFunc3(\"Hello, \",\"World!\")\n",
    "myFunc3(\"hello\",4)"
   ]
  },
  {
   "cell_type": "markdown",
   "metadata": {},
   "source": [
    "## Lists and tuples as input variables\n",
    "We could also add lists and tuples as input variables to functions. "
   ]
  },
  {
   "cell_type": "code",
   "execution_count": 6,
   "metadata": {},
   "outputs": [],
   "source": [
    "def myFunc4(myList):\n",
    "    for elem in myList:\n",
    "        print(elem)"
   ]
  },
  {
   "cell_type": "code",
   "execution_count": 72,
   "metadata": {},
   "outputs": [
    {
     "name": "stdout",
     "output_type": "stream",
     "text": [
      "1\n",
      "2\n",
      "3\n",
      "4\n",
      "5\n",
      "6\n"
     ]
    }
   ],
   "source": [
    "# Define a list \n",
    "aList = [1,2,3]\n",
    "# Send it as input variable to myFunc4\n",
    "myFunc4(aList)\n",
    "# Define a tuple \n",
    "aTuple = (4,5,6)\n",
    "# Send it as input variable to myFunc4\n",
    "myFunc4(aTuple)"
   ]
  },
  {
   "cell_type": "markdown",
   "metadata": {},
   "source": [
    "### What will happend if you pass a string instead of a list?\n",
    "Try below to call the function above passing in a string value like eg. ```myFunc4(\"your name\")```\n",
    "\n",
    "What do you think will happen? "
   ]
  },
  {
   "cell_type": "code",
   "execution_count": 9,
   "metadata": {},
   "outputs": [],
   "source": [
    "### Do the test here ###\n",
    "\n"
   ]
  },
  {
   "cell_type": "markdown",
   "metadata": {},
   "source": [
    "## Have functions return values\n",
    "\n",
    "A good way to use functions is to have them perform som logic on input variables and have them return the result. For this you use the ```return``` statement. "
   ]
  },
  {
   "cell_type": "code",
   "execution_count": 15,
   "metadata": {},
   "outputs": [
    {
     "name": "stdout",
     "output_type": "stream",
     "text": [
      "54\n"
     ]
    }
   ],
   "source": [
    "# defines a function that takes in a list of items as parameter, \n",
    "# loops through it and adds all integers together, and then returns the resulting value\n",
    "def myFunc5(myList):\n",
    "    tmp = 0 # Defined outside the for loop to be able to return it outside the scope of the loop\n",
    "    for elem in myList:\n",
    "        if isinstance(elem,int):\n",
    "            tmp = tmp +elem\n",
    "    return tmp\n",
    "aList = [\"string\",10,10,30,4, \"stuff\"]\n",
    "print(myFunc5(aList))"
   ]
  },
  {
   "cell_type": "markdown",
   "metadata": {},
   "source": [
    "## Exercise 6 - Names and Descriptions of Window objects. \n",
    "\n",
    "Many times one would get an ifc model where one want to change or restructure information in the file. That is tediouse work on big models, so one may want to script it. In addition it would be a good code block to have, regardless of object type. \n",
    "\n",
    "In IFC the name and description is something all objects *inherrit* from IfcRoot, and cosequently they all have the following attributes ([ref. Ifc documentation](https://standards.buildingsmart.org/IFC/RELEASE/IFC2x3/FINAL/HTML/)): \n",
    "\n",
    ">* GlobalId\t : \tAssignment of a globally unique identifier within the entire software world.\n",
    ">* OwnerHistory\t : \tAssignment of the information about the current ownership of that object, including owning actor, >application, local identification and information captured about the recent changes of the object, NOTE: only the >last modification in stored.\n",
    ">* Name\t : \tOptional name for use by the participating software systems or users. For some subtypes of IfcRoot the >insertion of the Name attribute may be required. This would be enforced by a where rule.\n",
    ">* Description\t : \tOptional description, provided for exchanging informative comments.\n",
    "\n",
    "So, it might be a good idea to package code into functions. That way we could share it and reuse the code regardless of which element we want to change the name and description on. \n",
    "\n",
    "The first challenge is to create a function that takes in a IfcWindow (or another Ifc object), get the Name and store that in the Description property of the object. Then, add an input variable that *if set* will be given as a Name to the window or it will store a blank string as the Name. \n",
    "\n",
    "The second challenge is to write code to print out the names and descriptions (before and after) to confirm your result. \n",
    "\n",
    "\n",
    "** Some hints:** \n",
    "* Python functions could have input variables that have default variables eg. def func (var1,var2 =\"\"):.\n",
    "* Look above to find code that enables you to import the ifcopenshell code library, that have code that enables you to work with teh IFC file.\n",
    "* Look above, or eg. in [academy.ifcopenshell.org](http://academy.ifcopenshell.org), to find code in the ifcopenshell library that could store a reference to an IFC model in a variable and another function that lets you query that file for all IfcWindow objects you might want to find in that model. \n",
    "* You can set the ```Name```variable of a window object that is store in a variable called \"window\" by ```window.Name = \"the name you want to set\"````\n",
    "\n"
   ]
  },
  {
   "cell_type": "code",
   "execution_count": 17,
   "metadata": {},
   "outputs": [],
   "source": [
    "### Add your code here ### \n",
    "\n",
    "\n",
    "\n"
   ]
  },
  {
   "cell_type": "markdown",
   "metadata": {},
   "source": [
    "# Classes and Objects\n",
    "\n",
    "We have already worked alot with objects, some window objects, some string objects, and even some list objects. So, what is objects and where do they come from? Objects are an encapsulation of variables and functions into a single entity. Objects get their variables and functions from classes. Classes are essentially a template to create your objects. \n",
    "\n",
    "When functions are code blocks that could be shared and reused, classes and objects are even bigger blocks of reusable code. For the IfcWindow example above, it has a class that defines what the variables and functions the window objects of that class has. The documentation of what capabilities the IfcWindow class should have is defined by the Ifc documentation for IfcWindow. You could also have documentation of how that class is defined/implemented in the particular programming language. \n",
    "\n",
    "A very basic class would look something like this:\n",
    "\n",
    "```Python\n",
    "class MyWindowClass:\n",
    "    nameVariable = \"Window\"\n",
    "\n",
    "    def namePrint(self):\n",
    "        print(\"My Name is \"+self.nameVariable)\n",
    "```\n",
    "## Defining a Class\n",
    "Lets define a Window Class"
   ]
  },
  {
   "cell_type": "code",
   "execution_count": 29,
   "metadata": {},
   "outputs": [],
   "source": [
    "## Defines a Window Class\n",
    "class MyWindowClass:\n",
    "    nameVariable = \"Window\"\n",
    "\n",
    "    def namePrint(self):\n",
    "        print(\"My Name is \"+self.nameVariable)"
   ]
  },
  {
   "cell_type": "markdown",
   "metadata": {},
   "source": [
    "## Creating objects from class definitions\n",
    "When you have defined a class, you could create several objects based on it. "
   ]
  },
  {
   "cell_type": "code",
   "execution_count": 30,
   "metadata": {},
   "outputs": [],
   "source": [
    "## Defines two different objects based on the MyWindowClass \n",
    "window1 = MyWindowClass()\n",
    "window2 = MyWindowClass()"
   ]
  },
  {
   "cell_type": "markdown",
   "metadata": {},
   "source": [
    "## Accessing Object variables and functions\n",
    "Now the window1 and window2 objects have both a nameVariable and namePrint function each. As we have seen above, we access its variables (attributes) by the \".\" operator. "
   ]
  },
  {
   "cell_type": "code",
   "execution_count": 32,
   "metadata": {},
   "outputs": [
    {
     "data": {
      "text/plain": [
       "'Window'"
      ]
     },
     "execution_count": 32,
     "metadata": {},
     "output_type": "execute_result"
    }
   ],
   "source": [
    "# Get the nameVariable of window1\n",
    "window1.nameVariable"
   ]
  },
  {
   "cell_type": "markdown",
   "metadata": {},
   "source": [
    "### MiniExercise: Do the same for window2 below"
   ]
  },
  {
   "cell_type": "code",
   "execution_count": null,
   "metadata": {},
   "outputs": [],
   "source": [
    "### Get the the name variable of window2\n",
    "\n",
    "\n"
   ]
  },
  {
   "cell_type": "markdown",
   "metadata": {},
   "source": [
    "## Exercise 7 - Setting object variables\n",
    "Both windows have the same name. Use what you know from above to set the name of window1 and window2 to something proper. "
   ]
  },
  {
   "cell_type": "code",
   "execution_count": null,
   "metadata": {},
   "outputs": [],
   "source": [
    "### Solve Exercise 7 here:\n",
    "\n",
    "\n",
    "\n"
   ]
  },
  {
   "cell_type": "markdown",
   "metadata": {},
   "source": [
    "## Exercise 8 - Accessing object functions\n",
    "In the MyWindowClass definition we have a function to print out the name. Show below how this function can be accessed on both window1 and window2."
   ]
  },
  {
   "cell_type": "code",
   "execution_count": null,
   "metadata": {},
   "outputs": [],
   "source": [
    "### Solve Exercise 8 here: \n",
    "\n",
    "\n",
    "\n"
   ]
  },
  {
   "cell_type": "markdown",
   "metadata": {},
   "source": [
    "# Modules and Packages\n",
    "In programming, a module is a piece of software that has a specific functionality. For example, when building a ping pong game, one module could be responsible for the game logic, and another module could be responsible for drawing the game on the screen. Each module is a different file, which can be edited separately.\n",
    "\n",
    "Modules in Python are simply Python files with a .py extension. The name of the module will be the name of the file. A Python module can have a set of functions, classes or variables defined and implemented.\n",
    "\n",
    "You might have seen the ```ifc_viewer.py``` file in the folders? That is a module, and particularly a module that enables viewing of models in jupyter notebooks. So, how do one use that? "
   ]
  },
  {
   "cell_type": "markdown",
   "metadata": {},
   "source": [
    "## Using Modules in other programs\n",
    "Modules could be used in other programs by using the special ```import```statement. Eg. to import all of it use ```import ifc_viewer```would do the trick. \n",
    "\n",
    "However, the module may define several classes, variables and functions. What if we only wanted to import the ```ifc_viewer``` class in the ```ifc_viewer```module? Then we do like bewlow. "
   ]
  },
  {
   "cell_type": "code",
   "execution_count": 36,
   "metadata": {},
   "outputs": [],
   "source": [
    "# Import the ifc_viewer class of ifc_viewer module\n"
   ]
  },
  {
   "cell_type": "markdown",
   "metadata": {},
   "source": [
    "## Using Packages and Modules in another program\n",
    "Another package we already have used is the **ifcopenshell**. Packages are namespaces which contain multiple packages and modules themselves. They are simply directories, but with a twist.\n",
    "\n",
    "Each package in Python is a directory which MUST contain a special file called __init__.py. This file can be empty, and it indicates that the directory it contains is a Python package, so it can be imported the same way a module can be imported ([ref. learnpython.org](https://www.learnpython.org/en/Modules_and_Packages)).\n",
    "\n",
    "We have already imported ifcopenshell. But we could also import specific parts of it. Lets combine it to visualize the windows of the Grethes Hus model. "
   ]
  },
  {
   "cell_type": "code",
   "execution_count": 35,
   "metadata": {},
   "outputs": [
    {
     "data": {
      "application/vnd.jupyter.widget-view+json": {
       "model_id": "f3a521fddaa74168a2a16b13eb12ef2e",
       "version_major": 2,
       "version_minor": 0
      },
      "text/plain": [
       "Renderer(background='white', camera=PerspectiveCamera(children=(DirectionalLight(intensity=0.5, position=(50.0…"
      ]
     },
     "metadata": {},
     "output_type": "display_data"
    },
    {
     "data": {
      "application/vnd.jupyter.widget-view+json": {
       "model_id": "f4b8c2fe00cb43d19e0353c6bcfb4c1e",
       "version_major": 2,
       "version_minor": 0
      },
      "text/plain": [
       "HTML(value='No element selected')"
      ]
     },
     "metadata": {},
     "output_type": "display_data"
    }
   ],
   "source": [
    "import ifcopenshell \n",
    "import ifcopenshell.geom\n",
    "from ifc_viewer import ifc_viewer\n",
    "# Storing the model in a file variable, and giving the path to the file as input. \n",
    "file = ifcopenshell.open(\"../models/Grethes_hus_bok_2.ifc\")\n",
    "\n",
    "# Storing all windows of the file by ising the by_type function of the file class \n",
    "windows = file.by_type(\"IfcWindow\")\n",
    "\n",
    "# Setting the geometry settings. \n",
    "s = ifcopenshell.geom.settings()\n",
    "s.set(s.USE_PYTHON_OPENCASCADE, True)\n",
    "\n",
    "# Instansiationg a viewer object from the ifc_viewer class\n",
    "viewer = ifc_viewer()\n",
    "\n",
    "# Running through all window elements and create a shape and add it to the viewer for displaying. \n",
    "for window in windows:\n",
    "    shape = ifcopenshell.geom.create_shape(s, window)\n",
    "    viewer.DisplayShape(window, shape.geometry, shape.styles)\n",
    "\n",
    "viewer.Display()"
   ]
  }
 ],
 "metadata": {
  "kernelspec": {
   "display_name": "Python 3",
   "language": "python",
   "name": "python3"
  },
  "language_info": {
   "codemirror_mode": {
    "name": "ipython",
    "version": 3
   },
   "file_extension": ".py",
   "mimetype": "text/x-python",
   "name": "python",
   "nbconvert_exporter": "python",
   "pygments_lexer": "ipython3",
   "version": "3.6.5"
  }
 },
 "nbformat": 4,
 "nbformat_minor": 2
}

{
 "cells": [
  {
   "cell_type": "markdown",
   "metadata": {},
   "source": [
    "# Introdução básica ao Python para uso com BIM\n",
    "\n",
    "\n",
    "### Introdução ao Python 3 no notebook jupyter\n",
    "\n",
    "Esta é uma introdução à linguagem de programação Python focado em **openBIM**.\n",
    "\n",
    "\n",
    "Organizado por [BIMFag](https://bimfag.no/). Material original [aqui](https://github.com/bimfag/intro-python-bim)."
   ]
  },
  {
   "cell_type": "markdown",
   "metadata": {},
   "source": [
    "# Hello Jupyter\n",
    "\n",
    "O [jupyter notebook](https://jupyter.org/) nos permite definir e editar células de texto e células de marcação (texto). Isso é usado aqui para introduzir os conceitos ao longo do caminho e também fornecer células de código onde os comandos podem ser testados e executados.\n",
    "\n",
    "Fazemos isso em células, por exemplo. você sempre pode criar uma nova célula, editar ou alterar.\n",
    "\n",
    "### Crie uma nova célula e escreva o que você pensa sobre o jupyter\n",
    "\n",
    "Use o botão \"+\" acima para criar uma nova célula sob esta."
   ]
  },
  {
   "cell_type": "code",
   "execution_count": 1,
   "metadata": {},
   "outputs": [],
   "source": [
    "### Mude esta célula de uma célula de Código para uma célula de Markdown, usando o menu suspenso acima."
   ]
  },
  {
   "cell_type": "markdown",
   "metadata": {},
   "source": [
    "### Imprimendo Hello Jupyter\n",
    "\n",
    "A instrução **print()** é uma diretiva poderosa em Python e permite que um programa imprima um resultado, por exemplo: \"Olá Mundo\". "
   ]
  },
  {
   "cell_type": "code",
   "execution_count": 4,
   "metadata": {},
   "outputs": [
    {
     "name": "stdout",
     "output_type": "stream",
     "text": [
      "Olá, Renato\n"
     ]
    }
   ],
   "source": [
    "# Aqui imprimimos a string \"Olá, mundo!\"\n",
    "\n",
    "print('Olá, Renato')"
   ]
  },
  {
   "cell_type": "markdown",
   "metadata": {},
   "source": [
    "Usaremos a instrução **print()** e a **formatação de string** várias vezes ao longo desse curso. Uma maneira típica de formatar uma string é anexar outra string a ela, como \"Hello,\" + \"world\"."
   ]
  },
  {
   "cell_type": "code",
   "execution_count": 5,
   "metadata": {},
   "outputs": [
    {
     "name": "stdout",
     "output_type": "stream",
     "text": [
      "Olá, Renato Cruz!\n"
     ]
    }
   ],
   "source": [
    "# Aqui, acrescentamos as duas strings \"Hello\" e \"world!\"\n",
    "\n",
    "print('Olá, Renato' + ' ' + 'Cruz!')"
   ]
  },
  {
   "cell_type": "markdown",
   "metadata": {},
   "source": [
    "Note que o resultado acima é a concatenação de 'Olá, Renato' mais ' ' (espaço em branco) mais 'Cruz!'."
   ]
  },
  {
   "cell_type": "markdown",
   "metadata": {},
   "source": [
    "### Deixe o programa pedir a entrada de um usuário e mostrar o resultado.\n",
    "\n",
    "Já que queremos dizer olá para você também, você pode usar a função **input()** para obter a entrada do usuário e armazená-la em uma variável e imprimir na tela."
   ]
  },
  {
   "cell_type": "code",
   "execution_count": 6,
   "metadata": {},
   "outputs": [
    {
     "name": "stdout",
     "output_type": "stream",
     "text": [
      "Escreva seu nome aqui: Renato Cruz\n",
      "Olá, Renato Cruz!\n"
     ]
    }
   ],
   "source": [
    "# Aqui, obtemos o nome do usuário e o armazenamos em uma variável chamada nome, \n",
    "# acrescentando-a a outra variável conforme imprimimos.\n",
    "\n",
    "nome = input(\"Escreva seu nome aqui: \")\n",
    "cumprimento = \"Olá, \"\n",
    "print(f\"{cumprimento}{nome}!\")"
   ]
  },
  {
   "cell_type": "markdown",
   "metadata": {},
   "source": [
    "# Variáveis e tipos\n",
    "\n",
    "Python é uma linguagem de programação orientado a objetos, e não \"estaticamente tipado\". Em outras linguagens de programação, que são tipadas estaticamente, você precisa declarar a variável e que tipo de dados ela contém, antes de usá-la. \n",
    "\n",
    "Exemplo de declaração de variável em c#:\n",
    "\n",
    "```c#\n",
    "string name;\n",
    "\n",
    "name = 'Renato Cruz';\n",
    "\n",
    "```\n",
    "\n",
    "\n",
    "Em Python, você não precisa declarar variáveis antes de usá-las, ou declarar seu tipo.\n",
    "\n",
    "Exemplo de declaração de variável em Python:\n",
    "\n",
    "```python\n",
    "name = 'Renato Cruz'\n",
    "```\n",
    "\n",
    "Isso é visto acima, onde apenas armazenamos a entrada em **nome** e **cumprimento** que armazena a string \"Olá\", sem primeiro declarar que armazenam dados do tipo string primeiro. \n",
    "\n",
    "\n",
    "Cada variável em Python é um **objeto** e veremos alguns dos tipos aqui."
   ]
  },
  {
   "cell_type": "markdown",
   "metadata": {},
   "source": [
    "### Números\n",
    "\n",
    "Para este curso, dois tipos de número diferentes são relevantes, números inteiros (**int**) e flutuante (**float**).\n",
    "\n",
    " "
   ]
  },
  {
   "cell_type": "code",
   "execution_count": 7,
   "metadata": {},
   "outputs": [
    {
     "name": "stdout",
     "output_type": "stream",
     "text": [
      "9\n"
     ]
    }
   ],
   "source": [
    "# É assim que você define um inteiro\n",
    "\n",
    "\n",
    "myInt = 9\n",
    "print(myInt)"
   ]
  },
  {
   "cell_type": "code",
   "execution_count": 8,
   "metadata": {},
   "outputs": [
    {
     "name": "stdout",
     "output_type": "stream",
     "text": [
      "9.0\n",
      "9.0\n",
      "9.0\n"
     ]
    }
   ],
   "source": [
    "# Para definir um número flutuante, você pode usar uma das seguintes abordagens\n",
    "\n",
    "myFloat1 = 9.0\n",
    "print(myFloat1)\n",
    "\n",
    "myFloat2 = float(9)\n",
    "print(myFloat2)\n",
    "\n",
    "myFloat3 = 9.\n",
    "print(myFloat3)"
   ]
  },
  {
   "cell_type": "markdown",
   "metadata": {},
   "source": [
    "Pode-se também *converter* um **inteiro** em um **float**, como fazemos em myFloat2 = float (9).\n",
    "\n",
    "* Um inteiro x pode ser convertido em float usando float (x)\n",
    "* Um float y pode ser convertido em um inteiro usando int (y)\n",
    "* Um inteiro xe um float y podem ser convertidos em uma string por str (x) e str (y), respectivamente."
   ]
  },
  {
   "cell_type": "code",
   "execution_count": 11,
   "metadata": {},
   "outputs": [
    {
     "name": "stdout",
     "output_type": "stream",
     "text": [
      "Meu inteiro: 9 \n",
      "Meu flutuante: 9.0\n"
     ]
    }
   ],
   "source": [
    "# Aqui, primeiro definimos um inteiro e o convertemos em um flutuante\n",
    "\n",
    "myInt = 9 \n",
    "myFloat = float(myInt)\n",
    "print(f\"Meu inteiro: {myInt} \\nMeu flutuante: {myFloat}\")"
   ]
  },
  {
   "cell_type": "code",
   "execution_count": 12,
   "metadata": {},
   "outputs": [
    {
     "name": "stdout",
     "output_type": "stream",
     "text": [
      "Meu inteiro 9 é do tipo <class 'str'>\n",
      "Meu float 9.0 é do tipo <class 'str'>\n"
     ]
    }
   ],
   "source": [
    "# Aqui, lançamos myInt e myFloat (de cima) em strings\n",
    "\n",
    "myIntegerString = str(myInt)\n",
    "print(f\"Meu inteiro {myIntegerString} é do tipo {type(myIntegerString)}\") \n",
    "\n",
    "myFloatString= str(myFloat)\n",
    "print(f\"Meu float {myFloatString} é do tipo {type(myFloatString)}\")"
   ]
  },
  {
   "cell_type": "markdown",
   "metadata": {},
   "source": [
    "## Strings \n",
    "\n",
    "As **strings** podem ser definidas usando-se aspas simples (') ou duplas (\"). \n",
    "\n",
    "*A diferença entre as duas é que o uso de aspas duplas facilita a inclusão de apóstrofos (ao passo que eles encerrariam a string se usar aspas simples)*"
   ]
  },
  {
   "cell_type": "code",
   "execution_count": 13,
   "metadata": {},
   "outputs": [
    {
     "name": "stdout",
     "output_type": "stream",
     "text": [
      "Don't worry about apostrophes\n"
     ]
    }
   ],
   "source": [
    "myString = \"Don't worry about apostrophes\"\n",
    "\n",
    "print(myString)"
   ]
  },
  {
   "cell_type": "code",
   "execution_count": 14,
   "metadata": {},
   "outputs": [
    {
     "name": "stdout",
     "output_type": "stream",
     "text": [
      "Don't worry about apostrophes\n"
     ]
    }
   ],
   "source": [
    "escapedString = 'Don\\'t worry about apostrophes'\n",
    "print(escapedString)"
   ]
  },
  {
   "cell_type": "code",
   "execution_count": 15,
   "metadata": {},
   "outputs": [
    {
     "name": "stdout",
     "output_type": "stream",
     "text": [
      "abcdefgh\n",
      "c\n",
      "h\n"
     ]
    }
   ],
   "source": [
    "#Strings são apenas uma matriz de caracteres\n",
    "\n",
    "myString = \"abcdefgh\"\n",
    "print(myString)\n",
    "\n",
    "# extraindo o terceiro caracter do myString\n",
    "third = myString[2]\n",
    "print(third)\n",
    "\n",
    "# extraindo o último caracter do myString\n",
    "last = myString[-1]\n",
    "print(last)"
   ]
  },
  {
   "cell_type": "markdown",
   "metadata": {},
   "source": [
    "### Exercício:\n",
    "\n",
    "Pegue os caracteres iguais a 'o' da string abaixo e imprima na tela"
   ]
  },
  {
   "cell_type": "code",
   "execution_count": 17,
   "metadata": {},
   "outputs": [
    {
     "name": "stdout",
     "output_type": "stream",
     "text": [
      "o\n",
      "o\n",
      "o\n",
      "o\n"
     ]
    }
   ],
   "source": [
    "# Write your code here\n",
    "\n",
    "string = 'tetrabrometacresolsulfonoftaleína'   # Termo específico da área de química\n",
    "\n",
    "for character in string:\n",
    "    if character == \"o\":\n",
    "        print(character)"
   ]
  },
  {
   "cell_type": "markdown",
   "metadata": {},
   "source": [
    "## Exercício 1\n",
    "\n",
    "O objetivo deste exercício é criar uma string, um inteiro e um número flutuante. \n",
    "\n",
    "* A string deve ser nomeada mystring e deve conter a palavra \"hello\"; \n",
    "* O número de ponto flutuante deve ser denominado myfloat e deve conter o número 10.0; \n",
    "* O inteiro deve ser nomeado myint e deve conter o número 20."
   ]
  },
  {
   "cell_type": "code",
   "execution_count": 18,
   "metadata": {},
   "outputs": [
    {
     "name": "stdout",
     "output_type": "stream",
     "text": [
      "String: hello\n",
      "Float: 10.000000\n",
      "Integer: 20\n"
     ]
    }
   ],
   "source": [
    "# mude este código\n",
    "\n",
    "mystring = \"hello\"\n",
    "myfloat = 10.0\n",
    "myint = 20\n",
    "\n",
    "# código de teste\n",
    "\n",
    "if mystring == \"hello\":\n",
    "    print(\"String: %s\" % mystring)\n",
    "    \n",
    "if isinstance(myfloat, float) and myfloat == 10.0:\n",
    "    print(\"Float: %f\" % myfloat)\n",
    "    \n",
    "if isinstance(myint, int) and myint == 20:\n",
    "    print(\"Integer: %d\" % myint)"
   ]
  },
  {
   "cell_type": "markdown",
   "metadata": {},
   "source": [
    "## Exercício 2\n",
    "\n",
    "\n",
    "Execute o código abaixo primeiro sem alterar nada, fornecendo um número a ele.\n",
    "\n",
    "Em seguida, use um elenco para corrigi-lo de forma que ele produza matemática correta em números."
   ]
  },
  {
   "cell_type": "code",
   "execution_count": 22,
   "metadata": {},
   "outputs": [
    {
     "name": "stdout",
     "output_type": "stream",
     "text": [
      "Forneça um número: 5.1\n",
      "O flutuante 25.5 arredondado é igual a 26\n"
     ]
    }
   ],
   "source": [
    "# Aqui pegamos e inserimos um número, e então o multiplicamos 5 vezes e então imprimimos o resultado\n",
    "\n",
    "inputVariable = float(input(\"Forneça um número: \"))\n",
    "resultado = inputVariable * 5\n",
    "\n",
    "# convertendo para int\n",
    "arredondado = round(resultado)\n",
    "\n",
    "print(f'O flutuante {resultado} arredondado é igual a {arredondado}')"
   ]
  },
  {
   "cell_type": "markdown",
   "metadata": {},
   "source": [
    "## Convenções de nomenclatura:\n",
    "\n",
    "Diferentes linguagens de programação têm diferentes  **melhores práticas** para nomes, nomenclatura de variáveis, funções e classes. \n",
    "\n",
    "Em python, as convenções de nomenclatura são descritas em [PEP8](https://www.python.org/dev/peps/pep-0008/#naming-conventions)."
   ]
  },
  {
   "cell_type": "markdown",
   "metadata": {},
   "source": [
    "# Curiosidade: o *Python Zen*\n",
    "\n",
    "Há muito tempo, o Pythoneer Tim Peters canaliza sucintamente os princípios orientadores do BDFL para o design do Python em 20 aforismos, apenas [19 dos quais foram escritos](https://www.python.org/dev/peps/pep-0020/)."
   ]
  },
  {
   "cell_type": "code",
   "execution_count": 23,
   "metadata": {},
   "outputs": [
    {
     "name": "stdout",
     "output_type": "stream",
     "text": [
      "The Zen of Python, by Tim Peters\n",
      "\n",
      "Beautiful is better than ugly.\n",
      "Explicit is better than implicit.\n",
      "Simple is better than complex.\n",
      "Complex is better than complicated.\n",
      "Flat is better than nested.\n",
      "Sparse is better than dense.\n",
      "Readability counts.\n",
      "Special cases aren't special enough to break the rules.\n",
      "Although practicality beats purity.\n",
      "Errors should never pass silently.\n",
      "Unless explicitly silenced.\n",
      "In the face of ambiguity, refuse the temptation to guess.\n",
      "There should be one-- and preferably only one --obvious way to do it.\n",
      "Although that way may not be obvious at first unless you're Dutch.\n",
      "Now is better than never.\n",
      "Although never is often better than *right* now.\n",
      "If the implementation is hard to explain, it's a bad idea.\n",
      "If the implementation is easy to explain, it may be a good idea.\n",
      "Namespaces are one honking great idea -- let's do more of those!\n"
     ]
    }
   ],
   "source": [
    "# importando aforismos Python Zen\n",
    "\n",
    "import this"
   ]
  },
  {
   "cell_type": "markdown",
   "metadata": {},
   "source": [
    "# Exemplos de convenções de nomenclatura\n",
    "\n",
    "```Python\n",
    "CONSTANTS_ARE_ALL_UPPERCASE = \"my constant string\"\n",
    "variables_should_be_all_lowercase_separated_with_underscores = 1\n",
    "\n",
    "def functions_should_do_the_same():\n",
    "    var1 = 4\n",
    "    retrun var1\n",
    "```"
   ]
  },
  {
   "cell_type": "markdown",
   "metadata": {},
   "source": [
    "# Formatação de string básica\n",
    "\n",
    "Conforme visto no código de teste:\n",
    "\n",
    "```Python\n",
    "# testing code\n",
    "if mystring == \"hello\":\n",
    "    print(\"String: %s\" % mystring)\n",
    "if isinstance(myfloat, float) and myfloat == 10.0:\n",
    "    print(\"Float: %f\" % myfloat)\n",
    "if isinstance(myint, int) and myint == 20:\n",
    "    print(\"Integer: %d\" % myint)\n",
    "```\n",
    "Usamos alguma formatação de string nas instruções de impressão. Também usamos as declarações e condições If que abordamos a seguir.\n",
    "\n",
    "Aqui, usamos um operador de formatação de string especial, **%**, que nos permite formatar a string de acordo com o formato especificado. % s especifica que estamos inserindo uma variável do tipo string na frase. % f especifica um espaço reservado para um número de ponto flutuante e% d para um inteiro decimal. Mais sobre formatação de strings em: [w3schools about formatting](https://www.w3schools.com/python/ref_string_format.asp)\n",
    "\n",
    "No exemplo acima, estamos adicionando um valor à string, mas também podemos adicionar vários em uma string usando a sintaxe abaixo:\n",
    "\n",
    "```Python\n",
    "\"string %s, number %d and floatingpoint %f\"%(\"hello\",10,10.0)\n",
    "```\n",
    "Sinta-se à vontade para experimentar abaixo.\n",
    "\n",
    "Existe outras formas de refinar a formatação de saída. Para maiores informações, clique neste [link](https://docs.python.org/pt-br/3/tutorial/inputoutput.html#:~:text=Existem%20v%C3%A1rias%20maneiras%20de%20formatar,a%20vari%C3%A1veis%2C%20ou%20valores%20literais.)"
   ]
  },
  {
   "cell_type": "code",
   "execution_count": 25,
   "metadata": {},
   "outputs": [
    {
     "name": "stdout",
     "output_type": "stream",
     "text": [
      "String: Olá \n",
      "Number: 10 \n",
      "Float: 10.000000\n"
     ]
    }
   ],
   "source": [
    "# Execute isso para verificar várias variáveis inseridas em uma string\n",
    "\n",
    "print('String: %s \\nNumber: %d \\nFloat: %f' % ('Olá', 10, 10.0))\n"
   ]
  },
  {
   "cell_type": "code",
   "execution_count": 28,
   "metadata": {},
   "outputs": [
    {
     "name": "stdout",
     "output_type": "stream",
     "text": [
      "String: Olá \n",
      "Number: 10 \n",
      "Float: 10.0\n"
     ]
    }
   ],
   "source": [
    "# Estes cadernos usará a formatação de string da seguinte maneira\n",
    "\n",
    "string = 'Olá'\n",
    "\n",
    "print(f'String: {string} \\nNumber: {10} \\nFloat: {10.0}')"
   ]
  },
  {
   "cell_type": "markdown",
   "metadata": {},
   "source": [
    "### Exercício:\n",
    "\n",
    "Tente fazer a impressão flutuante com apenas duas casas decimais"
   ]
  },
  {
   "cell_type": "code",
   "execution_count": 34,
   "metadata": {},
   "outputs": [
    {
     "name": "stdout",
     "output_type": "stream",
     "text": [
      "Imprima o flutuante 10.0\n",
      "Imprima o flutuante 10.00\n"
     ]
    }
   ],
   "source": [
    "# Execute isso para verificar várias variáveis inseridas em uma string\n",
    "\n",
    "num = 10.0\n",
    "\n",
    "print(f\"Imprima o flutuante {num}\")\n",
    "print(\"Imprima o flutuante %.2f\" % num)"
   ]
  },
  {
   "cell_type": "markdown",
   "metadata": {},
   "source": [
    "## Funções de string\n",
    "\n",
    "Além disso, existem várias outras opções de formatação de string que você pode fazer. \n",
    "\n",
    "Strings são objetos que possuem várias funções predefinidas. \n",
    "\n",
    "Sinta-se à vontade para adicionar algumas células de código abaixo aqui com alguns dos exemplos de trechos de código de [w3schools on strings] (https://www.w3schools.com/python/python_strings.asp)"
   ]
  },
  {
   "cell_type": "code",
   "execution_count": 36,
   "metadata": {},
   "outputs": [
    {
     "name": "stdout",
     "output_type": "stream",
     "text": [
      "olá!\n",
      "OLÁ!\n"
     ]
    }
   ],
   "source": [
    "# Exemplo 1 - por exemplo. converter uma string em letras minúsculas\n",
    "\n",
    "a = \"OLá!\"\n",
    "\n",
    "print(a.lower())\n",
    "\n",
    "# converter para letras maiúsculas\n",
    "\n",
    "print(a.upper())"
   ]
  },
  {
   "cell_type": "code",
   "execution_count": 37,
   "metadata": {},
   "outputs": [
    {
     "name": "stdout",
     "output_type": "stream",
     "text": [
      "['Olá', ' jupyter notebook']\n",
      "['jupyter', 'notebook']\n"
     ]
    }
   ],
   "source": [
    "# Exemplo 2 - por exemplo. divida uma corda em duas.\n",
    "\n",
    "a = \"Olá, jupyter notebook\"\n",
    "\n",
    "# dividir em um personagem específico\n",
    "\n",
    "var = a.split(\",\") \n",
    "print(var)\n",
    "\n",
    "# divida o espaço em branco no início ou no final\n",
    "\n",
    "print(var[1].split())"
   ]
  },
  {
   "cell_type": "markdown",
   "metadata": {},
   "source": [
    "## Exercício 3\n",
    "\n",
    "Crie um script na célula abaixo:\n",
    "\n",
    "* Pega em uma string que você inserir\n",
    "\n",
    "* Certifique-se de que é uma corda\n",
    "\n",
    "* Armazene em uma variável\n",
    "\n",
    "* Imprima a variável\n",
    "\n",
    "* Em seguida, pegue apenas o primeiro e o último caracteres do nome\n",
    "\n",
    "* Armazene em uma nova variável\n",
    "\n",
    "* Imprima a nova variável\n",
    "\n",
    "veja [w3schools on strings](https://www.w3schools.com/python/python_strings.asp) for help. "
   ]
  },
  {
   "cell_type": "code",
   "execution_count": 39,
   "metadata": {},
   "outputs": [
    {
     "name": "stdout",
     "output_type": "stream",
     "text": [
      "myString é uma string \n",
      "Introdução ao Python 3 no jupyter notebook\n",
      "I\n",
      "k\n"
     ]
    }
   ],
   "source": [
    "### Exercise 3 answer here:\n",
    "\n",
    "myString = \"Introdução ao Python 3 no jupyter notebook\"\n",
    "\n",
    "if type(myString) == str:\n",
    "    print(\"myString é uma string \")\n",
    "\n",
    "variable = myString\n",
    "print(variable)\n",
    "\n",
    "first_character = variable[0]\n",
    "print(first_character)\n",
    "\n",
    "last_character = variable[-1]\n",
    "print(last_character)\n"
   ]
  },
  {
   "cell_type": "markdown",
   "metadata": {},
   "source": [
    "# Tipos de coleção (matrizes)\n",
    "\n",
    "Existem quatro tipos de dados de coleção na linguagem de programação Python:\n",
    "\n",
    "* Lista é uma coleção ordenada e mutável. Permite membros duplicados.\n",
    "* Tupla é uma coleção ordenada e imutável. Permite membros duplicados.\n",
    "* Set é uma coleção não ordenada e não indexada. Nenhum membro duplicado.\n",
    "* Dicionário é uma coleção não ordenada, mutável e indexada. Nenhum membro duplicado.\n",
    "\n",
    "Ao escolher um tipo de coleção, é útil entender as propriedades desse tipo. \n",
    "\n",
    "Escolher o tipo certo para um determinado conjunto de dados pode significar retenção de significado e, pode significar um aumento na eficiência ou segurança ([ref w3schools](https://www.w3schools.com/python/python_lists.asp))\n",
    "\n",
    "Abaixo, iremos percorrer as listas e tuplas. Encontre mais informações sobre conjuntos e dicionários, por exemplo. w3scools acima."
   ]
  },
  {
   "cell_type": "markdown",
   "metadata": {},
   "source": [
    "## Lista\n",
    "\n",
    "Uma lista é uma coleção ordenada e mutável. \n",
    "\n",
    "Elas podem conter qualquer tipo de variável e podem conter quantas variáveis você desejar. \n",
    "\n",
    "Em Python, as listas são escritas com colchetes."
   ]
  },
  {
   "cell_type": "code",
   "execution_count": 41,
   "metadata": {},
   "outputs": [
    {
     "name": "stdout",
     "output_type": "stream",
     "text": [
      "['apple', 1, 'cherry', 10]\n"
     ]
    }
   ],
   "source": [
    "# exemplo de uma lista\n",
    "\n",
    "myList = [\"apple\", 1, \"cherry\", 10]\n",
    "\n",
    "\n",
    "print(myList)"
   ]
  },
  {
   "cell_type": "markdown",
   "metadata": {},
   "source": [
    "Você acessa os itens da lista referindo-se ao número do índice. Lembre-se de que o índice começa em 0."
   ]
  },
  {
   "cell_type": "code",
   "execution_count": 42,
   "metadata": {},
   "outputs": [
    {
     "name": "stdout",
     "output_type": "stream",
     "text": [
      "2\n"
     ]
    }
   ],
   "source": [
    "# Acessando índices de uma lista\n",
    "\n",
    "myList = [1, 2, 3, 4, 5]\n",
    "\n",
    "print(myList[1])"
   ]
  },
  {
   "cell_type": "markdown",
   "metadata": {},
   "source": [
    "### Listas são mutáveis\n",
    "\n",
    "As listas podem ser alteradas, então você pode, por exemplo. adicione ou remova algo dela."
   ]
  },
  {
   "cell_type": "code",
   "execution_count": 43,
   "metadata": {},
   "outputs": [
    {
     "name": "stdout",
     "output_type": "stream",
     "text": [
      "Minha lista inicial: [1, 2, 3]\n",
      "Minha nova lista: [1, 2, 3, 3]\n",
      "Minha lista atualizada: [1, 3, 3]\n",
      "Minha lista atualizada novamente: [1, 3]\n",
      "Minha lista final: [3]\n"
     ]
    }
   ],
   "source": [
    "# Adicionando a uma lista meu append()\n",
    "\n",
    "myList = [1,2,3]\n",
    "\n",
    "print(f'Minha lista inicial: {myList}')\n",
    "\n",
    "myList.append (3) # adiciona o valor 3 à lista\n",
    "\n",
    "print(f'Minha nova lista: {myList}')\n",
    "\n",
    "# Removendo de uma lista por remove()\n",
    "\n",
    "myList.remove (2) # remove o valor 2 da lista\n",
    "\n",
    "print(f'Minha lista atualizada: {myList}')\n",
    "\n",
    "\n",
    "# Removendo de uma lista por pop()\n",
    "\n",
    "myList.pop () # remove o último item da lista\n",
    "\n",
    "print(f'Minha lista atualizada novamente: {myList}')\n",
    "\n",
    "myList.pop (0) # remove o primeiro item da lista\n",
    "\n",
    "print(f'Minha lista final: {myList}')"
   ]
  },
  {
   "cell_type": "markdown",
   "metadata": {},
   "source": [
    "## Tupla\n",
    "\n",
    "Uma tupla é uma coleção ordenada e **imutável**. \n",
    "\n",
    "Em Python, as tuplas são escritas entre parênteses. \n",
    "\n",
    "#### Ao trabalhar com IFC e ifcopenshell, geralmente trabalhamos com tuplas."
   ]
  },
  {
   "cell_type": "code",
   "execution_count": 44,
   "metadata": {},
   "outputs": [
    {
     "name": "stdout",
     "output_type": "stream",
     "text": [
      "('apple', 1, 'cherry', 10)\n"
     ]
    }
   ],
   "source": [
    "# Exmeplo de tupla\n",
    "\n",
    "myTuple = (\"apple\", 1, \"cherry\", 10)\n",
    "\n",
    "print(myTuple)"
   ]
  },
  {
   "cell_type": "markdown",
   "metadata": {},
   "source": [
    "Você acessa os itens da tupla, da mesma forma que nas listas, referindo-se ao número do índice. Lembre-se de que o índice começa em 0."
   ]
  },
  {
   "cell_type": "code",
   "execution_count": 45,
   "metadata": {},
   "outputs": [
    {
     "name": "stdout",
     "output_type": "stream",
     "text": [
      "2\n"
     ]
    }
   ],
   "source": [
    "# Acessando uma tupla\n",
    "\n",
    "myTuple = (1, 2, 3, 4, 5)\n",
    "\n",
    "print(myTuple[1])"
   ]
  },
  {
   "cell_type": "markdown",
   "metadata": {},
   "source": [
    "### Tuplas são imutáveis\n",
    "\n",
    "\n",
    "As tuplas são imutáveis, mas você pode colocá-las em uma lista e trabalhar com elas como uma lista."
   ]
  },
  {
   "cell_type": "code",
   "execution_count": 48,
   "metadata": {},
   "outputs": [
    {
     "name": "stdout",
     "output_type": "stream",
     "text": [
      "(1, 2, 4, 5)\n"
     ]
    }
   ],
   "source": [
    "myTuple = (1, 2, 3, 4, 5)\n",
    "#myTuple.pop(2)              # esta instrução dará um erro do tipo AttributeError\n",
    "\n",
    "myList = list(myTuple) # Converta tupla em uma lista\n",
    "myList.pop(2)\n",
    "myTuple = tuple(myList) # Converta lista em uma tupla\n",
    "\n",
    "print(myTuple)"
   ]
  },
  {
   "cell_type": "markdown",
   "metadata": {},
   "source": [
    "### Verifique o número de elementos na lista ou tupla\n",
    "\n",
    "\n",
    "Freqüentemente, é necessário verificar quantos elementos estão em uma lista ou tupla."
   ]
  },
  {
   "cell_type": "code",
   "execution_count": 49,
   "metadata": {},
   "outputs": [
    {
     "name": "stdout",
     "output_type": "stream",
     "text": [
      "4\n",
      "4\n"
     ]
    }
   ],
   "source": [
    "# Verifique quantos elementos existem em myList (definido acima)\n",
    "print(len(myList))\n",
    "\n",
    "# Verifique quantos elementos existem em myTuple (definido acima)\n",
    "print(len(myTuple))"
   ]
  },
  {
   "cell_type": "markdown",
   "metadata": {},
   "source": [
    "## Exercício 4 - quantos elementos IfcWall existem no modelo Grethes Hus?\n",
    "\n",
    "\n",
    "No exercício abaixo, queremos que você use o que aprendeu acima para descobrir quantos elementos do tipo **IfcWall** estão no modelo Grethes Hus (modelo IFC).\n",
    "\n",
    "Fornecemos algum código para obter o arquivo e consultar todos os elementos do tipo **IfcWall** e armazená-lo em uma variável chamada **walls**.\n",
    "\n",
    "Imprima na tela o número de paredes existentes na variável **walls**."
   ]
  },
  {
   "cell_type": "code",
   "execution_count": 50,
   "metadata": {},
   "outputs": [],
   "source": [
    "# Importamos ifcopenshell e abrimos o modelo Grethes Hus e o armazenamos em uma variável chamada arquivo.\n",
    "\n",
    "import ifcopenshell \n",
    "file = ifcopenshell.open(\"Grethes-hus-bok-2.ifc\")"
   ]
  },
  {
   "cell_type": "code",
   "execution_count": 51,
   "metadata": {},
   "outputs": [
    {
     "name": "stdout",
     "output_type": "stream",
     "text": [
      "#636=IfcWallStandardCase('1xzRHg5wPCVvg4uLjqox1I',#48,'Basic Wall:Generic - 200mm:345653',$,'Basic Wall:Generic - 200mm:398',#609,#634,'345653')\n",
      "#744=IfcWallStandardCase('1Yzg4cwif7gQ2Hvbubk5cs',#48,'Basic Wall:Generic - 225mm Masonry:347110',$,'Basic Wall:Generic - 225mm Masonry:399',#717,#742,'347110')\n",
      "#796=IfcWallStandardCase('1Yzg4cwif7gQ2Hvbubk5cx',#48,'Basic Wall:Generic - 225mm Masonry:347115',$,'Basic Wall:Generic - 225mm Masonry:399',#776,#794,'347115')\n",
      "#832=IfcWallStandardCase('1Yzg4cwif7gQ2Hvbubk5cW',#48,'Basic Wall:Generic - 225mm Masonry:347120',$,'Basic Wall:Generic - 225mm Masonry:399',#812,#830,'347120')\n",
      "#868=IfcWallStandardCase('1Yzg4cwif7gQ2Hvbubk5ci',#48,'Basic Wall:Generic - 225mm Masonry:347132',$,'Basic Wall:Generic - 225mm Masonry:399',#848,#866,'347132')\n",
      "#904=IfcWallStandardCase('1Yzg4cwif7gQ2Hvbubk5xm',#48,'Basic Wall:Generic - 225mm Masonry:347296',$,'Basic Wall:Generic - 225mm Masonry:399',#884,#902,'347296')\n",
      "#940=IfcWallStandardCase('1Yzg4cwif7gQ2Hvbubk5xt',#48,'Basic Wall:Generic - 225mm Masonry:347303',$,'Basic Wall:Generic - 225mm Masonry:399',#920,#938,'347303')\n",
      "#976=IfcWallStandardCase('1Yzg4cwif7gQ2Hvbubk5xy',#48,'Basic Wall:Generic - 225mm Masonry:347308',$,'Basic Wall:Generic - 225mm Masonry:399',#956,#974,'347308')\n",
      "#1041=IfcWallStandardCase('3Q87Kkn4X0hh69O_upt9P1',#48,'Basic Wall:_Bindeingsverk 316mm:348322',$,'Basic Wall:_Bindeingsverk 316mm:347474',#992,#1039,'348322')\n",
      "#1151=IfcWallStandardCase('3Q87Kkn4X0hh69O_upt9P0',#48,'Basic Wall:_Bindeingsverk 316mm:348323',$,'Basic Wall:_Bindeingsverk 316mm:347474',#1112,#1149,'348323')\n",
      "#1233=IfcWallStandardCase('3Q87Kkn4X0hh69O_upt9P7',#48,'Basic Wall:_Bindeingsverk 316mm:348324',$,'Basic Wall:_Bindeingsverk 316mm:347474',#1190,#1231,'348324')\n",
      "#1288=IfcWallStandardCase('3Q87Kkn4X0hh69O_upt9P6',#48,'Basic Wall:_Bindeingsverk 316mm:348325',$,'Basic Wall:_Bindeingsverk 316mm:347474',#1249,#1286,'348325')\n",
      "#20210=IfcWallStandardCase('0AcubLcjbDbQQeAgLg2Y0r',#48,'Basic Wall:_Bindeingsverk 99mm:372647',$,'Basic Wall:_Bindeingsverk 99mm:372309',#20171,#20208,'372647')\n",
      "#20404=IfcWall('0AcubLcjbDbQQeAgLg2Zeu',#48,'Basic Wall:_Bindeingsverk 99mm:374186',$,'Basic Wall:_Bindeingsverk 99mm:372309',#20257,#20402,'374186')\n",
      "#20457=IfcWallStandardCase('0AcubLcjbDbQQeAgLg2ZcF',#48,'Basic Wall:_Bindeingsverk 99mm:374301',$,'Basic Wall:_Bindeingsverk 99mm:372309',#20420,#20455,'374301')\n",
      "#20510=IfcWallStandardCase('0AcubLcjbDbQQeAgLg2ZZu',#48,'Basic Wall:_Bindeingsverk 99mm:374634',$,'Basic Wall:_Bindeingsverk 99mm:372309',#20473,#20508,'374634')\n",
      "#58089=IfcWallStandardCase('3cDMTWgdr3igPBCsBF2w7i',#48,'Basic Wall:Generic - 225mm Masonry:384440',$,'Basic Wall:Generic - 225mm Masonry:399',#58069,#58087,'384440')\n",
      "#58252=IfcWall('3cDMTWgdr3igPBCsBF2w7k',#48,'Basic Wall:_Bindeingsverk 99mm:384442',$,'Basic Wall:_Bindeingsverk 99mm:372309',#58105,#58250,'384442')\n",
      "#58304=IfcWallStandardCase('3cDMTWgdr3igPBCsBF2w7l',#48,'Basic Wall:_Bindeingsverk 99mm:384443',$,'Basic Wall:_Bindeingsverk 99mm:372309',#58267,#58302,'384443')\n",
      "#58357=IfcWallStandardCase('3cDMTWgdr3igPBCsBF2w7e',#48,'Basic Wall:_Bindeingsverk 99mm:384444',$,'Basic Wall:_Bindeingsverk 99mm:372309',#58320,#58355,'384444')\n",
      "#58831=IfcWallStandardCase('1x1Hp_6Db1KwZy5IwzDax9',#48,'Basic Wall:_Bindeingsverk 316mm:384988',$,'Basic Wall:_Bindeingsverk 316mm:347474',#58795,#58829,'384988')\n",
      "#60761=IfcWallStandardCase('1x1Hp_6Db1KwZy5IwzDd9h',#48,'Basic Wall:_Bindeingsverk 316mm:385918',$,'Basic Wall:_Bindeingsverk 316mm:347474',#60725,#60759,'385918')\n",
      "#60988=IfcWall('1x1Hp_6Db1KwZy5IwzDdGF',#48,'Basic Wall:_Dekkeforkant 255mm:386330',$,'Basic Wall:_Dekkeforkant 255mm:385969',#60919,#60986,'386330')\n",
      "#61086=IfcWall('1x1Hp_6Db1KwZy5IwzDdJh',#48,'Basic Wall:_Dekkeforkant 255mm:386558',$,'Basic Wall:_Dekkeforkant 255mm:385969',#61017,#61084,'386558')\n"
     ]
    }
   ],
   "source": [
    "#Consultamos o arquivo quanto ao número de elementos do tipo IfcWall\n",
    "\n",
    "walls = file.by_type(\"IfcWall\")\n",
    "\n",
    "for wall in walls:\n",
    "    print(wall)"
   ]
  },
  {
   "cell_type": "code",
   "execution_count": 52,
   "metadata": {},
   "outputs": [
    {
     "name": "stdout",
     "output_type": "stream",
     "text": [
      "Existe 24 elementos do tipo wall.\n"
     ]
    }
   ],
   "source": [
    "# Quantos elementos de parede existem neste arquivo?\n",
    "\n",
    "print(f\"Existe {len(walls)} elementos do tipo wall.\")"
   ]
  },
  {
   "cell_type": "markdown",
   "metadata": {},
   "source": [
    "##  Altere o zero abaixo para listar o número de paredes no arquivo."
   ]
  },
  {
   "cell_type": "code",
   "execution_count": 53,
   "metadata": {},
   "outputs": [
    {
     "name": "stdout",
     "output_type": "stream",
     "text": [
      "24\n"
     ]
    }
   ],
   "source": [
    "numberOfWalls = 0 # armazene o número de tipos IfcWall nesta variável.\n",
    "\n",
    "for wall in walls:\n",
    "    numberOfWalls += 1\n",
    "\n",
    "print(numberOfWalls)"
   ]
  },
  {
   "cell_type": "markdown",
   "metadata": {},
   "source": [
    "# Condições e declarações If\n",
    "\n",
    "> Python suporta as condições lógicas usuais da matemática:\n",
    "\n",
    "* Igual a: a == b\n",
    "* Diferente de: a! = B\n",
    "* Menor que: a <b\n",
    "* Menor ou igual a: a <= b\n",
    "* Maior que: a> b\n",
    "* Maior ou igual a: a> = b\n",
    "\n",
    "Essas condições podem ser usadas de várias maneiras, mais comumente em \"instruções if\" e loops. (ref. [w3schools](https://www.w3schools.com/python/python_conditions.asp))\n",
    "\n",
    "Vamos examinar o uso de instruções if e os loops mais comuns aqui e usá-los para explorar alguns elementos do modelo Grethes Hus.\n",
    "\n",
    "A sintaxe para uma instrução If que verifica se uma variável **a** é igual a uma variável **b** é a seguinte:\n",
    "\n",
    "```Python\n",
    "    a = 0\n",
    "    b = 2\n",
    "    if a == b:\n",
    "        print(\"they are eaqual\")\n",
    "```\n",
    "\n",
    "Observe o **recuo**. Python depende de indentação, usando espaços em branco, para definir o escopo no código. Outras linguagens de programação costumam usar chaves para esse propósito. Aqui, a impressão está dentro da instrução if.\n",
    "\n",
    "Vamos usar uma instrução if para verificar se há mais de zero paredes no modelo Grethes Hus."
   ]
  },
  {
   "cell_type": "code",
   "execution_count": 54,
   "metadata": {},
   "outputs": [
    {
     "name": "stdout",
     "output_type": "stream",
     "text": [
      "Você provavelmente fez algo logo acima.\n"
     ]
    }
   ],
   "source": [
    "## Aqui nos referimos à variável \"numberOfWalls\" conforme definido acima e verificamos se é maior que 0.\n",
    "\n",
    "if numberOfWalls > 0:\n",
    "    print(\"Você provavelmente fez algo logo acima.\")"
   ]
  },
  {
   "cell_type": "markdown",
   "metadata": {},
   "source": [
    "## elif and else\n",
    "\n",
    "Também poderíamos adicionar à instrução **If**, usando uma instrução **Elif**. Isso permitirá que você adicione outra condição para verificar. \n",
    "\n",
    "No final, também podemos fazer uma declaração **Else**. Isso será executado se nenhuma das condições anteriores for atendida. \n",
    "\n",
    "A sintaxe para isso é:\n",
    "\n",
    "```Python\n",
    "    if <condition1>:\n",
    "        # do something based on condition1\n",
    "    elif <condition2>:\n",
    "        # Do something based on condition2\n",
    "    else:\n",
    "        # Do something if non of the previouse contitions where met. \n",
    "```\n",
    "\n",
    "Você é livre para fazer quantas instruções elif desejar, mas só pode ter uma instrução else."
   ]
  },
  {
   "cell_type": "code",
   "execution_count": 55,
   "metadata": {},
   "outputs": [
    {
     "name": "stdout",
     "output_type": "stream",
     "text": [
      "Você provavelmente fez algo logo acima.\n"
     ]
    }
   ],
   "source": [
    "if numberOfWalls > 0:\n",
    "    print(\"Você provavelmente fez algo logo acima.\")\n",
    "elif numberOfWalls == 0:\n",
    "    print(\"Você provavelmente fez algo errado acima\")\n",
    "else:\n",
    "    print(\"Como isso pôde acontecer...?\")"
   ]
  },
  {
   "cell_type": "markdown",
   "metadata": {},
   "source": [
    "## Verifique se existe um elemento em uma lista ou tupla\n",
    "\n",
    "Freqüentemente, gostaria de verificar se um determinado valor está em uma lista ou tupla. Isso é fácil com python. "
   ]
  },
  {
   "cell_type": "code",
   "execution_count": 56,
   "metadata": {},
   "outputs": [
    {
     "name": "stdout",
     "output_type": "stream",
     "text": [
      "Encontrei o BIMFag em myList!\n",
      "Encontrei o BIMFag em myTuple!\n"
     ]
    }
   ],
   "source": [
    "# Verifique se um valor está em uma lista\n",
    "\n",
    "myList = [\"BIMFag\", \"banana\", \"BIM\"]\n",
    "\n",
    "if \"BIMFag\" in myList:\n",
    "    print(\"Encontrei o BIMFag em myList!\")\n",
    "    \n",
    "myTuple = [\"BIMFag\", \"banana\", \"BIM\"]\n",
    "\n",
    "if \"BIMFag\" in myTuple:\n",
    "    print(\"Encontrei o BIMFag em myTuple!\")"
   ]
  },
  {
   "cell_type": "markdown",
   "metadata": {},
   "source": [
    "# While Loops\n",
    "\n",
    "Condições e instruções if são úteis também em loops while. Enquanto os loops estão em execução, desde que uma condição seja atendida. A sintaxe para os loops while são:\n",
    "\n",
    "```Python\n",
    "   x = 1\n",
    "   while x<10: # Checks if x is less than 10\n",
    "       # do something eg.\n",
    "       print(x) # since x is bigger than zero this will print for as long as x is less than 10\n",
    "       x = x + 1 ## this statement is adding 1 to x for each iteration of the loop. \n",
    "```\n",
    "\n",
    "Lembre-se de que, se a condição na qual o loop while está verificando nunca for atendida, ele será executado indefinidamente. então, sem a instrução ```Python x = x + 1``` acima, isso teria apenas impresso 1 indefinidamente.\n",
    "\n",
    "Observe o **recuo**. Como mencionado acima, Python depende de indentação, usando espaços em branco, para definir o que está dentro do loop while. Aqui, a instrução ```print (x)``` e ```x = x + 1``` é indentada, de modo a mostrar que está dentro do loop while."
   ]
  },
  {
   "cell_type": "code",
   "execution_count": 57,
   "metadata": {},
   "outputs": [
    {
     "name": "stdout",
     "output_type": "stream",
     "text": [
      "1\n",
      "2\n",
      "3\n",
      "4\n",
      "5\n",
      "6\n",
      "7\n",
      "8\n",
      "9\n",
      "10\n",
      "11\n",
      "12\n",
      "13\n",
      "14\n",
      "15\n",
      "16\n",
      "17\n",
      "18\n",
      "19\n",
      "20\n",
      "21\n",
      "22\n",
      "23\n",
      "x é: 24 e numberOfWalls é: 24\n"
     ]
    }
   ],
   "source": [
    "# Vamos ver isso em ação. Imprima x contanto que seja menor que o número de paredes\n",
    "\n",
    "x = 1\n",
    "while x < numberOfWalls:\n",
    "    print(x)\n",
    "    x = x +1\n",
    "else:\n",
    "    print(f\"x é: {x} e numberOfWalls é: {numberOfWalls}\")"
   ]
  },
  {
   "cell_type": "markdown",
   "metadata": {},
   "source": [
    "## Loops, break e mais\n",
    "\n",
    "Observe que o loop termina quando a condição não é mais atendida. \n",
    "\n",
    "Observe também que os loops também podem ter uma instrução else, semelhante às instruções if. \n",
    "\n",
    "Se a condição do loop não for mais atendida, a outra parte será executada.\n",
    "\n",
    "Se quisermos sair do loop while mais cedo, pode-se usar a instrução **break** especial. \n",
    "\n",
    "O loop while pode ter uma condição que sempre será verdadeira, como ```True```, mas então faça uma verificação mais adiante e use ``` break``` para sair do loop com base em uma condição na condição de a respectiva verificação. "
   ]
  },
  {
   "cell_type": "code",
   "execution_count": 58,
   "metadata": {},
   "outputs": [
    {
     "name": "stdout",
     "output_type": "stream",
     "text": [
      "1\n",
      "2\n",
      "3\n",
      "4\n",
      "5\n",
      "6\n",
      "7\n",
      "8\n",
      "9\n",
      "10\n"
     ]
    }
   ],
   "source": [
    "x = 1\n",
    "## Loop enquanto True -> True é sempre True ...\n",
    "\n",
    "while True: \n",
    "    print(x)\n",
    "    # verifique se x é maior ou igual a 10\n",
    "    if x >= 10:\n",
    "        break                               # se a condição for atendida, saia do loop while. \n",
    "    x = x+1                                 # se a condição da instrução if for falsa, ela será executada no loop while. \n"
   ]
  },
  {
   "cell_type": "markdown",
   "metadata": {},
   "source": [
    "# For Loops\n",
    "\n",
    "Um loop **for** é usado para iterar sobre uma sequência (que é uma lista, uma tupla, um dicionário, um conjunto ou uma string).\n",
    "\n",
    "A sintaxe para loops for em python é:\n",
    "\n",
    "```Python\n",
    "for element in listOfElements:\n",
    "    # Faça algo com cada elemento, por exemplo. Imprima isso.\n",
    "    print(element)\n",
    "```\n",
    "\n",
    "Observe o **recuo** aqui também. Ele define o que está dentro do loop for. Aqui, a instrução print é indentada, de modo que será feita a cada iteração dos elementos na lista."
   ]
  },
  {
   "cell_type": "code",
   "execution_count": 59,
   "metadata": {},
   "outputs": [
    {
     "name": "stdout",
     "output_type": "stream",
     "text": [
      "1\n",
      "2\n",
      "3\n",
      "4\n",
      "5\n",
      "6\n"
     ]
    }
   ],
   "source": [
    "myTuple = (1, 2, 3, 4, 5, 6)\n",
    "\n",
    "for element in myTuple:\n",
    "    print(element)"
   ]
  },
  {
   "cell_type": "code",
   "execution_count": 60,
   "metadata": {},
   "outputs": [
    {
     "name": "stdout",
     "output_type": "stream",
     "text": [
      "1\n",
      "2\n",
      "3\n",
      "4\n",
      "5\n",
      "6\n"
     ]
    }
   ],
   "source": [
    "for i in range(6):\n",
    "    print(myTuple[i])"
   ]
  },
  {
   "cell_type": "markdown",
   "metadata": {},
   "source": [
    "## Iterando sobre uma série de objetos IfcWindow e atributos de acesso\n",
    "\n",
    "\n",
    "A seguir, usaremos um loop for para percorrer todos os elementos IfcWindow e imprimir alguns de seus atributos diretos. \n",
    "\n",
    "Consulte o dicionário de dados IFC para IFC 2.3 [aqui](https://standards.buildingsmart.org/IFC/RELEASE/IFC2x3/FINAL/HTML/). \n",
    "\n",
    "A página de acesso principal para as diferentes definições de esquema IFC pode ser encontrada [aqui](https://technical.buildingsmart.org/standards/ifc/ifc-schema-specifications/)\n",
    "\n",
    "Estaremos recebendo seu atributo **Name**. \n",
    "\n",
    "Como os elementos IfcWindow são objetos em Python, podemos acessá-los usando operador **\".\"**.\n",
    "\n",
    "Sinta-se à vontade para experimentar outros atributos. Você poderia, por exemplo. tente com **OverallHeight** e **OverallWidth**."
   ]
  },
  {
   "cell_type": "code",
   "execution_count": 61,
   "metadata": {},
   "outputs": [],
   "source": [
    "# Importamos ifcopenshell e abrimos o modelo Grethes Hus e o armazenamos em uma variável chamada arquivo.\n",
    "\n",
    "import ifcopenshell \n",
    "file = ifcopenshell.open(\"Grethes-hus-bok-2.ifc\")\n"
   ]
  },
  {
   "cell_type": "code",
   "execution_count": 62,
   "metadata": {},
   "outputs": [],
   "source": [
    "# Consultamos o arquivo quanto ao número de elementos do tipo IfcWindow\n",
    "\n",
    "windows = file.by_type(\"IfcWindow\")"
   ]
  },
  {
   "cell_type": "code",
   "execution_count": 68,
   "metadata": {},
   "outputs": [],
   "source": [
    "######   TESTE   ######\n",
    "# tentando outros tipos\n",
    "\n"
   ]
  },
  {
   "cell_type": "code",
   "execution_count": 69,
   "metadata": {},
   "outputs": [
    {
     "name": "stdout",
     "output_type": "stream",
     "text": [
      "[#1475=IfcWindow('3Q87Kkn4X0hh69O_upt9N3',#48,'M_Fixed:_1400x2200mm:348960',$,'_1400x2200mm',#65302,#1467,'348960',2200.,1400.), #1500=IfcWindow('3Q87Kkn4X0hh69O_upt9xy',#48,'M_Fixed:_1400x2200mm:350239',$,'_1400x2200mm',#65328,#1492,'350239',2200.,1400.), #1523=IfcWindow('3Q87Kkn4X0hh69O_upt9$i',#48,'M_Fixed:_1400x2200mm:350479',$,'_1400x2200mm',#65588,#1515,'350479',2200.,1400.), #1546=IfcWindow('3Q87Kkn4X0hh69O_upt9$t',#48,'M_Fixed:_1400x2200mm:350484',$,'_1400x2200mm',#65562,#1538,'350484',2200.,1400.), #1569=IfcWindow('3Q87Kkn4X0hh69O_upt9$w',#48,'M_Fixed:_1400x2200mm:350489',$,'_1400x2200mm',#65536,#1561,'350489',2200.,1400.), #1592=IfcWindow('3Q87Kkn4X0hh69O_upt9$z',#48,'M_Fixed:_1400x2200mm:350494',$,'_1400x2200mm',#65510,#1584,'350494',2200.,1400.), #1615=IfcWindow('3Q87Kkn4X0hh69O_upt9$0',#48,'M_Fixed:_1400x2200mm:350499',$,'_1400x2200mm',#65484,#1607,'350499',2200.,1400.), #1638=IfcWindow('3Q87Kkn4X0hh69O_upt9$B',#48,'M_Fixed:_1400x2200mm:350504',$,'_1400x2200mm',#65458,#1630,'350504',2200.,1400.), #1661=IfcWindow('3Q87Kkn4X0hh69O_upt9$E',#48,'M_Fixed:_1400x2200mm:350509',$,'_1400x2200mm',#65432,#1653,'350509',2200.,1400.), #1684=IfcWindow('3Q87Kkn4X0hh69O_upt9$H',#48,'M_Fixed:_1400x2200mm:350514',$,'_1400x2200mm',#65406,#1676,'350514',2200.,1400.), #1707=IfcWindow('3Q87Kkn4X0hh69O_upt9$K',#48,'M_Fixed:_1400x2200mm:350519',$,'_1400x2200mm',#65380,#1699,'350519',2200.,1400.), #1730=IfcWindow('3Q87Kkn4X0hh69O_upt9$V',#48,'M_Fixed:_1400x2200mm:350524',$,'_1400x2200mm',#65354,#1722,'350524',2200.,1400.), #1997=IfcWindow('3Q87Kkn4X0hh69O_upt9Xn',#48,'M_Fixed:_800x750mm:351890',$,'_800x750mm',#65138,#1989,'351890',749.999999999999,800.000000000001), #2132=IfcWindow('3Q87Kkn4X0hh69O_uptAGQ',#48,'M_Fixed:_1100x700mm:353017',$,'_1100x700mm',#65112,#2124,'353017',699.999999999998,1100.), #2267=IfcWindow('3Q87Kkn4X0hh69O_uptA4j',#48,'M_Fixed:_800x700mm:354254',$,'_800x700mm',#65164,#2259,'354254',699.999999999998,800.000000000001), #2503=IfcWindow('3Q87Kkn4X0hh69O_uptAY6',#48,'M_Fixed:_800x750mm:355941',$,'_800x750mm',#65192,#2495,'355941',749.999999999999,800.000000000001), #2637=IfcWindow('3Q87Kkn4X0hh69O_uptAY5',#48,'M_Fixed:_1100x700mm:355942',$,'_1100x700mm',#65220,#2629,'355942',699.999999999998,1100.), #2771=IfcWindow('3Q87Kkn4X0hh69O_uptAY4',#48,'M_Fixed:_800x700mm:355943',$,'_800x700mm',#65248,#2763,'355943',699.999999999998,800.000000000001), #2905=IfcWindow('3Q87Kkn4X0hh69O_uptBUe',#48,'M_Fixed:_800x1000mm:356683',$,'_800x1000mm',#65614,#2897,'356683',999.999999999997,800.000000000001), #2930=IfcWindow('3Q87Kkn4X0hh69O_uptBNc',#48,'M_Fixed:_800x1000mm:357125',$,'_800x1000mm',#65640,#2922,'357125',999.999999999997,800.000000000001), #3063=IfcWindow('3Q87Kkn4X0hh69O_uptBNo',#48,'M_Fixed:_1400x1000mm:357137',$,'_1400x1000mm',#65666,#3055,'357137',999.999999999997,1400.), #3198=IfcWindow('3Q87Kkn4X0hh69O_uptBK9',#48,'M_Fixed:_800x2000mm:357354',$,'_800x2000mm',#65274,#3190,'357354',2000.,800.), #59611=IfcWindow('1x1Hp_6Db1KwZy5IwzDd35',#48,'M_Window-Casement-Double:_1400x1000mm:385488',$,'_1400x1000mm',#65802,#59603,'385488',1000.,1400.), #60551=IfcWindow('1x1Hp_6Db1KwZy5IwzDd9q',#48,'M_Window-Casement-Double:_1400x1000mm:385889',$,'_1400x1000mm',#65828,#60543,'385889',1000.,1400.), #60783=IfcWindow('1x1Hp_6Db1KwZy5IwzDd9g',#48,'M_Window-Casement-Double:_1400x1000mm:385919',$,'_1400x1000mm',#65856,#60775,'385919',1000.,1400.), #60854=IfcWindow('1x1Hp_6Db1KwZy5IwzDdAN',#48,'M_Window-Casement-Double:_1400x1000mm:385922',$,'_1400x1000mm',#65882,#60846,'385922',1000.,1400.)]\n"
     ]
    }
   ],
   "source": [
    "# Ao descomentar (removendo o '#') a linha abaixo, você vê o conteúdo da variável windows\n",
    "\n",
    "print(windows)"
   ]
  },
  {
   "cell_type": "code",
   "execution_count": 71,
   "metadata": {},
   "outputs": [
    {
     "name": "stdout",
     "output_type": "stream",
     "text": [
      "O nome dos elementos do elemento (window) é: M_Fixed:_1400x2200mm:348960\n",
      "O nome dos elementos do elemento (window) é: M_Fixed:_1400x2200mm:350239\n",
      "O nome dos elementos do elemento (window) é: M_Fixed:_1400x2200mm:350479\n",
      "O nome dos elementos do elemento (window) é: M_Fixed:_1400x2200mm:350484\n",
      "O nome dos elementos do elemento (window) é: M_Fixed:_1400x2200mm:350489\n",
      "O nome dos elementos do elemento (window) é: M_Fixed:_1400x2200mm:350494\n",
      "O nome dos elementos do elemento (window) é: M_Fixed:_1400x2200mm:350499\n",
      "O nome dos elementos do elemento (window) é: M_Fixed:_1400x2200mm:350504\n",
      "O nome dos elementos do elemento (window) é: M_Fixed:_1400x2200mm:350509\n",
      "O nome dos elementos do elemento (window) é: M_Fixed:_1400x2200mm:350514\n",
      "O nome dos elementos do elemento (window) é: M_Fixed:_1400x2200mm:350519\n",
      "O nome dos elementos do elemento (window) é: M_Fixed:_1400x2200mm:350524\n",
      "O nome dos elementos do elemento (window) é: M_Fixed:_800x750mm:351890\n",
      "O nome dos elementos do elemento (window) é: M_Fixed:_1100x700mm:353017\n",
      "O nome dos elementos do elemento (window) é: M_Fixed:_800x700mm:354254\n",
      "O nome dos elementos do elemento (window) é: M_Fixed:_800x750mm:355941\n",
      "O nome dos elementos do elemento (window) é: M_Fixed:_1100x700mm:355942\n",
      "O nome dos elementos do elemento (window) é: M_Fixed:_800x700mm:355943\n",
      "O nome dos elementos do elemento (window) é: M_Fixed:_800x1000mm:356683\n",
      "O nome dos elementos do elemento (window) é: M_Fixed:_800x1000mm:357125\n",
      "O nome dos elementos do elemento (window) é: M_Fixed:_1400x1000mm:357137\n",
      "O nome dos elementos do elemento (window) é: M_Fixed:_800x2000mm:357354\n",
      "O nome dos elementos do elemento (window) é: M_Window-Casement-Double:_1400x1000mm:385488\n",
      "O nome dos elementos do elemento (window) é: M_Window-Casement-Double:_1400x1000mm:385889\n",
      "O nome dos elementos do elemento (window) é: M_Window-Casement-Double:_1400x1000mm:385919\n",
      "O nome dos elementos do elemento (window) é: M_Window-Casement-Double:_1400x1000mm:385922\n"
     ]
    }
   ],
   "source": [
    "# Aqui está o loop for e sua sintaxe. Observe o recuo\n",
    "\n",
    "for window in windows: \n",
    "    print(\"O nome dos elementos do elemento (window) é: \"+window.Name)"
   ]
  },
  {
   "cell_type": "markdown",
   "metadata": {},
   "source": [
    "# Funções\n",
    "\n",
    "Funções são uma forma útil de dividir seu código em blocos de código, que só são executados quando são chamados. Também é uma boa maneira de compartilhar um pequeno trecho de código com outras pessoas.\n",
    "\n",
    "Uma função é definida pela instrução especial ```def```. \n",
    "\n",
    "\n",
    "\n",
    "## Definindo uma função"
   ]
  },
  {
   "cell_type": "code",
   "execution_count": 72,
   "metadata": {},
   "outputs": [],
   "source": [
    "# definindo uma função\n",
    "\n",
    "def myDefinedFunction():\n",
    "    print(\"Esta é uma declaração de impressão dentro da minha função\")"
   ]
  },
  {
   "cell_type": "markdown",
   "metadata": {},
   "source": [
    "Observe que a função usa o mesmo estilo de recuo das instruções If e loops conforme explicado acima. Uma função também pode conter todos os conceitos que vimos acima.\n",
    "\n",
    "Observe, entretanto, que algo aconteceu acima. É por isso que não chamamos a função. No entanto, está armazenado, para que possamos chamá-lo abaixo.\n",
    "\n",
    "\n",
    "## Chamando/usando uma função\n"
   ]
  },
  {
   "cell_type": "code",
   "execution_count": 73,
   "metadata": {},
   "outputs": [
    {
     "name": "stdout",
     "output_type": "stream",
     "text": [
      "Esta é uma declaração de impressão dentro da minha função\n"
     ]
    }
   ],
   "source": [
    "# chamando a função criada acima\n",
    "\n",
    "myDefinedFunction()"
   ]
  },
  {
   "cell_type": "markdown",
   "metadata": {},
   "source": [
    "## Variáveis de entrada para funções\n",
    "\n",
    "Também podemos construir funções que recebem variáveis de entrada que podem ser usadas na função. Vamos definir uma função que recebe uma variável de string e a imprime."
   ]
  },
  {
   "cell_type": "code",
   "execution_count": 74,
   "metadata": {},
   "outputs": [],
   "source": [
    "# Uma definição de função que leva em um parâmetro chamado \"string\"\n",
    "\n",
    "def myDefinedFunction2(string):\n",
    "    print(f\"Minha variável é {string}\")"
   ]
  },
  {
   "cell_type": "code",
   "execution_count": 75,
   "metadata": {},
   "outputs": [
    {
     "name": "stdout",
     "output_type": "stream",
     "text": [
      "Minha variável é ifcopenshell é legal!\n"
     ]
    }
   ],
   "source": [
    "# Uma chamada para myDefinedFunction2 com a variável de string \"Hello again!\"\n",
    "\n",
    "myDefinedFunction2(\"ifcopenshell é legal!\")"
   ]
  },
  {
   "cell_type": "code",
   "execution_count": 76,
   "metadata": {},
   "outputs": [
    {
     "name": "stdout",
     "output_type": "stream",
     "text": [
      "Minha variável é ifcopenshell é legal e muito poderoso.\n"
     ]
    }
   ],
   "source": [
    "# Uma nova chamada para myDefinedFunction2 com a string \"e novamente e novamente\"\n",
    "\n",
    "myDefinedFunction2(\"ifcopenshell é legal e muito poderoso.\")"
   ]
  },
  {
   "cell_type": "markdown",
   "metadata": {},
   "source": [
    "## Variáveis de entrada e tipo assumido\n",
    "\n",
    "O que aconteceria se chamarmos myDefinedFunction2 com um número, em vez de uma string? Experimente abaixo."
   ]
  },
  {
   "cell_type": "code",
   "execution_count": 77,
   "metadata": {},
   "outputs": [
    {
     "name": "stdout",
     "output_type": "stream",
     "text": [
      "Minha variável é 10\n"
     ]
    }
   ],
   "source": [
    "string = 10\n",
    "\n",
    "myDefinedFunction2(string)"
   ]
  },
  {
   "cell_type": "markdown",
   "metadata": {},
   "source": [
    "# :)\n",
    "\n",
    "Python também é legal e muito poderoso."
   ]
  },
  {
   "cell_type": "markdown",
   "metadata": {},
   "source": [
    "## Exercício 5 - certifique-se de que uma função funciona conforme o planejado\n",
    "\n",
    "Você pode passar quantas variáveis quiser para uma função, apenas separe-as com uma vírgula, como fazemos com var1 e var 2 abaixo. Eles podem ser qualquer objeto que você quiser.\n",
    "\n",
    "A seguir, queremos criar uma função que receba duas variáveis, var1 e var2. Se ambos forem strings, queremos apenas concatená-los e imprimi-los. Se não forem strings, queremos apenas adicioná-los a uma lista e imprimir\n",
    "\n",
    "**Algumas dicas**\n",
    "\n",
    "* você pode verificar se uma variável ```a``` é uma string usando ``` isinstance (a, str) ```\n",
    "* Se você quiser que duas condições sejam True para passar, você pode usar o operador ```e```\n",
    "\n",
    "**A saída correta:**\n",
    "\n",
    "```\n",
    "Hello, World!\n",
    "['hello', 4]\n",
    "```"
   ]
  },
  {
   "cell_type": "code",
   "execution_count": 79,
   "metadata": {},
   "outputs": [
    {
     "name": "stdout",
     "output_type": "stream",
     "text": [
      "Olá, Renato\n",
      "['BIM', 10]\n"
     ]
    }
   ],
   "source": [
    "def myFunc3(var1,var2):\n",
    "    # Preencha o código para completar o desafio\n",
    "    \n",
    "    if isinstance(var1, str) and isinstance(var2, str):\n",
    "    #if type(var1) == str and type(var2) == str:           # pode ser escrito assim também\n",
    "        print(var1 + var2)\n",
    "    else:\n",
    "        list = []\n",
    "        list.append(var1)\n",
    "        list.append(var2)\n",
    "        print(list)\n",
    "\n",
    "#Não mude o código abaixo\n",
    "\n",
    "myFunc3(\"Olá, \",\"Renato\")\n",
    "myFunc3(\"BIM\",10)"
   ]
  },
  {
   "cell_type": "markdown",
   "metadata": {},
   "source": [
    "## Listas e tuplas como variáveis de entrada\n",
    "\n",
    "\n",
    "Também podemos adicionar listas e tuplas como variáveis de entrada para funções."
   ]
  },
  {
   "cell_type": "code",
   "execution_count": 80,
   "metadata": {},
   "outputs": [],
   "source": [
    "def myFunc4(myList):\n",
    "    for elem in myList:\n",
    "        print(elem)"
   ]
  },
  {
   "cell_type": "code",
   "execution_count": 81,
   "metadata": {},
   "outputs": [
    {
     "name": "stdout",
     "output_type": "stream",
     "text": [
      "1\n",
      "2\n",
      "3\n"
     ]
    }
   ],
   "source": [
    "# defina uma lista \n",
    "\n",
    "aList = [1, 2, 3]\n",
    "\n",
    "# Envie-o como variável de entrada para myFunc4\n",
    "\n",
    "myFunc4(aList)"
   ]
  },
  {
   "cell_type": "code",
   "execution_count": 82,
   "metadata": {},
   "outputs": [
    {
     "name": "stdout",
     "output_type": "stream",
     "text": [
      "4\n",
      "5\n",
      "6\n"
     ]
    }
   ],
   "source": [
    "# defina uma tupla\n",
    "\n",
    "aTuple = (4, 5, 6)\n",
    "\n",
    "# Envie-o como variável de entrada para myFunc4\n",
    "myFunc4(aTuple)"
   ]
  },
  {
   "cell_type": "markdown",
   "metadata": {},
   "source": [
    "### O que acontecerá se você passar uma string em vez de uma lista?\n",
    "\n",
    "Tente a seguir chamar a função acima passando um valor de string como, por exemplo. ```myFunc 4 (\" seu nome \")```\n",
    "\n",
    "O que você acha que acontecerá?"
   ]
  },
  {
   "cell_type": "code",
   "execution_count": 83,
   "metadata": {},
   "outputs": [
    {
     "name": "stdout",
     "output_type": "stream",
     "text": [
      "R\n",
      "e\n",
      "n\n",
      "a\n",
      "t\n",
      "o\n",
      " \n",
      "C\n",
      "r\n",
      "u\n",
      "z\n"
     ]
    }
   ],
   "source": [
    "### Faça o teste aqui ###\n",
    "\n",
    "myFunc4(\"Renato Cruz\")"
   ]
  },
  {
   "cell_type": "markdown",
   "metadata": {},
   "source": [
    "## As funções retornam valores\n",
    "\n",
    "Uma boa maneira de usar funções é fazer com que executem alguma lógica nas variáveis de entrada e retornem o resultado. \n",
    "\n",
    "Para isso, você usa a instrução ```return```."
   ]
  },
  {
   "cell_type": "code",
   "execution_count": 84,
   "metadata": {},
   "outputs": [
    {
     "name": "stdout",
     "output_type": "stream",
     "text": [
      "54\n"
     ]
    }
   ],
   "source": [
    "# define uma função que recebe uma lista de itens como parâmetro,\n",
    "# faz um loop e adiciona todos os inteiros, e então retorna o valor resultante\n",
    "\n",
    "def myFunc5(myList):\n",
    "    tmp = 0                      # Definido fora do loop for para poder retorná-lo fora do escopo do loop\n",
    "    for elem in myList:\n",
    "        if isinstance(elem, int):\n",
    "            tmp = tmp + elem\n",
    "    return tmp\n",
    "\n",
    "aList = [\"string\", 10, 10, 30, 4, \"stuff\"]\n",
    "print(myFunc5(aList))"
   ]
  },
  {
   "cell_type": "markdown",
   "metadata": {},
   "source": [
    "## Exercise 6 - Names and Descriptions of Window objects. \n",
    "\n",
    "Many times one would get an ifc model where one want to change or restructure information in the file. That is tediouse work on big models, so one may want to script it. In addition it would be a good code block to have, regardless of object type. \n",
    "\n",
    "In IFC the name and description is something all objects *inherrit* from IfcRoot, and cosequently they all have the following attributes ([ref. Ifc documentation](https://standards.buildingsmart.org/IFC/RELEASE/IFC2x3/FINAL/HTML/)): \n",
    "\n",
    ">* GlobalId\t : \tAssignment of a globally unique identifier within the entire software world.\n",
    ">* OwnerHistory\t : \tAssignment of the information about the current ownership of that object, including owning actor, >application, local identification and information captured about the recent changes of the object, NOTE: only the >last modification in stored.\n",
    ">* Name\t : \tOptional name for use by the participating software systems or users. For some subtypes of IfcRoot the >insertion of the Name attribute may be required. This would be enforced by a where rule.\n",
    ">* Description\t : \tOptional description, provided for exchanging informative comments.\n",
    "\n",
    "So, it might be a good idea to package code into functions. That way we could share it and reuse the code regardless of which element we want to change the name and description on. \n",
    "\n",
    "The first challenge is to create a function that takes in a IfcWindow (or another Ifc object), get the Name and store that in the Description property of the object. Then, add an input variable that *if set* will be given as a Name to the window or it will store a blank string as the Name. \n",
    "\n",
    "The second challenge is to write code to print out the names and descriptions (before and after) to confirm your result. \n",
    "\n",
    "\n",
    "** Some hints:** \n",
    "* Python functions could have input variables that have default variables eg. def func (var1,var2 =\"\"):.\n",
    "* Look above to find code that enables you to import the ifcopenshell code library, that have code that enables you to work with teh IFC file.\n",
    "* Look above, or eg. in [academy.ifcopenshell.org](http://academy.ifcopenshell.org), to find code in the ifcopenshell library that could store a reference to an IFC model in a variable and another function that lets you query that file for all IfcWindow objects you might want to find in that model. \n",
    "* You can set the ```Name```variable of a window object that is store in a variable called \"window\" by ```window.Name = \"the name you want to set\"````\n",
    "\n"
   ]
  },
  {
   "cell_type": "code",
   "execution_count": 1,
   "metadata": {},
   "outputs": [],
   "source": [
    "### Add your code here ### \n",
    "\n",
    "# Importing package and accessing IFC file\n",
    "\n",
    "import ifcopenshell \n",
    "file = ifcopenshell.open(\"Grethes-hus-bok-2.ifc\")"
   ]
  },
  {
   "cell_type": "code",
   "execution_count": 3,
   "metadata": {},
   "outputs": [
    {
     "name": "stdout",
     "output_type": "stream",
     "text": [
      "26\n"
     ]
    }
   ],
   "source": [
    "# We query the file for its number of IfcWindow type elements\n",
    "\n",
    "windows = file.by_type(\"IfcWindow\")\n",
    "\n",
    "print(len(windows))"
   ]
  },
  {
   "cell_type": "code",
   "execution_count": 4,
   "metadata": {},
   "outputs": [
    {
     "name": "stdout",
     "output_type": "stream",
     "text": [
      "#1475=IfcWindow('3Q87Kkn4X0hh69O_upt9N3',#48,'M_Fixed:_1400x2200mm:348960',$,'_1400x2200mm',#65302,#1467,'348960',2200.,1400.)\n",
      "#1500=IfcWindow('3Q87Kkn4X0hh69O_upt9xy',#48,'M_Fixed:_1400x2200mm:350239',$,'_1400x2200mm',#65328,#1492,'350239',2200.,1400.)\n",
      "#1523=IfcWindow('3Q87Kkn4X0hh69O_upt9$i',#48,'M_Fixed:_1400x2200mm:350479',$,'_1400x2200mm',#65588,#1515,'350479',2200.,1400.)\n",
      "#1546=IfcWindow('3Q87Kkn4X0hh69O_upt9$t',#48,'M_Fixed:_1400x2200mm:350484',$,'_1400x2200mm',#65562,#1538,'350484',2200.,1400.)\n",
      "#1569=IfcWindow('3Q87Kkn4X0hh69O_upt9$w',#48,'M_Fixed:_1400x2200mm:350489',$,'_1400x2200mm',#65536,#1561,'350489',2200.,1400.)\n",
      "#1592=IfcWindow('3Q87Kkn4X0hh69O_upt9$z',#48,'M_Fixed:_1400x2200mm:350494',$,'_1400x2200mm',#65510,#1584,'350494',2200.,1400.)\n",
      "#1615=IfcWindow('3Q87Kkn4X0hh69O_upt9$0',#48,'M_Fixed:_1400x2200mm:350499',$,'_1400x2200mm',#65484,#1607,'350499',2200.,1400.)\n",
      "#1638=IfcWindow('3Q87Kkn4X0hh69O_upt9$B',#48,'M_Fixed:_1400x2200mm:350504',$,'_1400x2200mm',#65458,#1630,'350504',2200.,1400.)\n",
      "#1661=IfcWindow('3Q87Kkn4X0hh69O_upt9$E',#48,'M_Fixed:_1400x2200mm:350509',$,'_1400x2200mm',#65432,#1653,'350509',2200.,1400.)\n",
      "#1684=IfcWindow('3Q87Kkn4X0hh69O_upt9$H',#48,'M_Fixed:_1400x2200mm:350514',$,'_1400x2200mm',#65406,#1676,'350514',2200.,1400.)\n",
      "#1707=IfcWindow('3Q87Kkn4X0hh69O_upt9$K',#48,'M_Fixed:_1400x2200mm:350519',$,'_1400x2200mm',#65380,#1699,'350519',2200.,1400.)\n",
      "#1730=IfcWindow('3Q87Kkn4X0hh69O_upt9$V',#48,'M_Fixed:_1400x2200mm:350524',$,'_1400x2200mm',#65354,#1722,'350524',2200.,1400.)\n",
      "#1997=IfcWindow('3Q87Kkn4X0hh69O_upt9Xn',#48,'M_Fixed:_800x750mm:351890',$,'_800x750mm',#65138,#1989,'351890',749.999999999999,800.000000000001)\n",
      "#2132=IfcWindow('3Q87Kkn4X0hh69O_uptAGQ',#48,'M_Fixed:_1100x700mm:353017',$,'_1100x700mm',#65112,#2124,'353017',699.999999999998,1100.)\n",
      "#2267=IfcWindow('3Q87Kkn4X0hh69O_uptA4j',#48,'M_Fixed:_800x700mm:354254',$,'_800x700mm',#65164,#2259,'354254',699.999999999998,800.000000000001)\n",
      "#2503=IfcWindow('3Q87Kkn4X0hh69O_uptAY6',#48,'M_Fixed:_800x750mm:355941',$,'_800x750mm',#65192,#2495,'355941',749.999999999999,800.000000000001)\n",
      "#2637=IfcWindow('3Q87Kkn4X0hh69O_uptAY5',#48,'M_Fixed:_1100x700mm:355942',$,'_1100x700mm',#65220,#2629,'355942',699.999999999998,1100.)\n",
      "#2771=IfcWindow('3Q87Kkn4X0hh69O_uptAY4',#48,'M_Fixed:_800x700mm:355943',$,'_800x700mm',#65248,#2763,'355943',699.999999999998,800.000000000001)\n",
      "#2905=IfcWindow('3Q87Kkn4X0hh69O_uptBUe',#48,'M_Fixed:_800x1000mm:356683',$,'_800x1000mm',#65614,#2897,'356683',999.999999999997,800.000000000001)\n",
      "#2930=IfcWindow('3Q87Kkn4X0hh69O_uptBNc',#48,'M_Fixed:_800x1000mm:357125',$,'_800x1000mm',#65640,#2922,'357125',999.999999999997,800.000000000001)\n",
      "#3063=IfcWindow('3Q87Kkn4X0hh69O_uptBNo',#48,'M_Fixed:_1400x1000mm:357137',$,'_1400x1000mm',#65666,#3055,'357137',999.999999999997,1400.)\n",
      "#3198=IfcWindow('3Q87Kkn4X0hh69O_uptBK9',#48,'M_Fixed:_800x2000mm:357354',$,'_800x2000mm',#65274,#3190,'357354',2000.,800.)\n",
      "#59611=IfcWindow('1x1Hp_6Db1KwZy5IwzDd35',#48,'M_Window-Casement-Double:_1400x1000mm:385488',$,'_1400x1000mm',#65802,#59603,'385488',1000.,1400.)\n",
      "#60551=IfcWindow('1x1Hp_6Db1KwZy5IwzDd9q',#48,'M_Window-Casement-Double:_1400x1000mm:385889',$,'_1400x1000mm',#65828,#60543,'385889',1000.,1400.)\n",
      "#60783=IfcWindow('1x1Hp_6Db1KwZy5IwzDd9g',#48,'M_Window-Casement-Double:_1400x1000mm:385919',$,'_1400x1000mm',#65856,#60775,'385919',1000.,1400.)\n",
      "#60854=IfcWindow('1x1Hp_6Db1KwZy5IwzDdAN',#48,'M_Window-Casement-Double:_1400x1000mm:385922',$,'_1400x1000mm',#65882,#60846,'385922',1000.,1400.)\n"
     ]
    }
   ],
   "source": [
    "# Printing windows\n",
    "\n",
    "for window in windows:\n",
    "    print(window)"
   ]
  },
  {
   "cell_type": "code",
   "execution_count": 5,
   "metadata": {},
   "outputs": [],
   "source": [
    "# Function to update the name of the windows\n",
    "\n",
    "def UpdateWindowName(window, newName = \"\"):\n",
    "    print(\"####################\")\n",
    "    print(\"Before:\")\n",
    "    print(f\"Name: {window.Name}\")\n",
    "    print(\"Description: {window.Description}\")\n",
    "    window.Description = window.Name\n",
    "    window.Name = newName\n",
    "    print(\"- - - - - - - -\")\n",
    "    print(\"After:\")\n",
    "    print(\"Name: {window.Name}\")\n",
    "    print(\"Description: {window.Description}\")"
   ]
  },
  {
   "cell_type": "code",
   "execution_count": 6,
   "metadata": {},
   "outputs": [
    {
     "name": "stdout",
     "output_type": "stream",
     "text": [
      "####################\n",
      "Before:\n",
      "Name: M_Fixed:_1400x2200mm:348960\n",
      "Description: {window.Description}\n",
      "- - - - - - - -\n",
      "After:\n",
      "Name: {window.Name}\n",
      "Description: {window.Description}\n",
      "####################\n",
      "Before:\n",
      "Name: M_Fixed:_1400x2200mm:350239\n",
      "Description: {window.Description}\n",
      "- - - - - - - -\n",
      "After:\n",
      "Name: {window.Name}\n",
      "Description: {window.Description}\n"
     ]
    }
   ],
   "source": [
    "# Calling the function to perform the name change operation\n",
    "\n",
    "UpdateWindowName(windows[0])\n",
    "UpdateWindowName(windows[1], \"UpdatedName window\")"
   ]
  },
  {
   "cell_type": "markdown",
   "metadata": {},
   "source": [
    "# Classes and Objects\n",
    "\n",
    "We have already worked alot with objects, some window objects, some string objects, and even some list objects. So, what is objects and where do they come from? Objects are an encapsulation of variables and functions into a single entity. Objects get their variables and functions from classes. Classes are essentially a template to create your objects. \n",
    "\n",
    "When functions are code blocks that could be shared and reused, classes and objects are even bigger blocks of reusable code. For the IfcWindow example above, it has a class that defines what the variables and functions the window objects of that class has. The documentation of what capabilities the IfcWindow class should have is defined by the Ifc documentation for IfcWindow. You could also have documentation of how that class is defined/implemented in the particular programming language. \n",
    "\n",
    "A very basic class would look something like this:\n",
    "\n",
    "```Python\n",
    "class MyWindowClass:\n",
    "    nameVariable = \"Window\"\n",
    "\n",
    "    def namePrint(self):\n",
    "        print(\"My Name is \"+self.nameVariable)\n",
    "```\n",
    "## Defining a Class\n",
    "Lets define a Window Class"
   ]
  },
  {
   "cell_type": "code",
   "execution_count": 7,
   "metadata": {},
   "outputs": [],
   "source": [
    "## Defines a Window Class\n",
    "class MyWindowClass:\n",
    "    nameVariable = \"Window\"\n",
    "\n",
    "    def namePrint(self):\n",
    "        print(\"My Name is \"+self.nameVariable)"
   ]
  },
  {
   "cell_type": "markdown",
   "metadata": {},
   "source": [
    "## Creating objects from class definitions\n",
    "When you have defined a class, you could create several objects based on it. "
   ]
  },
  {
   "cell_type": "code",
   "execution_count": 21,
   "metadata": {},
   "outputs": [],
   "source": [
    "## Defines two different objects based on the MyWindowClass \n",
    "window1 = MyWindowClass()\n",
    "window2 = MyWindowClass()"
   ]
  },
  {
   "cell_type": "markdown",
   "metadata": {},
   "source": [
    "## Accessing Object variables and functions\n",
    "Now the window1 and window2 objects have both a nameVariable and namePrint function each. As we have seen above, we access its variables (attributes) by the \".\" operator. "
   ]
  },
  {
   "cell_type": "code",
   "execution_count": 22,
   "metadata": {},
   "outputs": [
    {
     "data": {
      "text/plain": [
       "'Window'"
      ]
     },
     "execution_count": 22,
     "metadata": {},
     "output_type": "execute_result"
    }
   ],
   "source": [
    "# Get the nameVariable of window1\n",
    "\n",
    "window1.nameVariable"
   ]
  },
  {
   "cell_type": "markdown",
   "metadata": {},
   "source": [
    "### MiniExercise: Do the same for window2 below"
   ]
  },
  {
   "cell_type": "code",
   "execution_count": 23,
   "metadata": {},
   "outputs": [
    {
     "data": {
      "text/plain": [
       "'Window'"
      ]
     },
     "execution_count": 23,
     "metadata": {},
     "output_type": "execute_result"
    }
   ],
   "source": [
    "### Get the the name variable of window2\n",
    "\n",
    "window2.nameVariable"
   ]
  },
  {
   "cell_type": "markdown",
   "metadata": {},
   "source": [
    "## Exercise 7 - Setting object variables\n",
    "Both windows have the same name. Use what you know from above to set the name of window1 and window2 to something proper. "
   ]
  },
  {
   "cell_type": "code",
   "execution_count": 24,
   "metadata": {},
   "outputs": [],
   "source": [
    "### Solve Exercise 7 here:\n",
    "\n",
    "window1.nameVariable = \"Window 1\"\n",
    "window2.nameVariable = \"Window 2\""
   ]
  },
  {
   "cell_type": "markdown",
   "metadata": {},
   "source": [
    "## Exercise 8 - Accessing object functions\n",
    "In the MyWindowClass definition we have a function to print out the name. Show below how this function can be accessed on both window1 and window2."
   ]
  },
  {
   "cell_type": "code",
   "execution_count": 25,
   "metadata": {},
   "outputs": [
    {
     "name": "stdout",
     "output_type": "stream",
     "text": [
      "My Name is Window 1\n",
      "My Name is Window 2\n"
     ]
    }
   ],
   "source": [
    "### Solve Exercise 8 here: \n",
    "\n",
    "window1.namePrint()\n",
    "window2.namePrint()"
   ]
  },
  {
   "cell_type": "markdown",
   "metadata": {},
   "source": [
    "# Modules and Packages\n",
    "In programming, a module is a piece of software that has a specific functionality. For example, when building a ping pong game, one module could be responsible for the game logic, and another module could be responsible for drawing the game on the screen. Each module is a different file, which can be edited separately.\n",
    "\n",
    "Modules in Python are simply Python files with a .py extension. The name of the module will be the name of the file. A Python module can have a set of functions, classes or variables defined and implemented.\n",
    "\n",
    "You might have seen the ```ifc_viewer.py``` file in the folders? That is a module, and particularly a module that enables viewing of models in jupyter notebooks. So, how do one use that? "
   ]
  },
  {
   "cell_type": "markdown",
   "metadata": {},
   "source": [
    "## Using Modules in other programs\n",
    "Modules could be used in other programs by using the special ```import```statement. Eg. to import all of it use ```import ifc_viewer```would do the trick. \n",
    "\n",
    "However, the module may define several classes, variables and functions. What if we only wanted to import the ```ifc_viewer``` class in the ```ifc_viewer```module? Then we do like bewlow. "
   ]
  },
  {
   "cell_type": "code",
   "execution_count": 28,
   "metadata": {},
   "outputs": [],
   "source": [
    "# Import the ifc_viewer class of ifc_viewer module\n",
    "\n",
    "from ifc_viewer import ifc_viewer"
   ]
  },
  {
   "cell_type": "markdown",
   "metadata": {},
   "source": [
    "## Using Packages and Modules in another program\n",
    "\n",
    "Another package we already have used is the **ifcopenshell**. Packages are namespaces which contain multiple packages and modules themselves. They are simply directories, but with a twist.\n",
    "\n",
    "Each package in Python is a directory which MUST contain a special file called __init__.py. This file can be empty, and it indicates that the directory it contains is a Python package, so it can be imported the same way a module can be imported ([ref. learnpython.org](https://www.learnpython.org/en/Modules_and_Packages)).\n",
    "\n",
    "We have already imported ifcopenshell. But we could also import specific parts of it. Lets combine it to visualize the windows of the Grethes Hus model. "
   ]
  },
  {
   "cell_type": "code",
   "execution_count": 1,
   "metadata": {},
   "outputs": [],
   "source": [
    "import ifcopenshell \n",
    "import ifcopenshell.geom\n",
    "from ifc_viewer import ifc_viewer"
   ]
  },
  {
   "cell_type": "code",
   "execution_count": 2,
   "metadata": {},
   "outputs": [],
   "source": [
    "# Storing the model in a file variable, and giving the path to the file as input.\n",
    "\n",
    "file = ifcopenshell.open(f\"Grethes-hus-bok-2.ifc\")"
   ]
  },
  {
   "cell_type": "code",
   "execution_count": 3,
   "metadata": {},
   "outputs": [],
   "source": [
    "# Storing all windows of the file by ising the by_type function of the file class \n",
    "\n",
    "windows = file.by_type(\"IfcWindow\")"
   ]
  },
  {
   "cell_type": "code",
   "execution_count": 4,
   "metadata": {},
   "outputs": [],
   "source": [
    "# Setting the geometry settings. \n",
    "\n",
    "s = ifcopenshell.geom.settings()\n",
    "s.set(s.USE_PYTHON_OPENCASCADE, True)"
   ]
  },
  {
   "cell_type": "code",
   "execution_count": 5,
   "metadata": {},
   "outputs": [],
   "source": [
    "# Instansiationg a viewer object from the ifc_viewer class\n",
    "\n",
    "viewer = ifc_viewer()"
   ]
  },
  {
   "cell_type": "code",
   "execution_count": 6,
   "metadata": {},
   "outputs": [
    {
     "data": {
      "application/vnd.jupyter.widget-view+json": {
       "model_id": "ba9ccc3edd8042669589657e2cf5ac3b",
       "version_major": 2,
       "version_minor": 0
      },
      "text/plain": [
       "HBox(children=(VBox(children=(HBox(children=(Checkbox(value=True, description='Axes', layout=Layout(height='au…"
      ]
     },
     "metadata": {},
     "output_type": "display_data"
    }
   ],
   "source": [
    "# Running through all window elements and create a shape and add it to the viewer for displaying.\n",
    "\n",
    "for window in windows:\n",
    "    shape = ifcopenshell.geom.create_shape(s, window)\n",
    "    viewer.DisplayShape(window, shape.geometry, shape.styles)\n",
    "\n",
    "viewer.Display()"
   ]
  },
  {
   "cell_type": "code",
   "execution_count": 8,
   "metadata": {},
   "outputs": [],
   "source": [
    "# Storing all wall of the file by ising the by_type function of the file class \n",
    "\n",
    "walls = file.by_type(\"IfcWall\")"
   ]
  },
  {
   "cell_type": "code",
   "execution_count": 9,
   "metadata": {},
   "outputs": [
    {
     "data": {
      "application/vnd.jupyter.widget-view+json": {
       "model_id": "f20c3a55772b49688a7f915565fa3a40",
       "version_major": 2,
       "version_minor": 0
      },
      "text/plain": [
       "HBox(children=(VBox(children=(HBox(children=(Checkbox(value=True, description='Axes', layout=Layout(height='au…"
      ]
     },
     "metadata": {},
     "output_type": "display_data"
    }
   ],
   "source": [
    "# Running through all window elements and create a shape and add it to the viewer for displaying.\n",
    "\n",
    "for wall in walls:\n",
    "    shape = ifcopenshell.geom.create_shape(s, wall)\n",
    "    viewer.DisplayShape(wall, shape.geometry, shape.styles)\n",
    "\n",
    "viewer.Display()"
   ]
  },
  {
   "cell_type": "code",
   "execution_count": null,
   "metadata": {},
   "outputs": [],
   "source": []
  }
 ],
 "metadata": {
  "kernelspec": {
   "display_name": "Python 3",
   "language": "python",
   "name": "python3"
  },
  "language_info": {
   "codemirror_mode": {
    "name": "ipython",
    "version": 3
   },
   "file_extension": ".py",
   "mimetype": "text/x-python",
   "name": "python",
   "nbconvert_exporter": "python",
   "pygments_lexer": "ipython3",
   "version": "3.8.5"
  }
 },
 "nbformat": 4,
 "nbformat_minor": 2
}

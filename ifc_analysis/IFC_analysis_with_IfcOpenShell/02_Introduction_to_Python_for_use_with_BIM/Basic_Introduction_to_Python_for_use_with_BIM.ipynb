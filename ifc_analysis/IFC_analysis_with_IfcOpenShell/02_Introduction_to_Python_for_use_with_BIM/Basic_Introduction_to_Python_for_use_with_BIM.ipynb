{
 "cells": [
  {
   "cell_type": "markdown",
   "metadata": {},
   "source": [
    "# Introduction to Python 3 in jupyter notebook\n",
    "\n",
    "This is an introduction to the Python programming language for Programming with openBIM.\n",
    "\n",
    "\n",
    "This tutorial will walk through: \n",
    "\n",
    "- Hello jupyter, world and you\n",
    "- Variables and types\n",
    "- Basic String formatting\n",
    "- Collection types (Arrays)\n",
    "- Conditions and If statements\n",
    "- While Loops\n",
    "- For Loops\n",
    "- Functions\n",
    "- Classes and Objects\n",
    "- Modules and Packages\n",
    "\n",
    "\n",
    "in aplication openBIM programming course, we will use BIM models as part of the introduction. \n",
    "\n",
    "Arranged by [BIMFag](https://bimfag.no/). Material for a [basic course](https://github.com/bimfag/intro-python-bim) in python for use with BIM "
   ]
  },
  {
   "cell_type": "markdown",
   "metadata": {},
   "source": [
    "# Hello jupyter, world and you\n",
    "\n",
    "The [jupyter notebook](https://jupyter.org/) lets us define and edit both text cells and markdown (text) cells. This is used here to introduce the concepts along the way, and also provide code cells where commands could be tested and executed. \n",
    "\n",
    "We do it in cells, so eg. you could always create a new cell, edit or change. \n",
    "\n",
    "## Create a new cell, and write what you think about jupyter.\n",
    "Use the \"+\" button above to create a new cell under this one. "
   ]
  },
  {
   "cell_type": "code",
   "execution_count": 1,
   "metadata": {},
   "outputs": [],
   "source": [
    "### Change this cell from a Code cell to a Markdown cell, by using the roll down menu above. "
   ]
  },
  {
   "cell_type": "markdown",
   "metadata": {},
   "source": [
    "## Let the program tell something to a user\n",
    "\n",
    "The print statement is a powerfull directive in python and it enables a program to print out a result, eg. \"Hello, world\". Which prints a data type called a string to the screen. "
   ]
  },
  {
   "cell_type": "code",
   "execution_count": 7,
   "metadata": {},
   "outputs": [
    {
     "name": "stdout",
     "output_type": "stream",
     "text": [
      "Hello, Renato!\n"
     ]
    }
   ],
   "source": [
    "# Here we print the string \"Hello, world!\" to the screen. \n",
    "print(\"Hello, Renato!\")"
   ]
  },
  {
   "cell_type": "markdown",
   "metadata": {},
   "source": [
    "We will use the print statement several times in this course together with \"string formatting\". A typpical way of formatting a string is by appending another string to it, like \"Hello, \"+\"world\". "
   ]
  },
  {
   "cell_type": "code",
   "execution_count": 8,
   "metadata": {},
   "outputs": [
    {
     "name": "stdout",
     "output_type": "stream",
     "text": [
      "Hello, Renato Cruz!\n"
     ]
    }
   ],
   "source": [
    "# Here we append the two strings \"Hello, \" and \"world!\" to the screen.\n",
    "print(\"Hello, Renato\"+\" Cruz!\")"
   ]
  },
  {
   "cell_type": "markdown",
   "metadata": {},
   "source": [
    "## Let the program ask a user for input and show the result\n",
    "Since we want to say hello to you too, you could use the \"input()\" function to get user intput and store that in a variable, and print to screen."
   ]
  },
  {
   "cell_type": "code",
   "execution_count": 9,
   "metadata": {},
   "outputs": [
    {
     "name": "stdout",
     "output_type": "stream",
     "text": [
      "Write your name here: Renato\n",
      "Hello, Renato!\n"
     ]
    }
   ],
   "source": [
    "# Here we get the name from the user and store it in a variable called name, append that to another vairable as we print. \n",
    "x = input(\"Write your name here: \")\n",
    "y = \"Hello, \"\n",
    "print(f\"{y}{x}!\")"
   ]
  },
  {
   "cell_type": "markdown",
   "metadata": {},
   "source": [
    "# Variables and types \n",
    "\n",
    "Python is completely object oriented, and not \"statically typed\". In other programming languages, that is statically typed, you need to declare the variable and what type of data it holds, before using it. In Python you do not need to declare variables before using them, or declare their type. \n",
    "\n",
    "This is seen above where we just store the input into x and y that stores the string \"Hello, \" without first declaring them to hold data of string type first. Every variable in Python is an object, and we will go through some of the types here. "
   ]
  },
  {
   "cell_type": "markdown",
   "metadata": {},
   "source": [
    "## Numbers \n",
    "For this course two different number types are relevant, integer and floating point numbers. "
   ]
  },
  {
   "cell_type": "code",
   "execution_count": 5,
   "metadata": {},
   "outputs": [
    {
     "name": "stdout",
     "output_type": "stream",
     "text": [
      "9\n"
     ]
    }
   ],
   "source": [
    "# This is how you define an integer\n",
    "myInt = 9\n",
    "print(myInt)"
   ]
  },
  {
   "cell_type": "code",
   "execution_count": 6,
   "metadata": {},
   "outputs": [
    {
     "name": "stdout",
     "output_type": "stream",
     "text": [
      "9.0\n",
      "9.0\n",
      "9.0\n"
     ]
    }
   ],
   "source": [
    "# To define a floating point number you could use one of the following approaches\n",
    "myFloat1 = 9.0\n",
    "print(myFloat1)\n",
    "\n",
    "myFloat2 = float(9)\n",
    "print(myFloat2)\n",
    "\n",
    "myFloat3 = 9.\n",
    "print(myFloat3)"
   ]
  },
  {
   "cell_type": "markdown",
   "metadata": {},
   "source": [
    "One could aslo \"cast\" an integer into a float, like we do in the myFloat2=float(9). \n",
    "\n",
    "* An integer x can be cast into float by using float(x)\n",
    "* A float y can be cast into an integer by using int(y)\n",
    "* An integer x and a float y can both be cast into a string by respectively str(x) and str(y). "
   ]
  },
  {
   "cell_type": "code",
   "execution_count": 19,
   "metadata": {},
   "outputs": [
    {
     "name": "stdout",
     "output_type": "stream",
     "text": [
      "My Integer: 9. My Float: 9.0\n"
     ]
    }
   ],
   "source": [
    "# Here we first define an integer, and cast it into a float\n",
    "myInt = 9 \n",
    "myFloat = float(myInt)\n",
    "print(f\"My Integer: {myInt}. My Float: {myFloat}\")"
   ]
  },
  {
   "cell_type": "code",
   "execution_count": 22,
   "metadata": {},
   "outputs": [
    {
     "name": "stdout",
     "output_type": "stream",
     "text": [
      "My integer 9 is of the type <class 'str'>\n",
      "My float 9.0 is of the type <class 'str'>\n"
     ]
    }
   ],
   "source": [
    "# Here we cast myInt and myFloat (from above) into strings\n",
    "myIntegerString = str(myInt)\n",
    "print(f\"My integer {myIntegerString} is of the type {type(myIntegerString)}\") \n",
    "\n",
    "myFloatString= str(myFloat)\n",
    "print(f\"My float {myFloatString} is of the type {type(myFloatString)}\")"
   ]
  },
  {
   "cell_type": "markdown",
   "metadata": {},
   "source": [
    "## Strings \n",
    "Strings can be define by using single (') or double quoates(\"). The difference between the two is that using double quotes makes it easy to include apostrophes (whereas these would terminate the string if using single quotes)"
   ]
  },
  {
   "cell_type": "code",
   "execution_count": 23,
   "metadata": {},
   "outputs": [
    {
     "name": "stdout",
     "output_type": "stream",
     "text": [
      "Don't worry about apostrophes\n"
     ]
    }
   ],
   "source": [
    "myString = \"Don't worry about apostrophes\"\n",
    "print(myString)"
   ]
  },
  {
   "cell_type": "code",
   "execution_count": 24,
   "metadata": {},
   "outputs": [
    {
     "name": "stdout",
     "output_type": "stream",
     "text": [
      "Don't worry about apostrophes\n"
     ]
    }
   ],
   "source": [
    "escapedString = 'Don\\'t worry about apostrophes'\n",
    "print(escapedString)"
   ]
  },
  {
   "cell_type": "code",
   "execution_count": 25,
   "metadata": {},
   "outputs": [
    {
     "name": "stdout",
     "output_type": "stream",
     "text": [
      "abcdefgh\n",
      "c\n",
      "h\n"
     ]
    }
   ],
   "source": [
    "#Strings are just an array of characters\n",
    "myString = \"abcdefgh\"\n",
    "print(myString)\n",
    "\n",
    "third = myString[2]\n",
    "print(third)\n",
    "\n",
    "last = myString[-1]\n",
    "print(last)"
   ]
  },
  {
   "cell_type": "markdown",
   "metadata": {},
   "source": [
    "### MiniExcercise:\n",
    "Fetch the character \"d\" from myString and print it to screen"
   ]
  },
  {
   "cell_type": "code",
   "execution_count": 27,
   "metadata": {},
   "outputs": [
    {
     "name": "stdout",
     "output_type": "stream",
     "text": [
      "d\n"
     ]
    }
   ],
   "source": [
    "# Write your code here\n",
    "\n",
    "for character in myString:\n",
    "    if character == \"d\":\n",
    "        print(character)"
   ]
  },
  {
   "cell_type": "markdown",
   "metadata": {},
   "source": [
    "## Exercise 1 \n",
    "The target of this exercise is to create a string, an integer, and a floating point number. The string should be named mystring and should contain the word \"hello\". The floating point number should be named myfloat and should contain the number 10.0, and the integer should be named myint and should contain the number 20."
   ]
  },
  {
   "cell_type": "code",
   "execution_count": 29,
   "metadata": {},
   "outputs": [
    {
     "name": "stdout",
     "output_type": "stream",
     "text": [
      "String: hello\n",
      "Float: 10.000000\n",
      "Integer: 20\n"
     ]
    }
   ],
   "source": [
    "# change this code\n",
    "mystring = \"hello\"\n",
    "myfloat = 10.0\n",
    "myint = 20\n",
    "\n",
    "# testing code\n",
    "if mystring == \"hello\":\n",
    "    print(\"String: %s\" % mystring)\n",
    "    \n",
    "if isinstance(myfloat, float) and myfloat == 10.0:\n",
    "    print(\"Float: %f\" % myfloat)\n",
    "    \n",
    "if isinstance(myint, int) and myint == 20:\n",
    "    print(\"Integer: %d\" % myint)"
   ]
  },
  {
   "cell_type": "markdown",
   "metadata": {},
   "source": [
    "## Exercise 2\n",
    "Run the code below first without changing anything, supplying a number to it. \n",
    "\n",
    "Then, use a cast to correct it so that it outputs correct math on numbers. "
   ]
  },
  {
   "cell_type": "code",
   "execution_count": 33,
   "metadata": {},
   "outputs": [
    {
     "name": "stdout",
     "output_type": "stream",
     "text": [
      "Provide a number: 5\n",
      "25.0\n"
     ]
    }
   ],
   "source": [
    "# Here we take and input of a number, and then multiply it 5 times and then prints the result.\n",
    "inputVariable = float(input(\"Provide a number: \"))\n",
    "x = inputVariable * 5\n",
    "print(x)"
   ]
  },
  {
   "cell_type": "markdown",
   "metadata": {},
   "source": [
    "## Naming conventions:\n",
    "Different programming languages have different \"best practice\" naming for their naming of variables, funtions and classes. In python, the naming conventions are described at: [PEP8](https://www.python.org/dev/peps/pep-0008/#naming-conventions)"
   ]
  },
  {
   "cell_type": "markdown",
   "metadata": {},
   "source": [
    "## Curiosity: The Zen of Python\n",
    "\n",
    "Long time Pythoneer Tim Peters succinctly channels the BDFL's guiding principles for Python's design into 20 aphorisms, only 19 of which have been written down.\n",
    "\n",
    "[More](https://www.python.org/dev/peps/pep-0020/)"
   ]
  },
  {
   "cell_type": "code",
   "execution_count": 1,
   "metadata": {},
   "outputs": [
    {
     "name": "stdout",
     "output_type": "stream",
     "text": [
      "The Zen of Python, by Tim Peters\n",
      "\n",
      "Beautiful is better than ugly.\n",
      "Explicit is better than implicit.\n",
      "Simple is better than complex.\n",
      "Complex is better than complicated.\n",
      "Flat is better than nested.\n",
      "Sparse is better than dense.\n",
      "Readability counts.\n",
      "Special cases aren't special enough to break the rules.\n",
      "Although practicality beats purity.\n",
      "Errors should never pass silently.\n",
      "Unless explicitly silenced.\n",
      "In the face of ambiguity, refuse the temptation to guess.\n",
      "There should be one-- and preferably only one --obvious way to do it.\n",
      "Although that way may not be obvious at first unless you're Dutch.\n",
      "Now is better than never.\n",
      "Although never is often better than *right* now.\n",
      "If the implementation is hard to explain, it's a bad idea.\n",
      "If the implementation is easy to explain, it may be a good idea.\n",
      "Namespaces are one honking great idea -- let's do more of those!\n"
     ]
    }
   ],
   "source": [
    "import this"
   ]
  },
  {
   "cell_type": "markdown",
   "metadata": {},
   "source": [
    "# Examples of naming conventions\n",
    "\n",
    "```Python\n",
    "CONSTANTS_ARE_ALL_UPPERCASE = \"my constant string\"\n",
    "variables_should_be_all_lowercase_separated_with_underscores = 1\n",
    "\n",
    "def functions_should_do_the_same():\n",
    "    var1 = 4\n",
    "    retrun var1\n",
    "```"
   ]
  },
  {
   "cell_type": "markdown",
   "metadata": {},
   "source": [
    "# Basic String formatting\n",
    "\n",
    "As seen in the testing code: \n",
    "\n",
    "```Python\n",
    "# testing code\n",
    "if mystring == \"hello\":\n",
    "    print(\"String: %s\" % mystring)\n",
    "if isinstance(myfloat, float) and myfloat == 10.0:\n",
    "    print(\"Float: %f\" % myfloat)\n",
    "if isinstance(myint, int) and myint == 20:\n",
    "    print(\"Integer: %d\" % myint)\n",
    "```\n",
    "We use some string formatting in the print statements. We also use If statements and conditions which we are covering below. \n",
    "\n",
    "Here we have used a special string formatting operator, **%**, that enables us to format the string according to the specified format. %s specifies that we are inputting a variable of type string into the sentence. %f specifies a placeholder for a floating point number and %d for a decimal integer. More on string formatting at: [w3schools about formatting](https://www.w3schools.com/python/ref_string_format.asp)\n",
    "\n",
    "In the above example we are adding one value to the string, but we could also add several in one string using the syntax below:\n",
    "\n",
    "```Python\n",
    "\"string %s, number %d and floatingpoint %f\"%(\"hello\",10,10.0)\n",
    "```\n",
    "Feel free to try it out below. "
   ]
  },
  {
   "cell_type": "code",
   "execution_count": 42,
   "metadata": {},
   "outputs": [
    {
     "name": "stdout",
     "output_type": "stream",
     "text": [
      "string hello, number 10 and floatingpoint 10.000000 without formatting, or formatted 10.00000\n"
     ]
    }
   ],
   "source": [
    "# Execute this to check multiple variables inserted into a string\n",
    "print(\"string %s, number %d and floatingpoint %f without formatting, or formatted %0.5f\" % (\"hello\",10,10.0, 10.0))\n"
   ]
  },
  {
   "cell_type": "markdown",
   "metadata": {},
   "source": [
    "### MiniExercise 2B:\n",
    "Try doing float printing with only two decimals"
   ]
  },
  {
   "cell_type": "code",
   "execution_count": 45,
   "metadata": {},
   "outputs": [
    {
     "name": "stdout",
     "output_type": "stream",
     "text": [
      "Print the float 10.000000\n"
     ]
    }
   ],
   "source": [
    "# Execute this to check multiple variables inserted into a string\n",
    "print(\"Print the float %f\" % (10.0))"
   ]
  },
  {
   "cell_type": "markdown",
   "metadata": {},
   "source": [
    "## String functions\n",
    "In addition to this there are several other string formatting options that you could do. Strings are objects that have several predefined functions. Feel free to add some code cells below here with some of the example code snippets from [w3schools on strings](https://www.w3schools.com/python/python_strings.asp)"
   ]
  },
  {
   "cell_type": "code",
   "execution_count": 46,
   "metadata": {},
   "outputs": [
    {
     "name": "stdout",
     "output_type": "stream",
     "text": [
      "hello!\n",
      "HELLO!\n"
     ]
    }
   ],
   "source": [
    "# Example 1 -- eg. convert a string to lower letters\n",
    "a = \"HElLo!\"\n",
    "print(a.lower())\n",
    "\n",
    "# covert to captial letters\n",
    "print(a.upper())"
   ]
  },
  {
   "cell_type": "code",
   "execution_count": 47,
   "metadata": {},
   "outputs": [
    {
     "name": "stdout",
     "output_type": "stream",
     "text": [
      "['Hello', ' world!']\n",
      "['world!']\n"
     ]
    }
   ],
   "source": [
    "# Example 2 -- eg. split a string into two. \n",
    "a = \"Hello, world!\"\n",
    "#split at a specific character\n",
    "var = a.split(\",\") \n",
    "print(var)\n",
    "\n",
    "#split whitespace at beginning or end \n",
    "print(var[1].split())"
   ]
  },
  {
   "cell_type": "markdown",
   "metadata": {},
   "source": [
    "## Exercise 3\n",
    "\n",
    "Build a script in the cell below that: \n",
    "\n",
    "1) Takes in a string that you input\n",
    "2) Make sure it is a string\n",
    "3) Store it in a variable \n",
    "4) Print out the variable\n",
    "5) Then grab only the first and last characters in the name\n",
    "6) Store it in a new variable\n",
    "7) Print out the new variable\n",
    "\n",
    "see [w3schools on strings](https://www.w3schools.com/python/python_strings.asp) for help. "
   ]
  },
  {
   "cell_type": "code",
   "execution_count": 59,
   "metadata": {},
   "outputs": [
    {
     "name": "stdout",
     "output_type": "stream",
     "text": [
      "myString is a string \n",
      "Introduction to Python 3 in jupyter notebook\n",
      "I\n",
      "k\n"
     ]
    }
   ],
   "source": [
    "### Exercise 3 answer here:\n",
    "\n",
    "myString = \"Introduction to Python 3 in jupyter notebook\"\n",
    "\n",
    "if type(myString) == str:\n",
    "    print(\"myString is a string \")\n",
    "\n",
    "variable = myString\n",
    "print(variable)\n",
    "\n",
    "first_character = variable[0]\n",
    "print(first_character)\n",
    "\n",
    "last_character = variable[-1]\n",
    "print(last_character)\n"
   ]
  },
  {
   "cell_type": "markdown",
   "metadata": {},
   "source": [
    "# Collection types (Arrays)\n",
    "There are four collection data types in the Python programming language:\n",
    "\n",
    "* List is a collection which is ordered and changeable. Allows duplicate members.\n",
    "* Tuple is a collection which is ordered and unchangeable. Allows duplicate members.\n",
    "* Set is a collection which is unordered and unindexed. No duplicate members.\n",
    "* Dictionary is a collection which is unordered, changeable and indexed. No duplicate members.\n",
    "\n",
    "When choosing a collection type, it is useful to understand the properties of that type. Choosing the right type for a particular data set could mean retention of meaning, and, it could mean an increase in efficiency or security ([ref w3schools](https://www.w3schools.com/python/python_lists.asp))\n",
    "\n",
    "Below we will walk through Lists and Tuples. Find more info on sets and dictionaries on eg. w3scools above."
   ]
  },
  {
   "cell_type": "markdown",
   "metadata": {},
   "source": [
    "## List\n",
    "A list is a collection which is ordered and changeable. They can contain any type of variable, and they can contain as many variables as you wish. In Python lists are written with square brackets."
   ]
  },
  {
   "cell_type": "code",
   "execution_count": 60,
   "metadata": {},
   "outputs": [
    {
     "name": "stdout",
     "output_type": "stream",
     "text": [
      "['apple', 1, 'cherry', 10]\n"
     ]
    }
   ],
   "source": [
    "myList = [\"apple\", 1, \"cherry\", 10]\n",
    "print(myList)"
   ]
  },
  {
   "cell_type": "markdown",
   "metadata": {},
   "source": [
    "You access the list items by referring to the index number. Remember that the index starts at 0. "
   ]
  },
  {
   "cell_type": "code",
   "execution_count": 61,
   "metadata": {},
   "outputs": [
    {
     "name": "stdout",
     "output_type": "stream",
     "text": [
      "2\n"
     ]
    }
   ],
   "source": [
    "myList = [1, 2, 3, 4, 5]\n",
    "print(myList[1])"
   ]
  },
  {
   "cell_type": "markdown",
   "metadata": {},
   "source": [
    "### Lists are changable\n",
    "Lists are changable, so you could eg. add or remove from it. "
   ]
  },
  {
   "cell_type": "code",
   "execution_count": 62,
   "metadata": {},
   "outputs": [
    {
     "name": "stdout",
     "output_type": "stream",
     "text": [
      "[1, 2, 3, 3]\n",
      "[1, 3, 3]\n",
      "[1, 3]\n",
      "[3]\n"
     ]
    }
   ],
   "source": [
    "# Adding to a list my append()\n",
    "myList = [1,2,3]\n",
    "\n",
    "myList.append(3) # adds the value 3 to the list\n",
    "print(myList)\n",
    "\n",
    "# Removing from a list by remove()\n",
    "myList.remove(2) # removes the value 2 from the list\n",
    "print(myList)\n",
    "\n",
    "# Removing from a list by pop()\n",
    "myList.pop() # removes the last item in the list\n",
    "print(myList)\n",
    "\n",
    "myList.pop(0) # removes the first item in the list\n",
    "print(myList)"
   ]
  },
  {
   "cell_type": "markdown",
   "metadata": {},
   "source": [
    "## Tuple\n",
    "A tuple is a collection which is ordered and **unchangeable**. In Python tuples are written with parenthesis. When working with IFC and the ifcopenshell, we often work with tuples."
   ]
  },
  {
   "cell_type": "code",
   "execution_count": 63,
   "metadata": {},
   "outputs": [
    {
     "name": "stdout",
     "output_type": "stream",
     "text": [
      "('apple', 1, 'cherry', 10)\n"
     ]
    }
   ],
   "source": [
    "myTuple = (\"apple\", 1, \"cherry\", 10)\n",
    "print(myTuple)"
   ]
  },
  {
   "cell_type": "markdown",
   "metadata": {},
   "source": [
    "You access the tuple items, similar as for lists, by referring to the index number. Remember that the index starts at 0."
   ]
  },
  {
   "cell_type": "code",
   "execution_count": 64,
   "metadata": {},
   "outputs": [
    {
     "name": "stdout",
     "output_type": "stream",
     "text": [
      "2\n"
     ]
    }
   ],
   "source": [
    "myTuple = (1, 2, 3, 4, 5)\n",
    "print(myTuple[1])"
   ]
  },
  {
   "cell_type": "markdown",
   "metadata": {},
   "source": [
    "### Tuples are unchangable\n",
    "Tuples are unchangable, but you could cast it into a list and work with it as a list. "
   ]
  },
  {
   "cell_type": "code",
   "execution_count": 65,
   "metadata": {},
   "outputs": [
    {
     "name": "stdout",
     "output_type": "stream",
     "text": [
      "(1, 2, 4, 5)\n"
     ]
    }
   ],
   "source": [
    "myTuple = (1, 2, 3, 4, 5)\n",
    "myList = list(myTuple) # Cast tuple into a list\n",
    "myList.pop(2)\n",
    "myTuple = tuple(myList) # Cast list into a tuple\n",
    "print(myTuple)"
   ]
  },
  {
   "cell_type": "markdown",
   "metadata": {},
   "source": [
    "## Check the number of elements in list or tuple\n",
    "It is often needed to check how many elements that are in a list or a tuple."
   ]
  },
  {
   "cell_type": "code",
   "execution_count": 66,
   "metadata": {},
   "outputs": [
    {
     "name": "stdout",
     "output_type": "stream",
     "text": [
      "4\n",
      "4\n"
     ]
    }
   ],
   "source": [
    "# Check how many elements there are in myList (defined above)\n",
    "print(len(myList))\n",
    "\n",
    "# Check how many elements there are in myTuple (defined above)\n",
    "print(len(myTuple))"
   ]
  },
  {
   "cell_type": "markdown",
   "metadata": {},
   "source": [
    "## Exercise 4 - how many IfcWall elements are in Grethes Hus model? \n",
    "In the excercise below we want you to use what you have learned above to find how many elements of type IfcWall are in the Grethes Hus Modell. \n",
    "\n",
    "We have provided some code to get the file and to query out all elements of type IfcWall and stored it in a variable called *walls*. \n",
    "\n",
    "Print out to the screen the number of walls there are in the variable **walls**. "
   ]
  },
  {
   "cell_type": "code",
   "execution_count": 3,
   "metadata": {},
   "outputs": [
    {
     "name": "stdout",
     "output_type": "stream",
     "text": [
      "#636=IfcWallStandardCase('1xzRHg5wPCVvg4uLjqox1I',#48,'Basic Wall:Generic - 200mm:345653',$,'Basic Wall:Generic - 200mm:398',#609,#634,'345653')\n",
      "#744=IfcWallStandardCase('1Yzg4cwif7gQ2Hvbubk5cs',#48,'Basic Wall:Generic - 225mm Masonry:347110',$,'Basic Wall:Generic - 225mm Masonry:399',#717,#742,'347110')\n",
      "#796=IfcWallStandardCase('1Yzg4cwif7gQ2Hvbubk5cx',#48,'Basic Wall:Generic - 225mm Masonry:347115',$,'Basic Wall:Generic - 225mm Masonry:399',#776,#794,'347115')\n",
      "#832=IfcWallStandardCase('1Yzg4cwif7gQ2Hvbubk5cW',#48,'Basic Wall:Generic - 225mm Masonry:347120',$,'Basic Wall:Generic - 225mm Masonry:399',#812,#830,'347120')\n",
      "#868=IfcWallStandardCase('1Yzg4cwif7gQ2Hvbubk5ci',#48,'Basic Wall:Generic - 225mm Masonry:347132',$,'Basic Wall:Generic - 225mm Masonry:399',#848,#866,'347132')\n",
      "#904=IfcWallStandardCase('1Yzg4cwif7gQ2Hvbubk5xm',#48,'Basic Wall:Generic - 225mm Masonry:347296',$,'Basic Wall:Generic - 225mm Masonry:399',#884,#902,'347296')\n",
      "#940=IfcWallStandardCase('1Yzg4cwif7gQ2Hvbubk5xt',#48,'Basic Wall:Generic - 225mm Masonry:347303',$,'Basic Wall:Generic - 225mm Masonry:399',#920,#938,'347303')\n",
      "#976=IfcWallStandardCase('1Yzg4cwif7gQ2Hvbubk5xy',#48,'Basic Wall:Generic - 225mm Masonry:347308',$,'Basic Wall:Generic - 225mm Masonry:399',#956,#974,'347308')\n",
      "#1041=IfcWallStandardCase('3Q87Kkn4X0hh69O_upt9P1',#48,'Basic Wall:_Bindeingsverk 316mm:348322',$,'Basic Wall:_Bindeingsverk 316mm:347474',#992,#1039,'348322')\n",
      "#1151=IfcWallStandardCase('3Q87Kkn4X0hh69O_upt9P0',#48,'Basic Wall:_Bindeingsverk 316mm:348323',$,'Basic Wall:_Bindeingsverk 316mm:347474',#1112,#1149,'348323')\n",
      "#1233=IfcWallStandardCase('3Q87Kkn4X0hh69O_upt9P7',#48,'Basic Wall:_Bindeingsverk 316mm:348324',$,'Basic Wall:_Bindeingsverk 316mm:347474',#1190,#1231,'348324')\n",
      "#1288=IfcWallStandardCase('3Q87Kkn4X0hh69O_upt9P6',#48,'Basic Wall:_Bindeingsverk 316mm:348325',$,'Basic Wall:_Bindeingsverk 316mm:347474',#1249,#1286,'348325')\n",
      "#20210=IfcWallStandardCase('0AcubLcjbDbQQeAgLg2Y0r',#48,'Basic Wall:_Bindeingsverk 99mm:372647',$,'Basic Wall:_Bindeingsverk 99mm:372309',#20171,#20208,'372647')\n",
      "#20404=IfcWall('0AcubLcjbDbQQeAgLg2Zeu',#48,'Basic Wall:_Bindeingsverk 99mm:374186',$,'Basic Wall:_Bindeingsverk 99mm:372309',#20257,#20402,'374186')\n",
      "#20457=IfcWallStandardCase('0AcubLcjbDbQQeAgLg2ZcF',#48,'Basic Wall:_Bindeingsverk 99mm:374301',$,'Basic Wall:_Bindeingsverk 99mm:372309',#20420,#20455,'374301')\n",
      "#20510=IfcWallStandardCase('0AcubLcjbDbQQeAgLg2ZZu',#48,'Basic Wall:_Bindeingsverk 99mm:374634',$,'Basic Wall:_Bindeingsverk 99mm:372309',#20473,#20508,'374634')\n",
      "#58089=IfcWallStandardCase('3cDMTWgdr3igPBCsBF2w7i',#48,'Basic Wall:Generic - 225mm Masonry:384440',$,'Basic Wall:Generic - 225mm Masonry:399',#58069,#58087,'384440')\n",
      "#58252=IfcWall('3cDMTWgdr3igPBCsBF2w7k',#48,'Basic Wall:_Bindeingsverk 99mm:384442',$,'Basic Wall:_Bindeingsverk 99mm:372309',#58105,#58250,'384442')\n",
      "#58304=IfcWallStandardCase('3cDMTWgdr3igPBCsBF2w7l',#48,'Basic Wall:_Bindeingsverk 99mm:384443',$,'Basic Wall:_Bindeingsverk 99mm:372309',#58267,#58302,'384443')\n",
      "#58357=IfcWallStandardCase('3cDMTWgdr3igPBCsBF2w7e',#48,'Basic Wall:_Bindeingsverk 99mm:384444',$,'Basic Wall:_Bindeingsverk 99mm:372309',#58320,#58355,'384444')\n",
      "#58831=IfcWallStandardCase('1x1Hp_6Db1KwZy5IwzDax9',#48,'Basic Wall:_Bindeingsverk 316mm:384988',$,'Basic Wall:_Bindeingsverk 316mm:347474',#58795,#58829,'384988')\n",
      "#60761=IfcWallStandardCase('1x1Hp_6Db1KwZy5IwzDd9h',#48,'Basic Wall:_Bindeingsverk 316mm:385918',$,'Basic Wall:_Bindeingsverk 316mm:347474',#60725,#60759,'385918')\n",
      "#60988=IfcWall('1x1Hp_6Db1KwZy5IwzDdGF',#48,'Basic Wall:_Dekkeforkant 255mm:386330',$,'Basic Wall:_Dekkeforkant 255mm:385969',#60919,#60986,'386330')\n",
      "#61086=IfcWall('1x1Hp_6Db1KwZy5IwzDdJh',#48,'Basic Wall:_Dekkeforkant 255mm:386558',$,'Basic Wall:_Dekkeforkant 255mm:385969',#61017,#61084,'386558')\n",
      "5\n"
     ]
    }
   ],
   "source": [
    "# We import ifcopenshell and open the Grethes Hus Model and store it in a variable called file.\n",
    "\n",
    "import ifcopenshell \n",
    "file = ifcopenshell.open(\"Grethes-hus-bok-2.ifc\")\n",
    "\n",
    "#We query the file for its number of IfcWall type elements\n",
    "walls = file.by_type(\"IfcWall\")\n",
    "\n",
    "for wall in walls:\n",
    "    print(wall)"
   ]
  },
  {
   "cell_type": "code",
   "execution_count": 6,
   "metadata": {},
   "outputs": [
    {
     "name": "stdout",
     "output_type": "stream",
     "text": [
      "There are 24 walls.\n"
     ]
    }
   ],
   "source": [
    "# How many wall elements are there in this file?\n",
    "\n",
    "print(f\"There are {len(walls)} walls.\")"
   ]
  },
  {
   "cell_type": "markdown",
   "metadata": {},
   "source": [
    "## ToDo: Change the zero below to list out the number of walls in the file."
   ]
  },
  {
   "cell_type": "code",
   "execution_count": 8,
   "metadata": {},
   "outputs": [
    {
     "name": "stdout",
     "output_type": "stream",
     "text": [
      "24\n"
     ]
    }
   ],
   "source": [
    "numberOfWalls = 0 # store the number of IfcWall types in this variable. \n",
    "\n",
    "for wall in walls:\n",
    "    numberOfWalls += 1\n",
    "\n",
    "print(numberOfWalls)"
   ]
  },
  {
   "cell_type": "markdown",
   "metadata": {},
   "source": [
    "# Conditions and If statements \n",
    "\n",
    "> Python supports the usual logical conditions from mathematics:\n",
    "\n",
    "> * Equals: a == b\n",
    "> * Not Equals: a != b\n",
    "> * Less than: a < b\n",
    "> * Less than or equal to: a <= b\n",
    "> * Greater than: a > b\n",
    "> * Greater than or equal to: a >= b\n",
    ">\n",
    "> These conditions can be used in several ways, most commonly in \"if statements\" and loops. (ref. [w3schools](https://www.w3schools.com/python/python_conditions.asp))\n",
    "\n",
    "We'll walk through use of if statements and the most common loops here and use it to explore some elements from the Grethes Hus Model. \n",
    "\n",
    "The syntax for a If statement that checks if a variable **a** Equals a variable **b** is as follows:\n",
    "\n",
    "```Python\n",
    "    a = 0\n",
    "    b = 2\n",
    "    if a == b:\n",
    "        print(\"they are eaqual\")\n",
    "```\n",
    "Notice the **indentation**. Python relies on indentation, using whitespace, to define scope in the code. Other programming languages often use curly-brackets for this purpose. Here the print is within the if statement. \n",
    "\n",
    "Lets use an if statement to check if there are more than zero walls in the Grethes Hus Model. "
   ]
  },
  {
   "cell_type": "code",
   "execution_count": 11,
   "metadata": {},
   "outputs": [
    {
     "name": "stdout",
     "output_type": "stream",
     "text": [
      "You probably did something right above.\n"
     ]
    }
   ],
   "source": [
    "## Here we refer back to the variable \"numberOfWalls\" as defined above, and check if its greated than 0. \n",
    "if numberOfWalls > 0:\n",
    "    print(\"You probably did something right above.\")"
   ]
  },
  {
   "cell_type": "markdown",
   "metadata": {},
   "source": [
    "## elif and else\n",
    "We could also add to the If statement, by using an **Elif** statement. This will allow you to add another condition to check. At the end, we could also do an **Else** statement. This will be executed if no of the previous conditions where met. The syntax for this is: \n",
    "\n",
    "```Python\n",
    "    if <condition1>:\n",
    "        # do something based on condition1\n",
    "    elif <condition2>:\n",
    "        # Do something based on condition2\n",
    "    else:\n",
    "        # Do something if non of the previouse contitions where met. \n",
    "```\n",
    "You are free to at as many elif statements as you wish, but you could only have one else statement. "
   ]
  },
  {
   "cell_type": "code",
   "execution_count": 12,
   "metadata": {},
   "outputs": [
    {
     "name": "stdout",
     "output_type": "stream",
     "text": [
      "You probably did something right above.\n"
     ]
    }
   ],
   "source": [
    "if numberOfWalls > 0:\n",
    "    print(\"You probably did something right above.\")\n",
    "elif numberOfWalls == 0:\n",
    "    print(\"You did probably do something wrong above\")\n",
    "else:\n",
    "    print(\"How could this happen...?\")"
   ]
  },
  {
   "cell_type": "markdown",
   "metadata": {},
   "source": [
    "## Check if an element exist in a list or tuple\n",
    "Often times one would like to check if a particular value is in a list or a tuple. This is easy with python. "
   ]
  },
  {
   "cell_type": "code",
   "execution_count": 13,
   "metadata": {},
   "outputs": [
    {
     "name": "stdout",
     "output_type": "stream",
     "text": [
      "I found BIMFag in myList!\n",
      "I found BIMFag in myTuple!\n"
     ]
    }
   ],
   "source": [
    "# Check if a value is in a list \n",
    "myList = [\"BIMFag\", \"banana\", \"BIM\"]\n",
    "\n",
    "if \"BIMFag\" in myList:\n",
    "    print(\"I found BIMFag in myList!\")\n",
    "    \n",
    "myTuple = [\"BIMFag\", \"banana\", \"BIM\"]\n",
    "\n",
    "if \"BIMFag\" in myTuple:\n",
    "    print(\"I found BIMFag in myTuple!\")"
   ]
  },
  {
   "cell_type": "markdown",
   "metadata": {},
   "source": [
    "# While Loops\n",
    "Conditions and if statements are usefull also in while loops. While loops are executing as long as a condition is met. The syntax for while loops are: \n",
    "\n",
    "```Python\n",
    "   x = 1\n",
    "   while x<10: # Checks if x is less than 10\n",
    "       # do something eg.\n",
    "       print(x) # since x is bigger than zero this will print for as long as x is less than 10\n",
    "       x = x + 1 ## this statement is adding 1 to x for each iteration of the loop. \n",
    "```\n",
    "Keep in mind that if the condition on which the while loop is checking on is never met, it will execute indefinately. so whitout the ```Python x= x+1``` statement above, this would have just printed out 1 indefinately. \n",
    "\n",
    "Notice the **indentation**. As mentioned above Python relies on indentation, using whitespace, to define what is within the while loop. Here the ```print(x)``` and ```x=x+1```statement is indented, so to show that it is inside the while loop. "
   ]
  },
  {
   "cell_type": "code",
   "execution_count": 15,
   "metadata": {},
   "outputs": [
    {
     "name": "stdout",
     "output_type": "stream",
     "text": [
      "1\n",
      "2\n",
      "3\n",
      "4\n",
      "5\n",
      "6\n",
      "7\n",
      "8\n",
      "9\n",
      "10\n",
      "11\n",
      "12\n",
      "13\n",
      "14\n",
      "15\n",
      "16\n",
      "17\n",
      "18\n",
      "19\n",
      "20\n",
      "21\n",
      "22\n",
      "23\n",
      "x is: 24 and numberOfWalls is: 24\n"
     ]
    }
   ],
   "source": [
    "# Lets see it in action. Print out x as long as its less than the number of walls\n",
    "x = 1\n",
    "while x < numberOfWalls:\n",
    "    print(x)\n",
    "    x = x +1\n",
    "else:\n",
    "    print(f\"x is: {x} and numberOfWalls is: {numberOfWalls}\")"
   ]
  },
  {
   "cell_type": "markdown",
   "metadata": {},
   "source": [
    "## Loops, break and else\n",
    "Notice that the loop exits when the condition is no longer met. Notice also that loops could also have an else statement, similar to if statements. If the loop condition are no longer met, then the else part is executed. \n",
    "\n",
    "If we want to exit the while loop early one could use the special **break** statement. The while loop could have a condition that always will be true, like ```True```but then have a check further in, and use ```break```to exit the loop based on a condition in the condition of the respective check. "
   ]
  },
  {
   "cell_type": "code",
   "execution_count": 16,
   "metadata": {},
   "outputs": [
    {
     "name": "stdout",
     "output_type": "stream",
     "text": [
      "1\n",
      "2\n",
      "3\n",
      "4\n",
      "5\n",
      "6\n",
      "7\n",
      "8\n",
      "9\n",
      "10\n"
     ]
    }
   ],
   "source": [
    "x = 1\n",
    "## Loop while True --> True is always True... \n",
    "while True: \n",
    "    print(x)\n",
    "    # check if x is bigger or eaqual to 10\n",
    "    if x >= 10:\n",
    "        break # if condition met, break out of the while loop. \n",
    "    x = x+1 # if the condition of the if statement was false, this get executed in the while loop. \n"
   ]
  },
  {
   "cell_type": "markdown",
   "metadata": {},
   "source": [
    "# For Loops\n",
    "A *for* loop is used for iterating over a sequence (that is either a list, a tuple, a dictionary, a set, or a string).\n",
    "\n",
    "The syntax for for loops in python is: \n",
    "\n",
    "```Python\n",
    "for element in listOfElements:\n",
    "    # Do something with each element eg. print it out.\n",
    "    print(element)\n",
    "```\n",
    "\n",
    "Notice the **indentation** here as well. It define what is within the for loop. Here the print statement is indented, so that will be done every iteration of the elements in the list.  "
   ]
  },
  {
   "cell_type": "code",
   "execution_count": 17,
   "metadata": {},
   "outputs": [
    {
     "name": "stdout",
     "output_type": "stream",
     "text": [
      "1\n",
      "2\n",
      "3\n",
      "4\n",
      "5\n",
      "6\n"
     ]
    }
   ],
   "source": [
    "myTuple = (1, 2, 3, 4, 5, 6)\n",
    "\n",
    "for element in myTuple:\n",
    "    print(element)"
   ]
  },
  {
   "cell_type": "code",
   "execution_count": 18,
   "metadata": {},
   "outputs": [
    {
     "name": "stdout",
     "output_type": "stream",
     "text": [
      "1\n",
      "2\n",
      "3\n",
      "4\n",
      "5\n",
      "6\n"
     ]
    }
   ],
   "source": [
    "for i in range(6):\n",
    "    print(myTuple[i])"
   ]
  },
  {
   "cell_type": "markdown",
   "metadata": {},
   "source": [
    "## Iterating over a number of IfcWindow objects and access attributes\n",
    "Below we'll use a for loop to loop through all IfcWindow elements and print out some of it's direct attributes. See the IFC data dictinary for IFC 2.3 [here](https://standards.buildingsmart.org/IFC/RELEASE/IFC2x3/FINAL/HTML/). The main access page for the different IFC schema definitions can be found [here](https://technical.buildingsmart.org/standards/ifc/ifc-schema-specifications/)\n",
    "\n",
    "We'll be getting its **Name** attribute. Since the IfcWindow elements are objects in Python we could access these using the \".\" operator. \n",
    "\n",
    "Feel free to experiment with other attributes. You could eg. try with **OverallHeight and OverallWidth**. "
   ]
  },
  {
   "cell_type": "code",
   "execution_count": 19,
   "metadata": {},
   "outputs": [],
   "source": [
    "# We import ifcopenshell and open the Grethes Hus Model and store it in a variable called file. \n",
    "import ifcopenshell \n",
    "file = ifcopenshell.open(\"Grethes-hus-bok-2.ifc\")\n",
    "\n",
    "#We query the file for its number of IfcWindow type elements\n",
    "windows = file.by_type(\"IfcWindow\")"
   ]
  },
  {
   "cell_type": "code",
   "execution_count": 20,
   "metadata": {},
   "outputs": [
    {
     "name": "stdout",
     "output_type": "stream",
     "text": [
      "[#1475=IfcWindow('3Q87Kkn4X0hh69O_upt9N3',#48,'M_Fixed:_1400x2200mm:348960',$,'_1400x2200mm',#65302,#1467,'348960',2200.,1400.), #1500=IfcWindow('3Q87Kkn4X0hh69O_upt9xy',#48,'M_Fixed:_1400x2200mm:350239',$,'_1400x2200mm',#65328,#1492,'350239',2200.,1400.), #1523=IfcWindow('3Q87Kkn4X0hh69O_upt9$i',#48,'M_Fixed:_1400x2200mm:350479',$,'_1400x2200mm',#65588,#1515,'350479',2200.,1400.), #1546=IfcWindow('3Q87Kkn4X0hh69O_upt9$t',#48,'M_Fixed:_1400x2200mm:350484',$,'_1400x2200mm',#65562,#1538,'350484',2200.,1400.), #1569=IfcWindow('3Q87Kkn4X0hh69O_upt9$w',#48,'M_Fixed:_1400x2200mm:350489',$,'_1400x2200mm',#65536,#1561,'350489',2200.,1400.), #1592=IfcWindow('3Q87Kkn4X0hh69O_upt9$z',#48,'M_Fixed:_1400x2200mm:350494',$,'_1400x2200mm',#65510,#1584,'350494',2200.,1400.), #1615=IfcWindow('3Q87Kkn4X0hh69O_upt9$0',#48,'M_Fixed:_1400x2200mm:350499',$,'_1400x2200mm',#65484,#1607,'350499',2200.,1400.), #1638=IfcWindow('3Q87Kkn4X0hh69O_upt9$B',#48,'M_Fixed:_1400x2200mm:350504',$,'_1400x2200mm',#65458,#1630,'350504',2200.,1400.), #1661=IfcWindow('3Q87Kkn4X0hh69O_upt9$E',#48,'M_Fixed:_1400x2200mm:350509',$,'_1400x2200mm',#65432,#1653,'350509',2200.,1400.), #1684=IfcWindow('3Q87Kkn4X0hh69O_upt9$H',#48,'M_Fixed:_1400x2200mm:350514',$,'_1400x2200mm',#65406,#1676,'350514',2200.,1400.), #1707=IfcWindow('3Q87Kkn4X0hh69O_upt9$K',#48,'M_Fixed:_1400x2200mm:350519',$,'_1400x2200mm',#65380,#1699,'350519',2200.,1400.), #1730=IfcWindow('3Q87Kkn4X0hh69O_upt9$V',#48,'M_Fixed:_1400x2200mm:350524',$,'_1400x2200mm',#65354,#1722,'350524',2200.,1400.), #1997=IfcWindow('3Q87Kkn4X0hh69O_upt9Xn',#48,'M_Fixed:_800x750mm:351890',$,'_800x750mm',#65138,#1989,'351890',749.999999999999,800.000000000001), #2132=IfcWindow('3Q87Kkn4X0hh69O_uptAGQ',#48,'M_Fixed:_1100x700mm:353017',$,'_1100x700mm',#65112,#2124,'353017',699.999999999998,1100.), #2267=IfcWindow('3Q87Kkn4X0hh69O_uptA4j',#48,'M_Fixed:_800x700mm:354254',$,'_800x700mm',#65164,#2259,'354254',699.999999999998,800.000000000001), #2503=IfcWindow('3Q87Kkn4X0hh69O_uptAY6',#48,'M_Fixed:_800x750mm:355941',$,'_800x750mm',#65192,#2495,'355941',749.999999999999,800.000000000001), #2637=IfcWindow('3Q87Kkn4X0hh69O_uptAY5',#48,'M_Fixed:_1100x700mm:355942',$,'_1100x700mm',#65220,#2629,'355942',699.999999999998,1100.), #2771=IfcWindow('3Q87Kkn4X0hh69O_uptAY4',#48,'M_Fixed:_800x700mm:355943',$,'_800x700mm',#65248,#2763,'355943',699.999999999998,800.000000000001), #2905=IfcWindow('3Q87Kkn4X0hh69O_uptBUe',#48,'M_Fixed:_800x1000mm:356683',$,'_800x1000mm',#65614,#2897,'356683',999.999999999997,800.000000000001), #2930=IfcWindow('3Q87Kkn4X0hh69O_uptBNc',#48,'M_Fixed:_800x1000mm:357125',$,'_800x1000mm',#65640,#2922,'357125',999.999999999997,800.000000000001), #3063=IfcWindow('3Q87Kkn4X0hh69O_uptBNo',#48,'M_Fixed:_1400x1000mm:357137',$,'_1400x1000mm',#65666,#3055,'357137',999.999999999997,1400.), #3198=IfcWindow('3Q87Kkn4X0hh69O_uptBK9',#48,'M_Fixed:_800x2000mm:357354',$,'_800x2000mm',#65274,#3190,'357354',2000.,800.), #59611=IfcWindow('1x1Hp_6Db1KwZy5IwzDd35',#48,'M_Window-Casement-Double:_1400x1000mm:385488',$,'_1400x1000mm',#65802,#59603,'385488',1000.,1400.), #60551=IfcWindow('1x1Hp_6Db1KwZy5IwzDd9q',#48,'M_Window-Casement-Double:_1400x1000mm:385889',$,'_1400x1000mm',#65828,#60543,'385889',1000.,1400.), #60783=IfcWindow('1x1Hp_6Db1KwZy5IwzDd9g',#48,'M_Window-Casement-Double:_1400x1000mm:385919',$,'_1400x1000mm',#65856,#60775,'385919',1000.,1400.), #60854=IfcWindow('1x1Hp_6Db1KwZy5IwzDdAN',#48,'M_Window-Casement-Double:_1400x1000mm:385922',$,'_1400x1000mm',#65882,#60846,'385922',1000.,1400.)]\n"
     ]
    }
   ],
   "source": [
    "# By uncommenting (removing the '#') the line below you see the contents of the windows variable\n",
    "\n",
    "print(windows)"
   ]
  },
  {
   "cell_type": "code",
   "execution_count": 21,
   "metadata": {},
   "outputs": [
    {
     "name": "stdout",
     "output_type": "stream",
     "text": [
      "The window elements name is: M_Fixed:_1400x2200mm:348960\n",
      "The window elements name is: M_Fixed:_1400x2200mm:350239\n",
      "The window elements name is: M_Fixed:_1400x2200mm:350479\n",
      "The window elements name is: M_Fixed:_1400x2200mm:350484\n",
      "The window elements name is: M_Fixed:_1400x2200mm:350489\n",
      "The window elements name is: M_Fixed:_1400x2200mm:350494\n",
      "The window elements name is: M_Fixed:_1400x2200mm:350499\n",
      "The window elements name is: M_Fixed:_1400x2200mm:350504\n",
      "The window elements name is: M_Fixed:_1400x2200mm:350509\n",
      "The window elements name is: M_Fixed:_1400x2200mm:350514\n",
      "The window elements name is: M_Fixed:_1400x2200mm:350519\n",
      "The window elements name is: M_Fixed:_1400x2200mm:350524\n",
      "The window elements name is: M_Fixed:_800x750mm:351890\n",
      "The window elements name is: M_Fixed:_1100x700mm:353017\n",
      "The window elements name is: M_Fixed:_800x700mm:354254\n",
      "The window elements name is: M_Fixed:_800x750mm:355941\n",
      "The window elements name is: M_Fixed:_1100x700mm:355942\n",
      "The window elements name is: M_Fixed:_800x700mm:355943\n",
      "The window elements name is: M_Fixed:_800x1000mm:356683\n",
      "The window elements name is: M_Fixed:_800x1000mm:357125\n",
      "The window elements name is: M_Fixed:_1400x1000mm:357137\n",
      "The window elements name is: M_Fixed:_800x2000mm:357354\n",
      "The window elements name is: M_Window-Casement-Double:_1400x1000mm:385488\n",
      "The window elements name is: M_Window-Casement-Double:_1400x1000mm:385889\n",
      "The window elements name is: M_Window-Casement-Double:_1400x1000mm:385919\n",
      "The window elements name is: M_Window-Casement-Double:_1400x1000mm:385922\n"
     ]
    }
   ],
   "source": [
    "# Here is the for loop and its syntax. Notice the indentation. \n",
    "for window in windows: \n",
    "    print(\"The window elements name is: \"+window.Name)"
   ]
  },
  {
   "cell_type": "markdown",
   "metadata": {},
   "source": [
    "# Functions \n",
    "\n",
    "Functions are a useful way to divide your code into blocks of code, that only runs when they are called. It is also a good way to share a small snippet of code with others. \n",
    "\n",
    "A function is defined by the special ```def```statement. Like the example below.\n",
    "\n",
    "## Defining a function"
   ]
  },
  {
   "cell_type": "code",
   "execution_count": 22,
   "metadata": {},
   "outputs": [],
   "source": [
    "def myDefinedFunction():\n",
    "    print(\"This is a print statement within my function\")"
   ]
  },
  {
   "cell_type": "markdown",
   "metadata": {},
   "source": [
    "Notice that the function uses the same indendation style as for If statements and loops as walked through above. A function could contain all the concepts we have walked through above as well. \n",
    "\n",
    "Notice however that noting happended above. That is why we havent called the function. It is however stored, so that we can call it below. \n",
    "## Calling / Using a function"
   ]
  },
  {
   "cell_type": "code",
   "execution_count": 23,
   "metadata": {},
   "outputs": [
    {
     "name": "stdout",
     "output_type": "stream",
     "text": [
      "This is a print statement within my function\n"
     ]
    }
   ],
   "source": [
    "myDefinedFunction()"
   ]
  },
  {
   "cell_type": "markdown",
   "metadata": {},
   "source": [
    "## Input variables to functions\n",
    "\n",
    "We could also build functions that takes in input variables that could be used in the function. Lets define a function that takes in a string variable and prints it out. "
   ]
  },
  {
   "cell_type": "code",
   "execution_count": 24,
   "metadata": {},
   "outputs": [],
   "source": [
    "# A function definition that takes in a parameter called \"string\"\n",
    "def myDefinedFunction2(string):\n",
    "    print(f\"My variable is {string}\")"
   ]
  },
  {
   "cell_type": "code",
   "execution_count": 26,
   "metadata": {},
   "outputs": [
    {
     "name": "stdout",
     "output_type": "stream",
     "text": [
      "My variable is ifcopenshell is cool!\n"
     ]
    }
   ],
   "source": [
    "# A call to myDefinedFunction2 with the string variable \"Hello again!\"\n",
    "myDefinedFunction2(\"ifcopenshell is cool!\")"
   ]
  },
  {
   "cell_type": "code",
   "execution_count": 27,
   "metadata": {},
   "outputs": [
    {
     "name": "stdout",
     "output_type": "stream",
     "text": [
      "My variable is ifcopenshell is cool and powerful.\n"
     ]
    }
   ],
   "source": [
    "# A new call to myDefinedFunction2 with the string \"and again and again\"\n",
    "myDefinedFunction2(\"ifcopenshell is cool and powerful.\")"
   ]
  },
  {
   "cell_type": "markdown",
   "metadata": {},
   "source": [
    "## Input variables and assumed type\n",
    "What would happen if we call myDefinedFunction2 with a number, instead of a string? Try it below. "
   ]
  },
  {
   "cell_type": "code",
   "execution_count": 31,
   "metadata": {},
   "outputs": [
    {
     "name": "stdout",
     "output_type": "stream",
     "text": [
      "My variable is 10\n"
     ]
    }
   ],
   "source": [
    "string = 10\n",
    "\n",
    "myDefinedFunction2(string)"
   ]
  },
  {
   "cell_type": "markdown",
   "metadata": {},
   "source": [
    ":)\n",
    "\n",
    "Python is also cool and powerful!"
   ]
  },
  {
   "cell_type": "markdown",
   "metadata": {},
   "source": [
    "## Exercise 5 - ensure that a function works as intended\n",
    "You can pass as many variables to a function as you'd like, just separate them with a comma like we do with var1 and var 2 below. They could be whatever object you'd like. \n",
    "\n",
    "Below we want to create a function that takes in two variables, var1 and var2. If they are both strings we want to just concatenate them together and print them out. If they are not strings we only want to add them to a list and print \n",
    "\n",
    "**A couple of hints**\n",
    "\n",
    "* you could check if a variable ```a``` is a string by using ```isinstance(a,str)```\n",
    "* If you want two conditions to both be True in order to pass, you could use the ```and```operator\n",
    "\n",
    "**The correct output:**\n",
    "```\n",
    "Hello, World!\n",
    "['hello', 4]\n",
    "```"
   ]
  },
  {
   "cell_type": "code",
   "execution_count": 45,
   "metadata": {},
   "outputs": [
    {
     "name": "stdout",
     "output_type": "stream",
     "text": [
      "Hello, World!\n",
      "['hello', 4]\n"
     ]
    }
   ],
   "source": [
    "def myFunc3(var1,var2):\n",
    "    #Fill in code to comlete the challenge\n",
    "    if isinstance(var1, str) and isinstance(var2, str):\n",
    "    #if type(var1) == str and type(var2) == str:           # it can be written that way too\n",
    "        print(var1 + var2)\n",
    "    else:\n",
    "        list = []\n",
    "        list.append(var1)\n",
    "        list.append(var2)\n",
    "        print(list)\n",
    "\n",
    "#Don't change the code below    \n",
    "myFunc3(\"Hello, \",\"World!\")\n",
    "myFunc3(\"hello\",4)"
   ]
  },
  {
   "cell_type": "markdown",
   "metadata": {},
   "source": [
    "## Lists and tuples as input variables\n",
    "We could also add lists and tuples as input variables to functions. "
   ]
  },
  {
   "cell_type": "code",
   "execution_count": 38,
   "metadata": {},
   "outputs": [],
   "source": [
    "def myFunc4(myList):\n",
    "    for elem in myList:\n",
    "        print(elem)"
   ]
  },
  {
   "cell_type": "code",
   "execution_count": 41,
   "metadata": {},
   "outputs": [
    {
     "name": "stdout",
     "output_type": "stream",
     "text": [
      "1\n",
      "2\n",
      "3\n"
     ]
    }
   ],
   "source": [
    "# Define a list \n",
    "aList = [1, 2, 3]\n",
    "\n",
    "# Send it as input variable to myFunc4\n",
    "myFunc4(aList)"
   ]
  },
  {
   "cell_type": "code",
   "execution_count": 42,
   "metadata": {},
   "outputs": [
    {
     "name": "stdout",
     "output_type": "stream",
     "text": [
      "4\n",
      "5\n",
      "6\n"
     ]
    }
   ],
   "source": [
    "# Define a tuple \n",
    "aTuple = (4, 5, 6)\n",
    "\n",
    "# Send it as input variable to myFunc4\n",
    "myFunc4(aTuple)"
   ]
  },
  {
   "cell_type": "markdown",
   "metadata": {},
   "source": [
    "### What will happend if you pass a string instead of a list?\n",
    "Try below to call the function above passing in a string value like eg. ```myFunc4(\"your name\")```\n",
    "\n",
    "What do you think will happen? "
   ]
  },
  {
   "cell_type": "code",
   "execution_count": 43,
   "metadata": {},
   "outputs": [
    {
     "name": "stdout",
     "output_type": "stream",
     "text": [
      "R\n",
      "e\n",
      "n\n",
      "a\n",
      "t\n",
      "o\n",
      " \n",
      "C\n",
      "r\n",
      "u\n",
      "z\n"
     ]
    }
   ],
   "source": [
    "### Do the test here ###\n",
    "\n",
    "myFunc4(\"Renato Cruz\")"
   ]
  },
  {
   "cell_type": "markdown",
   "metadata": {},
   "source": [
    "## Have functions return values\n",
    "\n",
    "A good way to use functions is to have them perform som logic on input variables and have them return the result. For this you use the ```return``` statement. "
   ]
  },
  {
   "cell_type": "code",
   "execution_count": 44,
   "metadata": {},
   "outputs": [
    {
     "name": "stdout",
     "output_type": "stream",
     "text": [
      "54\n"
     ]
    }
   ],
   "source": [
    "# defines a function that takes in a list of items as parameter, \n",
    "# loops through it and adds all integers together, and then returns the resulting value\n",
    "def myFunc5(myList):\n",
    "    tmp = 0                      # Defined outside the for loop to be able to return it outside the scope of the loop\n",
    "    for elem in myList:\n",
    "        if isinstance(elem, int):\n",
    "            tmp = tmp + elem\n",
    "    return tmp\n",
    "\n",
    "aList = [\"string\", 10, 10, 30, 4, \"stuff\"]\n",
    "print(myFunc5(aList))"
   ]
  },
  {
   "cell_type": "markdown",
   "metadata": {},
   "source": [
    "## Exercise 6 - Names and Descriptions of Window objects. \n",
    "\n",
    "Many times one would get an ifc model where one want to change or restructure information in the file. That is tediouse work on big models, so one may want to script it. In addition it would be a good code block to have, regardless of object type. \n",
    "\n",
    "In IFC the name and description is something all objects *inherrit* from IfcRoot, and cosequently they all have the following attributes ([ref. Ifc documentation](https://standards.buildingsmart.org/IFC/RELEASE/IFC2x3/FINAL/HTML/)): \n",
    "\n",
    ">* GlobalId\t : \tAssignment of a globally unique identifier within the entire software world.\n",
    ">* OwnerHistory\t : \tAssignment of the information about the current ownership of that object, including owning actor, >application, local identification and information captured about the recent changes of the object, NOTE: only the >last modification in stored.\n",
    ">* Name\t : \tOptional name for use by the participating software systems or users. For some subtypes of IfcRoot the >insertion of the Name attribute may be required. This would be enforced by a where rule.\n",
    ">* Description\t : \tOptional description, provided for exchanging informative comments.\n",
    "\n",
    "So, it might be a good idea to package code into functions. That way we could share it and reuse the code regardless of which element we want to change the name and description on. \n",
    "\n",
    "The first challenge is to create a function that takes in a IfcWindow (or another Ifc object), get the Name and store that in the Description property of the object. Then, add an input variable that *if set* will be given as a Name to the window or it will store a blank string as the Name. \n",
    "\n",
    "The second challenge is to write code to print out the names and descriptions (before and after) to confirm your result. \n",
    "\n",
    "\n",
    "** Some hints:** \n",
    "* Python functions could have input variables that have default variables eg. def func (var1,var2 =\"\"):.\n",
    "* Look above to find code that enables you to import the ifcopenshell code library, that have code that enables you to work with teh IFC file.\n",
    "* Look above, or eg. in [academy.ifcopenshell.org](http://academy.ifcopenshell.org), to find code in the ifcopenshell library that could store a reference to an IFC model in a variable and another function that lets you query that file for all IfcWindow objects you might want to find in that model. \n",
    "* You can set the ```Name```variable of a window object that is store in a variable called \"window\" by ```window.Name = \"the name you want to set\"````\n",
    "\n"
   ]
  },
  {
   "cell_type": "code",
   "execution_count": 1,
   "metadata": {},
   "outputs": [],
   "source": [
    "### Add your code here ### \n",
    "\n",
    "# Importing package and accessing IFC file\n",
    "\n",
    "import ifcopenshell \n",
    "file = ifcopenshell.open(\"Grethes-hus-bok-2.ifc\")"
   ]
  },
  {
   "cell_type": "code",
   "execution_count": 3,
   "metadata": {},
   "outputs": [
    {
     "name": "stdout",
     "output_type": "stream",
     "text": [
      "26\n"
     ]
    }
   ],
   "source": [
    "# We query the file for its number of IfcWindow type elements\n",
    "\n",
    "windows = file.by_type(\"IfcWindow\")\n",
    "\n",
    "print(len(windows))"
   ]
  },
  {
   "cell_type": "code",
   "execution_count": 4,
   "metadata": {},
   "outputs": [
    {
     "name": "stdout",
     "output_type": "stream",
     "text": [
      "#1475=IfcWindow('3Q87Kkn4X0hh69O_upt9N3',#48,'M_Fixed:_1400x2200mm:348960',$,'_1400x2200mm',#65302,#1467,'348960',2200.,1400.)\n",
      "#1500=IfcWindow('3Q87Kkn4X0hh69O_upt9xy',#48,'M_Fixed:_1400x2200mm:350239',$,'_1400x2200mm',#65328,#1492,'350239',2200.,1400.)\n",
      "#1523=IfcWindow('3Q87Kkn4X0hh69O_upt9$i',#48,'M_Fixed:_1400x2200mm:350479',$,'_1400x2200mm',#65588,#1515,'350479',2200.,1400.)\n",
      "#1546=IfcWindow('3Q87Kkn4X0hh69O_upt9$t',#48,'M_Fixed:_1400x2200mm:350484',$,'_1400x2200mm',#65562,#1538,'350484',2200.,1400.)\n",
      "#1569=IfcWindow('3Q87Kkn4X0hh69O_upt9$w',#48,'M_Fixed:_1400x2200mm:350489',$,'_1400x2200mm',#65536,#1561,'350489',2200.,1400.)\n",
      "#1592=IfcWindow('3Q87Kkn4X0hh69O_upt9$z',#48,'M_Fixed:_1400x2200mm:350494',$,'_1400x2200mm',#65510,#1584,'350494',2200.,1400.)\n",
      "#1615=IfcWindow('3Q87Kkn4X0hh69O_upt9$0',#48,'M_Fixed:_1400x2200mm:350499',$,'_1400x2200mm',#65484,#1607,'350499',2200.,1400.)\n",
      "#1638=IfcWindow('3Q87Kkn4X0hh69O_upt9$B',#48,'M_Fixed:_1400x2200mm:350504',$,'_1400x2200mm',#65458,#1630,'350504',2200.,1400.)\n",
      "#1661=IfcWindow('3Q87Kkn4X0hh69O_upt9$E',#48,'M_Fixed:_1400x2200mm:350509',$,'_1400x2200mm',#65432,#1653,'350509',2200.,1400.)\n",
      "#1684=IfcWindow('3Q87Kkn4X0hh69O_upt9$H',#48,'M_Fixed:_1400x2200mm:350514',$,'_1400x2200mm',#65406,#1676,'350514',2200.,1400.)\n",
      "#1707=IfcWindow('3Q87Kkn4X0hh69O_upt9$K',#48,'M_Fixed:_1400x2200mm:350519',$,'_1400x2200mm',#65380,#1699,'350519',2200.,1400.)\n",
      "#1730=IfcWindow('3Q87Kkn4X0hh69O_upt9$V',#48,'M_Fixed:_1400x2200mm:350524',$,'_1400x2200mm',#65354,#1722,'350524',2200.,1400.)\n",
      "#1997=IfcWindow('3Q87Kkn4X0hh69O_upt9Xn',#48,'M_Fixed:_800x750mm:351890',$,'_800x750mm',#65138,#1989,'351890',749.999999999999,800.000000000001)\n",
      "#2132=IfcWindow('3Q87Kkn4X0hh69O_uptAGQ',#48,'M_Fixed:_1100x700mm:353017',$,'_1100x700mm',#65112,#2124,'353017',699.999999999998,1100.)\n",
      "#2267=IfcWindow('3Q87Kkn4X0hh69O_uptA4j',#48,'M_Fixed:_800x700mm:354254',$,'_800x700mm',#65164,#2259,'354254',699.999999999998,800.000000000001)\n",
      "#2503=IfcWindow('3Q87Kkn4X0hh69O_uptAY6',#48,'M_Fixed:_800x750mm:355941',$,'_800x750mm',#65192,#2495,'355941',749.999999999999,800.000000000001)\n",
      "#2637=IfcWindow('3Q87Kkn4X0hh69O_uptAY5',#48,'M_Fixed:_1100x700mm:355942',$,'_1100x700mm',#65220,#2629,'355942',699.999999999998,1100.)\n",
      "#2771=IfcWindow('3Q87Kkn4X0hh69O_uptAY4',#48,'M_Fixed:_800x700mm:355943',$,'_800x700mm',#65248,#2763,'355943',699.999999999998,800.000000000001)\n",
      "#2905=IfcWindow('3Q87Kkn4X0hh69O_uptBUe',#48,'M_Fixed:_800x1000mm:356683',$,'_800x1000mm',#65614,#2897,'356683',999.999999999997,800.000000000001)\n",
      "#2930=IfcWindow('3Q87Kkn4X0hh69O_uptBNc',#48,'M_Fixed:_800x1000mm:357125',$,'_800x1000mm',#65640,#2922,'357125',999.999999999997,800.000000000001)\n",
      "#3063=IfcWindow('3Q87Kkn4X0hh69O_uptBNo',#48,'M_Fixed:_1400x1000mm:357137',$,'_1400x1000mm',#65666,#3055,'357137',999.999999999997,1400.)\n",
      "#3198=IfcWindow('3Q87Kkn4X0hh69O_uptBK9',#48,'M_Fixed:_800x2000mm:357354',$,'_800x2000mm',#65274,#3190,'357354',2000.,800.)\n",
      "#59611=IfcWindow('1x1Hp_6Db1KwZy5IwzDd35',#48,'M_Window-Casement-Double:_1400x1000mm:385488',$,'_1400x1000mm',#65802,#59603,'385488',1000.,1400.)\n",
      "#60551=IfcWindow('1x1Hp_6Db1KwZy5IwzDd9q',#48,'M_Window-Casement-Double:_1400x1000mm:385889',$,'_1400x1000mm',#65828,#60543,'385889',1000.,1400.)\n",
      "#60783=IfcWindow('1x1Hp_6Db1KwZy5IwzDd9g',#48,'M_Window-Casement-Double:_1400x1000mm:385919',$,'_1400x1000mm',#65856,#60775,'385919',1000.,1400.)\n",
      "#60854=IfcWindow('1x1Hp_6Db1KwZy5IwzDdAN',#48,'M_Window-Casement-Double:_1400x1000mm:385922',$,'_1400x1000mm',#65882,#60846,'385922',1000.,1400.)\n"
     ]
    }
   ],
   "source": [
    "# Printing windows\n",
    "\n",
    "for window in windows:\n",
    "    print(window)"
   ]
  },
  {
   "cell_type": "code",
   "execution_count": 5,
   "metadata": {},
   "outputs": [],
   "source": [
    "# Function to update the name of the windows\n",
    "\n",
    "def UpdateWindowName(window, newName = \"\"):\n",
    "    print(\"####################\")\n",
    "    print(\"Before:\")\n",
    "    print(f\"Name: {window.Name}\")\n",
    "    print(\"Description: {window.Description}\")\n",
    "    window.Description = window.Name\n",
    "    window.Name = newName\n",
    "    print(\"- - - - - - - -\")\n",
    "    print(\"After:\")\n",
    "    print(\"Name: {window.Name}\")\n",
    "    print(\"Description: {window.Description}\")"
   ]
  },
  {
   "cell_type": "code",
   "execution_count": 6,
   "metadata": {},
   "outputs": [
    {
     "name": "stdout",
     "output_type": "stream",
     "text": [
      "####################\n",
      "Before:\n",
      "Name: M_Fixed:_1400x2200mm:348960\n",
      "Description: {window.Description}\n",
      "- - - - - - - -\n",
      "After:\n",
      "Name: {window.Name}\n",
      "Description: {window.Description}\n",
      "####################\n",
      "Before:\n",
      "Name: M_Fixed:_1400x2200mm:350239\n",
      "Description: {window.Description}\n",
      "- - - - - - - -\n",
      "After:\n",
      "Name: {window.Name}\n",
      "Description: {window.Description}\n"
     ]
    }
   ],
   "source": [
    "# Calling the function to perform the name change operation\n",
    "\n",
    "UpdateWindowName(windows[0])\n",
    "UpdateWindowName(windows[1], \"UpdatedName window\")"
   ]
  },
  {
   "cell_type": "markdown",
   "metadata": {},
   "source": [
    "# Classes and Objects\n",
    "\n",
    "We have already worked alot with objects, some window objects, some string objects, and even some list objects. So, what is objects and where do they come from? Objects are an encapsulation of variables and functions into a single entity. Objects get their variables and functions from classes. Classes are essentially a template to create your objects. \n",
    "\n",
    "When functions are code blocks that could be shared and reused, classes and objects are even bigger blocks of reusable code. For the IfcWindow example above, it has a class that defines what the variables and functions the window objects of that class has. The documentation of what capabilities the IfcWindow class should have is defined by the Ifc documentation for IfcWindow. You could also have documentation of how that class is defined/implemented in the particular programming language. \n",
    "\n",
    "A very basic class would look something like this:\n",
    "\n",
    "```Python\n",
    "class MyWindowClass:\n",
    "    nameVariable = \"Window\"\n",
    "\n",
    "    def namePrint(self):\n",
    "        print(\"My Name is \"+self.nameVariable)\n",
    "```\n",
    "## Defining a Class\n",
    "Lets define a Window Class"
   ]
  },
  {
   "cell_type": "code",
   "execution_count": 7,
   "metadata": {},
   "outputs": [],
   "source": [
    "## Defines a Window Class\n",
    "class MyWindowClass:\n",
    "    nameVariable = \"Window\"\n",
    "\n",
    "    def namePrint(self):\n",
    "        print(\"My Name is \"+self.nameVariable)"
   ]
  },
  {
   "cell_type": "markdown",
   "metadata": {},
   "source": [
    "## Creating objects from class definitions\n",
    "When you have defined a class, you could create several objects based on it. "
   ]
  },
  {
   "cell_type": "code",
   "execution_count": 21,
   "metadata": {},
   "outputs": [],
   "source": [
    "## Defines two different objects based on the MyWindowClass \n",
    "window1 = MyWindowClass()\n",
    "window2 = MyWindowClass()"
   ]
  },
  {
   "cell_type": "markdown",
   "metadata": {},
   "source": [
    "## Accessing Object variables and functions\n",
    "Now the window1 and window2 objects have both a nameVariable and namePrint function each. As we have seen above, we access its variables (attributes) by the \".\" operator. "
   ]
  },
  {
   "cell_type": "code",
   "execution_count": 22,
   "metadata": {},
   "outputs": [
    {
     "data": {
      "text/plain": [
       "'Window'"
      ]
     },
     "execution_count": 22,
     "metadata": {},
     "output_type": "execute_result"
    }
   ],
   "source": [
    "# Get the nameVariable of window1\n",
    "\n",
    "window1.nameVariable"
   ]
  },
  {
   "cell_type": "markdown",
   "metadata": {},
   "source": [
    "### MiniExercise: Do the same for window2 below"
   ]
  },
  {
   "cell_type": "code",
   "execution_count": 23,
   "metadata": {},
   "outputs": [
    {
     "data": {
      "text/plain": [
       "'Window'"
      ]
     },
     "execution_count": 23,
     "metadata": {},
     "output_type": "execute_result"
    }
   ],
   "source": [
    "### Get the the name variable of window2\n",
    "\n",
    "window2.nameVariable"
   ]
  },
  {
   "cell_type": "markdown",
   "metadata": {},
   "source": [
    "## Exercise 7 - Setting object variables\n",
    "Both windows have the same name. Use what you know from above to set the name of window1 and window2 to something proper. "
   ]
  },
  {
   "cell_type": "code",
   "execution_count": 24,
   "metadata": {},
   "outputs": [],
   "source": [
    "### Solve Exercise 7 here:\n",
    "\n",
    "window1.nameVariable = \"Window 1\"\n",
    "window2.nameVariable = \"Window 2\""
   ]
  },
  {
   "cell_type": "markdown",
   "metadata": {},
   "source": [
    "## Exercise 8 - Accessing object functions\n",
    "In the MyWindowClass definition we have a function to print out the name. Show below how this function can be accessed on both window1 and window2."
   ]
  },
  {
   "cell_type": "code",
   "execution_count": 25,
   "metadata": {},
   "outputs": [
    {
     "name": "stdout",
     "output_type": "stream",
     "text": [
      "My Name is Window 1\n",
      "My Name is Window 2\n"
     ]
    }
   ],
   "source": [
    "### Solve Exercise 8 here: \n",
    "\n",
    "window1.namePrint()\n",
    "window2.namePrint()"
   ]
  },
  {
   "cell_type": "markdown",
   "metadata": {},
   "source": [
    "# Modules and Packages\n",
    "In programming, a module is a piece of software that has a specific functionality. For example, when building a ping pong game, one module could be responsible for the game logic, and another module could be responsible for drawing the game on the screen. Each module is a different file, which can be edited separately.\n",
    "\n",
    "Modules in Python are simply Python files with a .py extension. The name of the module will be the name of the file. A Python module can have a set of functions, classes or variables defined and implemented.\n",
    "\n",
    "You might have seen the ```ifc_viewer.py``` file in the folders? That is a module, and particularly a module that enables viewing of models in jupyter notebooks. So, how do one use that? "
   ]
  },
  {
   "cell_type": "markdown",
   "metadata": {},
   "source": [
    "## Using Modules in other programs\n",
    "Modules could be used in other programs by using the special ```import```statement. Eg. to import all of it use ```import ifc_viewer```would do the trick. \n",
    "\n",
    "However, the module may define several classes, variables and functions. What if we only wanted to import the ```ifc_viewer``` class in the ```ifc_viewer```module? Then we do like bewlow. "
   ]
  },
  {
   "cell_type": "code",
   "execution_count": 28,
   "metadata": {},
   "outputs": [],
   "source": [
    "# Import the ifc_viewer class of ifc_viewer module\n",
    "\n",
    "from ifc_viewer import ifc_viewer"
   ]
  },
  {
   "cell_type": "markdown",
   "metadata": {},
   "source": [
    "## Using Packages and Modules in another program\n",
    "\n",
    "Another package we already have used is the **ifcopenshell**. Packages are namespaces which contain multiple packages and modules themselves. They are simply directories, but with a twist.\n",
    "\n",
    "Each package in Python is a directory which MUST contain a special file called __init__.py. This file can be empty, and it indicates that the directory it contains is a Python package, so it can be imported the same way a module can be imported ([ref. learnpython.org](https://www.learnpython.org/en/Modules_and_Packages)).\n",
    "\n",
    "We have already imported ifcopenshell. But we could also import specific parts of it. Lets combine it to visualize the windows of the Grethes Hus model. "
   ]
  },
  {
   "cell_type": "code",
   "execution_count": 16,
   "metadata": {},
   "outputs": [],
   "source": [
    "import ifcopenshell \n",
    "import ifcopenshell.geom\n",
    "from ifc_viewer import ifc_viewer"
   ]
  },
  {
   "cell_type": "code",
   "execution_count": 17,
   "metadata": {},
   "outputs": [],
   "source": [
    "# Storing the model in a file variable, and giving the path to the file as input.\n",
    "\n",
    "file = ifcopenshell.open(f\"Grethes-hus-bok-2.ifc\")"
   ]
  },
  {
   "cell_type": "markdown",
   "metadata": {},
   "source": [
    "#### Before continuing this exercise, are we going to preview the entire model? \n",
    "\n",
    "For that, we can follow the following steps. To learn more, click [here](https://github.com/renatogcruz/Data-science-for-architecture/blob/main/ifc_analysis/IFC_analysis_with_IfcOpenShell/01_Initial_instructions/ifc_visualizer.ipynb)."
   ]
  },
  {
   "cell_type": "code",
   "execution_count": 18,
   "metadata": {},
   "outputs": [],
   "source": [
    "# Prepare the settings\n",
    "\n",
    "settings = ifcopenshell.geom.settings()\n",
    "settings.set(settings.USE_PYTHON_OPENCASCADE, True)\n",
    "geometry = dict((file[item.data.id], (item.geometry, item.styles)) \n",
    "                for item in ifcopenshell.geom.iterator(settings, file))"
   ]
  },
  {
   "cell_type": "code",
   "execution_count": 25,
   "metadata": {},
   "outputs": [
    {
     "ename": "TypeError",
     "evalue": "Wrong number or type of arguments for overloaded function 'new_TopoDS_Iterator'.\n  Possible C/C++ prototypes are:\n    TopoDS_Iterator::TopoDS_Iterator()\n    TopoDS_Iterator::TopoDS_Iterator(TopoDS_Shape const &,Standard_Boolean const,Standard_Boolean const)\n",
     "output_type": "error",
     "traceback": [
      "\u001b[1;31m---------------------------------------------------------------------------\u001b[0m",
      "\u001b[1;31mTypeError\u001b[0m                                 Traceback (most recent call last)",
      "\u001b[1;32m<ipython-input-25-5b6748abe995>\u001b[0m in \u001b[0;36m<module>\u001b[1;34m\u001b[0m\n\u001b[0;32m      5\u001b[0m \u001b[1;32mfor\u001b[0m \u001b[0mproduct\u001b[0m\u001b[1;33m,\u001b[0m \u001b[1;33m(\u001b[0m\u001b[0mshape\u001b[0m\u001b[1;33m,\u001b[0m \u001b[0mstyles\u001b[0m\u001b[1;33m)\u001b[0m \u001b[1;32min\u001b[0m \u001b[0mgeometry\u001b[0m\u001b[1;33m.\u001b[0m\u001b[0mitems\u001b[0m\u001b[1;33m(\u001b[0m\u001b[1;33m)\u001b[0m\u001b[1;33m:\u001b[0m\u001b[1;33m\u001b[0m\u001b[1;33m\u001b[0m\u001b[0m\n\u001b[0;32m      6\u001b[0m     \u001b[1;31m# if not product.is_a(\"IfcWall\"): continue\u001b[0m\u001b[1;33m\u001b[0m\u001b[1;33m\u001b[0m\u001b[1;33m\u001b[0m\u001b[0m\n\u001b[1;32m----> 7\u001b[1;33m     \u001b[0mviewer\u001b[0m\u001b[1;33m.\u001b[0m\u001b[0mDisplayShape\u001b[0m\u001b[1;33m(\u001b[0m\u001b[0mproduct\u001b[0m\u001b[1;33m,\u001b[0m \u001b[0mgeometry\u001b[0m\u001b[1;33m,\u001b[0m \u001b[0mstyles\u001b[0m\u001b[1;33m)\u001b[0m\u001b[1;33m\u001b[0m\u001b[1;33m\u001b[0m\u001b[0m\n\u001b[0m\u001b[0;32m      8\u001b[0m \u001b[1;33m\u001b[0m\u001b[0m\n\u001b[0;32m      9\u001b[0m \u001b[0mviewer\u001b[0m\u001b[1;33m.\u001b[0m\u001b[0mDisplay\u001b[0m\u001b[1;33m(\u001b[0m\u001b[1;33m)\u001b[0m\u001b[1;33m\u001b[0m\u001b[1;33m\u001b[0m\u001b[0m\n",
      "\u001b[1;32m~\\OneDrive\\github\\Data_science_for_architecture\\ifc_analysis\\IFC_analysis_with_IfcOpenShell\\02_Introduction_to_Python_for_use_with_BIM\\ifc_viewer.py\u001b[0m in \u001b[0;36mDisplayShape\u001b[1;34m(self, product, shp, color)\u001b[0m\n\u001b[0;32m     16\u001b[0m \u001b[1;33m\u001b[0m\u001b[0m\n\u001b[0;32m     17\u001b[0m     \u001b[1;32mdef\u001b[0m \u001b[0mDisplayShape\u001b[0m\u001b[1;33m(\u001b[0m\u001b[0mself\u001b[0m\u001b[1;33m,\u001b[0m \u001b[0mproduct\u001b[0m\u001b[1;33m,\u001b[0m \u001b[0mshp\u001b[0m\u001b[1;33m,\u001b[0m \u001b[0mcolor\u001b[0m\u001b[1;33m)\u001b[0m\u001b[1;33m:\u001b[0m\u001b[1;33m\u001b[0m\u001b[1;33m\u001b[0m\u001b[0m\n\u001b[1;32m---> 18\u001b[1;33m         \u001b[1;32mfor\u001b[0m \u001b[0mshp\u001b[0m\u001b[1;33m,\u001b[0m \u001b[0msty\u001b[0m \u001b[1;32min\u001b[0m \u001b[0mzip\u001b[0m\u001b[1;33m(\u001b[0m\u001b[0mself\u001b[0m\u001b[1;33m.\u001b[0m\u001b[0msubshapes\u001b[0m\u001b[1;33m(\u001b[0m\u001b[0mshp\u001b[0m\u001b[1;33m)\u001b[0m\u001b[1;33m,\u001b[0m \u001b[0mcolor\u001b[0m\u001b[1;33m)\u001b[0m\u001b[1;33m:\u001b[0m\u001b[1;33m\u001b[0m\u001b[1;33m\u001b[0m\u001b[0m\n\u001b[0m\u001b[0;32m     19\u001b[0m             \u001b[0mRenderer\u001b[0m\u001b[1;33m.\u001b[0m\u001b[0mDisplayShape\u001b[0m\u001b[1;33m(\u001b[0m\u001b[0mself\u001b[0m\u001b[1;33m,\u001b[0m \u001b[0mshp\u001b[0m\u001b[1;33m,\u001b[0m \u001b[0mshape_color\u001b[0m\u001b[1;33m=\u001b[0m\u001b[0msty\u001b[0m\u001b[1;33m[\u001b[0m\u001b[1;36m0\u001b[0m\u001b[1;33m:\u001b[0m\u001b[1;36m3\u001b[0m\u001b[1;33m]\u001b[0m\u001b[1;33m,\u001b[0m \u001b[0mrender_edges\u001b[0m\u001b[1;33m=\u001b[0m\u001b[1;32mTrue\u001b[0m\u001b[1;33m)\u001b[0m\u001b[1;33m\u001b[0m\u001b[1;33m\u001b[0m\u001b[0m\n\u001b[0;32m     20\u001b[0m             \u001b[0mself\u001b[0m\u001b[1;33m.\u001b[0m\u001b[0mproducts\u001b[0m\u001b[1;33m.\u001b[0m\u001b[0mappend\u001b[0m\u001b[1;33m(\u001b[0m\u001b[0mproduct\u001b[0m\u001b[1;33m)\u001b[0m\u001b[1;33m\u001b[0m\u001b[1;33m\u001b[0m\u001b[0m\n",
      "\u001b[1;32m~\\OneDrive\\github\\Data_science_for_architecture\\ifc_analysis\\IFC_analysis_with_IfcOpenShell\\02_Introduction_to_Python_for_use_with_BIM\\ifc_viewer.py\u001b[0m in \u001b[0;36msubshapes\u001b[1;34m(shp)\u001b[0m\n\u001b[0;32m     10\u001b[0m     \u001b[1;32mdef\u001b[0m \u001b[0msubshapes\u001b[0m\u001b[1;33m(\u001b[0m\u001b[0mshp\u001b[0m\u001b[1;33m)\u001b[0m\u001b[1;33m:\u001b[0m\u001b[1;33m\u001b[0m\u001b[1;33m\u001b[0m\u001b[0m\n\u001b[0;32m     11\u001b[0m         \u001b[1;32mimport\u001b[0m \u001b[0mOCC\u001b[0m\u001b[1;33m.\u001b[0m\u001b[0mCore\u001b[0m\u001b[1;33m.\u001b[0m\u001b[0mTopoDS\u001b[0m\u001b[1;33m\u001b[0m\u001b[1;33m\u001b[0m\u001b[0m\n\u001b[1;32m---> 12\u001b[1;33m         \u001b[0mit\u001b[0m \u001b[1;33m=\u001b[0m \u001b[0mOCC\u001b[0m\u001b[1;33m.\u001b[0m\u001b[0mCore\u001b[0m\u001b[1;33m.\u001b[0m\u001b[0mTopoDS\u001b[0m\u001b[1;33m.\u001b[0m\u001b[0mTopoDS_Iterator\u001b[0m\u001b[1;33m(\u001b[0m\u001b[0mshp\u001b[0m\u001b[1;33m)\u001b[0m\u001b[1;33m\u001b[0m\u001b[1;33m\u001b[0m\u001b[0m\n\u001b[0m\u001b[0;32m     13\u001b[0m         \u001b[1;32mwhile\u001b[0m \u001b[0mit\u001b[0m\u001b[1;33m.\u001b[0m\u001b[0mMore\u001b[0m\u001b[1;33m(\u001b[0m\u001b[1;33m)\u001b[0m\u001b[1;33m:\u001b[0m\u001b[1;33m\u001b[0m\u001b[1;33m\u001b[0m\u001b[0m\n\u001b[0;32m     14\u001b[0m             \u001b[1;32myield\u001b[0m \u001b[0mit\u001b[0m\u001b[1;33m.\u001b[0m\u001b[0mValue\u001b[0m\u001b[1;33m(\u001b[0m\u001b[1;33m)\u001b[0m\u001b[1;33m\u001b[0m\u001b[1;33m\u001b[0m\u001b[0m\n",
      "\u001b[1;32m~\\anaconda3\\lib\\site-packages\\OCC\\Core\\TopoDS.py\u001b[0m in \u001b[0;36m__init__\u001b[1;34m(self, *args)\u001b[0m\n\u001b[0;32m   1036\u001b[0m \u001b[1;33m\u001b[0m\u001b[0m\n\u001b[0;32m   1037\u001b[0m         \"\"\"\n\u001b[1;32m-> 1038\u001b[1;33m         \u001b[0m_TopoDS\u001b[0m\u001b[1;33m.\u001b[0m\u001b[0mTopoDS_Iterator_swiginit\u001b[0m\u001b[1;33m(\u001b[0m\u001b[0mself\u001b[0m\u001b[1;33m,\u001b[0m \u001b[0m_TopoDS\u001b[0m\u001b[1;33m.\u001b[0m\u001b[0mnew_TopoDS_Iterator\u001b[0m\u001b[1;33m(\u001b[0m\u001b[1;33m*\u001b[0m\u001b[0margs\u001b[0m\u001b[1;33m)\u001b[0m\u001b[1;33m)\u001b[0m\u001b[1;33m\u001b[0m\u001b[1;33m\u001b[0m\u001b[0m\n\u001b[0m\u001b[0;32m   1039\u001b[0m \u001b[1;33m\u001b[0m\u001b[0m\n\u001b[0;32m   1040\u001b[0m     \u001b[1;32mdef\u001b[0m \u001b[0mInitialize\u001b[0m\u001b[1;33m(\u001b[0m\u001b[0mself\u001b[0m\u001b[1;33m,\u001b[0m \u001b[1;33m*\u001b[0m\u001b[0margs\u001b[0m\u001b[1;33m)\u001b[0m \u001b[1;33m->\u001b[0m \u001b[1;34m\"void\"\u001b[0m\u001b[1;33m:\u001b[0m\u001b[1;33m\u001b[0m\u001b[1;33m\u001b[0m\u001b[0m\n",
      "\u001b[1;31mTypeError\u001b[0m: Wrong number or type of arguments for overloaded function 'new_TopoDS_Iterator'.\n  Possible C/C++ prototypes are:\n    TopoDS_Iterator::TopoDS_Iterator()\n    TopoDS_Iterator::TopoDS_Iterator(TopoDS_Shape const &,Standard_Boolean const,Standard_Boolean const)\n"
     ]
    }
   ],
   "source": [
    "# and ...\n",
    "        \n",
    "viewer = ifc_viewer()\n",
    "\n",
    "for product, (shape, styles) in geometry.items():\n",
    "    # if not product.is_a(\"IfcWall\"): continue\n",
    "    viewer.DisplayShape(product, geometry, styles)\n",
    "    \n",
    "viewer.Display()"
   ]
  },
  {
   "cell_type": "markdown",
   "metadata": {},
   "source": [
    "Cool, now we go back to the proposed exercise."
   ]
  },
  {
   "cell_type": "code",
   "execution_count": 20,
   "metadata": {},
   "outputs": [],
   "source": [
    "# Storing all windows of the file by ising the by_type function of the file class \n",
    "\n",
    "windows = file.by_type(\"IfcWindow\")"
   ]
  },
  {
   "cell_type": "code",
   "execution_count": 21,
   "metadata": {},
   "outputs": [],
   "source": [
    "# Setting the geometry settings. \n",
    "\n",
    "s = ifcopenshell.geom.settings()\n",
    "s.set(s.USE_PYTHON_OPENCASCADE, True)"
   ]
  },
  {
   "cell_type": "code",
   "execution_count": 22,
   "metadata": {},
   "outputs": [],
   "source": [
    "# Instansiationg a viewer object from the ifc_viewer class\n",
    "\n",
    "viewer = ifc_viewer()"
   ]
  },
  {
   "cell_type": "code",
   "execution_count": 23,
   "metadata": {},
   "outputs": [
    {
     "data": {
      "application/vnd.jupyter.widget-view+json": {
       "model_id": "ae44d8f8b627448a8a9ae1f170f701f9",
       "version_major": 2,
       "version_minor": 0
      },
      "text/plain": [
       "HBox(children=(VBox(children=(HBox(children=(Checkbox(value=True, description='Axes', layout=Layout(height='au…"
      ]
     },
     "metadata": {},
     "output_type": "display_data"
    }
   ],
   "source": [
    "# Running through all window elements and create a shape and add it to the viewer for displaying.\n",
    "\n",
    "for window in windows:\n",
    "    shape = ifcopenshell.geom.create_shape(s, window)\n",
    "    viewer.DisplayShape(window, shape.geometry, shape.styles)\n",
    "\n",
    "viewer.Display()"
   ]
  },
  {
   "cell_type": "code",
   "execution_count": null,
   "metadata": {},
   "outputs": [],
   "source": []
  },
  {
   "cell_type": "code",
   "execution_count": null,
   "metadata": {},
   "outputs": [],
   "source": []
  }
 ],
 "metadata": {
  "kernelspec": {
   "display_name": "Python 3",
   "language": "python",
   "name": "python3"
  },
  "language_info": {
   "codemirror_mode": {
    "name": "ipython",
    "version": 3
   },
   "file_extension": ".py",
   "mimetype": "text/x-python",
   "name": "python",
   "nbconvert_exporter": "python",
   "pygments_lexer": "ipython3",
   "version": "3.8.5"
  }
 },
 "nbformat": 4,
 "nbformat_minor": 2
}

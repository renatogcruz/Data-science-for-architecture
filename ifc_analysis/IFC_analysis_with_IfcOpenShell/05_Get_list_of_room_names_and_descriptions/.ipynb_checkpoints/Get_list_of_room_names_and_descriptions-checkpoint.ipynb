{
 "cells": [
  {
   "cell_type": "markdown",
   "metadata": {},
   "source": [
    "# Atualizar os nomes dos quartos em um modelo\n",
    "\n",
    "Existem muitas situações em que você gostaria de atualizar as informações em um arquivo IFC. Um caso pode ser a necessidade de atualizar informações sobre quartos em um modelo.\n",
    "\n",
    "As salas de um modelo ifc são do tipo [IfcSpace](https://standards.buildingsmart.org/IFC/RELEASE/IFC2x3/FINAL/HTML/ifcproductextension/lexical/ifcspace.htm) e existem muitas maneiras possíveis de adicionar informações a ele como atributos diretos e em conjuntos de propriedades predefinidas ou definidas de outra forma.\n",
    "\n",
    "Como o **IfcSpace** herda de [IfcRoot](https://standards.buildingsmart.org/IFC/RELEASE/IFC2x3/TC1/HTML/ifckernel/lexical/ifcroot.htm), ele tem atributos diretos de **Name**, **Description**, **GlobalID** e além disso, o [IfcSpatialStructureElement](https://standards.buildingsmart.org/IFC/RELEASE/IFC2x3/FINAL/HTML/ifcproductextension/lexical/ifcspatialstructureelement.htm) também tem o atributo **LongName**.\n",
    "\n",
    "Neste caso, estamos interessados em obter o Name, LongName e GlobalID de todos os quartos no modelo em um formato editável para verificar e atualizar os nomes dos quartos.\n",
    "\n",
    "Então, vamos percorrer\n",
    "\n",
    "1. Como obter um arquivo ifc, consultar sua sala e os atributos diretos de Name, LongName e GlobalID\n",
    "2. Grave isso em um arquivo csv para manipular em um editor de terceiros como, por exemplo. Planilha do Google ou Excel.\n",
    "3. A seguir, mostramos como ler essas informações de um arquivo csv (separado por \",\") e atualizar o modelo IFC."
   ]
  },
  {
   "cell_type": "markdown",
   "metadata": {},
   "source": [
    "## 1. Obtendo os quartos e atributos da IFC"
   ]
  },
  {
   "cell_type": "code",
   "execution_count": 2,
   "metadata": {},
   "outputs": [],
   "source": [
    "# importar biblioteca ifcopenshell e abrir arquivo ifc usando ifcopenshell\n",
    "\n",
    "import ifcopenshell \n",
    "\n",
    "file = ifcopenshell.open(\"Grethes-hus-bok-2.ifc\")"
   ]
  },
  {
   "cell_type": "code",
   "execution_count": 8,
   "metadata": {},
   "outputs": [
    {
     "name": "stdout",
     "output_type": "stream",
     "text": [
      "Exitem 8 salas neste modelo\n"
     ]
    }
   ],
   "source": [
    "# Obtém uma referência para todos os objetos no arquivo que são do tipo \"IfcSpace\", obtendo efetivamente a \n",
    "# lista de todos os quartos no modelo.\n",
    "\n",
    "rooms = file.by_type(\"IfcSpace\")\n",
    "\n",
    "print(f\"Exitem {len(rooms)} salas neste modelo\")"
   ]
  },
  {
   "cell_type": "code",
   "execution_count": 9,
   "metadata": {},
   "outputs": [
    {
     "name": "stdout",
     "output_type": "stream",
     "text": [
      "\n",
      "    Nome da sala (room):\t\t 1\n",
      "    LongName:\t\t Kjøkken øst\n",
      "    Descrição da sala: None\t\t\n",
      "    GUID da sala: 1gY9E27$nCk8ELruXgAK4X\n",
      "\n",
      "    Nome da sala (room):\t\t 2\n",
      "    LongName:\t\t Stue øst\n",
      "    Descrição da sala: None\t\t\n",
      "    GUID da sala: 1gY9E27$nCk8ELruXgAK4k\n",
      "\n",
      "    Nome da sala (room):\t\t 3\n",
      "    LongName:\t\t Bod øst\n",
      "    Descrição da sala: None\t\t\n",
      "    GUID da sala: 1gY9E27$nCk8ELruXgAK4h\n",
      "\n",
      "    Nome da sala (room):\t\t 4\n",
      "    LongName:\t\t Bad øst\n",
      "    Descrição da sala: None\t\t\n",
      "    GUID da sala: 1gY9E27$nCk8ELruXgAK4e\n",
      "\n",
      "    Nome da sala (room):\t\t 5\n",
      "    LongName:\t\t Bad vest\n",
      "    Descrição da sala: None\t\t\n",
      "    GUID da sala: 1gY9E27$nCk8ELruXgAK3L\n",
      "\n",
      "    Nome da sala (room):\t\t 6\n",
      "    LongName:\t\t Bod vest\n",
      "    Descrição da sala: None\t\t\n",
      "    GUID da sala: 1gY9E27$nCk8ELruXgAK3I\n",
      "\n",
      "    Nome da sala (room):\t\t 7\n",
      "    LongName:\t\t Stue vest\n",
      "    Descrição da sala: None\t\t\n",
      "    GUID da sala: 1gY9E27$nCk8ELruXgAK3V\n",
      "\n",
      "    Nome da sala (room):\t\t 8\n",
      "    LongName:\t\t Kjøkken vest\n",
      "    Descrição da sala: None\t\t\n",
      "    GUID da sala: 1gY9E27$nCk8ELruXgAK3S\n"
     ]
    }
   ],
   "source": [
    "## Percorra as salas e imprima o valor de seus atributos para fins de visualização intermediária.\n",
    "\n",
    "for room in rooms:                                        \n",
    "    print(f\"\"\"\n",
    "    Nome da sala (room):\\t\\t {room.Name}\n",
    "    LongName:\\t\\t {room.LongName}\n",
    "    Descrição da sala: {room.Description}\\t\\t\n",
    "    GUID da sala: {room.GlobalId}\"\"\")"
   ]
  },
  {
   "cell_type": "markdown",
   "metadata": {},
   "source": [
    "## 2. Escreva os atributos GlobalID, Name e LongName de todas as salas em csv"
   ]
  },
  {
   "cell_type": "code",
   "execution_count": 10,
   "metadata": {},
   "outputs": [],
   "source": [
    "## Grave GUID, NAME, LongName de salas em um arquivo csv para uso em outros aplicativos\n",
    "\n",
    "import csv\n",
    "\n",
    "with open('rooms.csv', 'w') as csvfile:\n",
    "    fieldnames = ['GUID', 'Name','LongName','NameToUpdate']\n",
    "    writer = csv.DictWriter(csvfile, fieldnames=fieldnames)\n",
    "\n",
    "    writer.writeheader()\n",
    "    for room in rooms:\n",
    "        writer.writerow({'GUID': room.GlobalId, 'Name': room.Name, 'LongName': room.LongName,'NameToUpdate':''})\n"
   ]
  },
  {
   "cell_type": "markdown",
   "metadata": {},
   "source": [
    "Documentação » A biblioteca padrão do Python\n",
    "    \n",
    "Mais: [csv - Leitura e gravação de arquivo CSV] (https://docs.python.org/3/library/csv.html)"
   ]
  },
  {
   "cell_type": "markdown",
   "metadata": {},
   "source": [
    "## 3. Leia o conteúdo de um arquivo csv para atualizar o nome e o nome longo das salas dos GlobalIDs fornecidos"
   ]
  },
  {
   "cell_type": "code",
   "execution_count": 11,
   "metadata": {},
   "outputs": [
    {
     "name": "stdout",
     "output_type": "stream",
     "text": [
      "1gY9E27$nCk8ELruXgAK4X 1 Kjøkken øst\n",
      "1gY9E27$nCk8ELruXgAK4k 2 Stue øst\n",
      "1gY9E27$nCk8ELruXgAK4h 3 Bod øst\n",
      "1gY9E27$nCk8ELruXgAK4e 4 Bad øst\n",
      "1gY9E27$nCk8ELruXgAK3L 5 Bad vest\n",
      "1gY9E27$nCk8ELruXgAK3I 6 Bod vest\n",
      "1gY9E27$nCk8ELruXgAK3V 7 Stue vest\n",
      "1gY9E27$nCk8ELruXgAK3S 8 Kjøkken vest\n"
     ]
    }
   ],
   "source": [
    "## Crie uma lista para conter cada objeto do quarto que mais tarde será adicionado ao modelo\n",
    "## Isso assume um formato semelhante ao csv que foi escrito.\n",
    "# Para sua informação: este arquivo de exemplo é editado e exportado para csv novamente (\",\" delimitado) usando a \n",
    "# planilha do Google\n",
    "# Outros aplicativos podem exportar com outra formatação e/ou codificação\n",
    "\n",
    "list_of_new_rooms = []\n",
    "\n",
    "with open('rooms.csv') as csvfile:\n",
    "    reader = csv.DictReader(csvfile)\n",
    "    for row in reader:\n",
    "        list_of_new_rooms.append(row)\n",
    "        print(row['GUID'], row['Name'],row['LongName'])  "
   ]
  },
  {
   "cell_type": "code",
   "execution_count": 12,
   "metadata": {},
   "outputs": [],
   "source": [
    "## Use file.by_guid(\"GlobalID\") para obter os objetos exatos do arquivo e atualizar seus atributos do arquivo.\n",
    "## Isso pega a sala por seu guid do arquivo, em seguida, atualiza seus atributos Name e LongName \n",
    "\n",
    "for room in list_of_new_rooms:\n",
    "    room_by_guid = file.by_guid(room[\"GUID\"])\n",
    "    room_by_guid.Name = room['Name']\n",
    "    room_by_guid.LongName = room['LongName']"
   ]
  },
  {
   "cell_type": "code",
   "execution_count": 13,
   "metadata": {},
   "outputs": [],
   "source": [
    "## Agora os atributos Name e LongName dos espaços foram atualizados. Em seguida, \n",
    "# você pode imprimir uma nova versão do arquivo ifc.\n",
    "## Agora o arquivo está armazenado em sua pasta de início. \n",
    "\n",
    "new_file_name = \"new_kontorbyggDIBK.ifc\"\n",
    "file.write(new_file_name)"
   ]
  },
  {
   "cell_type": "markdown",
   "metadata": {},
   "source": [
    "# Extra - verifique IfcCSV!\n",
    "\n",
    "[BlenderBIM IFCCSV](https://wiki.osarch.org/index.php?title=BlenderBIM_IFCCSV) - O recurso IFC CSV do IfcOpenShell é implementado no complemento BlenderBIM\n",
    "\n",
    "Tour do BlenderBIM com Dion Moult - IFCCSV - [vídeo](https://www.youtube.com/watch?v=ZeMkG6jTzAg)\n",
    "\n",
    "<img src=\"blender.png\">"
   ]
  },
  {
   "cell_type": "code",
   "execution_count": null,
   "metadata": {},
   "outputs": [],
   "source": []
  }
 ],
 "metadata": {
  "kernelspec": {
   "display_name": "Python 3",
   "language": "python",
   "name": "python3"
  },
  "language_info": {
   "codemirror_mode": {
    "name": "ipython",
    "version": 3
   },
   "file_extension": ".py",
   "mimetype": "text/x-python",
   "name": "python",
   "nbconvert_exporter": "python",
   "pygments_lexer": "ipython3",
   "version": "3.8.5"
  }
 },
 "nbformat": 4,
 "nbformat_minor": 2
}

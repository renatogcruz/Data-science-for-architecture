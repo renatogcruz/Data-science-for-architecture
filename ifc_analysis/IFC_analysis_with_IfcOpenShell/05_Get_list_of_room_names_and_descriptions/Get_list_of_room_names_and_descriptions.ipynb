{
 "cells": [
  {
   "cell_type": "markdown",
   "metadata": {},
   "source": [
    "# Updating the names of rooms in a model\n",
    "\n",
    "There are many situations one would like to update information in an IFC file. One case might be the need to update information on rooms in a model. \n",
    "\n",
    "The Rooms of a ifc model is of type [IfcSpace](http://www.buildingsmart-tech.org/ifc/IFC2x3/TC1/html/ifcproductextension/lexical/ifcspace.htm) and there are many posible ways of adding information to it both as direct attributes and in predefined or otherwise defined property sets. \n",
    "\n",
    "As IfcSpace inherits from [IfcRoot](http://www.buildingsmart-tech.org/ifc/IFC2x3/TC1/html/ifckernel/lexical/ifcroot.htm) it has direct attributes of Name, Description, GlobalID and as it is aslo a [IfcSpatialStructureElement](http://www.buildingsmart-tech.org/ifc/IFC2x3/TC1/html/ifcproductextension/lexical/ifcspatialstructureelement.htm) it also has the attribute of LongName. \n",
    "\n",
    "In this case we are interested in getting the Name, LongName, and GlobalID of all rooms in the model in an editable format to check and update Room Names. \n",
    "\n",
    "So, we'll walk through \n",
    "\n",
    "1. How to get an ifc file, query its room and direct attributes of Name, LongName and GlobalID\n",
    "2. Write that to a csv file to handle in a 3rd party editor like eg. Google Spreadsheet, or Excel. \n",
    "3. Next we show how to read in this information from a csv file (separated by \",\") and update the IFC model. "
   ]
  },
  {
   "cell_type": "markdown",
   "metadata": {},
   "source": [
    "## 1. Getting the rooms and attributes from IFC"
   ]
  },
  {
   "cell_type": "code",
   "execution_count": 1,
   "metadata": {},
   "outputs": [],
   "source": [
    "# parse in the file using ifcopenshell\n",
    "import ifcopenshell \n",
    "\n",
    "file = ifcopenshell.open(\"models/Grethes-hus-bok-2.ifc\")"
   ]
  },
  {
   "cell_type": "code",
   "execution_count": 2,
   "metadata": {},
   "outputs": [
    {
     "name": "stdout",
     "output_type": "stream",
     "text": [
      "There are 8 rooms in this model\n"
     ]
    }
   ],
   "source": [
    "# get a reference to all objects in file that are of type \"IfcSpace\", effectively getting the list of all rooms in model. \n",
    "rooms = file.by_type(\"IfcSpace\")\n",
    "\n",
    "print(\"There are {} rooms in this model\".format(len(rooms)))"
   ]
  },
  {
   "cell_type": "code",
   "execution_count": 9,
   "metadata": {},
   "outputs": [
    {
     "name": "stdout",
     "output_type": "stream",
     "text": [
      "\n",
      "    Room Name:\t\t 1\n",
      "    LongName:\t\t Kjøkken øst\n",
      "    Room Description: None\t\t\n",
      "    Room GUID: 1gY9E27$nCk8ELruXgAK4X\n",
      "\n",
      "    Room Name:\t\t 2\n",
      "    LongName:\t\t Stue øst\n",
      "    Room Description: None\t\t\n",
      "    Room GUID: 1gY9E27$nCk8ELruXgAK4k\n",
      "\n",
      "    Room Name:\t\t 3\n",
      "    LongName:\t\t Bod øst\n",
      "    Room Description: None\t\t\n",
      "    Room GUID: 1gY9E27$nCk8ELruXgAK4h\n",
      "\n",
      "    Room Name:\t\t 4\n",
      "    LongName:\t\t Bad øst\n",
      "    Room Description: None\t\t\n",
      "    Room GUID: 1gY9E27$nCk8ELruXgAK4e\n",
      "\n",
      "    Room Name:\t\t 5\n",
      "    LongName:\t\t Bad vest\n",
      "    Room Description: None\t\t\n",
      "    Room GUID: 1gY9E27$nCk8ELruXgAK3L\n"
     ]
    }
   ],
   "source": [
    "## Loop through the first 5 rooms and print the value of its attributes for mid-step visualization purposes.\n",
    "for room in rooms[:5]: ## Feel free to remove \":5\" to print out all rooms. \n",
    "    print(\"\"\"\n",
    "    Room Name:\\t\\t {}\n",
    "    LongName:\\t\\t {}\n",
    "    Room Description: {}\\t\\t\n",
    "    Room GUID: {}\"\"\".format(room.Name,room.LongName,room.Description,room.GlobalId))"
   ]
  },
  {
   "cell_type": "markdown",
   "metadata": {},
   "source": [
    "## 2. Write out the GlobalID, Name and LongName attributes of all rooms into csv"
   ]
  },
  {
   "cell_type": "code",
   "execution_count": 10,
   "metadata": {},
   "outputs": [],
   "source": [
    "## Write GUID, NAME, LongName of rooms to a csv file for use in other applications\n",
    "\n",
    "import csv\n",
    "\n",
    "with open('rooms.csv', 'w') as csvfile:\n",
    "    fieldnames = ['GUID', 'Name','LongName','NameToUpdate']\n",
    "    writer = csv.DictWriter(csvfile, fieldnames=fieldnames)\n",
    "\n",
    "    writer.writeheader()\n",
    "    for room in rooms:\n",
    "        writer.writerow({'GUID': room.GlobalId, 'Name': room.Name, 'LongName': room.LongName,'NameToUpdate':''})\n"
   ]
  },
  {
   "cell_type": "markdown",
   "metadata": {},
   "source": [
    "## 3. Read in the content of a csv file to update the Name and LongName of the Rooms of the Given GlobalIDs"
   ]
  },
  {
   "cell_type": "code",
   "execution_count": 5,
   "metadata": {},
   "outputs": [],
   "source": [
    "## Create a list to hold each room objects that later is to be added to model\n",
    "## This assumes similar format as the csv that was written out. \n",
    "# FYI: This example file is edited and exported to csv again (\",\" delimetered) using Google Spreadsheet\n",
    "# Other applications could export with other formatting and/or encoding\n",
    "\n",
    "list_of_new_rooms = []\n",
    "with open('new_rooms.csv') as csvfile:\n",
    "    reader = csv.DictReader(csvfile)\n",
    "    for row in reader:\n",
    "        list_of_new_rooms.append(row)\n",
    "        #print(row['GUID'], row['Name'],row['LongName']) ## uncomment this to print out each row. "
   ]
  },
  {
   "cell_type": "code",
   "execution_count": 6,
   "metadata": {},
   "outputs": [],
   "source": [
    "## Use file.by_guid(\"GlobalID\") to get the exact objects from file, and update its attributes from file. \n",
    "## This gets the room by its guid from the file, then updates its Name and LongName attributes \n",
    "for room in list_of_new_rooms:\n",
    "    room_by_guid = file.by_guid(room[\"GUID\"])\n",
    "    room_by_guid.Name = room['Name']\n",
    "    room_by_guid.LongName = room['LongName']"
   ]
  },
  {
   "cell_type": "code",
   "execution_count": 7,
   "metadata": {},
   "outputs": [],
   "source": [
    "## Now the Name and LongName attributes of the spaces have been updated. Then you can print a new version of the ifc file. \n",
    "## Now the file is stored in your home folder. \n",
    "new_file_name = \"new_kontorbyggDIBK.ifc\"\n",
    "file.write(new_file_name)"
   ]
  },
  {
   "cell_type": "code",
   "execution_count": null,
   "metadata": {},
   "outputs": [],
   "source": []
  }
 ],
 "metadata": {
  "kernelspec": {
   "display_name": "Python 3",
   "language": "python",
   "name": "python3"
  },
  "language_info": {
   "codemirror_mode": {
    "name": "ipython",
    "version": 3
   },
   "file_extension": ".py",
   "mimetype": "text/x-python",
   "name": "python",
   "nbconvert_exporter": "python",
   "pygments_lexer": "ipython3",
   "version": "3.6.5"
  }
 },
 "nbformat": 4,
 "nbformat_minor": 2
}

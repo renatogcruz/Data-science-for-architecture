{
 "cells": [
  {
   "cell_type": "markdown",
   "metadata": {},
   "source": [
    "# Testing file from previous exercise\n",
    "\n"
   ]
  },
  {
   "cell_type": "code",
   "execution_count": 1,
   "metadata": {},
   "outputs": [],
   "source": [
    "# importing ifcopenshell\n",
    "\n",
    "import ifcopenshell \n",
    "\n",
    "file = ifcopenshell.open(\"new_kontorbyggDIBK.ifc\")"
   ]
  },
  {
   "cell_type": "code",
   "execution_count": 2,
   "metadata": {},
   "outputs": [
    {
     "name": "stdout",
     "output_type": "stream",
     "text": [
      "There are 8 rooms in this model\n"
     ]
    }
   ],
   "source": [
    "# get reference to objects of type \"IfcSpace\"\n",
    "\n",
    "\n",
    "rooms = file.by_type(\"IfcSpace\")\n",
    "\n",
    "print(f\"There are {len(rooms)} rooms in this model\")"
   ]
  },
  {
   "cell_type": "code",
   "execution_count": 3,
   "metadata": {},
   "outputs": [
    {
     "name": "stdout",
     "output_type": "stream",
     "text": [
      "\n",
      "    Room Name:\t\t 1\n",
      "    LongName:\t\t Kjøkken øst\n",
      "    Room Description: None\t\t\n",
      "    Room GUID: 1gY9E27$nCk8ELruXgAK4X\n",
      "\n",
      "    Room Name:\t\t 2\n",
      "    LongName:\t\t Stue øst\n",
      "    Room Description: None\t\t\n",
      "    Room GUID: 1gY9E27$nCk8ELruXgAK4k\n",
      "\n",
      "    Room Name:\t\t 3\n",
      "    LongName:\t\t Bod øst\n",
      "    Room Description: None\t\t\n",
      "    Room GUID: 1gY9E27$nCk8ELruXgAK4h\n",
      "\n",
      "    Room Name:\t\t 4\n",
      "    LongName:\t\t Bad øst\n",
      "    Room Description: None\t\t\n",
      "    Room GUID: 1gY9E27$nCk8ELruXgAK4e\n",
      "\n",
      "    Room Name:\t\t 5\n",
      "    LongName:\t\t Bad vest\n",
      "    Room Description: None\t\t\n",
      "    Room GUID: 1gY9E27$nCk8ELruXgAK3L\n",
      "\n",
      "    Room Name:\t\t 6\n",
      "    LongName:\t\t Bod vest\n",
      "    Room Description: None\t\t\n",
      "    Room GUID: 1gY9E27$nCk8ELruXgAK3I\n",
      "\n",
      "    Room Name:\t\t 7\n",
      "    LongName:\t\t Stue vest\n",
      "    Room Description: None\t\t\n",
      "    Room GUID: 1gY9E27$nCk8ELruXgAK3V\n",
      "\n",
      "    Room Name:\t\t 8\n",
      "    LongName:\t\t Kjøkken vest\n",
      "    Room Description: None\t\t\n",
      "    Room GUID: 1gY9E27$nCk8ELruXgAK3S\n"
     ]
    }
   ],
   "source": [
    "## Loop through the rooms again and print your new values\n",
    "\n",
    "for room in rooms:                                        \n",
    "    print(f\"\"\"\n",
    "    Room Name:\\t\\t {room.Name}\n",
    "    LongName:\\t\\t {room.LongName}\n",
    "    Room Description: {room.Description}\\t\\t\n",
    "    Room GUID: {room.GlobalId}\"\"\")"
   ]
  },
  {
   "cell_type": "code",
   "execution_count": null,
   "metadata": {},
   "outputs": [],
   "source": [
    "      "
   ]
  },
  {
   "cell_type": "code",
   "execution_count": null,
   "metadata": {},
   "outputs": [],
   "source": []
  }
 ],
 "metadata": {
  "kernelspec": {
   "display_name": "Python 3",
   "language": "python",
   "name": "python3"
  },
  "language_info": {
   "codemirror_mode": {
    "name": "ipython",
    "version": 3
   },
   "file_extension": ".py",
   "mimetype": "text/x-python",
   "name": "python",
   "nbconvert_exporter": "python",
   "pygments_lexer": "ipython3",
   "version": "3.8.5"
  }
 },
 "nbformat": 4,
 "nbformat_minor": 4
}

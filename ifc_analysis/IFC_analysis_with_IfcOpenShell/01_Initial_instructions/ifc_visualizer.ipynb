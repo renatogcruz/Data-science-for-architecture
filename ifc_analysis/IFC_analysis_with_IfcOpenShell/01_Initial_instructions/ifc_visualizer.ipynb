{
 "cells": [
  {
   "cell_type": "markdown",
   "metadata": {},
   "source": [
    "# Opening IFC file using Python, IfcOpenShell and Jupyter Notebook"
   ]
  },
  {
   "cell_type": "markdown",
   "metadata": {},
   "source": [
    "### Abrindo arquivo IFC usando Python, IfcOpenShell e Jupyter Notebook\n",
    "\n",
    "[IfcOpenShell](http://ifcopenshell.org) é uma biblioteca de código aberto para trabalhar com arquivos IFC (*Industry Foundation Classes*).\n",
    "\n",
    "[Python](https://www.python.org/) é uma linguagem de programação interpretada de alto nível para fins gerais. A filosofia de design do Python enfatiza a legibilidade do código com seu uso notável de indentação significativa.\n",
    "\n",
    "O [Jupyter Notebook](https://jupyter.org/) é um aplicativo web de código aberto que permite criar e compartilhar documentos, equações, visualizações e texto narrativo que contêm código ativo.\n"
   ]
  },
  {
   "cell_type": "markdown",
   "metadata": {},
   "source": [
    "### 4 passos para vizualizar um arquivo IFC utilizando Python e IfcOpenShell no Jupyter notebook"
   ]
  },
  {
   "cell_type": "markdown",
   "metadata": {},
   "source": [
    "### Primeiro passo:\n",
    "\n",
    "Importe biblioteca **ifcopenshell**"
   ]
  },
  {
   "cell_type": "code",
   "execution_count": 1,
   "metadata": {},
   "outputs": [],
   "source": [
    "import ifcopenshell\n",
    "import ifcopenshell.geom"
   ]
  },
  {
   "cell_type": "markdown",
   "metadata": {},
   "source": [
    "### Segundo passo:\n",
    "\n",
    "Abra o arquivo IFC.\n",
    "\n",
    "Para que tudo ocorra bem:\n",
    "\n",
    "- precisamos de um arquivo IFC válido; \n",
    "- mantenha todos os arquivos no mesmo diretório ou repassar o caminho correto até o arquivo IFC.\n",
    "\n",
    "O arquivo IFC usado neste exemplo pode ser baixado [aqui](https://github.com/aothms/IfcOpenHouse).\n"
   ]
  },
  {
   "cell_type": "code",
   "execution_count": 2,
   "metadata": {},
   "outputs": [],
   "source": [
    "file = ifcopenshell.open(f\"IfcOpenHouse_IFC4.ifc\")"
   ]
  },
  {
   "cell_type": "markdown",
   "metadata": {},
   "source": [
    "Conforme já dito, o caminho do arquivo na célula acima deve apontar para o local correto para encontrar o arquivo IFC válido."
   ]
  },
  {
   "cell_type": "markdown",
   "metadata": {},
   "source": [
    "### Terceiro passo:\n",
    "\n",
    "Prepare as configurações"
   ]
  },
  {
   "cell_type": "code",
   "execution_count": 3,
   "metadata": {},
   "outputs": [],
   "source": [
    "settings = ifcopenshell.geom.settings()\n",
    "settings.set(settings.USE_PYTHON_OPENCASCADE, True)\n",
    "geometry = dict((file[item.data.id], (item.geometry, item.styles)) \n",
    "                for item in ifcopenshell.geom.iterator(settings, file))"
   ]
  },
  {
   "cell_type": "markdown",
   "metadata": {},
   "source": [
    "### Quarta etapa:\n",
    "\n",
    "Importar ifc_viewwer\n"
   ]
  },
  {
   "cell_type": "code",
   "execution_count": 4,
   "metadata": {},
   "outputs": [
    {
     "data": {
      "application/vnd.jupyter.widget-view+json": {
       "model_id": "6a7a08e13e244a5aaadbe75d6313b7c1",
       "version_major": 2,
       "version_minor": 0
      },
      "text/plain": [
       "HBox(children=(VBox(children=(HBox(children=(Checkbox(value=True, description='Axes', layout=Layout(height='au…"
      ]
     },
     "metadata": {},
     "output_type": "display_data"
    }
   ],
   "source": [
    "from ifc_viewer import ifc_viewer\n",
    "        \n",
    "viewer = ifc_viewer()\n",
    "\n",
    "for product, (shape, styles) in geometry.items():\n",
    "    # if not product.is_a(\"IfcWall\"): continue\n",
    "    viewer.DisplayShape(product, shape, styles)\n",
    "    \n",
    "viewer.Display()"
   ]
  },
  {
   "cell_type": "code",
   "execution_count": null,
   "metadata": {},
   "outputs": [],
   "source": []
  }
 ],
 "metadata": {
  "kernelspec": {
   "display_name": "Python 3",
   "language": "python",
   "name": "python3"
  },
  "language_info": {
   "codemirror_mode": {
    "name": "ipython",
    "version": 3
   },
   "file_extension": ".py",
   "mimetype": "text/x-python",
   "name": "python",
   "nbconvert_exporter": "python",
   "pygments_lexer": "ipython3",
   "version": "3.8.5"
  }
 },
 "nbformat": 4,
 "nbformat_minor": 4
}

{
 "cells": [
  {
   "cell_type": "markdown",
   "metadata": {},
   "source": [
    "# Abrindo arquivo IFC utilizando Python, IfcOpenShell e Joypter Notebook "
   ]
  },
  {
   "cell_type": "markdown",
   "metadata": {},
   "source": [
    "IfcOpenShell é uma biblioteca de software de código aberto ( LGPL ) para trabalhar com o formato de arquivo Industry Foundation Classes ( IFC ).\n",
    "\n",
    "Python é uma linguagem de programação que permite trabalhar rapidamente e integrar sistemas de forma mais eficaz.\n",
    "\n",
    "O Jupyter Notebook é um aplicativo web de código aberto que permite criar e compartilhar documentos, equações, visualizações e texto narrativo que contenham código ativo,.\n",
    "\n",
    "Para mais informações, veja\n",
    "\n",
    "- http://ifcopenshell.org\n",
    "\n",
    "- http://academy.ifcopenshell.org\n",
    "\n",
    "- https://www.python.org/\n",
    "\n",
    "- https://jupyter.org/\n",
    "\n"
   ]
  },
  {
   "cell_type": "markdown",
   "metadata": {},
   "source": [
    "### Primeiro passo\n",
    "\n",
    "Importe a biblioteca ifcopenshell"
   ]
  },
  {
   "cell_type": "code",
   "execution_count": 7,
   "metadata": {},
   "outputs": [],
   "source": [
    "import ifcopenshell\n",
    "import ifcopenshell.geom"
   ]
  },
  {
   "cell_type": "markdown",
   "metadata": {},
   "source": [
    "### Segundo passo:\n",
    "\n",
    "Abra o abrir o arquivo IFC.\n",
    "\n",
    "Para que tudo funcione corretamente, precisamos de um arquivo IFC válido. Mantenha todos os arquivos no mesmo diretório.\n",
    "\n",
    "O arquivo IFC utilizado neste exemplo pode ser baixado [aqui](https://github.com/aothms/IfcOpenHouse)\n"
   ]
  },
  {
   "cell_type": "code",
   "execution_count": 8,
   "metadata": {},
   "outputs": [],
   "source": [
    "file = ifcopenshell.open(f\"IfcOpenHouse_IFC4.ifc\")"
   ]
  },
  {
   "cell_type": "markdown",
   "metadata": {},
   "source": [
    "Preste atenção ao caminho do arquivo de comando na célula acima. Ele deve apontar para o local correto para encontrar o arquivo IFC válido."
   ]
  },
  {
   "cell_type": "markdown",
   "metadata": {},
   "source": [
    "### Terceiro passo:"
   ]
  },
  {
   "cell_type": "code",
   "execution_count": 5,
   "metadata": {},
   "outputs": [],
   "source": [
    "settings = ifcopenshell.geom.settings()\n",
    "settings.set(settings.USE_PYTHON_OPENCASCADE, True)\n",
    "geometry = dict((file[item.data.id], (item.geometry, item.styles)) \n",
    "                for item in ifcopenshell.geom.iterator(settings, file))"
   ]
  },
  {
   "cell_type": "markdown",
   "metadata": {},
   "source": [
    "### Quarto passo:\n",
    "\n",
    "Importe o ifc_viewwer\n"
   ]
  },
  {
   "cell_type": "code",
   "execution_count": 6,
   "metadata": {},
   "outputs": [
    {
     "data": {
      "application/vnd.jupyter.widget-view+json": {
       "model_id": "3a820587e93f4b828b1c91078232a959",
       "version_major": 2,
       "version_minor": 0
      },
      "text/plain": [
       "HBox(children=(VBox(children=(HBox(children=(Checkbox(value=True, description='Axes', layout=Layout(height='au…"
      ]
     },
     "metadata": {},
     "output_type": "display_data"
    }
   ],
   "source": [
    "from ifc_viewer import ifc_viewer\n",
    "        \n",
    "viewer = ifc_viewer()\n",
    "\n",
    "for product, (shape, styles) in geometry.items():\n",
    "    # if not product.is_a(\"IfcWall\"): continue\n",
    "    viewer.DisplayShape(product, shape, styles)\n",
    "    \n",
    "viewer.Display()"
   ]
  },
  {
   "cell_type": "code",
   "execution_count": null,
   "metadata": {},
   "outputs": [],
   "source": []
  }
 ],
 "metadata": {
  "kernelspec": {
   "display_name": "Python 3",
   "language": "python",
   "name": "python3"
  },
  "language_info": {
   "codemirror_mode": {
    "name": "ipython",
    "version": 3
   },
   "file_extension": ".py",
   "mimetype": "text/x-python",
   "name": "python",
   "nbconvert_exporter": "python",
   "pygments_lexer": "ipython3",
   "version": "3.8.5"
  }
 },
 "nbformat": 4,
 "nbformat_minor": 4
}

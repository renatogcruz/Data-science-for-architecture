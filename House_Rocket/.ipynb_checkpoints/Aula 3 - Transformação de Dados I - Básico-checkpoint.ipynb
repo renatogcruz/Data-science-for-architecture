{
 "cells": [
  {
   "cell_type": "markdown",
   "metadata": {},
   "source": [
    "### Agenda\n",
    "\n",
    "1 - Novas perguntas do CEO\n",
    "\n",
    "2 - Planejamento da solução\n",
    "\n",
    "3 - Estrutura de dados\n",
    "\n",
    "4 - Transformação de dados\n",
    "\n",
    "### Novas perguntas do CEO\n",
    "\n",
    "1 - Qual o número de imóveis por ano de construção?\n",
    "\n",
    "2 - Qual o menor número de quartos por ano de construção de imóveis?\n",
    "\n",
    "3 - Qual o preço de compra mais alto por cada número de quarto?\n",
    "\n",
    "4 - Qual a soma de todos os preços de compra por número de quartos?\n",
    "\n",
    "5 - Qual a soma de todos os preços de compra por número de quartos e banheiros?\n",
    "\n",
    "6 - Qual o tamanho médio das salas dos imóveis por ano de construção?\n",
    "\n",
    "7 - Qual o tamanho mediano das salas dos imóveis por ano de construção?\n",
    "\n",
    "8 - Qual o desvio-padrão do tamanho das salas dos imóveis por ano de construção?\n",
    "\n",
    "9 - Qual o desvio-padrão do tamanho das salas dos imóveis por ano de construção?\n",
    "\n",
    "10 - Conseguir identificar (no mapa) as casas e o maior valor?"
   ]
  },
  {
   "cell_type": "code",
   "execution_count": null,
   "metadata": {},
   "outputs": [],
   "source": []
  }
 ],
 "metadata": {
  "kernelspec": {
   "display_name": "Python 3",
   "language": "python",
   "name": "python3"
  },
  "language_info": {
   "codemirror_mode": {
    "name": "ipython",
    "version": 3
   },
   "file_extension": ".py",
   "mimetype": "text/x-python",
   "name": "python",
   "nbconvert_exporter": "python",
   "pygments_lexer": "ipython3",
   "version": "3.8.5"
  }
 },
 "nbformat": 4,
 "nbformat_minor": 4
}

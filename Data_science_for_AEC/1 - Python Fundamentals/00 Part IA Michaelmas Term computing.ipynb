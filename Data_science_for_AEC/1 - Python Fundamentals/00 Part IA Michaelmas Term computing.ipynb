{
 "cells": [
  {
   "cell_type": "markdown",
   "metadata": {
    "colab_type": "text",
    "id": "XR9wEktGFjWX"
   },
   "source": [
    "# Part IA Michaelmas Term computing\n",
    "\n",
    "This is the introductory notebook for Michaelmas Term computing at the Department of Engineering at University of Cambridge. \n",
    "\n",
    "The course is for first year students in their first term, and does not assume any prior computing experience. It does assume a level of mathematical knowledge."
   ]
  },
  {
   "cell_type": "markdown",
   "metadata": {
    "colab_type": "text",
    "id": "uTPejDsvFjWY"
   },
   "source": [
    "# Structure\n",
    "\n",
    "Computing is best learned by doing, and seeking help when you need it. This course involves 12 self-study, interactive Jupyter notebook 'activities', with exercises at the end of each\n",
    "activity. The activity notebooks cover:\n",
    "\n",
    "1. [Variables, assignment and operator precedence](01%20Variables,%20assignment%20and%20operator%20precedence.ipynb)\n",
    "1. [Control statements](02%20Control%20statements.ipynb)\n",
    "1. [Types, type conversions and floating point arithmetic](03%20Types,%20type%20conversions%20and%20floating%20point%20arithmetic.ipynb)\n",
    "1. [Functions](04%20Functions.ipynb)\n",
    "1. [Library functions](05%20Library%20functions.ipynb)\n",
    "1. [Data structures](06%20Data%20structures.ipynb)\n",
    "1. [Numerical computation](07%20Numerical%20computation.ipynb)\n",
    "1. [Plotting](08%20Plotting.ipynb)\n",
    "1. [Error handling and testing](09%20Error%20handling%20and%20testing.ipynb)\n",
    "1. [Algorithms](10%20Algorithms.ipynb)\n",
    "1. [Complexity](11%20Complexity.ipynb)\n",
    "1. [Object-oriented design](12%20Object-oriented%20design.ipynb)\n",
    "\n",
    "The notebooks are designed to be completed in order. To complete an activity:\n",
    "\n",
    "1. Read through a notebook, and change parts of the programs if you want to experiment with what \n",
    "   happens - this will help your understanding. \n",
    "1. Complete the exercises for the notebook before moving onto the next activity.\n",
    "\n",
    "As you move through the activities you might need to revise some of the earlier notebooks."
   ]
  },
  {
   "cell_type": "markdown",
   "metadata": {
    "colab_type": "text",
    "id": "SvekVvVfFjWZ"
   },
   "source": [
    "# Completing exercises\n",
    "\n",
    "Exercises for each notebook are in the [Exercises](Exercises/) directory.\n",
    "\n",
    "- Use Markdown cells, and where appropriate add equations using LaTeX, to describe what your program is doing.\n",
    "- For longer exercises, you may want to break your program into multiple cells, with descriptions in \n",
    "  Markdown before cells with code.\n",
    "- Most exercises include some automated testing to provide feedback on the correctness of \n",
    "  your implementations. You are not expected to understand the test syntax to start.   \n",
    "  \n",
    "You are required to present your exercise solutions at a marking session. Check the lab rota for your timetabled marking slot."
   ]
  },
  {
   "cell_type": "markdown",
   "metadata": {
    "colab_type": "text",
    "id": "X3uMRAE7FjWa"
   },
   "source": [
    "# Getting help\n",
    "\n",
    "The best resource is the Internet. For Cambridge students there is also:\n",
    "\n",
    "1. The help forum at https://www.allanswered.com/community/s/cued-part-ia-computing/.\n",
    "   \n",
    "   This should be the first place you look for help - at any time \n",
    "   of the day or night. Check first if your question has already\n",
    "   been asked and answered, and if not post a new question. Follow the forum guidelines \n",
    "   on how to ask a question.\n",
    "   \n",
    "2. Help Desk in the DPO\n",
    "\n",
    "\n",
    "\n",
    "Para conseguir ajuda:\n",
    "\n",
    "1 - Dúvidas sintaxe, lógica entre outros: consultar [doc Python](https://docs.python.org/pt-br/3/tutorial/)\n",
    "\n",
    "2 - Erros de execução: [stackoverflow](https://stackoverflow.com/) ou [doc Python](https://docs.python.org/pt-br/3/tutorial/errors.html)"
   ]
  },
  {
   "cell_type": "markdown",
   "metadata": {
    "colab_type": "text",
    "id": "7QUZxw5KFjWb"
   },
   "source": [
    "## Providing help\n",
    "\n",
    "Please help out by answering questions on the AllAnswered forum. Helping each other is encouraged - if you receive help make sure that you do understand what you have done."
   ]
  },
  {
   "cell_type": "markdown",
   "metadata": {
    "colab_type": "text",
    "id": "SDPyZv09FjWb"
   },
   "source": [
    "# Jupyter notebooks\n",
    "\n",
    "This is a Jupyter Notebook. We will be computing using Jupyter Notebooks (https://jupyter.org/) and \n",
    "the programming language Python (https://www.python.org/).\n",
    "Jupyter Notebooks  provide an interactive environment where you can mix text, equations, programming\n",
    "and visual outputs. This is new technology that is increasingly widely used, and it is all open-source. \n",
    "You will find Jupyter Notebooks useful throughout the course."
   ]
  },
  {
   "cell_type": "markdown",
   "metadata": {
    "colab_type": "text",
    "id": "vz2EpMvAFjWc"
   },
   "source": [
    "## Using notebooks\n",
    "\n",
    "See the notebook [Using notebooks](Using%20notebooks.ipynb) for guidence."
   ]
  },
  {
   "cell_type": "markdown",
   "metadata": {
    "colab_type": "text",
    "id": "OoI0IvxIFjWd"
   },
   "source": [
    "## Running notebooks\n",
    "\n",
    "### Azure notebook service\n",
    "\n",
    "Using the Jupyter service hosted at https://notebooks.azure.com/ is recommended. Log in using your CRSid.\n",
    "\n",
    "### Running locally\n",
    "\n",
    "Jupyter can be run locally. If you choose to do so, the [Anaconda](https://www.anaconda.com/download) distribution is recommended. Be sure to download the Python 3 version. Anaconda is also installed in the DPO."
   ]
  },
  {
   "cell_type": "markdown",
   "metadata": {
    "colab_type": "text",
    "id": "6sPLqMKUFjWd"
   },
   "source": [
    "## Python version\n",
    "\n",
    "We will be using exclusively Python 3. There are some subtle differences between Python 2 and Python 3. Bear this in mind if using a book or searching online. Most books still use Python 2 syntax."
   ]
  },
  {
   "cell_type": "markdown",
   "metadata": {
    "colab_type": "text",
    "id": "6iTdFCtdFjWe"
   },
   "source": [
    "# Other resources\n",
    "\n",
    "There are many online resources for learning computing, Python, and on using Jupyter notebooks.\n",
    "A search engine is the best way to find relevant material. Remember that we are using\n",
    "Python 3 and not Python 2 - you might want to add 'python 3' to any search query.\n",
    "\n",
    "A useful resource for beginners is https://www.codecademy.com/learn/python.\n",
    "\n",
    "Outros cursos de Python [AQUI](https://github.com/renatogcruz/python)."
   ]
  },
  {
   "cell_type": "code",
   "execution_count": null,
   "metadata": {},
   "outputs": [],
   "source": []
  }
 ],
 "metadata": {
  "colab": {
   "name": "00 Part IA Michaelmas Term computing.ipynb",
   "provenance": [],
   "version": "0.3.2"
  },
  "kernelspec": {
   "display_name": "Python 3",
   "language": "python",
   "name": "python3"
  },
  "language_info": {
   "codemirror_mode": {
    "name": "ipython",
    "version": 3
   },
   "file_extension": ".py",
   "mimetype": "text/x-python",
   "name": "python",
   "nbconvert_exporter": "python",
   "pygments_lexer": "ipython3",
   "version": "3.6.7"
  }
 },
 "nbformat": 4,
 "nbformat_minor": 1
}

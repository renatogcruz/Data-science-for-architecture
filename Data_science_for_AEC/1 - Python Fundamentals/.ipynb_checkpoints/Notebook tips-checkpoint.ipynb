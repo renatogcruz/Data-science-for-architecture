{
 "cells": [
  {
   "cell_type": "markdown",
   "metadata": {
    "colab_type": "text",
    "id": "y1vo6uLEo30O"
   },
   "source": [
    "# IPython magic commands\n",
    "\n",
    "When using Python with Jupyter, we are actually using the *IPython kernel* to run code. [IPython](https://ipython.org/) has what are known as *magic commands* that help us interact with Jupyter. \n",
    "Magic commands are prefixed by '`%`'.\n",
    "Magic commands are *not* part of the Python language; they are specific to IPython. In a plain Python program, magic commands would not be recognised and would lead to an error.\n",
    "\n",
    "We summarise below the magic functions that are used in the Activity notebooks.\n",
    "The full documentation for IPython magic commands is available [here](http://ipython.readthedocs.io/en/stable/interactive/magics.html)."
   ]
  },
  {
   "cell_type": "markdown",
   "metadata": {
    "colab_type": "text",
    "id": "OvyX_bW4o30P"
   },
   "source": [
    "## Matplotlib\n",
    "\n",
    "To display plots inline in a notebook, we use the magic command:"
   ]
  },
  {
   "cell_type": "code",
   "execution_count": 0,
   "metadata": {
    "colab": {},
    "colab_type": "code",
    "id": "DGPqN4i8o30P"
   },
   "outputs": [],
   "source": [
    "%matplotlib inline"
   ]
  },
  {
   "cell_type": "markdown",
   "metadata": {
    "colab_type": "text",
    "id": "TBW3iFjEo30S"
   },
   "source": [
    "The full documentation for Matplotlib magic functions is [here](http://ipython.readthedocs.io/en/stable/interactive/magics.html#magic-matplotlib)."
   ]
  },
  {
   "cell_type": "markdown",
   "metadata": {
    "colab_type": "text",
    "id": "26YehuY2o30S"
   },
   "source": [
    "## Timing programs\n",
    "\n",
    "We can use magic commands to time our programs. This is particularly useful when investigating the performance of\n",
    "different implementations."
   ]
  },
  {
   "cell_type": "markdown",
   "metadata": {
    "colab_type": "text",
    "id": "EKTuhOGGo30T"
   },
   "source": [
    "### Simple timing\n",
    "\n",
    "The magic command [`%time`](http://ipython.readthedocs.io/en/stable/interactive/magics.html?highlight=timeit#magic-time) is used to time parts of a program.\n",
    "We just add\n",
    "```python\n",
    "%time\n",
    "```\n",
    "in front of the function call we wish to time, and the time taken will be displayed. Below is an example:"
   ]
  },
  {
   "cell_type": "code",
   "execution_count": 0,
   "metadata": {
    "colab": {},
    "colab_type": "code",
    "id": "QKgw6neXo30T",
    "outputId": "6936bf03-a680-456c-821b-9b3b0087600e"
   },
   "outputs": [
    {
     "name": "stdout",
     "output_type": "stream",
     "text": [
      "CPU times: user 7.99 ms, sys: 0 ns, total: 7.99 ms\n",
      "Wall time: 7.94 ms\n"
     ]
    }
   ],
   "source": [
    "def f(x):\n",
    "    s = \"\"\n",
    "    for i in range(x):\n",
    "        s += \" \"\n",
    "    return s\n",
    "\n",
    "%time p = f(100000)"
   ]
  },
  {
   "cell_type": "markdown",
   "metadata": {
    "colab_type": "text",
    "id": "wvfd2NnKo30X"
   },
   "source": [
    "Usually we are interested in the '`Wall time`', which is the real (wall clock) time elapsed \n",
    "to run the function."
   ]
  },
  {
   "cell_type": "markdown",
   "metadata": {
    "colab_type": "text",
    "id": "bynWlhJGo30X"
   },
   "source": [
    "### Detailed timing\n",
    "\n",
    "Sometimes we want to get the time as a variable, for example to produce a plot of time versus problem size.\n",
    "In this case we use [`%timeit`](http://ipython.readthedocs.io/en/stable/interactive/magics.html?highlight=timeit#magic-timeit).\n",
    "\n",
    "`%timeit` has a number of options, including:\n",
    "\n",
    "- `-o`: Return a `TimeitResult` variable that we can query\n",
    "- `-q`: Quiet (supress output) \n",
    "- `-n`: Number of times to run code\n",
    "- `-r`: How many times to run `timeit`\n",
    "\n",
    "The return value can be queried in several ways. Below are examples."
   ]
  },
  {
   "cell_type": "code",
   "execution_count": 0,
   "metadata": {
    "colab": {},
    "colab_type": "code",
    "id": "y41kXa8bo30Y",
    "outputId": "cb5cb715-37b1-4136-d215-611ba04b2b1b"
   },
   "outputs": [
    {
     "name": "stdout",
     "output_type": "stream",
     "text": [
      "Best time: 0.05672190198674798\n",
      "58.4 ms ± 869 µs per loop (mean ± std. dev. of 2 runs, 3 loops each)\n",
      "Time for all runs: [0.17265189500176348, 0.17786804199567996]\n",
      "Time for best runs: 0.05755063166725449\n"
     ]
    }
   ],
   "source": [
    "# Problem size to test\n",
    "N = 1000000\n",
    "\n",
    "# Time the command 'p = f(N)' once, suppressing output (-q).\n",
    "t = %timeit -o -n1 -r1 -q p = f(N)\n",
    "\n",
    "# Get best (only) timing\n",
    "print(\"Best time: {}\".format(t.best))\n",
    "\n",
    "# Time the command 'p = f(N)' twice, calling three times each (not quiet)\n",
    "t = %timeit -o -n3 -r2 p = f(N)\n",
    "\n",
    "# Get results of all runs as a list (length will be 2 since we used -r2)\n",
    "print(\"Time for all runs: {}\".format(t.all_runs))\n",
    "\n",
    "# Best time will be 1/3 (since we used of lowest value in t.all_runs\n",
    "print(\"Time for best runs: {}\".format(t.best))"
   ]
  }
 ],
 "metadata": {
  "colab": {
   "name": "Notebook tips.ipynb",
   "provenance": [],
   "version": "0.3.2"
  },
  "kernelspec": {
   "display_name": "Python 3",
   "language": "python",
   "name": "python3"
  },
  "language_info": {
   "codemirror_mode": {
    "name": "ipython",
    "version": 3
   },
   "file_extension": ".py",
   "mimetype": "text/x-python",
   "name": "python",
   "nbconvert_exporter": "python",
   "pygments_lexer": "ipython3",
   "version": "3.6.7"
  }
 },
 "nbformat": 4,
 "nbformat_minor": 1
}

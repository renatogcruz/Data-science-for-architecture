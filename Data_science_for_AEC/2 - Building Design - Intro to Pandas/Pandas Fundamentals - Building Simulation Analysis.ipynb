{
 "cells": [
  {
   "cell_type": "markdown",
   "metadata": {
    "colab_type": "text",
    "id": "vsGJTlAEEqA_"
   },
   "source": [
    "# Visualization and analysis of simulated building energy data - Case Study of a Shopping Mall in Dubai\n",
    "\n",
    "- Developed by Clayton Miller (clayton@nus.edu.sg - miller.clayton@gmail.com)\n",
    "- Simulation files and visualizations created by Miguel Martin (miguel.martin@u.nus.edu.sg)"
   ]
  },
  {
   "cell_type": "markdown",
   "metadata": {
    "colab_type": "text",
    "id": "qHx2Vn9jEti9"
   },
   "source": [
    "Here is a tutorial for data analysis of simulated data from a building energy model like EnergyPlus. We will look at a scenario of a Mall based in Dubai, UAE\n",
    "\n",
    "The goal of this notebook is to illustrate how to use output files from the EnergyPlus energy simulation engine to get an initial understanding of the Pandas DataFrame and functions\n",
    "\n"
   ]
  },
  {
   "cell_type": "markdown",
   "metadata": {
    "colab_type": "text",
    "id": "F93i2oJ4P4Jz"
   },
   "source": [
    "## The Pandas online cheat sheet\n",
    "\n",
    "Throughout this and all future notebooks, we will refer to the Pandas function cheat sheet as a resource to help us understand the most important functions and how to use them\n",
    "\n",
    "https://pandas.pydata.org/Pandas_Cheat_Sheet.pdf"
   ]
  },
  {
   "cell_type": "markdown",
   "metadata": {
    "colab_type": "text",
    "id": "ObMuWIae9IJk"
   },
   "source": [
    "# Case Study -- Shopping Mall Design in Dubai\n",
    "\n",
    "### The scenario for this analysis ia shopping mall project in Dubai. Imagine you are on the design team and are asked to design this building complex.  \n",
    "- One of the biggest shopping mall of the world\n",
    "- Located in United Arab Emirates (i.e. arid climate)\n",
    "- Floor area is about 500,000 m2\n",
    "- Number of visitors every year is around 90 million\n",
    "- Building with tremendously high cooling energy demand\n",
    "\n",
    "### There will be various decisions to make about which design options to integrate into the design\n",
    "\n"
   ]
  },
  {
   "cell_type": "markdown",
   "metadata": {
    "colab_type": "text",
    "id": "wyrHmCcDA_HC"
   },
   "source": [
    "Miguel Martin (PhD student at NUS) has already created several EnergyPlus simulations of a prototype building form and produced results of monthly cooling energy. This set of tutorial videos will cover the ways to analyze the data from those simulations while learning the fundamentals of the Pandas library\n",
    "\n",
    "![alt text](https://github.com/buds-lab/the-building-data-genome-project/blob/master/docs/edx-graphics/EDX-SimulationImage-2.png?raw=true)\n",
    "\n",
    "The first thing we will do is use the pandas library to load the data set and analyze the data from the 'baseline' energy model. The units of this file is Cooling Energy GWh per month\n",
    "\n",
    "First, we need to load the `pandas` library and load the `.csv` file\n"
   ]
  },
  {
   "cell_type": "code",
   "execution_count": 1,
   "metadata": {
    "colab": {},
    "colab_type": "code",
    "id": "fNZrRtGDEfME"
   },
   "outputs": [],
   "source": [
    "import pandas as pd"
   ]
  },
  {
   "cell_type": "markdown",
   "metadata": {
    "colab_type": "text",
    "id": "ZNi_5tToHYIr"
   },
   "source": [
    "For Google Colab to find the simulation files in the Drive, we need to `mount` the drive to use the files in this notebook. We can use the `os` library to open the right folder in the Google drive\n",
    "\n",
    "\n",
    "_____\n",
    "\n",
    "\n",
    "Para jupyter notebook, use notação de string bruta para o caminho do Windows. Em python, '\\' tem significado em python. Em vez disso, tente fazer uma string como este r \"caminho\":\n",
    "\n",
    "`student_data = pd.read_csv(r\"C:\\Users\\xxxx\\Desktop\\student-intervention- \n",
    "system\\student-data.csv\")`\n",
    "\n",
    "Se não funcionar, tente desta forma:\n",
    "\n",
    "`import os`\n",
    "\n",
    "`path = os.path.join('c:' + os.sep, 'Users', 'xxxx', 'Desktop', 'student-intervention-system', 'student-data.csv')`\n",
    "`student_data = pd.read_csv(path)`"
   ]
  },
  {
   "cell_type": "code",
   "execution_count": 6,
   "metadata": {
    "colab": {},
    "colab_type": "code",
    "id": "70PCJf1OEld1"
   },
   "outputs": [],
   "source": [
    "#from google.colab import drive\n",
    "#drive.mount('/content/gdrive')\n",
    "#import os\n",
    "\n",
    "import os\n"
   ]
  },
  {
   "cell_type": "code",
   "execution_count": 8,
   "metadata": {
    "colab": {},
    "colab_type": "code",
    "id": "ftONdsLcEyyo"
   },
   "outputs": [],
   "source": [
    "#os.chdir(\"/content/gdrive/My Drive/EDX Data Science for Construction, Architecture and Engineering/2 - Building Design - Intro to Pandas/simulation_data\")\n",
    "\n",
    "os.chdir(\"C:/Users/Renato/OneDrive/github/data_science_for_arch/Data_Science_for_Construction_Architecture_and_Engineering/2 - Building Design - Intro to Pandas\\simulation_data\")\n"
   ]
  },
  {
   "cell_type": "markdown",
   "metadata": {
    "colab_type": "text",
    "id": "GKNNaFSDH2n8"
   },
   "source": [
    "We will take a look at all the files in folder using the `ls` command -- this command is typical of a linux command line and the Colab notebook let's use execute these types of commands in addition to Python"
   ]
  },
  {
   "cell_type": "code",
   "execution_count": 9,
   "metadata": {
    "colab": {},
    "colab_type": "code",
    "id": "bd9COTxqFLNw"
   },
   "outputs": [
    {
     "name": "stdout",
     "output_type": "stream",
     "text": [
      " Volume in drive C has no label.\n",
      " Volume Serial Number is F0ED-973F\n",
      "\n",
      " Directory of C:\\Users\\Renato\\OneDrive\\github\\data_science_for_arch\\Data_Science_for_Construction_Architecture_and_Engineering\\2 - Building Design - Intro to Pandas\\simulation_data\n",
      "\n",
      "01/03/2021  07:27 PM    <DIR>          .\n",
      "01/03/2021  07:27 PM    <DIR>          ..\n",
      "07/07/2019  05:52 PM               169 Baseline.csv\n",
      "08/23/2019  10:12 PM             3,974 Baseline.xlsx\n",
      "07/07/2019  05:52 PM               186 Scenario - Aircon Schedules.csv\n",
      "07/07/2019  05:52 PM               181 Scenario - Cool roof.csv\n",
      "07/07/2019  05:52 PM               186 Scenario - Increase Setpoint.csv\n",
      "07/07/2019  05:52 PM               184 Scenario - Low-E Glass.csv\n",
      "07/07/2019  05:52 PM               186 Scenario - Rooftop Gardens.csv\n",
      "               7 File(s)          5,066 bytes\n",
      "               2 Dir(s)  233,523,281,920 bytes free\n"
     ]
    }
   ],
   "source": [
    "ls"
   ]
  },
  {
   "cell_type": "markdown",
   "metadata": {
    "colab_type": "text",
    "id": "nDxflS6-YBsp"
   },
   "source": [
    "# Pandas DataFrame Object\n",
    "\n",
    "Before we do this analysis, let's look at a generic DataFrame object created from data specificied in a line of source code\n",
    "\n",
    "The following code creates a DataFrame object labelled `df`\n",
    "\n"
   ]
  },
  {
   "cell_type": "code",
   "execution_count": 10,
   "metadata": {
    "colab": {},
    "colab_type": "code",
    "id": "vur5Q6FdYMq3"
   },
   "outputs": [],
   "source": [
    "df = pd.DataFrame(\n",
    "[[4, 7, 10],\n",
    "[5, 8, 11],\n",
    "[6, 9, 12]],\n",
    "index=[1, 2, 3],\n",
    "columns=['a', 'b', 'c'])"
   ]
  },
  {
   "cell_type": "code",
   "execution_count": 11,
   "metadata": {
    "colab": {},
    "colab_type": "code",
    "id": "Rib8n129YVbX"
   },
   "outputs": [
    {
     "data": {
      "text/html": [
       "<div>\n",
       "<style scoped>\n",
       "    .dataframe tbody tr th:only-of-type {\n",
       "        vertical-align: middle;\n",
       "    }\n",
       "\n",
       "    .dataframe tbody tr th {\n",
       "        vertical-align: top;\n",
       "    }\n",
       "\n",
       "    .dataframe thead th {\n",
       "        text-align: right;\n",
       "    }\n",
       "</style>\n",
       "<table border=\"1\" class=\"dataframe\">\n",
       "  <thead>\n",
       "    <tr style=\"text-align: right;\">\n",
       "      <th></th>\n",
       "      <th>a</th>\n",
       "      <th>b</th>\n",
       "      <th>c</th>\n",
       "    </tr>\n",
       "  </thead>\n",
       "  <tbody>\n",
       "    <tr>\n",
       "      <th>1</th>\n",
       "      <td>4</td>\n",
       "      <td>7</td>\n",
       "      <td>10</td>\n",
       "    </tr>\n",
       "    <tr>\n",
       "      <th>2</th>\n",
       "      <td>5</td>\n",
       "      <td>8</td>\n",
       "      <td>11</td>\n",
       "    </tr>\n",
       "    <tr>\n",
       "      <th>3</th>\n",
       "      <td>6</td>\n",
       "      <td>9</td>\n",
       "      <td>12</td>\n",
       "    </tr>\n",
       "  </tbody>\n",
       "</table>\n",
       "</div>"
      ],
      "text/plain": [
       "   a  b   c\n",
       "1  4  7  10\n",
       "2  5  8  11\n",
       "3  6  9  12"
      ]
     },
     "execution_count": 11,
     "metadata": {},
     "output_type": "execute_result"
    }
   ],
   "source": [
    "df"
   ]
  },
  {
   "cell_type": "markdown",
   "metadata": {
    "colab_type": "text",
    "id": "bSoj4zyALn2a"
   },
   "source": [
    "# Loading Data from files\n",
    "\n",
    "Instead of creating DataFrames from scratch, we generally load data from various file types - the most common being files with the extension `.csv` or `.xlsx`. There are several pandas functions to both read and write data from and to various files. \n",
    "\n",
    "The following is a list of functions in pandas (https://pandas.pydata.org/pandas-docs/stable/user_guide/io.html):\n",
    "\n",
    "![alt text](https://github.com/buds-lab/the-building-data-genome-project/blob/master/docs/edx-graphics/EDX-SimulationImage-8.png?raw=true)\n",
    "\n",
    "### First step, let's load the baseline `.csv` file:"
   ]
  },
  {
   "cell_type": "code",
   "execution_count": 12,
   "metadata": {
    "colab": {},
    "colab_type": "code",
    "id": "PDn5xQ6H-Xpu"
   },
   "outputs": [],
   "source": [
    "baseline_data = pd.read_csv(\"Baseline.csv\")"
   ]
  },
  {
   "cell_type": "code",
   "execution_count": 13,
   "metadata": {
    "colab": {},
    "colab_type": "code",
    "id": "Q5XuU6qHhlLZ"
   },
   "outputs": [
    {
     "data": {
      "text/html": [
       "<div>\n",
       "<style scoped>\n",
       "    .dataframe tbody tr th:only-of-type {\n",
       "        vertical-align: middle;\n",
       "    }\n",
       "\n",
       "    .dataframe tbody tr th {\n",
       "        vertical-align: top;\n",
       "    }\n",
       "\n",
       "    .dataframe thead th {\n",
       "        text-align: right;\n",
       "    }\n",
       "</style>\n",
       "<table border=\"1\" class=\"dataframe\">\n",
       "  <thead>\n",
       "    <tr style=\"text-align: right;\">\n",
       "      <th></th>\n",
       "      <th>Month</th>\n",
       "      <th>Baseline</th>\n",
       "    </tr>\n",
       "  </thead>\n",
       "  <tbody>\n",
       "    <tr>\n",
       "      <th>0</th>\n",
       "      <td>January</td>\n",
       "      <td>5.69</td>\n",
       "    </tr>\n",
       "    <tr>\n",
       "      <th>1</th>\n",
       "      <td>February</td>\n",
       "      <td>6.75</td>\n",
       "    </tr>\n",
       "    <tr>\n",
       "      <th>2</th>\n",
       "      <td>March</td>\n",
       "      <td>10.64</td>\n",
       "    </tr>\n",
       "    <tr>\n",
       "      <th>3</th>\n",
       "      <td>April</td>\n",
       "      <td>13.60</td>\n",
       "    </tr>\n",
       "    <tr>\n",
       "      <th>4</th>\n",
       "      <td>May</td>\n",
       "      <td>19.34</td>\n",
       "    </tr>\n",
       "    <tr>\n",
       "      <th>5</th>\n",
       "      <td>June</td>\n",
       "      <td>22.64</td>\n",
       "    </tr>\n",
       "    <tr>\n",
       "      <th>6</th>\n",
       "      <td>July</td>\n",
       "      <td>27.02</td>\n",
       "    </tr>\n",
       "    <tr>\n",
       "      <th>7</th>\n",
       "      <td>August</td>\n",
       "      <td>27.13</td>\n",
       "    </tr>\n",
       "    <tr>\n",
       "      <th>8</th>\n",
       "      <td>September</td>\n",
       "      <td>25.04</td>\n",
       "    </tr>\n",
       "    <tr>\n",
       "      <th>9</th>\n",
       "      <td>October</td>\n",
       "      <td>18.47</td>\n",
       "    </tr>\n",
       "    <tr>\n",
       "      <th>10</th>\n",
       "      <td>November</td>\n",
       "      <td>13.02</td>\n",
       "    </tr>\n",
       "    <tr>\n",
       "      <th>11</th>\n",
       "      <td>December</td>\n",
       "      <td>7.53</td>\n",
       "    </tr>\n",
       "  </tbody>\n",
       "</table>\n",
       "</div>"
      ],
      "text/plain": [
       "        Month  Baseline\n",
       "0     January      5.69\n",
       "1    February      6.75\n",
       "2       March     10.64\n",
       "3       April     13.60\n",
       "4         May     19.34\n",
       "5        June     22.64\n",
       "6        July     27.02\n",
       "7      August     27.13\n",
       "8   September     25.04\n",
       "9     October     18.47\n",
       "10   November     13.02\n",
       "11   December      7.53"
      ]
     },
     "execution_count": 13,
     "metadata": {},
     "output_type": "execute_result"
    }
   ],
   "source": [
    "baseline_data"
   ]
  },
  {
   "cell_type": "markdown",
   "metadata": {
    "colab_type": "text",
    "id": "3ry1qwSLhsjv"
   },
   "source": [
    "Let's take a look at the attributes that we can set in a funcation like `.read_csv()`\n",
    "\n",
    "Colab give us the ability to use features like *autocomplete*:\n",
    "- Right now you will have to click on the \"Try new features\" icon in the far upper right hand corner of \n",
    "- Start typing `pd.read_csv()` and you will see the various autocomplete options\n",
    "\n",
    "![alt text](https://github.com/buds-lab/the-building-data-genome-project/blob/master/docs/edx-graphics/EDX-SimulationImage-9.png?raw=true)"
   ]
  },
  {
   "cell_type": "code",
   "execution_count": null,
   "metadata": {
    "colab": {},
    "colab_type": "code",
    "id": "LzFIdHeAhrfg"
   },
   "outputs": [],
   "source": []
  },
  {
   "cell_type": "markdown",
   "metadata": {
    "colab_type": "text",
    "id": "Pv0t4ZlxkM9g"
   },
   "source": [
    "### Attribute tuning for `.read_csv()`\n",
    "\n",
    "Right now, the file has been loaded, but let's make the `Month` column the index -- to do this we can use the attribute `index_col=`"
   ]
  },
  {
   "cell_type": "code",
   "execution_count": 16,
   "metadata": {
    "colab": {},
    "colab_type": "code",
    "id": "ZbBXZybKhruq"
   },
   "outputs": [],
   "source": [
    "baseline_data = pd.read_csv(\"Baseline.csv\", index_col='Month')"
   ]
  },
  {
   "cell_type": "code",
   "execution_count": 17,
   "metadata": {
    "colab": {},
    "colab_type": "code",
    "id": "FOT6VUOPk_f8"
   },
   "outputs": [
    {
     "data": {
      "text/html": [
       "<div>\n",
       "<style scoped>\n",
       "    .dataframe tbody tr th:only-of-type {\n",
       "        vertical-align: middle;\n",
       "    }\n",
       "\n",
       "    .dataframe tbody tr th {\n",
       "        vertical-align: top;\n",
       "    }\n",
       "\n",
       "    .dataframe thead th {\n",
       "        text-align: right;\n",
       "    }\n",
       "</style>\n",
       "<table border=\"1\" class=\"dataframe\">\n",
       "  <thead>\n",
       "    <tr style=\"text-align: right;\">\n",
       "      <th></th>\n",
       "      <th>Baseline</th>\n",
       "    </tr>\n",
       "    <tr>\n",
       "      <th>Month</th>\n",
       "      <th></th>\n",
       "    </tr>\n",
       "  </thead>\n",
       "  <tbody>\n",
       "    <tr>\n",
       "      <th>January</th>\n",
       "      <td>5.69</td>\n",
       "    </tr>\n",
       "    <tr>\n",
       "      <th>February</th>\n",
       "      <td>6.75</td>\n",
       "    </tr>\n",
       "    <tr>\n",
       "      <th>March</th>\n",
       "      <td>10.64</td>\n",
       "    </tr>\n",
       "    <tr>\n",
       "      <th>April</th>\n",
       "      <td>13.60</td>\n",
       "    </tr>\n",
       "    <tr>\n",
       "      <th>May</th>\n",
       "      <td>19.34</td>\n",
       "    </tr>\n",
       "    <tr>\n",
       "      <th>June</th>\n",
       "      <td>22.64</td>\n",
       "    </tr>\n",
       "    <tr>\n",
       "      <th>July</th>\n",
       "      <td>27.02</td>\n",
       "    </tr>\n",
       "    <tr>\n",
       "      <th>August</th>\n",
       "      <td>27.13</td>\n",
       "    </tr>\n",
       "    <tr>\n",
       "      <th>September</th>\n",
       "      <td>25.04</td>\n",
       "    </tr>\n",
       "    <tr>\n",
       "      <th>October</th>\n",
       "      <td>18.47</td>\n",
       "    </tr>\n",
       "    <tr>\n",
       "      <th>November</th>\n",
       "      <td>13.02</td>\n",
       "    </tr>\n",
       "    <tr>\n",
       "      <th>December</th>\n",
       "      <td>7.53</td>\n",
       "    </tr>\n",
       "  </tbody>\n",
       "</table>\n",
       "</div>"
      ],
      "text/plain": [
       "           Baseline\n",
       "Month              \n",
       "January        5.69\n",
       "February       6.75\n",
       "March         10.64\n",
       "April         13.60\n",
       "May           19.34\n",
       "June          22.64\n",
       "July          27.02\n",
       "August        27.13\n",
       "September     25.04\n",
       "October       18.47\n",
       "November      13.02\n",
       "December       7.53"
      ]
     },
     "execution_count": 17,
     "metadata": {},
     "output_type": "execute_result"
    }
   ],
   "source": [
    "baseline_data"
   ]
  },
  {
   "cell_type": "markdown",
   "metadata": {
    "colab_type": "text",
    "id": "nsQE9L9KLwWR"
   },
   "source": [
    "# DataFrame Objects Overview\n",
    "\n",
    "A DataFrame object is a multi-purpose two dimensional object that has dozens of functions that can be applied to it to see what's inside in different ways.\n",
    "\n",
    "A DataFrame is made up of an `index` and a set of `columnts`. \n",
    "\n",
    "The DataFrame object allows us to put data in the **tidy data** format with variables as columns and observations as rows\n"
   ]
  },
  {
   "cell_type": "code",
   "execution_count": 18,
   "metadata": {
    "colab": {},
    "colab_type": "code",
    "id": "rU3YfCqwl7Ed"
   },
   "outputs": [
    {
     "data": {
      "text/plain": [
       "Index(['January', 'February', 'March', 'April', 'May', 'June', 'July',\n",
       "       'August', 'September', 'October', 'November', 'December'],\n",
       "      dtype='object', name='Month')"
      ]
     },
     "execution_count": 18,
     "metadata": {},
     "output_type": "execute_result"
    }
   ],
   "source": [
    "baseline_data.index"
   ]
  },
  {
   "cell_type": "code",
   "execution_count": 19,
   "metadata": {
    "colab": {},
    "colab_type": "code",
    "id": "5aF-L6lgmK0g"
   },
   "outputs": [
    {
     "data": {
      "text/plain": [
       "Index(['Baseline'], dtype='object')"
      ]
     },
     "execution_count": 19,
     "metadata": {},
     "output_type": "execute_result"
    }
   ],
   "source": [
    "baseline_data.columns"
   ]
  },
  {
   "cell_type": "markdown",
   "metadata": {
    "colab_type": "text",
    "id": "ohNYmGdTm78s"
   },
   "source": [
    "The `.info()` object is useful in seeing a DataFrame in way that summarizes the number of columns and the type of data in that column. This view is also useful to understand if there are missing values"
   ]
  },
  {
   "cell_type": "code",
   "execution_count": 20,
   "metadata": {
    "colab": {},
    "colab_type": "code",
    "id": "IR1DOV4rnH3q"
   },
   "outputs": [
    {
     "name": "stdout",
     "output_type": "stream",
     "text": [
      "<class 'pandas.core.frame.DataFrame'>\n",
      "Index: 12 entries, January to December\n",
      "Data columns (total 1 columns):\n",
      "Baseline    12 non-null float64\n",
      "dtypes: float64(1)\n",
      "memory usage: 192.0+ bytes\n"
     ]
    }
   ],
   "source": [
    "baseline_data.info()"
   ]
  },
  {
   "cell_type": "markdown",
   "metadata": {
    "colab_type": "text",
    "id": "DC09AQyRmHcY"
   },
   "source": [
    "## Subset of Variables\n",
    "Each column is a Pandas *Series* object - which we can select using the name of the column inside of brackets. In this case, there is only a single column. \n",
    "\n",
    "There are two ways to select a column within a DataFrame:\n"
   ]
  },
  {
   "cell_type": "code",
   "execution_count": 21,
   "metadata": {
    "colab": {},
    "colab_type": "code",
    "id": "tquI6-ADmPJw"
   },
   "outputs": [
    {
     "data": {
      "text/plain": [
       "Month\n",
       "January       5.69\n",
       "February      6.75\n",
       "March        10.64\n",
       "April        13.60\n",
       "May          19.34\n",
       "June         22.64\n",
       "July         27.02\n",
       "August       27.13\n",
       "September    25.04\n",
       "October      18.47\n",
       "November     13.02\n",
       "December      7.53\n",
       "Name: Baseline, dtype: float64"
      ]
     },
     "execution_count": 21,
     "metadata": {},
     "output_type": "execute_result"
    }
   ],
   "source": [
    "baseline_data['Baseline']"
   ]
  },
  {
   "cell_type": "code",
   "execution_count": 22,
   "metadata": {
    "colab": {},
    "colab_type": "code",
    "id": "qqQCQi3Hmgiv"
   },
   "outputs": [
    {
     "data": {
      "text/plain": [
       "Month\n",
       "January       5.69\n",
       "February      6.75\n",
       "March        10.64\n",
       "April        13.60\n",
       "May          19.34\n",
       "June         22.64\n",
       "July         27.02\n",
       "August       27.13\n",
       "September    25.04\n",
       "October      18.47\n",
       "November     13.02\n",
       "December      7.53\n",
       "Name: Baseline, dtype: float64"
      ]
     },
     "execution_count": 22,
     "metadata": {},
     "output_type": "execute_result"
    }
   ],
   "source": [
    "baseline_data.Baseline"
   ]
  },
  {
   "cell_type": "markdown",
   "metadata": {
    "colab_type": "text",
    "id": "_Hm2QKT2l6Bp"
   },
   "source": [
    "## Subset of observations\n",
    "\n",
    "We can see only the first or last few lines using `.tail()` and `.head()`"
   ]
  },
  {
   "cell_type": "code",
   "execution_count": 23,
   "metadata": {
    "colab": {},
    "colab_type": "code",
    "id": "yJ0hxd-8Lz0C"
   },
   "outputs": [
    {
     "data": {
      "text/html": [
       "<div>\n",
       "<style scoped>\n",
       "    .dataframe tbody tr th:only-of-type {\n",
       "        vertical-align: middle;\n",
       "    }\n",
       "\n",
       "    .dataframe tbody tr th {\n",
       "        vertical-align: top;\n",
       "    }\n",
       "\n",
       "    .dataframe thead th {\n",
       "        text-align: right;\n",
       "    }\n",
       "</style>\n",
       "<table border=\"1\" class=\"dataframe\">\n",
       "  <thead>\n",
       "    <tr style=\"text-align: right;\">\n",
       "      <th></th>\n",
       "      <th>Baseline</th>\n",
       "    </tr>\n",
       "    <tr>\n",
       "      <th>Month</th>\n",
       "      <th></th>\n",
       "    </tr>\n",
       "  </thead>\n",
       "  <tbody>\n",
       "    <tr>\n",
       "      <th>January</th>\n",
       "      <td>5.69</td>\n",
       "    </tr>\n",
       "    <tr>\n",
       "      <th>February</th>\n",
       "      <td>6.75</td>\n",
       "    </tr>\n",
       "    <tr>\n",
       "      <th>March</th>\n",
       "      <td>10.64</td>\n",
       "    </tr>\n",
       "    <tr>\n",
       "      <th>April</th>\n",
       "      <td>13.60</td>\n",
       "    </tr>\n",
       "    <tr>\n",
       "      <th>May</th>\n",
       "      <td>19.34</td>\n",
       "    </tr>\n",
       "  </tbody>\n",
       "</table>\n",
       "</div>"
      ],
      "text/plain": [
       "          Baseline\n",
       "Month             \n",
       "January       5.69\n",
       "February      6.75\n",
       "March        10.64\n",
       "April        13.60\n",
       "May          19.34"
      ]
     },
     "execution_count": 23,
     "metadata": {},
     "output_type": "execute_result"
    }
   ],
   "source": [
    "baseline_data.head()"
   ]
  },
  {
   "cell_type": "code",
   "execution_count": 24,
   "metadata": {
    "colab": {},
    "colab_type": "code",
    "id": "fIU3seHMlYUZ"
   },
   "outputs": [
    {
     "data": {
      "text/html": [
       "<div>\n",
       "<style scoped>\n",
       "    .dataframe tbody tr th:only-of-type {\n",
       "        vertical-align: middle;\n",
       "    }\n",
       "\n",
       "    .dataframe tbody tr th {\n",
       "        vertical-align: top;\n",
       "    }\n",
       "\n",
       "    .dataframe thead th {\n",
       "        text-align: right;\n",
       "    }\n",
       "</style>\n",
       "<table border=\"1\" class=\"dataframe\">\n",
       "  <thead>\n",
       "    <tr style=\"text-align: right;\">\n",
       "      <th></th>\n",
       "      <th>Baseline</th>\n",
       "    </tr>\n",
       "    <tr>\n",
       "      <th>Month</th>\n",
       "      <th></th>\n",
       "    </tr>\n",
       "  </thead>\n",
       "  <tbody>\n",
       "    <tr>\n",
       "      <th>August</th>\n",
       "      <td>27.13</td>\n",
       "    </tr>\n",
       "    <tr>\n",
       "      <th>September</th>\n",
       "      <td>25.04</td>\n",
       "    </tr>\n",
       "    <tr>\n",
       "      <th>October</th>\n",
       "      <td>18.47</td>\n",
       "    </tr>\n",
       "    <tr>\n",
       "      <th>November</th>\n",
       "      <td>13.02</td>\n",
       "    </tr>\n",
       "    <tr>\n",
       "      <th>December</th>\n",
       "      <td>7.53</td>\n",
       "    </tr>\n",
       "  </tbody>\n",
       "</table>\n",
       "</div>"
      ],
      "text/plain": [
       "           Baseline\n",
       "Month              \n",
       "August        27.13\n",
       "September     25.04\n",
       "October       18.47\n",
       "November      13.02\n",
       "December       7.53"
      ]
     },
     "execution_count": 24,
     "metadata": {},
     "output_type": "execute_result"
    }
   ],
   "source": [
    "baseline_data.tail()"
   ]
  },
  {
   "cell_type": "markdown",
   "metadata": {
    "colab_type": "text",
    "id": "IwhMgzFKlnem"
   },
   "source": [
    "Rows in a DataFrame can be filtered using a conditional statement\n",
    "\n"
   ]
  },
  {
   "cell_type": "code",
   "execution_count": 25,
   "metadata": {
    "colab": {},
    "colab_type": "code",
    "id": "JYg_E7melrPn"
   },
   "outputs": [
    {
     "data": {
      "text/html": [
       "<div>\n",
       "<style scoped>\n",
       "    .dataframe tbody tr th:only-of-type {\n",
       "        vertical-align: middle;\n",
       "    }\n",
       "\n",
       "    .dataframe tbody tr th {\n",
       "        vertical-align: top;\n",
       "    }\n",
       "\n",
       "    .dataframe thead th {\n",
       "        text-align: right;\n",
       "    }\n",
       "</style>\n",
       "<table border=\"1\" class=\"dataframe\">\n",
       "  <thead>\n",
       "    <tr style=\"text-align: right;\">\n",
       "      <th></th>\n",
       "      <th>Baseline</th>\n",
       "    </tr>\n",
       "    <tr>\n",
       "      <th>Month</th>\n",
       "      <th></th>\n",
       "    </tr>\n",
       "  </thead>\n",
       "  <tbody>\n",
       "    <tr>\n",
       "      <th>March</th>\n",
       "      <td>10.64</td>\n",
       "    </tr>\n",
       "    <tr>\n",
       "      <th>April</th>\n",
       "      <td>13.60</td>\n",
       "    </tr>\n",
       "    <tr>\n",
       "      <th>May</th>\n",
       "      <td>19.34</td>\n",
       "    </tr>\n",
       "    <tr>\n",
       "      <th>June</th>\n",
       "      <td>22.64</td>\n",
       "    </tr>\n",
       "    <tr>\n",
       "      <th>July</th>\n",
       "      <td>27.02</td>\n",
       "    </tr>\n",
       "    <tr>\n",
       "      <th>August</th>\n",
       "      <td>27.13</td>\n",
       "    </tr>\n",
       "    <tr>\n",
       "      <th>September</th>\n",
       "      <td>25.04</td>\n",
       "    </tr>\n",
       "    <tr>\n",
       "      <th>October</th>\n",
       "      <td>18.47</td>\n",
       "    </tr>\n",
       "    <tr>\n",
       "      <th>November</th>\n",
       "      <td>13.02</td>\n",
       "    </tr>\n",
       "  </tbody>\n",
       "</table>\n",
       "</div>"
      ],
      "text/plain": [
       "           Baseline\n",
       "Month              \n",
       "March         10.64\n",
       "April         13.60\n",
       "May           19.34\n",
       "June          22.64\n",
       "July          27.02\n",
       "August        27.13\n",
       "September     25.04\n",
       "October       18.47\n",
       "November      13.02"
      ]
     },
     "execution_count": 25,
     "metadata": {},
     "output_type": "execute_result"
    }
   ],
   "source": [
    "baseline_data[baseline_data['Baseline'] > 10]"
   ]
  },
  {
   "cell_type": "markdown",
   "metadata": {
    "colab_type": "text",
    "id": "pJB1EZpjnfU7"
   },
   "source": [
    "We can get a random sample of the rows in the DataFrame"
   ]
  },
  {
   "cell_type": "code",
   "execution_count": 26,
   "metadata": {
    "colab": {},
    "colab_type": "code",
    "id": "_K9z0ZswnZyq"
   },
   "outputs": [
    {
     "data": {
      "text/html": [
       "<div>\n",
       "<style scoped>\n",
       "    .dataframe tbody tr th:only-of-type {\n",
       "        vertical-align: middle;\n",
       "    }\n",
       "\n",
       "    .dataframe tbody tr th {\n",
       "        vertical-align: top;\n",
       "    }\n",
       "\n",
       "    .dataframe thead th {\n",
       "        text-align: right;\n",
       "    }\n",
       "</style>\n",
       "<table border=\"1\" class=\"dataframe\">\n",
       "  <thead>\n",
       "    <tr style=\"text-align: right;\">\n",
       "      <th></th>\n",
       "      <th>Baseline</th>\n",
       "    </tr>\n",
       "    <tr>\n",
       "      <th>Month</th>\n",
       "      <th></th>\n",
       "    </tr>\n",
       "  </thead>\n",
       "  <tbody>\n",
       "    <tr>\n",
       "      <th>February</th>\n",
       "      <td>6.75</td>\n",
       "    </tr>\n",
       "    <tr>\n",
       "      <th>October</th>\n",
       "      <td>18.47</td>\n",
       "    </tr>\n",
       "    <tr>\n",
       "      <th>July</th>\n",
       "      <td>27.02</td>\n",
       "    </tr>\n",
       "    <tr>\n",
       "      <th>November</th>\n",
       "      <td>13.02</td>\n",
       "    </tr>\n",
       "    <tr>\n",
       "      <th>December</th>\n",
       "      <td>7.53</td>\n",
       "    </tr>\n",
       "    <tr>\n",
       "      <th>May</th>\n",
       "      <td>19.34</td>\n",
       "    </tr>\n",
       "  </tbody>\n",
       "</table>\n",
       "</div>"
      ],
      "text/plain": [
       "          Baseline\n",
       "Month             \n",
       "February      6.75\n",
       "October      18.47\n",
       "July         27.02\n",
       "November     13.02\n",
       "December      7.53\n",
       "May          19.34"
      ]
     },
     "execution_count": 26,
     "metadata": {},
     "output_type": "execute_result"
    }
   ],
   "source": [
    "baseline_data.sample(frac=0.5)"
   ]
  },
  {
   "cell_type": "code",
   "execution_count": 27,
   "metadata": {
    "colab": {},
    "colab_type": "code",
    "id": "WFKZRHv1nlKM"
   },
   "outputs": [
    {
     "data": {
      "text/html": [
       "<div>\n",
       "<style scoped>\n",
       "    .dataframe tbody tr th:only-of-type {\n",
       "        vertical-align: middle;\n",
       "    }\n",
       "\n",
       "    .dataframe tbody tr th {\n",
       "        vertical-align: top;\n",
       "    }\n",
       "\n",
       "    .dataframe thead th {\n",
       "        text-align: right;\n",
       "    }\n",
       "</style>\n",
       "<table border=\"1\" class=\"dataframe\">\n",
       "  <thead>\n",
       "    <tr style=\"text-align: right;\">\n",
       "      <th></th>\n",
       "      <th>Baseline</th>\n",
       "    </tr>\n",
       "    <tr>\n",
       "      <th>Month</th>\n",
       "      <th></th>\n",
       "    </tr>\n",
       "  </thead>\n",
       "  <tbody>\n",
       "    <tr>\n",
       "      <th>April</th>\n",
       "      <td>13.60</td>\n",
       "    </tr>\n",
       "    <tr>\n",
       "      <th>November</th>\n",
       "      <td>13.02</td>\n",
       "    </tr>\n",
       "    <tr>\n",
       "      <th>July</th>\n",
       "      <td>27.02</td>\n",
       "    </tr>\n",
       "  </tbody>\n",
       "</table>\n",
       "</div>"
      ],
      "text/plain": [
       "          Baseline\n",
       "Month             \n",
       "April        13.60\n",
       "November     13.02\n",
       "July         27.02"
      ]
     },
     "execution_count": 27,
     "metadata": {},
     "output_type": "execute_result"
    }
   ],
   "source": [
    "baseline_data.sample(n=3)"
   ]
  },
  {
   "cell_type": "markdown",
   "metadata": {
    "colab_type": "text",
    "id": "ks7MkoVQEGOF"
   },
   "source": [
    "### Sorting and Renaming a DataFrame\n",
    "\n",
    "Sometimes we need to sort the observations in a certain column -- there are several functions for this purpose"
   ]
  },
  {
   "cell_type": "code",
   "execution_count": 28,
   "metadata": {
    "colab": {},
    "colab_type": "code",
    "id": "72zWvEYBEovj"
   },
   "outputs": [
    {
     "data": {
      "text/html": [
       "<div>\n",
       "<style scoped>\n",
       "    .dataframe tbody tr th:only-of-type {\n",
       "        vertical-align: middle;\n",
       "    }\n",
       "\n",
       "    .dataframe tbody tr th {\n",
       "        vertical-align: top;\n",
       "    }\n",
       "\n",
       "    .dataframe thead th {\n",
       "        text-align: right;\n",
       "    }\n",
       "</style>\n",
       "<table border=\"1\" class=\"dataframe\">\n",
       "  <thead>\n",
       "    <tr style=\"text-align: right;\">\n",
       "      <th></th>\n",
       "      <th>Baseline</th>\n",
       "    </tr>\n",
       "    <tr>\n",
       "      <th>Month</th>\n",
       "      <th></th>\n",
       "    </tr>\n",
       "  </thead>\n",
       "  <tbody>\n",
       "    <tr>\n",
       "      <th>January</th>\n",
       "      <td>5.69</td>\n",
       "    </tr>\n",
       "    <tr>\n",
       "      <th>February</th>\n",
       "      <td>6.75</td>\n",
       "    </tr>\n",
       "    <tr>\n",
       "      <th>December</th>\n",
       "      <td>7.53</td>\n",
       "    </tr>\n",
       "    <tr>\n",
       "      <th>March</th>\n",
       "      <td>10.64</td>\n",
       "    </tr>\n",
       "    <tr>\n",
       "      <th>November</th>\n",
       "      <td>13.02</td>\n",
       "    </tr>\n",
       "    <tr>\n",
       "      <th>April</th>\n",
       "      <td>13.60</td>\n",
       "    </tr>\n",
       "    <tr>\n",
       "      <th>October</th>\n",
       "      <td>18.47</td>\n",
       "    </tr>\n",
       "    <tr>\n",
       "      <th>May</th>\n",
       "      <td>19.34</td>\n",
       "    </tr>\n",
       "    <tr>\n",
       "      <th>June</th>\n",
       "      <td>22.64</td>\n",
       "    </tr>\n",
       "    <tr>\n",
       "      <th>September</th>\n",
       "      <td>25.04</td>\n",
       "    </tr>\n",
       "    <tr>\n",
       "      <th>July</th>\n",
       "      <td>27.02</td>\n",
       "    </tr>\n",
       "    <tr>\n",
       "      <th>August</th>\n",
       "      <td>27.13</td>\n",
       "    </tr>\n",
       "  </tbody>\n",
       "</table>\n",
       "</div>"
      ],
      "text/plain": [
       "           Baseline\n",
       "Month              \n",
       "January        5.69\n",
       "February       6.75\n",
       "December       7.53\n",
       "March         10.64\n",
       "November      13.02\n",
       "April         13.60\n",
       "October       18.47\n",
       "May           19.34\n",
       "June          22.64\n",
       "September     25.04\n",
       "July          27.02\n",
       "August        27.13"
      ]
     },
     "execution_count": 28,
     "metadata": {},
     "output_type": "execute_result"
    }
   ],
   "source": [
    "baseline_data.sort_values('Baseline')"
   ]
  },
  {
   "cell_type": "code",
   "execution_count": 29,
   "metadata": {
    "colab": {},
    "colab_type": "code",
    "id": "3XJanxCSEo7x"
   },
   "outputs": [
    {
     "data": {
      "text/html": [
       "<div>\n",
       "<style scoped>\n",
       "    .dataframe tbody tr th:only-of-type {\n",
       "        vertical-align: middle;\n",
       "    }\n",
       "\n",
       "    .dataframe tbody tr th {\n",
       "        vertical-align: top;\n",
       "    }\n",
       "\n",
       "    .dataframe thead th {\n",
       "        text-align: right;\n",
       "    }\n",
       "</style>\n",
       "<table border=\"1\" class=\"dataframe\">\n",
       "  <thead>\n",
       "    <tr style=\"text-align: right;\">\n",
       "      <th></th>\n",
       "      <th>Baseline</th>\n",
       "    </tr>\n",
       "    <tr>\n",
       "      <th>Month</th>\n",
       "      <th></th>\n",
       "    </tr>\n",
       "  </thead>\n",
       "  <tbody>\n",
       "    <tr>\n",
       "      <th>April</th>\n",
       "      <td>13.60</td>\n",
       "    </tr>\n",
       "    <tr>\n",
       "      <th>August</th>\n",
       "      <td>27.13</td>\n",
       "    </tr>\n",
       "    <tr>\n",
       "      <th>December</th>\n",
       "      <td>7.53</td>\n",
       "    </tr>\n",
       "    <tr>\n",
       "      <th>February</th>\n",
       "      <td>6.75</td>\n",
       "    </tr>\n",
       "    <tr>\n",
       "      <th>January</th>\n",
       "      <td>5.69</td>\n",
       "    </tr>\n",
       "    <tr>\n",
       "      <th>July</th>\n",
       "      <td>27.02</td>\n",
       "    </tr>\n",
       "    <tr>\n",
       "      <th>June</th>\n",
       "      <td>22.64</td>\n",
       "    </tr>\n",
       "    <tr>\n",
       "      <th>March</th>\n",
       "      <td>10.64</td>\n",
       "    </tr>\n",
       "    <tr>\n",
       "      <th>May</th>\n",
       "      <td>19.34</td>\n",
       "    </tr>\n",
       "    <tr>\n",
       "      <th>November</th>\n",
       "      <td>13.02</td>\n",
       "    </tr>\n",
       "    <tr>\n",
       "      <th>October</th>\n",
       "      <td>18.47</td>\n",
       "    </tr>\n",
       "    <tr>\n",
       "      <th>September</th>\n",
       "      <td>25.04</td>\n",
       "    </tr>\n",
       "  </tbody>\n",
       "</table>\n",
       "</div>"
      ],
      "text/plain": [
       "           Baseline\n",
       "Month              \n",
       "April         13.60\n",
       "August        27.13\n",
       "December       7.53\n",
       "February       6.75\n",
       "January        5.69\n",
       "July          27.02\n",
       "June          22.64\n",
       "March         10.64\n",
       "May           19.34\n",
       "November      13.02\n",
       "October       18.47\n",
       "September     25.04"
      ]
     },
     "execution_count": 29,
     "metadata": {},
     "output_type": "execute_result"
    }
   ],
   "source": [
    "baseline_data.sort_index()"
   ]
  },
  {
   "cell_type": "code",
   "execution_count": 30,
   "metadata": {
    "colab": {},
    "colab_type": "code",
    "id": "V6qnJXIsF4M6"
   },
   "outputs": [
    {
     "data": {
      "text/html": [
       "<div>\n",
       "<style scoped>\n",
       "    .dataframe tbody tr th:only-of-type {\n",
       "        vertical-align: middle;\n",
       "    }\n",
       "\n",
       "    .dataframe tbody tr th {\n",
       "        vertical-align: top;\n",
       "    }\n",
       "\n",
       "    .dataframe thead th {\n",
       "        text-align: right;\n",
       "    }\n",
       "</style>\n",
       "<table border=\"1\" class=\"dataframe\">\n",
       "  <thead>\n",
       "    <tr style=\"text-align: right;\">\n",
       "      <th></th>\n",
       "      <th>Baseline Cooling Consumption in GWh</th>\n",
       "    </tr>\n",
       "    <tr>\n",
       "      <th>Month</th>\n",
       "      <th></th>\n",
       "    </tr>\n",
       "  </thead>\n",
       "  <tbody>\n",
       "    <tr>\n",
       "      <th>January</th>\n",
       "      <td>5.69</td>\n",
       "    </tr>\n",
       "    <tr>\n",
       "      <th>February</th>\n",
       "      <td>6.75</td>\n",
       "    </tr>\n",
       "    <tr>\n",
       "      <th>March</th>\n",
       "      <td>10.64</td>\n",
       "    </tr>\n",
       "    <tr>\n",
       "      <th>April</th>\n",
       "      <td>13.60</td>\n",
       "    </tr>\n",
       "    <tr>\n",
       "      <th>May</th>\n",
       "      <td>19.34</td>\n",
       "    </tr>\n",
       "    <tr>\n",
       "      <th>June</th>\n",
       "      <td>22.64</td>\n",
       "    </tr>\n",
       "    <tr>\n",
       "      <th>July</th>\n",
       "      <td>27.02</td>\n",
       "    </tr>\n",
       "    <tr>\n",
       "      <th>August</th>\n",
       "      <td>27.13</td>\n",
       "    </tr>\n",
       "    <tr>\n",
       "      <th>September</th>\n",
       "      <td>25.04</td>\n",
       "    </tr>\n",
       "    <tr>\n",
       "      <th>October</th>\n",
       "      <td>18.47</td>\n",
       "    </tr>\n",
       "    <tr>\n",
       "      <th>November</th>\n",
       "      <td>13.02</td>\n",
       "    </tr>\n",
       "    <tr>\n",
       "      <th>December</th>\n",
       "      <td>7.53</td>\n",
       "    </tr>\n",
       "  </tbody>\n",
       "</table>\n",
       "</div>"
      ],
      "text/plain": [
       "           Baseline Cooling Consumption in GWh\n",
       "Month                                         \n",
       "January                                   5.69\n",
       "February                                  6.75\n",
       "March                                    10.64\n",
       "April                                    13.60\n",
       "May                                      19.34\n",
       "June                                     22.64\n",
       "July                                     27.02\n",
       "August                                   27.13\n",
       "September                                25.04\n",
       "October                                  18.47\n",
       "November                                 13.02\n",
       "December                                  7.53"
      ]
     },
     "execution_count": 30,
     "metadata": {},
     "output_type": "execute_result"
    }
   ],
   "source": [
    "baseline_data.rename(columns={'Baseline':'Baseline Cooling Consumption in GWh'})"
   ]
  },
  {
   "cell_type": "markdown",
   "metadata": {
    "colab_type": "text",
    "id": "_ocTfWK4GMzj"
   },
   "source": [
    "# Monthly Energy Visualization\n",
    "\n",
    "Now that we've investigated various ways to slice and dice the DataFrame, let's take a look at the data in a visualization format.\n",
    "\n",
    "### The **Baseline** simulation model is the design of the building with conventional design options. Let's take a look at the energy consumption per month:"
   ]
  },
  {
   "cell_type": "code",
   "execution_count": 31,
   "metadata": {
    "colab": {},
    "colab_type": "code",
    "id": "X7tvzWpjnsPL"
   },
   "outputs": [
    {
     "data": {
      "text/plain": [
       "<matplotlib.axes._subplots.AxesSubplot at 0x1e05f6f84a8>"
      ]
     },
     "execution_count": 31,
     "metadata": {},
     "output_type": "execute_result"
    }
   ],
   "source": [
    "baseline_data.plot()"
   ]
  },
  {
   "cell_type": "markdown",
   "metadata": {
    "colab_type": "text",
    "id": "X61Vs4LaGnCg"
   },
   "source": [
    "We can modify various parts of the graphic using attributes of the DataFrame and `.plot()` function"
   ]
  },
  {
   "cell_type": "code",
   "execution_count": 32,
   "metadata": {
    "colab": {},
    "colab_type": "code",
    "id": "XszUTSorCTLT"
   },
   "outputs": [
    {
     "data": {
      "text/plain": [
       "<matplotlib.axes._subplots.AxesSubplot at 0x1e05fb5ea20>"
      ]
     },
     "execution_count": 32,
     "metadata": {},
     "output_type": "execute_result"
    },
    {
     "data": {
      "image/png": "[encoded data removed]",
      "text/plain": [
       "<Figure size 432x288 with 1 Axes>"
      ]
     },
     "metadata": {
      "needs_background": "light"
     },
     "output_type": "display_data"
    }
   ],
   "source": [
    "baseline_data.columns.name = 'Scenario'\n",
    "baseline_data.index.name = 'Months of the Year'\n",
    "baseline_data.plot(lw=2, colormap='jet', marker='.', markersize=10, \n",
    "        title='Cooling Energy Consumption of Baseline Building in Total GWh')"
   ]
  },
  {
   "cell_type": "markdown",
   "metadata": {
    "colab_type": "text",
    "id": "KS2Iel8jHrDF"
   },
   "source": [
    "# Overview of Design Option Scenarios\n",
    "\n",
    "In this analysis, we will consider five additional sets of design options focused on various design options. \n",
    "\n",
    "\n"
   ]
  },
  {
   "cell_type": "markdown",
   "metadata": {
    "colab_type": "text",
    "id": "u5Ltvm9QLZP4"
   },
   "source": [
    "# Compare two files -- Baseline vs. Different Scheduling\n",
    "\n",
    "First let's take a look at one of the design options - the use of optimized schedules. Instead of the building operating 24/7, the building would have the cooling system on only during operating hours. Let's take a look at this comparison\n",
    "\n",
    "![alt text](https://github.com/buds-lab/the-building-data-genome-project/blob/master/docs/edx-graphics/EDX-SimulationImage-3.png?raw=true)\n",
    "\n",
    "First, let's get the data from that file"
   ]
  },
  {
   "cell_type": "code",
   "execution_count": 33,
   "metadata": {
    "colab": {},
    "colab_type": "code",
    "id": "CAnN1O82MMgl"
   },
   "outputs": [
    {
     "name": "stdout",
     "output_type": "stream",
     "text": [
      " Volume in drive C has no label.\n",
      " Volume Serial Number is F0ED-973F\n",
      "\n",
      " Directory of C:\\Users\\Renato\\OneDrive\\github\\data_science_for_arch\\Data_Science_for_Construction_Architecture_and_Engineering\\2 - Building Design - Intro to Pandas\\simulation_data\n",
      "\n",
      "01/03/2021  07:27 PM    <DIR>          .\n",
      "01/03/2021  07:27 PM    <DIR>          ..\n",
      "07/07/2019  05:52 PM               169 Baseline.csv\n",
      "08/23/2019  10:12 PM             3,974 Baseline.xlsx\n",
      "07/07/2019  05:52 PM               186 Scenario - Aircon Schedules.csv\n",
      "07/07/2019  05:52 PM               181 Scenario - Cool roof.csv\n",
      "07/07/2019  05:52 PM               186 Scenario - Increase Setpoint.csv\n",
      "07/07/2019  05:52 PM               184 Scenario - Low-E Glass.csv\n",
      "07/07/2019  05:52 PM               186 Scenario - Rooftop Gardens.csv\n",
      "               7 File(s)          5,066 bytes\n",
      "               2 Dir(s)  233,311,756,288 bytes free\n"
     ]
    }
   ],
   "source": [
    "ls"
   ]
  },
  {
   "cell_type": "code",
   "execution_count": 34,
   "metadata": {
    "colab": {},
    "colab_type": "code",
    "id": "MSjLiId7MAxw"
   },
   "outputs": [],
   "source": [
    "schedule_scenario = pd.read_csv(\"Scenario - Aircon Schedules.csv\", index_col=\"Month\")"
   ]
  },
  {
   "cell_type": "code",
   "execution_count": 35,
   "metadata": {
    "colab": {},
    "colab_type": "code",
    "id": "X0M8Yi4sMQz-"
   },
   "outputs": [
    {
     "data": {
      "text/html": [
       "<div>\n",
       "<style scoped>\n",
       "    .dataframe tbody tr th:only-of-type {\n",
       "        vertical-align: middle;\n",
       "    }\n",
       "\n",
       "    .dataframe tbody tr th {\n",
       "        vertical-align: top;\n",
       "    }\n",
       "\n",
       "    .dataframe thead th {\n",
       "        text-align: right;\n",
       "    }\n",
       "</style>\n",
       "<table border=\"1\" class=\"dataframe\">\n",
       "  <thead>\n",
       "    <tr style=\"text-align: right;\">\n",
       "      <th></th>\n",
       "      <th>Scenario - Aircon Schedules</th>\n",
       "    </tr>\n",
       "    <tr>\n",
       "      <th>Month</th>\n",
       "      <th></th>\n",
       "    </tr>\n",
       "  </thead>\n",
       "  <tbody>\n",
       "    <tr>\n",
       "      <th>January</th>\n",
       "      <td>5.61</td>\n",
       "    </tr>\n",
       "    <tr>\n",
       "      <th>February</th>\n",
       "      <td>6.50</td>\n",
       "    </tr>\n",
       "    <tr>\n",
       "      <th>March</th>\n",
       "      <td>9.70</td>\n",
       "    </tr>\n",
       "    <tr>\n",
       "      <th>April</th>\n",
       "      <td>11.95</td>\n",
       "    </tr>\n",
       "    <tr>\n",
       "      <th>May</th>\n",
       "      <td>16.52</td>\n",
       "    </tr>\n",
       "    <tr>\n",
       "      <th>June</th>\n",
       "      <td>18.89</td>\n",
       "    </tr>\n",
       "    <tr>\n",
       "      <th>July</th>\n",
       "      <td>22.13</td>\n",
       "    </tr>\n",
       "    <tr>\n",
       "      <th>August</th>\n",
       "      <td>22.14</td>\n",
       "    </tr>\n",
       "    <tr>\n",
       "      <th>September</th>\n",
       "      <td>20.38</td>\n",
       "    </tr>\n",
       "    <tr>\n",
       "      <th>October</th>\n",
       "      <td>15.87</td>\n",
       "    </tr>\n",
       "    <tr>\n",
       "      <th>November</th>\n",
       "      <td>11.71</td>\n",
       "    </tr>\n",
       "    <tr>\n",
       "      <th>December</th>\n",
       "      <td>7.16</td>\n",
       "    </tr>\n",
       "  </tbody>\n",
       "</table>\n",
       "</div>"
      ],
      "text/plain": [
       "           Scenario - Aircon Schedules\n",
       "Month                                 \n",
       "January                           5.61\n",
       "February                          6.50\n",
       "March                             9.70\n",
       "April                            11.95\n",
       "May                              16.52\n",
       "June                             18.89\n",
       "July                             22.13\n",
       "August                           22.14\n",
       "September                        20.38\n",
       "October                          15.87\n",
       "November                         11.71\n",
       "December                          7.16"
      ]
     },
     "execution_count": 35,
     "metadata": {},
     "output_type": "execute_result"
    }
   ],
   "source": [
    "schedule_scenario"
   ]
  },
  {
   "cell_type": "markdown",
   "metadata": {
    "colab_type": "text",
    "id": "i8C_v5tINZgq"
   },
   "source": [
    "Let's take a look at the *Baseline* Scenario again"
   ]
  },
  {
   "cell_type": "code",
   "execution_count": 36,
   "metadata": {
    "colab": {},
    "colab_type": "code",
    "id": "RcnlXNTkNdut"
   },
   "outputs": [
    {
     "data": {
      "text/html": [
       "<div>\n",
       "<style scoped>\n",
       "    .dataframe tbody tr th:only-of-type {\n",
       "        vertical-align: middle;\n",
       "    }\n",
       "\n",
       "    .dataframe tbody tr th {\n",
       "        vertical-align: top;\n",
       "    }\n",
       "\n",
       "    .dataframe thead th {\n",
       "        text-align: right;\n",
       "    }\n",
       "</style>\n",
       "<table border=\"1\" class=\"dataframe\">\n",
       "  <thead>\n",
       "    <tr style=\"text-align: right;\">\n",
       "      <th>Scenario</th>\n",
       "      <th>Baseline</th>\n",
       "    </tr>\n",
       "    <tr>\n",
       "      <th>Months of the Year</th>\n",
       "      <th></th>\n",
       "    </tr>\n",
       "  </thead>\n",
       "  <tbody>\n",
       "    <tr>\n",
       "      <th>January</th>\n",
       "      <td>5.69</td>\n",
       "    </tr>\n",
       "    <tr>\n",
       "      <th>February</th>\n",
       "      <td>6.75</td>\n",
       "    </tr>\n",
       "    <tr>\n",
       "      <th>March</th>\n",
       "      <td>10.64</td>\n",
       "    </tr>\n",
       "    <tr>\n",
       "      <th>April</th>\n",
       "      <td>13.60</td>\n",
       "    </tr>\n",
       "    <tr>\n",
       "      <th>May</th>\n",
       "      <td>19.34</td>\n",
       "    </tr>\n",
       "    <tr>\n",
       "      <th>June</th>\n",
       "      <td>22.64</td>\n",
       "    </tr>\n",
       "    <tr>\n",
       "      <th>July</th>\n",
       "      <td>27.02</td>\n",
       "    </tr>\n",
       "    <tr>\n",
       "      <th>August</th>\n",
       "      <td>27.13</td>\n",
       "    </tr>\n",
       "    <tr>\n",
       "      <th>September</th>\n",
       "      <td>25.04</td>\n",
       "    </tr>\n",
       "    <tr>\n",
       "      <th>October</th>\n",
       "      <td>18.47</td>\n",
       "    </tr>\n",
       "    <tr>\n",
       "      <th>November</th>\n",
       "      <td>13.02</td>\n",
       "    </tr>\n",
       "    <tr>\n",
       "      <th>December</th>\n",
       "      <td>7.53</td>\n",
       "    </tr>\n",
       "  </tbody>\n",
       "</table>\n",
       "</div>"
      ],
      "text/plain": [
       "Scenario            Baseline\n",
       "Months of the Year          \n",
       "January                 5.69\n",
       "February                6.75\n",
       "March                  10.64\n",
       "April                  13.60\n",
       "May                    19.34\n",
       "June                   22.64\n",
       "July                   27.02\n",
       "August                 27.13\n",
       "September              25.04\n",
       "October                18.47\n",
       "November               13.02\n",
       "December                7.53"
      ]
     },
     "execution_count": 36,
     "metadata": {},
     "output_type": "execute_result"
    }
   ],
   "source": [
    "baseline_data"
   ]
  },
  {
   "cell_type": "markdown",
   "metadata": {
    "colab_type": "text",
    "id": "E1vVCtjDNpGS"
   },
   "source": [
    "Looks like the *Schedule* scenario uses less energy than the baseline - let's confirm this by combining the two DataFrames using the `.concat()` function"
   ]
  },
  {
   "cell_type": "code",
   "execution_count": 37,
   "metadata": {
    "colab": {},
    "colab_type": "code",
    "id": "XtzJ3uRLtoXY"
   },
   "outputs": [],
   "source": [
    "combined_data = pd.concat([baseline_data, schedule_scenario], axis=1)"
   ]
  },
  {
   "cell_type": "code",
   "execution_count": 38,
   "metadata": {
    "colab": {},
    "colab_type": "code",
    "id": "Wdn9FFKwvC8R"
   },
   "outputs": [
    {
     "data": {
      "text/html": [
       "<div>\n",
       "<style scoped>\n",
       "    .dataframe tbody tr th:only-of-type {\n",
       "        vertical-align: middle;\n",
       "    }\n",
       "\n",
       "    .dataframe tbody tr th {\n",
       "        vertical-align: top;\n",
       "    }\n",
       "\n",
       "    .dataframe thead th {\n",
       "        text-align: right;\n",
       "    }\n",
       "</style>\n",
       "<table border=\"1\" class=\"dataframe\">\n",
       "  <thead>\n",
       "    <tr style=\"text-align: right;\">\n",
       "      <th></th>\n",
       "      <th>Baseline</th>\n",
       "      <th>Scenario - Aircon Schedules</th>\n",
       "    </tr>\n",
       "  </thead>\n",
       "  <tbody>\n",
       "    <tr>\n",
       "      <th>January</th>\n",
       "      <td>5.69</td>\n",
       "      <td>5.61</td>\n",
       "    </tr>\n",
       "    <tr>\n",
       "      <th>February</th>\n",
       "      <td>6.75</td>\n",
       "      <td>6.50</td>\n",
       "    </tr>\n",
       "    <tr>\n",
       "      <th>March</th>\n",
       "      <td>10.64</td>\n",
       "      <td>9.70</td>\n",
       "    </tr>\n",
       "    <tr>\n",
       "      <th>April</th>\n",
       "      <td>13.60</td>\n",
       "      <td>11.95</td>\n",
       "    </tr>\n",
       "    <tr>\n",
       "      <th>May</th>\n",
       "      <td>19.34</td>\n",
       "      <td>16.52</td>\n",
       "    </tr>\n",
       "    <tr>\n",
       "      <th>June</th>\n",
       "      <td>22.64</td>\n",
       "      <td>18.89</td>\n",
       "    </tr>\n",
       "    <tr>\n",
       "      <th>July</th>\n",
       "      <td>27.02</td>\n",
       "      <td>22.13</td>\n",
       "    </tr>\n",
       "    <tr>\n",
       "      <th>August</th>\n",
       "      <td>27.13</td>\n",
       "      <td>22.14</td>\n",
       "    </tr>\n",
       "    <tr>\n",
       "      <th>September</th>\n",
       "      <td>25.04</td>\n",
       "      <td>20.38</td>\n",
       "    </tr>\n",
       "    <tr>\n",
       "      <th>October</th>\n",
       "      <td>18.47</td>\n",
       "      <td>15.87</td>\n",
       "    </tr>\n",
       "    <tr>\n",
       "      <th>November</th>\n",
       "      <td>13.02</td>\n",
       "      <td>11.71</td>\n",
       "    </tr>\n",
       "    <tr>\n",
       "      <th>December</th>\n",
       "      <td>7.53</td>\n",
       "      <td>7.16</td>\n",
       "    </tr>\n",
       "  </tbody>\n",
       "</table>\n",
       "</div>"
      ],
      "text/plain": [
       "           Baseline  Scenario - Aircon Schedules\n",
       "January        5.69                         5.61\n",
       "February       6.75                         6.50\n",
       "March         10.64                         9.70\n",
       "April         13.60                        11.95\n",
       "May           19.34                        16.52\n",
       "June          22.64                        18.89\n",
       "July          27.02                        22.13\n",
       "August        27.13                        22.14\n",
       "September     25.04                        20.38\n",
       "October       18.47                        15.87\n",
       "November      13.02                        11.71\n",
       "December       7.53                         7.16"
      ]
     },
     "execution_count": 38,
     "metadata": {},
     "output_type": "execute_result"
    }
   ],
   "source": [
    "combined_data"
   ]
  },
  {
   "cell_type": "code",
   "execution_count": 39,
   "metadata": {
    "colab": {},
    "colab_type": "code",
    "id": "M9tIR9LTvTs1"
   },
   "outputs": [
    {
     "data": {
      "text/plain": [
       "<matplotlib.axes._subplots.AxesSubplot at 0x1e05fbbfa90>"
      ]
     },
     "execution_count": 39,
     "metadata": {},
     "output_type": "execute_result"
    },
    {
     "data": {
      "image/png": "[encoded data removed]",
      "text/plain": [
       "<Figure size 432x288 with 1 Axes>"
      ]
     },
     "metadata": {
      "needs_background": "light"
     },
     "output_type": "display_data"
    }
   ],
   "source": [
    "combined_data.plot(lw=2, colormap='jet', marker='.', markersize=10, \n",
    "        title='Cooling Energy Consumption of Baseline Building in Total GWh')"
   ]
  },
  {
   "cell_type": "markdown",
   "metadata": {
    "colab_type": "text",
    "id": "jPE5liB1KmZ6"
   },
   "source": [
    "# Make New Columns to Find the Difference between the options\n",
    "\n",
    "Let's use a vector operation to create a new column to find the difference between the columns"
   ]
  },
  {
   "cell_type": "code",
   "execution_count": 40,
   "metadata": {
    "colab": {},
    "colab_type": "code",
    "id": "48yg_hRywNO0"
   },
   "outputs": [],
   "source": [
    "combined_data['Difference'] = combined_data['Baseline'] - combined_data['Scenario - Aircon Schedules']"
   ]
  },
  {
   "cell_type": "code",
   "execution_count": 41,
   "metadata": {
    "colab": {},
    "colab_type": "code",
    "id": "hw-v7xvSxl1Q"
   },
   "outputs": [
    {
     "data": {
      "text/html": [
       "<div>\n",
       "<style scoped>\n",
       "    .dataframe tbody tr th:only-of-type {\n",
       "        vertical-align: middle;\n",
       "    }\n",
       "\n",
       "    .dataframe tbody tr th {\n",
       "        vertical-align: top;\n",
       "    }\n",
       "\n",
       "    .dataframe thead th {\n",
       "        text-align: right;\n",
       "    }\n",
       "</style>\n",
       "<table border=\"1\" class=\"dataframe\">\n",
       "  <thead>\n",
       "    <tr style=\"text-align: right;\">\n",
       "      <th></th>\n",
       "      <th>Baseline</th>\n",
       "      <th>Scenario - Aircon Schedules</th>\n",
       "      <th>Difference</th>\n",
       "    </tr>\n",
       "  </thead>\n",
       "  <tbody>\n",
       "    <tr>\n",
       "      <th>January</th>\n",
       "      <td>5.69</td>\n",
       "      <td>5.61</td>\n",
       "      <td>0.08</td>\n",
       "    </tr>\n",
       "    <tr>\n",
       "      <th>February</th>\n",
       "      <td>6.75</td>\n",
       "      <td>6.50</td>\n",
       "      <td>0.25</td>\n",
       "    </tr>\n",
       "    <tr>\n",
       "      <th>March</th>\n",
       "      <td>10.64</td>\n",
       "      <td>9.70</td>\n",
       "      <td>0.94</td>\n",
       "    </tr>\n",
       "    <tr>\n",
       "      <th>April</th>\n",
       "      <td>13.60</td>\n",
       "      <td>11.95</td>\n",
       "      <td>1.65</td>\n",
       "    </tr>\n",
       "    <tr>\n",
       "      <th>May</th>\n",
       "      <td>19.34</td>\n",
       "      <td>16.52</td>\n",
       "      <td>2.82</td>\n",
       "    </tr>\n",
       "    <tr>\n",
       "      <th>June</th>\n",
       "      <td>22.64</td>\n",
       "      <td>18.89</td>\n",
       "      <td>3.75</td>\n",
       "    </tr>\n",
       "    <tr>\n",
       "      <th>July</th>\n",
       "      <td>27.02</td>\n",
       "      <td>22.13</td>\n",
       "      <td>4.89</td>\n",
       "    </tr>\n",
       "    <tr>\n",
       "      <th>August</th>\n",
       "      <td>27.13</td>\n",
       "      <td>22.14</td>\n",
       "      <td>4.99</td>\n",
       "    </tr>\n",
       "    <tr>\n",
       "      <th>September</th>\n",
       "      <td>25.04</td>\n",
       "      <td>20.38</td>\n",
       "      <td>4.66</td>\n",
       "    </tr>\n",
       "    <tr>\n",
       "      <th>October</th>\n",
       "      <td>18.47</td>\n",
       "      <td>15.87</td>\n",
       "      <td>2.60</td>\n",
       "    </tr>\n",
       "    <tr>\n",
       "      <th>November</th>\n",
       "      <td>13.02</td>\n",
       "      <td>11.71</td>\n",
       "      <td>1.31</td>\n",
       "    </tr>\n",
       "    <tr>\n",
       "      <th>December</th>\n",
       "      <td>7.53</td>\n",
       "      <td>7.16</td>\n",
       "      <td>0.37</td>\n",
       "    </tr>\n",
       "  </tbody>\n",
       "</table>\n",
       "</div>"
      ],
      "text/plain": [
       "           Baseline  Scenario - Aircon Schedules  Difference\n",
       "January        5.69                         5.61        0.08\n",
       "February       6.75                         6.50        0.25\n",
       "March         10.64                         9.70        0.94\n",
       "April         13.60                        11.95        1.65\n",
       "May           19.34                        16.52        2.82\n",
       "June          22.64                        18.89        3.75\n",
       "July          27.02                        22.13        4.89\n",
       "August        27.13                        22.14        4.99\n",
       "September     25.04                        20.38        4.66\n",
       "October       18.47                        15.87        2.60\n",
       "November      13.02                        11.71        1.31\n",
       "December       7.53                         7.16        0.37"
      ]
     },
     "execution_count": 41,
     "metadata": {},
     "output_type": "execute_result"
    }
   ],
   "source": [
    "combined_data"
   ]
  },
  {
   "cell_type": "code",
   "execution_count": 42,
   "metadata": {
    "colab": {},
    "colab_type": "code",
    "id": "6tmp5G1OwNnF"
   },
   "outputs": [
    {
     "data": {
      "text/plain": [
       "<matplotlib.axes._subplots.AxesSubplot at 0x1e05fc7a320>"
      ]
     },
     "execution_count": 42,
     "metadata": {},
     "output_type": "execute_result"
    },
    {
     "data": {
      "image/png": "[encoded data removed]",
      "text/plain": [
       "<Figure size 432x288 with 1 Axes>"
      ]
     },
     "metadata": {
      "needs_background": "light"
     },
     "output_type": "display_data"
    }
   ],
   "source": [
    "combined_data['Difference'].plot.bar(title='Difference between Baseline and Improved Schedules in Total GWh')"
   ]
  },
  {
   "cell_type": "markdown",
   "metadata": {
    "colab_type": "text",
    "id": "JhUfD_4YK5Dd"
   },
   "source": [
    "## Define a *function* object to create a new column\n",
    "\n",
    "Let's say we only care to compare all the months except *July* -- we can define a function to calculate a new column"
   ]
  },
  {
   "cell_type": "code",
   "execution_count": 43,
   "metadata": {
    "colab": {},
    "colab_type": "code",
    "id": "DCsuTjLqwN0H"
   },
   "outputs": [],
   "source": [
    "def get_difference_conditional(monthly_data):\n",
    "  #print(monthly_data)\n",
    "  if monthly_data.name == 'July':\n",
    "    return 0\n",
    "  else:\n",
    "    return monthly_data['Baseline'] - monthly_data['Scenario - Aircon Schedules']"
   ]
  },
  {
   "cell_type": "code",
   "execution_count": 44,
   "metadata": {
    "colab": {},
    "colab_type": "code",
    "id": "QOBaCMXyysVK"
   },
   "outputs": [],
   "source": [
    "combined_data['Difference_NoJuly'] = combined_data.apply(lambda x: get_difference_conditional(x), axis=1)"
   ]
  },
  {
   "cell_type": "code",
   "execution_count": 45,
   "metadata": {
    "colab": {},
    "colab_type": "code",
    "id": "LWKUWJldysYJ"
   },
   "outputs": [
    {
     "data": {
      "text/plain": [
       "<matplotlib.axes._subplots.AxesSubplot at 0x1e05fd27208>"
      ]
     },
     "execution_count": 45,
     "metadata": {},
     "output_type": "execute_result"
    },
    {
     "data": {
      "image/png": "[encoded data removed]",
      "text/plain": [
       "<Figure size 432x288 with 1 Axes>"
      ]
     },
     "metadata": {
      "needs_background": "light"
     },
     "output_type": "display_data"
    }
   ],
   "source": [
    "combined_data['Difference_NoJuly'].plot.bar(title='Difference between Baseline and Improved Schedules in Total GWh')"
   ]
  },
  {
   "cell_type": "markdown",
   "metadata": {
    "colab_type": "text",
    "id": "lSKa_li7I2xo"
   },
   "source": [
    "# Compare all of the options\n",
    "\n",
    "![alt text](https://github.com/buds-lab/the-building-data-genome-project/blob/master/docs/edx-graphics/EDX-SimulationImage-4.png?raw=true)\n",
    "\n",
    "![alt text](https://github.com/buds-lab/the-building-data-genome-project/blob/master/docs/edx-graphics/EDX-SimulationImage-5.png?raw=true)\n",
    "\n",
    "![alt text](https://github.com/buds-lab/the-building-data-genome-project/blob/master/docs/edx-graphics/EDX-SimulationImage-6.png?raw=true)\n",
    "\n",
    "![alt text](https://github.com/buds-lab/the-building-data-genome-project/blob/master/docs/edx-graphics/EDX-SimulationImage-7.png?raw=true)\n"
   ]
  },
  {
   "cell_type": "markdown",
   "metadata": {
    "colab_type": "text",
    "id": "6hWs2PEv2zxw"
   },
   "source": [
    "## Use a `for` loop to load the files from all the scenarios\n",
    "\n",
    "There are five more `.csv` files that have data from each simulation. We will use a `for` loop to get the data from each file. Again, we'll use the `os` library to get the names of the files so that we can loop through and grab them."
   ]
  },
  {
   "cell_type": "code",
   "execution_count": 46,
   "metadata": {
    "colab": {},
    "colab_type": "code",
    "id": "3M4ancweJrLe"
   },
   "outputs": [
    {
     "data": {
      "text/plain": [
       "['Baseline.csv',\n",
       " 'Baseline.xlsx',\n",
       " 'Scenario - Aircon Schedules.csv',\n",
       " 'Scenario - Cool roof.csv',\n",
       " 'Scenario - Increase Setpoint.csv',\n",
       " 'Scenario - Low-E Glass.csv',\n",
       " 'Scenario - Rooftop Gardens.csv']"
      ]
     },
     "execution_count": 46,
     "metadata": {},
     "output_type": "execute_result"
    }
   ],
   "source": [
    "os.listdir()"
   ]
  },
  {
   "cell_type": "markdown",
   "metadata": {
    "colab_type": "text",
    "id": "4n19mwVcKGXX"
   },
   "source": [
    "Let's take the files out of this list that we want to analyze and put them in a *list* called `list_of_files`"
   ]
  },
  {
   "cell_type": "code",
   "execution_count": 47,
   "metadata": {
    "colab": {},
    "colab_type": "code",
    "id": "gTV5BiOwKAfI"
   },
   "outputs": [],
   "source": [
    "list_of_files = ['Scenario - Aircon Schedules.csv',\n",
    " 'Scenario - Cool roof.csv',\n",
    " 'Scenario - Rooftop Gardens.csv',\n",
    " 'Scenario - Increase Setpoint.csv',\n",
    " 'Scenario - Low-E Glass.csv',\n",
    " 'Baseline.csv']"
   ]
  },
  {
   "cell_type": "code",
   "execution_count": 48,
   "metadata": {
    "colab": {},
    "colab_type": "code",
    "id": "5DoBannmKP87"
   },
   "outputs": [
    {
     "data": {
      "text/plain": [
       "['Scenario - Aircon Schedules.csv',\n",
       " 'Scenario - Cool roof.csv',\n",
       " 'Scenario - Rooftop Gardens.csv',\n",
       " 'Scenario - Increase Setpoint.csv',\n",
       " 'Scenario - Low-E Glass.csv',\n",
       " 'Baseline.csv']"
      ]
     },
     "execution_count": 48,
     "metadata": {},
     "output_type": "execute_result"
    }
   ],
   "source": [
    "list_of_files"
   ]
  },
  {
   "cell_type": "markdown",
   "metadata": {
    "colab_type": "text",
    "id": "v8sVwLD-LETA"
   },
   "source": [
    "First let's loop through all the filenames just to show that we can"
   ]
  },
  {
   "cell_type": "code",
   "execution_count": 49,
   "metadata": {
    "colab": {},
    "colab_type": "code",
    "id": "iHzddWUgKRQ_"
   },
   "outputs": [
    {
     "name": "stdout",
     "output_type": "stream",
     "text": [
      "Scenario - Aircon Schedules.csv\n",
      "Scenario - Cool roof.csv\n",
      "Scenario - Rooftop Gardens.csv\n",
      "Scenario - Increase Setpoint.csv\n",
      "Scenario - Low-E Glass.csv\n",
      "Baseline.csv\n"
     ]
    }
   ],
   "source": [
    "for filename in list_of_files:\n",
    "  print(filename)"
   ]
  },
  {
   "cell_type": "markdown",
   "metadata": {
    "colab_type": "text",
    "id": "4WDR-3VX0PBh"
   },
   "source": [
    "Now we can use the `.append()` function of Python *list* object and the `.concat()` function to loop through and get the data from each building"
   ]
  },
  {
   "cell_type": "code",
   "execution_count": 50,
   "metadata": {
    "colab": {},
    "colab_type": "code",
    "id": "-qdiC8dsKUnn"
   },
   "outputs": [
    {
     "name": "stdout",
     "output_type": "stream",
     "text": [
      "Scenario - Aircon Schedules.csv\n",
      "Scenario - Cool roof.csv\n",
      "Scenario - Rooftop Gardens.csv\n",
      "Scenario - Increase Setpoint.csv\n",
      "Scenario - Low-E Glass.csv\n",
      "Baseline.csv\n"
     ]
    }
   ],
   "source": [
    "data_container = []\n",
    "for filename in list_of_files:\n",
    "  print(filename)\n",
    "  df = pd.read_csv(filename, index_col='Month')\n",
    "  data_container.append(df)\n",
    "\n",
    "all_data = pd.concat(data_container, axis=1)"
   ]
  },
  {
   "cell_type": "code",
   "execution_count": 51,
   "metadata": {
    "colab": {},
    "colab_type": "code",
    "id": "-8SNy4txKl3S"
   },
   "outputs": [
    {
     "data": {
      "text/html": [
       "<div>\n",
       "<style scoped>\n",
       "    .dataframe tbody tr th:only-of-type {\n",
       "        vertical-align: middle;\n",
       "    }\n",
       "\n",
       "    .dataframe tbody tr th {\n",
       "        vertical-align: top;\n",
       "    }\n",
       "\n",
       "    .dataframe thead th {\n",
       "        text-align: right;\n",
       "    }\n",
       "</style>\n",
       "<table border=\"1\" class=\"dataframe\">\n",
       "  <thead>\n",
       "    <tr style=\"text-align: right;\">\n",
       "      <th></th>\n",
       "      <th>Scenario - Aircon Schedules</th>\n",
       "      <th>Scenario - Cool roof</th>\n",
       "      <th>Scenario - Rooftop Gardens</th>\n",
       "      <th>Scenario - Increase Setpoint</th>\n",
       "      <th>Scenario - Low-E Glass</th>\n",
       "      <th>Baseline</th>\n",
       "    </tr>\n",
       "    <tr>\n",
       "      <th>Month</th>\n",
       "      <th></th>\n",
       "      <th></th>\n",
       "      <th></th>\n",
       "      <th></th>\n",
       "      <th></th>\n",
       "      <th></th>\n",
       "    </tr>\n",
       "  </thead>\n",
       "  <tbody>\n",
       "    <tr>\n",
       "      <th>January</th>\n",
       "      <td>5.61</td>\n",
       "      <td>4.46</td>\n",
       "      <td>6.30</td>\n",
       "      <td>2.73</td>\n",
       "      <td>5.41</td>\n",
       "      <td>5.69</td>\n",
       "    </tr>\n",
       "    <tr>\n",
       "      <th>February</th>\n",
       "      <td>6.50</td>\n",
       "      <td>5.39</td>\n",
       "      <td>7.15</td>\n",
       "      <td>3.88</td>\n",
       "      <td>6.48</td>\n",
       "      <td>6.75</td>\n",
       "    </tr>\n",
       "    <tr>\n",
       "      <th>March</th>\n",
       "      <td>9.70</td>\n",
       "      <td>8.96</td>\n",
       "      <td>10.90</td>\n",
       "      <td>6.60</td>\n",
       "      <td>10.37</td>\n",
       "      <td>10.64</td>\n",
       "    </tr>\n",
       "    <tr>\n",
       "      <th>April</th>\n",
       "      <td>11.95</td>\n",
       "      <td>11.73</td>\n",
       "      <td>13.59</td>\n",
       "      <td>9.37</td>\n",
       "      <td>13.36</td>\n",
       "      <td>13.60</td>\n",
       "    </tr>\n",
       "    <tr>\n",
       "      <th>May</th>\n",
       "      <td>16.52</td>\n",
       "      <td>17.28</td>\n",
       "      <td>18.94</td>\n",
       "      <td>14.82</td>\n",
       "      <td>19.14</td>\n",
       "      <td>19.34</td>\n",
       "    </tr>\n",
       "    <tr>\n",
       "      <th>June</th>\n",
       "      <td>18.89</td>\n",
       "      <td>20.54</td>\n",
       "      <td>22.12</td>\n",
       "      <td>18.01</td>\n",
       "      <td>22.47</td>\n",
       "      <td>22.64</td>\n",
       "    </tr>\n",
       "    <tr>\n",
       "      <th>July</th>\n",
       "      <td>22.13</td>\n",
       "      <td>24.76</td>\n",
       "      <td>26.29</td>\n",
       "      <td>21.98</td>\n",
       "      <td>26.84</td>\n",
       "      <td>27.02</td>\n",
       "    </tr>\n",
       "    <tr>\n",
       "      <th>August</th>\n",
       "      <td>22.14</td>\n",
       "      <td>24.97</td>\n",
       "      <td>26.47</td>\n",
       "      <td>22.15</td>\n",
       "      <td>26.91</td>\n",
       "      <td>27.13</td>\n",
       "    </tr>\n",
       "    <tr>\n",
       "      <th>September</th>\n",
       "      <td>20.38</td>\n",
       "      <td>22.98</td>\n",
       "      <td>24.63</td>\n",
       "      <td>19.92</td>\n",
       "      <td>24.77</td>\n",
       "      <td>25.04</td>\n",
       "    </tr>\n",
       "    <tr>\n",
       "      <th>October</th>\n",
       "      <td>15.87</td>\n",
       "      <td>16.57</td>\n",
       "      <td>18.51</td>\n",
       "      <td>13.65</td>\n",
       "      <td>18.16</td>\n",
       "      <td>18.47</td>\n",
       "    </tr>\n",
       "    <tr>\n",
       "      <th>November</th>\n",
       "      <td>11.71</td>\n",
       "      <td>11.41</td>\n",
       "      <td>13.55</td>\n",
       "      <td>8.49</td>\n",
       "      <td>12.69</td>\n",
       "      <td>13.02</td>\n",
       "    </tr>\n",
       "    <tr>\n",
       "      <th>December</th>\n",
       "      <td>7.16</td>\n",
       "      <td>6.36</td>\n",
       "      <td>8.19</td>\n",
       "      <td>4.15</td>\n",
       "      <td>7.24</td>\n",
       "      <td>7.53</td>\n",
       "    </tr>\n",
       "  </tbody>\n",
       "</table>\n",
       "</div>"
      ],
      "text/plain": [
       "           Scenario - Aircon Schedules  Scenario - Cool roof  \\\n",
       "Month                                                          \n",
       "January                           5.61                  4.46   \n",
       "February                          6.50                  5.39   \n",
       "March                             9.70                  8.96   \n",
       "April                            11.95                 11.73   \n",
       "May                              16.52                 17.28   \n",
       "June                             18.89                 20.54   \n",
       "July                             22.13                 24.76   \n",
       "August                           22.14                 24.97   \n",
       "September                        20.38                 22.98   \n",
       "October                          15.87                 16.57   \n",
       "November                         11.71                 11.41   \n",
       "December                          7.16                  6.36   \n",
       "\n",
       "           Scenario - Rooftop Gardens  Scenario - Increase Setpoint  \\\n",
       "Month                                                                 \n",
       "January                          6.30                          2.73   \n",
       "February                         7.15                          3.88   \n",
       "March                           10.90                          6.60   \n",
       "April                           13.59                          9.37   \n",
       "May                             18.94                         14.82   \n",
       "June                            22.12                         18.01   \n",
       "July                            26.29                         21.98   \n",
       "August                          26.47                         22.15   \n",
       "September                       24.63                         19.92   \n",
       "October                         18.51                         13.65   \n",
       "November                        13.55                          8.49   \n",
       "December                         8.19                          4.15   \n",
       "\n",
       "           Scenario - Low-E Glass  Baseline  \n",
       "Month                                        \n",
       "January                      5.41      5.69  \n",
       "February                     6.48      6.75  \n",
       "March                       10.37     10.64  \n",
       "April                       13.36     13.60  \n",
       "May                         19.14     19.34  \n",
       "June                        22.47     22.64  \n",
       "July                        26.84     27.02  \n",
       "August                      26.91     27.13  \n",
       "September                   24.77     25.04  \n",
       "October                     18.16     18.47  \n",
       "November                    12.69     13.02  \n",
       "December                     7.24      7.53  "
      ]
     },
     "execution_count": 51,
     "metadata": {},
     "output_type": "execute_result"
    }
   ],
   "source": [
    "all_data"
   ]
  },
  {
   "cell_type": "code",
   "execution_count": 52,
   "metadata": {
    "colab": {},
    "colab_type": "code",
    "id": "hFkTzxt6K1iB"
   },
   "outputs": [
    {
     "name": "stdout",
     "output_type": "stream",
     "text": [
      "<class 'pandas.core.frame.DataFrame'>\n",
      "Index: 12 entries, January to December\n",
      "Data columns (total 6 columns):\n",
      "Scenario - Aircon Schedules     12 non-null float64\n",
      "Scenario - Cool roof            12 non-null float64\n",
      "Scenario - Rooftop Gardens      12 non-null float64\n",
      "Scenario - Increase Setpoint    12 non-null float64\n",
      "Scenario - Low-E Glass          12 non-null float64\n",
      "Baseline                        12 non-null float64\n",
      "dtypes: float64(6)\n",
      "memory usage: 672.0+ bytes\n"
     ]
    }
   ],
   "source": [
    "all_data.info()"
   ]
  },
  {
   "cell_type": "code",
   "execution_count": 53,
   "metadata": {
    "colab": {},
    "colab_type": "code",
    "id": "CTbsu0zLK4l4"
   },
   "outputs": [
    {
     "data": {
      "text/plain": [
       "<matplotlib.axes._subplots.AxesSubplot at 0x1e05fdafda0>"
      ]
     },
     "execution_count": 53,
     "metadata": {},
     "output_type": "execute_result"
    },
    {
     "data": {
      "image/png": "[encoded data removed]",
      "text/plain": [
       "<Figure size 1080x576 with 1 Axes>"
      ]
     },
     "metadata": {
      "needs_background": "light"
     },
     "output_type": "display_data"
    }
   ],
   "source": [
    "all_data.plot(lw=2, colormap='jet', marker='.', markersize=10, \n",
    "        title='Cooling Energy Consumption of Baseline Building in Total GWh', figsize=(15,8))"
   ]
  },
  {
   "cell_type": "markdown",
   "metadata": {
    "colab_type": "text",
    "id": "SLH4t02PEETd"
   },
   "source": [
    "## Using web-based resources to figure out how to do things\n",
    "\n",
    "Now we have all the data in one DataFrame, but now what? I think we need to subtract the baseline from each column. I'm not sure how to do that.\n",
    "\n",
    "In this situation, you can use the best coding assistant in history -- Google. \n",
    "\n",
    "Here is the top result of the google search \"subtracting all columns in a dataframe by one column\":\n",
    "\n",
    "https://stackoverflow.com/questions/45383144/subtracting-many-columns-in-a-df-by-one-column-in-another-df\n",
    "\n",
    "This stackoverflow site gives us guidance how to chain together a few functions together to get the result we want\n",
    "\n"
   ]
  },
  {
   "cell_type": "markdown",
   "metadata": {
    "colab_type": "text",
    "id": "pjYJXnYZEXsr"
   },
   "source": [
    "### Chaining functions\n",
    "\n",
    "Now we can chain a few functions together to see the total energy consumption reduction from each of the design options"
   ]
  },
  {
   "cell_type": "code",
   "execution_count": 54,
   "metadata": {
    "colab": {},
    "colab_type": "code",
    "id": "2vAwc-KVK_g0"
   },
   "outputs": [
    {
     "data": {
      "text/plain": [
       "<matplotlib.axes._subplots.AxesSubplot at 0x1e060ddab00>"
      ]
     },
     "execution_count": 54,
     "metadata": {},
     "output_type": "execute_result"
    },
    {
     "data": {
      "image/png": "[encoded data removed]",
      "text/plain": [
       "<Figure size 432x288 with 1 Axes>"
      ]
     },
     "metadata": {
      "needs_background": "light"
     },
     "output_type": "display_data"
    }
   ],
   "source": [
    "all_data.subtract(all_data['Baseline'], axis=0).sum().plot.bar()"
   ]
  },
  {
   "cell_type": "markdown",
   "metadata": {
    "colab_type": "text",
    "id": "o6fsO8L8PVFq"
   },
   "source": [
    "Turns out that Increasing the setpoing is by far the most effective energy savings option! Schedules are second place and cool roof is third. The Rooftop gardens and Low-E glass seem to have only a bit of impact for this building"
   ]
  },
  {
   "cell_type": "markdown",
   "metadata": {
    "colab_type": "text",
    "id": "1OYnCropOugW"
   },
   "source": [
    "## Troubleshooting bugs using Stackoverflow\n",
    "\n",
    "Soemtimes we run into bugs -- these are when we get errors from the Python kernel. \n",
    "\n",
    "For example, let's say that we want to use the `.drop()` function to remove some of the columns in a DataFrame. Let's give it a try:"
   ]
  },
  {
   "cell_type": "code",
   "execution_count": 55,
   "metadata": {
    "colab": {},
    "colab_type": "code",
    "id": "4sQ3XxXiER0L"
   },
   "outputs": [
    {
     "ename": "ValueError",
     "evalue": "Need to specify at least one of 'labels', 'index' or 'columns'",
     "output_type": "error",
     "traceback": [
      "\u001b[1;31m---------------------------------------------------------------------------\u001b[0m",
      "\u001b[1;31mValueError\u001b[0m                                Traceback (most recent call last)",
      "\u001b[1;32m<ipython-input-55-ac4d4b3cc778>\u001b[0m in \u001b[0;36m<module>\u001b[1;34m\u001b[0m\n\u001b[1;32m----> 1\u001b[1;33m \u001b[0mall_data\u001b[0m\u001b[1;33m.\u001b[0m\u001b[0mdrop\u001b[0m\u001b[1;33m(\u001b[0m\u001b[1;33m)\u001b[0m\u001b[1;33m\u001b[0m\u001b[1;33m\u001b[0m\u001b[0m\n\u001b[0m",
      "\u001b[1;32m~\\Anaconda3\\lib\\site-packages\\pandas\\core\\frame.py\u001b[0m in \u001b[0;36mdrop\u001b[1;34m(self, labels, axis, index, columns, level, inplace, errors)\u001b[0m\n\u001b[0;32m   3938\u001b[0m                                            \u001b[0mindex\u001b[0m\u001b[1;33m=\u001b[0m\u001b[0mindex\u001b[0m\u001b[1;33m,\u001b[0m \u001b[0mcolumns\u001b[0m\u001b[1;33m=\u001b[0m\u001b[0mcolumns\u001b[0m\u001b[1;33m,\u001b[0m\u001b[1;33m\u001b[0m\u001b[1;33m\u001b[0m\u001b[0m\n\u001b[0;32m   3939\u001b[0m                                            \u001b[0mlevel\u001b[0m\u001b[1;33m=\u001b[0m\u001b[0mlevel\u001b[0m\u001b[1;33m,\u001b[0m \u001b[0minplace\u001b[0m\u001b[1;33m=\u001b[0m\u001b[0minplace\u001b[0m\u001b[1;33m,\u001b[0m\u001b[1;33m\u001b[0m\u001b[1;33m\u001b[0m\u001b[0m\n\u001b[1;32m-> 3940\u001b[1;33m                                            errors=errors)\n\u001b[0m\u001b[0;32m   3941\u001b[0m \u001b[1;33m\u001b[0m\u001b[0m\n\u001b[0;32m   3942\u001b[0m     @rewrite_axis_style_signature('mapper', [('copy', True),\n",
      "\u001b[1;32m~\\Anaconda3\\lib\\site-packages\\pandas\\core\\generic.py\u001b[0m in \u001b[0;36mdrop\u001b[1;34m(self, labels, axis, index, columns, level, inplace, errors)\u001b[0m\n\u001b[0;32m   3771\u001b[0m             \u001b[0maxes\u001b[0m\u001b[1;33m,\u001b[0m \u001b[0m_\u001b[0m \u001b[1;33m=\u001b[0m \u001b[0mself\u001b[0m\u001b[1;33m.\u001b[0m\u001b[0m_construct_axes_from_arguments\u001b[0m\u001b[1;33m(\u001b[0m\u001b[1;33m(\u001b[0m\u001b[0mindex\u001b[0m\u001b[1;33m,\u001b[0m \u001b[0mcolumns\u001b[0m\u001b[1;33m)\u001b[0m\u001b[1;33m,\u001b[0m \u001b[1;33m{\u001b[0m\u001b[1;33m}\u001b[0m\u001b[1;33m)\u001b[0m\u001b[1;33m\u001b[0m\u001b[1;33m\u001b[0m\u001b[0m\n\u001b[0;32m   3772\u001b[0m         \u001b[1;32melse\u001b[0m\u001b[1;33m:\u001b[0m\u001b[1;33m\u001b[0m\u001b[1;33m\u001b[0m\u001b[0m\n\u001b[1;32m-> 3773\u001b[1;33m             raise ValueError(\"Need to specify at least one of 'labels', \"\n\u001b[0m\u001b[0;32m   3774\u001b[0m                              \"'index' or 'columns'\")\n\u001b[0;32m   3775\u001b[0m \u001b[1;33m\u001b[0m\u001b[0m\n",
      "\u001b[1;31mValueError\u001b[0m: Need to specify at least one of 'labels', 'index' or 'columns'"
     ]
    }
   ],
   "source": [
    "all_data.drop()"
   ]
  },
  {
   "cell_type": "markdown",
   "metadata": {
    "colab_type": "text",
    "id": "UxLl2_FOPCWP"
   },
   "source": [
    "We ran into an error! Colab is so helpful that it gives you a button to Google the error message on Stackoverflow -- we find a solution at this site: https://stackoverflow.com/questions/49979122/getting-valueerror-need-to-specify-at-least-one-of-labels-index-or-column\n",
    "\n"
   ]
  },
  {
   "cell_type": "code",
   "execution_count": null,
   "metadata": {
    "colab": {},
    "colab_type": "code",
    "id": "cBUcyIQrEo7M"
   },
   "outputs": [],
   "source": []
  }
 ],
 "metadata": {
  "colab": {
   "collapsed_sections": [],
   "name": "Pandas Fundamentals - Building Simulation Analysis.ipynb",
   "provenance": [],
   "toc_visible": true
  },
  "kernelspec": {
   "display_name": "Python 3",
   "language": "python",
   "name": "python3"
  },
  "language_info": {
   "codemirror_mode": {
    "name": "ipython",
    "version": 3
   },
   "file_extension": ".py",
   "mimetype": "text/x-python",
   "name": "python",
   "nbconvert_exporter": "python",
   "pygments_lexer": "ipython3",
   "version": "3.6.7"
  }
 },
 "nbformat": 4,
 "nbformat_minor": 1
}

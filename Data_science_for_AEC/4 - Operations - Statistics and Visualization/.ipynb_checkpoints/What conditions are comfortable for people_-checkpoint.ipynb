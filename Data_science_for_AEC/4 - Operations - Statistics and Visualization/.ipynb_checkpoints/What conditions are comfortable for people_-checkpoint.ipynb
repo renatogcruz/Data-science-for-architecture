{
 "cells": [
  {
   "cell_type": "markdown",
   "metadata": {
    "colab_type": "text",
    "id": "OlU-bJaywWW4"
   },
   "source": [
    "# What conditions are comfortable for people?\n",
    "\n",
    "This notebook is designed to be a practical investigation of the what conditions influence the comfort of occupants in the various contexts that were tested in the ASHRAE Thermal Comfort Database II studies.\n",
    "\n",
    "We will go through and investigate how temperature, humidity, air movement, and other factors influence comfort. In this analysis, we will use a subset of the larger data set that can be found on the project website: http://www.comfortdatabase.com/\n",
    "\n",
    "We will use the **Seaborn** library for this task: https://seaborn.pydata.org/\n"
   ]
  },
  {
   "cell_type": "code",
   "execution_count": null,
   "metadata": {
    "colab": {},
    "colab_type": "code",
    "id": "9gqSg3Y3vh6Y"
   },
   "outputs": [],
   "source": [
    "import pandas as pd\n",
    "from google.colab import drive\n",
    "import os\n",
    "import seaborn as sns\n",
    "import matplotlib.pyplot as plt"
   ]
  },
  {
   "cell_type": "code",
   "execution_count": null,
   "metadata": {
    "colab": {},
    "colab_type": "code",
    "id": "nbbhb3dxwVfY"
   },
   "outputs": [],
   "source": [
    "%matplotlib inline"
   ]
  },
  {
   "cell_type": "code",
   "execution_count": null,
   "metadata": {
    "colab": {},
    "colab_type": "code",
    "id": "EOOichtswdRV"
   },
   "outputs": [],
   "source": [
    "drive.mount('/content/gdrive')\n",
    "os.chdir(\"/content/gdrive/My Drive/EDX Data Science for Construction, Architecture and Engineering/4 - Operations - Statistics and Visualization/\")"
   ]
  },
  {
   "cell_type": "code",
   "execution_count": null,
   "metadata": {
    "colab": {},
    "colab_type": "code",
    "id": "kiFndZDSwp2c"
   },
   "outputs": [],
   "source": [
    "ieq_data = pd.read_csv(\"ashrae_thermal_comfort_database_2.csv\", index_col='Unnamed: 0')"
   ]
  },
  {
   "cell_type": "code",
   "execution_count": null,
   "metadata": {
    "colab": {},
    "colab_type": "code",
    "id": "DDMYk1yRwe1O"
   },
   "outputs": [],
   "source": [
    "ieq_data.head()"
   ]
  },
  {
   "cell_type": "code",
   "execution_count": null,
   "metadata": {
    "colab": {},
    "colab_type": "code",
    "id": "luwAVCWW9QKT"
   },
   "outputs": [],
   "source": [
    "ieq_data.info()"
   ]
  },
  {
   "cell_type": "markdown",
   "metadata": {
    "colab_type": "text",
    "id": "xKrqkuZpGx0b"
   },
   "source": [
    "# Are the conditions that influence people's comfort?\n",
    "\n",
    "Is it air temperature, humidity, air movement? Other stuff?\n",
    "\n",
    "Let's use box plots to investigate!"
   ]
  },
  {
   "cell_type": "code",
   "execution_count": null,
   "metadata": {
    "colab": {},
    "colab_type": "code",
    "id": "gKYBHL6DwnZg"
   },
   "outputs": [],
   "source": [
    "fig, ax = plt.subplots()\n",
    "# the size of A4 paper\n",
    "fig.set_size_inches(10,10)\n",
    "sns.boxplot(x=\"ThermalSensation_rounded\", y=\"Air temperature (C)\", data=ieq_data)"
   ]
  },
  {
   "cell_type": "code",
   "execution_count": null,
   "metadata": {
    "colab": {},
    "colab_type": "code",
    "id": "6jFfbw1gJ88C"
   },
   "outputs": [],
   "source": [
    "fig, ax = plt.subplots()\n",
    "# the size of A4 paper\n",
    "fig.set_size_inches(10,10)\n",
    "sns.boxplot(x=\"ThermalSensation_rounded\", y=\"Relative humidity (%)\", data=ieq_data)"
   ]
  },
  {
   "cell_type": "code",
   "execution_count": null,
   "metadata": {
    "colab": {},
    "colab_type": "code",
    "id": "tbimb2GaKEVK"
   },
   "outputs": [],
   "source": [
    "fig, ax = plt.subplots()\n",
    "# the size of A4 paper\n",
    "fig.set_size_inches(10,10)\n",
    "sns.boxplot(x=\"ThermalSensation_rounded\", y=\"Air velocity (m/s)\", data=ieq_data)"
   ]
  },
  {
   "cell_type": "markdown",
   "metadata": {
    "colab_type": "text",
    "id": "PpSxLTm_G800"
   },
   "source": [
    "# How about personal attributes? Do they have an impact?\n",
    "\n",
    "Let's use box plots, but use the `hue=` attribute to add another dimension to the analysis."
   ]
  },
  {
   "cell_type": "code",
   "execution_count": null,
   "metadata": {
    "colab": {},
    "colab_type": "code",
    "id": "EBQLWLgzHQS1"
   },
   "outputs": [],
   "source": [
    "ieq_data.info()"
   ]
  },
  {
   "cell_type": "code",
   "execution_count": null,
   "metadata": {
    "colab": {},
    "colab_type": "code",
    "id": "x3QgMWgkwwmf"
   },
   "outputs": [],
   "source": [
    "fig, ax = plt.subplots()\n",
    "# the size of A4 paper\n",
    "fig.set_size_inches(10,10)\n",
    "sns.boxplot(x=\"ThermalSensation_rounded\", y=\"Air temperature (C)\", hue=\"Sex\", data=ieq_data)"
   ]
  },
  {
   "cell_type": "markdown",
   "metadata": {
    "colab_type": "text",
    "id": "x854RgpyHpZm"
   },
   "source": [
    "## Using the `.round()` function\n",
    "\n",
    "Let's use the `.round()` function to create a more categorical set of options for metabolism and clothing levels"
   ]
  },
  {
   "cell_type": "code",
   "execution_count": null,
   "metadata": {
    "colab": {},
    "colab_type": "code",
    "id": "cguhooGNH6b6"
   },
   "outputs": [],
   "source": [
    "ieq_data[\"Met_rounded\"]= ieq_data[\"Met\"].round(0)\n",
    "ieq_data[\"Clo_rounded\"]= ieq_data[\"Clo\"].round(0)"
   ]
  },
  {
   "cell_type": "code",
   "execution_count": null,
   "metadata": {
    "colab": {},
    "colab_type": "code",
    "id": "r2F7QeItIFgV"
   },
   "outputs": [],
   "source": [
    "ieq_data.info()"
   ]
  },
  {
   "cell_type": "code",
   "execution_count": null,
   "metadata": {
    "colab": {},
    "colab_type": "code",
    "id": "TZzHHoEEHZkj"
   },
   "outputs": [],
   "source": [
    "fig, ax = plt.subplots()\n",
    "# the size of A4 paper\n",
    "fig.set_size_inches(10,10)\n",
    "sns.boxplot(x=\"ThermalSensation_rounded\", y=\"Air temperature (C)\", hue=\"Met_rounded\", data=ieq_data)"
   ]
  },
  {
   "cell_type": "code",
   "execution_count": null,
   "metadata": {
    "colab": {},
    "colab_type": "code",
    "id": "1eWF5SYyIQ6r"
   },
   "outputs": [],
   "source": [
    "fig, ax = plt.subplots()\n",
    "# the size of A4 paper\n",
    "fig.set_size_inches(10,10)\n",
    "sns.boxplot(x=\"ThermalSensation_rounded\", y=\"Air temperature (C)\", hue=\"Clo_rounded\", data=ieq_data)"
   ]
  },
  {
   "cell_type": "markdown",
   "metadata": {
    "colab_type": "text",
    "id": "NMhr3AEMGh38"
   },
   "source": [
    "# How does the type of building or its systems influence people's comfort?\n",
    "\n",
    "Let's use horizontal box plots to get a sense of the attributes of the built environment and how they influence comfort."
   ]
  },
  {
   "cell_type": "code",
   "execution_count": null,
   "metadata": {
    "colab": {},
    "colab_type": "code",
    "id": "H6tN0HDOGuIN"
   },
   "outputs": [],
   "source": [
    "ieq_data.info()"
   ]
  },
  {
   "cell_type": "code",
   "execution_count": null,
   "metadata": {
    "colab": {},
    "colab_type": "code",
    "id": "E4AN24E6xIG0"
   },
   "outputs": [],
   "source": [
    "fig, ax = plt.subplots()\n",
    "# the size of A4 paper\n",
    "fig.set_size_inches(10,10)\n",
    "sns.boxplot(y=\"Building type\", x=\"Thermal sensation\",\n",
    "             palette=\"RdBu_r\",\n",
    "            data=ieq_data[[\"Building type\",\"Thermal sensation\",\"Sex\"]].dropna())\n",
    "\n",
    "sns.despine(offset=10, trim=True)"
   ]
  },
  {
   "cell_type": "code",
   "execution_count": null,
   "metadata": {
    "colab": {},
    "colab_type": "code",
    "id": "c61kyfS99FPw"
   },
   "outputs": [],
   "source": [
    "fig, ax = plt.subplots()\n",
    "# the size of A4 paper\n",
    "fig.set_size_inches(10,10)\n",
    "sns.boxplot(y=\"Cooling startegy_building level\", x=\"Thermal sensation\",\n",
    "             palette=\"RdBu_r\",\n",
    "            data=ieq_data[[\"Cooling startegy_building level\",\"Thermal sensation\"]].dropna())\n",
    "\n",
    "sns.despine(offset=10, trim=True)"
   ]
  },
  {
   "cell_type": "code",
   "execution_count": null,
   "metadata": {
    "colab": {},
    "colab_type": "code",
    "id": "zbOKzUeTI24G"
   },
   "outputs": [],
   "source": [
    "fig, ax = plt.subplots()\n",
    "# the size of A4 paper\n",
    "fig.set_size_inches(10,10)\n",
    "sns.boxplot(y=\"Season\", x=\"Thermal sensation\",\n",
    "             palette=\"RdBu_r\",\n",
    "            data=ieq_data[[\"Season\",\"Thermal sensation\"]].dropna())\n",
    "\n",
    "sns.despine(offset=10, trim=True)"
   ]
  },
  {
   "cell_type": "markdown",
   "metadata": {
    "colab_type": "text",
    "id": "F2Et-eKEGOL1"
   },
   "source": [
    "# How does the country someone is from influence how they perceive comfort?\n",
    "\n",
    "Let's use some more advanced box plot techniques to compare the different countries, climates, and other geographical or cultural aspects"
   ]
  },
  {
   "cell_type": "code",
   "execution_count": null,
   "metadata": {
    "colab": {},
    "colab_type": "code",
    "id": "x7hcWgMwGdi0"
   },
   "outputs": [],
   "source": [
    "ieq_data.info()"
   ]
  },
  {
   "cell_type": "code",
   "execution_count": null,
   "metadata": {
    "colab": {},
    "colab_type": "code",
    "id": "zX7xiqK79kqf"
   },
   "outputs": [],
   "source": [
    "fig, ax = plt.subplots()\n",
    "# the size of A4 paper\n",
    "fig.set_size_inches(15,20)\n",
    "sns.boxplot(y=\"Country\", x=\"Air temperature (C)\",\n",
    "            hue=\"ThermalSensation_rounded\", palette=\"RdBu_r\",\n",
    "            data=ieq_data[[\"Country\",\"Air temperature (C)\",\"ThermalSensation_rounded\"]].dropna())\n",
    "plt.title(\"Thermal Sensation\")\n",
    "sns.despine(offset=10, trim=True)"
   ]
  },
  {
   "cell_type": "code",
   "execution_count": null,
   "metadata": {
    "colab": {},
    "colab_type": "code",
    "id": "5JWqbTayJS1F"
   },
   "outputs": [],
   "source": [
    "fig, ax = plt.subplots()\n",
    "# the size of A4 paper\n",
    "fig.set_size_inches(15,40)\n",
    "sns.boxplot(y=\"City\", x=\"Air temperature (C)\",\n",
    "            hue=\"ThermalSensation_rounded\", palette=\"RdBu_r\",\n",
    "            data=ieq_data[[\"City\",\"Air temperature (C)\",\"ThermalSensation_rounded\"]].dropna())\n",
    "plt.title(\"Thermal Sensation\")\n",
    "sns.despine(offset=10, trim=True)"
   ]
  },
  {
   "cell_type": "code",
   "execution_count": null,
   "metadata": {
    "colab": {},
    "colab_type": "code",
    "id": "QZITkEUr9u1r"
   },
   "outputs": [],
   "source": [
    "fig, ax = plt.subplots()\n",
    "# the size of A4 paper\n",
    "fig.set_size_inches(15,20)\n",
    "sns.boxplot(y=\"Climate\", x=\"Air temperature (C)\",\n",
    "            hue=\"ThermalSensation_rounded\", palette=\"RdBu_r\",\n",
    "            data=ieq_data[[\"Climate\",\"Air temperature (C)\",\"ThermalSensation_rounded\"]].dropna())\n",
    "plt.title(\"Thermal Sensation\")\n",
    "sns.despine(offset=10, trim=True)"
   ]
  },
  {
   "cell_type": "code",
   "execution_count": null,
   "metadata": {
    "colab": {},
    "colab_type": "code",
    "id": "o68biDyi-e7Q"
   },
   "outputs": [],
   "source": [
    "fig, ax = plt.subplots()\n",
    "# the size of A4 paper\n",
    "fig.set_size_inches(12,15)\n",
    "sns.boxplot(y=\"Climate\", x=\"Air temperature (C)\",\n",
    "            hue=\"ThermalSensation_rounded\", palette=\"RdBu_r\",\n",
    "            data=ieq_data[[\"Climate\",\"Air temperature (C)\",\"ThermalSensation_rounded\"]].dropna())\n",
    "\n",
    "sns.despine(offset=10, trim=True)"
   ]
  },
  {
   "cell_type": "markdown",
   "metadata": {
    "colab_type": "text",
    "id": "i0oJmyQzJgOU"
   },
   "source": [
    "# Using other distribution-based visualizations from Seaborn\n",
    "\n",
    "There are several other graphics that can be used to show distributions using seaborn: https://seaborn.pydata.org/examples/index.html"
   ]
  }
 ],
 "metadata": {
  "colab": {
   "collapsed_sections": [],
   "name": "What conditions are comfortable for people?.ipynb",
   "provenance": [],
   "toc_visible": true
  },
  "kernelspec": {
   "display_name": "Python 3",
   "language": "python",
   "name": "python3"
  },
  "language_info": {
   "codemirror_mode": {
    "name": "ipython",
    "version": 3
   },
   "file_extension": ".py",
   "mimetype": "text/x-python",
   "name": "python",
   "nbconvert_exporter": "python",
   "pygments_lexer": "ipython3",
   "version": "3.6.7"
  }
 },
 "nbformat": 4,
 "nbformat_minor": 1
}

{
 "cells": [
  {
   "cell_type": "markdown",
   "metadata": {},
   "source": [
    "# Exploração e limpeza de dados"
   ]
  },
  {
   "cell_type": "markdown",
   "metadata": {},
   "source": [
    "### Diferentes tipos de problemas da ciência de dados\n",
    "\n",
    "- problema de regressão\n",
    "\n",
    "Por exemplo, prever o preço de uma casa. O esperado é que fique perto do preço real\n",
    "\n",
    "- problema de classificação\n",
    "\n",
    "Por exemplo, prever uma resposta sim ou não para uma pergunta. O esperado é a resposta correta.\n",
    "\n",
    "Ambos problemas são chamados de **aprendizado supervisionado**, um tipo de problema que depende de dados rotulados"
   ]
  },
  {
   "cell_type": "markdown",
   "metadata": {},
   "source": [
    "### DataFrame\n",
    "\n",
    "DataFrame é uma classe básica do pandas. Funciona como um template para uma estrutura de dados.\n",
    "\n",
    "Exemplo de um DataFarme:\n",
    "\n",
    "|    | ID | Sex | Name |\n",
    "|----|----|-----|------|\n",
    "| 1  | 001|M    | Pedro|\n",
    "| 2  | 002|F    | Ana  |\n",
    "\n",
    "Tabela: *Exemplo de DataFrame do pandas com um ímdice de linha inteiro à esquerda e um índice de coluna na forma de strings*"
   ]
  },
  {
   "cell_type": "code",
   "execution_count": 1,
   "metadata": {},
   "outputs": [],
   "source": [
    "# Carregando os dados do estudo de caso em um jupyter notebook\n",
    "\n",
    "## importar pandas\n",
    "\n",
    "import pandas as pd"
   ]
  },
  {
   "cell_type": "code",
   "execution_count": 2,
   "metadata": {},
   "outputs": [],
   "source": [
    "# importando o dataset usando o método pd.read_excel\n",
    "\n",
    "df = pd.read_excel('C:/Users/Renato/OneDrive/github/Data_science_for_architecture/projetos_de_ciencias_de_dados_com_python/Data/default_of_credit_card_clients__courseware_version_1_21_19.xls')"
   ]
  },
  {
   "cell_type": "code",
   "execution_count": 3,
   "metadata": {},
   "outputs": [
    {
     "name": "stdout",
     "output_type": "stream",
     "text": [
      "<class 'pandas.core.frame.DataFrame'>\n",
      "RangeIndex: 30000 entries, 0 to 29999\n",
      "Data columns (total 25 columns):\n",
      " #   Column                      Non-Null Count  Dtype \n",
      "---  ------                      --------------  ----- \n",
      " 0   ID                          30000 non-null  object\n",
      " 1   LIMIT_BAL                   30000 non-null  int64 \n",
      " 2   SEX                         30000 non-null  int64 \n",
      " 3   EDUCATION                   30000 non-null  int64 \n",
      " 4   MARRIAGE                    30000 non-null  int64 \n",
      " 5   AGE                         30000 non-null  int64 \n",
      " 6   PAY_1                       30000 non-null  object\n",
      " 7   PAY_2                       30000 non-null  int64 \n",
      " 8   PAY_3                       30000 non-null  int64 \n",
      " 9   PAY_4                       30000 non-null  int64 \n",
      " 10  PAY_5                       30000 non-null  int64 \n",
      " 11  PAY_6                       30000 non-null  int64 \n",
      " 12  BILL_AMT1                   30000 non-null  int64 \n",
      " 13  BILL_AMT2                   30000 non-null  int64 \n",
      " 14  BILL_AMT3                   30000 non-null  int64 \n",
      " 15  BILL_AMT4                   30000 non-null  int64 \n",
      " 16  BILL_AMT5                   30000 non-null  int64 \n",
      " 17  BILL_AMT6                   30000 non-null  int64 \n",
      " 18  PAY_AMT1                    30000 non-null  int64 \n",
      " 19  PAY_AMT2                    30000 non-null  int64 \n",
      " 20  PAY_AMT3                    30000 non-null  int64 \n",
      " 21  PAY_AMT4                    30000 non-null  int64 \n",
      " 22  PAY_AMT5                    30000 non-null  int64 \n",
      " 23  PAY_AMT6                    30000 non-null  int64 \n",
      " 24  default payment next month  30000 non-null  int64 \n",
      "dtypes: int64(23), object(2)\n",
      "memory usage: 5.7+ MB\n"
     ]
    }
   ],
   "source": [
    "# testando a importação do dataset via pandas\n",
    "# Use o método .info() para ver todas as colunas com os tipos de dados\n",
    "\n",
    "df.info()"
   ]
  },
  {
   "cell_type": "markdown",
   "metadata": {},
   "source": [
    "### O problema da empresa\n",
    "\n",
    "Cliente é uma empresa de cartão de crédito. O dataset inclui dados demográficos e financeiros recentes (6 últimos meses) de uma amostra de 30.000 titulares.\n",
    "\n",
    "As linhas são rotuladas de acordo com se no mês seguinte ao período de dados histórico de seis meses um proprietário de conta ficou inadimplente, ou seja, não fez o pagamento mínimo.\n",
    "\n",
    "### Objetivo\n",
    "\n",
    "Desenvolver um modelo que preveja se uma conta ficará inadimplente no próximo mês."
   ]
  },
  {
   "cell_type": "markdown",
   "metadata": {},
   "source": [
    "# Etapa de exploração de dados\n",
    "\n",
    "Algumas etapas úteis para a exploração de dados:  \n",
    "\n",
    "- saber quantas colunas os dados contêm (características, resposta ou metadados);\n",
    "- quantas linhas (amostras);\n",
    "- que tipos de características existem (categóricas (sim/não/talvez) ou númericas);\n",
    "- qual é a aparência dos dados segundo essas características;\n",
    "- há dados faltando?\n",
    "    "
   ]
  },
  {
   "cell_type": "code",
   "execution_count": 4,
   "metadata": {},
   "outputs": [
    {
     "data": {
      "text/plain": [
       "Index(['ID', 'LIMIT_BAL', 'SEX', 'EDUCATION', 'MARRIAGE', 'AGE', 'PAY_1',\n",
       "       'PAY_2', 'PAY_3', 'PAY_4', 'PAY_5', 'PAY_6', 'BILL_AMT1', 'BILL_AMT2',\n",
       "       'BILL_AMT3', 'BILL_AMT4', 'BILL_AMT5', 'BILL_AMT6', 'PAY_AMT1',\n",
       "       'PAY_AMT2', 'PAY_AMT3', 'PAY_AMT4', 'PAY_AMT5', 'PAY_AMT6',\n",
       "       'default payment next month'],\n",
       "      dtype='object')"
      ]
     },
     "execution_count": 4,
     "metadata": {},
     "output_type": "execute_result"
    }
   ],
   "source": [
    "# Verificando a integridade básica dos dados\n",
    "\n",
    "# Empregar o método .columns do DataFrame para examinar os nomes de todas as colunas.\n",
    "\n",
    "df.columns"
   ]
  },
  {
   "cell_type": "markdown",
   "metadata": {},
   "source": [
    "Como podemos ver, os nomes de todas as colunas estão listadas na saída. A coluna IDs de contas chama-se ID. As outras colunas parecem ser as **características**, com a última coluna sendo a **variável de resposta**."
   ]
  },
  {
   "cell_type": "markdown",
   "metadata": {},
   "source": [
    "Resumo das informações do dataset que nos foi dado pela clinte:\n",
    "\n",
    "- 'ID - coluna de IDs de contas'; \n",
    "- 'LIMIT_BAL' - valor do crédito fornecido inclusive o crédito do consumidor individual e familiar (complementar); \n",
    "- 'SEX' - gênero (1=masculino; 2=feminino); \n",
    "- 'EDUCATION' - instrução (1=pós-graduação; 2=universidade; 3=ensino médio; 4=outros); \n",
    "- 'MARRIAGE' - estado civil (1=casado; 2=solteiro; 3=outros), \n",
    "- 'AGE' - idade (ano); \n",
    "- 'PAY_1'-'PAY_6' - registro de pagamentos passados.  Pagamentos mensais passados, registrados de abril a setembro, são armazenados nessas colunas;\n",
    "- 'PAY_1' - representa o status de reembolso em setembro;\n",
    "- 'PAY_2', - status de reembolso em agosto;\n",
    "- 'PAY_3', - status de reembolso em julho;\n",
    "- 'PAY_4', - status de reembolso em junho;\n",
    "- 'PAY_5', - status de reembolso em maio;\n",
    "- 'PAY_6', - status de reembolso em abril;\n",
    "\n",
    "A escala de medida do status de reembolso é a seguinte: -1 = pagamento pontual; 1 = atraso de um mês no pagamento; 2 = atraso de dois meses no pagamento; e assim por diante até 8 = atraso de oito meses no pagamento; 9 = atraso de nove meses ou mais no pagamento.\n",
    "\n",
    "- 'BILL_AMT1'-'PAY_AMT6', - valorda fatura; \n",
    "- 'BILL_AMT1' - representa o valor da fatura em setembro;\n",
    "- 'BILL_AMT2' - representa o valor da fatura em agosto;\n",
    "- 'BILL_AMT3' - representa o valor da fatura em julho; \n",
    "- 'BILL_AMT4' - representa o valor da fatura em junho; \n",
    "- 'BILL_AMT5' - representa o valor da fatura em maio; \n",
    "- 'BILL_AMT6' - representa o valor da fatura em abril; \n",
    "- 'PAY_AMT1'-'PAY_AMT6' - valor de pagamentos anteriores;\n",
    "- 'PAY_AMT1' - representa o valor pago em setembro;\n",
    "- 'PAY_AMT2' - representa o valor pago em agosto; \n",
    "- 'PAY_AMT3' - representa o valor pago em julho; \n",
    "- 'PAY_AMT4' - representa o valor pago em junho; \n",
    "- 'PAY_AMT5' - representa o valor pago em maio; \n",
    "- 'PAY_AMT6' - representa o valor pago em abril;\n",
    "- 'default payment next month'\n",
    "\n",
    "Notas: \n",
    "- não usaremos os dados de gênero para tomar decisões de solvibilidade devido a cosiderações éticas;\n",
    "- valores em novos dólares taiwaneses; "
   ]
  },
  {
   "cell_type": "code",
   "execution_count": 5,
   "metadata": {},
   "outputs": [
    {
     "data": {
      "text/html": [
       "<div>\n",
       "<style scoped>\n",
       "    .dataframe tbody tr th:only-of-type {\n",
       "        vertical-align: middle;\n",
       "    }\n",
       "\n",
       "    .dataframe tbody tr th {\n",
       "        vertical-align: top;\n",
       "    }\n",
       "\n",
       "    .dataframe thead th {\n",
       "        text-align: right;\n",
       "    }\n",
       "</style>\n",
       "<table border=\"1\" class=\"dataframe\">\n",
       "  <thead>\n",
       "    <tr style=\"text-align: right;\">\n",
       "      <th></th>\n",
       "      <th>ID</th>\n",
       "      <th>LIMIT_BAL</th>\n",
       "      <th>SEX</th>\n",
       "      <th>EDUCATION</th>\n",
       "      <th>MARRIAGE</th>\n",
       "      <th>AGE</th>\n",
       "      <th>PAY_1</th>\n",
       "      <th>PAY_2</th>\n",
       "      <th>PAY_3</th>\n",
       "      <th>PAY_4</th>\n",
       "      <th>...</th>\n",
       "      <th>BILL_AMT4</th>\n",
       "      <th>BILL_AMT5</th>\n",
       "      <th>BILL_AMT6</th>\n",
       "      <th>PAY_AMT1</th>\n",
       "      <th>PAY_AMT2</th>\n",
       "      <th>PAY_AMT3</th>\n",
       "      <th>PAY_AMT4</th>\n",
       "      <th>PAY_AMT5</th>\n",
       "      <th>PAY_AMT6</th>\n",
       "      <th>default payment next month</th>\n",
       "    </tr>\n",
       "  </thead>\n",
       "  <tbody>\n",
       "    <tr>\n",
       "      <th>0</th>\n",
       "      <td>798fc410-45c1</td>\n",
       "      <td>20000</td>\n",
       "      <td>2</td>\n",
       "      <td>2</td>\n",
       "      <td>1</td>\n",
       "      <td>24</td>\n",
       "      <td>2</td>\n",
       "      <td>2</td>\n",
       "      <td>-1</td>\n",
       "      <td>-1</td>\n",
       "      <td>...</td>\n",
       "      <td>0</td>\n",
       "      <td>0</td>\n",
       "      <td>0</td>\n",
       "      <td>0</td>\n",
       "      <td>689</td>\n",
       "      <td>0</td>\n",
       "      <td>0</td>\n",
       "      <td>0</td>\n",
       "      <td>0</td>\n",
       "      <td>1</td>\n",
       "    </tr>\n",
       "    <tr>\n",
       "      <th>1</th>\n",
       "      <td>8a8c8f3b-8eb4</td>\n",
       "      <td>120000</td>\n",
       "      <td>2</td>\n",
       "      <td>2</td>\n",
       "      <td>2</td>\n",
       "      <td>26</td>\n",
       "      <td>-1</td>\n",
       "      <td>2</td>\n",
       "      <td>0</td>\n",
       "      <td>0</td>\n",
       "      <td>...</td>\n",
       "      <td>3272</td>\n",
       "      <td>3455</td>\n",
       "      <td>3261</td>\n",
       "      <td>0</td>\n",
       "      <td>1000</td>\n",
       "      <td>1000</td>\n",
       "      <td>1000</td>\n",
       "      <td>0</td>\n",
       "      <td>2000</td>\n",
       "      <td>1</td>\n",
       "    </tr>\n",
       "    <tr>\n",
       "      <th>2</th>\n",
       "      <td>85698822-43f5</td>\n",
       "      <td>90000</td>\n",
       "      <td>2</td>\n",
       "      <td>2</td>\n",
       "      <td>2</td>\n",
       "      <td>34</td>\n",
       "      <td>0</td>\n",
       "      <td>0</td>\n",
       "      <td>0</td>\n",
       "      <td>0</td>\n",
       "      <td>...</td>\n",
       "      <td>14331</td>\n",
       "      <td>14948</td>\n",
       "      <td>15549</td>\n",
       "      <td>1518</td>\n",
       "      <td>1500</td>\n",
       "      <td>1000</td>\n",
       "      <td>1000</td>\n",
       "      <td>1000</td>\n",
       "      <td>5000</td>\n",
       "      <td>0</td>\n",
       "    </tr>\n",
       "    <tr>\n",
       "      <th>3</th>\n",
       "      <td>0737c11b-be42</td>\n",
       "      <td>50000</td>\n",
       "      <td>2</td>\n",
       "      <td>2</td>\n",
       "      <td>1</td>\n",
       "      <td>37</td>\n",
       "      <td>0</td>\n",
       "      <td>0</td>\n",
       "      <td>0</td>\n",
       "      <td>0</td>\n",
       "      <td>...</td>\n",
       "      <td>28314</td>\n",
       "      <td>28959</td>\n",
       "      <td>29547</td>\n",
       "      <td>2000</td>\n",
       "      <td>2019</td>\n",
       "      <td>1200</td>\n",
       "      <td>1100</td>\n",
       "      <td>1069</td>\n",
       "      <td>1000</td>\n",
       "      <td>0</td>\n",
       "    </tr>\n",
       "    <tr>\n",
       "      <th>4</th>\n",
       "      <td>3b7f77cc-dbc0</td>\n",
       "      <td>50000</td>\n",
       "      <td>1</td>\n",
       "      <td>2</td>\n",
       "      <td>1</td>\n",
       "      <td>57</td>\n",
       "      <td>-1</td>\n",
       "      <td>0</td>\n",
       "      <td>-1</td>\n",
       "      <td>0</td>\n",
       "      <td>...</td>\n",
       "      <td>20940</td>\n",
       "      <td>19146</td>\n",
       "      <td>19131</td>\n",
       "      <td>2000</td>\n",
       "      <td>36681</td>\n",
       "      <td>10000</td>\n",
       "      <td>9000</td>\n",
       "      <td>689</td>\n",
       "      <td>679</td>\n",
       "      <td>0</td>\n",
       "    </tr>\n",
       "  </tbody>\n",
       "</table>\n",
       "<p>5 rows × 25 columns</p>\n",
       "</div>"
      ],
      "text/plain": [
       "              ID  LIMIT_BAL  SEX  EDUCATION  MARRIAGE  AGE PAY_1  PAY_2  \\\n",
       "0  798fc410-45c1      20000    2          2         1   24     2      2   \n",
       "1  8a8c8f3b-8eb4     120000    2          2         2   26    -1      2   \n",
       "2  85698822-43f5      90000    2          2         2   34     0      0   \n",
       "3  0737c11b-be42      50000    2          2         1   37     0      0   \n",
       "4  3b7f77cc-dbc0      50000    1          2         1   57    -1      0   \n",
       "\n",
       "   PAY_3  PAY_4  ...  BILL_AMT4  BILL_AMT5  BILL_AMT6  PAY_AMT1  PAY_AMT2  \\\n",
       "0     -1     -1  ...          0          0          0         0       689   \n",
       "1      0      0  ...       3272       3455       3261         0      1000   \n",
       "2      0      0  ...      14331      14948      15549      1518      1500   \n",
       "3      0      0  ...      28314      28959      29547      2000      2019   \n",
       "4     -1      0  ...      20940      19146      19131      2000     36681   \n",
       "\n",
       "   PAY_AMT3  PAY_AMT4  PAY_AMT5  PAY_AMT6  default payment next month  \n",
       "0         0         0         0         0                           1  \n",
       "1      1000      1000         0      2000                           1  \n",
       "2      1000      1000      1000      5000                           0  \n",
       "3      1200      1100      1069      1000                           0  \n",
       "4     10000      9000       689       679                           0  \n",
       "\n",
       "[5 rows x 25 columns]"
      ]
     },
     "execution_count": 5,
     "metadata": {},
     "output_type": "execute_result"
    }
   ],
   "source": [
    "# Use o método .head() para ver as primeiras linhas do DataFrame\n",
    "\n",
    "df.head()"
   ]
  },
  {
   "cell_type": "markdown",
   "metadata": {},
   "source": [
    "A coluna ID parece conter identificadores exclusivos. Para verificar se isso ocorre realmente em todo o dataset, podemos contar o número de valores exclusivos usando o método **.nunique()** da **série** (ou seja, coluna) ID. Primeiro, selecionaremos a coluna usando colchetes."
   ]
  },
  {
   "cell_type": "code",
   "execution_count": 6,
   "metadata": {},
   "outputs": [
    {
     "data": {
      "text/plain": [
       "29687"
      ]
     },
     "execution_count": 6,
     "metadata": {},
     "output_type": "execute_result"
    }
   ],
   "source": [
    "# descobrindo um problema de qualidade de dados\n",
    "# A função pandas .nunique() retorna o número de elementos únicos no objeto.\n",
    "\n",
    "df['ID'].nunique()"
   ]
  },
  {
   "cell_type": "markdown",
   "metadata": {},
   "source": [
    "Agora, vamos executar o comando **.shape** para descobrir o número de linhas do dataset"
   ]
  },
  {
   "cell_type": "code",
   "execution_count": 7,
   "metadata": {},
   "outputs": [
    {
     "data": {
      "text/plain": [
       "(30000, 25)"
      ]
     },
     "execution_count": 7,
     "metadata": {},
     "output_type": "execute_result"
    }
   ],
   "source": [
    "# descobrindo o números de linhas do dataset\n",
    "\n",
    "df.shape"
   ]
  },
  {
   "cell_type": "markdown",
   "metadata": {},
   "source": [
    "Identificamos que o número de IDs exclusivos é menor do que o número de linhas. Isso significa que o **ID não é um identificador exclusivo** para as linhas de dados.\n",
    "\n",
    "Sabemos então que há alguma duplicação de IDs. No entanto, em que quantidades? Um único ID está sendo duplicado várias vezes? Quantos IDs estão sendo duplicados?\n",
    "\n",
    "Podemos usar o método **.value_counts()** na série ID para começar a responder a essas perguntas. Ele é semelhante a um procedimento **group by/count** em SQL e listará os IDs exclusivos e a frequência com que ocorrem. Executaremos essa operação na próxima etapa e armazenaremos as contagens de valores em uma variável **id_counts**."
   ]
  },
  {
   "cell_type": "code",
   "execution_count": 8,
   "metadata": {},
   "outputs": [],
   "source": [
    "# armazene as contagens de valores em uma variável definida como id_counts e exiba os valores armazenados usando o método .head()\n",
    "\n",
    "id_counts = df['ID'].value_counts()"
   ]
  },
  {
   "cell_type": "code",
   "execution_count": 9,
   "metadata": {},
   "outputs": [
    {
     "data": {
      "text/plain": [
       "6ff744d5-91f0    2\n",
       "4653bc48-0141    2\n",
       "5deff6b6-62ff    2\n",
       "edd737fd-5b07    2\n",
       "f0723a52-7018    2\n",
       "Name: ID, dtype: int64"
      ]
     },
     "execution_count": 9,
     "metadata": {},
     "output_type": "execute_result"
    }
   ],
   "source": [
    "id_counts.head()"
   ]
  },
  {
   "cell_type": "markdown",
   "metadata": {},
   "source": [
    "Observe que o **.head()** retorna, por padrão, as cinco primeiras linhas. Podemos especificar o número de itens a serem exibidos passando o número desejado nos parênteses, ()."
   ]
  },
  {
   "cell_type": "code",
   "execution_count": 10,
   "metadata": {},
   "outputs": [
    {
     "data": {
      "text/plain": [
       "6ff744d5-91f0    2\n",
       "4653bc48-0141    2\n",
       "5deff6b6-62ff    2\n",
       "edd737fd-5b07    2\n",
       "f0723a52-7018    2\n",
       "e77f7765-8731    2\n",
       "3d832783-1571    2\n",
       "15edb406-305b    2\n",
       "994330b6-eeec    2\n",
       "369e565a-26a1    2\n",
       "87dec940-75b7    2\n",
       "e50d8395-da32    2\n",
       "04c32736-903c    2\n",
       "e668604e-21f6    2\n",
       "4f249cbc-5e9c    2\n",
       "Name: ID, dtype: int64"
      ]
     },
     "execution_count": 10,
     "metadata": {},
     "output_type": "execute_result"
    }
   ],
   "source": [
    "id_counts.head(15)"
   ]
  },
  {
   "cell_type": "code",
   "execution_count": 11,
   "metadata": {},
   "outputs": [
    {
     "data": {
      "text/plain": [
       "1    29374\n",
       "2      313\n",
       "Name: ID, dtype: int64"
      ]
     },
     "execution_count": 11,
     "metadata": {},
     "output_type": "execute_result"
    }
   ],
   "source": [
    "# exiba o número de entradas duplicadas agrupadas executando outra contagem de valores\n",
    "\n",
    "id_counts.value_counts()"
   ]
  },
  {
   "cell_type": "markdown",
   "metadata": {},
   "source": [
    "Na saída acima podemos ver que a maioria dos IDs ocorre exatamente uma única vez, como esperado. No entanto, 313 IDs ocorrem duas vezes. Logo, nenhum ID ocorre mais do que duas vezes.\n",
    "\n",
    "De posse dessas informações, estamos prontos para começar a examinar mais detalhadamente esse problema de qualidade de dados e corrigi-lo. Criaremos máscaras booleanas para limpar melhor os dados."
   ]
  },
  {
   "cell_type": "markdown",
   "metadata": {},
   "source": [
    "# Máscaras booleanas\n",
    "\n",
    "Para ajudar a limpar os dados do estudo de caso, usaremos o conceito de **máscara lógica**, também conhecido como **máscara booleana**.\n",
    "\n",
    "Uma máscara lógica é uma maneira de filtrar um array, ou série (ou seja, coluna), obedecendo alguma condição. Por exemplo, podemos usar o operador \"==; <; >; <=; >=\" para encontrar todos os locais de um array que contêm um valor específico.\n",
    "\n",
    "A saída dessa comparação é um array com uma série de valores  True/False, também conhecidos como valores **booleanos**. Cada elemento da saída corresponderá a um elemento da entrada, com o resultado **True** se a condição for atendida, e **False**, caso não seja.\n"
   ]
  },
  {
   "cell_type": "markdown",
   "metadata": {},
   "source": [
    "Para ilustrar como isso funciona, usaremos **dados sintéticos** (dados criados para a exploração ou ilustração de um conceito). primeiro importaremos o pacote NumPy, para gerar números aleatórios."
   ]
  },
  {
   "cell_type": "code",
   "execution_count": 12,
   "metadata": {},
   "outputs": [],
   "source": [
    "# importando a biblioteca NumPy\n",
    "\n",
    "import numpy as np"
   ]
  },
  {
   "cell_type": "code",
   "execution_count": 13,
   "metadata": {},
   "outputs": [],
   "source": [
    "# usamos seed (semente) no gerador de números aleatórios\n",
    "\n",
    "np.random.seed(seed=24)"
   ]
  },
  {
   "cell_type": "markdown",
   "metadata": {},
   "source": [
    "Se definirmos um **seed**, teremos os mesmos resultados enre as execuções do gerador. Caso contrário, isso não é garantido. \n",
    "\n",
    "Essa pode ser uma opção útil se você usa números aleatórios em seu trabalho e quer ter resultados consistentes sempre que executar um notebook"
   ]
  },
  {
   "cell_type": "code",
   "execution_count": 14,
   "metadata": {},
   "outputs": [],
   "source": [
    "# geração de 100 inteiros aleatórios, selecinodos entre 1 e 5 (inclusive)\n",
    "\n",
    "random_integers = np.random.randint(low=1, high=5, size=100)"
   ]
  },
  {
   "cell_type": "code",
   "execution_count": 15,
   "metadata": {},
   "outputs": [
    {
     "data": {
      "text/plain": [
       "array([3, 4, 1, 4, 2, 2, 2, 1, 4, 4, 1, 4, 4, 3, 4, 4, 4, 4, 4, 4, 2, 3,\n",
       "       4, 4, 2, 4, 2, 4, 1, 1, 3, 1, 4, 2, 2, 1, 4, 3, 2, 2, 3, 3, 2, 3,\n",
       "       4, 2, 3, 4, 1, 3, 4, 2, 2, 4, 1, 2, 3, 3, 2, 1, 2, 4, 2, 1, 4, 3,\n",
       "       1, 2, 1, 3, 4, 2, 3, 4, 1, 3, 2, 1, 1, 3, 3, 4, 3, 2, 4, 1, 4, 4,\n",
       "       4, 4, 1, 4, 3, 2, 4, 4, 3, 3, 2, 4])"
      ]
     },
     "execution_count": 15,
     "metadata": {},
     "output_type": "execute_result"
    }
   ],
   "source": [
    "random_integers"
   ]
  },
  {
   "cell_type": "code",
   "execution_count": 16,
   "metadata": {},
   "outputs": [
    {
     "data": {
      "text/plain": [
       "array([3, 4, 1, 4, 2])"
      ]
     },
     "execution_count": 16,
     "metadata": {},
     "output_type": "execute_result"
    }
   ],
   "source": [
    "# obtendo os cinco primeiros números\n",
    "\n",
    "random_integers[:5]"
   ]
  },
  {
   "cell_type": "markdown",
   "metadata": {},
   "source": [
    "Suponhamos que quiséssemos conhecer os locais de todos os elementos de **random_integer igual a 3**. Poderíamos criar uma máscara booleana para fazer isso."
   ]
  },
  {
   "cell_type": "code",
   "execution_count": 17,
   "metadata": {},
   "outputs": [],
   "source": [
    "# criando máscara booleana para condições iguais a 3\n",
    "\n",
    "is_equal_to_3 = random_integers == 3"
   ]
  },
  {
   "cell_type": "code",
   "execution_count": 18,
   "metadata": {},
   "outputs": [
    {
     "data": {
      "text/plain": [
       "array([ True, False, False, False, False])"
      ]
     },
     "execution_count": 18,
     "metadata": {},
     "output_type": "execute_result"
    }
   ],
   "source": [
    "# obtendo os cinco primeiros resutados\n",
    "\n",
    "is_equal_to_3[:5]"
   ]
  },
  {
   "cell_type": "code",
   "execution_count": 19,
   "metadata": {},
   "outputs": [
    {
     "data": {
      "text/plain": [
       "22"
      ]
     },
     "execution_count": 19,
     "metadata": {},
     "output_type": "execute_result"
    }
   ],
   "source": [
    "# somando o resultados da máscara booleana\n",
    "\n",
    "sum(is_equal_to_3)"
   ]
  },
  {
   "cell_type": "markdown",
   "metadata": {},
   "source": [
    "O resultado igual a 22 faz sentido, com uma criação aleátoria igualmente provável de 5 valores possíveis, o esperado é que cada valor apareça 20 % das vezes"
   ]
  },
  {
   "cell_type": "code",
   "execution_count": 20,
   "metadata": {},
   "outputs": [
    {
     "data": {
      "text/plain": [
       "array([3, 3, 3, 3, 3, 3, 3, 3, 3, 3, 3, 3, 3, 3, 3, 3, 3, 3, 3, 3, 3, 3])"
      ]
     },
     "execution_count": 20,
     "metadata": {},
     "output_type": "execute_result"
    }
   ],
   "source": [
    "# selecionando os elementos do array original que atendem a essa condição\n",
    "\n",
    "random_integers[is_equal_to_3]"
   ]
  },
  {
   "cell_type": "markdown",
   "metadata": {},
   "source": [
    "Esses são os aspectos básicos dos arrays booleanos, que são úteis em muitas situações. Especificamente, você pode usar o método **.loc** de DataFrames para indexar suas linhas por uma máscara booleana e as colunas por rótulo. "
   ]
  },
  {
   "cell_type": "markdown",
   "metadata": {},
   "source": [
    "# Continuando a verificação da integridade dos dados\n",
    "\n",
    "Com o conhecimento dos arrays booleanos, examinaremos alguns dos IDs duplicados que descobrimos.\n",
    "\n",
    "Já verificamos que nenhum ID aparece mais de duas vezes. Podemos usar essa informação para localizar os IDs duplicados e examiná-los. Em seguida, tomaremos medidas para remover linhas de qualidade duvidosa do dataset."
   ]
  },
  {
   "cell_type": "code",
   "execution_count": 21,
   "metadata": {},
   "outputs": [],
   "source": [
    "# criando máscara booleana para condições iguais a 3\n",
    "\n",
    "dupe_mask = id_counts == 2"
   ]
  },
  {
   "cell_type": "code",
   "execution_count": 22,
   "metadata": {},
   "outputs": [
    {
     "data": {
      "text/plain": [
       "6ff744d5-91f0    True\n",
       "4653bc48-0141    True\n",
       "5deff6b6-62ff    True\n",
       "edd737fd-5b07    True\n",
       "f0723a52-7018    True\n",
       "Name: ID, dtype: bool"
      ]
     },
     "execution_count": 22,
     "metadata": {},
     "output_type": "execute_result"
    }
   ],
   "source": [
    "# obtendo os cinco primeiros resutados\n",
    "\n",
    "dupe_mask[:5]"
   ]
  },
  {
   "cell_type": "markdown",
   "metadata": {},
   "source": [
    "Aqui, **dupe_mask** é a máscara lógica que criamos para armazenar os valores booleanos."
   ]
  },
  {
   "cell_type": "code",
   "execution_count": 23,
   "metadata": {},
   "outputs": [
    {
     "data": {
      "text/plain": [
       "Index(['6ff744d5-91f0', '4653bc48-0141', '5deff6b6-62ff', 'edd737fd-5b07',\n",
       "       'f0723a52-7018'],\n",
       "      dtype='object')"
      ]
     },
     "execution_count": 23,
     "metadata": {},
     "output_type": "execute_result"
    }
   ],
   "source": [
    "# acessando o índice de id_count e exibindo as cinco primeiras linhas como contexto usando o comando a seguir\n",
    "\n",
    "id_counts.index[:5]"
   ]
  },
  {
   "cell_type": "code",
   "execution_count": 24,
   "metadata": {},
   "outputs": [],
   "source": [
    "# selecionando e armazenando os IDs duplicados em uma nova variável chamada dupe_ids \n",
    "\n",
    "dupe_ids = id_counts.index[dupe_mask]"
   ]
  },
  {
   "cell_type": "code",
   "execution_count": 25,
   "metadata": {},
   "outputs": [
    {
     "data": {
      "text/plain": [
       "Index(['6ff744d5-91f0', '4653bc48-0141', '5deff6b6-62ff', 'edd737fd-5b07',\n",
       "       'f0723a52-7018', 'e77f7765-8731', '3d832783-1571', '15edb406-305b',\n",
       "       '994330b6-eeec', '369e565a-26a1', '87dec940-75b7', 'e50d8395-da32',\n",
       "       '04c32736-903c', 'e668604e-21f6', '4f249cbc-5e9c'],\n",
       "      dtype='object')"
      ]
     },
     "execution_count": 25,
     "metadata": {},
     "output_type": "execute_result"
    }
   ],
   "source": [
    "#exibindo os 15 primeiros ids armazenados\n",
    "\n",
    "dupe_ids[:15]"
   ]
  },
  {
   "cell_type": "code",
   "execution_count": 26,
   "metadata": {},
   "outputs": [
    {
     "data": {
      "text/plain": [
       "313"
      ]
     },
     "execution_count": 26,
     "metadata": {},
     "output_type": "execute_result"
    }
   ],
   "source": [
    "# convertendo dupe_ids em uma lista e obtendo seu tamanho\n",
    "\n",
    "dupe_ids = list(dupe_ids)\n",
    "len(dupe_ids)"
   ]
  },
  {
   "cell_type": "markdown",
   "metadata": {},
   "source": [
    "Alteramos a variável **dupe_ids** para uma **lista**, já que precisamos dela nessa forma em etapas futuras. A lista tem um tamanho igual a 313, como pode ser visto na saída acima, que coincide com o número de IDs duplicados que obtivemos na contagem de valores algumas linhas acima."
   ]
  },
  {
   "cell_type": "code",
   "execution_count": 27,
   "metadata": {},
   "outputs": [
    {
     "data": {
      "text/plain": [
       "['6ff744d5-91f0',\n",
       " '4653bc48-0141',\n",
       " '5deff6b6-62ff',\n",
       " 'edd737fd-5b07',\n",
       " 'f0723a52-7018']"
      ]
     },
     "execution_count": 27,
     "metadata": {},
     "output_type": "execute_result"
    }
   ],
   "source": [
    "# verificando os dados de dupe_ids exibindo as cinco primeiras entradas\n",
    "\n",
    "dupe_ids[:5]"
   ]
  },
  {
   "cell_type": "markdown",
   "metadata": {},
   "source": [
    "Agora estamos prontos para examinar os dados dos IDs de nossa lista de duplicatas. Especificamente, queremos examinar os valores das características para ver se há algode diferente entre essas entradas.\n",
    "\n",
    "Para isso, usaremos os métodos **.isin** e **.loc**."
   ]
  },
  {
   "cell_type": "markdown",
   "metadata": {},
   "source": [
    "Usando os três primeiros IDs de nossa lista de duplicatas, **dupe_ids[:3]**, primeiro queremos encontrar as linhas que contêm esses IDs. Se passarmos essa lista de IDs para o método **.isin** da série ID, ele criará outra máscara lógica que poderemos usar no DataFrame maior para exibir as linhas que contêm os IDs.\n",
    "\n",
    "O método **.isin** ficará aninhado em uma instrução **.loc** de indexação do DataFrame para a seleção do local de todas as linhas que contêm 'True' na máscara booleana.\n",
    "\n",
    "O segundo argumento da instrução de indexação **.loc** é :, que implica que todas as colunas serão selecionadas. Ao executar as próximas etapas, estaremos basicamente filtrando o DataFrame para visualizar todas as colunas dos três primeiros IDs duplicados."
   ]
  },
  {
   "cell_type": "code",
   "execution_count": 28,
   "metadata": {},
   "outputs": [
    {
     "data": {
      "text/html": [
       "<div>\n",
       "<style scoped>\n",
       "    .dataframe tbody tr th:only-of-type {\n",
       "        vertical-align: middle;\n",
       "    }\n",
       "\n",
       "    .dataframe tbody tr th {\n",
       "        vertical-align: top;\n",
       "    }\n",
       "\n",
       "    .dataframe thead th {\n",
       "        text-align: right;\n",
       "    }\n",
       "</style>\n",
       "<table border=\"1\" class=\"dataframe\">\n",
       "  <thead>\n",
       "    <tr style=\"text-align: right;\">\n",
       "      <th></th>\n",
       "      <th>ID</th>\n",
       "      <th>LIMIT_BAL</th>\n",
       "      <th>SEX</th>\n",
       "      <th>EDUCATION</th>\n",
       "      <th>MARRIAGE</th>\n",
       "      <th>AGE</th>\n",
       "      <th>PAY_1</th>\n",
       "      <th>PAY_2</th>\n",
       "      <th>PAY_3</th>\n",
       "      <th>PAY_4</th>\n",
       "      <th>...</th>\n",
       "      <th>BILL_AMT4</th>\n",
       "      <th>BILL_AMT5</th>\n",
       "      <th>BILL_AMT6</th>\n",
       "      <th>PAY_AMT1</th>\n",
       "      <th>PAY_AMT2</th>\n",
       "      <th>PAY_AMT3</th>\n",
       "      <th>PAY_AMT4</th>\n",
       "      <th>PAY_AMT5</th>\n",
       "      <th>PAY_AMT6</th>\n",
       "      <th>default payment next month</th>\n",
       "    </tr>\n",
       "  </thead>\n",
       "  <tbody>\n",
       "    <tr>\n",
       "      <th>2678</th>\n",
       "      <td>4653bc48-0141</td>\n",
       "      <td>200000</td>\n",
       "      <td>2</td>\n",
       "      <td>2</td>\n",
       "      <td>2</td>\n",
       "      <td>43</td>\n",
       "      <td>0</td>\n",
       "      <td>0</td>\n",
       "      <td>0</td>\n",
       "      <td>0</td>\n",
       "      <td>...</td>\n",
       "      <td>190775</td>\n",
       "      <td>196449</td>\n",
       "      <td>192085</td>\n",
       "      <td>8155</td>\n",
       "      <td>8302</td>\n",
       "      <td>7225</td>\n",
       "      <td>10153</td>\n",
       "      <td>6987</td>\n",
       "      <td>5262</td>\n",
       "      <td>0</td>\n",
       "    </tr>\n",
       "    <tr>\n",
       "      <th>2778</th>\n",
       "      <td>4653bc48-0141</td>\n",
       "      <td>0</td>\n",
       "      <td>0</td>\n",
       "      <td>0</td>\n",
       "      <td>0</td>\n",
       "      <td>0</td>\n",
       "      <td>0</td>\n",
       "      <td>0</td>\n",
       "      <td>0</td>\n",
       "      <td>0</td>\n",
       "      <td>...</td>\n",
       "      <td>0</td>\n",
       "      <td>0</td>\n",
       "      <td>0</td>\n",
       "      <td>0</td>\n",
       "      <td>0</td>\n",
       "      <td>0</td>\n",
       "      <td>0</td>\n",
       "      <td>0</td>\n",
       "      <td>0</td>\n",
       "      <td>0</td>\n",
       "    </tr>\n",
       "    <tr>\n",
       "      <th>3018</th>\n",
       "      <td>6ff744d5-91f0</td>\n",
       "      <td>20000</td>\n",
       "      <td>1</td>\n",
       "      <td>1</td>\n",
       "      <td>1</td>\n",
       "      <td>34</td>\n",
       "      <td>2</td>\n",
       "      <td>0</td>\n",
       "      <td>0</td>\n",
       "      <td>2</td>\n",
       "      <td>...</td>\n",
       "      <td>8436</td>\n",
       "      <td>12016</td>\n",
       "      <td>11404</td>\n",
       "      <td>2000</td>\n",
       "      <td>2000</td>\n",
       "      <td>0</td>\n",
       "      <td>4000</td>\n",
       "      <td>0</td>\n",
       "      <td>4000</td>\n",
       "      <td>0</td>\n",
       "    </tr>\n",
       "    <tr>\n",
       "      <th>3118</th>\n",
       "      <td>6ff744d5-91f0</td>\n",
       "      <td>0</td>\n",
       "      <td>0</td>\n",
       "      <td>0</td>\n",
       "      <td>0</td>\n",
       "      <td>0</td>\n",
       "      <td>0</td>\n",
       "      <td>0</td>\n",
       "      <td>0</td>\n",
       "      <td>0</td>\n",
       "      <td>...</td>\n",
       "      <td>0</td>\n",
       "      <td>0</td>\n",
       "      <td>0</td>\n",
       "      <td>0</td>\n",
       "      <td>0</td>\n",
       "      <td>0</td>\n",
       "      <td>0</td>\n",
       "      <td>0</td>\n",
       "      <td>0</td>\n",
       "      <td>0</td>\n",
       "    </tr>\n",
       "    <tr>\n",
       "      <th>13146</th>\n",
       "      <td>5deff6b6-62ff</td>\n",
       "      <td>140000</td>\n",
       "      <td>2</td>\n",
       "      <td>2</td>\n",
       "      <td>2</td>\n",
       "      <td>32</td>\n",
       "      <td>-1</td>\n",
       "      <td>-1</td>\n",
       "      <td>-1</td>\n",
       "      <td>-2</td>\n",
       "      <td>...</td>\n",
       "      <td>0</td>\n",
       "      <td>1186</td>\n",
       "      <td>0</td>\n",
       "      <td>3134</td>\n",
       "      <td>0</td>\n",
       "      <td>0</td>\n",
       "      <td>1186</td>\n",
       "      <td>0</td>\n",
       "      <td>1047</td>\n",
       "      <td>1</td>\n",
       "    </tr>\n",
       "    <tr>\n",
       "      <th>13246</th>\n",
       "      <td>5deff6b6-62ff</td>\n",
       "      <td>0</td>\n",
       "      <td>0</td>\n",
       "      <td>0</td>\n",
       "      <td>0</td>\n",
       "      <td>0</td>\n",
       "      <td>0</td>\n",
       "      <td>0</td>\n",
       "      <td>0</td>\n",
       "      <td>0</td>\n",
       "      <td>...</td>\n",
       "      <td>0</td>\n",
       "      <td>0</td>\n",
       "      <td>0</td>\n",
       "      <td>0</td>\n",
       "      <td>0</td>\n",
       "      <td>0</td>\n",
       "      <td>0</td>\n",
       "      <td>0</td>\n",
       "      <td>0</td>\n",
       "      <td>0</td>\n",
       "    </tr>\n",
       "  </tbody>\n",
       "</table>\n",
       "<p>6 rows × 25 columns</p>\n",
       "</div>"
      ],
      "text/plain": [
       "                  ID  LIMIT_BAL  SEX  EDUCATION  MARRIAGE  AGE PAY_1  PAY_2  \\\n",
       "2678   4653bc48-0141     200000    2          2         2   43     0      0   \n",
       "2778   4653bc48-0141          0    0          0         0    0     0      0   \n",
       "3018   6ff744d5-91f0      20000    1          1         1   34     2      0   \n",
       "3118   6ff744d5-91f0          0    0          0         0    0     0      0   \n",
       "13146  5deff6b6-62ff     140000    2          2         2   32    -1     -1   \n",
       "13246  5deff6b6-62ff          0    0          0         0    0     0      0   \n",
       "\n",
       "       PAY_3  PAY_4  ...  BILL_AMT4  BILL_AMT5  BILL_AMT6  PAY_AMT1  PAY_AMT2  \\\n",
       "2678       0      0  ...     190775     196449     192085      8155      8302   \n",
       "2778       0      0  ...          0          0          0         0         0   \n",
       "3018       0      2  ...       8436      12016      11404      2000      2000   \n",
       "3118       0      0  ...          0          0          0         0         0   \n",
       "13146     -1     -2  ...          0       1186          0      3134         0   \n",
       "13246      0      0  ...          0          0          0         0         0   \n",
       "\n",
       "       PAY_AMT3  PAY_AMT4  PAY_AMT5  PAY_AMT6  default payment next month  \n",
       "2678       7225     10153      6987      5262                           0  \n",
       "2778          0         0         0         0                           0  \n",
       "3018          0      4000         0      4000                           0  \n",
       "3118          0         0         0         0                           0  \n",
       "13146         0      1186         0      1047                           1  \n",
       "13246         0         0         0         0                           0  \n",
       "\n",
       "[6 rows x 25 columns]"
      ]
     },
     "execution_count": 28,
     "metadata": {},
     "output_type": "execute_result"
    }
   ],
   "source": [
    "# executando o comando formulado anteriormente\n",
    "\n",
    "df.loc[df['ID'].isin(dupe_ids[:3]),:].head(10)"
   ]
  },
  {
   "cell_type": "markdown",
   "metadata": {},
   "source": [
    "O que podemos ver aqui é que cada ID duplicado para ter uma linha de dados válidos e outra somente com zeros. Fica claro que devemos excluir as linhas somentes com zeros, já que não faz sentido alguém ter 0 anos, limite de crédito igual a 0 e assim por diante.\n",
    "\n",
    "Uma abordagem para lidarmos com esse problema seria encontrar as linhas que só tem zeros, exceto na primeira coluna, que tem os IDs. Esses dados seriam inválidos e, se excluíssemos, também resolveríamos nosso problema de IDs duplicados.\n"
   ]
  },
  {
   "cell_type": "code",
   "execution_count": 29,
   "metadata": {},
   "outputs": [],
   "source": [
    "# criando uma máscara booleana feature_zero_mask\n",
    "\n",
    "df_zero_mask = df == 0"
   ]
  },
  {
   "cell_type": "markdown",
   "metadata": {},
   "source": [
    "Usaremos **df_zero_mask**, que é outro DataFrame, contendo valores booleanos. O objetivo é criarmos uma série booleana, **feature_zero_mask**, que identifique cada linha em que todos os elementos a partir da segunda coluna (as características e a resposta, mas não o IDs) sejam 0.\n",
    "\n",
    "Para isso, primeiro temos que indexar **df_zero_mask** usando o método de indexação de inteiros (.loc). Nesse método, passaremos (:) para examinar todas as linhas e (1:) para examinar todas as colunas a partir da segunda (ídice 1). Para concluir, aplicaremos o método **all()** ao longo do eixo da coluna (axis=1) e ele retornará **True** somente se todas as colunas dessa linha forem iguais a **True**. "
   ]
  },
  {
   "cell_type": "code",
   "execution_count": 31,
   "metadata": {},
   "outputs": [],
   "source": [
    "# criando a série booleana feature_zero_mask\n",
    "\n",
    "feature_zero_mask = df_zero_mask.iloc[:,1:].all(axis=1)"
   ]
  },
  {
   "cell_type": "code",
   "execution_count": 32,
   "metadata": {},
   "outputs": [
    {
     "data": {
      "text/plain": [
       "315"
      ]
     },
     "execution_count": 32,
     "metadata": {},
     "output_type": "execute_result"
    }
   ],
   "source": [
    "# calculando a soma da série booleana\n",
    "\n",
    "sum(feature_zero_mask)"
   ]
  },
  {
   "cell_type": "markdown",
   "metadata": {},
   "source": [
    "Esse número é maior do que o número de IDs duplicados, logo, se excluirmos todas as \"linhas de zeros\", podemos nos livrar do problema dos IDs duplicados"
   ]
  },
  {
   "cell_type": "code",
   "execution_count": null,
   "metadata": {},
   "outputs": [],
   "source": []
  }
 ],
 "metadata": {
  "kernelspec": {
   "display_name": "Python 3",
   "language": "python",
   "name": "python3"
  },
  "language_info": {
   "codemirror_mode": {
    "name": "ipython",
    "version": 3
   },
   "file_extension": ".py",
   "mimetype": "text/x-python",
   "name": "python",
   "nbconvert_exporter": "python",
   "pygments_lexer": "ipython3",
   "version": "3.8.5"
  }
 },
 "nbformat": 4,
 "nbformat_minor": 4
}

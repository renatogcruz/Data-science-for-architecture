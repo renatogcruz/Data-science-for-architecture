{
 "cells": [
  {
   "cell_type": "markdown",
   "metadata": {},
   "source": [
    "# Exploração e limpeza de dados"
   ]
  },
  {
   "cell_type": "markdown",
   "metadata": {},
   "source": [
    "### Diferentes tipos de problemas da ciência de dados\n",
    "\n",
    "- problema de regressão\n",
    "\n",
    "Por exemplo, prever o preço de uma casa. O esperado é que fique perto do preço real\n",
    "\n",
    "- problema de classificação\n",
    "\n",
    "Por exemplo, prever uma resposta sim ou não para uma pergunta. O esperado é a resposta correta.\n",
    "\n",
    "Ambos problemas são chamados de **aprendizado supervisionado**, um tipo de problema que depende de dados rotulados"
   ]
  },
  {
   "cell_type": "markdown",
   "metadata": {},
   "source": [
    "### DataFrame\n",
    "\n",
    "DataFrame é uma classe básica do pandas. Funciona como um template para uma estrutura de dados.\n",
    "\n",
    "Exemplo de um DataFarme:\n",
    "\n",
    "|    | ID | Sex | Name |\n",
    "|----|----|-----|------|\n",
    "| 1  | 001|M    | Pedro|\n",
    "| 2  | 002|F    | Ana  |\n",
    "\n",
    "Tabela: *Exemplo de DataFrame do pandas com um ímdice de linha inteiro à esquerda e um índice de coluna na forma de strings*"
   ]
  },
  {
   "cell_type": "code",
   "execution_count": 1,
   "metadata": {},
   "outputs": [],
   "source": [
    "# Carregando os dados do estudo de caso em um jupyter notebook\n",
    "\n",
    "## importar pandas\n",
    "\n",
    "import pandas as pd"
   ]
  },
  {
   "cell_type": "code",
   "execution_count": 2,
   "metadata": {},
   "outputs": [],
   "source": [
    "# importando o dataset usando o método pd.read_excel\n",
    "\n",
    "df = pd.read_excel('C:/Users/Renato/OneDrive/github/Data_science_for_architecture/projetos_de_ciencias_de_dados_com_python/Data/default_of_credit_card_clients__courseware_version_1_21_19.xls')"
   ]
  },
  {
   "cell_type": "code",
   "execution_count": 3,
   "metadata": {},
   "outputs": [
    {
     "name": "stdout",
     "output_type": "stream",
     "text": [
      "<class 'pandas.core.frame.DataFrame'>\n",
      "RangeIndex: 30000 entries, 0 to 29999\n",
      "Data columns (total 25 columns):\n",
      " #   Column                      Non-Null Count  Dtype \n",
      "---  ------                      --------------  ----- \n",
      " 0   ID                          30000 non-null  object\n",
      " 1   LIMIT_BAL                   30000 non-null  int64 \n",
      " 2   SEX                         30000 non-null  int64 \n",
      " 3   EDUCATION                   30000 non-null  int64 \n",
      " 4   MARRIAGE                    30000 non-null  int64 \n",
      " 5   AGE                         30000 non-null  int64 \n",
      " 6   PAY_1                       30000 non-null  object\n",
      " 7   PAY_2                       30000 non-null  int64 \n",
      " 8   PAY_3                       30000 non-null  int64 \n",
      " 9   PAY_4                       30000 non-null  int64 \n",
      " 10  PAY_5                       30000 non-null  int64 \n",
      " 11  PAY_6                       30000 non-null  int64 \n",
      " 12  BILL_AMT1                   30000 non-null  int64 \n",
      " 13  BILL_AMT2                   30000 non-null  int64 \n",
      " 14  BILL_AMT3                   30000 non-null  int64 \n",
      " 15  BILL_AMT4                   30000 non-null  int64 \n",
      " 16  BILL_AMT5                   30000 non-null  int64 \n",
      " 17  BILL_AMT6                   30000 non-null  int64 \n",
      " 18  PAY_AMT1                    30000 non-null  int64 \n",
      " 19  PAY_AMT2                    30000 non-null  int64 \n",
      " 20  PAY_AMT3                    30000 non-null  int64 \n",
      " 21  PAY_AMT4                    30000 non-null  int64 \n",
      " 22  PAY_AMT5                    30000 non-null  int64 \n",
      " 23  PAY_AMT6                    30000 non-null  int64 \n",
      " 24  default payment next month  30000 non-null  int64 \n",
      "dtypes: int64(23), object(2)\n",
      "memory usage: 5.7+ MB\n"
     ]
    }
   ],
   "source": [
    "# testando a importação do dataset via pandas\n",
    "# Use o método .info() para ver todas as colunas com os tipos de dados\n",
    "\n",
    "df.info()"
   ]
  },
  {
   "cell_type": "markdown",
   "metadata": {},
   "source": [
    "### O problema da empresa\n",
    "\n",
    "Cliente é uma empresa de cartão de crédito. O dataset inclui dados demográficos e financeiros recentes (6 últimos meses) de uma amostra de 30.000 titulares.\n",
    "\n",
    "As linhas são rotuladas de acordo com se no mês seguinte ao período de dados histórico de seis meses um proprietário de conta ficou inadimplente, ou seja, não fez o pagamento mínimo.\n",
    "\n",
    "### Objetivo\n",
    "\n",
    "Desenvolver um modelo que preveja se uma conta ficará inadimplente no próximo mês."
   ]
  },
  {
   "cell_type": "markdown",
   "metadata": {},
   "source": [
    "# Etapa de exploração de dados\n",
    "\n",
    "Algumas etapas úteis para a exploração de dados:  \n",
    "\n",
    "- saber quantas colunas os dados contêm (características, resposta ou metadados);\n",
    "- quantas linhas (amostras);\n",
    "- que tipos de características existem (categóricas (sim/não/talvez) ou númericas);\n",
    "- qual é a aparência dos dados segundo essas características;\n",
    "- há dados faltando?\n",
    "    "
   ]
  },
  {
   "cell_type": "markdown",
   "metadata": {},
   "source": [
    "## Exercício 3: Verificando a integridade básica dos dados"
   ]
  },
  {
   "cell_type": "code",
   "execution_count": 4,
   "metadata": {},
   "outputs": [
    {
     "data": {
      "text/plain": [
       "Index(['ID', 'LIMIT_BAL', 'SEX', 'EDUCATION', 'MARRIAGE', 'AGE', 'PAY_1',\n",
       "       'PAY_2', 'PAY_3', 'PAY_4', 'PAY_5', 'PAY_6', 'BILL_AMT1', 'BILL_AMT2',\n",
       "       'BILL_AMT3', 'BILL_AMT4', 'BILL_AMT5', 'BILL_AMT6', 'PAY_AMT1',\n",
       "       'PAY_AMT2', 'PAY_AMT3', 'PAY_AMT4', 'PAY_AMT5', 'PAY_AMT6',\n",
       "       'default payment next month'],\n",
       "      dtype='object')"
      ]
     },
     "execution_count": 4,
     "metadata": {},
     "output_type": "execute_result"
    }
   ],
   "source": [
    "# Verificando a integridade básica dos dados\n",
    "\n",
    "# Empregar o método .columns do DataFrame para examinar os nomes de todas as colunas.\n",
    "\n",
    "df.columns"
   ]
  },
  {
   "cell_type": "markdown",
   "metadata": {},
   "source": [
    "Como podemos ver, os nomes de todas as colunas estão listadas na saída. A coluna IDs de contas chama-se ID. As outras colunas parecem ser as **características**, com a última coluna sendo a **variável de resposta**."
   ]
  },
  {
   "cell_type": "markdown",
   "metadata": {},
   "source": [
    "Resumo das informações do dataset que nos foi dado pela clinte:\n",
    "\n",
    "- 'ID - coluna de IDs de contas'; \n",
    "- 'LIMIT_BAL' - valor do crédito fornecido inclusive o crédito do consumidor individual e familiar (complementar); \n",
    "- 'SEX' - gênero (1=masculino; 2=feminino); \n",
    "- 'EDUCATION' - instrução (1=pós-graduação; 2=universidade; 3=ensino médio; 4=outros); \n",
    "- 'MARRIAGE' - estado civil (1=casado; 2=solteiro; 3=outros), \n",
    "- 'AGE' - idade (ano); \n",
    "- 'PAY_1'-'PAY_6' - registro de pagamentos passados.  Pagamentos mensais passados, registrados de abril a setembro, são armazenados nessas colunas;\n",
    "- 'PAY_1' - representa o status de reembolso em setembro;\n",
    "- 'PAY_2', - status de reembolso em agosto;\n",
    "- 'PAY_3', - status de reembolso em julho;\n",
    "- 'PAY_4', - status de reembolso em junho;\n",
    "- 'PAY_5', - status de reembolso em maio;\n",
    "- 'PAY_6', - status de reembolso em abril;\n",
    "\n",
    "A escala de medida do status de reembolso é a seguinte: -1 = pagamento pontual; 1 = atraso de um mês no pagamento; 2 = atraso de dois meses no pagamento; e assim por diante até 8 = atraso de oito meses no pagamento; 9 = atraso de nove meses ou mais no pagamento.\n",
    "\n",
    "- 'BILL_AMT1'-'PAY_AMT6', - valorda fatura; \n",
    "- 'BILL_AMT1' - representa o valor da fatura em setembro;\n",
    "- 'BILL_AMT2' - representa o valor da fatura em agosto;\n",
    "- 'BILL_AMT3' - representa o valor da fatura em julho; \n",
    "- 'BILL_AMT4' - representa o valor da fatura em junho; \n",
    "- 'BILL_AMT5' - representa o valor da fatura em maio; \n",
    "- 'BILL_AMT6' - representa o valor da fatura em abril; \n",
    "- 'PAY_AMT1'-'PAY_AMT6' - valor de pagamentos anteriores;\n",
    "- 'PAY_AMT1' - representa o valor pago em setembro;\n",
    "- 'PAY_AMT2' - representa o valor pago em agosto; \n",
    "- 'PAY_AMT3' - representa o valor pago em julho; \n",
    "- 'PAY_AMT4' - representa o valor pago em junho; \n",
    "- 'PAY_AMT5' - representa o valor pago em maio; \n",
    "- 'PAY_AMT6' - representa o valor pago em abril;\n",
    "- 'default payment next month'\n",
    "\n",
    "Notas: \n",
    "- não usaremos os dados de gênero para tomar decisões de solvibilidade devido a cosiderações éticas;\n",
    "- valores em novos dólares taiwaneses; "
   ]
  },
  {
   "cell_type": "code",
   "execution_count": 5,
   "metadata": {},
   "outputs": [
    {
     "data": {
      "text/html": [
       "<div>\n",
       "<style scoped>\n",
       "    .dataframe tbody tr th:only-of-type {\n",
       "        vertical-align: middle;\n",
       "    }\n",
       "\n",
       "    .dataframe tbody tr th {\n",
       "        vertical-align: top;\n",
       "    }\n",
       "\n",
       "    .dataframe thead th {\n",
       "        text-align: right;\n",
       "    }\n",
       "</style>\n",
       "<table border=\"1\" class=\"dataframe\">\n",
       "  <thead>\n",
       "    <tr style=\"text-align: right;\">\n",
       "      <th></th>\n",
       "      <th>ID</th>\n",
       "      <th>LIMIT_BAL</th>\n",
       "      <th>SEX</th>\n",
       "      <th>EDUCATION</th>\n",
       "      <th>MARRIAGE</th>\n",
       "      <th>AGE</th>\n",
       "      <th>PAY_1</th>\n",
       "      <th>PAY_2</th>\n",
       "      <th>PAY_3</th>\n",
       "      <th>PAY_4</th>\n",
       "      <th>...</th>\n",
       "      <th>BILL_AMT4</th>\n",
       "      <th>BILL_AMT5</th>\n",
       "      <th>BILL_AMT6</th>\n",
       "      <th>PAY_AMT1</th>\n",
       "      <th>PAY_AMT2</th>\n",
       "      <th>PAY_AMT3</th>\n",
       "      <th>PAY_AMT4</th>\n",
       "      <th>PAY_AMT5</th>\n",
       "      <th>PAY_AMT6</th>\n",
       "      <th>default payment next month</th>\n",
       "    </tr>\n",
       "  </thead>\n",
       "  <tbody>\n",
       "    <tr>\n",
       "      <th>0</th>\n",
       "      <td>798fc410-45c1</td>\n",
       "      <td>20000</td>\n",
       "      <td>2</td>\n",
       "      <td>2</td>\n",
       "      <td>1</td>\n",
       "      <td>24</td>\n",
       "      <td>2</td>\n",
       "      <td>2</td>\n",
       "      <td>-1</td>\n",
       "      <td>-1</td>\n",
       "      <td>...</td>\n",
       "      <td>0</td>\n",
       "      <td>0</td>\n",
       "      <td>0</td>\n",
       "      <td>0</td>\n",
       "      <td>689</td>\n",
       "      <td>0</td>\n",
       "      <td>0</td>\n",
       "      <td>0</td>\n",
       "      <td>0</td>\n",
       "      <td>1</td>\n",
       "    </tr>\n",
       "    <tr>\n",
       "      <th>1</th>\n",
       "      <td>8a8c8f3b-8eb4</td>\n",
       "      <td>120000</td>\n",
       "      <td>2</td>\n",
       "      <td>2</td>\n",
       "      <td>2</td>\n",
       "      <td>26</td>\n",
       "      <td>-1</td>\n",
       "      <td>2</td>\n",
       "      <td>0</td>\n",
       "      <td>0</td>\n",
       "      <td>...</td>\n",
       "      <td>3272</td>\n",
       "      <td>3455</td>\n",
       "      <td>3261</td>\n",
       "      <td>0</td>\n",
       "      <td>1000</td>\n",
       "      <td>1000</td>\n",
       "      <td>1000</td>\n",
       "      <td>0</td>\n",
       "      <td>2000</td>\n",
       "      <td>1</td>\n",
       "    </tr>\n",
       "    <tr>\n",
       "      <th>2</th>\n",
       "      <td>85698822-43f5</td>\n",
       "      <td>90000</td>\n",
       "      <td>2</td>\n",
       "      <td>2</td>\n",
       "      <td>2</td>\n",
       "      <td>34</td>\n",
       "      <td>0</td>\n",
       "      <td>0</td>\n",
       "      <td>0</td>\n",
       "      <td>0</td>\n",
       "      <td>...</td>\n",
       "      <td>14331</td>\n",
       "      <td>14948</td>\n",
       "      <td>15549</td>\n",
       "      <td>1518</td>\n",
       "      <td>1500</td>\n",
       "      <td>1000</td>\n",
       "      <td>1000</td>\n",
       "      <td>1000</td>\n",
       "      <td>5000</td>\n",
       "      <td>0</td>\n",
       "    </tr>\n",
       "    <tr>\n",
       "      <th>3</th>\n",
       "      <td>0737c11b-be42</td>\n",
       "      <td>50000</td>\n",
       "      <td>2</td>\n",
       "      <td>2</td>\n",
       "      <td>1</td>\n",
       "      <td>37</td>\n",
       "      <td>0</td>\n",
       "      <td>0</td>\n",
       "      <td>0</td>\n",
       "      <td>0</td>\n",
       "      <td>...</td>\n",
       "      <td>28314</td>\n",
       "      <td>28959</td>\n",
       "      <td>29547</td>\n",
       "      <td>2000</td>\n",
       "      <td>2019</td>\n",
       "      <td>1200</td>\n",
       "      <td>1100</td>\n",
       "      <td>1069</td>\n",
       "      <td>1000</td>\n",
       "      <td>0</td>\n",
       "    </tr>\n",
       "    <tr>\n",
       "      <th>4</th>\n",
       "      <td>3b7f77cc-dbc0</td>\n",
       "      <td>50000</td>\n",
       "      <td>1</td>\n",
       "      <td>2</td>\n",
       "      <td>1</td>\n",
       "      <td>57</td>\n",
       "      <td>-1</td>\n",
       "      <td>0</td>\n",
       "      <td>-1</td>\n",
       "      <td>0</td>\n",
       "      <td>...</td>\n",
       "      <td>20940</td>\n",
       "      <td>19146</td>\n",
       "      <td>19131</td>\n",
       "      <td>2000</td>\n",
       "      <td>36681</td>\n",
       "      <td>10000</td>\n",
       "      <td>9000</td>\n",
       "      <td>689</td>\n",
       "      <td>679</td>\n",
       "      <td>0</td>\n",
       "    </tr>\n",
       "  </tbody>\n",
       "</table>\n",
       "<p>5 rows × 25 columns</p>\n",
       "</div>"
      ],
      "text/plain": [
       "              ID  LIMIT_BAL  SEX  EDUCATION  MARRIAGE  AGE PAY_1  PAY_2  \\\n",
       "0  798fc410-45c1      20000    2          2         1   24     2      2   \n",
       "1  8a8c8f3b-8eb4     120000    2          2         2   26    -1      2   \n",
       "2  85698822-43f5      90000    2          2         2   34     0      0   \n",
       "3  0737c11b-be42      50000    2          2         1   37     0      0   \n",
       "4  3b7f77cc-dbc0      50000    1          2         1   57    -1      0   \n",
       "\n",
       "   PAY_3  PAY_4  ...  BILL_AMT4  BILL_AMT5  BILL_AMT6  PAY_AMT1  PAY_AMT2  \\\n",
       "0     -1     -1  ...          0          0          0         0       689   \n",
       "1      0      0  ...       3272       3455       3261         0      1000   \n",
       "2      0      0  ...      14331      14948      15549      1518      1500   \n",
       "3      0      0  ...      28314      28959      29547      2000      2019   \n",
       "4     -1      0  ...      20940      19146      19131      2000     36681   \n",
       "\n",
       "   PAY_AMT3  PAY_AMT4  PAY_AMT5  PAY_AMT6  default payment next month  \n",
       "0         0         0         0         0                           1  \n",
       "1      1000      1000         0      2000                           1  \n",
       "2      1000      1000      1000      5000                           0  \n",
       "3      1200      1100      1069      1000                           0  \n",
       "4     10000      9000       689       679                           0  \n",
       "\n",
       "[5 rows x 25 columns]"
      ]
     },
     "execution_count": 5,
     "metadata": {},
     "output_type": "execute_result"
    }
   ],
   "source": [
    "# Use o método .head() para ver as primeiras linhas do DataFrame\n",
    "\n",
    "df.head()"
   ]
  },
  {
   "cell_type": "markdown",
   "metadata": {},
   "source": [
    "A coluna ID parece conter identificadores exclusivos. Para verificar se isso ocorre realmente em todo o dataset, podemos contar o número de valores exclusivos usando o método **.nunique()** da **série** (ou seja, coluna) ID. Primeiro, selecionaremos a coluna usando colchetes."
   ]
  },
  {
   "cell_type": "code",
   "execution_count": 6,
   "metadata": {},
   "outputs": [
    {
     "data": {
      "text/plain": [
       "29687"
      ]
     },
     "execution_count": 6,
     "metadata": {},
     "output_type": "execute_result"
    }
   ],
   "source": [
    "# descobrindo um problema de qualidade de dados\n",
    "# A função pandas .nunique() retorna o número de elementos únicos no objeto.\n",
    "\n",
    "df['ID'].nunique()"
   ]
  },
  {
   "cell_type": "markdown",
   "metadata": {},
   "source": [
    "Agora, vamos executar o comando **.shape** para descobrir o número de linhas do dataset"
   ]
  },
  {
   "cell_type": "code",
   "execution_count": 7,
   "metadata": {},
   "outputs": [
    {
     "data": {
      "text/plain": [
       "(30000, 25)"
      ]
     },
     "execution_count": 7,
     "metadata": {},
     "output_type": "execute_result"
    }
   ],
   "source": [
    "# descobrindo o números de linhas do dataset\n",
    "\n",
    "df.shape"
   ]
  },
  {
   "cell_type": "markdown",
   "metadata": {},
   "source": [
    "Identificamos que o número de IDs exclusivos é menor do que o número de linhas. Isso significa que o **ID não é um identificador exclusivo** para as linhas de dados.\n",
    "\n",
    "Sabemos então que há alguma duplicação de IDs. No entanto, em que quantidades? Um único ID está sendo duplicado várias vezes? Quantos IDs estão sendo duplicados?\n",
    "\n",
    "Podemos usar o método **.value_counts()** na série ID para começar a responder a essas perguntas. Ele é semelhante a um procedimento **group by/count** em SQL e listará os IDs exclusivos e a frequência com que ocorrem. Executaremos essa operação na próxima etapa e armazenaremos as contagens de valores em uma variável **id_counts**."
   ]
  },
  {
   "cell_type": "code",
   "execution_count": 8,
   "metadata": {},
   "outputs": [],
   "source": [
    "# armazene as contagens de valores em uma variável definida como id_counts e exiba os valores armazenados usando o método .head()\n",
    "\n",
    "id_counts = df['ID'].value_counts()"
   ]
  },
  {
   "cell_type": "code",
   "execution_count": 9,
   "metadata": {},
   "outputs": [
    {
     "data": {
      "text/plain": [
       "91c69d1a-8732    2\n",
       "e8ee55be-0a11    2\n",
       "d13465a5-a9e0    2\n",
       "cfa9d026-de0d    2\n",
       "0170086d-7472    2\n",
       "Name: ID, dtype: int64"
      ]
     },
     "execution_count": 9,
     "metadata": {},
     "output_type": "execute_result"
    }
   ],
   "source": [
    "id_counts.head()"
   ]
  },
  {
   "cell_type": "markdown",
   "metadata": {},
   "source": [
    "Observe que o **.head()** retorna, por padrão, as cinco primeiras linhas. Podemos especificar o número de itens a serem exibidos passando o número desejado nos parênteses, ()."
   ]
  },
  {
   "cell_type": "code",
   "execution_count": 10,
   "metadata": {},
   "outputs": [
    {
     "data": {
      "text/plain": [
       "91c69d1a-8732    2\n",
       "e8ee55be-0a11    2\n",
       "d13465a5-a9e0    2\n",
       "cfa9d026-de0d    2\n",
       "0170086d-7472    2\n",
       "0a8272b2-78aa    2\n",
       "bbffebbc-e3c4    2\n",
       "d50ebd87-8b6d    2\n",
       "994330b6-eeec    2\n",
       "16d73782-d5e6    2\n",
       "7c9b7473-cc2f    2\n",
       "4f249cbc-5e9c    2\n",
       "80282ca6-96a6    2\n",
       "a51dbaae-d88b    2\n",
       "f9bcd13e-96bc    2\n",
       "Name: ID, dtype: int64"
      ]
     },
     "execution_count": 10,
     "metadata": {},
     "output_type": "execute_result"
    }
   ],
   "source": [
    "id_counts.head(15)"
   ]
  },
  {
   "cell_type": "code",
   "execution_count": 11,
   "metadata": {},
   "outputs": [
    {
     "data": {
      "text/plain": [
       "1    29374\n",
       "2      313\n",
       "Name: ID, dtype: int64"
      ]
     },
     "execution_count": 11,
     "metadata": {},
     "output_type": "execute_result"
    }
   ],
   "source": [
    "# exiba o número de entradas duplicadas agrupadas executando outra contagem de valores\n",
    "\n",
    "id_counts.value_counts()"
   ]
  },
  {
   "cell_type": "markdown",
   "metadata": {},
   "source": [
    "Na saída acima podemos ver que a maioria dos IDs ocorre exatamente uma única vez, como esperado. No entanto, 313 IDs ocorrem duas vezes. Logo, nenhum ID ocorre mais do que duas vezes.\n",
    "\n",
    "De posse dessas informações, estamos prontos para começar a examinar mais detalhadamente esse problema de qualidade de dados e corrigi-lo. Criaremos máscaras booleanas para limpar melhor os dados."
   ]
  },
  {
   "cell_type": "markdown",
   "metadata": {},
   "source": [
    "# Máscaras booleanas\n",
    "\n",
    "Para ajudar a limpar os dados do estudo de caso, usaremos o conceito de **máscara lógica**, também conhecido como **máscara booleana**.\n",
    "\n",
    "Uma máscara lógica é uma maneira de filtrar um array, ou série (ou seja, coluna), obedecendo alguma condição. Por exemplo, podemos usar o operador \"==; <; >; <=; >=\" para encontrar todos os locais de um array que contêm um valor específico.\n",
    "\n",
    "A saída dessa comparação é um array com uma série de valores  True/False, também conhecidos como valores **booleanos**. Cada elemento da saída corresponderá a um elemento da entrada, com o resultado **True** se a condição for atendida, e **False**, caso não seja.\n"
   ]
  },
  {
   "cell_type": "markdown",
   "metadata": {},
   "source": [
    "Para ilustrar como isso funciona, usaremos **dados sintéticos** (dados criados para a exploração ou ilustração de um conceito). primeiro importaremos o pacote NumPy, para gerar números aleatórios."
   ]
  },
  {
   "cell_type": "code",
   "execution_count": 12,
   "metadata": {},
   "outputs": [],
   "source": [
    "# importando a biblioteca NumPy\n",
    "\n",
    "import numpy as np"
   ]
  },
  {
   "cell_type": "code",
   "execution_count": 13,
   "metadata": {},
   "outputs": [],
   "source": [
    "# usamos seed (semente) no gerador de números aleatórios\n",
    "\n",
    "np.random.seed(seed=24)"
   ]
  },
  {
   "cell_type": "markdown",
   "metadata": {},
   "source": [
    "Se definirmos um **seed**, teremos os mesmos resultados enre as execuções do gerador. Caso contrário, isso não é garantido. \n",
    "\n",
    "Essa pode ser uma opção útil se você usa números aleatórios em seu trabalho e quer ter resultados consistentes sempre que executar um notebook"
   ]
  },
  {
   "cell_type": "code",
   "execution_count": 14,
   "metadata": {},
   "outputs": [],
   "source": [
    "# geração de 100 inteiros aleatórios, selecinodos entre 1 e 5 (inclusive)\n",
    "\n",
    "random_integers = np.random.randint(low=1, high=5, size=100)"
   ]
  },
  {
   "cell_type": "code",
   "execution_count": 15,
   "metadata": {},
   "outputs": [
    {
     "data": {
      "text/plain": [
       "array([3, 4, 1, 4, 2, 2, 2, 1, 4, 4, 1, 4, 4, 3, 4, 4, 4, 4, 4, 4, 2, 3,\n",
       "       4, 4, 2, 4, 2, 4, 1, 1, 3, 1, 4, 2, 2, 1, 4, 3, 2, 2, 3, 3, 2, 3,\n",
       "       4, 2, 3, 4, 1, 3, 4, 2, 2, 4, 1, 2, 3, 3, 2, 1, 2, 4, 2, 1, 4, 3,\n",
       "       1, 2, 1, 3, 4, 2, 3, 4, 1, 3, 2, 1, 1, 3, 3, 4, 3, 2, 4, 1, 4, 4,\n",
       "       4, 4, 1, 4, 3, 2, 4, 4, 3, 3, 2, 4])"
      ]
     },
     "execution_count": 15,
     "metadata": {},
     "output_type": "execute_result"
    }
   ],
   "source": [
    "random_integers"
   ]
  },
  {
   "cell_type": "code",
   "execution_count": 16,
   "metadata": {},
   "outputs": [
    {
     "data": {
      "text/plain": [
       "array([3, 4, 1, 4, 2])"
      ]
     },
     "execution_count": 16,
     "metadata": {},
     "output_type": "execute_result"
    }
   ],
   "source": [
    "# obtendo os cinco primeiros números\n",
    "\n",
    "random_integers[:5]"
   ]
  },
  {
   "cell_type": "markdown",
   "metadata": {},
   "source": [
    "Suponhamos que quiséssemos conhecer os locais de todos os elementos de **random_integer igual a 3**. Poderíamos criar uma máscara booleana para fazer isso."
   ]
  },
  {
   "cell_type": "code",
   "execution_count": 17,
   "metadata": {},
   "outputs": [],
   "source": [
    "# criando máscara booleana para condições iguais a 3\n",
    "\n",
    "is_equal_to_3 = random_integers == 3"
   ]
  },
  {
   "cell_type": "code",
   "execution_count": 18,
   "metadata": {},
   "outputs": [
    {
     "data": {
      "text/plain": [
       "array([ True, False, False, False, False])"
      ]
     },
     "execution_count": 18,
     "metadata": {},
     "output_type": "execute_result"
    }
   ],
   "source": [
    "# obtendo os cinco primeiros resutados\n",
    "\n",
    "is_equal_to_3[:5]"
   ]
  },
  {
   "cell_type": "code",
   "execution_count": 19,
   "metadata": {},
   "outputs": [
    {
     "data": {
      "text/plain": [
       "22"
      ]
     },
     "execution_count": 19,
     "metadata": {},
     "output_type": "execute_result"
    }
   ],
   "source": [
    "# somando o resultados da máscara booleana\n",
    "\n",
    "sum(is_equal_to_3)"
   ]
  },
  {
   "cell_type": "markdown",
   "metadata": {},
   "source": [
    "O resultado igual a 22 faz sentido, com uma criação aleátoria igualmente provável de 5 valores possíveis, o esperado é que cada valor apareça 20 % das vezes"
   ]
  },
  {
   "cell_type": "code",
   "execution_count": 20,
   "metadata": {},
   "outputs": [
    {
     "data": {
      "text/plain": [
       "array([3, 3, 3, 3, 3, 3, 3, 3, 3, 3, 3, 3, 3, 3, 3, 3, 3, 3, 3, 3, 3, 3])"
      ]
     },
     "execution_count": 20,
     "metadata": {},
     "output_type": "execute_result"
    }
   ],
   "source": [
    "# selecionando os elementos do array original que atendem a essa condição\n",
    "\n",
    "random_integers[is_equal_to_3]"
   ]
  },
  {
   "cell_type": "markdown",
   "metadata": {},
   "source": [
    "Esses são os aspectos básicos dos arrays booleanos, que são úteis em muitas situações. Especificamente, você pode usar o método **.loc** de DataFrames para indexar suas linhas por uma máscara booleana e as colunas por rótulo. "
   ]
  },
  {
   "cell_type": "markdown",
   "metadata": {},
   "source": [
    "## Exercício 4 - Continuando a verificação da integridade dos dados\n",
    "\n",
    "Com o conhecimento dos arrays booleanos, examinaremos alguns dos IDs duplicados que descobrimos.\n",
    "\n",
    "Já verificamos que nenhum ID aparece mais de duas vezes. Podemos usar essa informação para localizar os IDs duplicados e examiná-los. Em seguida, tomaremos medidas para remover linhas de qualidade duvidosa do dataset."
   ]
  },
  {
   "cell_type": "code",
   "execution_count": 21,
   "metadata": {},
   "outputs": [],
   "source": [
    "# criando máscara booleana para condições iguais a 3\n",
    "\n",
    "dupe_mask = id_counts == 2"
   ]
  },
  {
   "cell_type": "code",
   "execution_count": 22,
   "metadata": {},
   "outputs": [
    {
     "data": {
      "text/plain": [
       "91c69d1a-8732    True\n",
       "e8ee55be-0a11    True\n",
       "d13465a5-a9e0    True\n",
       "cfa9d026-de0d    True\n",
       "0170086d-7472    True\n",
       "Name: ID, dtype: bool"
      ]
     },
     "execution_count": 22,
     "metadata": {},
     "output_type": "execute_result"
    }
   ],
   "source": [
    "# obtendo os cinco primeiros resutados\n",
    "\n",
    "dupe_mask[:5]"
   ]
  },
  {
   "cell_type": "markdown",
   "metadata": {},
   "source": [
    "Aqui, **dupe_mask** é a máscara lógica que criamos para armazenar os valores booleanos."
   ]
  },
  {
   "cell_type": "code",
   "execution_count": 23,
   "metadata": {},
   "outputs": [
    {
     "data": {
      "text/plain": [
       "Index(['91c69d1a-8732', 'e8ee55be-0a11', 'd13465a5-a9e0', 'cfa9d026-de0d',\n",
       "       '0170086d-7472'],\n",
       "      dtype='object')"
      ]
     },
     "execution_count": 23,
     "metadata": {},
     "output_type": "execute_result"
    }
   ],
   "source": [
    "# acessando o índice de id_count e exibindo as cinco primeiras linhas como contexto usando o comando a seguir\n",
    "\n",
    "id_counts.index[:5]"
   ]
  },
  {
   "cell_type": "code",
   "execution_count": 24,
   "metadata": {},
   "outputs": [],
   "source": [
    "# selecionando e armazenando os IDs duplicados em uma nova variável chamada dupe_ids \n",
    "\n",
    "dupe_ids = id_counts.index[dupe_mask]"
   ]
  },
  {
   "cell_type": "code",
   "execution_count": 25,
   "metadata": {},
   "outputs": [
    {
     "data": {
      "text/plain": [
       "Index(['91c69d1a-8732', 'e8ee55be-0a11', 'd13465a5-a9e0', 'cfa9d026-de0d',\n",
       "       '0170086d-7472', '0a8272b2-78aa', 'bbffebbc-e3c4', 'd50ebd87-8b6d',\n",
       "       '994330b6-eeec', '16d73782-d5e6', '7c9b7473-cc2f', '4f249cbc-5e9c',\n",
       "       '80282ca6-96a6', 'a51dbaae-d88b', 'f9bcd13e-96bc'],\n",
       "      dtype='object')"
      ]
     },
     "execution_count": 25,
     "metadata": {},
     "output_type": "execute_result"
    }
   ],
   "source": [
    "#exibindo os 15 primeiros ids armazenados\n",
    "\n",
    "dupe_ids[:15]"
   ]
  },
  {
   "cell_type": "code",
   "execution_count": 26,
   "metadata": {},
   "outputs": [
    {
     "data": {
      "text/plain": [
       "313"
      ]
     },
     "execution_count": 26,
     "metadata": {},
     "output_type": "execute_result"
    }
   ],
   "source": [
    "# convertendo dupe_ids em uma lista e obtendo seu tamanho\n",
    "\n",
    "dupe_ids = list(dupe_ids)\n",
    "len(dupe_ids)"
   ]
  },
  {
   "cell_type": "markdown",
   "metadata": {},
   "source": [
    "Alteramos a variável **dupe_ids** para uma **lista**, já que precisamos dela nessa forma em etapas futuras. A lista tem um tamanho igual a 313, como pode ser visto na saída acima, que coincide com o número de IDs duplicados que obtivemos na contagem de valores algumas linhas acima."
   ]
  },
  {
   "cell_type": "code",
   "execution_count": 27,
   "metadata": {},
   "outputs": [
    {
     "data": {
      "text/plain": [
       "['91c69d1a-8732',\n",
       " 'e8ee55be-0a11',\n",
       " 'd13465a5-a9e0',\n",
       " 'cfa9d026-de0d',\n",
       " '0170086d-7472']"
      ]
     },
     "execution_count": 27,
     "metadata": {},
     "output_type": "execute_result"
    }
   ],
   "source": [
    "# verificando os dados de dupe_ids exibindo as cinco primeiras entradas\n",
    "\n",
    "dupe_ids[:5]"
   ]
  },
  {
   "cell_type": "markdown",
   "metadata": {},
   "source": [
    "Agora estamos prontos para examinar os dados dos IDs de nossa lista de duplicatas. Especificamente, queremos examinar os valores das características para ver se há algode diferente entre essas entradas.\n",
    "\n",
    "Para isso, usaremos os métodos **.isin** e **.loc**."
   ]
  },
  {
   "cell_type": "markdown",
   "metadata": {},
   "source": [
    "Usando os três primeiros IDs de nossa lista de duplicatas, **dupe_ids[:3]**, primeiro queremos encontrar as linhas que contêm esses IDs. Se passarmos essa lista de IDs para o método **.isin** da série ID, ele criará outra máscara lógica que poderemos usar no DataFrame maior para exibir as linhas que contêm os IDs.\n",
    "\n",
    "O método **.isin** ficará aninhado em uma instrução **.loc** de indexação do DataFrame para a seleção do local de todas as linhas que contêm 'True' na máscara booleana.\n",
    "\n",
    "O segundo argumento da instrução de indexação **.loc** é :, que implica que todas as colunas serão selecionadas. Ao executar as próximas etapas, estaremos basicamente filtrando o DataFrame para visualizar todas as colunas dos três primeiros IDs duplicados."
   ]
  },
  {
   "cell_type": "code",
   "execution_count": 28,
   "metadata": {},
   "outputs": [
    {
     "data": {
      "text/html": [
       "<div>\n",
       "<style scoped>\n",
       "    .dataframe tbody tr th:only-of-type {\n",
       "        vertical-align: middle;\n",
       "    }\n",
       "\n",
       "    .dataframe tbody tr th {\n",
       "        vertical-align: top;\n",
       "    }\n",
       "\n",
       "    .dataframe thead th {\n",
       "        text-align: right;\n",
       "    }\n",
       "</style>\n",
       "<table border=\"1\" class=\"dataframe\">\n",
       "  <thead>\n",
       "    <tr style=\"text-align: right;\">\n",
       "      <th></th>\n",
       "      <th>ID</th>\n",
       "      <th>LIMIT_BAL</th>\n",
       "      <th>SEX</th>\n",
       "      <th>EDUCATION</th>\n",
       "      <th>MARRIAGE</th>\n",
       "      <th>AGE</th>\n",
       "      <th>PAY_1</th>\n",
       "      <th>PAY_2</th>\n",
       "      <th>PAY_3</th>\n",
       "      <th>PAY_4</th>\n",
       "      <th>...</th>\n",
       "      <th>BILL_AMT4</th>\n",
       "      <th>BILL_AMT5</th>\n",
       "      <th>BILL_AMT6</th>\n",
       "      <th>PAY_AMT1</th>\n",
       "      <th>PAY_AMT2</th>\n",
       "      <th>PAY_AMT3</th>\n",
       "      <th>PAY_AMT4</th>\n",
       "      <th>PAY_AMT5</th>\n",
       "      <th>PAY_AMT6</th>\n",
       "      <th>default payment next month</th>\n",
       "    </tr>\n",
       "  </thead>\n",
       "  <tbody>\n",
       "    <tr>\n",
       "      <th>11718</th>\n",
       "      <td>e8ee55be-0a11</td>\n",
       "      <td>20000</td>\n",
       "      <td>1</td>\n",
       "      <td>1</td>\n",
       "      <td>2</td>\n",
       "      <td>24</td>\n",
       "      <td>1</td>\n",
       "      <td>-2</td>\n",
       "      <td>-2</td>\n",
       "      <td>-2</td>\n",
       "      <td>...</td>\n",
       "      <td>0</td>\n",
       "      <td>0</td>\n",
       "      <td>1273</td>\n",
       "      <td>0</td>\n",
       "      <td>0</td>\n",
       "      <td>0</td>\n",
       "      <td>0</td>\n",
       "      <td>1273</td>\n",
       "      <td>0</td>\n",
       "      <td>1</td>\n",
       "    </tr>\n",
       "    <tr>\n",
       "      <th>11818</th>\n",
       "      <td>e8ee55be-0a11</td>\n",
       "      <td>0</td>\n",
       "      <td>0</td>\n",
       "      <td>0</td>\n",
       "      <td>0</td>\n",
       "      <td>0</td>\n",
       "      <td>0</td>\n",
       "      <td>0</td>\n",
       "      <td>0</td>\n",
       "      <td>0</td>\n",
       "      <td>...</td>\n",
       "      <td>0</td>\n",
       "      <td>0</td>\n",
       "      <td>0</td>\n",
       "      <td>0</td>\n",
       "      <td>0</td>\n",
       "      <td>0</td>\n",
       "      <td>0</td>\n",
       "      <td>0</td>\n",
       "      <td>0</td>\n",
       "      <td>0</td>\n",
       "    </tr>\n",
       "    <tr>\n",
       "      <th>12769</th>\n",
       "      <td>91c69d1a-8732</td>\n",
       "      <td>70000</td>\n",
       "      <td>2</td>\n",
       "      <td>2</td>\n",
       "      <td>2</td>\n",
       "      <td>22</td>\n",
       "      <td>0</td>\n",
       "      <td>-1</td>\n",
       "      <td>0</td>\n",
       "      <td>0</td>\n",
       "      <td>...</td>\n",
       "      <td>50716</td>\n",
       "      <td>48862</td>\n",
       "      <td>49850</td>\n",
       "      <td>68209</td>\n",
       "      <td>2081</td>\n",
       "      <td>2000</td>\n",
       "      <td>2000</td>\n",
       "      <td>1828</td>\n",
       "      <td>1518</td>\n",
       "      <td>0</td>\n",
       "    </tr>\n",
       "    <tr>\n",
       "      <th>12869</th>\n",
       "      <td>91c69d1a-8732</td>\n",
       "      <td>0</td>\n",
       "      <td>0</td>\n",
       "      <td>0</td>\n",
       "      <td>0</td>\n",
       "      <td>0</td>\n",
       "      <td>0</td>\n",
       "      <td>0</td>\n",
       "      <td>0</td>\n",
       "      <td>0</td>\n",
       "      <td>...</td>\n",
       "      <td>0</td>\n",
       "      <td>0</td>\n",
       "      <td>0</td>\n",
       "      <td>0</td>\n",
       "      <td>0</td>\n",
       "      <td>0</td>\n",
       "      <td>0</td>\n",
       "      <td>0</td>\n",
       "      <td>0</td>\n",
       "      <td>0</td>\n",
       "    </tr>\n",
       "    <tr>\n",
       "      <th>17982</th>\n",
       "      <td>d13465a5-a9e0</td>\n",
       "      <td>100000</td>\n",
       "      <td>1</td>\n",
       "      <td>2</td>\n",
       "      <td>2</td>\n",
       "      <td>36</td>\n",
       "      <td>0</td>\n",
       "      <td>0</td>\n",
       "      <td>0</td>\n",
       "      <td>0</td>\n",
       "      <td>...</td>\n",
       "      <td>0</td>\n",
       "      <td>0</td>\n",
       "      <td>0</td>\n",
       "      <td>1500</td>\n",
       "      <td>2000</td>\n",
       "      <td>0</td>\n",
       "      <td>0</td>\n",
       "      <td>0</td>\n",
       "      <td>1700</td>\n",
       "      <td>0</td>\n",
       "    </tr>\n",
       "    <tr>\n",
       "      <th>18082</th>\n",
       "      <td>d13465a5-a9e0</td>\n",
       "      <td>0</td>\n",
       "      <td>0</td>\n",
       "      <td>0</td>\n",
       "      <td>0</td>\n",
       "      <td>0</td>\n",
       "      <td>0</td>\n",
       "      <td>0</td>\n",
       "      <td>0</td>\n",
       "      <td>0</td>\n",
       "      <td>...</td>\n",
       "      <td>0</td>\n",
       "      <td>0</td>\n",
       "      <td>0</td>\n",
       "      <td>0</td>\n",
       "      <td>0</td>\n",
       "      <td>0</td>\n",
       "      <td>0</td>\n",
       "      <td>0</td>\n",
       "      <td>0</td>\n",
       "      <td>0</td>\n",
       "    </tr>\n",
       "  </tbody>\n",
       "</table>\n",
       "<p>6 rows × 25 columns</p>\n",
       "</div>"
      ],
      "text/plain": [
       "                  ID  LIMIT_BAL  SEX  EDUCATION  MARRIAGE  AGE PAY_1  PAY_2  \\\n",
       "11718  e8ee55be-0a11      20000    1          1         2   24     1     -2   \n",
       "11818  e8ee55be-0a11          0    0          0         0    0     0      0   \n",
       "12769  91c69d1a-8732      70000    2          2         2   22     0     -1   \n",
       "12869  91c69d1a-8732          0    0          0         0    0     0      0   \n",
       "17982  d13465a5-a9e0     100000    1          2         2   36     0      0   \n",
       "18082  d13465a5-a9e0          0    0          0         0    0     0      0   \n",
       "\n",
       "       PAY_3  PAY_4  ...  BILL_AMT4  BILL_AMT5  BILL_AMT6  PAY_AMT1  PAY_AMT2  \\\n",
       "11718     -2     -2  ...          0          0       1273         0         0   \n",
       "11818      0      0  ...          0          0          0         0         0   \n",
       "12769      0      0  ...      50716      48862      49850     68209      2081   \n",
       "12869      0      0  ...          0          0          0         0         0   \n",
       "17982      0      0  ...          0          0          0      1500      2000   \n",
       "18082      0      0  ...          0          0          0         0         0   \n",
       "\n",
       "       PAY_AMT3  PAY_AMT4  PAY_AMT5  PAY_AMT6  default payment next month  \n",
       "11718         0         0      1273         0                           1  \n",
       "11818         0         0         0         0                           0  \n",
       "12769      2000      2000      1828      1518                           0  \n",
       "12869         0         0         0         0                           0  \n",
       "17982         0         0         0      1700                           0  \n",
       "18082         0         0         0         0                           0  \n",
       "\n",
       "[6 rows x 25 columns]"
      ]
     },
     "execution_count": 28,
     "metadata": {},
     "output_type": "execute_result"
    }
   ],
   "source": [
    "# executando o comando formulado anteriormente\n",
    "\n",
    "df.loc[df['ID'].isin(dupe_ids[:3]),:].head(10)"
   ]
  },
  {
   "cell_type": "markdown",
   "metadata": {},
   "source": [
    "O que podemos ver aqui é que cada ID duplicado para ter uma linha de dados válidos e outra somente com zeros. Fica claro que devemos excluir as linhas somentes com zeros, já que não faz sentido alguém ter 0 anos, limite de crédito igual a 0 e assim por diante.\n",
    "\n",
    "Uma abordagem para lidarmos com esse problema seria encontrar as linhas que só tem zeros, exceto na primeira coluna, que tem os IDs. Esses dados seriam inválidos e, se excluíssemos, também resolveríamos nosso problema de IDs duplicados.\n"
   ]
  },
  {
   "cell_type": "code",
   "execution_count": 29,
   "metadata": {},
   "outputs": [],
   "source": [
    "# criando uma máscara booleana feature_zero_mask\n",
    "\n",
    "df_zero_mask = df == 0"
   ]
  },
  {
   "cell_type": "markdown",
   "metadata": {},
   "source": [
    "Usaremos **df_zero_mask**, que é outro DataFrame, contendo valores booleanos. O objetivo é criarmos uma série booleana, **feature_zero_mask**, que identifique cada linha em que todos os elementos a partir da segunda coluna (as características e a resposta, mas não o IDs) sejam 0.\n",
    "\n",
    "Para isso, primeiro temos que indexar **df_zero_mask** usando o método de indexação de inteiros (.loc). Nesse método, passaremos (:) para examinar todas as linhas e (1:) para examinar todas as colunas a partir da segunda (ídice 1). Para concluir, aplicaremos o método **all()** ao longo do eixo da coluna (axis=1) e ele retornará **True** somente se todas as colunas dessa linha forem iguais a **True**. "
   ]
  },
  {
   "cell_type": "code",
   "execution_count": 30,
   "metadata": {},
   "outputs": [],
   "source": [
    "# criando a série booleana feature_zero_mask\n",
    "\n",
    "feature_zero_mask = df_zero_mask.iloc[:,1:].all(axis=1)"
   ]
  },
  {
   "cell_type": "code",
   "execution_count": 31,
   "metadata": {},
   "outputs": [
    {
     "data": {
      "text/plain": [
       "315"
      ]
     },
     "execution_count": 31,
     "metadata": {},
     "output_type": "execute_result"
    }
   ],
   "source": [
    "# calculando a soma da série booleana\n",
    "\n",
    "sum(feature_zero_mask)"
   ]
  },
  {
   "cell_type": "markdown",
   "metadata": {},
   "source": [
    "Esse número é maior do que o número de IDs duplicados, logo, se excluirmos todas as \"linhas de zeros\", podemos nos livrar do problema dos IDs duplicados"
   ]
  },
  {
   "cell_type": "code",
   "execution_count": 32,
   "metadata": {},
   "outputs": [],
   "source": [
    "# impando o DataFrame eliminando as linhas só com zeros, exceto pelo ID\n",
    "\n",
    "df_clean_1 = df.loc[~feature_zero_mask,:].copy() # operador lógico not (~) para selecionar linhas sem 0 e (:) para selecionar todas as colunas"
   ]
  },
  {
   "cell_type": "markdown",
   "metadata": {},
   "source": [
    "Agora, temos um novo DataFrame chamado **df_clean_1**.\n",
    "\n",
    "Observe que usamos o método **.copy()** após a operação de indexação **.loc** para criar uma cópia dessa saída, em vez de visualizarmos o DataFrame original. Podemos considerar essa ação como a criação de um novo DataFrame em vez de referenciarmos o original."
   ]
  },
  {
   "cell_type": "code",
   "execution_count": 33,
   "metadata": {},
   "outputs": [
    {
     "data": {
      "text/plain": [
       "(29685, 25)"
      ]
     },
     "execution_count": 33,
     "metadata": {},
     "output_type": "execute_result"
    }
   ],
   "source": [
    "# verificando o número de linhas e colunas do novo DataFrame\n",
    "\n",
    "df_clean_1.shape"
   ]
  },
  {
   "cell_type": "code",
   "execution_count": 34,
   "metadata": {},
   "outputs": [
    {
     "data": {
      "text/plain": [
       "29685"
      ]
     },
     "execution_count": 34,
     "metadata": {},
     "output_type": "execute_result"
    }
   ],
   "source": [
    "# Obtendo o número de IDs exclusivos executando este código\n",
    "\n",
    "df_clean_1['ID'].nunique()  # A função pandas .nunique() retorna o número de elementos únicos no objeto."
   ]
  },
  {
   "cell_type": "markdown",
   "metadata": {},
   "source": [
    "## Exercício 5 - Explorando e limpando os dados\n",
    "\n",
    "Até agora, identificamos um problema de qualidade de dados relacionados aos metadados: fomos informados de que cada amostra de nosso dataset corresponderia a um ID de conta exclusivo, o que não ocorreu.\n",
    "\n",
    "Conseguimos usar a indexação lógica e o pandas para resolver o problema. Estamos pronto para começar a examinar os valores das características e da resposta, os dados que usaremos para desenvolver nosso modelo preditivo. "
   ]
  },
  {
   "cell_type": "code",
   "execution_count": 35,
   "metadata": {},
   "outputs": [
    {
     "name": "stdout",
     "output_type": "stream",
     "text": [
      "<class 'pandas.core.frame.DataFrame'>\n",
      "Int64Index: 29685 entries, 0 to 29999\n",
      "Data columns (total 25 columns):\n",
      " #   Column                      Non-Null Count  Dtype \n",
      "---  ------                      --------------  ----- \n",
      " 0   ID                          29685 non-null  object\n",
      " 1   LIMIT_BAL                   29685 non-null  int64 \n",
      " 2   SEX                         29685 non-null  int64 \n",
      " 3   EDUCATION                   29685 non-null  int64 \n",
      " 4   MARRIAGE                    29685 non-null  int64 \n",
      " 5   AGE                         29685 non-null  int64 \n",
      " 6   PAY_1                       29685 non-null  object\n",
      " 7   PAY_2                       29685 non-null  int64 \n",
      " 8   PAY_3                       29685 non-null  int64 \n",
      " 9   PAY_4                       29685 non-null  int64 \n",
      " 10  PAY_5                       29685 non-null  int64 \n",
      " 11  PAY_6                       29685 non-null  int64 \n",
      " 12  BILL_AMT1                   29685 non-null  int64 \n",
      " 13  BILL_AMT2                   29685 non-null  int64 \n",
      " 14  BILL_AMT3                   29685 non-null  int64 \n",
      " 15  BILL_AMT4                   29685 non-null  int64 \n",
      " 16  BILL_AMT5                   29685 non-null  int64 \n",
      " 17  BILL_AMT6                   29685 non-null  int64 \n",
      " 18  PAY_AMT1                    29685 non-null  int64 \n",
      " 19  PAY_AMT2                    29685 non-null  int64 \n",
      " 20  PAY_AMT3                    29685 non-null  int64 \n",
      " 21  PAY_AMT4                    29685 non-null  int64 \n",
      " 22  PAY_AMT5                    29685 non-null  int64 \n",
      " 23  PAY_AMT6                    29685 non-null  int64 \n",
      " 24  default payment next month  29685 non-null  int64 \n",
      "dtypes: int64(23), object(2)\n",
      "memory usage: 5.9+ MB\n"
     ]
    }
   ],
   "source": [
    "# obtendo o tipo de dado das colunas do dataset usando o método .info()\n",
    "\n",
    "df_clean_1.info()"
   ]
  },
  {
   "cell_type": "markdown",
   "metadata": {},
   "source": [
    "Podemos ver que há 25 colunas. Cada linha tem 29.685 valores **não nulos**. Isso indicaria que não há dados ausentes, já que cada célula contém algum valor.\n",
    "\n",
    "No entanto, se houver um valor de preenchimento para representar dados ausentes, ele não ficaria evidente aqui.\n",
    "\n",
    "Também vemos que a maioria das colunas são tipo **int64** (dado integer), as exceções são **ID** e **PAY_1**. **ID** já sabemos que contém string. E **PAY_1**??"
   ]
  },
  {
   "cell_type": "code",
   "execution_count": 36,
   "metadata": {},
   "outputs": [
    {
     "data": {
      "text/plain": [
       "0      2\n",
       "1     -1\n",
       "2      0\n",
       "3      0\n",
       "4     -1\n",
       "5      0\n",
       "6      0\n",
       "7      0\n",
       "8      0\n",
       "9     -2\n",
       "10     0\n",
       "11    -1\n",
       "12    -1\n",
       "13     1\n",
       "14     0\n",
       "Name: PAY_1, dtype: object"
      ]
     },
     "execution_count": 36,
     "metadata": {},
     "output_type": "execute_result"
    }
   ],
   "source": [
    "# use método .head(n) do pandas para visualzar as n linhas superiores da série PAY_1\n",
    "\n",
    "df_clean_1['PAY_1'].head(15)"
   ]
  },
  {
   "cell_type": "markdown",
   "metadata": {},
   "source": [
    "Os inteiros a esquerda são os índices. Os dados da coluna **PAY_1** (à direita) são o status de pagamento da fatura mensal mais recente, usando os valores -1,1,2,3 e assim por diante.\n",
    "\n",
    "De acordo com o dicionário de dados, \"A escala de medida do status de reembolso é: -1 = pagamento pontual; 1 = atraso de um mês no pagamento; 2 = atraso de dois meses; ...; 9 = atraso de 9 meses ou mais no pagamento\". Então, o que é o 0 (zero)?"
   ]
  },
  {
   "cell_type": "code",
   "execution_count": 37,
   "metadata": {},
   "outputs": [
    {
     "data": {
      "text/plain": [
       "0                13087\n",
       "-1                5047\n",
       "1                 3261\n",
       "Not available     3021\n",
       "-2                2476\n",
       "2                 2378\n",
       "3                  292\n",
       "4                   63\n",
       "5                   23\n",
       "8                   17\n",
       "6                   11\n",
       "7                    9\n",
       "Name: PAY_1, dtype: int64"
      ]
     },
     "execution_count": 37,
     "metadata": {},
     "output_type": "execute_result"
    }
   ],
   "source": [
    "# Fazendo um exame mais detalhado na coluna PAY_1\n",
    "\n",
    "# Obtendo as contagens de valores da coluna PAY_1 usando o método .value_counts()\n",
    "\n",
    "df_clean_1['PAY_1'].value_counts()"
   ]
  },
  {
   "cell_type": "markdown",
   "metadata": {},
   "source": [
    "A saída acima revela a presença de dois valores não documentados, 0 e -2, e também a razão de essa coluna ter sido importada pelo pandas como um tipo de dado **object** em vez de **int64**. Há uma string **Not Available** presente na coluna, simbolizando dados ausentes. Posteriormente, retornaremos aselas quando considerarmos como lidar com dados ausentes. Por enquanto, removeremos as linhas do dataset nas quais a característica tem um valor ausente."
   ]
  },
  {
   "cell_type": "code",
   "execution_count": 38,
   "metadata": {},
   "outputs": [],
   "source": [
    "# usando máscara lógica (!=) para encontrar todas as linhas que não têm dados ausentes para PAY_1\n",
    "\n",
    "valid_pay_1_mask = df_clean_1['PAY_1'] != 'Not available'"
   ]
  },
  {
   "cell_type": "code",
   "execution_count": 39,
   "metadata": {},
   "outputs": [
    {
     "data": {
      "text/plain": [
       "0    True\n",
       "1    True\n",
       "2    True\n",
       "3    True\n",
       "4    True\n",
       "Name: PAY_1, dtype: bool"
      ]
     },
     "execution_count": 39,
     "metadata": {},
     "output_type": "execute_result"
    }
   ],
   "source": [
    "valid_pay_1_mask[:5]"
   ]
  },
  {
   "cell_type": "code",
   "execution_count": 40,
   "metadata": {},
   "outputs": [
    {
     "data": {
      "text/plain": [
       "26664"
      ]
     },
     "execution_count": 40,
     "metadata": {},
     "output_type": "execute_result"
    }
   ],
   "source": [
    "# verificando quantas linhas não têm dados ausentes usando a soma da máscara\n",
    "\n",
    "sum(valid_pay_1_mask)"
   ]
  },
  {
   "cell_type": "code",
   "execution_count": 41,
   "metadata": {},
   "outputs": [],
   "source": [
    "# limpando os dados eliminando as linhas de PAY_1 com valores ausentes\n",
    "\n",
    "df_clean_2 = df_clean_1.loc[valid_pay_1_mask,:].copy()"
   ]
  },
  {
   "cell_type": "code",
   "execution_count": 42,
   "metadata": {},
   "outputs": [
    {
     "data": {
      "text/plain": [
       "(26664, 25)"
      ]
     },
     "execution_count": 42,
     "metadata": {},
     "output_type": "execute_result"
    }
   ],
   "source": [
    "# obtendo a dimensão dos dados limpos\n",
    "\n",
    "df_clean_2.shape"
   ]
  },
  {
   "cell_type": "markdown",
   "metadata": {},
   "source": [
    "Por fim, para que o tipo de dado dessa coluna seja consistente com os outros, vamos convertê-lo do tipo genérico **object** para **int64** usando o método **.astype**.\n",
    "\n",
    "O método DataFrame.astype() é usado para lançar um objeto pandas para um dtype especificado. astype()A função também fornece a capacidade de converter qualquer coluna existente adequada em tipo categórico. Veja documentação [aqui](https://pandas.pydata.org/docs/reference/api/pandas.DataFrame.astype.html)"
   ]
  },
  {
   "cell_type": "code",
   "execution_count": 43,
   "metadata": {},
   "outputs": [],
   "source": [
    "# convertendo tipo de dado de PAY_1 de object para int64\n",
    "\n",
    "df_clean_2['PAY_1'] = df_clean_2['PAY_1'].astype('int64')"
   ]
  },
  {
   "cell_type": "code",
   "execution_count": 44,
   "metadata": {},
   "outputs": [
    {
     "name": "stdout",
     "output_type": "stream",
     "text": [
      "<class 'pandas.core.frame.DataFrame'>\n",
      "Int64Index: 26664 entries, 0 to 29999\n",
      "Data columns (total 2 columns):\n",
      " #   Column  Non-Null Count  Dtype\n",
      "---  ------  --------------  -----\n",
      " 0   PAY_1   26664 non-null  int64\n",
      " 1   PAY_2   26664 non-null  int64\n",
      "dtypes: int64(2)\n",
      "memory usage: 624.9 KB\n"
     ]
    }
   ],
   "source": [
    "# exibindo metadados das colunas PAY_1 e PAY_2\n",
    "\n",
    "df_clean_2[['PAY_1', 'PAY_2']].info()"
   ]
  },
  {
   "cell_type": "markdown",
   "metadata": {},
   "source": [
    "#### Pronto! Concluimos a segunda operação de limpeza de dados!\n",
    "\n",
    "No entanto, devemos lembrar de que durante o processo também notamos os valores não documentados -2 e 0 em **PAY_1**.\n",
    "\n",
    "Suponhamos que entrássemos em contato novamente com a empresa e nos fosse dada a seguinte informação:\n",
    "\n",
    "- -2 significa que a conta começou o mês sem valor a ser pago e o crédito não foi usado;\n",
    "- -1 significa que a conta usou um valor que foi totalmente pago;\n",
    "- 0 significa que o pagamento mínimo foi feito, mas o saldo total devedor não foi pago (isto é, uma parcela do saldo devedor foi transportada para o próximo mês).\n",
    "\n",
    "Essas novas informações esclarecem nossas dúvidas."
   ]
  },
  {
   "cell_type": "markdown",
   "metadata": {},
   "source": [
    "## Explorando e garantia da qualidade dos dados\n",
    "\n",
    "Até agora resolvemos 2 problemas de qualidade dos dados apenas fazendo perguntas básicas ou examinando o resumo de **.info()**.\n",
    "\n",
    "Examinaremos agora as primeiras colunas.\n",
    "\n",
    "Antes de chegarmos no histórico de pagamento de fatura, temos os limites de créditos das contas em **LIMIT_BAL** e as características demográficas **SEX**, **EDUCATION**, **MARRIAGE** e **AGE**.\n",
    "\n",
    "O SÓCIO DA EMPRESA NOS PROCUROU PARA INFORMAR QUE O GÊNERO NÃO DEVE SER USADO PARA PREVISÃO DE SOLVIBILIDADE, JÁ QUE POR SEUS PADRÕES SERIA **ANTIÉTICO**.\n",
    "\n",
    "Para explorar melhor os dados, usaremos **histogramas**. Para isso, usaremos a biblioteca **Matplotlib**."
   ]
  },
  {
   "cell_type": "markdown",
   "metadata": {},
   "source": [
    "## Exercício 6 - Explorando o limite de crédito e as caracterísitcas demográficas\n",
    "\n",
    "Vamos obter sínteses estatísticas para verificar se os dados contidos nessas características são aceitáveis.\n",
    "\n",
    "**LIMIT_BAL** e **AGE** são características numéricas, o que siginifica ue são medidas em uma escala contínua.  Consequentemente, usaremos histogramas para visualizá-las."
   ]
  },
  {
   "cell_type": "code",
   "execution_count": 45,
   "metadata": {},
   "outputs": [],
   "source": [
    "# importando o matplotlib e definindo algumas opções de plotagem\n",
    "\n",
    "import matplotlib.pyplot as plt # importa o pacote de plotagem\n",
    "\n",
    "# renderiza a plotagem autmaticamente\n",
    "%matplotlib inline\n",
    "\n",
    "import matplotlib as mpl # recurso adicional de plotagem\n",
    "\n",
    "mpl.rcParams['figure.dpi'] = 400 # figuras em alta resolução"
   ]
  },
  {
   "cell_type": "code",
   "execution_count": 46,
   "metadata": {},
   "outputs": [
    {
     "data": {
      "text/plain": [
       "array([[<AxesSubplot:title={'center':'LIMIT_BAL'}>,\n",
       "        <AxesSubplot:title={'center':'AGE'}>]], dtype=object)"
      ]
     },
     "execution_count": 46,
     "metadata": {},
     "output_type": "execute_result"
    },
    {
     "data": {
      "image/png": "[encoded data removed]",
      "text/plain": [
       "<Figure size 2400x1600 with 2 Axes>"
      ]
     },
     "metadata": {
      "needs_background": "light"
     },
     "output_type": "display_data"
    }
   ],
   "source": [
    "# executando df_clean_2[['LIMIT_BAL', 'AGE']].hist() para ver os histogramas \n",
    "\n",
    "df_clean_2[['LIMIT_BAL', 'AGE']].hist()"
   ]
  },
  {
   "cell_type": "markdown",
   "metadata": {},
   "source": [
    "Podemos obter uma rápida visualização aproximada de todos os dados dessa forma. \n",
    "\n",
    "Para vermos sínteses estatísticas, como a média e a mediana, há outra função útil do pandas."
   ]
  },
  {
   "cell_type": "code",
   "execution_count": 47,
   "metadata": {},
   "outputs": [
    {
     "data": {
      "text/html": [
       "<div>\n",
       "<style scoped>\n",
       "    .dataframe tbody tr th:only-of-type {\n",
       "        vertical-align: middle;\n",
       "    }\n",
       "\n",
       "    .dataframe tbody tr th {\n",
       "        vertical-align: top;\n",
       "    }\n",
       "\n",
       "    .dataframe thead th {\n",
       "        text-align: right;\n",
       "    }\n",
       "</style>\n",
       "<table border=\"1\" class=\"dataframe\">\n",
       "  <thead>\n",
       "    <tr style=\"text-align: right;\">\n",
       "      <th></th>\n",
       "      <th>LIMIT_BAL</th>\n",
       "      <th>AGE</th>\n",
       "    </tr>\n",
       "  </thead>\n",
       "  <tbody>\n",
       "    <tr>\n",
       "      <th>count</th>\n",
       "      <td>26664.000000</td>\n",
       "      <td>26664.000000</td>\n",
       "    </tr>\n",
       "    <tr>\n",
       "      <th>mean</th>\n",
       "      <td>167919.054905</td>\n",
       "      <td>35.505213</td>\n",
       "    </tr>\n",
       "    <tr>\n",
       "      <th>std</th>\n",
       "      <td>129839.453081</td>\n",
       "      <td>9.227442</td>\n",
       "    </tr>\n",
       "    <tr>\n",
       "      <th>min</th>\n",
       "      <td>10000.000000</td>\n",
       "      <td>21.000000</td>\n",
       "    </tr>\n",
       "    <tr>\n",
       "      <th>25%</th>\n",
       "      <td>50000.000000</td>\n",
       "      <td>28.000000</td>\n",
       "    </tr>\n",
       "    <tr>\n",
       "      <th>50%</th>\n",
       "      <td>140000.000000</td>\n",
       "      <td>34.000000</td>\n",
       "    </tr>\n",
       "    <tr>\n",
       "      <th>75%</th>\n",
       "      <td>240000.000000</td>\n",
       "      <td>41.000000</td>\n",
       "    </tr>\n",
       "    <tr>\n",
       "      <th>max</th>\n",
       "      <td>800000.000000</td>\n",
       "      <td>79.000000</td>\n",
       "    </tr>\n",
       "  </tbody>\n",
       "</table>\n",
       "</div>"
      ],
      "text/plain": [
       "           LIMIT_BAL           AGE\n",
       "count   26664.000000  26664.000000\n",
       "mean   167919.054905     35.505213\n",
       "std    129839.453081      9.227442\n",
       "min     10000.000000     21.000000\n",
       "25%     50000.000000     28.000000\n",
       "50%    140000.000000     34.000000\n",
       "75%    240000.000000     41.000000\n",
       "max    800000.000000     79.000000"
      ]
     },
     "execution_count": 47,
     "metadata": {},
     "output_type": "execute_result"
    }
   ],
   "source": [
    "# gerando um relatório tabular de síntese estatística\n",
    "\n",
    "df_clean_2[['LIMIT_BAL', 'AGE']].describe()"
   ]
  },
  {
   "cell_type": "markdown",
   "metadata": {},
   "source": [
    "**LIMIT_BAL**, o limite de crédito, parece fazer sentido. Os limites de crédito têm um valor mínimo igual a 10.000.\n",
    "\n",
    "A característica **AGE** também parece bem distribuída, com ninguém com idade abaixo de 21 anos possuindo uma conta de crédito."
   ]
  },
  {
   "cell_type": "markdown",
   "metadata": {},
   "source": [
    "Para as características categóricas, é útil verificar as contagens de valores, já que há relativamente poucos valores exclusivos.\n"
   ]
  },
  {
   "cell_type": "markdown",
   "metadata": {},
   "source": [
    "# obtendo as contagens de valores da característica EDUCATION\n",
    "\n",
    "df_clean_2['EDUCATION'].value_counts()"
   ]
  },
  {
   "cell_type": "markdown",
   "metadata": {},
   "source": [
    "Aqui vemos os graus de instrução não documentados 0, 5 e 6.\n",
    "\n",
    "O sócio da empresa disse que não conhece os outros graus. Já que eles não são predominantes, vamos agrupá-los na categoria 'outros' (4=outros), que parece apropriada, claro que com o consentimento de nosso cliente."
   ]
  },
  {
   "cell_type": "code",
   "execution_count": 48,
   "metadata": {},
   "outputs": [],
   "source": [
    "# combinando os graus não documentados da característica EDUCATION com o grau 'outros'\n",
    "\n",
    "df_clean_2['EDUCATION'].replace(to_replace=[0, 5, 6], value=4, inplace=True)"
   ]
  },
  {
   "cell_type": "code",
   "execution_count": 49,
   "metadata": {},
   "outputs": [
    {
     "data": {
      "text/plain": [
       "2    12458\n",
       "1     9412\n",
       "3     4380\n",
       "4      414\n",
       "Name: EDUCATION, dtype: int64"
      ]
     },
     "execution_count": 49,
     "metadata": {},
     "output_type": "execute_result"
    }
   ],
   "source": [
    "# obtendo novamente as contagens de valores da característica EDUCATION\n",
    "\n",
    "df_clean_2['EDUCATION'].value_counts()"
   ]
  },
  {
   "cell_type": "markdown",
   "metadata": {},
   "source": [
    "O método **.raplace** do pandas ajuda a fazermos rapidamente as substituições descritas na etapa anterior.\n",
    "\n",
    "Observe que fizemos essa alteração **in loco** (inplace=True). Isso significa que, em vez de retornar um novo DataFrame, a operação fará a alteração no DataFrame existente."
   ]
  },
  {
   "cell_type": "code",
   "execution_count": 50,
   "metadata": {},
   "outputs": [
    {
     "data": {
      "text/plain": [
       "2    14158\n",
       "1    12172\n",
       "3      286\n",
       "0       48\n",
       "Name: MARRIAGE, dtype: int64"
      ]
     },
     "execution_count": 50,
     "metadata": {},
     "output_type": "execute_result"
    }
   ],
   "source": [
    "# obtendo as contagens de valores da características MARRIGE\n",
    "\n",
    "df_clean_2['MARRIAGE'].value_counts()"
   ]
  },
  {
   "cell_type": "markdown",
   "metadata": {},
   "source": [
    "Aqui o problema é semelhante ao encontrado na característica EDUCATION; há um valor 0 que não está documentado no dicionário de dados. Então, vamos agrupá-lo com 'outros' (3)."
   ]
  },
  {
   "cell_type": "code",
   "execution_count": 51,
   "metadata": {},
   "outputs": [],
   "source": [
    "# alterando os valores 0 da característica MARRIAGE para 3\n",
    "\n",
    "df_clean_2['MARRIAGE'].replace(to_replace=0, value=3, inplace=True)"
   ]
  },
  {
   "cell_type": "code",
   "execution_count": 52,
   "metadata": {},
   "outputs": [
    {
     "data": {
      "text/plain": [
       "2    14158\n",
       "1    12172\n",
       "3      334\n",
       "Name: MARRIAGE, dtype: int64"
      ]
     },
     "execution_count": 52,
     "metadata": {},
     "output_type": "execute_result"
    }
   ],
   "source": [
    "# obtendo novamente as contagens de valores da característica MARRIAGE\n",
    "\n",
    "df_clean_2['MARRIAGE'].value_counts()"
   ]
  },
  {
   "cell_type": "markdown",
   "metadata": {},
   "source": [
    "Fizemos uma extensa exploração e limpeza dos dados. Agora, executaremos operações mais avançadas de visualizações e exploração das características de histórico financeiro, que vêm depois disso no DataFrame."
   ]
  },
  {
   "cell_type": "markdown",
   "metadata": {},
   "source": [
    "### Aprofundamento nas características categóricas\n",
    "\n",
    "Ler pág. 48 e 49\n",
    "\n",
    "Explicação importante sobre características ordinais e como podem ou não funcionar bem em um modelo linear.\n",
    "\n",
    "Vejamos o exemplo do nosso DataFrame"
   ]
  },
  {
   "cell_type": "code",
   "execution_count": 53,
   "metadata": {},
   "outputs": [
    {
     "data": {
      "text/plain": [
       "Text(0.5, 0, 'Education level: ordinal enconding')"
      ]
     },
     "execution_count": 53,
     "metadata": {},
     "output_type": "execute_result"
    },
    {
     "data": {
      "image/png": "[encoded data removed]",
      "text/plain": [
       "<Figure size 2400x1600 with 1 Axes>"
      ]
     },
     "metadata": {
      "needs_background": "light"
     },
     "output_type": "display_data"
    }
   ],
   "source": [
    "df_clean_2.groupby('EDUCATION').agg({'default payment next month':'mean'}).plot.bar(legend=False)\n",
    "\n",
    "plt.ylabel('Default rate')\n",
    "plt.xlabel('Education level: ordinal enconding')"
   ]
  },
  {
   "cell_type": "markdown",
   "metadata": {},
   "source": [
    "Como descritos nos exemplos do livro, aqui parece que um ajuste de linha reta não seria a melhor descrição dos dados.\n",
    "\n",
    "**Caso uma característica tenha um efeito não linear como esse, pode ser melhor usar algoritmo mais complexo como uma** árvore de decisão **ou** floresta aleatória.\n",
    "\n",
    "Ou, se um modelo linear mais simples e interpretável como a regressão logística for desejado, poderíamos evitar uma codificação ordinal e usar uma maneira diferente de codificar variáveis categóricas. Uma maneira popular de fazer isso se chama **codificação one-hot** (OHE, one-hot encoding)\n",
    "\n",
    "O **OHE** é uma maneira de transformarmos uma característica categórica, que pode ser composta de rótulos de texto nos dados brutos, em uma característica numérica que possa ser usada em modelos matemáticos."
   ]
  },
  {
   "cell_type": "markdown",
   "metadata": {},
   "source": [
    "## Exercício 7 - Implementando a OHE para uma característica categórica\n",
    "\n",
    "Neste exercício, executaremos uma 'engenharia reversa' na característica EDUCATION do dataset para obter os rótulos de texto que represenam os diferentes graus de instrução e mostraremos como usar o pandas ara criar uma **OHE**.\n",
    "\n",
    "Primeiro, consideraremos nossa característica EDUCATION, antes de ela ser codificada como um ordinal. Precisamos criar uma série (coluna) que tenha dados (strings) em vez de números.\n",
    "\n"
   ]
  },
  {
   "cell_type": "code",
   "execution_count": 54,
   "metadata": {},
   "outputs": [],
   "source": [
    "# criando nova coluna (vazia) para os rótulos categóricos chamada EDUCATION_CAT\n",
    "\n",
    "df_clean_2['EDUCATION_CAT'] = 'none'"
   ]
  },
  {
   "cell_type": "code",
   "execution_count": 56,
   "metadata": {},
   "outputs": [
    {
     "data": {
      "text/html": [
       "<div>\n",
       "<style scoped>\n",
       "    .dataframe tbody tr th:only-of-type {\n",
       "        vertical-align: middle;\n",
       "    }\n",
       "\n",
       "    .dataframe tbody tr th {\n",
       "        vertical-align: top;\n",
       "    }\n",
       "\n",
       "    .dataframe thead th {\n",
       "        text-align: right;\n",
       "    }\n",
       "</style>\n",
       "<table border=\"1\" class=\"dataframe\">\n",
       "  <thead>\n",
       "    <tr style=\"text-align: right;\">\n",
       "      <th></th>\n",
       "      <th>EDUCATION</th>\n",
       "      <th>EDUCATION_CAT</th>\n",
       "    </tr>\n",
       "  </thead>\n",
       "  <tbody>\n",
       "    <tr>\n",
       "      <th>0</th>\n",
       "      <td>2</td>\n",
       "      <td>none</td>\n",
       "    </tr>\n",
       "    <tr>\n",
       "      <th>1</th>\n",
       "      <td>2</td>\n",
       "      <td>none</td>\n",
       "    </tr>\n",
       "    <tr>\n",
       "      <th>2</th>\n",
       "      <td>2</td>\n",
       "      <td>none</td>\n",
       "    </tr>\n",
       "    <tr>\n",
       "      <th>3</th>\n",
       "      <td>2</td>\n",
       "      <td>none</td>\n",
       "    </tr>\n",
       "    <tr>\n",
       "      <th>4</th>\n",
       "      <td>2</td>\n",
       "      <td>none</td>\n",
       "    </tr>\n",
       "    <tr>\n",
       "      <th>5</th>\n",
       "      <td>1</td>\n",
       "      <td>none</td>\n",
       "    </tr>\n",
       "    <tr>\n",
       "      <th>6</th>\n",
       "      <td>1</td>\n",
       "      <td>none</td>\n",
       "    </tr>\n",
       "    <tr>\n",
       "      <th>7</th>\n",
       "      <td>2</td>\n",
       "      <td>none</td>\n",
       "    </tr>\n",
       "    <tr>\n",
       "      <th>8</th>\n",
       "      <td>3</td>\n",
       "      <td>none</td>\n",
       "    </tr>\n",
       "    <tr>\n",
       "      <th>9</th>\n",
       "      <td>3</td>\n",
       "      <td>none</td>\n",
       "    </tr>\n",
       "    <tr>\n",
       "      <th>10</th>\n",
       "      <td>3</td>\n",
       "      <td>none</td>\n",
       "    </tr>\n",
       "    <tr>\n",
       "      <th>11</th>\n",
       "      <td>1</td>\n",
       "      <td>none</td>\n",
       "    </tr>\n",
       "    <tr>\n",
       "      <th>12</th>\n",
       "      <td>2</td>\n",
       "      <td>none</td>\n",
       "    </tr>\n",
       "    <tr>\n",
       "      <th>13</th>\n",
       "      <td>2</td>\n",
       "      <td>none</td>\n",
       "    </tr>\n",
       "    <tr>\n",
       "      <th>14</th>\n",
       "      <td>1</td>\n",
       "      <td>none</td>\n",
       "    </tr>\n",
       "  </tbody>\n",
       "</table>\n",
       "</div>"
      ],
      "text/plain": [
       "    EDUCATION EDUCATION_CAT\n",
       "0           2          none\n",
       "1           2          none\n",
       "2           2          none\n",
       "3           2          none\n",
       "4           2          none\n",
       "5           1          none\n",
       "6           1          none\n",
       "7           2          none\n",
       "8           3          none\n",
       "9           3          none\n",
       "10          3          none\n",
       "11          1          none\n",
       "12          2          none\n",
       "13          2          none\n",
       "14          1          none"
      ]
     },
     "execution_count": 56,
     "metadata": {},
     "output_type": "execute_result"
    }
   ],
   "source": [
    "# examine as primeiras linhas do DataFrame referentes às colunas EDUCATION e EDUCATION_CAT\n",
    "\n",
    "df_clean_2[['EDUCATION', 'EDUCATION_CAT']].head(15)"
   ]
  },
  {
   "cell_type": "markdown",
   "metadata": {},
   "source": [
    "Agora precisamos mapear os valores de uma série para a outra. Uma função do pandas conveniente para fazer isso é **.map**, que usa um dicionário para estabelecer a correspondência entre os valores antigos e novos."
   ]
  },
  {
   "cell_type": "code",
   "execution_count": 57,
   "metadata": {},
   "outputs": [],
   "source": [
    "# criando um dicionário que descreve o mapeamento das categorias de instrução\n",
    "\n",
    "cat_mapping = {\n",
    "    1: 'graduate school',\n",
    "    2: 'university',\n",
    "    3: 'high school',\n",
    "    4: 'others'\n",
    "}"
   ]
  },
  {
   "cell_type": "code",
   "execution_count": 58,
   "metadata": {},
   "outputs": [],
   "source": [
    "# aplicando o mapeamento à coluna EDUCATION original usando .map e atribuindo o resultado à nova coluna EDUCATION_CAT\n",
    "\n",
    "df_clean_2['EDUCATION_CAT'] = df_clean_2['EDUCATION'].map(cat_mapping)"
   ]
  },
  {
   "cell_type": "code",
   "execution_count": 59,
   "metadata": {},
   "outputs": [
    {
     "data": {
      "text/html": [
       "<div>\n",
       "<style scoped>\n",
       "    .dataframe tbody tr th:only-of-type {\n",
       "        vertical-align: middle;\n",
       "    }\n",
       "\n",
       "    .dataframe tbody tr th {\n",
       "        vertical-align: top;\n",
       "    }\n",
       "\n",
       "    .dataframe thead th {\n",
       "        text-align: right;\n",
       "    }\n",
       "</style>\n",
       "<table border=\"1\" class=\"dataframe\">\n",
       "  <thead>\n",
       "    <tr style=\"text-align: right;\">\n",
       "      <th></th>\n",
       "      <th>EDUCATION</th>\n",
       "      <th>EDUCATION_CAT</th>\n",
       "    </tr>\n",
       "  </thead>\n",
       "  <tbody>\n",
       "    <tr>\n",
       "      <th>0</th>\n",
       "      <td>2</td>\n",
       "      <td>university</td>\n",
       "    </tr>\n",
       "    <tr>\n",
       "      <th>1</th>\n",
       "      <td>2</td>\n",
       "      <td>university</td>\n",
       "    </tr>\n",
       "    <tr>\n",
       "      <th>2</th>\n",
       "      <td>2</td>\n",
       "      <td>university</td>\n",
       "    </tr>\n",
       "    <tr>\n",
       "      <th>3</th>\n",
       "      <td>2</td>\n",
       "      <td>university</td>\n",
       "    </tr>\n",
       "    <tr>\n",
       "      <th>4</th>\n",
       "      <td>2</td>\n",
       "      <td>university</td>\n",
       "    </tr>\n",
       "    <tr>\n",
       "      <th>5</th>\n",
       "      <td>1</td>\n",
       "      <td>graduate school</td>\n",
       "    </tr>\n",
       "    <tr>\n",
       "      <th>6</th>\n",
       "      <td>1</td>\n",
       "      <td>graduate school</td>\n",
       "    </tr>\n",
       "    <tr>\n",
       "      <th>7</th>\n",
       "      <td>2</td>\n",
       "      <td>university</td>\n",
       "    </tr>\n",
       "    <tr>\n",
       "      <th>8</th>\n",
       "      <td>3</td>\n",
       "      <td>high school</td>\n",
       "    </tr>\n",
       "    <tr>\n",
       "      <th>9</th>\n",
       "      <td>3</td>\n",
       "      <td>high school</td>\n",
       "    </tr>\n",
       "    <tr>\n",
       "      <th>10</th>\n",
       "      <td>3</td>\n",
       "      <td>high school</td>\n",
       "    </tr>\n",
       "    <tr>\n",
       "      <th>11</th>\n",
       "      <td>1</td>\n",
       "      <td>graduate school</td>\n",
       "    </tr>\n",
       "    <tr>\n",
       "      <th>12</th>\n",
       "      <td>2</td>\n",
       "      <td>university</td>\n",
       "    </tr>\n",
       "    <tr>\n",
       "      <th>13</th>\n",
       "      <td>2</td>\n",
       "      <td>university</td>\n",
       "    </tr>\n",
       "    <tr>\n",
       "      <th>14</th>\n",
       "      <td>1</td>\n",
       "      <td>graduate school</td>\n",
       "    </tr>\n",
       "  </tbody>\n",
       "</table>\n",
       "</div>"
      ],
      "text/plain": [
       "    EDUCATION    EDUCATION_CAT\n",
       "0           2       university\n",
       "1           2       university\n",
       "2           2       university\n",
       "3           2       university\n",
       "4           2       university\n",
       "5           1  graduate school\n",
       "6           1  graduate school\n",
       "7           2       university\n",
       "8           3      high school\n",
       "9           3      high school\n",
       "10          3      high school\n",
       "11          1  graduate school\n",
       "12          2       university\n",
       "13          2       university\n",
       "14          1  graduate school"
      ]
     },
     "execution_count": 59,
     "metadata": {},
     "output_type": "execute_result"
    }
   ],
   "source": [
    "# examinando novamente as primeiras linhas do DataFrame referentes às colunas EDUCATION e EDUCATION_CAT\n",
    "\n",
    "df_clean_2[['EDUCATION', 'EDUCATION_CAT']].head(15)"
   ]
  },
  {
   "cell_type": "markdown",
   "metadata": {},
   "source": [
    "Agora estamos prontos para a codificação *one-hot*. \n",
    "\n",
    "Podemos executá-la passando uma série (Series) de um DataFrame paa a função **get_dummies()** do pandas. A função recebeu esse nome porque as colunas de codificação *one-hot* também são chamadas de **variáveis dummy**.\n",
    "\n",
    "O resutlado será um novo DataFrame, com um número igual de colunas e níveis da variável categórica."
   ]
  },
  {
   "cell_type": "code",
   "execution_count": 60,
   "metadata": {},
   "outputs": [],
   "source": [
    "# executando a estratégia acima para criar um DataFrame de codificação one_hot da coluna EDUCATION_CAT\n",
    "\n",
    "edu_ohe = pd.get_dummies(df_clean_2['EDUCATION_CAT'])"
   ]
  },
  {
   "cell_type": "code",
   "execution_count": 61,
   "metadata": {},
   "outputs": [
    {
     "data": {
      "text/html": [
       "<div>\n",
       "<style scoped>\n",
       "    .dataframe tbody tr th:only-of-type {\n",
       "        vertical-align: middle;\n",
       "    }\n",
       "\n",
       "    .dataframe tbody tr th {\n",
       "        vertical-align: top;\n",
       "    }\n",
       "\n",
       "    .dataframe thead th {\n",
       "        text-align: right;\n",
       "    }\n",
       "</style>\n",
       "<table border=\"1\" class=\"dataframe\">\n",
       "  <thead>\n",
       "    <tr style=\"text-align: right;\">\n",
       "      <th></th>\n",
       "      <th>graduate school</th>\n",
       "      <th>high school</th>\n",
       "      <th>others</th>\n",
       "      <th>university</th>\n",
       "    </tr>\n",
       "  </thead>\n",
       "  <tbody>\n",
       "    <tr>\n",
       "      <th>0</th>\n",
       "      <td>0</td>\n",
       "      <td>0</td>\n",
       "      <td>0</td>\n",
       "      <td>1</td>\n",
       "    </tr>\n",
       "    <tr>\n",
       "      <th>1</th>\n",
       "      <td>0</td>\n",
       "      <td>0</td>\n",
       "      <td>0</td>\n",
       "      <td>1</td>\n",
       "    </tr>\n",
       "    <tr>\n",
       "      <th>2</th>\n",
       "      <td>0</td>\n",
       "      <td>0</td>\n",
       "      <td>0</td>\n",
       "      <td>1</td>\n",
       "    </tr>\n",
       "    <tr>\n",
       "      <th>3</th>\n",
       "      <td>0</td>\n",
       "      <td>0</td>\n",
       "      <td>0</td>\n",
       "      <td>1</td>\n",
       "    </tr>\n",
       "    <tr>\n",
       "      <th>4</th>\n",
       "      <td>0</td>\n",
       "      <td>0</td>\n",
       "      <td>0</td>\n",
       "      <td>1</td>\n",
       "    </tr>\n",
       "    <tr>\n",
       "      <th>5</th>\n",
       "      <td>1</td>\n",
       "      <td>0</td>\n",
       "      <td>0</td>\n",
       "      <td>0</td>\n",
       "    </tr>\n",
       "    <tr>\n",
       "      <th>6</th>\n",
       "      <td>1</td>\n",
       "      <td>0</td>\n",
       "      <td>0</td>\n",
       "      <td>0</td>\n",
       "    </tr>\n",
       "    <tr>\n",
       "      <th>7</th>\n",
       "      <td>0</td>\n",
       "      <td>0</td>\n",
       "      <td>0</td>\n",
       "      <td>1</td>\n",
       "    </tr>\n",
       "    <tr>\n",
       "      <th>8</th>\n",
       "      <td>0</td>\n",
       "      <td>1</td>\n",
       "      <td>0</td>\n",
       "      <td>0</td>\n",
       "    </tr>\n",
       "    <tr>\n",
       "      <th>9</th>\n",
       "      <td>0</td>\n",
       "      <td>1</td>\n",
       "      <td>0</td>\n",
       "      <td>0</td>\n",
       "    </tr>\n",
       "    <tr>\n",
       "      <th>10</th>\n",
       "      <td>0</td>\n",
       "      <td>1</td>\n",
       "      <td>0</td>\n",
       "      <td>0</td>\n",
       "    </tr>\n",
       "    <tr>\n",
       "      <th>11</th>\n",
       "      <td>1</td>\n",
       "      <td>0</td>\n",
       "      <td>0</td>\n",
       "      <td>0</td>\n",
       "    </tr>\n",
       "    <tr>\n",
       "      <th>12</th>\n",
       "      <td>0</td>\n",
       "      <td>0</td>\n",
       "      <td>0</td>\n",
       "      <td>1</td>\n",
       "    </tr>\n",
       "    <tr>\n",
       "      <th>13</th>\n",
       "      <td>0</td>\n",
       "      <td>0</td>\n",
       "      <td>0</td>\n",
       "      <td>1</td>\n",
       "    </tr>\n",
       "    <tr>\n",
       "      <th>14</th>\n",
       "      <td>1</td>\n",
       "      <td>0</td>\n",
       "      <td>0</td>\n",
       "      <td>0</td>\n",
       "    </tr>\n",
       "  </tbody>\n",
       "</table>\n",
       "</div>"
      ],
      "text/plain": [
       "    graduate school  high school  others  university\n",
       "0                 0            0       0           1\n",
       "1                 0            0       0           1\n",
       "2                 0            0       0           1\n",
       "3                 0            0       0           1\n",
       "4                 0            0       0           1\n",
       "5                 1            0       0           0\n",
       "6                 1            0       0           0\n",
       "7                 0            0       0           1\n",
       "8                 0            1       0           0\n",
       "9                 0            1       0           0\n",
       "10                0            1       0           0\n",
       "11                1            0       0           0\n",
       "12                0            0       0           1\n",
       "13                0            0       0           1\n",
       "14                1            0       0           0"
      ]
     },
     "execution_count": 61,
     "metadata": {},
     "output_type": "execute_result"
    }
   ],
   "source": [
    "# examinando as primeiras linhas do DataFrame referentes à coluna EDUCATION_CAT\n",
    "\n",
    "edu_ohe.head(15)"
   ]
  },
  {
   "cell_type": "markdown",
   "metadata": {},
   "source": [
    "A saída acima deixa claro porque esta abordagem se chama 'codificação one-hot': em todas as colunas, qualquer linha específica terá um número 1 em exatamente 1 coluna e zeros nas outras.\n",
    "\n",
    "Em uma linha específica, a coluna com 1 deve corresponder ao nível da variável categórica original. Para verificar isso, precisamos concatenar esse novo DataFrame com o original e examinar os resultados lado a lado.\n",
    "\n"
   ]
  },
  {
   "cell_type": "code",
   "execution_count": 62,
   "metadata": {},
   "outputs": [],
   "source": [
    "# concatenando o DataFrame de codificação one-hot com o original \n",
    "\n",
    "df_with_ohe = pd.concat([df_clean_2, edu_ohe], axis=1)\n"
   ]
  },
  {
   "cell_type": "code",
   "execution_count": 63,
   "metadata": {},
   "outputs": [
    {
     "data": {
      "text/html": [
       "<div>\n",
       "<style scoped>\n",
       "    .dataframe tbody tr th:only-of-type {\n",
       "        vertical-align: middle;\n",
       "    }\n",
       "\n",
       "    .dataframe tbody tr th {\n",
       "        vertical-align: top;\n",
       "    }\n",
       "\n",
       "    .dataframe thead th {\n",
       "        text-align: right;\n",
       "    }\n",
       "</style>\n",
       "<table border=\"1\" class=\"dataframe\">\n",
       "  <thead>\n",
       "    <tr style=\"text-align: right;\">\n",
       "      <th></th>\n",
       "      <th>EDUCATION_CAT</th>\n",
       "      <th>graduate school</th>\n",
       "      <th>high school</th>\n",
       "      <th>university</th>\n",
       "      <th>others</th>\n",
       "    </tr>\n",
       "  </thead>\n",
       "  <tbody>\n",
       "    <tr>\n",
       "      <th>0</th>\n",
       "      <td>university</td>\n",
       "      <td>0</td>\n",
       "      <td>0</td>\n",
       "      <td>1</td>\n",
       "      <td>0</td>\n",
       "    </tr>\n",
       "    <tr>\n",
       "      <th>1</th>\n",
       "      <td>university</td>\n",
       "      <td>0</td>\n",
       "      <td>0</td>\n",
       "      <td>1</td>\n",
       "      <td>0</td>\n",
       "    </tr>\n",
       "    <tr>\n",
       "      <th>2</th>\n",
       "      <td>university</td>\n",
       "      <td>0</td>\n",
       "      <td>0</td>\n",
       "      <td>1</td>\n",
       "      <td>0</td>\n",
       "    </tr>\n",
       "    <tr>\n",
       "      <th>3</th>\n",
       "      <td>university</td>\n",
       "      <td>0</td>\n",
       "      <td>0</td>\n",
       "      <td>1</td>\n",
       "      <td>0</td>\n",
       "    </tr>\n",
       "    <tr>\n",
       "      <th>4</th>\n",
       "      <td>university</td>\n",
       "      <td>0</td>\n",
       "      <td>0</td>\n",
       "      <td>1</td>\n",
       "      <td>0</td>\n",
       "    </tr>\n",
       "    <tr>\n",
       "      <th>5</th>\n",
       "      <td>graduate school</td>\n",
       "      <td>1</td>\n",
       "      <td>0</td>\n",
       "      <td>0</td>\n",
       "      <td>0</td>\n",
       "    </tr>\n",
       "    <tr>\n",
       "      <th>6</th>\n",
       "      <td>graduate school</td>\n",
       "      <td>1</td>\n",
       "      <td>0</td>\n",
       "      <td>0</td>\n",
       "      <td>0</td>\n",
       "    </tr>\n",
       "    <tr>\n",
       "      <th>7</th>\n",
       "      <td>university</td>\n",
       "      <td>0</td>\n",
       "      <td>0</td>\n",
       "      <td>1</td>\n",
       "      <td>0</td>\n",
       "    </tr>\n",
       "    <tr>\n",
       "      <th>8</th>\n",
       "      <td>high school</td>\n",
       "      <td>0</td>\n",
       "      <td>1</td>\n",
       "      <td>0</td>\n",
       "      <td>0</td>\n",
       "    </tr>\n",
       "    <tr>\n",
       "      <th>9</th>\n",
       "      <td>high school</td>\n",
       "      <td>0</td>\n",
       "      <td>1</td>\n",
       "      <td>0</td>\n",
       "      <td>0</td>\n",
       "    </tr>\n",
       "    <tr>\n",
       "      <th>10</th>\n",
       "      <td>high school</td>\n",
       "      <td>0</td>\n",
       "      <td>1</td>\n",
       "      <td>0</td>\n",
       "      <td>0</td>\n",
       "    </tr>\n",
       "    <tr>\n",
       "      <th>11</th>\n",
       "      <td>graduate school</td>\n",
       "      <td>1</td>\n",
       "      <td>0</td>\n",
       "      <td>0</td>\n",
       "      <td>0</td>\n",
       "    </tr>\n",
       "    <tr>\n",
       "      <th>12</th>\n",
       "      <td>university</td>\n",
       "      <td>0</td>\n",
       "      <td>0</td>\n",
       "      <td>1</td>\n",
       "      <td>0</td>\n",
       "    </tr>\n",
       "    <tr>\n",
       "      <th>13</th>\n",
       "      <td>university</td>\n",
       "      <td>0</td>\n",
       "      <td>0</td>\n",
       "      <td>1</td>\n",
       "      <td>0</td>\n",
       "    </tr>\n",
       "    <tr>\n",
       "      <th>14</th>\n",
       "      <td>graduate school</td>\n",
       "      <td>1</td>\n",
       "      <td>0</td>\n",
       "      <td>0</td>\n",
       "      <td>0</td>\n",
       "    </tr>\n",
       "  </tbody>\n",
       "</table>\n",
       "</div>"
      ],
      "text/plain": [
       "      EDUCATION_CAT  graduate school  high school  university  others\n",
       "0        university                0            0           1       0\n",
       "1        university                0            0           1       0\n",
       "2        university                0            0           1       0\n",
       "3        university                0            0           1       0\n",
       "4        university                0            0           1       0\n",
       "5   graduate school                1            0           0       0\n",
       "6   graduate school                1            0           0       0\n",
       "7        university                0            0           1       0\n",
       "8       high school                0            1           0       0\n",
       "9       high school                0            1           0       0\n",
       "10      high school                0            1           0       0\n",
       "11  graduate school                1            0           0       0\n",
       "12       university                0            0           1       0\n",
       "13       university                0            0           1       0\n",
       "14  graduate school                1            0           0       0"
      ]
     },
     "execution_count": 63,
     "metadata": {},
     "output_type": "execute_result"
    }
   ],
   "source": [
    "# examinando as primeiras linhas do DataFrame concatenado\n",
    "\n",
    "df_with_ohe[['EDUCATION_CAT', 'graduate school',\n",
    "             'high school', 'university', 'others']].head(15)"
   ]
  },
  {
   "cell_type": "markdown",
   "metadata": {},
   "source": [
    "Agora é um bom momento para salvarmos o DataFrame criado aqui, que resume nossos esforços de limpar os dados e adicionar uma coluna OHE."
   ]
  },
  {
   "cell_type": "code",
   "execution_count": 64,
   "metadata": {},
   "outputs": [],
   "source": [
    "# salvando DataFrame em um arquivo CSV\n",
    "\n",
    "df_with_ohe.to_csv('C:/Users/Renato/OneDrive/github/Data_science_for_architecture/projetos_de_ciencias_de_dados_com_python/Data/Chapter_1_cleaned_data.csv', index=False)\n"
   ]
  },
  {
   "cell_type": "markdown",
   "metadata": {},
   "source": [
    "## Explorando as características de histórico financeiro do dataset"
   ]
  },
  {
   "cell_type": "code",
   "execution_count": null,
   "metadata": {},
   "outputs": [],
   "source": []
  }
 ],
 "metadata": {
  "kernelspec": {
   "display_name": "Python 3",
   "language": "python",
   "name": "python3"
  },
  "language_info": {
   "codemirror_mode": {
    "name": "ipython",
    "version": 3
   },
   "file_extension": ".py",
   "mimetype": "text/x-python",
   "name": "python",
   "nbconvert_exporter": "python",
   "pygments_lexer": "ipython3",
   "version": "3.8.5"
  }
 },
 "nbformat": 4,
 "nbformat_minor": 4
}

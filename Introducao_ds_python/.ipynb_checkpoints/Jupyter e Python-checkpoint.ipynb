{
 "cells": [
  {
   "cell_type": "markdown",
   "metadata": {},
   "source": [
    "# Introdução à Data Science com Python - Data ICMC-USP\n",
    "\n",
    "Esse material foi desenvolvido pelo Data, grupo de extensão de aprendizado e ciência de dados compostos por alunos do Instituto de Ciências Matemáticas e de Computação da USP.\n",
    "\n",
    "Esse notebook é acompanhado de um curso em video, que pode ser encontrado em [aqui](https://www.youtube.com/playlist?list=PLFE-LjWAAP9SfEuLXf3qrpw4szKWjlYq9)\n",
    "\n",
    "Para saber mais sobre as atividades do Data entre no nosso site e nos siga e nossas redes sociais:\n",
    "- [Site](http://data.icmc.usp.br/)\n",
    "- [Twitter](https://twitter.com/data_icmc)\n",
    "- [LinkedIn](https://www.linkedin.com/school/data-icmc/)\n",
    "- [Facebook](https://www.facebook.com/dataICMC/)\n",
    "\n",
    "Aproveite o material!\n",
    "\n",
    "## Jupyter Notebook e Python"
   ]
  },
  {
   "cell_type": "markdown",
   "metadata": {},
   "source": [
    "### Jupyter Notebook\n",
    "\n",
    "Isso daqui é um **Jupyter Notebook** é uma maneira de executar códigos Python (e de algumas outras linguagens) interativamente. Em oposição a um arquivo Python padrão (*.py*), onde o código é executado do começo ao fim, um Jupyter Notebook (*.ipynb*) permite que o programador execute o código em pequenos trechos, observando resultados intermediários.\n",
    "\n",
    "Além disso o notebooks permitem a inclusão de texto, imagens, videos e formulas matemáticas. Sendo assim ainda melhores para utilização em ciência de dados, permitindo explicar linhas de raciocínio e exibir gráficos."
   ]
  },
  {
   "cell_type": "markdown",
   "metadata": {},
   "source": [
    "### Python\n",
    "\n",
    "Python é um linguagem de programação de propósito geral criada na década de 1990. A primeira coisa que é possível perceber ao se utilizar Python é que o código é bastante limpo e possui uma boa legibilidade. Para programadores que já possuem familiaridades com linguagens como C/C++ ou Java a adaptação ao Python é bem tranquila, e além disso a linguagem é uma excelente alternativa para começar a aprender programação.\n",
    "\n",
    "É muito importante perceber que esse não é um curso de Python, muito menos de programação. A introdução fornecida nessa aula tem como objetivo apresentar os principais pontos da linguagem, mas é muito recomendado para quem deseja entender de fato o que está acontecendo que estudo Python separadamente também. Nesse curso veremos como aplicar Python no contexto de ciência de dados, então um bom entendimento da linguagem é fundamental.\n",
    "\n",
    "Agora vamos a uma introdução prática ao Python!"
   ]
  },
  {
   "cell_type": "markdown",
   "metadata": {},
   "source": [
    "#### Variáveis"
   ]
  },
  {
   "cell_type": "code",
   "execution_count": 1,
   "metadata": {},
   "outputs": [],
   "source": [
    "# Declarando algumas variaveis (isso é um comentário)\n",
    "nome = 'Pedro'\n",
    "idade = 28\n",
    "altura = 1.75\n",
    "solteiro = True"
   ]
  },
  {
   "cell_type": "code",
   "execution_count": 2,
   "metadata": {},
   "outputs": [
    {
     "name": "stdout",
     "output_type": "stream",
     "text": [
      "Pedro\n",
      "28\n",
      "1.75\n",
      "True\n"
     ]
    }
   ],
   "source": [
    "# Imprimindo o valor dessas variáveis\n",
    "print(nome)\n",
    "print(idade)\n",
    "print(altura)\n",
    "print(solteiro)"
   ]
  },
  {
   "cell_type": "code",
   "execution_count": 3,
   "metadata": {},
   "outputs": [
    {
     "name": "stdout",
     "output_type": "stream",
     "text": [
      "<class 'str'>\n",
      "<class 'int'>\n",
      "<class 'float'>\n",
      "<class 'bool'>\n"
     ]
    }
   ],
   "source": [
    "# Podemos olhar o tipo das variaveis\n",
    "print(type(nome))\n",
    "print(type(idade))\n",
    "print(type(altura))\n",
    "print(type(solteiro))"
   ]
  },
  {
   "cell_type": "markdown",
   "metadata": {},
   "source": [
    "#### Operações"
   ]
  },
  {
   "cell_type": "code",
   "execution_count": 4,
   "metadata": {},
   "outputs": [
    {
     "name": "stdout",
     "output_type": "stream",
     "text": [
      "28\n",
      "Soma 10: 38\n",
      "Subtrai 5: -3.25\n",
      "Multiplica por 2: 3.5\n",
      "Divide por 3: 9.333333333333334\n"
     ]
    }
   ],
   "source": [
    "# Temos todas as operações aritméticas populares\n",
    "a = idade + 10\n",
    "b = altura - 5\n",
    "c = altura * 2\n",
    "d = idade / 3\n",
    "\n",
    "print(idade)\n",
    "print('Soma 10:', a)\n",
    "print('Subtrai 5:', b)\n",
    "print('Multiplica por 2:', c)\n",
    "print('Divide por 3:', d)"
   ]
  },
  {
   "cell_type": "code",
   "execution_count": 5,
   "metadata": {},
   "outputs": [
    {
     "name": "stdout",
     "output_type": "stream",
     "text": [
      "Modulo 10: 8\n",
      "Divisão inteira por 3: 9\n"
     ]
    }
   ],
   "source": [
    "# Também pode-se destacar operações de módulo (resto da divisão)\n",
    "# e de divisão inteira\n",
    "\n",
    "e = idade % 10 # Modulo\n",
    "f = idade // 3 # Div. inteira\n",
    "\n",
    "print('Modulo 10:', e)\n",
    "print('Divisão inteira por 3:', f)"
   ]
  },
  {
   "cell_type": "markdown",
   "metadata": {},
   "source": [
    "Podemos realizar operações na própria variavel de maneira simplificada"
   ]
  },
  {
   "cell_type": "code",
   "execution_count": 6,
   "metadata": {},
   "outputs": [
    {
     "name": "stdout",
     "output_type": "stream",
     "text": [
      "10\n",
      "15\n"
     ]
    }
   ],
   "source": [
    "var = 10\n",
    "print(var)\n",
    "\n",
    "var += 5 # var = var + 5\n",
    "print(var)"
   ]
  },
  {
   "cell_type": "code",
   "execution_count": 7,
   "metadata": {},
   "outputs": [
    {
     "ename": "SyntaxError",
     "evalue": "invalid syntax (<ipython-input-7-8934bf02f07a>, line 2)",
     "output_type": "error",
     "traceback": [
      "\u001b[1;36m  File \u001b[1;32m\"<ipython-input-7-8934bf02f07a>\"\u001b[1;36m, line \u001b[1;32m2\u001b[0m\n\u001b[1;33m    var++\u001b[0m\n\u001b[1;37m         ^\u001b[0m\n\u001b[1;31mSyntaxError\u001b[0m\u001b[1;31m:\u001b[0m invalid syntax\n"
     ]
    }
   ],
   "source": [
    "# Isso não existe em Python\n",
    "var++"
   ]
  },
  {
   "cell_type": "code",
   "execution_count": 8,
   "metadata": {},
   "outputs": [
    {
     "name": "stdout",
     "output_type": "stream",
     "text": [
      "15\n"
     ]
    }
   ],
   "source": [
    "print(var)"
   ]
  },
  {
   "cell_type": "markdown",
   "metadata": {},
   "source": [
    "Um conceito diferente é o de operações aritméticas com dados que não são números"
   ]
  },
  {
   "cell_type": "code",
   "execution_count": 9,
   "metadata": {},
   "outputs": [
    {
     "data": {
      "text/plain": [
       "'ab'"
      ]
     },
     "execution_count": 9,
     "metadata": {},
     "output_type": "execute_result"
    }
   ],
   "source": [
    "# \"Soma\" de strings funciona como a concatenação\n",
    "'a' + 'b'"
   ]
  },
  {
   "cell_type": "code",
   "execution_count": 10,
   "metadata": {},
   "outputs": [
    {
     "name": "stdout",
     "output_type": "stream",
     "text": [
      "Pedro Silva\n"
     ]
    }
   ],
   "source": [
    "# Por exemplo:\n",
    "sobrenome = 'Silva'\n",
    "nome_completo = nome + ' ' + sobrenome\n",
    "print(nome_completo)"
   ]
  },
  {
   "cell_type": "code",
   "execution_count": 11,
   "metadata": {},
   "outputs": [
    {
     "data": {
      "text/plain": [
       "'aaaaaaaaaa'"
      ]
     },
     "execution_count": 11,
     "metadata": {},
     "output_type": "execute_result"
    }
   ],
   "source": [
    "# Também podemos fazer \"multiplicação\" com strings\n",
    "'a' * 10 "
   ]
  },
  {
   "cell_type": "markdown",
   "metadata": {},
   "source": [
    "É importante perceber que não temos \"subtração\" nem \"divisão\"."
   ]
  },
  {
   "cell_type": "markdown",
   "metadata": {},
   "source": [
    "#### Listas\n",
    "Muitas vezes estaremos trabalhando com listas de valores"
   ]
  },
  {
   "cell_type": "code",
   "execution_count": 15,
   "metadata": {},
   "outputs": [
    {
     "data": {
      "text/plain": [
       "[100, 110, 200, 140]"
      ]
     },
     "execution_count": 15,
     "metadata": {},
     "output_type": "execute_result"
    }
   ],
   "source": [
    "# Utilizamos [] para definir listas\n",
    "lucro_por_mes = [100, 110, 200, 140]\n",
    "\n",
    "lucro_por_mes\n",
    "\n"
   ]
  },
  {
   "cell_type": "code",
   "execution_count": 16,
   "metadata": {},
   "outputs": [
    {
     "data": {
      "text/plain": [
       "list"
      ]
     },
     "execution_count": 16,
     "metadata": {},
     "output_type": "execute_result"
    }
   ],
   "source": [
    "type(lucro_por_mes)"
   ]
  },
  {
   "cell_type": "code",
   "execution_count": 17,
   "metadata": {},
   "outputs": [
    {
     "data": {
      "text/plain": [
       "4"
      ]
     },
     "execution_count": 17,
     "metadata": {},
     "output_type": "execute_result"
    }
   ],
   "source": [
    "# Com a função len() podemos ver o tamanho da lista\n",
    "len(lucro_por_mes)"
   ]
  },
  {
   "cell_type": "code",
   "execution_count": 18,
   "metadata": {
    "scrolled": true
   },
   "outputs": [
    {
     "data": {
      "text/plain": [
       "[100, 110, 200, 140, 90]"
      ]
     },
     "execution_count": 18,
     "metadata": {},
     "output_type": "execute_result"
    }
   ],
   "source": [
    "# Podemos inserir elementos em listas com .append()\n",
    "lucro_por_mes.append(90)\n",
    "\n",
    "lucro_por_mes"
   ]
  },
  {
   "cell_type": "code",
   "execution_count": 19,
   "metadata": {},
   "outputs": [
    {
     "data": {
      "text/plain": [
       "[100, 110, 200, 140, 90, 100, 80, 250]"
      ]
     },
     "execution_count": 19,
     "metadata": {},
     "output_type": "execute_result"
    }
   ],
   "source": [
    "# Também podemos concatenar duas listas\n",
    "lucro_por_mes = lucro_por_mes + [100, 80, 250]\n",
    "\n",
    "lucro_por_mes"
   ]
  },
  {
   "cell_type": "markdown",
   "metadata": {},
   "source": [
    "Uma coisa muito importante em listas é acessar seus elementos, o que pode ser feito um a um ou por pedaços da lista"
   ]
  },
  {
   "cell_type": "code",
   "execution_count": 20,
   "metadata": {
    "scrolled": true
   },
   "outputs": [
    {
     "data": {
      "text/plain": [
       "200"
      ]
     },
     "execution_count": 20,
     "metadata": {},
     "output_type": "execute_result"
    }
   ],
   "source": [
    "# A indexação é feita com [] e começa no indice 0\n",
    "lucro_terceiro_mes = lucro_por_mes[2]\n",
    "\n",
    "lucro_terceiro_mes"
   ]
  },
  {
   "cell_type": "code",
   "execution_count": 21,
   "metadata": {},
   "outputs": [
    {
     "data": {
      "text/plain": [
       "[200, 140, 90, 100]"
      ]
     },
     "execution_count": 21,
     "metadata": {},
     "output_type": "execute_result"
    }
   ],
   "source": [
    "# Também podemos retornar um intervalo da lista usando :\n",
    "# Só é importante perceber que o intervalo é aberto na direita\n",
    "lucro_terceiro_ao_sexto = lucro_por_mes[2:6]\n",
    "\n",
    "lucro_terceiro_ao_sexto"
   ]
  },
  {
   "cell_type": "code",
   "execution_count": 22,
   "metadata": {},
   "outputs": [
    {
     "data": {
      "text/plain": [
       "250"
      ]
     },
     "execution_count": 22,
     "metadata": {},
     "output_type": "execute_result"
    }
   ],
   "source": [
    "# Indices negativos significam indexar de trás para frente\n",
    "ultimo_lucro = lucro_por_mes[-1]\n",
    "\n",
    "ultimo_lucro"
   ]
  },
  {
   "cell_type": "markdown",
   "metadata": {},
   "source": [
    "Listas podem conter qualquer tipo de dados, inclusive misturando tipos diferentes em uma mesma lista"
   ]
  },
  {
   "cell_type": "code",
   "execution_count": 23,
   "metadata": {},
   "outputs": [
    {
     "name": "stdout",
     "output_type": "stream",
     "text": [
      "['Star Wars', 'Frances Ha', 'O Rei Leão']\n",
      "[3.1415, 'Vinte', 42, True]\n"
     ]
    }
   ],
   "source": [
    "# Uma lista de strings\n",
    "filmes = ['Star Wars', 'Frances Ha', 'O Rei Leão']\n",
    "print(filmes)\n",
    "\n",
    "# Uma lista misturado vários tipos de dados\n",
    "minha_lista = [3.1415, 'Vinte', 42, True]\n",
    "print(minha_lista)"
   ]
  },
  {
   "cell_type": "markdown",
   "metadata": {},
   "source": [
    "Podemos inclusive fazer um lista de listas"
   ]
  },
  {
   "cell_type": "code",
   "execution_count": 24,
   "metadata": {},
   "outputs": [
    {
     "name": "stdout",
     "output_type": "stream",
     "text": [
      "[[10, 22, 13], [11, 50], [32, 21, 48]]\n"
     ]
    }
   ],
   "source": [
    "# Uma lista de listas\n",
    "gastos = [[10, 22, 13], [11, 50], [32, 21, 48]]\n",
    "print(gastos)"
   ]
  },
  {
   "cell_type": "code",
   "execution_count": 28,
   "metadata": {},
   "outputs": [
    {
     "data": {
      "text/plain": [
       "11"
      ]
     },
     "execution_count": 28,
     "metadata": {},
     "output_type": "execute_result"
    }
   ],
   "source": [
    "# Para acessar usamos [] duas vezes\n",
    "gastos[1][0] # imprimir item 0 da lista 1"
   ]
  },
  {
   "cell_type": "markdown",
   "metadata": {},
   "source": [
    "#### Tuplas\n",
    "\n",
    "São muito semelhantes a listas, porem são imutáveis. São definidas com `()`"
   ]
  },
  {
   "cell_type": "code",
   "execution_count": 29,
   "metadata": {},
   "outputs": [
    {
     "name": "stdout",
     "output_type": "stream",
     "text": [
      "(70, 84, 10, 12)\n",
      "10\n",
      "(84, 10)\n"
     ]
    }
   ],
   "source": [
    "# Criando uma tupla\n",
    "minha_tupla = (70, 84, 10, 12)\n",
    "\n",
    "print(minha_tupla)\n",
    "print(minha_tupla[2])\n",
    "print(minha_tupla[1:3])"
   ]
  },
  {
   "cell_type": "code",
   "execution_count": 30,
   "metadata": {},
   "outputs": [
    {
     "ename": "TypeError",
     "evalue": "'tuple' object does not support item assignment",
     "output_type": "error",
     "traceback": [
      "\u001b[1;31m---------------------------------------------------------------------------\u001b[0m",
      "\u001b[1;31mTypeError\u001b[0m                                 Traceback (most recent call last)",
      "\u001b[1;32m<ipython-input-30-04086d0e4d43>\u001b[0m in \u001b[0;36m<module>\u001b[1;34m\u001b[0m\n\u001b[0;32m      1\u001b[0m \u001b[1;31m# Não podemos alterar valores\u001b[0m\u001b[1;33m\u001b[0m\u001b[1;33m\u001b[0m\u001b[1;33m\u001b[0m\u001b[0m\n\u001b[1;32m----> 2\u001b[1;33m \u001b[0mminha_tupla\u001b[0m\u001b[1;33m[\u001b[0m\u001b[1;36m0\u001b[0m\u001b[1;33m]\u001b[0m \u001b[1;33m=\u001b[0m \u001b[1;36m50\u001b[0m\u001b[1;33m\u001b[0m\u001b[1;33m\u001b[0m\u001b[0m\n\u001b[0m",
      "\u001b[1;31mTypeError\u001b[0m: 'tuple' object does not support item assignment"
     ]
    }
   ],
   "source": [
    "# Não podemos alterar valores\n",
    "minha_tupla[0] = 50"
   ]
  },
  {
   "cell_type": "markdown",
   "metadata": {},
   "source": [
    "#### Estruturas condicionais\n",
    "As estruturas condicionais do Python tem estrutura similar a outras linguagens de programação. O detalhe mais importante é que a definição dos blocos de código é através da identação, enquanto outras linguens usam simbolos como {}."
   ]
  },
  {
   "cell_type": "code",
   "execution_count": 31,
   "metadata": {},
   "outputs": [
    {
     "name": "stdout",
     "output_type": "stream",
     "text": [
      "Menor que 50\n"
     ]
    }
   ],
   "source": [
    "# Definindo uma variavel que vamos usar\n",
    "meu_numero = 42\n",
    "\n",
    "if meu_numero < 50:\n",
    "    print('Menor que 50')\n",
    "else:\n",
    "    print('Maior que 50')"
   ]
  },
  {
   "cell_type": "code",
   "execution_count": 32,
   "metadata": {},
   "outputs": [
    {
     "name": "stdout",
     "output_type": "stream",
     "text": [
      "Exatamente 50\n"
     ]
    }
   ],
   "source": [
    "meu_numero = 50\n",
    "\n",
    "# Assim como em outras linguagens temos elif\n",
    "if meu_numero < 50:\n",
    "    print('Menor que 50')\n",
    "elif meu_numero > 50:\n",
    "    print('Maior que 50')\n",
    "else:\n",
    "    print('Exatamente 50')"
   ]
  },
  {
   "cell_type": "markdown",
   "metadata": {},
   "source": [
    "#### Estruturas de repetição\n",
    "Assim com outra linguagens o Python possui as estruturas de repetição `for` e `while`. É importante perceber que o _for_ do Python é um *for each*, conceito presente em outras linguagens de programação. Lembre-se da identação"
   ]
  },
  {
   "cell_type": "code",
   "execution_count": 33,
   "metadata": {},
   "outputs": [
    {
     "name": "stdout",
     "output_type": "stream",
     "text": [
      "3\n",
      "5\n",
      "7\n",
      "4\n",
      "9\n"
     ]
    }
   ],
   "source": [
    "# Definindo uma lista\n",
    "minha_lista = [3, 5, 7, 4, 9]\n",
    "\n",
    "# Vamos fazer um laço que imprima cada elemento da nossa lista\n",
    "for num in minha_lista:\n",
    "    print(num)"
   ]
  },
  {
   "cell_type": "code",
   "execution_count": 34,
   "metadata": {},
   "outputs": [
    {
     "data": {
      "text/plain": [
       "133.75"
      ]
     },
     "execution_count": 34,
     "metadata": {},
     "output_type": "execute_result"
    }
   ],
   "source": [
    "# Vamos fazer algo mais interessante\n",
    "total = 0\n",
    "for lucro in lucro_por_mes:\n",
    "    total += lucro\n",
    "    \n",
    "num_meses = len(lucro_por_mes)\n",
    "media = total/num_meses\n",
    "media"
   ]
  },
  {
   "cell_type": "markdown",
   "metadata": {},
   "source": [
    "Em algumas situações queremos um laço que itere por uma variável com valores 0, 1, 2, 3, ... Podemos fazer isso utilizando o método `range()`"
   ]
  },
  {
   "cell_type": "code",
   "execution_count": 35,
   "metadata": {},
   "outputs": [
    {
     "name": "stdout",
     "output_type": "stream",
     "text": [
      "0 0\n",
      "1 2\n",
      "2 4\n",
      "3 6\n",
      "4 8\n",
      "5 10\n",
      "6 12\n",
      "7 14\n"
     ]
    }
   ],
   "source": [
    "# Perceba que aqui o intervalo da direita também é aberto\n",
    "for i in range(8):\n",
    "    print(i, 2*i)"
   ]
  },
  {
   "cell_type": "code",
   "execution_count": 38,
   "metadata": {},
   "outputs": [
    {
     "name": "stdout",
     "output_type": "stream",
     "text": [
      "2 4\n",
      "3 6\n",
      "4 8\n",
      "5 10\n",
      "6 12\n",
      "7 14\n",
      "8 16\n"
     ]
    }
   ],
   "source": [
    "# Pode começar de um valor diferente de 0\n",
    "for i in range(2, 9):\n",
    "    print(i, 2*i)"
   ]
  },
  {
   "cell_type": "code",
   "execution_count": 39,
   "metadata": {},
   "outputs": [
    {
     "name": "stdout",
     "output_type": "stream",
     "text": [
      "2 4\n",
      "4 8\n",
      "6 12\n",
      "8 16\n"
     ]
    }
   ],
   "source": [
    "# Pode inclusive dar passos diferentes de 1\n",
    "for i in range(2, 9, 2):\n",
    "    print(i, 2*i)"
   ]
  },
  {
   "cell_type": "markdown",
   "metadata": {},
   "source": [
    "#### Dicionários\n",
    "Dicionário é uma estrutura de dados utilizada para armazenar informações do tipo chave-valor. Ele é definido com `{}` e seus elementos são acessados com `[]`"
   ]
  },
  {
   "cell_type": "code",
   "execution_count": 40,
   "metadata": {},
   "outputs": [
    {
     "name": "stdout",
     "output_type": "stream",
     "text": [
      "23\n"
     ]
    }
   ],
   "source": [
    "# Definindo um dicionário vazio\n",
    "idades = {}\n",
    "\n",
    "# Acrescentando dados\n",
    "idades['Maria'] = 23\n",
    "idades['João'] = 34\n",
    "idades['Jose'] = 28\n",
    "\n",
    "# Acessando um elemento através da chave e imprimindo o valor armazenado\n",
    "print(idades['Maria'])"
   ]
  },
  {
   "cell_type": "code",
   "execution_count": 43,
   "metadata": {},
   "outputs": [
    {
     "data": {
      "text/plain": [
       "34"
      ]
     },
     "execution_count": 43,
     "metadata": {},
     "output_type": "execute_result"
    }
   ],
   "source": [
    "# Também podemos criar um dicionário já adicionando valores\n",
    "idades = {\n",
    "    'Maria': 23,\n",
    "    'João': 34,\n",
    "    'José': 28,\n",
    "}\n",
    "\n",
    "idades['João']"
   ]
  },
  {
   "cell_type": "markdown",
   "metadata": {},
   "source": [
    "Algumas funções uteis para manipular dicionarios"
   ]
  },
  {
   "cell_type": "code",
   "execution_count": 44,
   "metadata": {},
   "outputs": [
    {
     "name": "stdout",
     "output_type": "stream",
     "text": [
      "3\n"
     ]
    }
   ],
   "source": [
    "# Assim como listas len() retorna o tamanho\n",
    "print(len(idades))"
   ]
  },
  {
   "cell_type": "code",
   "execution_count": 45,
   "metadata": {
    "scrolled": true
   },
   "outputs": [
    {
     "name": "stdout",
     "output_type": "stream",
     "text": [
      "True\n",
      "False\n"
     ]
    }
   ],
   "source": [
    "# Podemos conferir se um valor com uma certa chave já existe no dicionário\n",
    "print('Maria' in idades)\n",
    "print('Joana' in idades)"
   ]
  },
  {
   "cell_type": "markdown",
   "metadata": {},
   "source": [
    "#### Funções\n",
    "Assim como em outras linguagens podemos definir funções em Python, isso é feito através da palavra-chave `def`"
   ]
  },
  {
   "cell_type": "code",
   "execution_count": 46,
   "metadata": {},
   "outputs": [],
   "source": [
    "# Definindo uma função simples\n",
    "def imprime_dobro(num):\n",
    "    print(num * 2)"
   ]
  },
  {
   "cell_type": "code",
   "execution_count": 47,
   "metadata": {},
   "outputs": [
    {
     "name": "stdout",
     "output_type": "stream",
     "text": [
      "8\n",
      "10\n"
     ]
    }
   ],
   "source": [
    "imprime_dobro(4)\n",
    "imprime_dobro(5)"
   ]
  },
  {
   "cell_type": "code",
   "execution_count": 48,
   "metadata": {},
   "outputs": [],
   "source": [
    "# Vamos definir uma função um pouco mais complexa\n",
    "def soma_lista(lista):\n",
    "    total = 0\n",
    "    for num in lista:\n",
    "        total += num\n",
    "    return total"
   ]
  },
  {
   "cell_type": "code",
   "execution_count": 49,
   "metadata": {
    "scrolled": true
   },
   "outputs": [
    {
     "data": {
      "text/plain": [
       "11"
      ]
     },
     "execution_count": 49,
     "metadata": {},
     "output_type": "execute_result"
    }
   ],
   "source": [
    "soma_lista([2, 4, 5])"
   ]
  },
  {
   "cell_type": "code",
   "execution_count": 50,
   "metadata": {},
   "outputs": [],
   "source": [
    "# Funções podem retornar mais de um valor\n",
    "def soma_e_multiplica(a, b):\n",
    "    soma = a + b\n",
    "    multi = a * b\n",
    "    \n",
    "    return soma, multi"
   ]
  },
  {
   "cell_type": "code",
   "execution_count": 51,
   "metadata": {},
   "outputs": [
    {
     "name": "stdout",
     "output_type": "stream",
     "text": [
      "5 6\n"
     ]
    }
   ],
   "source": [
    "s, m = soma_e_multiplica(3, 2)\n",
    "print(s, m)"
   ]
  },
  {
   "cell_type": "markdown",
   "metadata": {},
   "source": [
    "#### Bibliotecas\n",
    "Bibliotecas são conjuntos de classes e funções que já estam prontas. Existem bibliotecas nativas do Python e bibliotecas de terceiros, com as mais diversas utilidades"
   ]
  },
  {
   "cell_type": "code",
   "execution_count": 57,
   "metadata": {},
   "outputs": [
    {
     "name": "stdout",
     "output_type": "stream",
     "text": [
      "13\n"
     ]
    }
   ],
   "source": [
    "# Funções relacionadas a números aleatórios\n",
    "import random\n",
    "\n",
    "# Numero aleatorio no intervalo [10, 20]\n",
    "print(random.randint(10, 20))"
   ]
  },
  {
   "cell_type": "code",
   "execution_count": 58,
   "metadata": {},
   "outputs": [
    {
     "name": "stdout",
     "output_type": "stream",
     "text": [
      "16\n"
     ]
    }
   ],
   "source": [
    "# Podemos importar apenas as funções que queremos\n",
    "from random import randint\n",
    "\n",
    "print(randint(10, 20))"
   ]
  },
  {
   "cell_type": "markdown",
   "metadata": {},
   "source": [
    "<hr>"
   ]
  },
  {
   "cell_type": "markdown",
   "metadata": {},
   "source": [
    "O conteúdo básico de Python é esse, recomendamos fortemente que você busque outras fontes de estudo de Python para ter maior facilidade em taferas de ciência de dados. O que foi coberto aqui é bem introdutório, então no decorrer das aulas iremos introduzir alguns conceitos novos conforme surgir a necessidade."
   ]
  },
  {
   "cell_type": "code",
   "execution_count": null,
   "metadata": {},
   "outputs": [],
   "source": []
  }
 ],
 "metadata": {
  "kernelspec": {
   "display_name": "Python 3",
   "language": "python",
   "name": "python3"
  },
  "language_info": {
   "codemirror_mode": {
    "name": "ipython",
    "version": 3
   },
   "file_extension": ".py",
   "mimetype": "text/x-python",
   "name": "python",
   "nbconvert_exporter": "python",
   "pygments_lexer": "ipython3",
   "version": "3.6.7"
  }
 },
 "nbformat": 4,
 "nbformat_minor": 4
}

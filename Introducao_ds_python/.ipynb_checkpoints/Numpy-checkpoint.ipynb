{
 "cells": [
  {
   "cell_type": "markdown",
   "metadata": {},
   "source": [
    "# Introdução à Data Science com Python - Data ICMC-USP\n",
    "\n",
    "Esse material foi desenvolvido pelo Data, grupo de extensão de aprendizado e ciência de dados compostos por alunos do Instituto de Ciências Matemáticas e de Computação da USP.\n",
    "\n",
    "Esse notebook é acompanhado de um curso em video, que pode ser encontrado em [aqui](https://www.youtube.com/playlist?list=PLFE-LjWAAP9SfEuLXf3qrpw4szKWjlYq9)\n",
    "\n",
    "Para saber mais sobre as atividades do Data entre no nosso site e nos siga e nossas redes sociais:\n",
    "- [Site](http://data.icmc.usp.br/)\n",
    "- [Twitter](https://twitter.com/data_icmc)\n",
    "- [LinkedIn](https://www.linkedin.com/school/data-icmc/)\n",
    "- [Facebook](https://www.facebook.com/dataICMC/)\n",
    "\n",
    "Aproveite o material!\n",
    "\n",
    "\n",
    "## NumPy\n",
    "\n",
    "NumPy é uma biblioteca para manipulação de vetores e matrizes, possuindo várias funções para lidar com esses dados. A biblioteca é muito eficiente e é usada como base para diversar outras bibliotecas de ciência de dados em Python. Iremos ver o material básico importante de NumPy, mas é muito recomendado conferir a documentação oficial em https://numpy.org/doc/, lá é possível encontrar exemplos de uso para todas as funcionalidades da biblioteca. "
   ]
  },
  {
   "cell_type": "code",
   "execution_count": 2,
   "metadata": {},
   "outputs": [],
   "source": [
    "# É comum importar o numpy o chamando só de np \n",
    "import numpy as np"
   ]
  },
  {
   "cell_type": "markdown",
   "metadata": {},
   "source": [
    "### Arrays\n",
    "\n",
    "Arrays são a generalização de vetores e matrizes com qualquer número de dimensões. O `np.array` é o elemento central do NumPy, e é com eles que precisamos saber trabalhar.\n",
    "\n",
    "Como foi dito, um array numpy pode ter qualquer número de dimenções, vamos observar os exemplos na imagem a baixo:\n",
    "\n",
    "<img src=\"https://www.oreilly.com/library/view/elegant-scipy/9781491922927/assets/elsp_0105.png\">\n",
    "\n",
    "([fonte da imagem](https://www.oreilly.com/library/view/elegant-scipy/9781491922927/ch01.html))"
   ]
  },
  {
   "cell_type": "markdown",
   "metadata": {},
   "source": [
    "Certo, então é possível ver que os arrays tem uma dimensão e um tamanho em cada uma dessas dimenções. Cada dimensão é identificada por um eixo (*axis*) como podemos ver na imagem.\n",
    "\n",
    "Vamos trabalhar com um exemplo simples:"
   ]
  },
  {
   "cell_type": "code",
   "execution_count": 2,
   "metadata": {},
   "outputs": [
    {
     "data": {
      "text/plain": [
       "array([ 2,  3,  5,  7, 11])"
      ]
     },
     "execution_count": 2,
     "metadata": {},
     "output_type": "execute_result"
    }
   ],
   "source": [
    "# Vamos criar nosso primeiro array\n",
    "a = np.array([2, 3, 5, 7, 11])\n",
    "a"
   ]
  },
  {
   "cell_type": "code",
   "execution_count": 4,
   "metadata": {},
   "outputs": [
    {
     "data": {
      "text/plain": [
       "1"
      ]
     },
     "execution_count": 4,
     "metadata": {},
     "output_type": "execute_result"
    }
   ],
   "source": [
    "# O atributo ndim do array guarda seu número de dimenções (número de dimensões -> ndim)\n",
    "a.ndim"
   ]
  },
  {
   "cell_type": "code",
   "execution_count": 6,
   "metadata": {},
   "outputs": [
    {
     "data": {
      "text/plain": [
       "(5,)"
      ]
     },
     "execution_count": 6,
     "metadata": {},
     "output_type": "execute_result"
    }
   ],
   "source": [
    "# O shape (formato) do array é um atributo ainda mais importante (descobrir o formato do array)\n",
    "a.shape"
   ]
  },
  {
   "cell_type": "code",
   "execution_count": 7,
   "metadata": {},
   "outputs": [
    {
     "data": {
      "text/plain": [
       "5"
      ]
     },
     "execution_count": 7,
     "metadata": {},
     "output_type": "execute_result"
    }
   ],
   "source": [
    "# Podemos acessar um entrada do array como fizemos com listas\n",
    "a[2]"
   ]
  },
  {
   "cell_type": "code",
   "execution_count": 8,
   "metadata": {},
   "outputs": [
    {
     "data": {
      "text/plain": [
       "array([ 2,  3,  5, 42, 11])"
      ]
     },
     "execution_count": 8,
     "metadata": {},
     "output_type": "execute_result"
    }
   ],
   "source": [
    "# Podemos também alterar uma entrada do array\n",
    "a[3] = 42\n",
    "a"
   ]
  },
  {
   "cell_type": "markdown",
   "metadata": {},
   "source": [
    "Tudo que fizemos aqui funciona para qualquer número de dimensões, vamos ver:"
   ]
  },
  {
   "cell_type": "code",
   "execution_count": 9,
   "metadata": {},
   "outputs": [
    {
     "data": {
      "text/plain": [
       "array([[10, 20],\n",
       "       [30, 40],\n",
       "       [50, 60]])"
      ]
     },
     "execution_count": 9,
     "metadata": {},
     "output_type": "execute_result"
    }
   ],
   "source": [
    "# Criando uma matriz\n",
    "b = np.array([[10, 20], \n",
    "              [30, 40], \n",
    "              [50, 60]])\n",
    "b"
   ]
  },
  {
   "cell_type": "code",
   "execution_count": 11,
   "metadata": {},
   "outputs": [
    {
     "name": "stdout",
     "output_type": "stream",
     "text": [
      "2\n",
      "(3, 2)\n"
     ]
    }
   ],
   "source": [
    "# Visualizando número de dimensões e shape\n",
    "print(b.ndim)\n",
    "print(b.shape) # 3 linhas e duas colunas"
   ]
  },
  {
   "cell_type": "code",
   "execution_count": 13,
   "metadata": {},
   "outputs": [
    {
     "data": {
      "text/plain": [
       "60"
      ]
     },
     "execution_count": 13,
     "metadata": {},
     "output_type": "execute_result"
    }
   ],
   "source": [
    "# Agora precisamos informar a posição em cada eixo para acessar elementos\n",
    "b[2, 1] # segue a ordem dos axis acima. Ex.: \"n[indice_linha, [indice_coluna)]\""
   ]
  },
  {
   "cell_type": "code",
   "execution_count": 14,
   "metadata": {},
   "outputs": [
    {
     "data": {
      "text/plain": [
       "array([[10, 20],\n",
       "       [23, 40],\n",
       "       [50, 60]])"
      ]
     },
     "execution_count": 14,
     "metadata": {},
     "output_type": "execute_result"
    }
   ],
   "source": [
    "# Também podemos mudar entradas\n",
    "b[1, 0] = 23 # atribuir 23 na posição 'b[linha 1, coluna 0]' \n",
    "b"
   ]
  },
  {
   "cell_type": "markdown",
   "metadata": {},
   "source": [
    "**Pergunta:** Qual o shape de uma imagem em tons de cinza de tamanho 200x200? E de uma imagem RGB do mesmo tamanho?\n",
    "\n",
    "![image.png](imgs/img_array.png)\n",
    "\n",
    "Resposta: \n",
    "\n",
    "Tons de cinza: [200, 200] --> 2D\n",
    "\n",
    "Imagem RGB: [200, 200, 3] --> 3D"
   ]
  },
  {
   "cell_type": "markdown",
   "metadata": {},
   "source": [
    "### Gerando arrays\n",
    "Até aqui criamos todos nossos arrays definindo valores na mão utilizando listas em Python. Porém o NumPy possui funções convenientes para criar novos arrays"
   ]
  },
  {
   "cell_type": "code",
   "execution_count": 15,
   "metadata": {},
   "outputs": [
    {
     "data": {
      "text/plain": [
       "array([[0., 0.],\n",
       "       [0., 0.]])"
      ]
     },
     "execution_count": 15,
     "metadata": {},
     "output_type": "execute_result"
    }
   ],
   "source": [
    "# Cria um array só com zeros com shape (2,2)\n",
    "a = np.zeros((2,2))\n",
    "a"
   ]
  },
  {
   "cell_type": "code",
   "execution_count": 16,
   "metadata": {},
   "outputs": [
    {
     "data": {
      "text/plain": [
       "array([[1., 1.],\n",
       "       [1., 1.]])"
      ]
     },
     "execution_count": 16,
     "metadata": {},
     "output_type": "execute_result"
    }
   ],
   "source": [
    "# Cria um array só com uns com shape (2,2)\n",
    "a = np.ones((2,2))\n",
    "a"
   ]
  },
  {
   "cell_type": "code",
   "execution_count": 17,
   "metadata": {},
   "outputs": [
    {
     "data": {
      "text/plain": [
       "array([[0.18706696, 0.69966808],\n",
       "       [0.85409971, 0.89492006],\n",
       "       [0.59771253, 0.29776138]])"
      ]
     },
     "execution_count": 17,
     "metadata": {},
     "output_type": "execute_result"
    }
   ],
   "source": [
    "# Cria um array de shape (3,2) com valores aleatórios\n",
    "a = np.random.random((3,2))\n",
    "a"
   ]
  },
  {
   "cell_type": "code",
   "execution_count": 21,
   "metadata": {},
   "outputs": [
    {
     "data": {
      "text/plain": [
       "array([[13, 15],\n",
       "       [15, 14],\n",
       "       [ 9, 18]])"
      ]
     },
     "execution_count": 21,
     "metadata": {},
     "output_type": "execute_result"
    }
   ],
   "source": [
    "# Cria um array com valores aleatorios inteiros (20 é o valor maxímo)\n",
    "a = np.random.randint(20, size=(3,2))\n",
    "a"
   ]
  },
  {
   "cell_type": "code",
   "execution_count": 24,
   "metadata": {},
   "outputs": [
    {
     "data": {
      "text/plain": [
       "array([0, 1, 2, 3, 4])"
      ]
     },
     "execution_count": 24,
     "metadata": {},
     "output_type": "execute_result"
    }
   ],
   "source": [
    "# Cria um vetor de 0 a 4\n",
    "a = np.arange(5)\n",
    "a"
   ]
  },
  {
   "cell_type": "markdown",
   "metadata": {},
   "source": [
    "Não temos tempo de ver todas as funções desse tipo que existem, tente dar uma olhada em `np.zeros_like`, `np.full`, `np.linspace`, entre outras."
   ]
  },
  {
   "cell_type": "markdown",
   "metadata": {},
   "source": [
    "### Operações matemáticas\n",
    "\n",
    "Até agora pode não ter ficado muito claro o motivo de estarmos usando arrays do NumPy ao invés de usar simplesmente listas nativas do Python. A vantagem está justamente nas várias operações suportadas por arrays. Vamos ver alguns exemplos"
   ]
  },
  {
   "cell_type": "code",
   "execution_count": 5,
   "metadata": {},
   "outputs": [
    {
     "data": {
      "text/plain": [
       "array([9, 6, 2, 2, 6])"
      ]
     },
     "execution_count": 5,
     "metadata": {},
     "output_type": "execute_result"
    }
   ],
   "source": [
    "# Vamos criar um vetor aleatorio que iremos utilizar\n",
    "a = np.random.randint(10, size=(5,)) # size '5,' siginifica que queremos um array de apenas uma dimensão\n",
    "a"
   ]
  },
  {
   "cell_type": "code",
   "execution_count": 6,
   "metadata": {},
   "outputs": [
    {
     "name": "stdout",
     "output_type": "stream",
     "text": [
      "[19 16 12 12 16]\n",
      "[ 5  2 -2 -2  2]\n",
      "[27 18  6  6 18]\n",
      "[4.5 3.  1.  1.  3. ]\n",
      "[81 36  4  4 36]\n",
      "[False False  True  True False]\n"
     ]
    }
   ],
   "source": [
    "# Podemos realizar varias operaçoes\n",
    "\n",
    "print(a + 10) # Soma\n",
    "\n",
    "print(a - 4) # Subtração\n",
    "\n",
    "print(a * 3) # Multiplicação\n",
    "\n",
    "print(a / 2) # Divisão\n",
    "\n",
    "print(a ** 2) # Exponenciação\n",
    "\n",
    "print(a < 5) # Comparação"
   ]
  },
  {
   "cell_type": "markdown",
   "metadata": {},
   "source": [
    "Também podemos realizar operações entre arrays"
   ]
  },
  {
   "cell_type": "code",
   "execution_count": 7,
   "metadata": {},
   "outputs": [
    {
     "name": "stdout",
     "output_type": "stream",
     "text": [
      "[1 4 2 4 7]\n",
      "[1 3 3 3 9]\n"
     ]
    }
   ],
   "source": [
    "# Vamos criar dois vetores aleatorios que iremos utilizar\n",
    "a = np.random.randint(10, size=(5,))\n",
    "b = np.random.randint(10, size=(5,))\n",
    "\n",
    "print(a)\n",
    "print(b)"
   ]
  },
  {
   "cell_type": "code",
   "execution_count": 8,
   "metadata": {},
   "outputs": [
    {
     "name": "stdout",
     "output_type": "stream",
     "text": [
      "[ 2  7  5  7 16]\n"
     ]
    }
   ],
   "source": [
    "# Podemos realizar soma (ou subtração) elemento a elemento\n",
    "print(a + b)"
   ]
  },
  {
   "cell_type": "code",
   "execution_count": 9,
   "metadata": {},
   "outputs": [
    {
     "name": "stdout",
     "output_type": "stream",
     "text": [
      "[ 1 12  6 12 63]\n"
     ]
    }
   ],
   "source": [
    "# Também podemos realizar multiplicação (ou divisão) elemento a elemento\n",
    "print(a * b)"
   ]
  },
  {
   "cell_type": "code",
   "execution_count": 10,
   "metadata": {},
   "outputs": [
    {
     "ename": "ValueError",
     "evalue": "operands could not be broadcast together with shapes (5,) (7,) ",
     "output_type": "error",
     "traceback": [
      "\u001b[1;31m---------------------------------------------------------------------------\u001b[0m",
      "\u001b[1;31mValueError\u001b[0m                                Traceback (most recent call last)",
      "\u001b[1;32m<ipython-input-10-bec352d051b3>\u001b[0m in \u001b[0;36m<module>\u001b[1;34m\u001b[0m\n\u001b[0;32m      1\u001b[0m \u001b[1;31m# Para isso é muito importante que os shapes sejam iguais\u001b[0m\u001b[1;33m\u001b[0m\u001b[1;33m\u001b[0m\u001b[1;33m\u001b[0m\u001b[0m\n\u001b[0;32m      2\u001b[0m \u001b[0mc\u001b[0m \u001b[1;33m=\u001b[0m \u001b[0mnp\u001b[0m\u001b[1;33m.\u001b[0m\u001b[0mrandom\u001b[0m\u001b[1;33m.\u001b[0m\u001b[0mrandint\u001b[0m\u001b[1;33m(\u001b[0m\u001b[1;36m10\u001b[0m\u001b[1;33m,\u001b[0m \u001b[0msize\u001b[0m\u001b[1;33m=\u001b[0m\u001b[1;33m(\u001b[0m\u001b[1;36m7\u001b[0m\u001b[1;33m,\u001b[0m\u001b[1;33m)\u001b[0m\u001b[1;33m)\u001b[0m\u001b[1;33m\u001b[0m\u001b[1;33m\u001b[0m\u001b[0m\n\u001b[1;32m----> 3\u001b[1;33m \u001b[0mprint\u001b[0m\u001b[1;33m(\u001b[0m\u001b[0ma\u001b[0m \u001b[1;33m+\u001b[0m \u001b[0mc\u001b[0m\u001b[1;33m)\u001b[0m\u001b[1;33m\u001b[0m\u001b[1;33m\u001b[0m\u001b[0m\n\u001b[0m",
      "\u001b[1;31mValueError\u001b[0m: operands could not be broadcast together with shapes (5,) (7,) "
     ]
    }
   ],
   "source": [
    "# Para isso é muito importante que os shapes sejam iguais\n",
    "c = np.random.randint(10, size=(7,))\n",
    "print(a + c)"
   ]
  },
  {
   "cell_type": "code",
   "execution_count": 12,
   "metadata": {},
   "outputs": [
    {
     "data": {
      "text/plain": [
       "94"
      ]
     },
     "execution_count": 12,
     "metadata": {},
     "output_type": "execute_result"
    }
   ],
   "source": [
    "# Também temos operações como o produto escalar entre os vetores\n",
    "np.dot(a, b) # soma todas as multiplicações. Ex.: [[a * b] + [c * d] + n]"
   ]
  },
  {
   "cell_type": "markdown",
   "metadata": {},
   "source": [
    "Lembre-se que tudo isso também vale para matrizes"
   ]
  },
  {
   "cell_type": "code",
   "execution_count": 13,
   "metadata": {},
   "outputs": [
    {
     "name": "stdout",
     "output_type": "stream",
     "text": [
      "[[9 6 9 7]\n",
      " [4 4 6 5]\n",
      " [5 7 1 1]]\n",
      "-----\n",
      "[[3 9 4 6]\n",
      " [0 3 4 6]\n",
      " [9 4 8 7]]\n"
     ]
    }
   ],
   "source": [
    "# Vamos criar duas matrizes aleatorias que iremos utilizar\n",
    "a = np.random.randint(10, size=(3,4))\n",
    "b = np.random.randint(10, size=(3,4))\n",
    "\n",
    "print(a)\n",
    "print('-----')\n",
    "print(b)"
   ]
  },
  {
   "cell_type": "code",
   "execution_count": 14,
   "metadata": {},
   "outputs": [
    {
     "name": "stdout",
     "output_type": "stream",
     "text": [
      "[[109 106 109 107]\n",
      " [104 104 106 105]\n",
      " [105 107 101 101]]\n",
      "-----\n",
      "[[27 18 27 21]\n",
      " [12 12 18 15]\n",
      " [15 21  3  3]]\n"
     ]
    }
   ],
   "source": [
    "# Operações com escalares\n",
    "print(a + 100)\n",
    "print('-----')\n",
    "print(a * 3)"
   ]
  },
  {
   "cell_type": "code",
   "execution_count": 15,
   "metadata": {},
   "outputs": [
    {
     "name": "stdout",
     "output_type": "stream",
     "text": [
      "[[12 15 13 13]\n",
      " [ 4  7 10 11]\n",
      " [14 11  9  8]]\n"
     ]
    }
   ],
   "source": [
    "# Somando matrizes elemento a elemento\n",
    "print(a + b)"
   ]
  },
  {
   "cell_type": "code",
   "execution_count": 17,
   "metadata": {},
   "outputs": [
    {
     "name": "stdout",
     "output_type": "stream",
     "text": [
      "[[3 0 9]\n",
      " [9 3 4]\n",
      " [4 4 8]\n",
      " [6 6 7]]\n"
     ]
    }
   ],
   "source": [
    "# Podemos transpor uma matriz\n",
    "print(b.T) # transpor é inverter a matriz (colunas viram linhas e linhas, colunas)"
   ]
  },
  {
   "cell_type": "code",
   "execution_count": 19,
   "metadata": {},
   "outputs": [
    {
     "name": "stdout",
     "output_type": "stream",
     "text": [
      "Shapes: (3, 4) (4, 2)\n",
      "[[205  96]\n",
      " [121  64]\n",
      " [ 92  36]]\n"
     ]
    }
   ],
   "source": [
    "# Podemos multiplicar matrizes\n",
    "# (com np.dot, np.multiply é multiplicação elemento a elemento)\n",
    "c = np.random.randint(10, size=(4, 2))\n",
    "print('Shapes:', a.shape, c.shape) # para mult. matrizes o núm. de colunas de uma deve ser igual ao núm. de linhas da outra\n",
    "print(np.dot(a, c))"
   ]
  },
  {
   "cell_type": "markdown",
   "metadata": {},
   "source": [
    "Podemos fazer operações entre vetores e matrizes. De forma geral isso é chamado de *broadcasting*, mas vamos nos limitar a um caso simples"
   ]
  },
  {
   "cell_type": "code",
   "execution_count": 20,
   "metadata": {},
   "outputs": [
    {
     "name": "stdout",
     "output_type": "stream",
     "text": [
      "[4 1 6 7]\n",
      "\n",
      "[[ 1 18  8 14]\n",
      " [14 16  0  7]\n",
      " [12  5  0  3]]\n"
     ]
    }
   ],
   "source": [
    "# Criando nosso vetor e nossa matriz\n",
    "a = np.random.randint(10, size=(4,))\n",
    "b = np.random.randint(20, size=(3,4))\n",
    "\n",
    "print(a)\n",
    "print() # Imprime linha em branco entre eles\n",
    "print(b)"
   ]
  },
  {
   "cell_type": "code",
   "execution_count": 21,
   "metadata": {},
   "outputs": [
    {
     "data": {
      "text/plain": [
       "array([[-3, 17,  2,  7],\n",
       "       [10, 15, -6,  0],\n",
       "       [ 8,  4, -6, -4]])"
      ]
     },
     "execution_count": 21,
     "metadata": {},
     "output_type": "execute_result"
    }
   ],
   "source": [
    "# Isso tem o efeito de subtrair cada linha da matriz pelo vetor\n",
    "b - a"
   ]
  },
  {
   "cell_type": "markdown",
   "metadata": {},
   "source": [
    "### Funções importantes"
   ]
  },
  {
   "cell_type": "markdown",
   "metadata": {},
   "source": [
    "#### Funções de agregação"
   ]
  },
  {
   "cell_type": "code",
   "execution_count": 22,
   "metadata": {},
   "outputs": [
    {
     "name": "stdout",
     "output_type": "stream",
     "text": [
      "[ 9  1 12  5  4]\n"
     ]
    }
   ],
   "source": [
    "# Vamos criar um vetor que iremos utilizar\n",
    "a = np.random.randint(20, size=(5,))\n",
    "print(a)"
   ]
  },
  {
   "cell_type": "code",
   "execution_count": 23,
   "metadata": {},
   "outputs": [
    {
     "data": {
      "text/plain": [
       "31"
      ]
     },
     "execution_count": 23,
     "metadata": {},
     "output_type": "execute_result"
    }
   ],
   "source": [
    "# Soma\n",
    "np.sum(a) # ou a.sum()"
   ]
  },
  {
   "cell_type": "code",
   "execution_count": 24,
   "metadata": {},
   "outputs": [
    {
     "data": {
      "text/plain": [
       "6.2"
      ]
     },
     "execution_count": 24,
     "metadata": {},
     "output_type": "execute_result"
    }
   ],
   "source": [
    "# Média\n",
    "np.mean(a) # ou a.mean()"
   ]
  },
  {
   "cell_type": "markdown",
   "metadata": {},
   "source": [
    "Temos várias outras como `np.median`, `np.std`, `np.max`, `np.min`,...\n",
    "\n",
    "Isso também funciona com matrizes normalmente, mas também temos a opção de agregar por eixo"
   ]
  },
  {
   "cell_type": "code",
   "execution_count": 25,
   "metadata": {},
   "outputs": [
    {
     "name": "stdout",
     "output_type": "stream",
     "text": [
      "[[0 0 7 6]\n",
      " [4 0 2 0]\n",
      " [2 1 1 8]]\n"
     ]
    }
   ],
   "source": [
    "# Vamos criar uma matriz que iremos utilizar\n",
    "a = np.random.randint(10, size=(3, 4)) # 3 linhas (axis 1) e 4 colunas (axis 10)\n",
    "print(a)"
   ]
  },
  {
   "cell_type": "code",
   "execution_count": 26,
   "metadata": {},
   "outputs": [
    {
     "data": {
      "text/plain": [
       "31"
      ]
     },
     "execution_count": 26,
     "metadata": {},
     "output_type": "execute_result"
    }
   ],
   "source": [
    "# Podemos somar toda a matriz\n",
    "np.sum(a)"
   ]
  },
  {
   "cell_type": "code",
   "execution_count": 27,
   "metadata": {},
   "outputs": [
    {
     "data": {
      "text/plain": [
       "array([13,  6, 12])"
      ]
     },
     "execution_count": 27,
     "metadata": {},
     "output_type": "execute_result"
    }
   ],
   "source": [
    "# Podemos somar as linhas\n",
    "np.sum(a, axis=1) # axis 0 são as colunas, axis 1 são as linhas"
   ]
  },
  {
   "cell_type": "code",
   "execution_count": 28,
   "metadata": {
    "scrolled": true
   },
   "outputs": [
    {
     "data": {
      "text/plain": [
       "array([ 6,  1, 10, 14])"
      ]
     },
     "execution_count": 28,
     "metadata": {},
     "output_type": "execute_result"
    }
   ],
   "source": [
    "# Podemos somar as colunas\n",
    "np.sum(a, axis=0)"
   ]
  },
  {
   "cell_type": "markdown",
   "metadata": {},
   "source": [
    "#### Reshape\n",
    "Essa é uma função que nos permite alterar a shape de arrays"
   ]
  },
  {
   "cell_type": "code",
   "execution_count": 29,
   "metadata": {},
   "outputs": [
    {
     "name": "stdout",
     "output_type": "stream",
     "text": [
      "[ 6 19 11 15  9  8 16 16  9 15 11  8  6 15  4 13  2 19]\n"
     ]
    }
   ],
   "source": [
    "# Vamos criar um vetor que iremos utilizar\n",
    "a = np.random.randint(20, size=(18,))\n",
    "print(a)"
   ]
  },
  {
   "cell_type": "code",
   "execution_count": 30,
   "metadata": {},
   "outputs": [
    {
     "data": {
      "text/plain": [
       "array([[ 6, 19],\n",
       "       [11, 15],\n",
       "       [ 9,  8],\n",
       "       [16, 16],\n",
       "       [ 9, 15],\n",
       "       [11,  8],\n",
       "       [ 6, 15],\n",
       "       [ 4, 13],\n",
       "       [ 2, 19]])"
      ]
     },
     "execution_count": 30,
     "metadata": {},
     "output_type": "execute_result"
    }
   ],
   "source": [
    "# Tranformar em matriz 9 por 2\n",
    "b = a.reshape(9, 2)\n",
    "b"
   ]
  },
  {
   "cell_type": "code",
   "execution_count": 31,
   "metadata": {},
   "outputs": [
    {
     "data": {
      "text/plain": [
       "array([[ 6, 19, 11, 15,  9,  8],\n",
       "       [16, 16,  9, 15, 11,  8],\n",
       "       [ 6, 15,  4, 13,  2, 19]])"
      ]
     },
     "execution_count": 31,
     "metadata": {},
     "output_type": "execute_result"
    }
   ],
   "source": [
    "# Tranformar em matriz 3 por 6\n",
    "c = a.reshape(3, 6)\n",
    "c"
   ]
  },
  {
   "cell_type": "code",
   "execution_count": 32,
   "metadata": {
    "scrolled": true
   },
   "outputs": [
    {
     "data": {
      "text/plain": [
       "array([[[ 6, 19, 11],\n",
       "        [15,  9,  8]],\n",
       "\n",
       "       [[16, 16,  9],\n",
       "        [15, 11,  8]],\n",
       "\n",
       "       [[ 6, 15,  4],\n",
       "        [13,  2, 19]]])"
      ]
     },
     "execution_count": 32,
     "metadata": {},
     "output_type": "execute_result"
    }
   ],
   "source": [
    "# Tranformar em tensor 3D 3 por 2 por 3\n",
    "d = a.reshape(3, 2, 3)\n",
    "d"
   ]
  },
  {
   "cell_type": "markdown",
   "metadata": {},
   "source": [
    "### Indexação"
   ]
  },
  {
   "cell_type": "markdown",
   "metadata": {},
   "source": [
    "#### Arrays 1D"
   ]
  },
  {
   "cell_type": "code",
   "execution_count": 33,
   "metadata": {},
   "outputs": [
    {
     "name": "stdout",
     "output_type": "stream",
     "text": [
      "[ 0  8  1 12 19  8 12  1  1  4]\n"
     ]
    }
   ],
   "source": [
    "# Vamos criar um vetor que iremos utilizar\n",
    "a = np.random.randint(20, size=(10,))\n",
    "print(a)"
   ]
  },
  {
   "cell_type": "code",
   "execution_count": 34,
   "metadata": {},
   "outputs": [
    {
     "name": "stdout",
     "output_type": "stream",
     "text": [
      "19\n",
      "[ 8 12  1]\n"
     ]
    }
   ],
   "source": [
    "# Como já vimos podemos indexar exatamente como no Python puro\n",
    "print(a[4])\n",
    "print(a[5:8])"
   ]
  },
  {
   "cell_type": "code",
   "execution_count": 37,
   "metadata": {},
   "outputs": [
    {
     "name": "stdout",
     "output_type": "stream",
     "text": [
      "[ 0  1 12]\n"
     ]
    }
   ],
   "source": [
    "# Podemos indexar usando um lista dos valores que queremos\n",
    "print(a[[0, 2, 3]]) # queremos pegar o indice 0, 2 e 3"
   ]
  },
  {
   "cell_type": "code",
   "execution_count": 38,
   "metadata": {
    "scrolled": true
   },
   "outputs": [
    {
     "name": "stdout",
     "output_type": "stream",
     "text": [
      "[ 8  8 12  1  4]\n"
     ]
    }
   ],
   "source": [
    "# Podemos também indexar usando valores booleanos\n",
    "print(a[[False, True, False, False, False, True, True, False, True, True]])"
   ]
  },
  {
   "cell_type": "code",
   "execution_count": 39,
   "metadata": {},
   "outputs": [
    {
     "name": "stdout",
     "output_type": "stream",
     "text": [
      "[False False False  True  True False  True False False False]\n",
      "[12 19 12]\n"
     ]
    }
   ],
   "source": [
    "# A indexação com booleanos é muito util combinado com comparação\n",
    "maior_que_10 = a > 10\n",
    "print(maior_que_10)\n",
    "b = a[maior_que_10]\n",
    "print(b)"
   ]
  },
  {
   "cell_type": "markdown",
   "metadata": {},
   "source": [
    "#### Arrays 2D"
   ]
  },
  {
   "cell_type": "code",
   "execution_count": 40,
   "metadata": {},
   "outputs": [
    {
     "name": "stdout",
     "output_type": "stream",
     "text": [
      "[[22 44 42 31 43  6]\n",
      " [30 19 20 34 25 45]\n",
      " [10 32 30 44 33 37]\n",
      " [40 14 26 46 24 44]]\n"
     ]
    }
   ],
   "source": [
    "a = np.random.randint(50, size=(4,6))\n",
    "print(a)"
   ]
  },
  {
   "cell_type": "code",
   "execution_count": 41,
   "metadata": {},
   "outputs": [
    {
     "name": "stdout",
     "output_type": "stream",
     "text": [
      "33\n"
     ]
    }
   ],
   "source": [
    "# Podemos acessar elementos unicos informando a posição em cada eixo\n",
    "print(a[2, 4]) # [linha_2, coluna_4]"
   ]
  },
  {
   "cell_type": "code",
   "execution_count": 42,
   "metadata": {
    "scrolled": false
   },
   "outputs": [
    {
     "name": "stdout",
     "output_type": "stream",
     "text": [
      "[[20 34 25]\n",
      " [30 44 33]]\n"
     ]
    }
   ],
   "source": [
    "# Podemos fatiar um pedaço da matriz fatiando em cada eixo\n",
    "print(a[1:3, 2: 5]) # linhas 1:3, colunas 2:5 -> pega as linhas 1 até 2 e as colunas 2 até 4"
   ]
  },
  {
   "cell_type": "code",
   "execution_count": 43,
   "metadata": {
    "scrolled": false
   },
   "outputs": [
    {
     "name": "stdout",
     "output_type": "stream",
     "text": [
      "[42 20 30 26]\n",
      "[30 19 20 34 25 45]\n",
      "[20 34]\n"
     ]
    }
   ],
   "source": [
    "# Utilizar : sozinho significa que queros todos os valores do eixo em questão\n",
    "print(a[:, 2]) # Todas linhas da coluna 2\n",
    "print(a[1, :]) # Todas as colunas da linha 1\n",
    "print(a[1, 2:4]) # Colunas 2 e 3 da linha 1 "
   ]
  },
  {
   "cell_type": "code",
   "execution_count": 46,
   "metadata": {},
   "outputs": [
    {
     "data": {
      "text/plain": [
       "array([[False,  True,  True,  True,  True, False],\n",
       "       [ True, False, False,  True, False,  True],\n",
       "       [False,  True,  True,  True,  True,  True],\n",
       "       [ True, False,  True,  True, False,  True]])"
      ]
     },
     "execution_count": 46,
     "metadata": {},
     "output_type": "execute_result"
    }
   ],
   "source": [
    "a > 25"
   ]
  },
  {
   "cell_type": "code",
   "execution_count": 47,
   "metadata": {},
   "outputs": [
    {
     "data": {
      "text/plain": [
       "array([44, 42, 31, 43, 30, 34, 45, 32, 30, 44, 33, 37, 40, 26, 46, 44])"
      ]
     },
     "execution_count": 47,
     "metadata": {},
     "output_type": "execute_result"
    }
   ],
   "source": [
    "# Podemos realizar a indexação por booleanos também (mas vira 1D)\n",
    "a[a > 25]"
   ]
  },
  {
   "cell_type": "markdown",
   "metadata": {},
   "source": [
    "Esses conceitos são totalmente iguais para qualquer número de dimensões.\n",
    "\n",
    "**Pergunta:** Como podemos extrair apenas o canal verde de uma imagem RGB?"
   ]
  },
  {
   "cell_type": "code",
   "execution_count": 48,
   "metadata": {},
   "outputs": [
    {
     "data": {
      "text/plain": [
       "(200, 200, 3)"
      ]
     },
     "execution_count": 48,
     "metadata": {},
     "output_type": "execute_result"
    }
   ],
   "source": [
    "img = np.zeros([200, 200, 3]) # 0=vermelho, 1=verde e 2=azul\n",
    "img.shape"
   ]
  },
  {
   "cell_type": "code",
   "execution_count": 49,
   "metadata": {},
   "outputs": [
    {
     "data": {
      "text/plain": [
       "array([[0., 0., 0., ..., 0., 0., 0.],\n",
       "       [0., 0., 0., ..., 0., 0., 0.],\n",
       "       [0., 0., 0., ..., 0., 0., 0.],\n",
       "       ...,\n",
       "       [0., 0., 0., ..., 0., 0., 0.],\n",
       "       [0., 0., 0., ..., 0., 0., 0.],\n",
       "       [0., 0., 0., ..., 0., 0., 0.]])"
      ]
     },
     "execution_count": 49,
     "metadata": {},
     "output_type": "execute_result"
    }
   ],
   "source": [
    "img[:, :, 1] # indexação para pegar extrair apenas o canal verde de uma imagem RGB"
   ]
  },
  {
   "cell_type": "markdown",
   "metadata": {},
   "source": [
    "### Velocidade"
   ]
  },
  {
   "cell_type": "code",
   "execution_count": 53,
   "metadata": {},
   "outputs": [
    {
     "data": {
      "text/plain": [
       "array([[   0,    1,    2, ..., 9997, 9998, 9999],\n",
       "       [   0,    1,    2, ..., 9997, 9998, 9999],\n",
       "       [   0,    1,    2, ..., 9997, 9998, 9999],\n",
       "       ...,\n",
       "       [   0,    1,    2, ..., 9997, 9998, 9999],\n",
       "       [   0,    1,    2, ..., 9997, 9998, 9999],\n",
       "       [   0,    1,    2, ..., 9997, 9998, 9999]])"
      ]
     },
     "execution_count": 53,
     "metadata": {},
     "output_type": "execute_result"
    }
   ],
   "source": [
    "a = [[j for j in range(10000)] for _ in range(1000)]\n",
    "b = np.array(a)\n",
    "\n",
    "b             "
   ]
  },
  {
   "cell_type": "code",
   "execution_count": 54,
   "metadata": {},
   "outputs": [
    {
     "name": "stdout",
     "output_type": "stream",
     "text": [
      "Wall time: 5.63 s\n"
     ]
    }
   ],
   "source": [
    "%%time\n",
    "for i in range(len(a)):          #indo para cada linha\n",
    "    for j in range(len(a[0])):   #indo para cada coluna\n",
    "        a[i][j] *= 10            #e multiplicando por dez"
   ]
  },
  {
   "cell_type": "code",
   "execution_count": 55,
   "metadata": {},
   "outputs": [
    {
     "name": "stdout",
     "output_type": "stream",
     "text": [
      "Wall time: 12 ms\n"
     ]
    }
   ],
   "source": [
    "%%time\n",
    "b *= 10"
   ]
  },
  {
   "cell_type": "code",
   "execution_count": null,
   "metadata": {},
   "outputs": [],
   "source": []
  }
 ],
 "metadata": {
  "kernelspec": {
   "display_name": "Python 3",
   "language": "python",
   "name": "python3"
  },
  "language_info": {
   "codemirror_mode": {
    "name": "ipython",
    "version": 3
   },
   "file_extension": ".py",
   "mimetype": "text/x-python",
   "name": "python",
   "nbconvert_exporter": "python",
   "pygments_lexer": "ipython3",
   "version": "3.6.7"
  }
 },
 "nbformat": 4,
 "nbformat_minor": 4
}

{
  "nbformat": 4,
  "nbformat_minor": 0,
  "metadata": {
    "kernelspec": {
      "display_name": "Python 3",
      "language": "python",
      "name": "python3"
    },
    "language_info": {
      "codemirror_mode": {
        "name": "ipython",
        "version": 3
      },
      "file_extension": ".py",
      "mimetype": "text/x-python",
      "name": "python",
      "nbconvert_exporter": "python",
      "pygments_lexer": "ipython3",
      "version": "3.7.6"
    },
    "colab": {
      "name": "aula03_homework_eda.ipynb",
      "provenance": [],
      "collapsed_sections": []
    }
  },
  "cells": [
    {
      "cell_type": "markdown",
      "metadata": {
        "_uuid": "66409c8728e75df39a1390bcb634ae50c6b37652",
        "collapsed": true,
        "id": "i3k5KmcXqad1"
      },
      "source": [
        "# <center>Aula 3 - Analise exploratoria de dados - Solucao\n",
        "## <center>Análise de doenças cardiovasculares\n",
        "*Adaptado e traduzido do [ML Course](https://mlcourse.ai/)*"
      ]
    },
    {
      "cell_type": "markdown",
      "metadata": {
        "_uuid": "5cea59b8adb04c5a07a32c5b70a829319ba0cf2a",
        "id": "l-IuDb3kqaeB"
      },
      "source": [
        "Nesta tarefa, você responderá a perguntas sobre um conjunto de dados sobre doenças cardiovasculares. Existem algumas tarefas que exigem que você escreva código. Conclua-as e responda às perguntas no <span style=\"color:blue\">Google Forms</span>. \n",
        "\n",
        "#### Problema\n",
        "\n",
        "Preveja a presença ou ausência de doença cardiovascular (DCV) usando os resultados do exame do paciente.\n",
        "\n",
        "#### Descrição\n",
        "\n",
        "Existem 3 tipos de *features* de entrada:\n",
        "\n",
        "- *Objetivo*: informação factual;\n",
        "- *Exame*: resultado de exame médico;\n",
        "- *Subjetivo*: informações fornecidas pelo paciente.\n",
        "\n",
        "| Feature | Tipo da feature | Variavel      | Tipo da variável |\n",
        "|---------|--------------|---------------|------------|\n",
        "| Idade | Objetivo | age | int (days) |\n",
        "| Altura | Objetivo | height | int (cm) |\n",
        "| Peso | Objetivo | weight | float (kg) |\n",
        "| Gênero | Objetivo | gender | categorical code |\n",
        "| Pressão arterial sistólica | Exame | ap_hi | int |\n",
        "| Pressão sanguínea diastólica | Exame | ap_lo | int |\n",
        "| Colesterol | Exame | cholesterol | 1: normal, 2: above normal, 3: well above normal |\n",
        "| Glicose | Exame | gluc | 1: normal, 2: above normal, 3: well above normal |\n",
        "| Fumante | Subjetivo | smoke | binary |\n",
        "| Ingestão alcoólica | Subjetivo | alco | binary |\n",
        "| Atividade física | Subjetivo | active | binary |\n",
        "| Presença ou ausência de doença cardiovascular | Target | cardio | binary |\n",
        "\n",
        "Todos os valores do conjunto de dados foram coletados no momento do exame médico."
      ]
    },
    {
      "cell_type": "markdown",
      "metadata": {
        "_uuid": "10749a7f9b46749e3a90ff697bc298760045c333",
        "id": "Wl2dGS6AqaeC"
      },
      "source": [
        "Vamos conhecer nossos dados realizando uma análise preliminar dos dados.\n",
        "\n",
        "# Parte 1. Análise preliminar de dados\n",
        "\n",
        "Primeiro, inicializaremos o ambiente:"
      ]
    },
    {
      "cell_type": "code",
      "metadata": {
        "_uuid": "85426734e890fcf72416f29a953da115c1171080",
        "id": "IavIdLAKqaeC"
      },
      "source": [
        "# Importando bibliotecas necessarias para a execucao do codigo\n",
        "import pandas as pd\n",
        "import numpy as np\n",
        "\n",
        "# Nao vamos nos preocupar com warnings nesse exercicio,\n",
        "# entao vamos desabilita-los :-)\n",
        "import warnings\n",
        "warnings.filterwarnings(\"ignore\")\n",
        "\n",
        "# Bibliotecas de visualizacao\n",
        "import seaborn as sns\n",
        "sns.set()\n",
        "import matplotlib\n",
        "import matplotlib.pyplot as plt\n",
        "import matplotlib.ticker\n",
        "%matplotlib inline"
      ],
      "execution_count": null,
      "outputs": []
    },
    {
      "cell_type": "markdown",
      "metadata": {
        "_uuid": "cbcf821e4bea8a7f7fb1ee4a9bf285b6c4b588ee",
        "id": "j9Yw2rXGqaeD"
      },
      "source": [
        "Você usará a biblioteca `seaborn` para visualização de dados, então vamos configurá-la também:"
      ]
    },
    {
      "cell_type": "code",
      "metadata": {
        "_uuid": "b33601a0cadc2fb2d92f211c31bf99a502f71d48",
        "id": "GAn4XBZdqaeD"
      },
      "source": [
        "# Geralmente, e necessario configurar as bibliotecas de visualizacao\n",
        "# antes de usa-las para garantir bons plots\n",
        "sns.set_context(\n",
        "    \"notebook\", \n",
        "    font_scale=1.5,       \n",
        "    rc={ \n",
        "        \"figure.figsize\": (11, 8), \n",
        "        \"axes.titlesize\": 18 \n",
        "    }\n",
        ")\n",
        "\n",
        "from matplotlib import rcParams\n",
        "rcParams['figure.figsize'] = 11, 8"
      ],
      "execution_count": null,
      "outputs": []
    },
    {
      "cell_type": "code",
      "metadata": {
        "_uuid": "2bd0005e660693a061577ca5244b48ccebf36719",
        "id": "Fmb7irfHqaeE",
        "outputId": "a9945e7d-3e61-44ac-efc7-b5fc366141b1"
      },
      "source": [
        "df = pd.read_csv('./heart_disease.csv')\n",
        "print('Dataset size: ', df.shape)\n",
        "df.head()"
      ],
      "execution_count": null,
      "outputs": [
        {
          "output_type": "stream",
          "text": [
            "Dataset size:  (70000, 13)\n"
          ],
          "name": "stdout"
        },
        {
          "output_type": "execute_result",
          "data": {
            "text/html": [
              "<div>\n",
              "<style scoped>\n",
              "    .dataframe tbody tr th:only-of-type {\n",
              "        vertical-align: middle;\n",
              "    }\n",
              "\n",
              "    .dataframe tbody tr th {\n",
              "        vertical-align: top;\n",
              "    }\n",
              "\n",
              "    .dataframe thead th {\n",
              "        text-align: right;\n",
              "    }\n",
              "</style>\n",
              "<table border=\"1\" class=\"dataframe\">\n",
              "  <thead>\n",
              "    <tr style=\"text-align: right;\">\n",
              "      <th></th>\n",
              "      <th>id</th>\n",
              "      <th>age</th>\n",
              "      <th>gender</th>\n",
              "      <th>height</th>\n",
              "      <th>weight</th>\n",
              "      <th>ap_hi</th>\n",
              "      <th>ap_lo</th>\n",
              "      <th>cholesterol</th>\n",
              "      <th>gluc</th>\n",
              "      <th>smoke</th>\n",
              "      <th>alco</th>\n",
              "      <th>active</th>\n",
              "      <th>cardio</th>\n",
              "    </tr>\n",
              "  </thead>\n",
              "  <tbody>\n",
              "    <tr>\n",
              "      <th>0</th>\n",
              "      <td>0</td>\n",
              "      <td>18393</td>\n",
              "      <td>2</td>\n",
              "      <td>168</td>\n",
              "      <td>62.0</td>\n",
              "      <td>110</td>\n",
              "      <td>80</td>\n",
              "      <td>1</td>\n",
              "      <td>1</td>\n",
              "      <td>0</td>\n",
              "      <td>0</td>\n",
              "      <td>1</td>\n",
              "      <td>0</td>\n",
              "    </tr>\n",
              "    <tr>\n",
              "      <th>1</th>\n",
              "      <td>1</td>\n",
              "      <td>20228</td>\n",
              "      <td>1</td>\n",
              "      <td>156</td>\n",
              "      <td>85.0</td>\n",
              "      <td>140</td>\n",
              "      <td>90</td>\n",
              "      <td>3</td>\n",
              "      <td>1</td>\n",
              "      <td>0</td>\n",
              "      <td>0</td>\n",
              "      <td>1</td>\n",
              "      <td>1</td>\n",
              "    </tr>\n",
              "    <tr>\n",
              "      <th>2</th>\n",
              "      <td>2</td>\n",
              "      <td>18857</td>\n",
              "      <td>1</td>\n",
              "      <td>165</td>\n",
              "      <td>64.0</td>\n",
              "      <td>130</td>\n",
              "      <td>70</td>\n",
              "      <td>3</td>\n",
              "      <td>1</td>\n",
              "      <td>0</td>\n",
              "      <td>0</td>\n",
              "      <td>0</td>\n",
              "      <td>1</td>\n",
              "    </tr>\n",
              "    <tr>\n",
              "      <th>3</th>\n",
              "      <td>3</td>\n",
              "      <td>17623</td>\n",
              "      <td>2</td>\n",
              "      <td>169</td>\n",
              "      <td>82.0</td>\n",
              "      <td>150</td>\n",
              "      <td>100</td>\n",
              "      <td>1</td>\n",
              "      <td>1</td>\n",
              "      <td>0</td>\n",
              "      <td>0</td>\n",
              "      <td>1</td>\n",
              "      <td>1</td>\n",
              "    </tr>\n",
              "    <tr>\n",
              "      <th>4</th>\n",
              "      <td>4</td>\n",
              "      <td>17474</td>\n",
              "      <td>1</td>\n",
              "      <td>156</td>\n",
              "      <td>56.0</td>\n",
              "      <td>100</td>\n",
              "      <td>60</td>\n",
              "      <td>1</td>\n",
              "      <td>1</td>\n",
              "      <td>0</td>\n",
              "      <td>0</td>\n",
              "      <td>0</td>\n",
              "      <td>0</td>\n",
              "    </tr>\n",
              "  </tbody>\n",
              "</table>\n",
              "</div>"
            ],
            "text/plain": [
              "   id    age  gender  height  weight  ap_hi  ap_lo  cholesterol  gluc  smoke  \\\n",
              "0   0  18393       2     168    62.0    110     80            1     1      0   \n",
              "1   1  20228       1     156    85.0    140     90            3     1      0   \n",
              "2   2  18857       1     165    64.0    130     70            3     1      0   \n",
              "3   3  17623       2     169    82.0    150    100            1     1      0   \n",
              "4   4  17474       1     156    56.0    100     60            1     1      0   \n",
              "\n",
              "   alco  active  cardio  \n",
              "0     0       1       0  \n",
              "1     0       1       1  \n",
              "2     0       0       1  \n",
              "3     0       1       1  \n",
              "4     0       0       0  "
            ]
          },
          "metadata": {
            "tags": []
          },
          "execution_count": 14
        }
      ]
    },
    {
      "cell_type": "markdown",
      "metadata": {
        "_uuid": "636bf459023fbc1d1f1b73863c5246397dc26e6d",
        "id": "OZwhEiwSqaeF"
      },
      "source": [
        "Vamos examinar os valores das variáveis 'gender','cholesterol', 'gluc', 'smoke', 'alco', 'active', 'cardio'.\n",
        " \n",
        "Vamos converter os dados no formato *long* e descrever as contagens de valor dos recursos categóricos usando [`factorplot()`](https://seaborn.pydata.org/generated/seaborn.factorplot.html)."
      ]
    },
    {
      "cell_type": "code",
      "metadata": {
        "_uuid": "334ad6a83e7bb58f2c65ec512bfc401a0948c17a",
        "id": "i75HI-XMqaeF",
        "outputId": "d07b71c2-31f7-4b88-a0eb-a7478076a29d"
      },
      "source": [
        "df_uniques = pd.melt(frame=df, value_vars=['gender','cholesterol', \n",
        "                                           'gluc', 'smoke', 'alco', \n",
        "                                           'active', 'cardio'])\n",
        "df_uniques = pd.DataFrame(df_uniques.groupby(['variable', \n",
        "                                              'value'])['value'].count()) \\\n",
        "    .sort_index(level=[0, 1]) \\\n",
        "    .rename(columns={'value': 'count'}) \\\n",
        "    .reset_index()\n",
        "\n",
        "sns.factorplot(x='variable', y='count', hue='value', \n",
        "               data=df_uniques, kind='bar', size=12);"
      ],
      "execution_count": null,
      "outputs": [
        {
          "output_type": "display_data",
          "data": {
            "image/png": "[encoded data removed]",
            "text/plain": [
              "<Figure size 933.9x864 with 1 Axes>"
            ]
          },
          "metadata": {
            "tags": [],
            "needs_background": "light"
          }
        }
      ]
    },
    {
      "cell_type": "markdown",
      "metadata": {
        "_uuid": "cb94ec9ddf78c607cdec5536581b8ec4004ac16b",
        "collapsed": true,
        "id": "RQd1jCS8qaeG"
      },
      "source": [
        "Podemos ver que as classes de destino estão equilibradas. Isso é ótimo!\n",
        "\n",
        "Vamos dividir o conjunto de dados pelos valores do *target*. Você já consegue identificar a *feature* mais discriminativa apenas olhando para o gráfico?"
      ]
    },
    {
      "cell_type": "code",
      "metadata": {
        "_uuid": "a712d76f8c11588a9aebd4be6a00f01c53a8d80a",
        "id": "_dfVEJfVqaeG",
        "outputId": "29fc85e2-59aa-471c-b913-7fc7d78c9e5f"
      },
      "source": [
        "df_uniques = pd.melt(frame=df, value_vars=['gender','cholesterol', \n",
        "                                           'gluc', 'smoke', 'alco', \n",
        "                                           'active'], \n",
        "                     id_vars=['cardio'])\n",
        "df_uniques = pd.DataFrame(df_uniques.groupby(['variable', 'value', \n",
        "                                              'cardio'])['value'].count()) \\\n",
        "    .sort_index(level=[0, 1]) \\\n",
        "    .rename(columns={'value': 'count'}) \\\n",
        "    .reset_index()\n",
        "\n",
        "sns.factorplot(x='variable', y='count', hue='value', \n",
        "               col='cardio', data=df_uniques, kind='bar', size=9);"
      ],
      "execution_count": null,
      "outputs": [
        {
          "output_type": "display_data",
          "data": {
            "image/png": "[encoded data removed]",
            "text/plain": [
              "<Figure size 1365.9x648 with 2 Axes>"
            ]
          },
          "metadata": {
            "tags": [],
            "needs_background": "light"
          }
        }
      ]
    },
    {
      "cell_type": "markdown",
      "metadata": {
        "_uuid": "4f4fdb7b979c6594b3060a0b80473fabbdf6acd0",
        "id": "ZUjHK0ZCqaeG"
      },
      "source": [
        "Você pode ver que a distribuição dos níveis de colesterol e glicose difere muito pelo valor do *target*. Isso é uma coincidência?\n",
        "\n",
        "Agora, vamos calcular algumas estatísticas para os valores únicos de cada *feature*:"
      ]
    },
    {
      "cell_type": "code",
      "metadata": {
        "_uuid": "e9cbba719f93f6b544567638be7332b7385fc715",
        "id": "XEOz9O4jqaeH",
        "outputId": "f16edf9c-6feb-407a-8468-a3d093112b06"
      },
      "source": [
        "for c in df.columns:\n",
        "    n = df[c].nunique() # Numero de valores unicos por feature\n",
        "    print(c)\n",
        "    if n <= 3: # Se tivermos poucos valores unicos na feature, vamos exibi-los\n",
        "        print(n, sorted(df[c].value_counts().to_dict().items()))\n",
        "    else:\n",
        "        print(n)\n",
        "    print(10 * '-')"
      ],
      "execution_count": null,
      "outputs": [
        {
          "output_type": "stream",
          "text": [
            "id\n",
            "70000\n",
            "----------\n",
            "age\n",
            "8076\n",
            "----------\n",
            "gender\n",
            "2 [(1, 45530), (2, 24470)]\n",
            "----------\n",
            "height\n",
            "109\n",
            "----------\n",
            "weight\n",
            "287\n",
            "----------\n",
            "ap_hi\n",
            "153\n",
            "----------\n",
            "ap_lo\n",
            "157\n",
            "----------\n",
            "cholesterol\n",
            "3 [(1, 52385), (2, 9549), (3, 8066)]\n",
            "----------\n",
            "gluc\n",
            "3 [(1, 59479), (2, 5190), (3, 5331)]\n",
            "----------\n",
            "smoke\n",
            "2 [(0, 63831), (1, 6169)]\n",
            "----------\n",
            "alco\n",
            "2 [(0, 66236), (1, 3764)]\n",
            "----------\n",
            "active\n",
            "2 [(0, 13739), (1, 56261)]\n",
            "----------\n",
            "cardio\n",
            "2 [(0, 35021), (1, 34979)]\n",
            "----------\n"
          ],
          "name": "stdout"
        }
      ]
    },
    {
      "cell_type": "markdown",
      "metadata": {
        "_uuid": "53507160b237077bf8b19fb987b910669c04ba8b",
        "id": "RGO_weBQqaeH"
      },
      "source": [
        "No final, temos:\n",
        "- 5 *features* numéricas (excluindo *id*);\n",
        "- 7 *features* categóricas;\n",
        "- 70000 instâncias no total."
      ]
    },
    {
      "cell_type": "markdown",
      "metadata": {
        "id": "NHZI4RTFqaeH"
      },
      "source": [
        "**Importante**: Como mencionado em aula, é importante se questionar sempre dentro do processo de EDA. Dê uma olhada com calma nas *features* e verifique se você realmente consegue enxergar quais são as 5 features numéricas e as 7 features categóricas :)"
      ]
    },
    {
      "cell_type": "markdown",
      "metadata": {
        "_uuid": "5f9dc83567c83c1ab2eeb4b855d3f8460c1a735e",
        "id": "y4aiRZ-wqaeI"
      },
      "source": [
        "## 1.1. Observações básicas"
      ]
    },
    {
      "cell_type": "markdown",
      "metadata": {
        "_uuid": "129e6509399146154e8c7e293a2fd11f5d267fa4",
        "id": "xdFDxEQBqaeI"
      },
      "source": [
        "**Questão 1.1. Quantos homens e mulheres estão presentes neste conjunto de dados? Os valores da característica `gender` não foram fornecidos (se \"1\" significa mulheres ou homens) - descubra isso observando a altura, fazendo a suposição de que os homens são mais altos em média.**\n",
        "1. 45530 mulheres e 24470 homens\n",
        "2. 45530 homens e 24470 mulheres\n",
        "3. 45470 mulheres e 24530 homens\n",
        "4. 45470 homens e 24530 mulheres"
      ]
    },
    {
      "cell_type": "code",
      "metadata": {
        "id": "889Fo57LqaeI"
      },
      "source": [
        "# Seu codigo aqui..."
      ],
      "execution_count": null,
      "outputs": []
    },
    {
      "cell_type": "markdown",
      "metadata": {
        "_uuid": "d6b36cf91cd63fcce92c4177475820bd6b94ec89",
        "id": "-Y68u4fIqaeI"
      },
      "source": [
        "**Questão 1.2. Qual gênero relata com mais frequência o consumo de álcool - homens ou mulheres?**\n",
        "1. mulheres\n",
        "2. homens"
      ]
    },
    {
      "cell_type": "code",
      "metadata": {
        "id": "4QZoVJSTqaeJ"
      },
      "source": [
        "# Seu codigo aqui..."
      ],
      "execution_count": null,
      "outputs": []
    },
    {
      "cell_type": "markdown",
      "metadata": {
        "_uuid": "8b98389e26edd01374d6217d8dd1e2d5ffff9d1c",
        "id": "AjMbitYVqaeJ"
      },
      "source": [
        "**Questão 1.3. Qual é a diferença entre as porcentagens de fumantes entre homens e mulheres (arredondado)?**\n",
        "1. 4\n",
        "2. 16\n",
        "3. 20\n",
        "4. 24"
      ]
    },
    {
      "cell_type": "code",
      "metadata": {
        "id": "YvMio6ovqaeJ"
      },
      "source": [
        "# Seu codigo aqui..."
      ],
      "execution_count": null,
      "outputs": []
    },
    {
      "cell_type": "markdown",
      "metadata": {
        "_uuid": "c92554c5fe98a07b298cec98eaa2622a3bedbeeb",
        "id": "qWQ6_v9aqaeJ"
      },
      "source": [
        "**Questão 1.4. Qual é a diferença entre os valores das medianas de idade para fumantes e não fumantes (em meses, arredondado)? Você precisará descobrir as unidades do recurso `age` neste conjunto de dados.**\n",
        "\n",
        "1. 5\n",
        "2. 10\n",
        "3. 15\n",
        "4. 20"
      ]
    },
    {
      "cell_type": "code",
      "metadata": {
        "id": "9tfg6J_XqaeJ"
      },
      "source": [
        "# Seu codigo aqui..."
      ],
      "execution_count": null,
      "outputs": []
    },
    {
      "cell_type": "markdown",
      "metadata": {
        "_uuid": "54cef692e0af3745091c7177d63a2d6c36044474",
        "id": "dH2ztbySqaeK"
      },
      "source": [
        "## 1.2. Analisando IMC\n",
        "### Task:"
      ]
    },
    {
      "cell_type": "markdown",
      "metadata": {
        "_uuid": "c52b4b1c20956e3cc420bb13e7bb12d80aa3ef1a",
        "id": "_DVcy-ZDqaeK"
      },
      "source": [
        "Crie uma nova feature – IMC ([Índice de Massa Corporal](https://en.wikipedia.org/wiki/Body_mass_index)). Para fazer isso, divida o peso em quilogramas pelo quadrado da altura em metros. Valores normais de IMC são considerados de 18,5 a 25."
      ]
    },
    {
      "cell_type": "code",
      "metadata": {
        "_uuid": "5b3134f2597650ae95d0196393b30797518f0498",
        "id": "xgEG_aAmqaeK"
      },
      "source": [
        "# Seu codigo aqui..."
      ],
      "execution_count": null,
      "outputs": []
    },
    {
      "cell_type": "markdown",
      "metadata": {
        "_uuid": "1c2baed24cc5b3abb94b5c6c09d571f29b39213b",
        "id": "Lgx2CrQcqaeK"
      },
      "source": [
        "**Questão 1.5. Escolha as afirmações corretas:**\n",
        "\n",
        "1. A mediana do IMC da amostra está dentro da faixa dos valores normais de IMC.\n",
        "2. O IMC das mulheres é, em média, superior ao dos homens.\n",
        "3. Pessoas saudáveis têm, em média, um IMC mais alto do que pessoas com DCV.\n",
        "4. Para homens saudáveis que não bebem, o IMC está mais próximo da norma do que para mulheres saudáveis que não bebem"
      ]
    },
    {
      "cell_type": "code",
      "metadata": {
        "_uuid": "5b3134f2597650ae95d0196393b30797518f0498",
        "id": "brHounjfqaeK"
      },
      "source": [
        "# Seu codigo aqui..."
      ],
      "execution_count": null,
      "outputs": []
    },
    {
      "cell_type": "markdown",
      "metadata": {
        "_uuid": "2e059032eee1d57c896e24a98b659a5ab16144fd",
        "id": "ZdBJbOd8qaeL"
      },
      "source": [
        "## 1.3. Limpeza dos dados"
      ]
    },
    {
      "cell_type": "markdown",
      "metadata": {
        "_uuid": "26ccfbcb212c3631b4941a294906c027b974301a",
        "id": "NMzS7OaIqaeL"
      },
      "source": [
        "### Tarefa:\n",
        "Podemos ver que os dados não são perfeitos. Eles contém \"sujeira\" e imprecisões. Veremos isso melhor à medida que visualizamos os dados.\n",
        "\n",
        "Filtre os seguintes segmentos de pacientes (consideramos esses dados errados)\n",
        "\n",
        "- a pressão diastólica é maior do que a sistólica\n",
        "- a altura é estritamente menor que 2,5% percentil (Use `pd.Series.quantile` para calcular este valor. Se você não estiver familiarizado com a função, leia a documentação.)\n",
        "- a altura é estritamente maior que o percentil 97,5%\n",
        "- o peso é estritamente inferior a 2,5% percentil\n",
        "- o peso é estritamente superior a 97,5% percentil\n",
        "\n",
        "Isso não é tudo que podemos fazer para limpar esses dados, mas isso é suficiente por enquanto."
      ]
    },
    {
      "cell_type": "code",
      "metadata": {
        "_uuid": "483fd26f0aff141810dcb084095c380acafbfbdd",
        "id": "-r8xuW6KqaeL"
      },
      "source": [
        "# Seu codigo aqui..."
      ],
      "execution_count": null,
      "outputs": []
    },
    {
      "cell_type": "markdown",
      "metadata": {
        "_uuid": "f807adaa6459d1c75d202bb973831369d6eeb20e",
        "id": "MrCi1Ae1qaeM"
      },
      "source": [
        "**Questão 1.6. Qual porcentagem dos dados originais (arredondados) nós jogamos fora?**\n",
        "\n",
        "1. 8\n",
        "2. 9\n",
        "3. 10\n",
        "4. 11"
      ]
    },
    {
      "cell_type": "code",
      "metadata": {
        "_uuid": "483fd26f0aff141810dcb084095c380acafbfbdd",
        "id": "7uRXAg1LqaeM"
      },
      "source": [
        "# Seu codigo aqui..."
      ],
      "execution_count": null,
      "outputs": []
    },
    {
      "cell_type": "markdown",
      "metadata": {
        "_uuid": "a9f14b459f71ac2304e73145fc199a90131965e7",
        "id": "vTzJywL-qaeM"
      },
      "source": [
        "# Parte 2. Análise de dados visuais\n",
        "\n",
        "## 2.1. Visualização da matriz de correlação\n",
        "\n",
        "Para entender melhor as features, você pode criar uma matriz de correlação entre as features. Use o dataset inicial (não filtrado) para a tarefa.\n",
        "\n",
        "### Task:\n",
        "\n",
        "Trace uma matriz de correlação usando [`heatmap ()`](http://seaborn.pydata.org/generated/seaborn.heatmap.html). Você pode criar a matriz usando as ferramentas padrão do `pandas` com os parâmetros default."
      ]
    },
    {
      "cell_type": "code",
      "metadata": {
        "_uuid": "a9c19a7bf2dd564b484e8269886340c13967fede",
        "id": "ZTbJvfUEqaeM"
      },
      "source": [
        "# Seu codigo aqui..."
      ],
      "execution_count": null,
      "outputs": []
    },
    {
      "cell_type": "markdown",
      "metadata": {
        "_uuid": "987ff630db004c51cc9e89e0c6cf6d14d619c4c0",
        "id": "xKjGNogjqaeN"
      },
      "source": [
        "**Questão 2.1.** Qual par de features tem a correlação de Pearson mais forte com a feature *gender*?\n",
        "\n",
        "1. Cardio, Cholesterol\n",
        "2. Height, Smoke\n",
        "3. Smoke, Alco\n",
        "4. Height, Weight"
      ]
    },
    {
      "cell_type": "markdown",
      "metadata": {
        "id": "l5VJXF-wqaeN"
      },
      "source": [
        "## 2.2. Correlação de classificação\n",
        "\n",
        "Na maioria dos casos, *o coeficiente de correlação linear de Pearson* é mais do que suficiente para descobrir padrões nos dados.\n",
        "Mas vamos um pouco mais além e calcular uma [correlação de rank](https://en.wikipedia.org/wiki/Rank_correlation). Isso nos ajudará a identificar esses pares de features em que o rank inferior na progressão de valores de uma feature sempre precede o rank superior na outra (e temos o oposto no caso de correlação negativa).\n",
        "\n",
        "### Task:\n",
        "\n",
        "Calcule e plote uma matriz de correlação usando o [coeficiente de correlação de classificação de Spearman](https://en.wikipedia.org/wiki/Spearman%27s_rank_correlation_coefficient)."
      ]
    },
    {
      "cell_type": "code",
      "metadata": {
        "id": "1ObLjdK4qaeN"
      },
      "source": [
        "# Seu código"
      ],
      "execution_count": null,
      "outputs": []
    },
    {
      "cell_type": "markdown",
      "metadata": {
        "_uuid": "2282d0651afdbe69cdb68b266e509f20a865a63f",
        "id": "JAgZMkh4qaeO"
      },
      "source": [
        "**Questão 2.2.** Por que algumas dessas features agora têm um alto coeficiente de Spearman?\n",
        "\n",
        "1. Imprecisões nos dados (erros de aquisição de dados).\n",
        "2. A relação está errada, essas *features* não devem ser relacionados.\n",
        "3. Natureza monotônica, mas não necessariamente linear, dos dados."
      ]
    },
    {
      "cell_type": "markdown",
      "metadata": {
        "_uuid": "25b4b303156fd6f9178c9b23fba4ff3f220a5977",
        "id": "kxpdjuptqaeO"
      },
      "source": [
        "## 2.3. Idade\n",
        "\n",
        "Anteriormente, calculávamos a idade dos respondentes em anos no momento do exame."
      ]
    },
    {
      "cell_type": "markdown",
      "metadata": {
        "_uuid": "d48bb97cba3968e7f73c790226278f6fa818871b",
        "id": "Gsr96s51qaeP"
      },
      "source": [
        "### Task:\n",
        "\n",
        "Crie um *gráfico de frequência* da feature *age_years* usando [`countplot ()`](http://seaborn.pydata.org/generated/seaborn.countplot.html) com a idade no eixo *X* e o número de pessoas no *Eixo Y*. Seu gráfico resultante deve ter duas colunas para cada idade, correspondendo ao número de pessoas para cada classe de *cardio* daquela idade."
      ]
    },
    {
      "cell_type": "code",
      "metadata": {
        "_uuid": "fd07f3aab9891fd86228d5880a7a38cc88b282ba",
        "id": "f-Z0mqIqqaeP"
      },
      "source": [
        "df['age_years'] = (df['age'] / 365.25).round().astype('int')\n",
        "\n",
        "# Seu código aqui"
      ],
      "execution_count": null,
      "outputs": []
    },
    {
      "cell_type": "markdown",
      "metadata": {
        "_uuid": "49557c7bd46d729c27aa8190df65cc25e45e7528",
        "id": "ZzmHBpZTqaeQ"
      },
      "source": [
        "**Questão 2.3.** Qual é a menor idade em que o número de pessoas com DCV supera o número de pessoas sem DCV?\n",
        "\n",
        "1. 44\n",
        "2. 55\n",
        "3. 64\n",
        "4. 70"
      ]
    }
  ]
}
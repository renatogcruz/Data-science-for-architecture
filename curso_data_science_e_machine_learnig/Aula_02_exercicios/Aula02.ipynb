{
 "cells": [
  {
   "cell_type": "markdown",
   "metadata": {},
   "source": [
    "# Introdução à Data Science e Machine Learning - Data ICMC-USP\n",
    "\n",
    "## Prática Aula 02 - Clustering\n",
    "\n",
    "Esse material foi desenvolvido pelo **Data**, grupo de extensão de aprendizado e ciência de dados compostos por alunos do Instituto de Ciências Matemáticas e de Computação da USP\n",
    "\n",
    "Para saber mais sobre as atividades do Data entre no nosso site e nos siga e nossas redes sociais:\n",
    "- [Site](http://data.icmc.usp.br/)\n",
    "- [Twitter](https://twitter.com/data_icmc)\n",
    "- [LinkedIn](https://www.linkedin.com/school/data-icmc/)\n",
    "- [Facebook](https://www.facebook.com/dataICMC/)\n",
    "\n",
    "Aproveite o material!"
   ]
  },
  {
   "cell_type": "code",
   "execution_count": null,
   "metadata": {},
   "outputs": [],
   "source": [
    "import numpy as np\n",
    "import matplotlib.pyplot as plt\n",
    "from sklearn.cluster import KMeans"
   ]
  },
  {
   "cell_type": "markdown",
   "metadata": {},
   "source": [
    "## Compressão de áudio - Clustering"
   ]
  },
  {
   "cell_type": "markdown",
   "metadata": {},
   "source": [
    "### Introdução:"
   ]
  },
  {
   "cell_type": "markdown",
   "metadata": {},
   "source": [
    "Você sabe como um microfone captura sons?\n",
    "\n",
    "Sons são basicamente perturbações no ar. Essas perturbações fazem com que o diafragma do microfone vibre, movendo uma bobina perto de um imã. Conforme a bobina se move para frente e para trás através do campo magnético, uma corrente elétrica flui através dela e isso é o que chega ao computador.\n",
    "\n",
    "Esse sinal elétrico analógico precisa ser transformado em um sinal digital para ser interpretado pelo computador, ou seja, o sinal contínuo é discretizado em diversos pontos ao longo da curva.\n",
    "\n",
    "<img src=\"imgs/sampling.png\" style=\"width: 400px\"/>\n",
    "\n",
    "Ao final desse processo temos apenas uma sequencia de números em relação ao tempo. Quanto mais bits temos para representar cada número, mais fiel conseguimos representar esse sinal analógico através de um sinal digital.\n",
    "\n",
    "<img src=\"imgs/1bit_sampling.png\" style=\"width: 400px\"/>\n",
    "<img src=\"imgs/2bits_sampling.png\" style=\"width: 400px\"/>\n",
    "<img src=\"imgs/4bits_sampling.png\" style=\"width: 400px\"/>\n",
    "<img src=\"imgs/8bits_sampling.png\" style=\"width: 400px\"/>"
   ]
  },
  {
   "cell_type": "markdown",
   "metadata": {},
   "source": [
    "### Proposta:\n",
    "Gravar um áudio com encoding de 8bits e clusterizar amplitudes próximas atribuindo a todas elas o valor do centróide do cluster (por exemplo [...,126,127,125,128,129,...] resultaria em [...,127,127,127,127,127,...]).\n",
    "\n",
    "Dessa forma se fossem definidos apenas 16 clusters, por exemplo, o sinal teria apenas 16 possibilidades de amplitude, deixando-o bem mais quadrado e com menos qualidade, porém com uma capacidade de compressão muito maior, já que são necessários menos bits para a representação dessas possibilidades."
   ]
  },
  {
   "cell_type": "markdown",
   "metadata": {},
   "source": [
    "### Instruções"
   ]
  },
  {
   "cell_type": "markdown",
   "metadata": {},
   "source": [
    "#### 1-) Baixe e instale o [Audacity](https://www.audacityteam.org/download/)\n",
    "#### 2-) Dentro do Audacity grave um áudio de alguns segundos, com a configuração \"1 (Mono) Recording Channel\".\n",
    "#### 3-) Clique em File > Export > Export Audio...\n",
    "#### 4-)  \n",
    "     - Save as type: Other uncompressed files\n",
    "     - Header: RAW (header-less)\n",
    "     - Encoding: Unsigned 8-bit PCM\n",
    "     - OBS: Salve no mesmo diretório/pasta que este notebook"
   ]
  },
  {
   "cell_type": "markdown",
   "metadata": {},
   "source": [
    "#### 5-) Lendo o áudio como uma sequencia números"
   ]
  },
  {
   "cell_type": "code",
   "execution_count": null,
   "metadata": {
    "scrolled": false
   },
   "outputs": [],
   "source": [
    "audio = []\n",
    "\n",
    "## Insira o nome do arquivo do áudio gravado como filename (atente-se ao .raw no final)\n",
    "filename = None\n",
    "\n",
    "with open(filename, \"rb\") as fp:\n",
    "    while True:\n",
    "        byte = fp.read(1)\n",
    "        if not byte:\n",
    "            break\n",
    "        audio.append(int.from_bytes(byte, \"big\"))"
   ]
  },
  {
   "cell_type": "code",
   "execution_count": null,
   "metadata": {},
   "outputs": [],
   "source": [
    "##############################################################\n",
    "#                       PREENCHA AQUI:                       #\n",
    "#  - Plote essa sequência de números (áudio)                 #\n",
    "#  - Sugestão: Redimensione a imagem com                     #\n",
    "#    f = plt.figure(figsize=(50,5)), para que forme uma onda #\n",
    "#    sonora nítida                                           #\n",
    "##############################################################"
   ]
  },
  {
   "cell_type": "markdown",
   "metadata": {},
   "source": [
    "#### 6-) Pré-processando os dados"
   ]
  },
  {
   "cell_type": "code",
   "execution_count": null,
   "metadata": {
    "scrolled": true
   },
   "outputs": [],
   "source": [
    "##############################################################\n",
    "#                       PREENCHA AQUI:                       #\n",
    "#  - Converta a lista para um numpy array.                   #\n",
    "#  - Quantas amostras e quantas features tem os dados?       #\n",
    "#  - Faça uma transformação nesse array para que os dados    # \n",
    "#    faça mais sentido (Dica: np.reshape).                   #\n",
    "#  - Escreva por que foi necessário fazer essa transformação #   \n",
    "##############################################################"
   ]
  },
  {
   "cell_type": "markdown",
   "metadata": {},
   "source": [
    "#### 6-) Clusterizando"
   ]
  },
  {
   "cell_type": "code",
   "execution_count": null,
   "metadata": {},
   "outputs": [],
   "source": [
    "kmeans = None\n",
    "labels = None\n",
    "centroids = None\n",
    "\n",
    "###############################################################\n",
    "#                       PREENCHA AQUI:                          #\n",
    "#  - Instancie um KMeans na variável kmeans passando o número   #   \n",
    "#    de clusters para o parâmetro n_clusters.                   #\n",
    "#  - Repare que quanto menor o número de clusters, mais         #\n",
    "#    quadrado será seu sinal.                                   #\n",
    "#  - Preveja o índice de cluster para cada dado retornando      #\n",
    "#    para a variável labels.                                    #\n",
    "#  - Obtenha os centroids (através do atributo cluster_centers_)#\n",
    "#    de kmeans retornando para a variável centroids.            #\n",
    "#################################################################"
   ]
  },
  {
   "cell_type": "markdown",
   "metadata": {},
   "source": [
    "#### 7-) Atribuindo cada ponto ao centróide do cluster e salvando o novo áudio"
   ]
  },
  {
   "cell_type": "code",
   "execution_count": null,
   "metadata": {},
   "outputs": [],
   "source": [
    "output = []\n",
    "for label in labels:\n",
    "    output.append(int(centroids[label]))\n",
    "\n",
    "out_file = open(\"output.raw\", 'wb')\n",
    "out_file.write(bytearray(output))"
   ]
  },
  {
   "cell_type": "markdown",
   "metadata": {},
   "source": [
    "#### 8-) Abra o áudio no Audacity e ouça a influencia da clusterização.\n",
    "        - File > Import > Raw Data...\n",
    "        - Encoding: Unsigned 8-bit PCM\n",
    "        - Byte order: Little-endian\n",
    "        - Channels: 1 Channel (Mono)"
   ]
  },
  {
   "cell_type": "markdown",
   "metadata": {},
   "source": [
    "#### 9) Mesmo com poucos clusters, o áudio ainda é audível?"
   ]
  },
  {
   "cell_type": "markdown",
   "metadata": {},
   "source": [
    "#### 10-) Compressão"
   ]
  },
  {
   "cell_type": "markdown",
   "metadata": {},
   "source": [
    "A princípio, independente do número de clusters utilizado, o output.raw sempre terá o mesmo tamanho que o audio original, afinal, possui sempre a mesma quantidade de números representados pelo mesmo número de bits (8).\n",
    "\n",
    "Porém, a capacidade de compressão aumenta quanto menos clusters temos. Com menos clusters precisamos representar menos números.\n",
    "\n",
    "No terminal do linux:\n",
    "\n",
    "    Instale o bzip2:\n",
    "        sudo apt install bzip2\n",
    "\n",
    "    Para ver o tamanho do arquivo após compressão, execute o seguinte comando:\n",
    "        bzip2 -c output.raw | wc -c\n",
    "        \n",
    "Repita esses passos para diferentes números de clusters e veja a relação com a capacidade de compressão.\n",
    "\n",
    "Para entender um pouco melhor o que está acontecendo, procure por: Burrows–Wheeler transform (algoritmo de compressão utilizado pelo bzip2)."
   ]
  },
  {
   "cell_type": "markdown",
   "metadata": {},
   "source": [
    "#### Referências:\n",
    "    \n",
    "- [ML4U (Rodrigo Mello)](https://www.youtube.com/watch?v=m09fYk0-zmA)\n",
    "- [Digital Audio: the real meaning of 8-bit music](https://medium.com/@harmonia.global/digital-audio-the-real-meaning-of-8-bit-music-1be5fc8ab2b1)"
   ]
  }
 ],
 "metadata": {
  "kernelspec": {
   "display_name": "Python 3",
   "language": "python",
   "name": "python3"
  },
  "language_info": {
   "codemirror_mode": {
    "name": "ipython",
    "version": 3
   },
   "file_extension": ".py",
   "mimetype": "text/x-python",
   "name": "python",
   "nbconvert_exporter": "python",
   "pygments_lexer": "ipython3",
   "version": "3.8.3"
  }
 },
 "nbformat": 4,
 "nbformat_minor": 4
}

{
 "cells": [
  {
   "cell_type": "markdown",
   "metadata": {},
   "source": [
    "# Detector de Spam\n",
    "Nesse exercício, faremos um detector de spam usando o classificador Naive Bayes\n",
    "\n",
    "Para isso, usaremos o dataset [\"SMS Spam Collection\"](https://archive.ics.uci.edu/ml/datasets/sms+spam+collection), que já está salvo no arquivo 'spam.csv'"
   ]
  },
  {
   "cell_type": "markdown",
   "metadata": {},
   "source": [
    "Primeiramente, execute a célula seguinte para ler o dataset e ver as suas primeiras linhas:"
   ]
  },
  {
   "cell_type": "code",
   "execution_count": 1,
   "metadata": {},
   "outputs": [
    {
     "data": {
      "text/html": [
       "<div>\n",
       "<style scoped>\n",
       "    .dataframe tbody tr th:only-of-type {\n",
       "        vertical-align: middle;\n",
       "    }\n",
       "\n",
       "    .dataframe tbody tr th {\n",
       "        vertical-align: top;\n",
       "    }\n",
       "\n",
       "    .dataframe thead th {\n",
       "        text-align: right;\n",
       "    }\n",
       "</style>\n",
       "<table border=\"1\" class=\"dataframe\">\n",
       "  <thead>\n",
       "    <tr style=\"text-align: right;\">\n",
       "      <th></th>\n",
       "      <th>class</th>\n",
       "      <th>contents</th>\n",
       "    </tr>\n",
       "  </thead>\n",
       "  <tbody>\n",
       "    <tr>\n",
       "      <th>0</th>\n",
       "      <td>ham</td>\n",
       "      <td>go until jurong point  crazy   available only ...</td>\n",
       "    </tr>\n",
       "    <tr>\n",
       "      <th>1</th>\n",
       "      <td>ham</td>\n",
       "      <td>ok lar    joking wif u oni</td>\n",
       "    </tr>\n",
       "    <tr>\n",
       "      <th>2</th>\n",
       "      <td>spam</td>\n",
       "      <td>free entry in 2 a wkly comp to win fa cup fina...</td>\n",
       "    </tr>\n",
       "    <tr>\n",
       "      <th>3</th>\n",
       "      <td>ham</td>\n",
       "      <td>u dun say so early hor    u c already then say</td>\n",
       "    </tr>\n",
       "    <tr>\n",
       "      <th>4</th>\n",
       "      <td>ham</td>\n",
       "      <td>nah i don't think he goes to usf  he lives aro...</td>\n",
       "    </tr>\n",
       "  </tbody>\n",
       "</table>\n",
       "</div>"
      ],
      "text/plain": [
       "  class                                           contents\n",
       "0   ham  go until jurong point  crazy   available only ...\n",
       "1   ham                      ok lar    joking wif u oni   \n",
       "2  spam  free entry in 2 a wkly comp to win fa cup fina...\n",
       "3   ham  u dun say so early hor    u c already then say   \n",
       "4   ham  nah i don't think he goes to usf  he lives aro..."
      ]
     },
     "execution_count": 1,
     "metadata": {},
     "output_type": "execute_result"
    }
   ],
   "source": [
    "import pandas as pd\n",
    "import numpy as np\n",
    "\n",
    "def preprocess(string):\n",
    "    string = string.lower()\n",
    "    for c in ['.', ',', '!', '?', '<', '>', '^', '~', ';', ':', '\"', '[', ']', '(', ')', '{', '}', '´', '`', '/', '\\\\', '|']:\n",
    "        string = string.replace(c, ' ')\n",
    "    return string\n",
    "\n",
    "df = pd.read_csv('spam.csv', encoding = 'latin-1')[['v1', 'v2']]\n",
    "df = df.rename(columns = {'v1':'class', 'v2' : 'contents'})\n",
    "df['contents'] = df['contents'].map(preprocess)\n",
    "\n",
    "df.head()"
   ]
  },
  {
   "cell_type": "markdown",
   "metadata": {},
   "source": [
    "Assim, vemos que a tabela possui duas colunas: _class_ e _contents_\n",
    " - A coluna _class_ indica se aquela mensagem foi marcada como spam (mensagens legítimas estão marcadas como \"ham\")\n",
    " - A coluna _contents_ possui o conteúdo da mensagem"
   ]
  },
  {
   "cell_type": "markdown",
   "metadata": {},
   "source": [
    "## Contagem de Palavras\n",
    "Para o classificador Naive Bayes, nós precisaremos estimar algumas probabilidades contando quantas vezes cada palavra aparece no dataset.\n",
    "\n",
    "Para isso, primeiramente precisamos saber quais são as palavras únicas e armazená-las em uma lista."
   ]
  },
  {
   "cell_type": "code",
   "execution_count": 2,
   "metadata": {},
   "outputs": [],
   "source": [
    "unique_words = []\n",
    "\n",
    "# Itera por cada mensagem do dataframe\n",
    "for message in df['contents']:\n",
    "    \n",
    "    \n",
    "    # Itera por cada palavra na mensagem atual\n",
    "    for word in message.split():\n",
    "        \n",
    "        ######################################################################################\n",
    "        # 1. Preencha essa célula para encontrar todas as palavras únicas \n",
    "        # Ao final, o vetor unique_words deve conter cada palavra do dataframe uma única vez\n",
    "        #\n",
    "        \n",
    "\n",
    "            \n",
    "        ######################################################################################\n",
    "            \n",
    "\n",
    "### Verificação de erros ###\n",
    "assert len(unique_words) == 9163, 'O vetor unique_words deveria ter exatamente 9163 itens'\n",
    "assert len(np.unique(unique_words)) == len(unique_words), 'O vetor unique_words não deveria possuir itens repetidos'"
   ]
  },
  {
   "cell_type": "markdown",
   "metadata": {},
   "source": [
    "Agora, usaremos um dicionário (_dict_) para contarmos quantas vezes cada palavra ocorre no dataset:"
   ]
  },
  {
   "cell_type": "code",
   "execution_count": 3,
   "metadata": {},
   "outputs": [],
   "source": [
    "# Inicializa o dicionário com 0 ocorrências para cada palavra\n",
    "word_counts = {word: 0 for word in unique_words}\n",
    "\n",
    "# Inicializa a contagem total de palavras\n",
    "total_words = 0\n",
    "\n",
    "\n",
    "\n",
    "# Itera por cada mensagem do dataframe\n",
    "for message in df['contents']:\n",
    "    \n",
    "    \n",
    "    # Itera por cada palavra na mensagem atual\n",
    "    for word in message.split():\n",
    "        \n",
    "        ######################################################################################\n",
    "        # 2. Preencha essa célula para encontrar o número de ocorrências de cada palavra\n",
    "        # Ao final:\n",
    "        # - word_counts deve conter o número de ocorrências de cada palavra (por exemplo, word_counts['sing'] = 4)\n",
    "        # - total_words deve conter o número total de ocorrências\n",
    "        \n",
    "\n",
    "        \n",
    "        ######################################################################################        \n",
    "        \n",
    "\n",
    "### Verificação de erros ###\n",
    "assert total_words == 87971, 'Existem 87971 ocorrências de palavras no dataset'\n",
    "assert np.sum(list(word_counts.values())) == total_words, 'O dicionário word_counts está com o número incorreto de ocorrências totais'\n",
    "assert word_counts['the'] == 1325, 'A palavra \"the\" ocorre 1325 vezes no dataset'"
   ]
  },
  {
   "cell_type": "markdown",
   "metadata": {},
   "source": [
    "Também precisaremos de contar quantas vezes cada palavra ocorre **em cada classe**:"
   ]
  },
  {
   "cell_type": "code",
   "execution_count": 4,
   "metadata": {},
   "outputs": [],
   "source": [
    "# Inicializa o dicionário e a contagem total de palavras entre as mensagens spam\n",
    "spam_word_counts = {word: 0 for word in unique_words}\n",
    "spam_total_words = 0\n",
    "\n",
    "# Inicializa o dicionário e a contagem total de palavras entre as mensagens ham\n",
    "ham_word_counts = {word: 0 for word in unique_words}\n",
    "ham_total_words = 0\n",
    "\n",
    "# Itera por cada mensagem do dataframe\n",
    "for i in range(len(df)):\n",
    "    \n",
    "    # Itera por cada palavra na mensagem atual\n",
    "    for word in df['contents'][i].split():\n",
    "        \n",
    "        ######################################################################################\n",
    "        # 3. Preencha essa célula para encontrar o número de ocorrências de cada palavra em cada classe\n",
    "        # Ao final:\n",
    "        # - spam_word_counts deve conter o número de ocorrências de cada palavra entre as mensagens spam\n",
    "        # - spam_total_words deve conter o número total de ocorrências entre as mensagens spam\n",
    "        # - ham_word_counts deve conter o número de ocorrências de cada palavra entre as mensagens ham\n",
    "        # - ham_total_words deve conter o número total de ocorrências entre as mensagens ham\n",
    "        #\n",
    "        # Para acessar a classificação da mensagem atual, basta usar o comando df['class'][i]\n",
    "        \n",
    "\n",
    "        \n",
    "        ######################################################################################    \n",
    "\n",
    "        \n",
    "### Verificação de erros ###\n",
    "assert spam_total_words == 18724, 'Existem 18724 ocorrências de palavras nas mensagens spam'\n",
    "assert ham_total_words == 69247, 'Existem 69247 ocorrências de palavras nas mensagens ham'\n",
    "assert np.sum(list(spam_word_counts.values())) == spam_total_words, 'O dicionário spam_word_counts está com o número incorreto de ocorrências totais'\n",
    "assert np.sum(list(ham_word_counts.values())) == ham_total_words, 'O dicionário ham_word_counts está com o número incorreto de ocorrências totais'\n",
    "assert np.all([(spam_word_counts[i] + ham_word_counts[i]) == word_counts[i] for i in unique_words]), 'A soma dos valores nos dicionários ham_word_counts e spam_word_counts não está consistente com a contagem total em word_counts'"
   ]
  },
  {
   "cell_type": "markdown",
   "metadata": {},
   "source": [
    "## Classificador de uma palavra\n",
    "\n",
    "Com essas contagens, já podemos criar um classificador de spam de uma única palavra, usando o Teorema de Bayes:\n",
    "\n",
    "$$P(\\text{spam} | \\text{palavra}) = \\frac{P(\\text{palavra} | \\text{spam}) P(\\text{spam})}{P(\\text{palavra})}$$\n",
    "\n",
    "Vamos estimar cada termo no lado direito da equação:"
   ]
  },
  {
   "cell_type": "markdown",
   "metadata": {},
   "source": [
    "### 1. Prior $P(\\text{spam})$\n",
    "\n",
    "Essa é a probabilidade de uma mensagem ser spam independente do conteúdo, o que corresponde à porcentagem de mensagens total que é spam:"
   ]
  },
  {
   "cell_type": "code",
   "execution_count": 5,
   "metadata": {},
   "outputs": [],
   "source": [
    "P_spam = 0\n",
    "P_ham = 0\n",
    "\n",
    "######################################################################################\n",
    "# 4. Preencha essa célula para encontrar a porcentagem total de palavras de cada tipo\n",
    "# Ao final:\n",
    "# - P_spam deve conter a porcentagem de palavras do tipo spam\n",
    "# - P_ham deve conter a porcentagem de palavras do tipo ham\n",
    "#\n",
    "# As variáveis de contagem de palavras (total_words, spam_total_words, ham_total_words) podem ser úteis\n",
    "\n",
    "\n",
    "\n",
    "######################################################################################\n",
    "\n",
    "\n",
    "### Verificação de erros ###\n",
    "assert P_spam == 0.21284286867263075, 'Porcentagem incorreta de mensagens do tipo spam'\n",
    "assert P_ham == 0.7871571313273692, 'Porcentagem incorreta de mensagens do tipo ham'"
   ]
  },
  {
   "cell_type": "markdown",
   "metadata": {},
   "source": [
    "### 2. Verossimilhança ou _Likelihood_  $P(\\text{palavra} | \\text{spam})$\n",
    "\n",
    "Essa é a probabilidade de uma palavra ocorrer **sabendo** a classificação dela. Pra isso, vamos usar as contagens de palavras pra cada classe:"
   ]
  },
  {
   "cell_type": "code",
   "execution_count": 6,
   "metadata": {},
   "outputs": [],
   "source": [
    "# Função para encontrar P(word | label)\n",
    "# Argumentos:\n",
    "# - word: string, uma única palavra do dataset\n",
    "# - label: string, \"spam\" ou \"ham\"\n",
    "\n",
    "def Word_Likelihood(word, label):\n",
    "    \n",
    "    \n",
    "    \n",
    "    ######################################################################################\n",
    "    # 5. Preencha essa função para encontrar P(word | label)\n",
    "    #\n",
    "    # Para isso, use o argumento label que foi passado para decidir qual porcentagem retornar\n",
    "    # Para calcular as porcentagens, essas variáveis já calculadas podemo ser úteis:\n",
    "    #  - spam_word_counts e total_spam_words\n",
    "    #  - ham_word_counts e total_ham_words\n",
    "\n",
    "    \n",
    "    \n",
    "    ######################################################################################\n",
    "    \n",
    "    \n",
    "### Verificação de erros ###\n",
    "assert np.all(np.abs((pd.Series(unique_words).map(lambda w: Word_Likelihood(w, 'spam')) * spam_total_words - pd.Series(unique_words).map(lambda w: spam_word_counts[w]))) < 1e-8), 'Função retornando valores incorretos quando label = \"spam\"'\n",
    "assert np.all(np.abs((pd.Series(unique_words).map(lambda w: Word_Likelihood(w, 'ham')) * spam_total_words - pd.Series(unique_words).map(lambda w: ham_word_counts[w]))) < 1e-8), 'Função retornando valores incorretos quando label = \"ham\"'"
   ]
  },
  {
   "cell_type": "markdown",
   "metadata": {},
   "source": [
    "### 3. Marginal $P(\\text{palavra})$\n",
    "\n",
    "Essa é a probabilidade de uma palavra aparecer independente da classificação, o que podemos encontrar usando a ocorrência das palavras:"
   ]
  },
  {
   "cell_type": "code",
   "execution_count": 7,
   "metadata": {},
   "outputs": [],
   "source": [
    "# Função para encontrar P(word)\n",
    "# Argumentos:\n",
    "# - word: string, uma única palavra do dataset\n",
    "\n",
    "def Word_Marginal(word):\n",
    "    \n",
    "    ######################################################################################\n",
    "    # 6. Preencha essa função para encontrar P(word)\n",
    "    #\n",
    "    # As variáveis word_counts e total_words podem ser úteis:\n",
    "    \n",
    "\n",
    "\n",
    "    ######################################################################################\n",
    "    \n",
    "\n",
    "### Verificação de erros ###\n",
    "assert np.all(np.abs((pd.Series(unique_words).map(lambda w: Word_Marginal(w)) * total_words - pd.Series(unique_words).map(lambda w: word_counts[w]))) < 1e-8), 'Função retornando valores incorretos'"
   ]
  },
  {
   "cell_type": "markdown",
   "metadata": {},
   "source": [
    "### Classificando\n",
    "Agora, podemos usar os três valores calculados para encontrar a probabilidade de uma palavra ser spam:"
   ]
  },
  {
   "cell_type": "code",
   "execution_count": 8,
   "metadata": {},
   "outputs": [],
   "source": [
    "# Função para encontrar P(spam | word), retorna a probabilidade de uma palavra ser spam\n",
    "# Argumentos:\n",
    "# - word: string, uma única palavra do dataset\n",
    "\n",
    "def word_is_spam(word):\n",
    "    \n",
    "    ######################################################################################\n",
    "    # 7. Preencha essa função para encontrar P(spam | word)\n",
    "    #\n",
    "    # Use as variáveis calculadas até agora (P_spam, Word_Likelihood e Word_Marginal) junto com o Teorema de Bayes\n",
    "    \n",
    "    \n",
    "    \n",
    "    ######################################################################################\n",
    "\n",
    "\n",
    "### Verificação de erros ###\n",
    "assert np.all(np.abs((pd.Series(unique_words).map(lambda w: word_is_spam(w)) * pd.Series(unique_words).map(lambda w: Word_Marginal(w)) - P_spam * pd.Series(unique_words).map(lambda w: Word_Likelihood(w,'spam')))) < 1e-8), 'Função retornando valores incorretos'"
   ]
  },
  {
   "cell_type": "markdown",
   "metadata": {},
   "source": [
    "Podemos agora ver a probabilidade de cada palavra ser de uma mensagem spam:"
   ]
  },
  {
   "cell_type": "code",
   "execution_count": 9,
   "metadata": {},
   "outputs": [
    {
     "data": {
      "text/plain": [
       "0.7870036101083033"
      ]
     },
     "execution_count": 9,
     "metadata": {},
     "output_type": "execute_result"
    }
   ],
   "source": [
    "word_is_spam('free')"
   ]
  },
  {
   "cell_type": "code",
   "execution_count": 10,
   "metadata": {},
   "outputs": [
    {
     "data": {
      "text/plain": [
       "0.23404255319148937"
      ]
     },
     "execution_count": 10,
     "metadata": {},
     "output_type": "execute_result"
    }
   ],
   "source": [
    "word_is_spam('friend')"
   ]
  },
  {
   "cell_type": "markdown",
   "metadata": {},
   "source": [
    "# Classificador Naive Bayes para textos inteiros\n",
    "Se quisermos classificar textos inteiros em vez de apenas palavras únicas, podemos usar a suposição de independência condicional:\n",
    "\n",
    "$$P(\\text{texto} | \\text{spam}) = P(\\text{palavra 1} | \\text{spam}) \\cdot P(\\text{palavra 2} | \\text{spam}) \\ldots $$\n",
    "\n",
    "Para isso, nós iremos usar a biblioteca Scikit-Learn, que já tem o classificador Naive Bayes implementado."
   ]
  },
  {
   "cell_type": "markdown",
   "metadata": {},
   "source": [
    "Primeiramente, precisamos passar os dados de entrada para o formato esperado pela biblioteca. No caso do Naive Bayes, é necessário usar um formato de onde cada coluna representa o número de ocorrências de uma palavra em cada mensagem. Para esse passo de preprocessamento, podemos usar o CountVectorizer, já implementado na biblioteca (se precisar de ajuda, use o [guia do usuário](https://scikit-learn.org/stable/modules/feature_extraction.html#text-feature-extraction) ou a [documentação](https://scikit-learn.org/stable/modules/generated/sklearn.feature_extraction.text.CountVectorizer.html?highlight=countvectorizer#sklearn.feature_extraction.text.CountVectorizer)."
   ]
  },
  {
   "cell_type": "code",
   "execution_count": 11,
   "metadata": {},
   "outputs": [],
   "source": [
    "from sklearn.feature_extraction.text import CountVectorizer\n",
    "\n",
    "vectorizer = CountVectorizer()\n",
    "X = None\n",
    "\n",
    "######################################################################################\n",
    "# 8. Armazene a tabela de contagem de ocorrências das palavras na variável X\n",
    "# \n",
    "# Para isso, use o objeto vectorizer na coluna 'contents' do dataframe.\n",
    "\n",
    "\n",
    "\n",
    "######################################################################################\n",
    "\n",
    "\n",
    "\n",
    "### Verificação de erros ###\n",
    "assert np.sum(2*X - CountVectorizer().fit_transform(df.contents)) == np.sum(X) , \"Erro no preprocessamento dos dados\""
   ]
  },
  {
   "cell_type": "markdown",
   "metadata": {},
   "source": [
    "Também é necessário transformar a coluna de classes em valores numéricos (1 representando spam e 0 representando não spam). Para isso, podemos usar o LabelEncoder, também da Scikit Learn ([documentação](https://scikit-learn.org/stable/modules/generated/sklearn.preprocessing.LabelEncoder.html) e [guia do usuário](https://scikit-learn.org/stable/modules/preprocessing_targets.html#preprocessing-targets))"
   ]
  },
  {
   "cell_type": "code",
   "execution_count": 12,
   "metadata": {},
   "outputs": [],
   "source": [
    "from sklearn.preprocessing import LabelEncoder\n",
    "y = None\n",
    "\n",
    "######################################################################################\n",
    "# 9. Armazene as saídas esperadas (spam ou não spam) como valores numéricos na variável y\n",
    "# \n",
    "# Para isso, aplique a função LabelEncoder na coluna 'class' do dataframe.\n",
    "\n",
    "\n",
    "\n",
    "######################################################################################\n",
    "\n",
    "\n",
    "assert np.sum(y - (df['class'] == 'spam')) == 0, \"Erro na codificação das labels\""
   ]
  },
  {
   "cell_type": "markdown",
   "metadata": {},
   "source": [
    "Além disso, é muito importante separarmos um conjunto de teste para poder avaliarmos nosso modelo depois. No nosso caso, criaremos uma divisão com 20% dos dados para teste usando a função train_test_split ([documentação](https://scikit-learn.org/stable/modules/generated/sklearn.model_selection.train_test_split.html)):"
   ]
  },
  {
   "cell_type": "code",
   "execution_count": 13,
   "metadata": {},
   "outputs": [],
   "source": [
    "from sklearn.model_selection import train_test_split\n",
    "X_train, X_test, y_train, y_test = None, None, None, None\n",
    "\n",
    "######################################################################################\n",
    "# 10. Separe as variáveis X e y em dados de treino e teste, armazenando os resultados nas variáveis acima\n",
    "# \n",
    "# Para isso, aplique a função train_test_split nas variáveis X e y\n",
    "# Além disso, use o random_state = 42 para permitir a reprodutibilidade\n",
    "\n",
    "\n",
    "\n",
    "######################################################################################\n",
    "\n",
    "\n",
    "assert X.shape[1] == X_train.shape[1] == X_test.shape[1], 'Erro na separação dos conjuntos'\n",
    "assert X.shape[0] == X_train.shape[0] + X_test.shape[0], 'Erro na separação dos conjuntos'\n",
    "assert y.shape[0] == y_train.shape[0] + y_test.shape[0], 'Erro na separação dos conjuntos'\n",
    "assert y_train.shape[0] == X_train.shape[0] == 4457, 'Erro na proporção de separação: apenas 20% dos dados devem ser de teste'"
   ]
  },
  {
   "cell_type": "markdown",
   "metadata": {},
   "source": [
    "Agora, usaremos a função MultinomialNB ([documentação](https://scikit-learn.org/stable/modules/generated/sklearn.naive_bayes.MultinomialNB.html)) para treinar um modelo Naive Bayes no conjunto de teste:"
   ]
  },
  {
   "cell_type": "code",
   "execution_count": 14,
   "metadata": {},
   "outputs": [],
   "source": [
    "from sklearn.naive_bayes import MultinomialNB\n",
    "model = None\n",
    "\n",
    "######################################################################################\n",
    "# 11. Treine um modelo Naive Bayes nos dados de teste\n",
    "# IMPORTANTE: não use os dados de teste nessa célula, apenas os de treino\n",
    "\n",
    "\n",
    "\n",
    "######################################################################################"
   ]
  },
  {
   "cell_type": "markdown",
   "metadata": {},
   "source": [
    "Por fim, podemos calcular a acurácia do modelo nos dados de teste (se tudo ocorreu bem, o valor deve estar acima de 97%):"
   ]
  },
  {
   "cell_type": "code",
   "execution_count": 15,
   "metadata": {},
   "outputs": [
    {
     "name": "stdout",
     "output_type": "stream",
     "text": [
      "Acurácia: 97.85%\n"
     ]
    }
   ],
   "source": [
    "from sklearn.metrics import accuracy_score\n",
    "print('Acurácia: %.2lf%%' % (accuracy_score(y_test, model.predict(X_test))*100))"
   ]
  },
  {
   "cell_type": "markdown",
   "metadata": {},
   "source": [
    "Para testar o modelo em textos, basta usar o mesmo vetorizador na entrada que usamos no preprocessamento, como na função abaixo:"
   ]
  },
  {
   "cell_type": "code",
   "execution_count": 16,
   "metadata": {},
   "outputs": [],
   "source": [
    "def pred(message):\n",
    "    message = preprocess(message)\n",
    "    inputs = vectorizer.transform([message])\n",
    "    prob = model.predict_proba(inputs)\n",
    "    print('spam probability: %.2f %%' % (100*prob[0][1],))"
   ]
  },
  {
   "cell_type": "code",
   "execution_count": 17,
   "metadata": {},
   "outputs": [
    {
     "name": "stdout",
     "output_type": "stream",
     "text": [
      "spam probability: 36.17 %\n"
     ]
    }
   ],
   "source": [
    "message = 'is this message spam?'\n",
    "pred(message)"
   ]
  },
  {
   "cell_type": "code",
   "execution_count": 18,
   "metadata": {},
   "outputs": [
    {
     "name": "stdout",
     "output_type": "stream",
     "text": [
      "spam probability: 77.79 %\n"
     ]
    }
   ],
   "source": [
    "message = 'get an iphone for free now'\n",
    "pred(message)"
   ]
  }
 ],
 "metadata": {
  "kernelspec": {
   "display_name": "Python 3",
   "language": "python",
   "name": "python3"
  },
  "language_info": {
   "codemirror_mode": {
    "name": "ipython",
    "version": 3
   },
   "file_extension": ".py",
   "mimetype": "text/x-python",
   "name": "python",
   "nbconvert_exporter": "python",
   "pygments_lexer": "ipython3",
   "version": "3.8.5"
  }
 },
 "nbformat": 4,
 "nbformat_minor": 4
}
